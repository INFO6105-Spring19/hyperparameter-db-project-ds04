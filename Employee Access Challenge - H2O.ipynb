{
 "cells": [
  {
   "cell_type": "markdown",
   "metadata": {},
   "source": [
    "# Abstract"
   ]
  },
  {
   "cell_type": "code",
   "execution_count": 1,
   "metadata": {},
   "outputs": [],
   "source": [
    "#importing libraries\n",
    "import h2o\n",
    "from h2o.automl import H2OAutoML\n",
    "import random, os, sys\n",
    "from datetime import datetime\n",
    "import pandas as pd\n",
    "import logging\n",
    "import csv\n",
    "import optparse\n",
    "import time\n",
    "import json\n",
    "from distutils.util import strtobool\n",
    "import psutil\n",
    "import pandas as pd\n",
    "import warnings\n",
    "warnings.filterwarnings('ignore')"
   ]
  },
  {
   "cell_type": "code",
   "execution_count": 2,
   "metadata": {},
   "outputs": [],
   "source": [
    "data_path=None\n",
    "all_variables=None\n",
    "test_path=None\n",
    "# target='search_term'\n",
    "target=None\n",
    "nthreads=1                        # Number of parallel threads used to run Algorithms\n",
    "min_mem_size=6 \n",
    "classification= True\n",
    "scale=False\n",
    "max_models=None    \n",
    "model_path=None\n",
    "balance_y=False \n",
    "balance_threshold=0.2             \n",
    "name=None \n",
    "server_path=None  \n",
    "analysis=0 "
   ]
  },
  {
   "cell_type": "markdown",
   "metadata": {},
   "source": [
    "When enabled, H2O will either undersample the majority classes or oversample the minority classes. Note that the resulting model will also correct the final probabilities (“undo the sampling”) using a monotonic transform, so the predicted probabilities of the first model will differ from a second model. However, because AUC only cares about ordering, it won’t be affected."
   ]
  },
  {
   "cell_type": "code",
   "execution_count": 3,
   "metadata": {},
   "outputs": [],
   "source": [
    "data_path='C:/Users/hp/Desktop/Data Science Hyperparameter Project/Employee_access_data.csv'"
   ]
  },
  {
   "cell_type": "markdown",
   "metadata": {},
   "source": [
    "### Data Cleaning"
   ]
  },
  {
   "cell_type": "code",
   "execution_count": 4,
   "metadata": {},
   "outputs": [],
   "source": [
    "import pandas as pd\n",
    "data= pd.read_csv(\"Employee_access_data.csv\", decimal = ',')"
   ]
  },
  {
   "cell_type": "code",
   "execution_count": 5,
   "metadata": {},
   "outputs": [
    {
     "data": {
      "text/plain": [
       "ACTION              int64\n",
       "RESOURCE            int64\n",
       "MGR_ID              int64\n",
       "ROLE_ROLLUP_1       int64\n",
       "ROLE_ROLLUP_2       int64\n",
       "ROLE_DEPTNAME       int64\n",
       "ROLE_TITLE          int64\n",
       "ROLE_FAMILY_DESC    int64\n",
       "ROLE_FAMILY         int64\n",
       "ROLE_CODE           int64\n",
       "dtype: object"
      ]
     },
     "execution_count": 5,
     "metadata": {},
     "output_type": "execute_result"
    }
   ],
   "source": [
    "data.dtypes"
   ]
  },
  {
   "cell_type": "markdown",
   "metadata": {},
   "source": [
    "**Checking for the Null values**"
   ]
  },
  {
   "cell_type": "code",
   "execution_count": 6,
   "metadata": {},
   "outputs": [
    {
     "data": {
      "text/html": [
       "<div>\n",
       "<style scoped>\n",
       "    .dataframe tbody tr th:only-of-type {\n",
       "        vertical-align: middle;\n",
       "    }\n",
       "\n",
       "    .dataframe tbody tr th {\n",
       "        vertical-align: top;\n",
       "    }\n",
       "\n",
       "    .dataframe thead th {\n",
       "        text-align: right;\n",
       "    }\n",
       "</style>\n",
       "<table border=\"1\" class=\"dataframe\">\n",
       "  <thead>\n",
       "    <tr style=\"text-align: right;\">\n",
       "      <th></th>\n",
       "      <th>total_missing</th>\n",
       "      <th>percent</th>\n",
       "    </tr>\n",
       "  </thead>\n",
       "  <tbody>\n",
       "  </tbody>\n",
       "</table>\n",
       "</div>"
      ],
      "text/plain": [
       "Empty DataFrame\n",
       "Columns: [total_missing, percent]\n",
       "Index: []"
      ]
     },
     "execution_count": 6,
     "metadata": {},
     "output_type": "execute_result"
    }
   ],
   "source": [
    "total = data.isnull().sum()[data.isnull().sum() != 0].sort_values(ascending = False)\n",
    "percent = pd.Series(round(total/len(data)*100,2))\n",
    "pd.concat([total, percent], axis=1, keys=['total_missing', 'percent'])"
   ]
  },
  {
   "cell_type": "markdown",
   "metadata": {},
   "source": [
    "No null values"
   ]
  },
  {
   "cell_type": "markdown",
   "metadata": {},
   "source": [
    "### RUNTIME"
   ]
  },
  {
   "cell_type": "markdown",
   "metadata": {},
   "source": [
    "300, 500, 700, 1000, 1200"
   ]
  },
  {
   "cell_type": "code",
   "execution_count": 7,
   "metadata": {},
   "outputs": [],
   "source": [
    "run_time= 1200"
   ]
  },
  {
   "cell_type": "code",
   "execution_count": 8,
   "metadata": {},
   "outputs": [
    {
     "name": "stdout",
     "output_type": "stream",
     "text": [
      "2 GB\n"
     ]
    }
   ],
   "source": [
    "pct_memory=0.5\n",
    "virtual_memory=psutil.virtual_memory()\n",
    "min_mem_size=int(round(int(pct_memory*virtual_memory.available)/1073741824,0))\n",
    "print(min_mem_size, \"GB\")"
   ]
  },
  {
   "cell_type": "code",
   "execution_count": 9,
   "metadata": {},
   "outputs": [],
   "source": [
    "#Defining functions\n",
    "\n",
    "#generating random run_id\n",
    "def alphabet(n):\n",
    "  alpha='0123456789abcdefghijklmnopqrstuvwxyzABCDEFGHIJKLMNOPQRSTUVWXYZ'    \n",
    "  str=''\n",
    "  r=len(alpha)-1   \n",
    "  while len(str)<n:\n",
    "    i=random.randint(0,r)\n",
    "    str+=alpha[i]   \n",
    "  return str\n",
    "\n",
    "# storing in m_data dictionary  \n",
    "def set_meta_data(analysis,run_id,server,data,model_path,run_time,scale,model,balance,balance_threshold,name,path,nthreads,min_mem_size):\n",
    "  m_data={}\n",
    "  # m_data['target']=target\n",
    "  #m_data['classification']=classification\n",
    "  m_data['project'] =name\n",
    "  m_data['run_time']=run_time\n",
    "  m_data['run_id'] =run_id\n",
    "  m_data['start_time_sec'] = time.time()\n",
    "  m_data['min_mem_size'] = min_mem_size\n",
    "  m_data['balance']=balance\n",
    "  m_data['balance_threshold']=balance_threshold \n",
    "  m_data['max_models']=model\n",
    "  m_data['scale']=scale  \n",
    "  m_data['scale']=False\n",
    "  m_data['model_path']=model_path\n",
    "  m_data['server_path']=server\n",
    "  m_data['data_path']=data \n",
    "  m_data['run_path'] =path\n",
    "  m_data['nthreads'] = nthreads\n",
    "  \n",
    "  m_data['analysis'] = analysis\n",
    "  m_data['end_time_sec'] = time.time()  \n",
    "  return m_data\n",
    "\n",
    "#converting dictionary to json\n",
    "def dict_to_json(dct,n):\n",
    "  j = json.dumps(dct, indent=4)\n",
    "  f = open(n, 'w')\n",
    "  print(j, file=f)\n",
    "  f.close()\n",
    "    \n",
    "def get_all_variables_csv(i):\n",
    "    ivd={}\n",
    "    try:\n",
    "      iv = pd.read_csv(i,header=None)\n",
    "    except:\n",
    "      sys.exit(1)    \n",
    "    col=iv.values.tolist()[0]\n",
    "    dt=iv.values.tolist()[1]\n",
    "    i=0\n",
    "    for c in col:\n",
    "      ivd[c.strip()]=dt[i].strip()\n",
    "      i+=1        \n",
    "    return ivd\n",
    "    \n",
    "# Segregating in different lists of int, enum, reals and checking for missing values and then scaling(standardizing)    \n",
    "def impute_missing_values(df, x, scal=False):\n",
    "    # determine column types\n",
    "    ints, reals, enums = [], [], []\n",
    "    for key, val in df.types.items():\n",
    "        if key in x:\n",
    "            if val == 'enum':\n",
    "                enums.append(key)\n",
    "            elif val == 'int':\n",
    "                ints.append(key)            \n",
    "            else: \n",
    "                reals.append(key)    \n",
    "    _ = df[reals].impute(method='mean')\n",
    "    _ = df[ints].impute(method='median')\n",
    "    if scal:\n",
    "        df[reals] = df[reals].scale()\n",
    "        df[ints] = df[ints].scale()    \n",
    "    return\n",
    "\n",
    "# Determining Independent variables (X) from the dataset \n",
    "def get_independent_variables(df, targ):\n",
    "    C = [name for name in df.columns if name != targ]\n",
    "    # determine column types\n",
    "    ints, reals, enums = [], [], []\n",
    "    for key, val in df.types.items():\n",
    "        if key in C:\n",
    "            if val == 'enum':\n",
    "                enums.append(key)\n",
    "            elif val == 'int':\n",
    "                ints.append(key)            \n",
    "            else: \n",
    "                reals.append(key)    \n",
    "    x=ints+enums+reals\n",
    "    return x\n",
    "\n",
    "#Checkinh if X does not exist then remove\n",
    "def check_X(x,df):\n",
    "    for name in x:\n",
    "        if name not in df.columns:\n",
    "          x.remove(name)  \n",
    "    return x    \n",
    "    "
   ]
  },
  {
   "cell_type": "markdown",
   "metadata": {},
   "source": [
    "### RUN_ID"
   ]
  },
  {
   "cell_type": "code",
   "execution_count": 10,
   "metadata": {},
   "outputs": [
    {
     "name": "stdout",
     "output_type": "stream",
     "text": [
      "kfOyShRCX\n"
     ]
    }
   ],
   "source": [
    "#randomly generating run_id through alphabet function\n",
    "run_id=alphabet(9)\n",
    "if server_path==None:\n",
    "    server_path=os.path.abspath(os.curdir)\n",
    "os.chdir(server_path) \n",
    "a = run_id + '_EmpAccess_' + str(run_time)\n",
    "run_dir = os.path.join(server_path,a)\n",
    "os.mkdir(run_dir)\n",
    "os.chdir(run_dir)    \n",
    "\n",
    "# run_id to std out\n",
    "print (run_id) "
   ]
  },
  {
   "cell_type": "code",
   "execution_count": 11,
   "metadata": {},
   "outputs": [],
   "source": [
    "# # Creating a log file\n",
    "# logfile=run_id+'_autoh2o_log.zip'\n",
    "# logs_path=os.path.join(run_dir,'logs')\n",
    "# print(logs_path,' ',logfile)"
   ]
  },
  {
   "cell_type": "code",
   "execution_count": 12,
   "metadata": {},
   "outputs": [
    {
     "data": {
      "text/plain": [
       "'kfOyShRCX_EmpAccess_1200'"
      ]
     },
     "execution_count": 12,
     "metadata": {},
     "output_type": "execute_result"
    }
   ],
   "source": [
    "name = run_id+'_EmpAccess_' + str(run_time)\n",
    "name"
   ]
  },
  {
   "cell_type": "code",
   "execution_count": 13,
   "metadata": {},
   "outputs": [
    {
     "name": "stdout",
     "output_type": "stream",
     "text": [
      "{'project': 'kfOyShRCX_EmpAccess_1200', 'run_time': 1200, 'run_id': 'kfOyShRCX', 'start_time_sec': 1555603544.8401034, 'min_mem_size': 2, 'balance': False, 'balance_threshold': 0.2, 'max_models': None, 'scale': False, 'model_path': None, 'server_path': 'C:\\\\Users\\\\hp\\\\Desktop\\\\Data Science Hyperparameter Project', 'data_path': 'C:/Users/hp/Desktop/Data Science Hyperparameter Project/Employee_access_data.csv', 'run_path': 'C:\\\\Users\\\\hp\\\\Desktop\\\\Data Science Hyperparameter Project\\\\kfOyShRCX_EmpAccess_1200', 'nthreads': 1, 'analysis': 0, 'end_time_sec': 1555603544.8401034}\n"
     ]
    }
   ],
   "source": [
    "# meta data\n",
    "meta_data = set_meta_data(analysis, run_id,server_path,data_path,model_path,run_time,scale,max_models,balance_y,balance_threshold,name,run_dir,nthreads,min_mem_size)\n",
    "print(meta_data)  "
   ]
  },
  {
   "cell_type": "code",
   "execution_count": 14,
   "metadata": {},
   "outputs": [
    {
     "name": "stdout",
     "output_type": "stream",
     "text": [
      "Problem Type:  Classification\n"
     ]
    }
   ],
   "source": [
    "if classification :\n",
    "    meta_data[\"Problem_type\"] = \"Classification\"\n",
    "    print(\"Problem Type:  Classification\")\n",
    "else:\n",
    "    meta_data[\"Problem_type\"] = \"Regression\"\n",
    "    print(\"Problem Type:  Regression\")"
   ]
  },
  {
   "cell_type": "code",
   "execution_count": 15,
   "metadata": {
    "scrolled": true
   },
   "outputs": [
    {
     "name": "stdout",
     "output_type": "stream",
     "text": [
      "Checking whether there is an H2O instance running at http://localhost:23039 ..... not found.\n",
      "Attempting to start a local H2O server...\n",
      "; Java HotSpot(TM) 64-Bit Server VM 18.9 (build 11.0.2+9-LTS, mixed mode)\n",
      "  Starting server from C:\\Users\\hp\\Anaconda3\\lib\\site-packages\\h2o\\backend\\bin\\h2o.jar\n",
      "  Ice root: C:\\Users\\hp\\AppData\\Local\\Temp\\tmpdrwff5a4\n",
      "  JVM stdout: C:\\Users\\hp\\AppData\\Local\\Temp\\tmpdrwff5a4\\h2o_hp_started_from_python.out\n",
      "  JVM stderr: C:\\Users\\hp\\AppData\\Local\\Temp\\tmpdrwff5a4\\h2o_hp_started_from_python.err\n",
      "  Server is running at http://127.0.0.1:23039\n",
      "Connecting to H2O server at http://127.0.0.1:23039 ... successful.\n"
     ]
    },
    {
     "data": {
      "text/html": [
       "<div style=\"overflow:auto\"><table style=\"width:50%\"><tr><td>H2O cluster uptime:</td>\n",
       "<td>09 secs</td></tr>\n",
       "<tr><td>H2O cluster timezone:</td>\n",
       "<td>America/New_York</td></tr>\n",
       "<tr><td>H2O data parsing timezone:</td>\n",
       "<td>UTC</td></tr>\n",
       "<tr><td>H2O cluster version:</td>\n",
       "<td>3.24.0.1</td></tr>\n",
       "<tr><td>H2O cluster version age:</td>\n",
       "<td>17 days </td></tr>\n",
       "<tr><td>H2O cluster name:</td>\n",
       "<td>H2O_from_python_hp_mgt949</td></tr>\n",
       "<tr><td>H2O cluster total nodes:</td>\n",
       "<td>1</td></tr>\n",
       "<tr><td>H2O cluster free memory:</td>\n",
       "<td>2 Gb</td></tr>\n",
       "<tr><td>H2O cluster total cores:</td>\n",
       "<td>4</td></tr>\n",
       "<tr><td>H2O cluster allowed cores:</td>\n",
       "<td>4</td></tr>\n",
       "<tr><td>H2O cluster status:</td>\n",
       "<td>accepting new members, healthy</td></tr>\n",
       "<tr><td>H2O connection url:</td>\n",
       "<td>http://127.0.0.1:23039</td></tr>\n",
       "<tr><td>H2O connection proxy:</td>\n",
       "<td>None</td></tr>\n",
       "<tr><td>H2O internal security:</td>\n",
       "<td>False</td></tr>\n",
       "<tr><td>H2O API Extensions:</td>\n",
       "<td>Amazon S3, Algos, AutoML, Core V3, Core V4</td></tr>\n",
       "<tr><td>Python version:</td>\n",
       "<td>3.7.1 final</td></tr></table></div>"
      ],
      "text/plain": [
       "--------------------------  ------------------------------------------\n",
       "H2O cluster uptime:         09 secs\n",
       "H2O cluster timezone:       America/New_York\n",
       "H2O data parsing timezone:  UTC\n",
       "H2O cluster version:        3.24.0.1\n",
       "H2O cluster version age:    17 days\n",
       "H2O cluster name:           H2O_from_python_hp_mgt949\n",
       "H2O cluster total nodes:    1\n",
       "H2O cluster free memory:    2 Gb\n",
       "H2O cluster total cores:    4\n",
       "H2O cluster allowed cores:  4\n",
       "H2O cluster status:         accepting new members, healthy\n",
       "H2O connection url:         http://127.0.0.1:23039\n",
       "H2O connection proxy:\n",
       "H2O internal security:      False\n",
       "H2O API Extensions:         Amazon S3, Algos, AutoML, Core V3, Core V4\n",
       "Python version:             3.7.1 final\n",
       "--------------------------  ------------------------------------------"
      ]
     },
     "metadata": {},
     "output_type": "display_data"
    }
   ],
   "source": [
    "# 65535 Highest port no\n",
    "port_no=random.randint(5555,55555)\n",
    "\n",
    "#initializing H2O\n",
    "h2o.init(strict_version_check=False,min_mem_size_GB=min_mem_size,port=port_no)"
   ]
  },
  {
   "cell_type": "code",
   "execution_count": 16,
   "metadata": {},
   "outputs": [
    {
     "name": "stdout",
     "output_type": "stream",
     "text": [
      "C:/Users/hp/Desktop/Data Science Hyperparameter Project/Employee_access_data.csv\n"
     ]
    }
   ],
   "source": [
    "print(data_path)              #path of csv "
   ]
  },
  {
   "cell_type": "code",
   "execution_count": 17,
   "metadata": {},
   "outputs": [
    {
     "name": "stdout",
     "output_type": "stream",
     "text": [
      "Parse progress: |█████████████████████████████████████████████████████████| 100%\n"
     ]
    }
   ],
   "source": [
    "#importing data file on h2o server\n",
    "df = h2o.import_file(data_path)"
   ]
  },
  {
   "cell_type": "code",
   "execution_count": 18,
   "metadata": {},
   "outputs": [
    {
     "data": {
      "text/html": [
       "<table>\n",
       "<thead>\n",
       "<tr><th style=\"text-align: right;\">  ACTION</th><th style=\"text-align: right;\">  RESOURCE</th><th style=\"text-align: right;\">  MGR_ID</th><th style=\"text-align: right;\">  ROLE_ROLLUP_1</th><th style=\"text-align: right;\">  ROLE_ROLLUP_2</th><th style=\"text-align: right;\">  ROLE_DEPTNAME</th><th style=\"text-align: right;\">  ROLE_TITLE</th><th style=\"text-align: right;\">  ROLE_FAMILY_DESC</th><th style=\"text-align: right;\">  ROLE_FAMILY</th><th style=\"text-align: right;\">  ROLE_CODE</th></tr>\n",
       "</thead>\n",
       "<tbody>\n",
       "<tr><td style=\"text-align: right;\">       1</td><td style=\"text-align: right;\">     39353</td><td style=\"text-align: right;\">   85475</td><td style=\"text-align: right;\">         117961</td><td style=\"text-align: right;\">         118300</td><td style=\"text-align: right;\">         123472</td><td style=\"text-align: right;\">      117905</td><td style=\"text-align: right;\">            117906</td><td style=\"text-align: right;\">       290919</td><td style=\"text-align: right;\">     117908</td></tr>\n",
       "<tr><td style=\"text-align: right;\">       1</td><td style=\"text-align: right;\">     17183</td><td style=\"text-align: right;\">    1540</td><td style=\"text-align: right;\">         117961</td><td style=\"text-align: right;\">         118343</td><td style=\"text-align: right;\">         123125</td><td style=\"text-align: right;\">      118536</td><td style=\"text-align: right;\">            118536</td><td style=\"text-align: right;\">       308574</td><td style=\"text-align: right;\">     118539</td></tr>\n",
       "<tr><td style=\"text-align: right;\">       1</td><td style=\"text-align: right;\">     36724</td><td style=\"text-align: right;\">   14457</td><td style=\"text-align: right;\">         118219</td><td style=\"text-align: right;\">         118220</td><td style=\"text-align: right;\">         117884</td><td style=\"text-align: right;\">      117879</td><td style=\"text-align: right;\">            267952</td><td style=\"text-align: right;\">        19721</td><td style=\"text-align: right;\">     117880</td></tr>\n",
       "<tr><td style=\"text-align: right;\">       1</td><td style=\"text-align: right;\">     36135</td><td style=\"text-align: right;\">    5396</td><td style=\"text-align: right;\">         117961</td><td style=\"text-align: right;\">         118343</td><td style=\"text-align: right;\">         119993</td><td style=\"text-align: right;\">      118321</td><td style=\"text-align: right;\">            240983</td><td style=\"text-align: right;\">       290919</td><td style=\"text-align: right;\">     118322</td></tr>\n",
       "<tr><td style=\"text-align: right;\">       1</td><td style=\"text-align: right;\">     42680</td><td style=\"text-align: right;\">    5905</td><td style=\"text-align: right;\">         117929</td><td style=\"text-align: right;\">         117930</td><td style=\"text-align: right;\">         119569</td><td style=\"text-align: right;\">      119323</td><td style=\"text-align: right;\">            123932</td><td style=\"text-align: right;\">        19793</td><td style=\"text-align: right;\">     119325</td></tr>\n",
       "<tr><td style=\"text-align: right;\">       0</td><td style=\"text-align: right;\">     45333</td><td style=\"text-align: right;\">   14561</td><td style=\"text-align: right;\">         117951</td><td style=\"text-align: right;\">         117952</td><td style=\"text-align: right;\">         118008</td><td style=\"text-align: right;\">      118568</td><td style=\"text-align: right;\">            118568</td><td style=\"text-align: right;\">        19721</td><td style=\"text-align: right;\">     118570</td></tr>\n",
       "<tr><td style=\"text-align: right;\">       1</td><td style=\"text-align: right;\">     25993</td><td style=\"text-align: right;\">   17227</td><td style=\"text-align: right;\">         117961</td><td style=\"text-align: right;\">         118343</td><td style=\"text-align: right;\">         123476</td><td style=\"text-align: right;\">      118980</td><td style=\"text-align: right;\">            301534</td><td style=\"text-align: right;\">       118295</td><td style=\"text-align: right;\">     118982</td></tr>\n",
       "<tr><td style=\"text-align: right;\">       1</td><td style=\"text-align: right;\">     19666</td><td style=\"text-align: right;\">    4209</td><td style=\"text-align: right;\">         117961</td><td style=\"text-align: right;\">         117969</td><td style=\"text-align: right;\">         118910</td><td style=\"text-align: right;\">      126820</td><td style=\"text-align: right;\">            269034</td><td style=\"text-align: right;\">       118638</td><td style=\"text-align: right;\">     126822</td></tr>\n",
       "<tr><td style=\"text-align: right;\">       1</td><td style=\"text-align: right;\">     31246</td><td style=\"text-align: right;\">     783</td><td style=\"text-align: right;\">         117961</td><td style=\"text-align: right;\">         118413</td><td style=\"text-align: right;\">         120584</td><td style=\"text-align: right;\">      128230</td><td style=\"text-align: right;\">            302830</td><td style=\"text-align: right;\">         4673</td><td style=\"text-align: right;\">     128231</td></tr>\n",
       "<tr><td style=\"text-align: right;\">       1</td><td style=\"text-align: right;\">     78766</td><td style=\"text-align: right;\">   56683</td><td style=\"text-align: right;\">         118079</td><td style=\"text-align: right;\">         118080</td><td style=\"text-align: right;\">         117878</td><td style=\"text-align: right;\">      117879</td><td style=\"text-align: right;\">            304519</td><td style=\"text-align: right;\">        19721</td><td style=\"text-align: right;\">     117880</td></tr>\n",
       "</tbody>\n",
       "</table>"
      ]
     },
     "metadata": {},
     "output_type": "display_data"
    },
    {
     "data": {
      "text/plain": []
     },
     "execution_count": 18,
     "metadata": {},
     "output_type": "execute_result"
    }
   ],
   "source": [
    "df.head()"
   ]
  },
  {
   "cell_type": "code",
   "execution_count": 19,
   "metadata": {},
   "outputs": [
    {
     "name": "stdout",
     "output_type": "stream",
     "text": [
      "Total rows in the data set =  32769\n",
      "Total Columns in the data set =  10\n",
      "rows X columns =  (32769, 10)\n",
      "Total Records =  327690\n"
     ]
    }
   ],
   "source": [
    "rows = len(df)\n",
    "print(\"Total rows in the data set = \", rows)\n",
    "cols = len(df.columns)\n",
    "print(\"Total Columns in the data set = \", cols)\n",
    "\n",
    "rowscols = df.shape\n",
    "shape = rows * cols\n",
    "print(\"rows X columns = \", rowscols)\n",
    "print(\"Total Records = \", shape)\n",
    "\n",
    "meta_data['Total Records'] = shape"
   ]
  },
  {
   "cell_type": "code",
   "execution_count": 20,
   "metadata": {
    "scrolled": true
   },
   "outputs": [
    {
     "name": "stdout",
     "output_type": "stream",
     "text": [
      "Rows:32769\n",
      "Cols:10\n",
      "\n",
      "\n"
     ]
    },
    {
     "data": {
      "text/html": [
       "<table>\n",
       "<thead>\n",
       "<tr><th>       </th><th>ACTION             </th><th>RESOURCE          </th><th>MGR_ID            </th><th>ROLE_ROLLUP_1     </th><th>ROLE_ROLLUP_2     </th><th>ROLE_DEPTNAME     </th><th>ROLE_TITLE        </th><th>ROLE_FAMILY_DESC  </th><th>ROLE_FAMILY       </th><th>ROLE_CODE         </th></tr>\n",
       "</thead>\n",
       "<tbody>\n",
       "<tr><td>type   </td><td>int                </td><td>int               </td><td>int               </td><td>int               </td><td>int               </td><td>int               </td><td>int               </td><td>int               </td><td>int               </td><td>int               </td></tr>\n",
       "<tr><td>mins   </td><td>0.0                </td><td>0.0               </td><td>25.0              </td><td>4292.0            </td><td>23779.0           </td><td>4674.0            </td><td>117879.0          </td><td>4673.0            </td><td>3130.0            </td><td>117880.0          </td></tr>\n",
       "<tr><td>mean   </td><td>0.9421099209618847 </td><td>42923.916170771125</td><td>25988.957978577324</td><td>116952.62778845867</td><td>118301.82315603165</td><td>118912.77991394309</td><td>125916.15264426745</td><td>170178.36964814307</td><td>183703.40889255097</td><td>119789.43013213709</td></tr>\n",
       "<tr><td>maxs   </td><td>1.0                </td><td>312153.0          </td><td>311696.0          </td><td>311178.0          </td><td>286791.0          </td><td>286792.0          </td><td>311867.0          </td><td>311867.0          </td><td>308574.0          </td><td>270691.0          </td></tr>\n",
       "<tr><td>sigma  </td><td>0.23353903780676308</td><td>34173.892702138255</td><td>35928.03165014073 </td><td>10875.563591093745</td><td>4551.588572012568 </td><td>18961.32291708769 </td><td>31036.465824743256</td><td>69509.46213013002 </td><td>100488.40741337684</td><td>5784.275515531029 </td></tr>\n",
       "<tr><td>zeros  </td><td>1897               </td><td>13                </td><td>0                 </td><td>0                 </td><td>0                 </td><td>0                 </td><td>0                 </td><td>0                 </td><td>0                 </td><td>0                 </td></tr>\n",
       "<tr><td>missing</td><td>0                  </td><td>0                 </td><td>0                 </td><td>0                 </td><td>0                 </td><td>0                 </td><td>0                 </td><td>0                 </td><td>0                 </td><td>0                 </td></tr>\n",
       "<tr><td>0      </td><td>1.0                </td><td>39353.0           </td><td>85475.0           </td><td>117961.0          </td><td>118300.0          </td><td>123472.0          </td><td>117905.0          </td><td>117906.0          </td><td>290919.0          </td><td>117908.0          </td></tr>\n",
       "<tr><td>1      </td><td>1.0                </td><td>17183.0           </td><td>1540.0            </td><td>117961.0          </td><td>118343.0          </td><td>123125.0          </td><td>118536.0          </td><td>118536.0          </td><td>308574.0          </td><td>118539.0          </td></tr>\n",
       "<tr><td>2      </td><td>1.0                </td><td>36724.0           </td><td>14457.0           </td><td>118219.0          </td><td>118220.0          </td><td>117884.0          </td><td>117879.0          </td><td>267952.0          </td><td>19721.0           </td><td>117880.0          </td></tr>\n",
       "<tr><td>3      </td><td>1.0                </td><td>36135.0           </td><td>5396.0            </td><td>117961.0          </td><td>118343.0          </td><td>119993.0          </td><td>118321.0          </td><td>240983.0          </td><td>290919.0          </td><td>118322.0          </td></tr>\n",
       "<tr><td>4      </td><td>1.0                </td><td>42680.0           </td><td>5905.0            </td><td>117929.0          </td><td>117930.0          </td><td>119569.0          </td><td>119323.0          </td><td>123932.0          </td><td>19793.0           </td><td>119325.0          </td></tr>\n",
       "<tr><td>5      </td><td>0.0                </td><td>45333.0           </td><td>14561.0           </td><td>117951.0          </td><td>117952.0          </td><td>118008.0          </td><td>118568.0          </td><td>118568.0          </td><td>19721.0           </td><td>118570.0          </td></tr>\n",
       "<tr><td>6      </td><td>1.0                </td><td>25993.0           </td><td>17227.0           </td><td>117961.0          </td><td>118343.0          </td><td>123476.0          </td><td>118980.0          </td><td>301534.0          </td><td>118295.0          </td><td>118982.0          </td></tr>\n",
       "<tr><td>7      </td><td>1.0                </td><td>19666.0           </td><td>4209.0            </td><td>117961.0          </td><td>117969.0          </td><td>118910.0          </td><td>126820.0          </td><td>269034.0          </td><td>118638.0          </td><td>126822.0          </td></tr>\n",
       "<tr><td>8      </td><td>1.0                </td><td>31246.0           </td><td>783.0             </td><td>117961.0          </td><td>118413.0          </td><td>120584.0          </td><td>128230.0          </td><td>302830.0          </td><td>4673.0            </td><td>128231.0          </td></tr>\n",
       "<tr><td>9      </td><td>1.0                </td><td>78766.0           </td><td>56683.0           </td><td>118079.0          </td><td>118080.0          </td><td>117878.0          </td><td>117879.0          </td><td>304519.0          </td><td>19721.0           </td><td>117880.0          </td></tr>\n",
       "</tbody>\n",
       "</table>"
      ]
     },
     "metadata": {},
     "output_type": "display_data"
    }
   ],
   "source": [
    "df.describe()"
   ]
  },
  {
   "cell_type": "code",
   "execution_count": 21,
   "metadata": {},
   "outputs": [
    {
     "data": {
      "text/plain": [
       "\"\\nimport sys\\nsys.stdout = open('describe.txt', 'w')\\nprint ('test')\\n\""
      ]
     },
     "execution_count": 21,
     "metadata": {},
     "output_type": "execute_result"
    }
   ],
   "source": [
    "'''\n",
    "import sys\n",
    "sys.stdout = open('describe.txt', 'w')\n",
    "print ('test')\n",
    "'''"
   ]
  },
  {
   "cell_type": "markdown",
   "metadata": {},
   "source": [
    "### Depentdent Variable"
   ]
  },
  {
   "cell_type": "code",
   "execution_count": 22,
   "metadata": {},
   "outputs": [
    {
     "data": {
      "text/plain": [
       "'ACTION'"
      ]
     },
     "execution_count": 22,
     "metadata": {},
     "output_type": "execute_result"
    }
   ],
   "source": [
    "# dependent variable\n",
    "# assign target an d inputs for classification or regression\n",
    "if target==None:\n",
    "    target=\"ACTION\"   \n",
    "y = target\n",
    "meta_data['Target']=y\n",
    "y"
   ]
  },
  {
   "cell_type": "markdown",
   "metadata": {},
   "source": [
    "### Independent Variables"
   ]
  },
  {
   "cell_type": "code",
   "execution_count": 23,
   "metadata": {},
   "outputs": [],
   "source": [
    "if all_variables is not None:\n",
    "  ivd=get_all_variables_csv(all_variables)\n",
    "  print(ivd)    \n",
    "  X=check_all_variables(df,ivd,y)\n",
    "  print(X)"
   ]
  },
  {
   "cell_type": "code",
   "execution_count": 24,
   "metadata": {},
   "outputs": [
    {
     "name": "stdout",
     "output_type": "stream",
     "text": [
      "['RESOURCE', 'MGR_ID', 'ROLE_ROLLUP_1', 'ROLE_ROLLUP_2', 'ROLE_DEPTNAME', 'ROLE_TITLE', 'ROLE_FAMILY_DESC', 'ROLE_FAMILY', 'ROLE_CODE']\n"
     ]
    }
   ],
   "source": [
    "# independent variables\n",
    "# putting all independent variables in the list X \n",
    "\n",
    "X = []  \n",
    "if all_variables is None:\n",
    "  X=get_independent_variables(df, target)  \n",
    "  print(X)  \n",
    "else: \n",
    "  ivd=get_all_variables_csv(all_variables)    \n",
    "  X=check_all_variables(df, ivd)\n",
    "\n",
    "\n",
    "X=check_X(X,df)\n",
    "\n",
    "\n",
    "# Add independent variables to meta data\n",
    "\n",
    "meta_data['X']=X  \n",
    "\n",
    "\n",
    "# impute missing values\n",
    "\n",
    "_=impute_missing_values(df,X, scale)"
   ]
  },
  {
   "cell_type": "markdown",
   "metadata": {},
   "source": [
    "### Problem Type\n",
    "\n",
    "The dependent variable for this data set is of Binary/ classification type."
   ]
  },
  {
   "cell_type": "code",
   "execution_count": 25,
   "metadata": {},
   "outputs": [],
   "source": [
    "# Force target to be factors\n",
    "# Only 'int' or 'string' are allowed for asfactor(), got Target (Total orders):real \n",
    "\n",
    "if classification:\n",
    "    df[y] = df[y].asfactor()"
   ]
  },
  {
   "cell_type": "code",
   "execution_count": 26,
   "metadata": {
    "scrolled": true
   },
   "outputs": [
    {
     "data": {
      "text/html": [
       "<table>\n",
       "<thead>\n",
       "<tr><th style=\"text-align: right;\">  ACTION</th></tr>\n",
       "</thead>\n",
       "<tbody>\n",
       "<tr><td style=\"text-align: right;\">       1</td></tr>\n",
       "<tr><td style=\"text-align: right;\">       1</td></tr>\n",
       "<tr><td style=\"text-align: right;\">       1</td></tr>\n",
       "<tr><td style=\"text-align: right;\">       1</td></tr>\n",
       "<tr><td style=\"text-align: right;\">       1</td></tr>\n",
       "<tr><td style=\"text-align: right;\">       0</td></tr>\n",
       "<tr><td style=\"text-align: right;\">       1</td></tr>\n",
       "<tr><td style=\"text-align: right;\">       1</td></tr>\n",
       "<tr><td style=\"text-align: right;\">       1</td></tr>\n",
       "<tr><td style=\"text-align: right;\">       1</td></tr>\n",
       "</tbody>\n",
       "</table>"
      ]
     },
     "metadata": {},
     "output_type": "display_data"
    },
    {
     "data": {
      "text/plain": []
     },
     "execution_count": 26,
     "metadata": {},
     "output_type": "execute_result"
    }
   ],
   "source": [
    "df[y]"
   ]
  },
  {
   "cell_type": "markdown",
   "metadata": {},
   "source": [
    "**Checking the number of classes of dependent variable**"
   ]
  },
  {
   "cell_type": "code",
   "execution_count": 27,
   "metadata": {
    "scrolled": true
   },
   "outputs": [
    {
     "name": "stdout",
     "output_type": "stream",
     "text": [
      "[['0', '1']]\n"
     ]
    }
   ],
   "source": [
    "# Total categories in the target column\n",
    "lvl = df[y].levels()\n",
    "print(lvl)\n",
    "meta_data[\"levels\"] = lvl"
   ]
  },
  {
   "cell_type": "markdown",
   "metadata": {},
   "source": [
    "y has 2 levels or classes"
   ]
  },
  {
   "cell_type": "code",
   "execution_count": 28,
   "metadata": {},
   "outputs": [],
   "source": [
    "# checking value of target for real, int, enum\n",
    "def check_y(y,df):\n",
    "  ok=False\n",
    "  C = [name for name in df.columns if name == y]\n",
    "  for key, val in df.types.items():\n",
    "    if key in C:\n",
    "      if val in ['real','int','enum']:        \n",
    "        ok=True         \n",
    "  return ok   "
   ]
  },
  {
   "cell_type": "code",
   "execution_count": 29,
   "metadata": {},
   "outputs": [],
   "source": [
    "ok=check_y(y,df)\n",
    "if not ok:\n",
    "    print(ok)"
   ]
  },
  {
   "cell_type": "code",
   "execution_count": 30,
   "metadata": {},
   "outputs": [
    {
     "name": "stdout",
     "output_type": "stream",
     "text": [
      "True\n"
     ]
    }
   ],
   "source": [
    "# since y is enum type\n",
    "print(ok)"
   ]
  },
  {
   "cell_type": "code",
   "execution_count": 31,
   "metadata": {},
   "outputs": [],
   "source": [
    "def get_variables_types(df):\n",
    "    d={}\n",
    "    for key, val in df.types.items():\n",
    "        d[key]=val           \n",
    "    return d    \n",
    "    "
   ]
  },
  {
   "cell_type": "code",
   "execution_count": 32,
   "metadata": {
    "scrolled": true
   },
   "outputs": [
    {
     "data": {
      "text/plain": [
       "{'ACTION': 'enum',\n",
       " 'RESOURCE': 'int',\n",
       " 'MGR_ID': 'int',\n",
       " 'ROLE_ROLLUP_1': 'int',\n",
       " 'ROLE_ROLLUP_2': 'int',\n",
       " 'ROLE_DEPTNAME': 'int',\n",
       " 'ROLE_TITLE': 'int',\n",
       " 'ROLE_FAMILY_DESC': 'int',\n",
       " 'ROLE_FAMILY': 'int',\n",
       " 'ROLE_CODE': 'int'}"
      ]
     },
     "execution_count": 32,
     "metadata": {},
     "output_type": "execute_result"
    }
   ],
   "source": [
    "# getting the data types of all the variables in the dataset\n",
    "allV=get_variables_types(df)\n",
    "allV"
   ]
  },
  {
   "cell_type": "code",
   "execution_count": 33,
   "metadata": {},
   "outputs": [],
   "source": [
    "# Adding the data types to meta data \n",
    "meta_data['variables']=allV"
   ]
  },
  {
   "cell_type": "markdown",
   "metadata": {},
   "source": [
    "### Using H2OAutoML\n",
    "\n",
    "* Used for automatic training and tuning of the models"
   ]
  },
  {
   "cell_type": "code",
   "execution_count": 34,
   "metadata": {},
   "outputs": [],
   "source": [
    "# Set up AutoML\n",
    "\n",
    "aml = H2OAutoML(max_runtime_secs=run_time,project_name = name)"
   ]
  },
  {
   "cell_type": "code",
   "execution_count": 35,
   "metadata": {},
   "outputs": [],
   "source": [
    "model_start_time = time.time()"
   ]
  },
  {
   "cell_type": "code",
   "execution_count": 36,
   "metadata": {},
   "outputs": [
    {
     "name": "stdout",
     "output_type": "stream",
     "text": [
      "AutoML progress: |████████████████████████████████████████████████████████| 100%\n"
     ]
    }
   ],
   "source": [
    "aml.train(x=X,y=y,training_frame=df)"
   ]
  },
  {
   "cell_type": "code",
   "execution_count": 37,
   "metadata": {},
   "outputs": [
    {
     "name": "stdout",
     "output_type": "stream",
     "text": [
      "Execution time for  1200 sec =   2760.7395112514496\n"
     ]
    }
   ],
   "source": [
    "execution_time =  time.time() - model_start_time\n",
    "meta_data['model_execution_time_sec'] = execution_time\n",
    "print(\"Execution time for \", run_time,\"sec =  \",meta_data['model_execution_time_sec'])"
   ]
  },
  {
   "cell_type": "markdown",
   "metadata": {},
   "source": [
    "## LeaderBoard"
   ]
  },
  {
   "cell_type": "code",
   "execution_count": 38,
   "metadata": {},
   "outputs": [],
   "source": [
    "# get leaderboard\n",
    "aml_leaderboard_df=aml.leaderboard.as_data_frame()"
   ]
  },
  {
   "cell_type": "code",
   "execution_count": 39,
   "metadata": {
    "scrolled": true
   },
   "outputs": [
    {
     "data": {
      "text/html": [
       "<div>\n",
       "<style scoped>\n",
       "    .dataframe tbody tr th:only-of-type {\n",
       "        vertical-align: middle;\n",
       "    }\n",
       "\n",
       "    .dataframe tbody tr th {\n",
       "        vertical-align: top;\n",
       "    }\n",
       "\n",
       "    .dataframe thead th {\n",
       "        text-align: right;\n",
       "    }\n",
       "</style>\n",
       "<table border=\"1\" class=\"dataframe\">\n",
       "  <thead>\n",
       "    <tr style=\"text-align: right;\">\n",
       "      <th></th>\n",
       "      <th>model_id</th>\n",
       "      <th>auc</th>\n",
       "      <th>logloss</th>\n",
       "      <th>mean_per_class_error</th>\n",
       "      <th>rmse</th>\n",
       "      <th>mse</th>\n",
       "    </tr>\n",
       "  </thead>\n",
       "  <tbody>\n",
       "    <tr>\n",
       "      <th>0</th>\n",
       "      <td>StackedEnsemble_AllModels_AutoML_20190418_120619</td>\n",
       "      <td>0.856369</td>\n",
       "      <td>0.156949</td>\n",
       "      <td>0.371744</td>\n",
       "      <td>0.200741</td>\n",
       "      <td>0.040297</td>\n",
       "    </tr>\n",
       "    <tr>\n",
       "      <th>1</th>\n",
       "      <td>StackedEnsemble_BestOfFamily_AutoML_20190418_1...</td>\n",
       "      <td>0.854217</td>\n",
       "      <td>0.157098</td>\n",
       "      <td>0.326397</td>\n",
       "      <td>0.200571</td>\n",
       "      <td>0.040229</td>\n",
       "    </tr>\n",
       "    <tr>\n",
       "      <th>2</th>\n",
       "      <td>GBM_grid_1_AutoML_20190418_120619_model_2</td>\n",
       "      <td>0.853118</td>\n",
       "      <td>0.154296</td>\n",
       "      <td>0.328587</td>\n",
       "      <td>0.200303</td>\n",
       "      <td>0.040121</td>\n",
       "    </tr>\n",
       "    <tr>\n",
       "      <th>3</th>\n",
       "      <td>GBM_grid_1_AutoML_20190418_120619_model_5</td>\n",
       "      <td>0.850342</td>\n",
       "      <td>0.160961</td>\n",
       "      <td>0.365139</td>\n",
       "      <td>0.205497</td>\n",
       "      <td>0.042229</td>\n",
       "    </tr>\n",
       "    <tr>\n",
       "      <th>4</th>\n",
       "      <td>DRF_1_AutoML_20190418_120619</td>\n",
       "      <td>0.847918</td>\n",
       "      <td>0.178072</td>\n",
       "      <td>0.359026</td>\n",
       "      <td>0.201379</td>\n",
       "      <td>0.040553</td>\n",
       "    </tr>\n",
       "    <tr>\n",
       "      <th>5</th>\n",
       "      <td>GBM_grid_1_AutoML_20190418_120619_model_9</td>\n",
       "      <td>0.845875</td>\n",
       "      <td>0.160482</td>\n",
       "      <td>0.359021</td>\n",
       "      <td>0.204446</td>\n",
       "      <td>0.041798</td>\n",
       "    </tr>\n",
       "    <tr>\n",
       "      <th>6</th>\n",
       "      <td>GBM_4_AutoML_20190418_120619</td>\n",
       "      <td>0.845188</td>\n",
       "      <td>0.159094</td>\n",
       "      <td>0.362836</td>\n",
       "      <td>0.202633</td>\n",
       "      <td>0.041060</td>\n",
       "    </tr>\n",
       "    <tr>\n",
       "      <th>7</th>\n",
       "      <td>XRT_1_AutoML_20190418_120619</td>\n",
       "      <td>0.843907</td>\n",
       "      <td>0.171061</td>\n",
       "      <td>0.338773</td>\n",
       "      <td>0.202070</td>\n",
       "      <td>0.040832</td>\n",
       "    </tr>\n",
       "    <tr>\n",
       "      <th>8</th>\n",
       "      <td>GBM_3_AutoML_20190418_120619</td>\n",
       "      <td>0.839115</td>\n",
       "      <td>0.162473</td>\n",
       "      <td>0.393567</td>\n",
       "      <td>0.205262</td>\n",
       "      <td>0.042133</td>\n",
       "    </tr>\n",
       "    <tr>\n",
       "      <th>9</th>\n",
       "      <td>GBM_5_AutoML_20190418_120619</td>\n",
       "      <td>0.834543</td>\n",
       "      <td>0.165616</td>\n",
       "      <td>0.419586</td>\n",
       "      <td>0.207439</td>\n",
       "      <td>0.043031</td>\n",
       "    </tr>\n",
       "    <tr>\n",
       "      <th>10</th>\n",
       "      <td>GBM_2_AutoML_20190418_120619</td>\n",
       "      <td>0.834439</td>\n",
       "      <td>0.165034</td>\n",
       "      <td>0.393725</td>\n",
       "      <td>0.206900</td>\n",
       "      <td>0.042808</td>\n",
       "    </tr>\n",
       "    <tr>\n",
       "      <th>11</th>\n",
       "      <td>GBM_1_AutoML_20190418_120619</td>\n",
       "      <td>0.830627</td>\n",
       "      <td>0.166142</td>\n",
       "      <td>0.397817</td>\n",
       "      <td>0.207608</td>\n",
       "      <td>0.043101</td>\n",
       "    </tr>\n",
       "    <tr>\n",
       "      <th>12</th>\n",
       "      <td>GBM_grid_1_AutoML_20190418_120619_model_15</td>\n",
       "      <td>0.828145</td>\n",
       "      <td>0.170879</td>\n",
       "      <td>0.415769</td>\n",
       "      <td>0.211320</td>\n",
       "      <td>0.044656</td>\n",
       "    </tr>\n",
       "    <tr>\n",
       "      <th>13</th>\n",
       "      <td>GBM_grid_1_AutoML_20190418_120619_model_14</td>\n",
       "      <td>0.822908</td>\n",
       "      <td>0.188627</td>\n",
       "      <td>0.445474</td>\n",
       "      <td>0.221810</td>\n",
       "      <td>0.049200</td>\n",
       "    </tr>\n",
       "    <tr>\n",
       "      <th>14</th>\n",
       "      <td>GBM_grid_1_AutoML_20190418_120619_model_6</td>\n",
       "      <td>0.798850</td>\n",
       "      <td>0.191230</td>\n",
       "      <td>0.480332</td>\n",
       "      <td>0.223457</td>\n",
       "      <td>0.049933</td>\n",
       "    </tr>\n",
       "    <tr>\n",
       "      <th>15</th>\n",
       "      <td>GBM_grid_1_AutoML_20190418_120619_model_7</td>\n",
       "      <td>0.797636</td>\n",
       "      <td>0.213522</td>\n",
       "      <td>0.468434</td>\n",
       "      <td>0.223638</td>\n",
       "      <td>0.050014</td>\n",
       "    </tr>\n",
       "    <tr>\n",
       "      <th>16</th>\n",
       "      <td>GBM_grid_1_AutoML_20190418_120619_model_16</td>\n",
       "      <td>0.777326</td>\n",
       "      <td>0.201168</td>\n",
       "      <td>0.479282</td>\n",
       "      <td>0.226860</td>\n",
       "      <td>0.051466</td>\n",
       "    </tr>\n",
       "    <tr>\n",
       "      <th>17</th>\n",
       "      <td>GBM_grid_1_AutoML_20190418_120619_model_11</td>\n",
       "      <td>0.775472</td>\n",
       "      <td>0.190179</td>\n",
       "      <td>0.474115</td>\n",
       "      <td>0.222134</td>\n",
       "      <td>0.049343</td>\n",
       "    </tr>\n",
       "    <tr>\n",
       "      <th>18</th>\n",
       "      <td>GBM_grid_1_AutoML_20190418_120619_model_8</td>\n",
       "      <td>0.773834</td>\n",
       "      <td>0.191000</td>\n",
       "      <td>0.484817</td>\n",
       "      <td>0.222038</td>\n",
       "      <td>0.049301</td>\n",
       "    </tr>\n",
       "    <tr>\n",
       "      <th>19</th>\n",
       "      <td>GBM_grid_1_AutoML_20190418_120619_model_1</td>\n",
       "      <td>0.773120</td>\n",
       "      <td>0.192945</td>\n",
       "      <td>0.494035</td>\n",
       "      <td>0.223614</td>\n",
       "      <td>0.050003</td>\n",
       "    </tr>\n",
       "    <tr>\n",
       "      <th>20</th>\n",
       "      <td>GBM_grid_1_AutoML_20190418_120619_model_3</td>\n",
       "      <td>0.760986</td>\n",
       "      <td>0.197566</td>\n",
       "      <td>0.500000</td>\n",
       "      <td>0.224849</td>\n",
       "      <td>0.050557</td>\n",
       "    </tr>\n",
       "    <tr>\n",
       "      <th>21</th>\n",
       "      <td>GBM_grid_1_AutoML_20190418_120619_model_12</td>\n",
       "      <td>0.708759</td>\n",
       "      <td>0.219699</td>\n",
       "      <td>0.500000</td>\n",
       "      <td>0.230992</td>\n",
       "      <td>0.053357</td>\n",
       "    </tr>\n",
       "    <tr>\n",
       "      <th>22</th>\n",
       "      <td>GBM_grid_1_AutoML_20190418_120619_model_4</td>\n",
       "      <td>0.662256</td>\n",
       "      <td>0.219720</td>\n",
       "      <td>0.498435</td>\n",
       "      <td>0.233198</td>\n",
       "      <td>0.054381</td>\n",
       "    </tr>\n",
       "    <tr>\n",
       "      <th>23</th>\n",
       "      <td>GBM_grid_1_AutoML_20190418_120619_model_10</td>\n",
       "      <td>0.637607</td>\n",
       "      <td>0.218981</td>\n",
       "      <td>0.499736</td>\n",
       "      <td>0.233002</td>\n",
       "      <td>0.054290</td>\n",
       "    </tr>\n",
       "    <tr>\n",
       "      <th>24</th>\n",
       "      <td>GBM_grid_1_AutoML_20190418_120619_model_13</td>\n",
       "      <td>0.631901</td>\n",
       "      <td>0.218857</td>\n",
       "      <td>0.494315</td>\n",
       "      <td>0.232913</td>\n",
       "      <td>0.054248</td>\n",
       "    </tr>\n",
       "    <tr>\n",
       "      <th>25</th>\n",
       "      <td>DeepLearning_grid_1_AutoML_20190418_120619_mod...</td>\n",
       "      <td>0.582736</td>\n",
       "      <td>0.222939</td>\n",
       "      <td>0.500000</td>\n",
       "      <td>0.233180</td>\n",
       "      <td>0.054373</td>\n",
       "    </tr>\n",
       "    <tr>\n",
       "      <th>26</th>\n",
       "      <td>DeepLearning_1_AutoML_20190418_120619</td>\n",
       "      <td>0.567207</td>\n",
       "      <td>0.223579</td>\n",
       "      <td>0.500000</td>\n",
       "      <td>0.233446</td>\n",
       "      <td>0.054497</td>\n",
       "    </tr>\n",
       "    <tr>\n",
       "      <th>27</th>\n",
       "      <td>DeepLearning_grid_1_AutoML_20190418_120619_mod...</td>\n",
       "      <td>0.538890</td>\n",
       "      <td>0.314712</td>\n",
       "      <td>0.500000</td>\n",
       "      <td>0.237710</td>\n",
       "      <td>0.056506</td>\n",
       "    </tr>\n",
       "    <tr>\n",
       "      <th>28</th>\n",
       "      <td>GLM_grid_1_AutoML_20190418_120619_model_1</td>\n",
       "      <td>0.522591</td>\n",
       "      <td>0.220979</td>\n",
       "      <td>0.500000</td>\n",
       "      <td>0.233517</td>\n",
       "      <td>0.054530</td>\n",
       "    </tr>\n",
       "  </tbody>\n",
       "</table>\n",
       "</div>"
      ],
      "text/plain": [
       "                                             model_id       auc   logloss  \\\n",
       "0    StackedEnsemble_AllModels_AutoML_20190418_120619  0.856369  0.156949   \n",
       "1   StackedEnsemble_BestOfFamily_AutoML_20190418_1...  0.854217  0.157098   \n",
       "2           GBM_grid_1_AutoML_20190418_120619_model_2  0.853118  0.154296   \n",
       "3           GBM_grid_1_AutoML_20190418_120619_model_5  0.850342  0.160961   \n",
       "4                        DRF_1_AutoML_20190418_120619  0.847918  0.178072   \n",
       "5           GBM_grid_1_AutoML_20190418_120619_model_9  0.845875  0.160482   \n",
       "6                        GBM_4_AutoML_20190418_120619  0.845188  0.159094   \n",
       "7                        XRT_1_AutoML_20190418_120619  0.843907  0.171061   \n",
       "8                        GBM_3_AutoML_20190418_120619  0.839115  0.162473   \n",
       "9                        GBM_5_AutoML_20190418_120619  0.834543  0.165616   \n",
       "10                       GBM_2_AutoML_20190418_120619  0.834439  0.165034   \n",
       "11                       GBM_1_AutoML_20190418_120619  0.830627  0.166142   \n",
       "12         GBM_grid_1_AutoML_20190418_120619_model_15  0.828145  0.170879   \n",
       "13         GBM_grid_1_AutoML_20190418_120619_model_14  0.822908  0.188627   \n",
       "14          GBM_grid_1_AutoML_20190418_120619_model_6  0.798850  0.191230   \n",
       "15          GBM_grid_1_AutoML_20190418_120619_model_7  0.797636  0.213522   \n",
       "16         GBM_grid_1_AutoML_20190418_120619_model_16  0.777326  0.201168   \n",
       "17         GBM_grid_1_AutoML_20190418_120619_model_11  0.775472  0.190179   \n",
       "18          GBM_grid_1_AutoML_20190418_120619_model_8  0.773834  0.191000   \n",
       "19          GBM_grid_1_AutoML_20190418_120619_model_1  0.773120  0.192945   \n",
       "20          GBM_grid_1_AutoML_20190418_120619_model_3  0.760986  0.197566   \n",
       "21         GBM_grid_1_AutoML_20190418_120619_model_12  0.708759  0.219699   \n",
       "22          GBM_grid_1_AutoML_20190418_120619_model_4  0.662256  0.219720   \n",
       "23         GBM_grid_1_AutoML_20190418_120619_model_10  0.637607  0.218981   \n",
       "24         GBM_grid_1_AutoML_20190418_120619_model_13  0.631901  0.218857   \n",
       "25  DeepLearning_grid_1_AutoML_20190418_120619_mod...  0.582736  0.222939   \n",
       "26              DeepLearning_1_AutoML_20190418_120619  0.567207  0.223579   \n",
       "27  DeepLearning_grid_1_AutoML_20190418_120619_mod...  0.538890  0.314712   \n",
       "28          GLM_grid_1_AutoML_20190418_120619_model_1  0.522591  0.220979   \n",
       "\n",
       "    mean_per_class_error      rmse       mse  \n",
       "0               0.371744  0.200741  0.040297  \n",
       "1               0.326397  0.200571  0.040229  \n",
       "2               0.328587  0.200303  0.040121  \n",
       "3               0.365139  0.205497  0.042229  \n",
       "4               0.359026  0.201379  0.040553  \n",
       "5               0.359021  0.204446  0.041798  \n",
       "6               0.362836  0.202633  0.041060  \n",
       "7               0.338773  0.202070  0.040832  \n",
       "8               0.393567  0.205262  0.042133  \n",
       "9               0.419586  0.207439  0.043031  \n",
       "10              0.393725  0.206900  0.042808  \n",
       "11              0.397817  0.207608  0.043101  \n",
       "12              0.415769  0.211320  0.044656  \n",
       "13              0.445474  0.221810  0.049200  \n",
       "14              0.480332  0.223457  0.049933  \n",
       "15              0.468434  0.223638  0.050014  \n",
       "16              0.479282  0.226860  0.051466  \n",
       "17              0.474115  0.222134  0.049343  \n",
       "18              0.484817  0.222038  0.049301  \n",
       "19              0.494035  0.223614  0.050003  \n",
       "20              0.500000  0.224849  0.050557  \n",
       "21              0.500000  0.230992  0.053357  \n",
       "22              0.498435  0.233198  0.054381  \n",
       "23              0.499736  0.233002  0.054290  \n",
       "24              0.494315  0.232913  0.054248  \n",
       "25              0.500000  0.233180  0.054373  \n",
       "26              0.500000  0.233446  0.054497  \n",
       "27              0.500000  0.237710  0.056506  \n",
       "28              0.500000  0.233517  0.054530  "
      ]
     },
     "execution_count": 39,
     "metadata": {},
     "output_type": "execute_result"
    }
   ],
   "source": [
    "aml_leaderboard_df"
   ]
  },
  {
   "cell_type": "code",
   "execution_count": 40,
   "metadata": {},
   "outputs": [],
   "source": [
    "length = len(aml_leaderboard_df)- 1\n",
    "length\n",
    "meta_data[\"Models_generated\"] = length"
   ]
  },
  {
   "cell_type": "markdown",
   "metadata": {},
   "source": [
    "### Saving Leaderboard into csv"
   ]
  },
  {
   "cell_type": "code",
   "execution_count": 41,
   "metadata": {},
   "outputs": [],
   "source": [
    "# save leaderboard to csv\n",
    "# run_time = run_time.ascharacter()\n",
    "leaderboard_stats=run_id+'EmpAccess_'+ str(run_time) + '_leaderboard.csv'\n",
    "aml_leaderboard_df.to_csv(leaderboard_stats)"
   ]
  },
  {
   "cell_type": "markdown",
   "metadata": {},
   "source": [
    "### Generating hyperparameters for the best model on the leaderboard"
   ]
  },
  {
   "cell_type": "code",
   "execution_count": 42,
   "metadata": {},
   "outputs": [],
   "source": [
    "# STart best model as first model\n",
    "model_set=aml_leaderboard_df['model_id']\n",
    "mod_best=h2o.get_model(model_set[0])"
   ]
  },
  {
   "cell_type": "code",
   "execution_count": 43,
   "metadata": {
    "scrolled": true
   },
   "outputs": [
    {
     "data": {
      "text/plain": [
       "{'model_id': {'default': None,\n",
       "  'actual': {'__meta': {'schema_version': 3,\n",
       "    'schema_name': 'ModelKeyV3',\n",
       "    'schema_type': 'Key<Model>'},\n",
       "   'name': 'StackedEnsemble_AllModels_AutoML_20190418_120619',\n",
       "   'type': 'Key<Model>',\n",
       "   'URL': '/3/Models/StackedEnsemble_AllModels_AutoML_20190418_120619'}},\n",
       " 'training_frame': {'default': None,\n",
       "  'actual': {'__meta': {'schema_version': 3,\n",
       "    'schema_name': 'FrameKeyV3',\n",
       "    'schema_type': 'Key<Frame>'},\n",
       "   'name': 'automl_training_py_6_sid_8fd2',\n",
       "   'type': 'Key<Frame>',\n",
       "   'URL': '/3/Frames/automl_training_py_6_sid_8fd2'}},\n",
       " 'response_column': {'default': None,\n",
       "  'actual': {'__meta': {'schema_version': 3,\n",
       "    'schema_name': 'ColSpecifierV3',\n",
       "    'schema_type': 'VecSpecifier'},\n",
       "   'column_name': 'ACTION',\n",
       "   'is_member_of_frames': None}},\n",
       " 'validation_frame': {'default': None, 'actual': None},\n",
       " 'blending_frame': {'default': None, 'actual': None},\n",
       " 'base_models': {'default': [],\n",
       "  'actual': [{'__meta': {'schema_version': 3,\n",
       "     'schema_name': 'ModelKeyV3',\n",
       "     'schema_type': 'Key<Model>'},\n",
       "    'name': 'GBM_grid_1_AutoML_20190418_120619_model_2',\n",
       "    'type': 'Key<Model>',\n",
       "    'URL': '/3/Models/GBM_grid_1_AutoML_20190418_120619_model_2'},\n",
       "   {'__meta': {'schema_version': 3,\n",
       "     'schema_name': 'ModelKeyV3',\n",
       "     'schema_type': 'Key<Model>'},\n",
       "    'name': 'GBM_grid_1_AutoML_20190418_120619_model_5',\n",
       "    'type': 'Key<Model>',\n",
       "    'URL': '/3/Models/GBM_grid_1_AutoML_20190418_120619_model_5'},\n",
       "   {'__meta': {'schema_version': 3,\n",
       "     'schema_name': 'ModelKeyV3',\n",
       "     'schema_type': 'Key<Model>'},\n",
       "    'name': 'DRF_1_AutoML_20190418_120619',\n",
       "    'type': 'Key<Model>',\n",
       "    'URL': '/3/Models/DRF_1_AutoML_20190418_120619'},\n",
       "   {'__meta': {'schema_version': 3,\n",
       "     'schema_name': 'ModelKeyV3',\n",
       "     'schema_type': 'Key<Model>'},\n",
       "    'name': 'GBM_grid_1_AutoML_20190418_120619_model_9',\n",
       "    'type': 'Key<Model>',\n",
       "    'URL': '/3/Models/GBM_grid_1_AutoML_20190418_120619_model_9'},\n",
       "   {'__meta': {'schema_version': 3,\n",
       "     'schema_name': 'ModelKeyV3',\n",
       "     'schema_type': 'Key<Model>'},\n",
       "    'name': 'GBM_4_AutoML_20190418_120619',\n",
       "    'type': 'Key<Model>',\n",
       "    'URL': '/3/Models/GBM_4_AutoML_20190418_120619'},\n",
       "   {'__meta': {'schema_version': 3,\n",
       "     'schema_name': 'ModelKeyV3',\n",
       "     'schema_type': 'Key<Model>'},\n",
       "    'name': 'XRT_1_AutoML_20190418_120619',\n",
       "    'type': 'Key<Model>',\n",
       "    'URL': '/3/Models/XRT_1_AutoML_20190418_120619'},\n",
       "   {'__meta': {'schema_version': 3,\n",
       "     'schema_name': 'ModelKeyV3',\n",
       "     'schema_type': 'Key<Model>'},\n",
       "    'name': 'GBM_3_AutoML_20190418_120619',\n",
       "    'type': 'Key<Model>',\n",
       "    'URL': '/3/Models/GBM_3_AutoML_20190418_120619'},\n",
       "   {'__meta': {'schema_version': 3,\n",
       "     'schema_name': 'ModelKeyV3',\n",
       "     'schema_type': 'Key<Model>'},\n",
       "    'name': 'GBM_5_AutoML_20190418_120619',\n",
       "    'type': 'Key<Model>',\n",
       "    'URL': '/3/Models/GBM_5_AutoML_20190418_120619'},\n",
       "   {'__meta': {'schema_version': 3,\n",
       "     'schema_name': 'ModelKeyV3',\n",
       "     'schema_type': 'Key<Model>'},\n",
       "    'name': 'GBM_2_AutoML_20190418_120619',\n",
       "    'type': 'Key<Model>',\n",
       "    'URL': '/3/Models/GBM_2_AutoML_20190418_120619'},\n",
       "   {'__meta': {'schema_version': 3,\n",
       "     'schema_name': 'ModelKeyV3',\n",
       "     'schema_type': 'Key<Model>'},\n",
       "    'name': 'GBM_1_AutoML_20190418_120619',\n",
       "    'type': 'Key<Model>',\n",
       "    'URL': '/3/Models/GBM_1_AutoML_20190418_120619'},\n",
       "   {'__meta': {'schema_version': 3,\n",
       "     'schema_name': 'ModelKeyV3',\n",
       "     'schema_type': 'Key<Model>'},\n",
       "    'name': 'GBM_grid_1_AutoML_20190418_120619_model_15',\n",
       "    'type': 'Key<Model>',\n",
       "    'URL': '/3/Models/GBM_grid_1_AutoML_20190418_120619_model_15'},\n",
       "   {'__meta': {'schema_version': 3,\n",
       "     'schema_name': 'ModelKeyV3',\n",
       "     'schema_type': 'Key<Model>'},\n",
       "    'name': 'GBM_grid_1_AutoML_20190418_120619_model_14',\n",
       "    'type': 'Key<Model>',\n",
       "    'URL': '/3/Models/GBM_grid_1_AutoML_20190418_120619_model_14'},\n",
       "   {'__meta': {'schema_version': 3,\n",
       "     'schema_name': 'ModelKeyV3',\n",
       "     'schema_type': 'Key<Model>'},\n",
       "    'name': 'GBM_grid_1_AutoML_20190418_120619_model_6',\n",
       "    'type': 'Key<Model>',\n",
       "    'URL': '/3/Models/GBM_grid_1_AutoML_20190418_120619_model_6'},\n",
       "   {'__meta': {'schema_version': 3,\n",
       "     'schema_name': 'ModelKeyV3',\n",
       "     'schema_type': 'Key<Model>'},\n",
       "    'name': 'GBM_grid_1_AutoML_20190418_120619_model_7',\n",
       "    'type': 'Key<Model>',\n",
       "    'URL': '/3/Models/GBM_grid_1_AutoML_20190418_120619_model_7'},\n",
       "   {'__meta': {'schema_version': 3,\n",
       "     'schema_name': 'ModelKeyV3',\n",
       "     'schema_type': 'Key<Model>'},\n",
       "    'name': 'GBM_grid_1_AutoML_20190418_120619_model_16',\n",
       "    'type': 'Key<Model>',\n",
       "    'URL': '/3/Models/GBM_grid_1_AutoML_20190418_120619_model_16'},\n",
       "   {'__meta': {'schema_version': 3,\n",
       "     'schema_name': 'ModelKeyV3',\n",
       "     'schema_type': 'Key<Model>'},\n",
       "    'name': 'GBM_grid_1_AutoML_20190418_120619_model_11',\n",
       "    'type': 'Key<Model>',\n",
       "    'URL': '/3/Models/GBM_grid_1_AutoML_20190418_120619_model_11'},\n",
       "   {'__meta': {'schema_version': 3,\n",
       "     'schema_name': 'ModelKeyV3',\n",
       "     'schema_type': 'Key<Model>'},\n",
       "    'name': 'GBM_grid_1_AutoML_20190418_120619_model_8',\n",
       "    'type': 'Key<Model>',\n",
       "    'URL': '/3/Models/GBM_grid_1_AutoML_20190418_120619_model_8'},\n",
       "   {'__meta': {'schema_version': 3,\n",
       "     'schema_name': 'ModelKeyV3',\n",
       "     'schema_type': 'Key<Model>'},\n",
       "    'name': 'GBM_grid_1_AutoML_20190418_120619_model_1',\n",
       "    'type': 'Key<Model>',\n",
       "    'URL': '/3/Models/GBM_grid_1_AutoML_20190418_120619_model_1'},\n",
       "   {'__meta': {'schema_version': 3,\n",
       "     'schema_name': 'ModelKeyV3',\n",
       "     'schema_type': 'Key<Model>'},\n",
       "    'name': 'GBM_grid_1_AutoML_20190418_120619_model_3',\n",
       "    'type': 'Key<Model>',\n",
       "    'URL': '/3/Models/GBM_grid_1_AutoML_20190418_120619_model_3'},\n",
       "   {'__meta': {'schema_version': 3,\n",
       "     'schema_name': 'ModelKeyV3',\n",
       "     'schema_type': 'Key<Model>'},\n",
       "    'name': 'GBM_grid_1_AutoML_20190418_120619_model_12',\n",
       "    'type': 'Key<Model>',\n",
       "    'URL': '/3/Models/GBM_grid_1_AutoML_20190418_120619_model_12'},\n",
       "   {'__meta': {'schema_version': 3,\n",
       "     'schema_name': 'ModelKeyV3',\n",
       "     'schema_type': 'Key<Model>'},\n",
       "    'name': 'GBM_grid_1_AutoML_20190418_120619_model_4',\n",
       "    'type': 'Key<Model>',\n",
       "    'URL': '/3/Models/GBM_grid_1_AutoML_20190418_120619_model_4'},\n",
       "   {'__meta': {'schema_version': 3,\n",
       "     'schema_name': 'ModelKeyV3',\n",
       "     'schema_type': 'Key<Model>'},\n",
       "    'name': 'GBM_grid_1_AutoML_20190418_120619_model_10',\n",
       "    'type': 'Key<Model>',\n",
       "    'URL': '/3/Models/GBM_grid_1_AutoML_20190418_120619_model_10'},\n",
       "   {'__meta': {'schema_version': 3,\n",
       "     'schema_name': 'ModelKeyV3',\n",
       "     'schema_type': 'Key<Model>'},\n",
       "    'name': 'GBM_grid_1_AutoML_20190418_120619_model_13',\n",
       "    'type': 'Key<Model>',\n",
       "    'URL': '/3/Models/GBM_grid_1_AutoML_20190418_120619_model_13'},\n",
       "   {'__meta': {'schema_version': 3,\n",
       "     'schema_name': 'ModelKeyV3',\n",
       "     'schema_type': 'Key<Model>'},\n",
       "    'name': 'DeepLearning_grid_1_AutoML_20190418_120619_model_2',\n",
       "    'type': 'Key<Model>',\n",
       "    'URL': '/3/Models/DeepLearning_grid_1_AutoML_20190418_120619_model_2'},\n",
       "   {'__meta': {'schema_version': 3,\n",
       "     'schema_name': 'ModelKeyV3',\n",
       "     'schema_type': 'Key<Model>'},\n",
       "    'name': 'DeepLearning_1_AutoML_20190418_120619',\n",
       "    'type': 'Key<Model>',\n",
       "    'URL': '/3/Models/DeepLearning_1_AutoML_20190418_120619'},\n",
       "   {'__meta': {'schema_version': 3,\n",
       "     'schema_name': 'ModelKeyV3',\n",
       "     'schema_type': 'Key<Model>'},\n",
       "    'name': 'DeepLearning_grid_1_AutoML_20190418_120619_model_1',\n",
       "    'type': 'Key<Model>',\n",
       "    'URL': '/3/Models/DeepLearning_grid_1_AutoML_20190418_120619_model_1'},\n",
       "   {'__meta': {'schema_version': 3,\n",
       "     'schema_name': 'ModelKeyV3',\n",
       "     'schema_type': 'Key<Model>'},\n",
       "    'name': 'GLM_grid_1_AutoML_20190418_120619_model_1',\n",
       "    'type': 'Key<Model>',\n",
       "    'URL': '/3/Models/GLM_grid_1_AutoML_20190418_120619_model_1'}]},\n",
       " 'metalearner_algorithm': {'default': 'AUTO', 'actual': 'AUTO'},\n",
       " 'metalearner_nfolds': {'default': 0, 'actual': 5},\n",
       " 'metalearner_fold_assignment': {'default': None, 'actual': None},\n",
       " 'metalearner_fold_column': {'default': None, 'actual': None},\n",
       " 'metalearner_params': {'default': '', 'actual': ''},\n",
       " 'seed': {'default': -1, 'actual': 2987154934889563785},\n",
       " 'keep_levelone_frame': {'default': False, 'actual': True},\n",
       " 'export_checkpoints_dir': {'default': None, 'actual': None}}"
      ]
     },
     "execution_count": 43,
     "metadata": {},
     "output_type": "execute_result"
    }
   ],
   "source": [
    "mod_best.params"
   ]
  },
  {
   "cell_type": "code",
   "execution_count": 44,
   "metadata": {},
   "outputs": [
    {
     "name": "stdout",
     "output_type": "stream",
     "text": [
      "Model Details\n",
      "=============\n",
      "H2OStackedEnsembleEstimator :  Stacked Ensemble\n",
      "Model Key:  StackedEnsemble_AllModels_AutoML_20190418_120619\n",
      "No model summary for this model\n",
      "\n",
      "\n",
      "ModelMetricsBinomialGLM: stackedensemble\n",
      "** Reported on train data. **\n",
      "\n",
      "MSE: 0.01616292634887272\n",
      "RMSE: 0.12713349813826694\n",
      "LogLoss: 0.07258968128495598\n",
      "Null degrees of freedom: 32768\n",
      "Residual degrees of freedom: 32758\n",
      "Null deviance: 14491.899767390338\n",
      "Residual deviance: 4757.382532053446\n",
      "AIC: 4779.382532053446\n",
      "AUC: 0.9949236635825064\n",
      "pr_auc: 0.9951542038750745\n",
      "Gini: 0.9898473271650128\n",
      "Confusion Matrix (Act/Pred) for max f1 @ threshold = 0.689125803422157: \n"
     ]
    },
    {
     "data": {
      "text/html": [
       "<div style=\"overflow:auto\"><table style=\"width:50%\"><tr><td><b></b></td>\n",
       "<td><b>0</b></td>\n",
       "<td><b>1</b></td>\n",
       "<td><b>Error</b></td>\n",
       "<td><b>Rate</b></td></tr>\n",
       "<tr><td>0</td>\n",
       "<td>1541.0</td>\n",
       "<td>356.0</td>\n",
       "<td>0.1877</td>\n",
       "<td> (356.0/1897.0)</td></tr>\n",
       "<tr><td>1</td>\n",
       "<td>220.0</td>\n",
       "<td>30652.0</td>\n",
       "<td>0.0071</td>\n",
       "<td> (220.0/30872.0)</td></tr>\n",
       "<tr><td>Total</td>\n",
       "<td>1761.0</td>\n",
       "<td>31008.0</td>\n",
       "<td>0.0176</td>\n",
       "<td> (576.0/32769.0)</td></tr></table></div>"
      ],
      "text/plain": [
       "       0     1      Error    Rate\n",
       "-----  ----  -----  -------  ---------------\n",
       "0      1541  356    0.1877   (356.0/1897.0)\n",
       "1      220   30652  0.0071   (220.0/30872.0)\n",
       "Total  1761  31008  0.0176   (576.0/32769.0)"
      ]
     },
     "metadata": {},
     "output_type": "display_data"
    },
    {
     "name": "stdout",
     "output_type": "stream",
     "text": [
      "Maximum Metrics: Maximum metrics at their respective thresholds\n",
      "\n"
     ]
    },
    {
     "data": {
      "text/html": [
       "<div style=\"overflow:auto\"><table style=\"width:50%\"><tr><td><b>metric</b></td>\n",
       "<td><b>threshold</b></td>\n",
       "<td><b>value</b></td>\n",
       "<td><b>idx</b></td></tr>\n",
       "<tr><td>max f1</td>\n",
       "<td>0.6891258</td>\n",
       "<td>0.9906917</td>\n",
       "<td>195.0</td></tr>\n",
       "<tr><td>max f2</td>\n",
       "<td>0.4670463</td>\n",
       "<td>0.9933452</td>\n",
       "<td>254.0</td></tr>\n",
       "<tr><td>max f0point5</td>\n",
       "<td>0.8712775</td>\n",
       "<td>0.9929180</td>\n",
       "<td>131.0</td></tr>\n",
       "<tr><td>max accuracy</td>\n",
       "<td>0.6891258</td>\n",
       "<td>0.9824224</td>\n",
       "<td>195.0</td></tr>\n",
       "<tr><td>max precision</td>\n",
       "<td>0.9829572</td>\n",
       "<td>1.0</td>\n",
       "<td>0.0</td></tr>\n",
       "<tr><td>max recall</td>\n",
       "<td>0.0575642</td>\n",
       "<td>1.0</td>\n",
       "<td>377.0</td></tr>\n",
       "<tr><td>max specificity</td>\n",
       "<td>0.9829572</td>\n",
       "<td>1.0</td>\n",
       "<td>0.0</td></tr>\n",
       "<tr><td>max absolute_mcc</td>\n",
       "<td>0.7499109</td>\n",
       "<td>0.8381336</td>\n",
       "<td>178.0</td></tr>\n",
       "<tr><td>max min_per_class_accuracy</td>\n",
       "<td>0.9112510</td>\n",
       "<td>0.9699526</td>\n",
       "<td>109.0</td></tr>\n",
       "<tr><td>max mean_per_class_accuracy</td>\n",
       "<td>0.9269884</td>\n",
       "<td>0.9732658</td>\n",
       "<td>98.0</td></tr></table></div>"
      ],
      "text/plain": [
       "metric                       threshold    value     idx\n",
       "---------------------------  -----------  --------  -----\n",
       "max f1                       0.689126     0.990692  195\n",
       "max f2                       0.467046     0.993345  254\n",
       "max f0point5                 0.871278     0.992918  131\n",
       "max accuracy                 0.689126     0.982422  195\n",
       "max precision                0.982957     1         0\n",
       "max recall                   0.0575642    1         377\n",
       "max specificity              0.982957     1         0\n",
       "max absolute_mcc             0.749911     0.838134  178\n",
       "max min_per_class_accuracy   0.911251     0.969953  109\n",
       "max mean_per_class_accuracy  0.926988     0.973266  98"
      ]
     },
     "metadata": {},
     "output_type": "display_data"
    },
    {
     "name": "stdout",
     "output_type": "stream",
     "text": [
      "Gains/Lift Table: Avg response rate: 94.21 %, avg score: 93.01 %\n",
      "\n"
     ]
    },
    {
     "data": {
      "text/html": [
       "<div style=\"overflow:auto\"><table style=\"width:50%\"><tr><td><b></b></td>\n",
       "<td><b>group</b></td>\n",
       "<td><b>cumulative_data_fraction</b></td>\n",
       "<td><b>lower_threshold</b></td>\n",
       "<td><b>lift</b></td>\n",
       "<td><b>cumulative_lift</b></td>\n",
       "<td><b>response_rate</b></td>\n",
       "<td><b>score</b></td>\n",
       "<td><b>cumulative_response_rate</b></td>\n",
       "<td><b>cumulative_score</b></td>\n",
       "<td><b>capture_rate</b></td>\n",
       "<td><b>cumulative_capture_rate</b></td>\n",
       "<td><b>gain</b></td>\n",
       "<td><b>cumulative_gain</b></td></tr>\n",
       "<tr><td></td>\n",
       "<td>1</td>\n",
       "<td>0.0100095</td>\n",
       "<td>0.9820843</td>\n",
       "<td>1.0614473</td>\n",
       "<td>1.0614473</td>\n",
       "<td>1.0</td>\n",
       "<td>0.9826455</td>\n",
       "<td>1.0</td>\n",
       "<td>0.9826455</td>\n",
       "<td>0.0106245</td>\n",
       "<td>0.0106245</td>\n",
       "<td>6.1447266</td>\n",
       "<td>6.1447266</td></tr>\n",
       "<tr><td></td>\n",
       "<td>2</td>\n",
       "<td>0.0200189</td>\n",
       "<td>0.9813978</td>\n",
       "<td>1.0614473</td>\n",
       "<td>1.0614473</td>\n",
       "<td>1.0</td>\n",
       "<td>0.9817321</td>\n",
       "<td>1.0</td>\n",
       "<td>0.9821888</td>\n",
       "<td>0.0106245</td>\n",
       "<td>0.0212490</td>\n",
       "<td>6.1447266</td>\n",
       "<td>6.1447266</td></tr>\n",
       "<tr><td></td>\n",
       "<td>3</td>\n",
       "<td>0.0300284</td>\n",
       "<td>0.9809630</td>\n",
       "<td>1.0614473</td>\n",
       "<td>1.0614473</td>\n",
       "<td>1.0</td>\n",
       "<td>0.9811662</td>\n",
       "<td>1.0</td>\n",
       "<td>0.9818479</td>\n",
       "<td>0.0106245</td>\n",
       "<td>0.0318735</td>\n",
       "<td>6.1447266</td>\n",
       "<td>6.1447266</td></tr>\n",
       "<tr><td></td>\n",
       "<td>4</td>\n",
       "<td>0.0400073</td>\n",
       "<td>0.9806558</td>\n",
       "<td>1.0614473</td>\n",
       "<td>1.0614473</td>\n",
       "<td>1.0</td>\n",
       "<td>0.9808055</td>\n",
       "<td>1.0</td>\n",
       "<td>0.9815879</td>\n",
       "<td>0.0105921</td>\n",
       "<td>0.0424657</td>\n",
       "<td>6.1447266</td>\n",
       "<td>6.1447266</td></tr>\n",
       "<tr><td></td>\n",
       "<td>5</td>\n",
       "<td>0.0500168</td>\n",
       "<td>0.9803512</td>\n",
       "<td>1.0614473</td>\n",
       "<td>1.0614473</td>\n",
       "<td>1.0</td>\n",
       "<td>0.9805048</td>\n",
       "<td>1.0</td>\n",
       "<td>0.9813712</td>\n",
       "<td>0.0106245</td>\n",
       "<td>0.0530902</td>\n",
       "<td>6.1447266</td>\n",
       "<td>6.1447266</td></tr>\n",
       "<tr><td></td>\n",
       "<td>6</td>\n",
       "<td>0.1000031</td>\n",
       "<td>0.9791916</td>\n",
       "<td>1.0614473</td>\n",
       "<td>1.0614473</td>\n",
       "<td>1.0</td>\n",
       "<td>0.9797521</td>\n",
       "<td>1.0</td>\n",
       "<td>0.9805619</td>\n",
       "<td>0.0530578</td>\n",
       "<td>0.1061480</td>\n",
       "<td>6.1447266</td>\n",
       "<td>6.1447266</td></tr>\n",
       "<tr><td></td>\n",
       "<td>7</td>\n",
       "<td>0.1500198</td>\n",
       "<td>0.9783478</td>\n",
       "<td>1.0614473</td>\n",
       "<td>1.0614473</td>\n",
       "<td>1.0</td>\n",
       "<td>0.9787399</td>\n",
       "<td>1.0</td>\n",
       "<td>0.9799544</td>\n",
       "<td>0.0530902</td>\n",
       "<td>0.1592381</td>\n",
       "<td>6.1447266</td>\n",
       "<td>6.1447266</td></tr>\n",
       "<tr><td></td>\n",
       "<td>8</td>\n",
       "<td>0.2000061</td>\n",
       "<td>0.9776349</td>\n",
       "<td>1.0614473</td>\n",
       "<td>1.0614473</td>\n",
       "<td>1.0</td>\n",
       "<td>0.9779781</td>\n",
       "<td>1.0</td>\n",
       "<td>0.9794605</td>\n",
       "<td>0.0530578</td>\n",
       "<td>0.2122959</td>\n",
       "<td>6.1447266</td>\n",
       "<td>6.1447266</td></tr>\n",
       "<tr><td></td>\n",
       "<td>9</td>\n",
       "<td>0.3000092</td>\n",
       "<td>0.9763904</td>\n",
       "<td>1.0614473</td>\n",
       "<td>1.0614473</td>\n",
       "<td>1.0</td>\n",
       "<td>0.9769940</td>\n",
       "<td>1.0</td>\n",
       "<td>0.9786383</td>\n",
       "<td>0.1061480</td>\n",
       "<td>0.3184439</td>\n",
       "<td>6.1447266</td>\n",
       "<td>6.1447266</td></tr>\n",
       "<tr><td></td>\n",
       "<td>10</td>\n",
       "<td>0.4000122</td>\n",
       "<td>0.9752391</td>\n",
       "<td>1.0614473</td>\n",
       "<td>1.0614473</td>\n",
       "<td>1.0</td>\n",
       "<td>0.9758291</td>\n",
       "<td>1.0</td>\n",
       "<td>0.9779360</td>\n",
       "<td>0.1061480</td>\n",
       "<td>0.4245919</td>\n",
       "<td>6.1447266</td>\n",
       "<td>6.1447266</td></tr>\n",
       "<tr><td></td>\n",
       "<td>11</td>\n",
       "<td>0.5000153</td>\n",
       "<td>0.9739007</td>\n",
       "<td>1.0614473</td>\n",
       "<td>1.0614473</td>\n",
       "<td>1.0</td>\n",
       "<td>0.9745901</td>\n",
       "<td>1.0</td>\n",
       "<td>0.9772668</td>\n",
       "<td>0.1061480</td>\n",
       "<td>0.5307398</td>\n",
       "<td>6.1447266</td>\n",
       "<td>6.1447266</td></tr>\n",
       "<tr><td></td>\n",
       "<td>12</td>\n",
       "<td>0.5999878</td>\n",
       "<td>0.9720626</td>\n",
       "<td>1.0614473</td>\n",
       "<td>1.0614473</td>\n",
       "<td>1.0</td>\n",
       "<td>0.9730310</td>\n",
       "<td>1.0</td>\n",
       "<td>0.9765611</td>\n",
       "<td>0.1061156</td>\n",
       "<td>0.6368554</td>\n",
       "<td>6.1447266</td>\n",
       "<td>6.1447266</td></tr>\n",
       "<tr><td></td>\n",
       "<td>13</td>\n",
       "<td>0.6999908</td>\n",
       "<td>0.9689788</td>\n",
       "<td>1.0614473</td>\n",
       "<td>1.0614473</td>\n",
       "<td>1.0</td>\n",
       "<td>0.9706790</td>\n",
       "<td>1.0</td>\n",
       "<td>0.9757207</td>\n",
       "<td>0.1061480</td>\n",
       "<td>0.7430034</td>\n",
       "<td>6.1447266</td>\n",
       "<td>6.1447266</td></tr>\n",
       "<tr><td></td>\n",
       "<td>14</td>\n",
       "<td>0.7999939</td>\n",
       "<td>0.9623958</td>\n",
       "<td>1.0614473</td>\n",
       "<td>1.0614473</td>\n",
       "<td>1.0</td>\n",
       "<td>0.9661399</td>\n",
       "<td>1.0</td>\n",
       "<td>0.9745231</td>\n",
       "<td>0.1061480</td>\n",
       "<td>0.8491513</td>\n",
       "<td>6.1447266</td>\n",
       "<td>6.1447266</td></tr>\n",
       "<tr><td></td>\n",
       "<td>15</td>\n",
       "<td>0.8999969</td>\n",
       "<td>0.9334683</td>\n",
       "<td>1.0552930</td>\n",
       "<td>1.0607634</td>\n",
       "<td>0.9942020</td>\n",
       "<td>0.9530100</td>\n",
       "<td>0.9993558</td>\n",
       "<td>0.9721326</td>\n",
       "<td>0.1055325</td>\n",
       "<td>0.9546839</td>\n",
       "<td>5.5293010</td>\n",
       "<td>6.0763437</td></tr>\n",
       "<tr><td></td>\n",
       "<td>16</td>\n",
       "<td>1.0</td>\n",
       "<td>0.0049600</td>\n",
       "<td>0.4531476</td>\n",
       "<td>1.0</td>\n",
       "<td>0.4269149</td>\n",
       "<td>0.5516336</td>\n",
       "<td>0.9421099</td>\n",
       "<td>0.9300815</td>\n",
       "<td>0.0453161</td>\n",
       "<td>1.0</td>\n",
       "<td>-54.6852388</td>\n",
       "<td>0.0</td></tr></table></div>"
      ],
      "text/plain": [
       "    group    cumulative_data_fraction    lower_threshold    lift      cumulative_lift    response_rate    score     cumulative_response_rate    cumulative_score    capture_rate    cumulative_capture_rate    gain      cumulative_gain\n",
       "--  -------  --------------------------  -----------------  --------  -----------------  ---------------  --------  --------------------------  ------------------  --------------  -------------------------  --------  -----------------\n",
       "    1        0.0100095                   0.982084           1.06145   1.06145            1                0.982645  1                           0.982645            0.0106245       0.0106245                  6.14473   6.14473\n",
       "    2        0.0200189                   0.981398           1.06145   1.06145            1                0.981732  1                           0.982189            0.0106245       0.021249                   6.14473   6.14473\n",
       "    3        0.0300284                   0.980963           1.06145   1.06145            1                0.981166  1                           0.981848            0.0106245       0.0318735                  6.14473   6.14473\n",
       "    4        0.0400073                   0.980656           1.06145   1.06145            1                0.980805  1                           0.981588            0.0105921       0.0424657                  6.14473   6.14473\n",
       "    5        0.0500168                   0.980351           1.06145   1.06145            1                0.980505  1                           0.981371            0.0106245       0.0530902                  6.14473   6.14473\n",
       "    6        0.100003                    0.979192           1.06145   1.06145            1                0.979752  1                           0.980562            0.0530578       0.106148                   6.14473   6.14473\n",
       "    7        0.15002                     0.978348           1.06145   1.06145            1                0.97874   1                           0.979954            0.0530902       0.159238                   6.14473   6.14473\n",
       "    8        0.200006                    0.977635           1.06145   1.06145            1                0.977978  1                           0.97946             0.0530578       0.212296                   6.14473   6.14473\n",
       "    9        0.300009                    0.97639            1.06145   1.06145            1                0.976994  1                           0.978638            0.106148        0.318444                   6.14473   6.14473\n",
       "    10       0.400012                    0.975239           1.06145   1.06145            1                0.975829  1                           0.977936            0.106148        0.424592                   6.14473   6.14473\n",
       "    11       0.500015                    0.973901           1.06145   1.06145            1                0.97459   1                           0.977267            0.106148        0.53074                    6.14473   6.14473\n",
       "    12       0.599988                    0.972063           1.06145   1.06145            1                0.973031  1                           0.976561            0.106116        0.636855                   6.14473   6.14473\n",
       "    13       0.699991                    0.968979           1.06145   1.06145            1                0.970679  1                           0.975721            0.106148        0.743003                   6.14473   6.14473\n",
       "    14       0.799994                    0.962396           1.06145   1.06145            1                0.96614   1                           0.974523            0.106148        0.849151                   6.14473   6.14473\n",
       "    15       0.899997                    0.933468           1.05529   1.06076            0.994202         0.95301   0.999356                    0.972133            0.105533        0.954684                   5.5293    6.07634\n",
       "    16       1                           0.00495999         0.453148  1                  0.426915         0.551634  0.94211                     0.930081            0.0453161       1                          -54.6852  0"
      ]
     },
     "metadata": {},
     "output_type": "display_data"
    },
    {
     "name": "stdout",
     "output_type": "stream",
     "text": [
      "\n",
      "\n",
      "ModelMetricsBinomialGLM: stackedensemble\n",
      "** Reported on cross-validation data. **\n",
      "\n",
      "MSE: 0.04029677044059962\n",
      "RMSE: 0.20074055504705476\n",
      "LogLoss: 0.15694947060944425\n",
      "Null degrees of freedom: 32768\n",
      "Residual degrees of freedom: 32760\n",
      "Null deviance: 14492.371329898797\n",
      "Residual deviance: 10286.154404801755\n",
      "AIC: 10304.154404801755\n",
      "AUC: 0.856369398060767\n",
      "pr_auc: 0.9833413484550406\n",
      "Gini: 0.7127387961215339\n",
      "Confusion Matrix (Act/Pred) for max f1 @ threshold = 0.41986717418985253: \n"
     ]
    },
    {
     "data": {
      "text/html": [
       "<div style=\"overflow:auto\"><table style=\"width:50%\"><tr><td><b></b></td>\n",
       "<td><b>0</b></td>\n",
       "<td><b>1</b></td>\n",
       "<td><b>Error</b></td>\n",
       "<td><b>Rate</b></td></tr>\n",
       "<tr><td>0</td>\n",
       "<td>500.0</td>\n",
       "<td>1397.0</td>\n",
       "<td>0.7364</td>\n",
       "<td> (1397.0/1897.0)</td></tr>\n",
       "<tr><td>1</td>\n",
       "<td>218.0</td>\n",
       "<td>30654.0</td>\n",
       "<td>0.0071</td>\n",
       "<td> (218.0/30872.0)</td></tr>\n",
       "<tr><td>Total</td>\n",
       "<td>718.0</td>\n",
       "<td>32051.0</td>\n",
       "<td>0.0493</td>\n",
       "<td> (1615.0/32769.0)</td></tr></table></div>"
      ],
      "text/plain": [
       "       0    1      Error    Rate\n",
       "-----  ---  -----  -------  ----------------\n",
       "0      500  1397   0.7364   (1397.0/1897.0)\n",
       "1      218  30654  0.0071   (218.0/30872.0)\n",
       "Total  718  32051  0.0493   (1615.0/32769.0)"
      ]
     },
     "metadata": {},
     "output_type": "display_data"
    },
    {
     "name": "stdout",
     "output_type": "stream",
     "text": [
      "Maximum Metrics: Maximum metrics at their respective thresholds\n",
      "\n"
     ]
    },
    {
     "data": {
      "text/html": [
       "<div style=\"overflow:auto\"><table style=\"width:50%\"><tr><td><b>metric</b></td>\n",
       "<td><b>threshold</b></td>\n",
       "<td><b>value</b></td>\n",
       "<td><b>idx</b></td></tr>\n",
       "<tr><td>max f1</td>\n",
       "<td>0.4198672</td>\n",
       "<td>0.9743337</td>\n",
       "<td>285.0</td></tr>\n",
       "<tr><td>max f2</td>\n",
       "<td>0.0252146</td>\n",
       "<td>0.9880550</td>\n",
       "<td>393.0</td></tr>\n",
       "<tr><td>max f0point5</td>\n",
       "<td>0.8639684</td>\n",
       "<td>0.9698248</td>\n",
       "<td>149.0</td></tr>\n",
       "<tr><td>max accuracy</td>\n",
       "<td>0.5895536</td>\n",
       "<td>0.9507766</td>\n",
       "<td>242.0</td></tr>\n",
       "<tr><td>max precision</td>\n",
       "<td>0.9825417</td>\n",
       "<td>0.9910913</td>\n",
       "<td>2.0</td></tr>\n",
       "<tr><td>max recall</td>\n",
       "<td>0.0069894</td>\n",
       "<td>1.0</td>\n",
       "<td>399.0</td></tr>\n",
       "<tr><td>max specificity</td>\n",
       "<td>0.9838880</td>\n",
       "<td>0.9994729</td>\n",
       "<td>0.0</td></tr>\n",
       "<tr><td>max absolute_mcc</td>\n",
       "<td>0.8128570</td>\n",
       "<td>0.4847378</td>\n",
       "<td>171.0</td></tr>\n",
       "<tr><td>max min_per_class_accuracy</td>\n",
       "<td>0.9653976</td>\n",
       "<td>0.7841086</td>\n",
       "<td>56.0</td></tr>\n",
       "<tr><td>max mean_per_class_accuracy</td>\n",
       "<td>0.9567897</td>\n",
       "<td>0.7956726</td>\n",
       "<td>72.0</td></tr></table></div>"
      ],
      "text/plain": [
       "metric                       threshold    value     idx\n",
       "---------------------------  -----------  --------  -----\n",
       "max f1                       0.419867     0.974334  285\n",
       "max f2                       0.0252146    0.988055  393\n",
       "max f0point5                 0.863968     0.969825  149\n",
       "max accuracy                 0.589554     0.950777  242\n",
       "max precision                0.982542     0.991091  2\n",
       "max recall                   0.00698941   1         399\n",
       "max specificity              0.983888     0.999473  0\n",
       "max absolute_mcc             0.812857     0.484738  171\n",
       "max min_per_class_accuracy   0.965398     0.784109  56\n",
       "max mean_per_class_accuracy  0.95679      0.795673  72"
      ]
     },
     "metadata": {},
     "output_type": "display_data"
    },
    {
     "name": "stdout",
     "output_type": "stream",
     "text": [
      "Gains/Lift Table: Avg response rate: 94.21 %, avg score: 94.21 %\n",
      "\n"
     ]
    },
    {
     "data": {
      "text/html": [
       "<div style=\"overflow:auto\"><table style=\"width:50%\"><tr><td><b></b></td>\n",
       "<td><b>group</b></td>\n",
       "<td><b>cumulative_data_fraction</b></td>\n",
       "<td><b>lower_threshold</b></td>\n",
       "<td><b>lift</b></td>\n",
       "<td><b>cumulative_lift</b></td>\n",
       "<td><b>response_rate</b></td>\n",
       "<td><b>score</b></td>\n",
       "<td><b>cumulative_response_rate</b></td>\n",
       "<td><b>cumulative_score</b></td>\n",
       "<td><b>capture_rate</b></td>\n",
       "<td><b>cumulative_capture_rate</b></td>\n",
       "<td><b>gain</b></td>\n",
       "<td><b>cumulative_gain</b></td></tr>\n",
       "<tr><td></td>\n",
       "<td>1</td>\n",
       "<td>0.0100095</td>\n",
       "<td>0.9825220</td>\n",
       "<td>1.0517389</td>\n",
       "<td>1.0517389</td>\n",
       "<td>0.9908537</td>\n",
       "<td>0.9830890</td>\n",
       "<td>0.9908537</td>\n",
       "<td>0.9830890</td>\n",
       "<td>0.0105273</td>\n",
       "<td>0.0105273</td>\n",
       "<td>5.1738907</td>\n",
       "<td>5.1738907</td></tr>\n",
       "<tr><td></td>\n",
       "<td>2</td>\n",
       "<td>0.0200189</td>\n",
       "<td>0.9819118</td>\n",
       "<td>1.0323222</td>\n",
       "<td>1.0420305</td>\n",
       "<td>0.9725610</td>\n",
       "<td>0.9821965</td>\n",
       "<td>0.9817073</td>\n",
       "<td>0.9826427</td>\n",
       "<td>0.0103330</td>\n",
       "<td>0.0208603</td>\n",
       "<td>3.2322189</td>\n",
       "<td>4.2030548</td></tr>\n",
       "<tr><td></td>\n",
       "<td>3</td>\n",
       "<td>0.0300284</td>\n",
       "<td>0.9815166</td>\n",
       "<td>1.0420305</td>\n",
       "<td>1.0420305</td>\n",
       "<td>0.9817073</td>\n",
       "<td>0.9816867</td>\n",
       "<td>0.9817073</td>\n",
       "<td>0.9823240</td>\n",
       "<td>0.0104302</td>\n",
       "<td>0.0312905</td>\n",
       "<td>4.2030548</td>\n",
       "<td>4.2030548</td></tr>\n",
       "<tr><td></td>\n",
       "<td>4</td>\n",
       "<td>0.0400073</td>\n",
       "<td>0.9811958</td>\n",
       "<td>1.0419712</td>\n",
       "<td>1.0420157</td>\n",
       "<td>0.9816514</td>\n",
       "<td>0.9813499</td>\n",
       "<td>0.9816934</td>\n",
       "<td>0.9820811</td>\n",
       "<td>0.0103978</td>\n",
       "<td>0.0416883</td>\n",
       "<td>4.1971170</td>\n",
       "<td>4.2015737</td></tr>\n",
       "<tr><td></td>\n",
       "<td>5</td>\n",
       "<td>0.0500168</td>\n",
       "<td>0.9809411</td>\n",
       "<td>1.0517389</td>\n",
       "<td>1.0439616</td>\n",
       "<td>0.9908537</td>\n",
       "<td>0.9810635</td>\n",
       "<td>0.9835265</td>\n",
       "<td>0.9818774</td>\n",
       "<td>0.0105273</td>\n",
       "<td>0.0522156</td>\n",
       "<td>5.1738907</td>\n",
       "<td>4.3961558</td></tr>\n",
       "<tr><td></td>\n",
       "<td>6</td>\n",
       "<td>0.1000031</td>\n",
       "<td>0.9800100</td>\n",
       "<td>1.0504310</td>\n",
       "<td>1.0471953</td>\n",
       "<td>0.9896215</td>\n",
       "<td>0.9804516</td>\n",
       "<td>0.9865731</td>\n",
       "<td>0.9811647</td>\n",
       "<td>0.0525071</td>\n",
       "<td>0.1047227</td>\n",
       "<td>5.0431025</td>\n",
       "<td>4.7195304</td></tr>\n",
       "<tr><td></td>\n",
       "<td>7</td>\n",
       "<td>0.1500198</td>\n",
       "<td>0.9792850</td>\n",
       "<td>1.0530282</td>\n",
       "<td>1.0491400</td>\n",
       "<td>0.9920683</td>\n",
       "<td>0.9796395</td>\n",
       "<td>0.9884052</td>\n",
       "<td>0.9806562</td>\n",
       "<td>0.0526691</td>\n",
       "<td>0.1573918</td>\n",
       "<td>5.3028221</td>\n",
       "<td>4.9140005</td></tr>\n",
       "<tr><td></td>\n",
       "<td>8</td>\n",
       "<td>0.2000061</td>\n",
       "<td>0.9786551</td>\n",
       "<td>1.0471910</td>\n",
       "<td>1.0486529</td>\n",
       "<td>0.9865690</td>\n",
       "<td>0.9789707</td>\n",
       "<td>0.9879463</td>\n",
       "<td>0.9802349</td>\n",
       "<td>0.0523452</td>\n",
       "<td>0.2097370</td>\n",
       "<td>4.7190954</td>\n",
       "<td>4.8652891</td></tr>\n",
       "<tr><td></td>\n",
       "<td>9</td>\n",
       "<td>0.3000092</td>\n",
       "<td>0.9773670</td>\n",
       "<td>1.0501105</td>\n",
       "<td>1.0491388</td>\n",
       "<td>0.9893195</td>\n",
       "<td>0.9780123</td>\n",
       "<td>0.9884040</td>\n",
       "<td>0.9794941</td>\n",
       "<td>0.1050143</td>\n",
       "<td>0.3147512</td>\n",
       "<td>5.0110478</td>\n",
       "<td>4.9138753</td></tr>\n",
       "<tr><td></td>\n",
       "<td>10</td>\n",
       "<td>0.4000122</td>\n",
       "<td>0.9759690</td>\n",
       "<td>1.0504344</td>\n",
       "<td>1.0494627</td>\n",
       "<td>0.9896247</td>\n",
       "<td>0.9766972</td>\n",
       "<td>0.9887092</td>\n",
       "<td>0.9787948</td>\n",
       "<td>0.1050466</td>\n",
       "<td>0.4197979</td>\n",
       "<td>5.0434386</td>\n",
       "<td>4.9462662</td></tr>\n",
       "<tr><td></td>\n",
       "<td>11</td>\n",
       "<td>0.5000153</td>\n",
       "<td>0.9743145</td>\n",
       "<td>1.0433084</td>\n",
       "<td>1.0482318</td>\n",
       "<td>0.9829112</td>\n",
       "<td>0.9751574</td>\n",
       "<td>0.9875496</td>\n",
       "<td>0.9780673</td>\n",
       "<td>0.1043340</td>\n",
       "<td>0.5241319</td>\n",
       "<td>4.3308405</td>\n",
       "<td>4.8231810</td></tr>\n",
       "<tr><td></td>\n",
       "<td>12</td>\n",
       "<td>0.5999878</td>\n",
       "<td>0.9720271</td>\n",
       "<td>1.0381188</td>\n",
       "<td>1.0465467</td>\n",
       "<td>0.9780220</td>\n",
       "<td>0.9732385</td>\n",
       "<td>0.9859621</td>\n",
       "<td>0.9772627</td>\n",
       "<td>0.1037834</td>\n",
       "<td>0.6279153</td>\n",
       "<td>3.8118755</td>\n",
       "<td>4.6546730</td></tr>\n",
       "<tr><td></td>\n",
       "<td>13</td>\n",
       "<td>0.6999908</td>\n",
       "<td>0.9683202</td>\n",
       "<td>1.0378020</td>\n",
       "<td>1.0452974</td>\n",
       "<td>0.9777235</td>\n",
       "<td>0.9702956</td>\n",
       "<td>0.9847851</td>\n",
       "<td>0.9762674</td>\n",
       "<td>0.1037834</td>\n",
       "<td>0.7316986</td>\n",
       "<td>3.7801965</td>\n",
       "<td>4.5297423</td></tr>\n",
       "<tr><td></td>\n",
       "<td>14</td>\n",
       "<td>0.7999939</td>\n",
       "<td>0.9608234</td>\n",
       "<td>1.0238739</td>\n",
       "<td>1.0426194</td>\n",
       "<td>0.9646018</td>\n",
       "<td>0.9650629</td>\n",
       "<td>0.9822621</td>\n",
       "<td>0.9748668</td>\n",
       "<td>0.1023905</td>\n",
       "<td>0.8340891</td>\n",
       "<td>2.3873912</td>\n",
       "<td>4.2619382</td></tr>\n",
       "<tr><td></td>\n",
       "<td>15</td>\n",
       "<td>0.8999969</td>\n",
       "<td>0.9307966</td>\n",
       "<td>0.9859766</td>\n",
       "<td>1.0363255</td>\n",
       "<td>0.9288984</td>\n",
       "<td>0.9503797</td>\n",
       "<td>0.9763326</td>\n",
       "<td>0.9721459</td>\n",
       "<td>0.0986007</td>\n",
       "<td>0.9326898</td>\n",
       "<td>-1.4023351</td>\n",
       "<td>3.6325532</td></tr>\n",
       "<tr><td></td>\n",
       "<td>16</td>\n",
       "<td>1.0</td>\n",
       "<td>0.0065711</td>\n",
       "<td>0.6730813</td>\n",
       "<td>1.0</td>\n",
       "<td>0.6341166</td>\n",
       "<td>0.6718089</td>\n",
       "<td>0.9421099</td>\n",
       "<td>0.9421113</td>\n",
       "<td>0.0673102</td>\n",
       "<td>1.0</td>\n",
       "<td>-32.6918700</td>\n",
       "<td>0.0</td></tr></table></div>"
      ],
      "text/plain": [
       "    group    cumulative_data_fraction    lower_threshold    lift      cumulative_lift    response_rate    score     cumulative_response_rate    cumulative_score    capture_rate    cumulative_capture_rate    gain      cumulative_gain\n",
       "--  -------  --------------------------  -----------------  --------  -----------------  ---------------  --------  --------------------------  ------------------  --------------  -------------------------  --------  -----------------\n",
       "    1        0.0100095                   0.982522           1.05174   1.05174            0.990854         0.983089  0.990854                    0.983089            0.0105273       0.0105273                  5.17389   5.17389\n",
       "    2        0.0200189                   0.981912           1.03232   1.04203            0.972561         0.982196  0.981707                    0.982643            0.010333        0.0208603                  3.23222   4.20305\n",
       "    3        0.0300284                   0.981517           1.04203   1.04203            0.981707         0.981687  0.981707                    0.982324            0.0104302       0.0312905                  4.20305   4.20305\n",
       "    4        0.0400073                   0.981196           1.04197   1.04202            0.981651         0.98135   0.981693                    0.982081            0.0103978       0.0416883                  4.19712   4.20157\n",
       "    5        0.0500168                   0.980941           1.05174   1.04396            0.990854         0.981063  0.983527                    0.981877            0.0105273       0.0522156                  5.17389   4.39616\n",
       "    6        0.100003                    0.98001            1.05043   1.0472             0.989621         0.980452  0.986573                    0.981165            0.0525071       0.104723                   5.0431    4.71953\n",
       "    7        0.15002                     0.979285           1.05303   1.04914            0.992068         0.979639  0.988405                    0.980656            0.0526691       0.157392                   5.30282   4.914\n",
       "    8        0.200006                    0.978655           1.04719   1.04865            0.986569         0.978971  0.987946                    0.980235            0.0523452       0.209737                   4.7191    4.86529\n",
       "    9        0.300009                    0.977367           1.05011   1.04914            0.989319         0.978012  0.988404                    0.979494            0.105014        0.314751                   5.01105   4.91388\n",
       "    10       0.400012                    0.975969           1.05043   1.04946            0.989625         0.976697  0.988709                    0.978795            0.105047        0.419798                   5.04344   4.94627\n",
       "    11       0.500015                    0.974315           1.04331   1.04823            0.982911         0.975157  0.98755                     0.978067            0.104334        0.524132                   4.33084   4.82318\n",
       "    12       0.599988                    0.972027           1.03812   1.04655            0.978022         0.973239  0.985962                    0.977263            0.103783        0.627915                   3.81188   4.65467\n",
       "    13       0.699991                    0.96832            1.0378    1.0453             0.977724         0.970296  0.984785                    0.976267            0.103783        0.731699                   3.7802    4.52974\n",
       "    14       0.799994                    0.960823           1.02387   1.04262            0.964602         0.965063  0.982262                    0.974867            0.102391        0.834089                   2.38739   4.26194\n",
       "    15       0.899997                    0.930797           0.985977  1.03633            0.928898         0.95038   0.976333                    0.972146            0.0986007       0.93269                    -1.40234  3.63255\n",
       "    16       1                           0.00657106         0.673081  1                  0.634117         0.671809  0.94211                     0.942111            0.0673102       1                          -32.6919  0"
      ]
     },
     "metadata": {},
     "output_type": "display_data"
    },
    {
     "name": "stdout",
     "output_type": "stream",
     "text": [
      "\n",
      "<bound method ModelBase.coef_norm of >\n"
     ]
    }
   ],
   "source": [
    "# generating normalized coeff.\n",
    "mods=mod_best.coef_norm\n",
    "print(mods)\n"
   ]
  },
  {
   "cell_type": "markdown",
   "metadata": {},
   "source": [
    "## Generating and storing Hyperparameters of each model into JSON"
   ]
  },
  {
   "cell_type": "code",
   "execution_count": 45,
   "metadata": {},
   "outputs": [
    {
     "data": {
      "text/plain": [
       "pandas.core.series.Series"
      ]
     },
     "execution_count": 45,
     "metadata": {},
     "output_type": "execute_result"
    }
   ],
   "source": [
    "model_set=aml_leaderboard_df['model_id']\n",
    "type(model_set)"
   ]
  },
  {
   "cell_type": "code",
   "execution_count": 46,
   "metadata": {},
   "outputs": [],
   "source": [
    "jsonDicts = []\n",
    "for m in model_set.iteritems():\n",
    "    m,model_name = m\n",
    "    mod_best = h2o.get_model(model_name)\n",
    "    jsonDicts.append(mod_best.params)"
   ]
  },
  {
   "cell_type": "code",
   "execution_count": 47,
   "metadata": {
    "scrolled": true
   },
   "outputs": [
    {
     "name": "stdout",
     "output_type": "stream",
     "text": [
      "[{'model_id': {'default': None, 'actual': {'__meta': {'schema_version': 3, 'schema_name': 'ModelKeyV3', 'schema_type': 'Key<Model>'}, 'name': 'StackedEnsemble_AllModels_AutoML_20190418_120619', 'type': 'Key<Model>', 'URL': '/3/Models/StackedEnsemble_AllModels_AutoML_20190418_120619'}}, 'training_frame': {'default': None, 'actual': {'__meta': {'schema_version': 3, 'schema_name': 'FrameKeyV3', 'schema_type': 'Key<Frame>'}, 'name': 'automl_training_py_6_sid_8fd2', 'type': 'Key<Frame>', 'URL': '/3/Frames/automl_training_py_6_sid_8fd2'}}, 'response_column': {'default': None, 'actual': {'__meta': {'schema_version': 3, 'schema_name': 'ColSpecifierV3', 'schema_type': 'VecSpecifier'}, 'column_name': 'ACTION', 'is_member_of_frames': None}}, 'validation_frame': {'default': None, 'actual': None}, 'blending_frame': {'default': None, 'actual': None}, 'base_models': {'default': [], 'actual': [{'__meta': {'schema_version': 3, 'schema_name': 'ModelKeyV3', 'schema_type': 'Key<Model>'}, 'name': 'GBM_grid_1_AutoML_20190418_120619_model_2', 'type': 'Key<Model>', 'URL': '/3/Models/GBM_grid_1_AutoML_20190418_120619_model_2'}, {'__meta': {'schema_version': 3, 'schema_name': 'ModelKeyV3', 'schema_type': 'Key<Model>'}, 'name': 'GBM_grid_1_AutoML_20190418_120619_model_5', 'type': 'Key<Model>', 'URL': '/3/Models/GBM_grid_1_AutoML_20190418_120619_model_5'}, {'__meta': {'schema_version': 3, 'schema_name': 'ModelKeyV3', 'schema_type': 'Key<Model>'}, 'name': 'DRF_1_AutoML_20190418_120619', 'type': 'Key<Model>', 'URL': '/3/Models/DRF_1_AutoML_20190418_120619'}, {'__meta': {'schema_version': 3, 'schema_name': 'ModelKeyV3', 'schema_type': 'Key<Model>'}, 'name': 'GBM_grid_1_AutoML_20190418_120619_model_9', 'type': 'Key<Model>', 'URL': '/3/Models/GBM_grid_1_AutoML_20190418_120619_model_9'}, {'__meta': {'schema_version': 3, 'schema_name': 'ModelKeyV3', 'schema_type': 'Key<Model>'}, 'name': 'GBM_4_AutoML_20190418_120619', 'type': 'Key<Model>', 'URL': '/3/Models/GBM_4_AutoML_20190418_120619'}, {'__meta': {'schema_version': 3, 'schema_name': 'ModelKeyV3', 'schema_type': 'Key<Model>'}, 'name': 'XRT_1_AutoML_20190418_120619', 'type': 'Key<Model>', 'URL': '/3/Models/XRT_1_AutoML_20190418_120619'}, {'__meta': {'schema_version': 3, 'schema_name': 'ModelKeyV3', 'schema_type': 'Key<Model>'}, 'name': 'GBM_3_AutoML_20190418_120619', 'type': 'Key<Model>', 'URL': '/3/Models/GBM_3_AutoML_20190418_120619'}, {'__meta': {'schema_version': 3, 'schema_name': 'ModelKeyV3', 'schema_type': 'Key<Model>'}, 'name': 'GBM_5_AutoML_20190418_120619', 'type': 'Key<Model>', 'URL': '/3/Models/GBM_5_AutoML_20190418_120619'}, {'__meta': {'schema_version': 3, 'schema_name': 'ModelKeyV3', 'schema_type': 'Key<Model>'}, 'name': 'GBM_2_AutoML_20190418_120619', 'type': 'Key<Model>', 'URL': '/3/Models/GBM_2_AutoML_20190418_120619'}, {'__meta': {'schema_version': 3, 'schema_name': 'ModelKeyV3', 'schema_type': 'Key<Model>'}, 'name': 'GBM_1_AutoML_20190418_120619', 'type': 'Key<Model>', 'URL': '/3/Models/GBM_1_AutoML_20190418_120619'}, {'__meta': {'schema_version': 3, 'schema_name': 'ModelKeyV3', 'schema_type': 'Key<Model>'}, 'name': 'GBM_grid_1_AutoML_20190418_120619_model_15', 'type': 'Key<Model>', 'URL': '/3/Models/GBM_grid_1_AutoML_20190418_120619_model_15'}, {'__meta': {'schema_version': 3, 'schema_name': 'ModelKeyV3', 'schema_type': 'Key<Model>'}, 'name': 'GBM_grid_1_AutoML_20190418_120619_model_14', 'type': 'Key<Model>', 'URL': '/3/Models/GBM_grid_1_AutoML_20190418_120619_model_14'}, {'__meta': {'schema_version': 3, 'schema_name': 'ModelKeyV3', 'schema_type': 'Key<Model>'}, 'name': 'GBM_grid_1_AutoML_20190418_120619_model_6', 'type': 'Key<Model>', 'URL': '/3/Models/GBM_grid_1_AutoML_20190418_120619_model_6'}, {'__meta': {'schema_version': 3, 'schema_name': 'ModelKeyV3', 'schema_type': 'Key<Model>'}, 'name': 'GBM_grid_1_AutoML_20190418_120619_model_7', 'type': 'Key<Model>', 'URL': '/3/Models/GBM_grid_1_AutoML_20190418_120619_model_7'}, {'__meta': {'schema_version': 3, 'schema_name': 'ModelKeyV3', 'schema_type': 'Key<Model>'}, 'name': 'GBM_grid_1_AutoML_20190418_120619_model_16', 'type': 'Key<Model>', 'URL': '/3/Models/GBM_grid_1_AutoML_20190418_120619_model_16'}, {'__meta': {'schema_version': 3, 'schema_name': 'ModelKeyV3', 'schema_type': 'Key<Model>'}, 'name': 'GBM_grid_1_AutoML_20190418_120619_model_11', 'type': 'Key<Model>', 'URL': '/3/Models/GBM_grid_1_AutoML_20190418_120619_model_11'}, {'__meta': {'schema_version': 3, 'schema_name': 'ModelKeyV3', 'schema_type': 'Key<Model>'}, 'name': 'GBM_grid_1_AutoML_20190418_120619_model_8', 'type': 'Key<Model>', 'URL': '/3/Models/GBM_grid_1_AutoML_20190418_120619_model_8'}, {'__meta': {'schema_version': 3, 'schema_name': 'ModelKeyV3', 'schema_type': 'Key<Model>'}, 'name': 'GBM_grid_1_AutoML_20190418_120619_model_1', 'type': 'Key<Model>', 'URL': '/3/Models/GBM_grid_1_AutoML_20190418_120619_model_1'}, {'__meta': {'schema_version': 3, 'schema_name': 'ModelKeyV3', 'schema_type': 'Key<Model>'}, 'name': 'GBM_grid_1_AutoML_20190418_120619_model_3', 'type': 'Key<Model>', 'URL': '/3/Models/GBM_grid_1_AutoML_20190418_120619_model_3'}, {'__meta': {'schema_version': 3, 'schema_name': 'ModelKeyV3', 'schema_type': 'Key<Model>'}, 'name': 'GBM_grid_1_AutoML_20190418_120619_model_12', 'type': 'Key<Model>', 'URL': '/3/Models/GBM_grid_1_AutoML_20190418_120619_model_12'}, {'__meta': {'schema_version': 3, 'schema_name': 'ModelKeyV3', 'schema_type': 'Key<Model>'}, 'name': 'GBM_grid_1_AutoML_20190418_120619_model_4', 'type': 'Key<Model>', 'URL': '/3/Models/GBM_grid_1_AutoML_20190418_120619_model_4'}, {'__meta': {'schema_version': 3, 'schema_name': 'ModelKeyV3', 'schema_type': 'Key<Model>'}, 'name': 'GBM_grid_1_AutoML_20190418_120619_model_10', 'type': 'Key<Model>', 'URL': '/3/Models/GBM_grid_1_AutoML_20190418_120619_model_10'}, {'__meta': {'schema_version': 3, 'schema_name': 'ModelKeyV3', 'schema_type': 'Key<Model>'}, 'name': 'GBM_grid_1_AutoML_20190418_120619_model_13', 'type': 'Key<Model>', 'URL': '/3/Models/GBM_grid_1_AutoML_20190418_120619_model_13'}, {'__meta': {'schema_version': 3, 'schema_name': 'ModelKeyV3', 'schema_type': 'Key<Model>'}, 'name': 'DeepLearning_grid_1_AutoML_20190418_120619_model_2', 'type': 'Key<Model>', 'URL': '/3/Models/DeepLearning_grid_1_AutoML_20190418_120619_model_2'}, {'__meta': {'schema_version': 3, 'schema_name': 'ModelKeyV3', 'schema_type': 'Key<Model>'}, 'name': 'DeepLearning_1_AutoML_20190418_120619', 'type': 'Key<Model>', 'URL': '/3/Models/DeepLearning_1_AutoML_20190418_120619'}, {'__meta': {'schema_version': 3, 'schema_name': 'ModelKeyV3', 'schema_type': 'Key<Model>'}, 'name': 'DeepLearning_grid_1_AutoML_20190418_120619_model_1', 'type': 'Key<Model>', 'URL': '/3/Models/DeepLearning_grid_1_AutoML_20190418_120619_model_1'}, {'__meta': {'schema_version': 3, 'schema_name': 'ModelKeyV3', 'schema_type': 'Key<Model>'}, 'name': 'GLM_grid_1_AutoML_20190418_120619_model_1', 'type': 'Key<Model>', 'URL': '/3/Models/GLM_grid_1_AutoML_20190418_120619_model_1'}]}, 'metalearner_algorithm': {'default': 'AUTO', 'actual': 'AUTO'}, 'metalearner_nfolds': {'default': 0, 'actual': 5}, 'metalearner_fold_assignment': {'default': None, 'actual': None}, 'metalearner_fold_column': {'default': None, 'actual': None}, 'metalearner_params': {'default': '', 'actual': ''}, 'seed': {'default': -1, 'actual': 2987154934889563785}, 'keep_levelone_frame': {'default': False, 'actual': True}, 'export_checkpoints_dir': {'default': None, 'actual': None}}, {'model_id': {'default': None, 'actual': {'__meta': {'schema_version': 3, 'schema_name': 'ModelKeyV3', 'schema_type': 'Key<Model>'}, 'name': 'StackedEnsemble_BestOfFamily_AutoML_20190418_120619', 'type': 'Key<Model>', 'URL': '/3/Models/StackedEnsemble_BestOfFamily_AutoML_20190418_120619'}}, 'training_frame': {'default': None, 'actual': {'__meta': {'schema_version': 3, 'schema_name': 'FrameKeyV3', 'schema_type': 'Key<Frame>'}, 'name': 'automl_training_py_6_sid_8fd2', 'type': 'Key<Frame>', 'URL': '/3/Frames/automl_training_py_6_sid_8fd2'}}, 'response_column': {'default': None, 'actual': {'__meta': {'schema_version': 3, 'schema_name': 'ColSpecifierV3', 'schema_type': 'VecSpecifier'}, 'column_name': 'ACTION', 'is_member_of_frames': None}}, 'validation_frame': {'default': None, 'actual': None}, 'blending_frame': {'default': None, 'actual': None}, 'base_models': {'default': [], 'actual': [{'__meta': {'schema_version': 3, 'schema_name': 'ModelKeyV3', 'schema_type': 'Key<Model>'}, 'name': 'GBM_grid_1_AutoML_20190418_120619_model_2', 'type': 'Key<Model>', 'URL': '/3/Models/GBM_grid_1_AutoML_20190418_120619_model_2'}, {'__meta': {'schema_version': 3, 'schema_name': 'ModelKeyV3', 'schema_type': 'Key<Model>'}, 'name': 'DRF_1_AutoML_20190418_120619', 'type': 'Key<Model>', 'URL': '/3/Models/DRF_1_AutoML_20190418_120619'}, {'__meta': {'schema_version': 3, 'schema_name': 'ModelKeyV3', 'schema_type': 'Key<Model>'}, 'name': 'XRT_1_AutoML_20190418_120619', 'type': 'Key<Model>', 'URL': '/3/Models/XRT_1_AutoML_20190418_120619'}, {'__meta': {'schema_version': 3, 'schema_name': 'ModelKeyV3', 'schema_type': 'Key<Model>'}, 'name': 'DeepLearning_grid_1_AutoML_20190418_120619_model_2', 'type': 'Key<Model>', 'URL': '/3/Models/DeepLearning_grid_1_AutoML_20190418_120619_model_2'}, {'__meta': {'schema_version': 3, 'schema_name': 'ModelKeyV3', 'schema_type': 'Key<Model>'}, 'name': 'GLM_grid_1_AutoML_20190418_120619_model_1', 'type': 'Key<Model>', 'URL': '/3/Models/GLM_grid_1_AutoML_20190418_120619_model_1'}]}, 'metalearner_algorithm': {'default': 'AUTO', 'actual': 'AUTO'}, 'metalearner_nfolds': {'default': 0, 'actual': 5}, 'metalearner_fold_assignment': {'default': None, 'actual': None}, 'metalearner_fold_column': {'default': None, 'actual': None}, 'metalearner_params': {'default': '', 'actual': ''}, 'seed': {'default': -1, 'actual': -8840136521542082847}, 'keep_levelone_frame': {'default': False, 'actual': True}, 'export_checkpoints_dir': {'default': None, 'actual': None}}, {'model_id': {'default': None, 'actual': {'__meta': {'schema_version': 3, 'schema_name': 'ModelKeyV3', 'schema_type': 'Key<Model>'}, 'name': 'GBM_grid_1_AutoML_20190418_120619_model_2', 'type': 'Key<Model>', 'URL': '/3/Models/GBM_grid_1_AutoML_20190418_120619_model_2'}}, 'training_frame': {'default': None, 'actual': {'__meta': {'schema_version': 3, 'schema_name': 'FrameKeyV3', 'schema_type': 'Key<Frame>'}, 'name': 'automl_training_py_6_sid_8fd2', 'type': 'Key<Frame>', 'URL': '/3/Frames/automl_training_py_6_sid_8fd2'}}, 'validation_frame': {'default': None, 'actual': None}, 'nfolds': {'default': 0, 'actual': 5}, 'keep_cross_validation_models': {'default': True, 'actual': False}, 'keep_cross_validation_predictions': {'default': False, 'actual': True}, 'keep_cross_validation_fold_assignment': {'default': False, 'actual': False}, 'score_each_iteration': {'default': False, 'actual': False}, 'score_tree_interval': {'default': 0, 'actual': 5}, 'fold_assignment': {'default': 'AUTO', 'actual': 'Modulo'}, 'fold_column': {'default': None, 'actual': None}, 'response_column': {'default': None, 'actual': {'__meta': {'schema_version': 3, 'schema_name': 'ColSpecifierV3', 'schema_type': 'VecSpecifier'}, 'column_name': 'ACTION', 'is_member_of_frames': None}}, 'ignored_columns': {'default': None, 'actual': []}, 'ignore_const_cols': {'default': True, 'actual': True}, 'offset_column': {'default': None, 'actual': None}, 'weights_column': {'default': None, 'actual': None}, 'balance_classes': {'default': False, 'actual': False}, 'class_sampling_factors': {'default': None, 'actual': None}, 'max_after_balance_size': {'default': 5.0, 'actual': 5.0}, 'max_confusion_matrix_size': {'default': 20, 'actual': 20}, 'max_hit_ratio_k': {'default': 0, 'actual': 0}, 'ntrees': {'default': 50, 'actual': 48}, 'max_depth': {'default': 5, 'actual': 17}, 'min_rows': {'default': 10.0, 'actual': 10.0}, 'nbins': {'default': 20, 'actual': 20}, 'nbins_top_level': {'default': 1024, 'actual': 1024}, 'nbins_cats': {'default': 1024, 'actual': 1024}, 'r2_stopping': {'default': 1.7976931348623157e+308, 'actual': 1.7976931348623157e+308}, 'stopping_rounds': {'default': 0, 'actual': 0}, 'stopping_metric': {'default': 'AUTO', 'actual': 'logloss'}, 'stopping_tolerance': {'default': 0.001, 'actual': 0.005524187436252161}, 'max_runtime_secs': {'default': 0.0, 'actual': 0.0}, 'seed': {'default': -1, 'actual': 3846836560315518293}, 'build_tree_one_node': {'default': False, 'actual': False}, 'learn_rate': {'default': 0.1, 'actual': 0.1}, 'learn_rate_annealing': {'default': 1.0, 'actual': 1.0}, 'distribution': {'default': 'AUTO', 'actual': 'bernoulli'}, 'quantile_alpha': {'default': 0.5, 'actual': 0.5}, 'tweedie_power': {'default': 1.5, 'actual': 1.5}, 'huber_alpha': {'default': 0.9, 'actual': 0.9}, 'checkpoint': {'default': None, 'actual': None}, 'sample_rate': {'default': 1.0, 'actual': 0.9}, 'sample_rate_per_class': {'default': None, 'actual': None}, 'col_sample_rate': {'default': 1.0, 'actual': 1.0}, 'col_sample_rate_change_per_level': {'default': 1.0, 'actual': 1.0}, 'col_sample_rate_per_tree': {'default': 1.0, 'actual': 0.7}, 'min_split_improvement': {'default': 1e-05, 'actual': 0.0001}, 'histogram_type': {'default': 'AUTO', 'actual': 'AUTO'}, 'max_abs_leafnode_pred': {'default': 1.7976931348623157e+308, 'actual': 1.7976931348623157e+308}, 'pred_noise_bandwidth': {'default': 0.0, 'actual': 0.0}, 'categorical_encoding': {'default': 'AUTO', 'actual': 'AUTO'}, 'calibrate_model': {'default': False, 'actual': False}, 'calibration_frame': {'default': None, 'actual': None}, 'custom_metric_func': {'default': None, 'actual': None}, 'export_checkpoints_dir': {'default': None, 'actual': None}, 'monotone_constraints': {'default': None, 'actual': None}, 'check_constant_response': {'default': True, 'actual': True}}, {'model_id': {'default': None, 'actual': {'__meta': {'schema_version': 3, 'schema_name': 'ModelKeyV3', 'schema_type': 'Key<Model>'}, 'name': 'GBM_grid_1_AutoML_20190418_120619_model_5', 'type': 'Key<Model>', 'URL': '/3/Models/GBM_grid_1_AutoML_20190418_120619_model_5'}}, 'training_frame': {'default': None, 'actual': {'__meta': {'schema_version': 3, 'schema_name': 'FrameKeyV3', 'schema_type': 'Key<Frame>'}, 'name': 'automl_training_py_6_sid_8fd2', 'type': 'Key<Frame>', 'URL': '/3/Frames/automl_training_py_6_sid_8fd2'}}, 'validation_frame': {'default': None, 'actual': None}, 'nfolds': {'default': 0, 'actual': 5}, 'keep_cross_validation_models': {'default': True, 'actual': False}, 'keep_cross_validation_predictions': {'default': False, 'actual': True}, 'keep_cross_validation_fold_assignment': {'default': False, 'actual': False}, 'score_each_iteration': {'default': False, 'actual': False}, 'score_tree_interval': {'default': 0, 'actual': 5}, 'fold_assignment': {'default': 'AUTO', 'actual': 'Modulo'}, 'fold_column': {'default': None, 'actual': None}, 'response_column': {'default': None, 'actual': {'__meta': {'schema_version': 3, 'schema_name': 'ColSpecifierV3', 'schema_type': 'VecSpecifier'}, 'column_name': 'ACTION', 'is_member_of_frames': None}}, 'ignored_columns': {'default': None, 'actual': []}, 'ignore_const_cols': {'default': True, 'actual': True}, 'offset_column': {'default': None, 'actual': None}, 'weights_column': {'default': None, 'actual': None}, 'balance_classes': {'default': False, 'actual': False}, 'class_sampling_factors': {'default': None, 'actual': None}, 'max_after_balance_size': {'default': 5.0, 'actual': 5.0}, 'max_confusion_matrix_size': {'default': 20, 'actual': 20}, 'max_hit_ratio_k': {'default': 0, 'actual': 0}, 'ntrees': {'default': 50, 'actual': 175}, 'max_depth': {'default': 5, 'actual': 15}, 'min_rows': {'default': 10.0, 'actual': 15.0}, 'nbins': {'default': 20, 'actual': 20}, 'nbins_top_level': {'default': 1024, 'actual': 1024}, 'nbins_cats': {'default': 1024, 'actual': 1024}, 'r2_stopping': {'default': 1.7976931348623157e+308, 'actual': 1.7976931348623157e+308}, 'stopping_rounds': {'default': 0, 'actual': 0}, 'stopping_metric': {'default': 'AUTO', 'actual': 'logloss'}, 'stopping_tolerance': {'default': 0.001, 'actual': 0.005524187436252161}, 'max_runtime_secs': {'default': 0.0, 'actual': 0.0}, 'seed': {'default': -1, 'actual': -5892433646984390739}, 'build_tree_one_node': {'default': False, 'actual': False}, 'learn_rate': {'default': 0.1, 'actual': 0.05}, 'learn_rate_annealing': {'default': 1.0, 'actual': 1.0}, 'distribution': {'default': 'AUTO', 'actual': 'bernoulli'}, 'quantile_alpha': {'default': 0.5, 'actual': 0.5}, 'tweedie_power': {'default': 1.5, 'actual': 1.5}, 'huber_alpha': {'default': 0.9, 'actual': 0.9}, 'checkpoint': {'default': None, 'actual': None}, 'sample_rate': {'default': 1.0, 'actual': 0.8}, 'sample_rate_per_class': {'default': None, 'actual': None}, 'col_sample_rate': {'default': 1.0, 'actual': 0.4}, 'col_sample_rate_change_per_level': {'default': 1.0, 'actual': 1.0}, 'col_sample_rate_per_tree': {'default': 1.0, 'actual': 0.4}, 'min_split_improvement': {'default': 1e-05, 'actual': 1e-05}, 'histogram_type': {'default': 'AUTO', 'actual': 'AUTO'}, 'max_abs_leafnode_pred': {'default': 1.7976931348623157e+308, 'actual': 1.7976931348623157e+308}, 'pred_noise_bandwidth': {'default': 0.0, 'actual': 0.0}, 'categorical_encoding': {'default': 'AUTO', 'actual': 'AUTO'}, 'calibrate_model': {'default': False, 'actual': False}, 'calibration_frame': {'default': None, 'actual': None}, 'custom_metric_func': {'default': None, 'actual': None}, 'export_checkpoints_dir': {'default': None, 'actual': None}, 'monotone_constraints': {'default': None, 'actual': None}, 'check_constant_response': {'default': True, 'actual': True}}, {'model_id': {'default': None, 'actual': {'__meta': {'schema_version': 3, 'schema_name': 'ModelKeyV3', 'schema_type': 'Key<Model>'}, 'name': 'DRF_1_AutoML_20190418_120619', 'type': 'Key<Model>', 'URL': '/3/Models/DRF_1_AutoML_20190418_120619'}}, 'training_frame': {'default': None, 'actual': {'__meta': {'schema_version': 3, 'schema_name': 'FrameKeyV3', 'schema_type': 'Key<Frame>'}, 'name': 'automl_training_py_6_sid_8fd2', 'type': 'Key<Frame>', 'URL': '/3/Frames/automl_training_py_6_sid_8fd2'}}, 'validation_frame': {'default': None, 'actual': None}, 'nfolds': {'default': 0, 'actual': 5}, 'keep_cross_validation_models': {'default': True, 'actual': False}, 'keep_cross_validation_predictions': {'default': False, 'actual': True}, 'keep_cross_validation_fold_assignment': {'default': False, 'actual': False}, 'score_each_iteration': {'default': False, 'actual': False}, 'score_tree_interval': {'default': 0, 'actual': 0}, 'fold_assignment': {'default': 'AUTO', 'actual': 'Modulo'}, 'fold_column': {'default': None, 'actual': None}, 'response_column': {'default': None, 'actual': {'__meta': {'schema_version': 3, 'schema_name': 'ColSpecifierV3', 'schema_type': 'VecSpecifier'}, 'column_name': 'ACTION', 'is_member_of_frames': None}}, 'ignored_columns': {'default': None, 'actual': []}, 'ignore_const_cols': {'default': True, 'actual': True}, 'offset_column': {'default': None, 'actual': None}, 'weights_column': {'default': None, 'actual': None}, 'balance_classes': {'default': False, 'actual': False}, 'class_sampling_factors': {'default': None, 'actual': None}, 'max_after_balance_size': {'default': 5.0, 'actual': 5.0}, 'max_confusion_matrix_size': {'default': 20, 'actual': 20}, 'max_hit_ratio_k': {'default': 0, 'actual': 0}, 'ntrees': {'default': 50, 'actual': 50}, 'max_depth': {'default': 20, 'actual': 20}, 'min_rows': {'default': 1.0, 'actual': 1.0}, 'nbins': {'default': 20, 'actual': 20}, 'nbins_top_level': {'default': 1024, 'actual': 1024}, 'nbins_cats': {'default': 1024, 'actual': 1024}, 'r2_stopping': {'default': 1.7976931348623157e+308, 'actual': 1.7976931348623157e+308}, 'stopping_rounds': {'default': 0, 'actual': 0}, 'stopping_metric': {'default': 'AUTO', 'actual': 'logloss'}, 'stopping_tolerance': {'default': 0.001, 'actual': 0.005524187436252161}, 'max_runtime_secs': {'default': 0.0, 'actual': 0.0}, 'seed': {'default': -1, 'actual': -5281310908901286458}, 'build_tree_one_node': {'default': False, 'actual': False}, 'mtries': {'default': -1, 'actual': -1}, 'sample_rate': {'default': 0.6320000290870667, 'actual': 0.6320000290870667}, 'sample_rate_per_class': {'default': None, 'actual': None}, 'binomial_double_trees': {'default': False, 'actual': False}, 'checkpoint': {'default': None, 'actual': None}, 'col_sample_rate_change_per_level': {'default': 1.0, 'actual': 1.0}, 'col_sample_rate_per_tree': {'default': 1.0, 'actual': 1.0}, 'min_split_improvement': {'default': 1e-05, 'actual': 1e-05}, 'histogram_type': {'default': 'AUTO', 'actual': 'AUTO'}, 'categorical_encoding': {'default': 'AUTO', 'actual': 'AUTO'}, 'calibrate_model': {'default': False, 'actual': False}, 'calibration_frame': {'default': None, 'actual': None}, 'distribution': {'default': 'AUTO', 'actual': 'multinomial'}, 'custom_metric_func': {'default': None, 'actual': None}, 'export_checkpoints_dir': {'default': None, 'actual': None}, 'check_constant_response': {'default': True, 'actual': True}}, {'model_id': {'default': None, 'actual': {'__meta': {'schema_version': 3, 'schema_name': 'ModelKeyV3', 'schema_type': 'Key<Model>'}, 'name': 'GBM_grid_1_AutoML_20190418_120619_model_9', 'type': 'Key<Model>', 'URL': '/3/Models/GBM_grid_1_AutoML_20190418_120619_model_9'}}, 'training_frame': {'default': None, 'actual': {'__meta': {'schema_version': 3, 'schema_name': 'FrameKeyV3', 'schema_type': 'Key<Frame>'}, 'name': 'automl_training_py_6_sid_8fd2', 'type': 'Key<Frame>', 'URL': '/3/Frames/automl_training_py_6_sid_8fd2'}}, 'validation_frame': {'default': None, 'actual': None}, 'nfolds': {'default': 0, 'actual': 5}, 'keep_cross_validation_models': {'default': True, 'actual': False}, 'keep_cross_validation_predictions': {'default': False, 'actual': True}, 'keep_cross_validation_fold_assignment': {'default': False, 'actual': False}, 'score_each_iteration': {'default': False, 'actual': False}, 'score_tree_interval': {'default': 0, 'actual': 5}, 'fold_assignment': {'default': 'AUTO', 'actual': 'Modulo'}, 'fold_column': {'default': None, 'actual': None}, 'response_column': {'default': None, 'actual': {'__meta': {'schema_version': 3, 'schema_name': 'ColSpecifierV3', 'schema_type': 'VecSpecifier'}, 'column_name': 'ACTION', 'is_member_of_frames': None}}, 'ignored_columns': {'default': None, 'actual': []}, 'ignore_const_cols': {'default': True, 'actual': True}, 'offset_column': {'default': None, 'actual': None}, 'weights_column': {'default': None, 'actual': None}, 'balance_classes': {'default': False, 'actual': False}, 'class_sampling_factors': {'default': None, 'actual': None}, 'max_after_balance_size': {'default': 5.0, 'actual': 5.0}, 'max_confusion_matrix_size': {'default': 20, 'actual': 20}, 'max_hit_ratio_k': {'default': 0, 'actual': 0}, 'ntrees': {'default': 50, 'actual': 165}, 'max_depth': {'default': 5, 'actual': 15}, 'min_rows': {'default': 10.0, 'actual': 1.0}, 'nbins': {'default': 20, 'actual': 20}, 'nbins_top_level': {'default': 1024, 'actual': 1024}, 'nbins_cats': {'default': 1024, 'actual': 1024}, 'r2_stopping': {'default': 1.7976931348623157e+308, 'actual': 1.7976931348623157e+308}, 'stopping_rounds': {'default': 0, 'actual': 0}, 'stopping_metric': {'default': 'AUTO', 'actual': 'logloss'}, 'stopping_tolerance': {'default': 0.001, 'actual': 0.005524187436252161}, 'max_runtime_secs': {'default': 0.0, 'actual': 0.0}, 'seed': {'default': -1, 'actual': -6172838796751536916}, 'build_tree_one_node': {'default': False, 'actual': False}, 'learn_rate': {'default': 0.1, 'actual': 0.01}, 'learn_rate_annealing': {'default': 1.0, 'actual': 1.0}, 'distribution': {'default': 'AUTO', 'actual': 'bernoulli'}, 'quantile_alpha': {'default': 0.5, 'actual': 0.5}, 'tweedie_power': {'default': 1.5, 'actual': 1.5}, 'huber_alpha': {'default': 0.9, 'actual': 0.9}, 'checkpoint': {'default': None, 'actual': None}, 'sample_rate': {'default': 1.0, 'actual': 0.6}, 'sample_rate_per_class': {'default': None, 'actual': None}, 'col_sample_rate': {'default': 1.0, 'actual': 0.7}, 'col_sample_rate_change_per_level': {'default': 1.0, 'actual': 1.0}, 'col_sample_rate_per_tree': {'default': 1.0, 'actual': 1.0}, 'min_split_improvement': {'default': 1e-05, 'actual': 1e-05}, 'histogram_type': {'default': 'AUTO', 'actual': 'AUTO'}, 'max_abs_leafnode_pred': {'default': 1.7976931348623157e+308, 'actual': 1.7976931348623157e+308}, 'pred_noise_bandwidth': {'default': 0.0, 'actual': 0.0}, 'categorical_encoding': {'default': 'AUTO', 'actual': 'AUTO'}, 'calibrate_model': {'default': False, 'actual': False}, 'calibration_frame': {'default': None, 'actual': None}, 'custom_metric_func': {'default': None, 'actual': None}, 'export_checkpoints_dir': {'default': None, 'actual': None}, 'monotone_constraints': {'default': None, 'actual': None}, 'check_constant_response': {'default': True, 'actual': True}}, {'model_id': {'default': None, 'actual': {'__meta': {'schema_version': 3, 'schema_name': 'ModelKeyV3', 'schema_type': 'Key<Model>'}, 'name': 'GBM_4_AutoML_20190418_120619', 'type': 'Key<Model>', 'URL': '/3/Models/GBM_4_AutoML_20190418_120619'}}, 'training_frame': {'default': None, 'actual': {'__meta': {'schema_version': 3, 'schema_name': 'FrameKeyV3', 'schema_type': 'Key<Frame>'}, 'name': 'automl_training_py_6_sid_8fd2', 'type': 'Key<Frame>', 'URL': '/3/Frames/automl_training_py_6_sid_8fd2'}}, 'validation_frame': {'default': None, 'actual': None}, 'nfolds': {'default': 0, 'actual': 5}, 'keep_cross_validation_models': {'default': True, 'actual': False}, 'keep_cross_validation_predictions': {'default': False, 'actual': True}, 'keep_cross_validation_fold_assignment': {'default': False, 'actual': False}, 'score_each_iteration': {'default': False, 'actual': False}, 'score_tree_interval': {'default': 0, 'actual': 5}, 'fold_assignment': {'default': 'AUTO', 'actual': 'Modulo'}, 'fold_column': {'default': None, 'actual': None}, 'response_column': {'default': None, 'actual': {'__meta': {'schema_version': 3, 'schema_name': 'ColSpecifierV3', 'schema_type': 'VecSpecifier'}, 'column_name': 'ACTION', 'is_member_of_frames': None}}, 'ignored_columns': {'default': None, 'actual': []}, 'ignore_const_cols': {'default': True, 'actual': True}, 'offset_column': {'default': None, 'actual': None}, 'weights_column': {'default': None, 'actual': None}, 'balance_classes': {'default': False, 'actual': False}, 'class_sampling_factors': {'default': None, 'actual': None}, 'max_after_balance_size': {'default': 5.0, 'actual': 5.0}, 'max_confusion_matrix_size': {'default': 20, 'actual': 20}, 'max_hit_ratio_k': {'default': 0, 'actual': 0}, 'ntrees': {'default': 50, 'actual': 95}, 'max_depth': {'default': 5, 'actual': 15}, 'min_rows': {'default': 10.0, 'actual': 100.0}, 'nbins': {'default': 20, 'actual': 20}, 'nbins_top_level': {'default': 1024, 'actual': 1024}, 'nbins_cats': {'default': 1024, 'actual': 1024}, 'r2_stopping': {'default': 1.7976931348623157e+308, 'actual': 1.7976931348623157e+308}, 'stopping_rounds': {'default': 0, 'actual': 0}, 'stopping_metric': {'default': 'AUTO', 'actual': 'logloss'}, 'stopping_tolerance': {'default': 0.001, 'actual': 0.005524187436252161}, 'max_runtime_secs': {'default': 0.0, 'actual': 0.0}, 'seed': {'default': -1, 'actual': 1034609719205856520}, 'build_tree_one_node': {'default': False, 'actual': False}, 'learn_rate': {'default': 0.1, 'actual': 0.1}, 'learn_rate_annealing': {'default': 1.0, 'actual': 1.0}, 'distribution': {'default': 'AUTO', 'actual': 'bernoulli'}, 'quantile_alpha': {'default': 0.5, 'actual': 0.5}, 'tweedie_power': {'default': 1.5, 'actual': 1.5}, 'huber_alpha': {'default': 0.9, 'actual': 0.9}, 'checkpoint': {'default': None, 'actual': None}, 'sample_rate': {'default': 1.0, 'actual': 0.8}, 'sample_rate_per_class': {'default': None, 'actual': None}, 'col_sample_rate': {'default': 1.0, 'actual': 0.8}, 'col_sample_rate_change_per_level': {'default': 1.0, 'actual': 1.0}, 'col_sample_rate_per_tree': {'default': 1.0, 'actual': 0.8}, 'min_split_improvement': {'default': 1e-05, 'actual': 1e-05}, 'histogram_type': {'default': 'AUTO', 'actual': 'AUTO'}, 'max_abs_leafnode_pred': {'default': 1.7976931348623157e+308, 'actual': 1.7976931348623157e+308}, 'pred_noise_bandwidth': {'default': 0.0, 'actual': 0.0}, 'categorical_encoding': {'default': 'AUTO', 'actual': 'AUTO'}, 'calibrate_model': {'default': False, 'actual': False}, 'calibration_frame': {'default': None, 'actual': None}, 'custom_metric_func': {'default': None, 'actual': None}, 'export_checkpoints_dir': {'default': None, 'actual': None}, 'monotone_constraints': {'default': None, 'actual': None}, 'check_constant_response': {'default': True, 'actual': True}}, {'model_id': {'default': None, 'actual': {'__meta': {'schema_version': 3, 'schema_name': 'ModelKeyV3', 'schema_type': 'Key<Model>'}, 'name': 'XRT_1_AutoML_20190418_120619', 'type': 'Key<Model>', 'URL': '/3/Models/XRT_1_AutoML_20190418_120619'}}, 'training_frame': {'default': None, 'actual': {'__meta': {'schema_version': 3, 'schema_name': 'FrameKeyV3', 'schema_type': 'Key<Frame>'}, 'name': 'automl_training_py_6_sid_8fd2', 'type': 'Key<Frame>', 'URL': '/3/Frames/automl_training_py_6_sid_8fd2'}}, 'validation_frame': {'default': None, 'actual': None}, 'nfolds': {'default': 0, 'actual': 5}, 'keep_cross_validation_models': {'default': True, 'actual': False}, 'keep_cross_validation_predictions': {'default': False, 'actual': True}, 'keep_cross_validation_fold_assignment': {'default': False, 'actual': False}, 'score_each_iteration': {'default': False, 'actual': False}, 'score_tree_interval': {'default': 0, 'actual': 0}, 'fold_assignment': {'default': 'AUTO', 'actual': 'Modulo'}, 'fold_column': {'default': None, 'actual': None}, 'response_column': {'default': None, 'actual': {'__meta': {'schema_version': 3, 'schema_name': 'ColSpecifierV3', 'schema_type': 'VecSpecifier'}, 'column_name': 'ACTION', 'is_member_of_frames': None}}, 'ignored_columns': {'default': None, 'actual': []}, 'ignore_const_cols': {'default': True, 'actual': True}, 'offset_column': {'default': None, 'actual': None}, 'weights_column': {'default': None, 'actual': None}, 'balance_classes': {'default': False, 'actual': False}, 'class_sampling_factors': {'default': None, 'actual': None}, 'max_after_balance_size': {'default': 5.0, 'actual': 5.0}, 'max_confusion_matrix_size': {'default': 20, 'actual': 20}, 'max_hit_ratio_k': {'default': 0, 'actual': 0}, 'ntrees': {'default': 50, 'actual': 44}, 'max_depth': {'default': 20, 'actual': 20}, 'min_rows': {'default': 1.0, 'actual': 1.0}, 'nbins': {'default': 20, 'actual': 20}, 'nbins_top_level': {'default': 1024, 'actual': 1024}, 'nbins_cats': {'default': 1024, 'actual': 1024}, 'r2_stopping': {'default': 1.7976931348623157e+308, 'actual': 1.7976931348623157e+308}, 'stopping_rounds': {'default': 0, 'actual': 0}, 'stopping_metric': {'default': 'AUTO', 'actual': 'logloss'}, 'stopping_tolerance': {'default': 0.001, 'actual': 0.005524187436252161}, 'max_runtime_secs': {'default': 0.0, 'actual': 0.0}, 'seed': {'default': -1, 'actual': -2046696709357167697}, 'build_tree_one_node': {'default': False, 'actual': False}, 'mtries': {'default': -1, 'actual': -1}, 'sample_rate': {'default': 0.6320000290870667, 'actual': 0.6320000290870667}, 'sample_rate_per_class': {'default': None, 'actual': None}, 'binomial_double_trees': {'default': False, 'actual': False}, 'checkpoint': {'default': None, 'actual': None}, 'col_sample_rate_change_per_level': {'default': 1.0, 'actual': 1.0}, 'col_sample_rate_per_tree': {'default': 1.0, 'actual': 1.0}, 'min_split_improvement': {'default': 1e-05, 'actual': 1e-05}, 'histogram_type': {'default': 'AUTO', 'actual': 'Random'}, 'categorical_encoding': {'default': 'AUTO', 'actual': 'AUTO'}, 'calibrate_model': {'default': False, 'actual': False}, 'calibration_frame': {'default': None, 'actual': None}, 'distribution': {'default': 'AUTO', 'actual': 'multinomial'}, 'custom_metric_func': {'default': None, 'actual': None}, 'export_checkpoints_dir': {'default': None, 'actual': None}, 'check_constant_response': {'default': True, 'actual': True}}, {'model_id': {'default': None, 'actual': {'__meta': {'schema_version': 3, 'schema_name': 'ModelKeyV3', 'schema_type': 'Key<Model>'}, 'name': 'GBM_3_AutoML_20190418_120619', 'type': 'Key<Model>', 'URL': '/3/Models/GBM_3_AutoML_20190418_120619'}}, 'training_frame': {'default': None, 'actual': {'__meta': {'schema_version': 3, 'schema_name': 'FrameKeyV3', 'schema_type': 'Key<Frame>'}, 'name': 'automl_training_py_6_sid_8fd2', 'type': 'Key<Frame>', 'URL': '/3/Frames/automl_training_py_6_sid_8fd2'}}, 'validation_frame': {'default': None, 'actual': None}, 'nfolds': {'default': 0, 'actual': 5}, 'keep_cross_validation_models': {'default': True, 'actual': False}, 'keep_cross_validation_predictions': {'default': False, 'actual': True}, 'keep_cross_validation_fold_assignment': {'default': False, 'actual': False}, 'score_each_iteration': {'default': False, 'actual': False}, 'score_tree_interval': {'default': 0, 'actual': 5}, 'fold_assignment': {'default': 'AUTO', 'actual': 'Modulo'}, 'fold_column': {'default': None, 'actual': None}, 'response_column': {'default': None, 'actual': {'__meta': {'schema_version': 3, 'schema_name': 'ColSpecifierV3', 'schema_type': 'VecSpecifier'}, 'column_name': 'ACTION', 'is_member_of_frames': None}}, 'ignored_columns': {'default': None, 'actual': []}, 'ignore_const_cols': {'default': True, 'actual': True}, 'offset_column': {'default': None, 'actual': None}, 'weights_column': {'default': None, 'actual': None}, 'balance_classes': {'default': False, 'actual': False}, 'class_sampling_factors': {'default': None, 'actual': None}, 'max_after_balance_size': {'default': 5.0, 'actual': 5.0}, 'max_confusion_matrix_size': {'default': 20, 'actual': 20}, 'max_hit_ratio_k': {'default': 0, 'actual': 0}, 'ntrees': {'default': 50, 'actual': 95}, 'max_depth': {'default': 5, 'actual': 15}, 'min_rows': {'default': 10.0, 'actual': 100.0}, 'nbins': {'default': 20, 'actual': 20}, 'nbins_top_level': {'default': 1024, 'actual': 1024}, 'nbins_cats': {'default': 1024, 'actual': 1024}, 'r2_stopping': {'default': 1.7976931348623157e+308, 'actual': 1.7976931348623157e+308}, 'stopping_rounds': {'default': 0, 'actual': 0}, 'stopping_metric': {'default': 'AUTO', 'actual': 'logloss'}, 'stopping_tolerance': {'default': 0.001, 'actual': 0.005524187436252161}, 'max_runtime_secs': {'default': 0.0, 'actual': 0.0}, 'seed': {'default': -1, 'actual': 1034609719205856520}, 'build_tree_one_node': {'default': False, 'actual': False}, 'learn_rate': {'default': 0.1, 'actual': 0.1}, 'learn_rate_annealing': {'default': 1.0, 'actual': 1.0}, 'distribution': {'default': 'AUTO', 'actual': 'bernoulli'}, 'quantile_alpha': {'default': 0.5, 'actual': 0.5}, 'tweedie_power': {'default': 1.5, 'actual': 1.5}, 'huber_alpha': {'default': 0.9, 'actual': 0.9}, 'checkpoint': {'default': None, 'actual': None}, 'sample_rate': {'default': 1.0, 'actual': 0.8}, 'sample_rate_per_class': {'default': None, 'actual': None}, 'col_sample_rate': {'default': 1.0, 'actual': 0.8}, 'col_sample_rate_change_per_level': {'default': 1.0, 'actual': 1.0}, 'col_sample_rate_per_tree': {'default': 1.0, 'actual': 0.8}, 'min_split_improvement': {'default': 1e-05, 'actual': 1e-05}, 'histogram_type': {'default': 'AUTO', 'actual': 'AUTO'}, 'max_abs_leafnode_pred': {'default': 1.7976931348623157e+308, 'actual': 1.7976931348623157e+308}, 'pred_noise_bandwidth': {'default': 0.0, 'actual': 0.0}, 'categorical_encoding': {'default': 'AUTO', 'actual': 'AUTO'}, 'calibrate_model': {'default': False, 'actual': False}, 'calibration_frame': {'default': None, 'actual': None}, 'custom_metric_func': {'default': None, 'actual': None}, 'export_checkpoints_dir': {'default': None, 'actual': None}, 'monotone_constraints': {'default': None, 'actual': None}, 'check_constant_response': {'default': True, 'actual': True}}, {'model_id': {'default': None, 'actual': {'__meta': {'schema_version': 3, 'schema_name': 'ModelKeyV3', 'schema_type': 'Key<Model>'}, 'name': 'GBM_5_AutoML_20190418_120619', 'type': 'Key<Model>', 'URL': '/3/Models/GBM_5_AutoML_20190418_120619'}}, 'training_frame': {'default': None, 'actual': {'__meta': {'schema_version': 3, 'schema_name': 'FrameKeyV3', 'schema_type': 'Key<Frame>'}, 'name': 'automl_training_py_6_sid_8fd2', 'type': 'Key<Frame>', 'URL': '/3/Frames/automl_training_py_6_sid_8fd2'}}, 'validation_frame': {'default': None, 'actual': None}, 'nfolds': {'default': 0, 'actual': 5}, 'keep_cross_validation_models': {'default': True, 'actual': False}, 'keep_cross_validation_predictions': {'default': False, 'actual': True}, 'keep_cross_validation_fold_assignment': {'default': False, 'actual': False}, 'score_each_iteration': {'default': False, 'actual': False}, 'score_tree_interval': {'default': 0, 'actual': 5}, 'fold_assignment': {'default': 'AUTO', 'actual': 'Modulo'}, 'fold_column': {'default': None, 'actual': None}, 'response_column': {'default': None, 'actual': {'__meta': {'schema_version': 3, 'schema_name': 'ColSpecifierV3', 'schema_type': 'VecSpecifier'}, 'column_name': 'ACTION', 'is_member_of_frames': None}}, 'ignored_columns': {'default': None, 'actual': []}, 'ignore_const_cols': {'default': True, 'actual': True}, 'offset_column': {'default': None, 'actual': None}, 'weights_column': {'default': None, 'actual': None}, 'balance_classes': {'default': False, 'actual': False}, 'class_sampling_factors': {'default': None, 'actual': None}, 'max_after_balance_size': {'default': 5.0, 'actual': 5.0}, 'max_confusion_matrix_size': {'default': 20, 'actual': 20}, 'max_hit_ratio_k': {'default': 0, 'actual': 0}, 'ntrees': {'default': 50, 'actual': 95}, 'max_depth': {'default': 5, 'actual': 15}, 'min_rows': {'default': 10.0, 'actual': 100.0}, 'nbins': {'default': 20, 'actual': 20}, 'nbins_top_level': {'default': 1024, 'actual': 1024}, 'nbins_cats': {'default': 1024, 'actual': 1024}, 'r2_stopping': {'default': 1.7976931348623157e+308, 'actual': 1.7976931348623157e+308}, 'stopping_rounds': {'default': 0, 'actual': 0}, 'stopping_metric': {'default': 'AUTO', 'actual': 'logloss'}, 'stopping_tolerance': {'default': 0.001, 'actual': 0.005524187436252161}, 'max_runtime_secs': {'default': 0.0, 'actual': 0.0}, 'seed': {'default': -1, 'actual': 1034609719205856520}, 'build_tree_one_node': {'default': False, 'actual': False}, 'learn_rate': {'default': 0.1, 'actual': 0.1}, 'learn_rate_annealing': {'default': 1.0, 'actual': 1.0}, 'distribution': {'default': 'AUTO', 'actual': 'bernoulli'}, 'quantile_alpha': {'default': 0.5, 'actual': 0.5}, 'tweedie_power': {'default': 1.5, 'actual': 1.5}, 'huber_alpha': {'default': 0.9, 'actual': 0.9}, 'checkpoint': {'default': None, 'actual': None}, 'sample_rate': {'default': 1.0, 'actual': 0.8}, 'sample_rate_per_class': {'default': None, 'actual': None}, 'col_sample_rate': {'default': 1.0, 'actual': 0.8}, 'col_sample_rate_change_per_level': {'default': 1.0, 'actual': 1.0}, 'col_sample_rate_per_tree': {'default': 1.0, 'actual': 0.8}, 'min_split_improvement': {'default': 1e-05, 'actual': 1e-05}, 'histogram_type': {'default': 'AUTO', 'actual': 'AUTO'}, 'max_abs_leafnode_pred': {'default': 1.7976931348623157e+308, 'actual': 1.7976931348623157e+308}, 'pred_noise_bandwidth': {'default': 0.0, 'actual': 0.0}, 'categorical_encoding': {'default': 'AUTO', 'actual': 'AUTO'}, 'calibrate_model': {'default': False, 'actual': False}, 'calibration_frame': {'default': None, 'actual': None}, 'custom_metric_func': {'default': None, 'actual': None}, 'export_checkpoints_dir': {'default': None, 'actual': None}, 'monotone_constraints': {'default': None, 'actual': None}, 'check_constant_response': {'default': True, 'actual': True}}, {'model_id': {'default': None, 'actual': {'__meta': {'schema_version': 3, 'schema_name': 'ModelKeyV3', 'schema_type': 'Key<Model>'}, 'name': 'GBM_2_AutoML_20190418_120619', 'type': 'Key<Model>', 'URL': '/3/Models/GBM_2_AutoML_20190418_120619'}}, 'training_frame': {'default': None, 'actual': {'__meta': {'schema_version': 3, 'schema_name': 'FrameKeyV3', 'schema_type': 'Key<Frame>'}, 'name': 'automl_training_py_6_sid_8fd2', 'type': 'Key<Frame>', 'URL': '/3/Frames/automl_training_py_6_sid_8fd2'}}, 'validation_frame': {'default': None, 'actual': None}, 'nfolds': {'default': 0, 'actual': 5}, 'keep_cross_validation_models': {'default': True, 'actual': False}, 'keep_cross_validation_predictions': {'default': False, 'actual': True}, 'keep_cross_validation_fold_assignment': {'default': False, 'actual': False}, 'score_each_iteration': {'default': False, 'actual': False}, 'score_tree_interval': {'default': 0, 'actual': 5}, 'fold_assignment': {'default': 'AUTO', 'actual': 'Modulo'}, 'fold_column': {'default': None, 'actual': None}, 'response_column': {'default': None, 'actual': {'__meta': {'schema_version': 3, 'schema_name': 'ColSpecifierV3', 'schema_type': 'VecSpecifier'}, 'column_name': 'ACTION', 'is_member_of_frames': None}}, 'ignored_columns': {'default': None, 'actual': []}, 'ignore_const_cols': {'default': True, 'actual': True}, 'offset_column': {'default': None, 'actual': None}, 'weights_column': {'default': None, 'actual': None}, 'balance_classes': {'default': False, 'actual': False}, 'class_sampling_factors': {'default': None, 'actual': None}, 'max_after_balance_size': {'default': 5.0, 'actual': 5.0}, 'max_confusion_matrix_size': {'default': 20, 'actual': 20}, 'max_hit_ratio_k': {'default': 0, 'actual': 0}, 'ntrees': {'default': 50, 'actual': 95}, 'max_depth': {'default': 5, 'actual': 15}, 'min_rows': {'default': 10.0, 'actual': 100.0}, 'nbins': {'default': 20, 'actual': 20}, 'nbins_top_level': {'default': 1024, 'actual': 1024}, 'nbins_cats': {'default': 1024, 'actual': 1024}, 'r2_stopping': {'default': 1.7976931348623157e+308, 'actual': 1.7976931348623157e+308}, 'stopping_rounds': {'default': 0, 'actual': 0}, 'stopping_metric': {'default': 'AUTO', 'actual': 'logloss'}, 'stopping_tolerance': {'default': 0.001, 'actual': 0.005524187436252161}, 'max_runtime_secs': {'default': 0.0, 'actual': 0.0}, 'seed': {'default': -1, 'actual': 1034609719205856520}, 'build_tree_one_node': {'default': False, 'actual': False}, 'learn_rate': {'default': 0.1, 'actual': 0.1}, 'learn_rate_annealing': {'default': 1.0, 'actual': 1.0}, 'distribution': {'default': 'AUTO', 'actual': 'bernoulli'}, 'quantile_alpha': {'default': 0.5, 'actual': 0.5}, 'tweedie_power': {'default': 1.5, 'actual': 1.5}, 'huber_alpha': {'default': 0.9, 'actual': 0.9}, 'checkpoint': {'default': None, 'actual': None}, 'sample_rate': {'default': 1.0, 'actual': 0.8}, 'sample_rate_per_class': {'default': None, 'actual': None}, 'col_sample_rate': {'default': 1.0, 'actual': 0.8}, 'col_sample_rate_change_per_level': {'default': 1.0, 'actual': 1.0}, 'col_sample_rate_per_tree': {'default': 1.0, 'actual': 0.8}, 'min_split_improvement': {'default': 1e-05, 'actual': 1e-05}, 'histogram_type': {'default': 'AUTO', 'actual': 'AUTO'}, 'max_abs_leafnode_pred': {'default': 1.7976931348623157e+308, 'actual': 1.7976931348623157e+308}, 'pred_noise_bandwidth': {'default': 0.0, 'actual': 0.0}, 'categorical_encoding': {'default': 'AUTO', 'actual': 'AUTO'}, 'calibrate_model': {'default': False, 'actual': False}, 'calibration_frame': {'default': None, 'actual': None}, 'custom_metric_func': {'default': None, 'actual': None}, 'export_checkpoints_dir': {'default': None, 'actual': None}, 'monotone_constraints': {'default': None, 'actual': None}, 'check_constant_response': {'default': True, 'actual': True}}, {'model_id': {'default': None, 'actual': {'__meta': {'schema_version': 3, 'schema_name': 'ModelKeyV3', 'schema_type': 'Key<Model>'}, 'name': 'GBM_1_AutoML_20190418_120619', 'type': 'Key<Model>', 'URL': '/3/Models/GBM_1_AutoML_20190418_120619'}}, 'training_frame': {'default': None, 'actual': {'__meta': {'schema_version': 3, 'schema_name': 'FrameKeyV3', 'schema_type': 'Key<Frame>'}, 'name': 'automl_training_py_6_sid_8fd2', 'type': 'Key<Frame>', 'URL': '/3/Frames/automl_training_py_6_sid_8fd2'}}, 'validation_frame': {'default': None, 'actual': None}, 'nfolds': {'default': 0, 'actual': 5}, 'keep_cross_validation_models': {'default': True, 'actual': False}, 'keep_cross_validation_predictions': {'default': False, 'actual': True}, 'keep_cross_validation_fold_assignment': {'default': False, 'actual': False}, 'score_each_iteration': {'default': False, 'actual': False}, 'score_tree_interval': {'default': 0, 'actual': 5}, 'fold_assignment': {'default': 'AUTO', 'actual': 'Modulo'}, 'fold_column': {'default': None, 'actual': None}, 'response_column': {'default': None, 'actual': {'__meta': {'schema_version': 3, 'schema_name': 'ColSpecifierV3', 'schema_type': 'VecSpecifier'}, 'column_name': 'ACTION', 'is_member_of_frames': None}}, 'ignored_columns': {'default': None, 'actual': []}, 'ignore_const_cols': {'default': True, 'actual': True}, 'offset_column': {'default': None, 'actual': None}, 'weights_column': {'default': None, 'actual': None}, 'balance_classes': {'default': False, 'actual': False}, 'class_sampling_factors': {'default': None, 'actual': None}, 'max_after_balance_size': {'default': 5.0, 'actual': 5.0}, 'max_confusion_matrix_size': {'default': 20, 'actual': 20}, 'max_hit_ratio_k': {'default': 0, 'actual': 0}, 'ntrees': {'default': 50, 'actual': 95}, 'max_depth': {'default': 5, 'actual': 15}, 'min_rows': {'default': 10.0, 'actual': 100.0}, 'nbins': {'default': 20, 'actual': 20}, 'nbins_top_level': {'default': 1024, 'actual': 1024}, 'nbins_cats': {'default': 1024, 'actual': 1024}, 'r2_stopping': {'default': 1.7976931348623157e+308, 'actual': 1.7976931348623157e+308}, 'stopping_rounds': {'default': 0, 'actual': 0}, 'stopping_metric': {'default': 'AUTO', 'actual': 'logloss'}, 'stopping_tolerance': {'default': 0.001, 'actual': 0.005524187436252161}, 'max_runtime_secs': {'default': 0.0, 'actual': 0.0}, 'seed': {'default': -1, 'actual': 1034609719205856520}, 'build_tree_one_node': {'default': False, 'actual': False}, 'learn_rate': {'default': 0.1, 'actual': 0.1}, 'learn_rate_annealing': {'default': 1.0, 'actual': 1.0}, 'distribution': {'default': 'AUTO', 'actual': 'bernoulli'}, 'quantile_alpha': {'default': 0.5, 'actual': 0.5}, 'tweedie_power': {'default': 1.5, 'actual': 1.5}, 'huber_alpha': {'default': 0.9, 'actual': 0.9}, 'checkpoint': {'default': None, 'actual': None}, 'sample_rate': {'default': 1.0, 'actual': 0.8}, 'sample_rate_per_class': {'default': None, 'actual': None}, 'col_sample_rate': {'default': 1.0, 'actual': 0.8}, 'col_sample_rate_change_per_level': {'default': 1.0, 'actual': 1.0}, 'col_sample_rate_per_tree': {'default': 1.0, 'actual': 0.8}, 'min_split_improvement': {'default': 1e-05, 'actual': 1e-05}, 'histogram_type': {'default': 'AUTO', 'actual': 'AUTO'}, 'max_abs_leafnode_pred': {'default': 1.7976931348623157e+308, 'actual': 1.7976931348623157e+308}, 'pred_noise_bandwidth': {'default': 0.0, 'actual': 0.0}, 'categorical_encoding': {'default': 'AUTO', 'actual': 'AUTO'}, 'calibrate_model': {'default': False, 'actual': False}, 'calibration_frame': {'default': None, 'actual': None}, 'custom_metric_func': {'default': None, 'actual': None}, 'export_checkpoints_dir': {'default': None, 'actual': None}, 'monotone_constraints': {'default': None, 'actual': None}, 'check_constant_response': {'default': True, 'actual': True}}, {'model_id': {'default': None, 'actual': {'__meta': {'schema_version': 3, 'schema_name': 'ModelKeyV3', 'schema_type': 'Key<Model>'}, 'name': 'GBM_grid_1_AutoML_20190418_120619_model_15', 'type': 'Key<Model>', 'URL': '/3/Models/GBM_grid_1_AutoML_20190418_120619_model_15'}}, 'training_frame': {'default': None, 'actual': {'__meta': {'schema_version': 3, 'schema_name': 'FrameKeyV3', 'schema_type': 'Key<Frame>'}, 'name': 'automl_training_py_6_sid_8fd2', 'type': 'Key<Frame>', 'URL': '/3/Frames/automl_training_py_6_sid_8fd2'}}, 'validation_frame': {'default': None, 'actual': None}, 'nfolds': {'default': 0, 'actual': 5}, 'keep_cross_validation_models': {'default': True, 'actual': False}, 'keep_cross_validation_predictions': {'default': False, 'actual': True}, 'keep_cross_validation_fold_assignment': {'default': False, 'actual': False}, 'score_each_iteration': {'default': False, 'actual': False}, 'score_tree_interval': {'default': 0, 'actual': 5}, 'fold_assignment': {'default': 'AUTO', 'actual': 'Modulo'}, 'fold_column': {'default': None, 'actual': None}, 'response_column': {'default': None, 'actual': {'__meta': {'schema_version': 3, 'schema_name': 'ColSpecifierV3', 'schema_type': 'VecSpecifier'}, 'column_name': 'ACTION', 'is_member_of_frames': None}}, 'ignored_columns': {'default': None, 'actual': []}, 'ignore_const_cols': {'default': True, 'actual': True}, 'offset_column': {'default': None, 'actual': None}, 'weights_column': {'default': None, 'actual': None}, 'balance_classes': {'default': False, 'actual': False}, 'class_sampling_factors': {'default': None, 'actual': None}, 'max_after_balance_size': {'default': 5.0, 'actual': 5.0}, 'max_confusion_matrix_size': {'default': 20, 'actual': 20}, 'max_hit_ratio_k': {'default': 0, 'actual': 0}, 'ntrees': {'default': 50, 'actual': 99}, 'max_depth': {'default': 5, 'actual': 14}, 'min_rows': {'default': 10.0, 'actual': 30.0}, 'nbins': {'default': 20, 'actual': 20}, 'nbins_top_level': {'default': 1024, 'actual': 1024}, 'nbins_cats': {'default': 1024, 'actual': 1024}, 'r2_stopping': {'default': 1.7976931348623157e+308, 'actual': 1.7976931348623157e+308}, 'stopping_rounds': {'default': 0, 'actual': 0}, 'stopping_metric': {'default': 'AUTO', 'actual': 'logloss'}, 'stopping_tolerance': {'default': 0.001, 'actual': 0.005524187436252161}, 'max_runtime_secs': {'default': 0.0, 'actual': 0.0}, 'seed': {'default': -1, 'actual': -8470772432010435471}, 'build_tree_one_node': {'default': False, 'actual': False}, 'learn_rate': {'default': 0.1, 'actual': 0.1}, 'learn_rate_annealing': {'default': 1.0, 'actual': 1.0}, 'distribution': {'default': 'AUTO', 'actual': 'bernoulli'}, 'quantile_alpha': {'default': 0.5, 'actual': 0.5}, 'tweedie_power': {'default': 1.5, 'actual': 1.5}, 'huber_alpha': {'default': 0.9, 'actual': 0.9}, 'checkpoint': {'default': None, 'actual': None}, 'sample_rate': {'default': 1.0, 'actual': 0.6}, 'sample_rate_per_class': {'default': None, 'actual': None}, 'col_sample_rate': {'default': 1.0, 'actual': 0.4}, 'col_sample_rate_change_per_level': {'default': 1.0, 'actual': 1.0}, 'col_sample_rate_per_tree': {'default': 1.0, 'actual': 0.4}, 'min_split_improvement': {'default': 1e-05, 'actual': 1e-05}, 'histogram_type': {'default': 'AUTO', 'actual': 'AUTO'}, 'max_abs_leafnode_pred': {'default': 1.7976931348623157e+308, 'actual': 1.7976931348623157e+308}, 'pred_noise_bandwidth': {'default': 0.0, 'actual': 0.0}, 'categorical_encoding': {'default': 'AUTO', 'actual': 'AUTO'}, 'calibrate_model': {'default': False, 'actual': False}, 'calibration_frame': {'default': None, 'actual': None}, 'custom_metric_func': {'default': None, 'actual': None}, 'export_checkpoints_dir': {'default': None, 'actual': None}, 'monotone_constraints': {'default': None, 'actual': None}, 'check_constant_response': {'default': True, 'actual': True}}, {'model_id': {'default': None, 'actual': {'__meta': {'schema_version': 3, 'schema_name': 'ModelKeyV3', 'schema_type': 'Key<Model>'}, 'name': 'GBM_grid_1_AutoML_20190418_120619_model_14', 'type': 'Key<Model>', 'URL': '/3/Models/GBM_grid_1_AutoML_20190418_120619_model_14'}}, 'training_frame': {'default': None, 'actual': {'__meta': {'schema_version': 3, 'schema_name': 'FrameKeyV3', 'schema_type': 'Key<Frame>'}, 'name': 'automl_training_py_6_sid_8fd2', 'type': 'Key<Frame>', 'URL': '/3/Frames/automl_training_py_6_sid_8fd2'}}, 'validation_frame': {'default': None, 'actual': None}, 'nfolds': {'default': 0, 'actual': 5}, 'keep_cross_validation_models': {'default': True, 'actual': False}, 'keep_cross_validation_predictions': {'default': False, 'actual': True}, 'keep_cross_validation_fold_assignment': {'default': False, 'actual': False}, 'score_each_iteration': {'default': False, 'actual': False}, 'score_tree_interval': {'default': 0, 'actual': 5}, 'fold_assignment': {'default': 'AUTO', 'actual': 'Modulo'}, 'fold_column': {'default': None, 'actual': None}, 'response_column': {'default': None, 'actual': {'__meta': {'schema_version': 3, 'schema_name': 'ColSpecifierV3', 'schema_type': 'VecSpecifier'}, 'column_name': 'ACTION', 'is_member_of_frames': None}}, 'ignored_columns': {'default': None, 'actual': []}, 'ignore_const_cols': {'default': True, 'actual': True}, 'offset_column': {'default': None, 'actual': None}, 'weights_column': {'default': None, 'actual': None}, 'balance_classes': {'default': False, 'actual': False}, 'class_sampling_factors': {'default': None, 'actual': None}, 'max_after_balance_size': {'default': 5.0, 'actual': 5.0}, 'max_confusion_matrix_size': {'default': 20, 'actual': 20}, 'max_hit_ratio_k': {'default': 0, 'actual': 0}, 'ntrees': {'default': 50, 'actual': 209}, 'max_depth': {'default': 5, 'actual': 11}, 'min_rows': {'default': 10.0, 'actual': 15.0}, 'nbins': {'default': 20, 'actual': 20}, 'nbins_top_level': {'default': 1024, 'actual': 1024}, 'nbins_cats': {'default': 1024, 'actual': 1024}, 'r2_stopping': {'default': 1.7976931348623157e+308, 'actual': 1.7976931348623157e+308}, 'stopping_rounds': {'default': 0, 'actual': 0}, 'stopping_metric': {'default': 'AUTO', 'actual': 'logloss'}, 'stopping_tolerance': {'default': 0.001, 'actual': 0.005524187436252161}, 'max_runtime_secs': {'default': 0.0, 'actual': 0.0}, 'seed': {'default': -1, 'actual': 6487084726390067138}, 'build_tree_one_node': {'default': False, 'actual': False}, 'learn_rate': {'default': 0.1, 'actual': 0.01}, 'learn_rate_annealing': {'default': 1.0, 'actual': 1.0}, 'distribution': {'default': 'AUTO', 'actual': 'bernoulli'}, 'quantile_alpha': {'default': 0.5, 'actual': 0.5}, 'tweedie_power': {'default': 1.5, 'actual': 1.5}, 'huber_alpha': {'default': 0.9, 'actual': 0.9}, 'checkpoint': {'default': None, 'actual': None}, 'sample_rate': {'default': 1.0, 'actual': 0.9}, 'sample_rate_per_class': {'default': None, 'actual': None}, 'col_sample_rate': {'default': 1.0, 'actual': 0.4}, 'col_sample_rate_change_per_level': {'default': 1.0, 'actual': 1.0}, 'col_sample_rate_per_tree': {'default': 1.0, 'actual': 0.4}, 'min_split_improvement': {'default': 1e-05, 'actual': 0.0001}, 'histogram_type': {'default': 'AUTO', 'actual': 'AUTO'}, 'max_abs_leafnode_pred': {'default': 1.7976931348623157e+308, 'actual': 1.7976931348623157e+308}, 'pred_noise_bandwidth': {'default': 0.0, 'actual': 0.0}, 'categorical_encoding': {'default': 'AUTO', 'actual': 'AUTO'}, 'calibrate_model': {'default': False, 'actual': False}, 'calibration_frame': {'default': None, 'actual': None}, 'custom_metric_func': {'default': None, 'actual': None}, 'export_checkpoints_dir': {'default': None, 'actual': None}, 'monotone_constraints': {'default': None, 'actual': None}, 'check_constant_response': {'default': True, 'actual': True}}, {'model_id': {'default': None, 'actual': {'__meta': {'schema_version': 3, 'schema_name': 'ModelKeyV3', 'schema_type': 'Key<Model>'}, 'name': 'GBM_grid_1_AutoML_20190418_120619_model_6', 'type': 'Key<Model>', 'URL': '/3/Models/GBM_grid_1_AutoML_20190418_120619_model_6'}}, 'training_frame': {'default': None, 'actual': {'__meta': {'schema_version': 3, 'schema_name': 'FrameKeyV3', 'schema_type': 'Key<Frame>'}, 'name': 'automl_training_py_6_sid_8fd2', 'type': 'Key<Frame>', 'URL': '/3/Frames/automl_training_py_6_sid_8fd2'}}, 'validation_frame': {'default': None, 'actual': None}, 'nfolds': {'default': 0, 'actual': 5}, 'keep_cross_validation_models': {'default': True, 'actual': False}, 'keep_cross_validation_predictions': {'default': False, 'actual': True}, 'keep_cross_validation_fold_assignment': {'default': False, 'actual': False}, 'score_each_iteration': {'default': False, 'actual': False}, 'score_tree_interval': {'default': 0, 'actual': 5}, 'fold_assignment': {'default': 'AUTO', 'actual': 'Modulo'}, 'fold_column': {'default': None, 'actual': None}, 'response_column': {'default': None, 'actual': {'__meta': {'schema_version': 3, 'schema_name': 'ColSpecifierV3', 'schema_type': 'VecSpecifier'}, 'column_name': 'ACTION', 'is_member_of_frames': None}}, 'ignored_columns': {'default': None, 'actual': []}, 'ignore_const_cols': {'default': True, 'actual': True}, 'offset_column': {'default': None, 'actual': None}, 'weights_column': {'default': None, 'actual': None}, 'balance_classes': {'default': False, 'actual': False}, 'class_sampling_factors': {'default': None, 'actual': None}, 'max_after_balance_size': {'default': 5.0, 'actual': 5.0}, 'max_confusion_matrix_size': {'default': 20, 'actual': 20}, 'max_hit_ratio_k': {'default': 0, 'actual': 0}, 'ntrees': {'default': 50, 'actual': 229}, 'max_depth': {'default': 5, 'actual': 16}, 'min_rows': {'default': 10.0, 'actual': 100.0}, 'nbins': {'default': 20, 'actual': 20}, 'nbins_top_level': {'default': 1024, 'actual': 1024}, 'nbins_cats': {'default': 1024, 'actual': 1024}, 'r2_stopping': {'default': 1.7976931348623157e+308, 'actual': 1.7976931348623157e+308}, 'stopping_rounds': {'default': 0, 'actual': 0}, 'stopping_metric': {'default': 'AUTO', 'actual': 'logloss'}, 'stopping_tolerance': {'default': 0.001, 'actual': 0.005524187436252161}, 'max_runtime_secs': {'default': 0.0, 'actual': 0.0}, 'seed': {'default': -1, 'actual': 86555695995142894}, 'build_tree_one_node': {'default': False, 'actual': False}, 'learn_rate': {'default': 0.1, 'actual': 0.01}, 'learn_rate_annealing': {'default': 1.0, 'actual': 1.0}, 'distribution': {'default': 'AUTO', 'actual': 'bernoulli'}, 'quantile_alpha': {'default': 0.5, 'actual': 0.5}, 'tweedie_power': {'default': 1.5, 'actual': 1.5}, 'huber_alpha': {'default': 0.9, 'actual': 0.9}, 'checkpoint': {'default': None, 'actual': None}, 'sample_rate': {'default': 1.0, 'actual': 0.5}, 'sample_rate_per_class': {'default': None, 'actual': None}, 'col_sample_rate': {'default': 1.0, 'actual': 0.7}, 'col_sample_rate_change_per_level': {'default': 1.0, 'actual': 1.0}, 'col_sample_rate_per_tree': {'default': 1.0, 'actual': 0.7}, 'min_split_improvement': {'default': 1e-05, 'actual': 1e-05}, 'histogram_type': {'default': 'AUTO', 'actual': 'AUTO'}, 'max_abs_leafnode_pred': {'default': 1.7976931348623157e+308, 'actual': 1.7976931348623157e+308}, 'pred_noise_bandwidth': {'default': 0.0, 'actual': 0.0}, 'categorical_encoding': {'default': 'AUTO', 'actual': 'AUTO'}, 'calibrate_model': {'default': False, 'actual': False}, 'calibration_frame': {'default': None, 'actual': None}, 'custom_metric_func': {'default': None, 'actual': None}, 'export_checkpoints_dir': {'default': None, 'actual': None}, 'monotone_constraints': {'default': None, 'actual': None}, 'check_constant_response': {'default': True, 'actual': True}}, {'model_id': {'default': None, 'actual': {'__meta': {'schema_version': 3, 'schema_name': 'ModelKeyV3', 'schema_type': 'Key<Model>'}, 'name': 'GBM_grid_1_AutoML_20190418_120619_model_7', 'type': 'Key<Model>', 'URL': '/3/Models/GBM_grid_1_AutoML_20190418_120619_model_7'}}, 'training_frame': {'default': None, 'actual': {'__meta': {'schema_version': 3, 'schema_name': 'FrameKeyV3', 'schema_type': 'Key<Frame>'}, 'name': 'automl_training_py_6_sid_8fd2', 'type': 'Key<Frame>', 'URL': '/3/Frames/automl_training_py_6_sid_8fd2'}}, 'validation_frame': {'default': None, 'actual': None}, 'nfolds': {'default': 0, 'actual': 5}, 'keep_cross_validation_models': {'default': True, 'actual': False}, 'keep_cross_validation_predictions': {'default': False, 'actual': True}, 'keep_cross_validation_fold_assignment': {'default': False, 'actual': False}, 'score_each_iteration': {'default': False, 'actual': False}, 'score_tree_interval': {'default': 0, 'actual': 5}, 'fold_assignment': {'default': 'AUTO', 'actual': 'Modulo'}, 'fold_column': {'default': None, 'actual': None}, 'response_column': {'default': None, 'actual': {'__meta': {'schema_version': 3, 'schema_name': 'ColSpecifierV3', 'schema_type': 'VecSpecifier'}, 'column_name': 'ACTION', 'is_member_of_frames': None}}, 'ignored_columns': {'default': None, 'actual': []}, 'ignore_const_cols': {'default': True, 'actual': True}, 'offset_column': {'default': None, 'actual': None}, 'weights_column': {'default': None, 'actual': None}, 'balance_classes': {'default': False, 'actual': False}, 'class_sampling_factors': {'default': None, 'actual': None}, 'max_after_balance_size': {'default': 5.0, 'actual': 5.0}, 'max_confusion_matrix_size': {'default': 20, 'actual': 20}, 'max_hit_ratio_k': {'default': 0, 'actual': 0}, 'ntrees': {'default': 50, 'actual': 30}, 'max_depth': {'default': 5, 'actual': 10}, 'min_rows': {'default': 10.0, 'actual': 30.0}, 'nbins': {'default': 20, 'actual': 20}, 'nbins_top_level': {'default': 1024, 'actual': 1024}, 'nbins_cats': {'default': 1024, 'actual': 1024}, 'r2_stopping': {'default': 1.7976931348623157e+308, 'actual': 1.7976931348623157e+308}, 'stopping_rounds': {'default': 0, 'actual': 0}, 'stopping_metric': {'default': 'AUTO', 'actual': 'logloss'}, 'stopping_tolerance': {'default': 0.001, 'actual': 0.005524187436252161}, 'max_runtime_secs': {'default': 0.0, 'actual': 0.0}, 'seed': {'default': -1, 'actual': 3570658859587001939}, 'build_tree_one_node': {'default': False, 'actual': False}, 'learn_rate': {'default': 0.1, 'actual': 0.8}, 'learn_rate_annealing': {'default': 1.0, 'actual': 1.0}, 'distribution': {'default': 'AUTO', 'actual': 'bernoulli'}, 'quantile_alpha': {'default': 0.5, 'actual': 0.5}, 'tweedie_power': {'default': 1.5, 'actual': 1.5}, 'huber_alpha': {'default': 0.9, 'actual': 0.9}, 'checkpoint': {'default': None, 'actual': None}, 'sample_rate': {'default': 1.0, 'actual': 0.8}, 'sample_rate_per_class': {'default': None, 'actual': None}, 'col_sample_rate': {'default': 1.0, 'actual': 1.0}, 'col_sample_rate_change_per_level': {'default': 1.0, 'actual': 1.0}, 'col_sample_rate_per_tree': {'default': 1.0, 'actual': 1.0}, 'min_split_improvement': {'default': 1e-05, 'actual': 0.0001}, 'histogram_type': {'default': 'AUTO', 'actual': 'AUTO'}, 'max_abs_leafnode_pred': {'default': 1.7976931348623157e+308, 'actual': 1.7976931348623157e+308}, 'pred_noise_bandwidth': {'default': 0.0, 'actual': 0.0}, 'categorical_encoding': {'default': 'AUTO', 'actual': 'AUTO'}, 'calibrate_model': {'default': False, 'actual': False}, 'calibration_frame': {'default': None, 'actual': None}, 'custom_metric_func': {'default': None, 'actual': None}, 'export_checkpoints_dir': {'default': None, 'actual': None}, 'monotone_constraints': {'default': None, 'actual': None}, 'check_constant_response': {'default': True, 'actual': True}}, {'model_id': {'default': None, 'actual': {'__meta': {'schema_version': 3, 'schema_name': 'ModelKeyV3', 'schema_type': 'Key<Model>'}, 'name': 'GBM_grid_1_AutoML_20190418_120619_model_16', 'type': 'Key<Model>', 'URL': '/3/Models/GBM_grid_1_AutoML_20190418_120619_model_16'}}, 'training_frame': {'default': None, 'actual': {'__meta': {'schema_version': 3, 'schema_name': 'FrameKeyV3', 'schema_type': 'Key<Frame>'}, 'name': 'automl_training_py_6_sid_8fd2', 'type': 'Key<Frame>', 'URL': '/3/Frames/automl_training_py_6_sid_8fd2'}}, 'validation_frame': {'default': None, 'actual': None}, 'nfolds': {'default': 0, 'actual': 5}, 'keep_cross_validation_models': {'default': True, 'actual': False}, 'keep_cross_validation_predictions': {'default': False, 'actual': True}, 'keep_cross_validation_fold_assignment': {'default': False, 'actual': False}, 'score_each_iteration': {'default': False, 'actual': False}, 'score_tree_interval': {'default': 0, 'actual': 5}, 'fold_assignment': {'default': 'AUTO', 'actual': 'Modulo'}, 'fold_column': {'default': None, 'actual': None}, 'response_column': {'default': None, 'actual': {'__meta': {'schema_version': 3, 'schema_name': 'ColSpecifierV3', 'schema_type': 'VecSpecifier'}, 'column_name': 'ACTION', 'is_member_of_frames': None}}, 'ignored_columns': {'default': None, 'actual': []}, 'ignore_const_cols': {'default': True, 'actual': True}, 'offset_column': {'default': None, 'actual': None}, 'weights_column': {'default': None, 'actual': None}, 'balance_classes': {'default': False, 'actual': False}, 'class_sampling_factors': {'default': None, 'actual': None}, 'max_after_balance_size': {'default': 5.0, 'actual': 5.0}, 'max_confusion_matrix_size': {'default': 20, 'actual': 20}, 'max_hit_ratio_k': {'default': 0, 'actual': 0}, 'ntrees': {'default': 50, 'actual': 4}, 'max_depth': {'default': 5, 'actual': 12}, 'min_rows': {'default': 10.0, 'actual': 15.0}, 'nbins': {'default': 20, 'actual': 20}, 'nbins_top_level': {'default': 1024, 'actual': 1024}, 'nbins_cats': {'default': 1024, 'actual': 1024}, 'r2_stopping': {'default': 1.7976931348623157e+308, 'actual': 1.7976931348623157e+308}, 'stopping_rounds': {'default': 0, 'actual': 0}, 'stopping_metric': {'default': 'AUTO', 'actual': 'logloss'}, 'stopping_tolerance': {'default': 0.001, 'actual': 0.005524187436252161}, 'max_runtime_secs': {'default': 0.0, 'actual': 0.0}, 'seed': {'default': -1, 'actual': -2371163158939302297}, 'build_tree_one_node': {'default': False, 'actual': False}, 'learn_rate': {'default': 0.1, 'actual': 0.08}, 'learn_rate_annealing': {'default': 1.0, 'actual': 1.0}, 'distribution': {'default': 'AUTO', 'actual': 'bernoulli'}, 'quantile_alpha': {'default': 0.5, 'actual': 0.5}, 'tweedie_power': {'default': 1.5, 'actual': 1.5}, 'huber_alpha': {'default': 0.9, 'actual': 0.9}, 'checkpoint': {'default': None, 'actual': None}, 'sample_rate': {'default': 1.0, 'actual': 0.6}, 'sample_rate_per_class': {'default': None, 'actual': None}, 'col_sample_rate': {'default': 1.0, 'actual': 1.0}, 'col_sample_rate_change_per_level': {'default': 1.0, 'actual': 1.0}, 'col_sample_rate_per_tree': {'default': 1.0, 'actual': 0.7}, 'min_split_improvement': {'default': 1e-05, 'actual': 0.0001}, 'histogram_type': {'default': 'AUTO', 'actual': 'AUTO'}, 'max_abs_leafnode_pred': {'default': 1.7976931348623157e+308, 'actual': 1.7976931348623157e+308}, 'pred_noise_bandwidth': {'default': 0.0, 'actual': 0.0}, 'categorical_encoding': {'default': 'AUTO', 'actual': 'AUTO'}, 'calibrate_model': {'default': False, 'actual': False}, 'calibration_frame': {'default': None, 'actual': None}, 'custom_metric_func': {'default': None, 'actual': None}, 'export_checkpoints_dir': {'default': None, 'actual': None}, 'monotone_constraints': {'default': None, 'actual': None}, 'check_constant_response': {'default': True, 'actual': True}}, {'model_id': {'default': None, 'actual': {'__meta': {'schema_version': 3, 'schema_name': 'ModelKeyV3', 'schema_type': 'Key<Model>'}, 'name': 'GBM_grid_1_AutoML_20190418_120619_model_11', 'type': 'Key<Model>', 'URL': '/3/Models/GBM_grid_1_AutoML_20190418_120619_model_11'}}, 'training_frame': {'default': None, 'actual': {'__meta': {'schema_version': 3, 'schema_name': 'FrameKeyV3', 'schema_type': 'Key<Frame>'}, 'name': 'automl_training_py_6_sid_8fd2', 'type': 'Key<Frame>', 'URL': '/3/Frames/automl_training_py_6_sid_8fd2'}}, 'validation_frame': {'default': None, 'actual': None}, 'nfolds': {'default': 0, 'actual': 5}, 'keep_cross_validation_models': {'default': True, 'actual': False}, 'keep_cross_validation_predictions': {'default': False, 'actual': True}, 'keep_cross_validation_fold_assignment': {'default': False, 'actual': False}, 'score_each_iteration': {'default': False, 'actual': False}, 'score_tree_interval': {'default': 0, 'actual': 5}, 'fold_assignment': {'default': 'AUTO', 'actual': 'Modulo'}, 'fold_column': {'default': None, 'actual': None}, 'response_column': {'default': None, 'actual': {'__meta': {'schema_version': 3, 'schema_name': 'ColSpecifierV3', 'schema_type': 'VecSpecifier'}, 'column_name': 'ACTION', 'is_member_of_frames': None}}, 'ignored_columns': {'default': None, 'actual': []}, 'ignore_const_cols': {'default': True, 'actual': True}, 'offset_column': {'default': None, 'actual': None}, 'weights_column': {'default': None, 'actual': None}, 'balance_classes': {'default': False, 'actual': False}, 'class_sampling_factors': {'default': None, 'actual': None}, 'max_after_balance_size': {'default': 5.0, 'actual': 5.0}, 'max_confusion_matrix_size': {'default': 20, 'actual': 20}, 'max_hit_ratio_k': {'default': 0, 'actual': 0}, 'ntrees': {'default': 50, 'actual': 156}, 'max_depth': {'default': 5, 'actual': 4}, 'min_rows': {'default': 10.0, 'actual': 30.0}, 'nbins': {'default': 20, 'actual': 20}, 'nbins_top_level': {'default': 1024, 'actual': 1024}, 'nbins_cats': {'default': 1024, 'actual': 1024}, 'r2_stopping': {'default': 1.7976931348623157e+308, 'actual': 1.7976931348623157e+308}, 'stopping_rounds': {'default': 0, 'actual': 0}, 'stopping_metric': {'default': 'AUTO', 'actual': 'logloss'}, 'stopping_tolerance': {'default': 0.001, 'actual': 0.005524187436252161}, 'max_runtime_secs': {'default': 0.0, 'actual': 0.0}, 'seed': {'default': -1, 'actual': 1635540511159572452}, 'build_tree_one_node': {'default': False, 'actual': False}, 'learn_rate': {'default': 0.1, 'actual': 0.1}, 'learn_rate_annealing': {'default': 1.0, 'actual': 1.0}, 'distribution': {'default': 'AUTO', 'actual': 'bernoulli'}, 'quantile_alpha': {'default': 0.5, 'actual': 0.5}, 'tweedie_power': {'default': 1.5, 'actual': 1.5}, 'huber_alpha': {'default': 0.9, 'actual': 0.9}, 'checkpoint': {'default': None, 'actual': None}, 'sample_rate': {'default': 1.0, 'actual': 0.5}, 'sample_rate_per_class': {'default': None, 'actual': None}, 'col_sample_rate': {'default': 1.0, 'actual': 0.7}, 'col_sample_rate_change_per_level': {'default': 1.0, 'actual': 1.0}, 'col_sample_rate_per_tree': {'default': 1.0, 'actual': 0.7}, 'min_split_improvement': {'default': 1e-05, 'actual': 1e-05}, 'histogram_type': {'default': 'AUTO', 'actual': 'AUTO'}, 'max_abs_leafnode_pred': {'default': 1.7976931348623157e+308, 'actual': 1.7976931348623157e+308}, 'pred_noise_bandwidth': {'default': 0.0, 'actual': 0.0}, 'categorical_encoding': {'default': 'AUTO', 'actual': 'AUTO'}, 'calibrate_model': {'default': False, 'actual': False}, 'calibration_frame': {'default': None, 'actual': None}, 'custom_metric_func': {'default': None, 'actual': None}, 'export_checkpoints_dir': {'default': None, 'actual': None}, 'monotone_constraints': {'default': None, 'actual': None}, 'check_constant_response': {'default': True, 'actual': True}}, {'model_id': {'default': None, 'actual': {'__meta': {'schema_version': 3, 'schema_name': 'ModelKeyV3', 'schema_type': 'Key<Model>'}, 'name': 'GBM_grid_1_AutoML_20190418_120619_model_8', 'type': 'Key<Model>', 'URL': '/3/Models/GBM_grid_1_AutoML_20190418_120619_model_8'}}, 'training_frame': {'default': None, 'actual': {'__meta': {'schema_version': 3, 'schema_name': 'FrameKeyV3', 'schema_type': 'Key<Frame>'}, 'name': 'automl_training_py_6_sid_8fd2', 'type': 'Key<Frame>', 'URL': '/3/Frames/automl_training_py_6_sid_8fd2'}}, 'validation_frame': {'default': None, 'actual': None}, 'nfolds': {'default': 0, 'actual': 5}, 'keep_cross_validation_models': {'default': True, 'actual': False}, 'keep_cross_validation_predictions': {'default': False, 'actual': True}, 'keep_cross_validation_fold_assignment': {'default': False, 'actual': False}, 'score_each_iteration': {'default': False, 'actual': False}, 'score_tree_interval': {'default': 0, 'actual': 5}, 'fold_assignment': {'default': 'AUTO', 'actual': 'Modulo'}, 'fold_column': {'default': None, 'actual': None}, 'response_column': {'default': None, 'actual': {'__meta': {'schema_version': 3, 'schema_name': 'ColSpecifierV3', 'schema_type': 'VecSpecifier'}, 'column_name': 'ACTION', 'is_member_of_frames': None}}, 'ignored_columns': {'default': None, 'actual': []}, 'ignore_const_cols': {'default': True, 'actual': True}, 'offset_column': {'default': None, 'actual': None}, 'weights_column': {'default': None, 'actual': None}, 'balance_classes': {'default': False, 'actual': False}, 'class_sampling_factors': {'default': None, 'actual': None}, 'max_after_balance_size': {'default': 5.0, 'actual': 5.0}, 'max_confusion_matrix_size': {'default': 20, 'actual': 20}, 'max_hit_ratio_k': {'default': 0, 'actual': 0}, 'ntrees': {'default': 50, 'actual': 87}, 'max_depth': {'default': 5, 'actual': 4}, 'min_rows': {'default': 10.0, 'actual': 30.0}, 'nbins': {'default': 20, 'actual': 20}, 'nbins_top_level': {'default': 1024, 'actual': 1024}, 'nbins_cats': {'default': 1024, 'actual': 1024}, 'r2_stopping': {'default': 1.7976931348623157e+308, 'actual': 1.7976931348623157e+308}, 'stopping_rounds': {'default': 0, 'actual': 0}, 'stopping_metric': {'default': 'AUTO', 'actual': 'logloss'}, 'stopping_tolerance': {'default': 0.001, 'actual': 0.005524187436252161}, 'max_runtime_secs': {'default': 0.0, 'actual': 0.0}, 'seed': {'default': -1, 'actual': -3573646694216913721}, 'build_tree_one_node': {'default': False, 'actual': False}, 'learn_rate': {'default': 0.1, 'actual': 0.5}, 'learn_rate_annealing': {'default': 1.0, 'actual': 1.0}, 'distribution': {'default': 'AUTO', 'actual': 'bernoulli'}, 'quantile_alpha': {'default': 0.5, 'actual': 0.5}, 'tweedie_power': {'default': 1.5, 'actual': 1.5}, 'huber_alpha': {'default': 0.9, 'actual': 0.9}, 'checkpoint': {'default': None, 'actual': None}, 'sample_rate': {'default': 1.0, 'actual': 0.6}, 'sample_rate_per_class': {'default': None, 'actual': None}, 'col_sample_rate': {'default': 1.0, 'actual': 0.4}, 'col_sample_rate_change_per_level': {'default': 1.0, 'actual': 1.0}, 'col_sample_rate_per_tree': {'default': 1.0, 'actual': 0.7}, 'min_split_improvement': {'default': 1e-05, 'actual': 1e-05}, 'histogram_type': {'default': 'AUTO', 'actual': 'AUTO'}, 'max_abs_leafnode_pred': {'default': 1.7976931348623157e+308, 'actual': 1.7976931348623157e+308}, 'pred_noise_bandwidth': {'default': 0.0, 'actual': 0.0}, 'categorical_encoding': {'default': 'AUTO', 'actual': 'AUTO'}, 'calibrate_model': {'default': False, 'actual': False}, 'calibration_frame': {'default': None, 'actual': None}, 'custom_metric_func': {'default': None, 'actual': None}, 'export_checkpoints_dir': {'default': None, 'actual': None}, 'monotone_constraints': {'default': None, 'actual': None}, 'check_constant_response': {'default': True, 'actual': True}}, {'model_id': {'default': None, 'actual': {'__meta': {'schema_version': 3, 'schema_name': 'ModelKeyV3', 'schema_type': 'Key<Model>'}, 'name': 'GBM_grid_1_AutoML_20190418_120619_model_1', 'type': 'Key<Model>', 'URL': '/3/Models/GBM_grid_1_AutoML_20190418_120619_model_1'}}, 'training_frame': {'default': None, 'actual': {'__meta': {'schema_version': 3, 'schema_name': 'FrameKeyV3', 'schema_type': 'Key<Frame>'}, 'name': 'automl_training_py_6_sid_8fd2', 'type': 'Key<Frame>', 'URL': '/3/Frames/automl_training_py_6_sid_8fd2'}}, 'validation_frame': {'default': None, 'actual': None}, 'nfolds': {'default': 0, 'actual': 5}, 'keep_cross_validation_models': {'default': True, 'actual': False}, 'keep_cross_validation_predictions': {'default': False, 'actual': True}, 'keep_cross_validation_fold_assignment': {'default': False, 'actual': False}, 'score_each_iteration': {'default': False, 'actual': False}, 'score_tree_interval': {'default': 0, 'actual': 5}, 'fold_assignment': {'default': 'AUTO', 'actual': 'Modulo'}, 'fold_column': {'default': None, 'actual': None}, 'response_column': {'default': None, 'actual': {'__meta': {'schema_version': 3, 'schema_name': 'ColSpecifierV3', 'schema_type': 'VecSpecifier'}, 'column_name': 'ACTION', 'is_member_of_frames': None}}, 'ignored_columns': {'default': None, 'actual': []}, 'ignore_const_cols': {'default': True, 'actual': True}, 'offset_column': {'default': None, 'actual': None}, 'weights_column': {'default': None, 'actual': None}, 'balance_classes': {'default': False, 'actual': False}, 'class_sampling_factors': {'default': None, 'actual': None}, 'max_after_balance_size': {'default': 5.0, 'actual': 5.0}, 'max_confusion_matrix_size': {'default': 20, 'actual': 20}, 'max_hit_ratio_k': {'default': 0, 'actual': 0}, 'ntrees': {'default': 50, 'actual': 65}, 'max_depth': {'default': 5, 'actual': 7}, 'min_rows': {'default': 10.0, 'actual': 100.0}, 'nbins': {'default': 20, 'actual': 20}, 'nbins_top_level': {'default': 1024, 'actual': 1024}, 'nbins_cats': {'default': 1024, 'actual': 1024}, 'r2_stopping': {'default': 1.7976931348623157e+308, 'actual': 1.7976931348623157e+308}, 'stopping_rounds': {'default': 0, 'actual': 0}, 'stopping_metric': {'default': 'AUTO', 'actual': 'logloss'}, 'stopping_tolerance': {'default': 0.001, 'actual': 0.005524187436252161}, 'max_runtime_secs': {'default': 0.0, 'actual': 0.0}, 'seed': {'default': -1, 'actual': -2225553760010564369}, 'build_tree_one_node': {'default': False, 'actual': False}, 'learn_rate': {'default': 0.1, 'actual': 0.1}, 'learn_rate_annealing': {'default': 1.0, 'actual': 1.0}, 'distribution': {'default': 'AUTO', 'actual': 'bernoulli'}, 'quantile_alpha': {'default': 0.5, 'actual': 0.5}, 'tweedie_power': {'default': 1.5, 'actual': 1.5}, 'huber_alpha': {'default': 0.9, 'actual': 0.9}, 'checkpoint': {'default': None, 'actual': None}, 'sample_rate': {'default': 1.0, 'actual': 1.0}, 'sample_rate_per_class': {'default': None, 'actual': None}, 'col_sample_rate': {'default': 1.0, 'actual': 0.4}, 'col_sample_rate_change_per_level': {'default': 1.0, 'actual': 1.0}, 'col_sample_rate_per_tree': {'default': 1.0, 'actual': 1.0}, 'min_split_improvement': {'default': 1e-05, 'actual': 0.0001}, 'histogram_type': {'default': 'AUTO', 'actual': 'AUTO'}, 'max_abs_leafnode_pred': {'default': 1.7976931348623157e+308, 'actual': 1.7976931348623157e+308}, 'pred_noise_bandwidth': {'default': 0.0, 'actual': 0.0}, 'categorical_encoding': {'default': 'AUTO', 'actual': 'AUTO'}, 'calibrate_model': {'default': False, 'actual': False}, 'calibration_frame': {'default': None, 'actual': None}, 'custom_metric_func': {'default': None, 'actual': None}, 'export_checkpoints_dir': {'default': None, 'actual': None}, 'monotone_constraints': {'default': None, 'actual': None}, 'check_constant_response': {'default': True, 'actual': True}}, {'model_id': {'default': None, 'actual': {'__meta': {'schema_version': 3, 'schema_name': 'ModelKeyV3', 'schema_type': 'Key<Model>'}, 'name': 'GBM_grid_1_AutoML_20190418_120619_model_3', 'type': 'Key<Model>', 'URL': '/3/Models/GBM_grid_1_AutoML_20190418_120619_model_3'}}, 'training_frame': {'default': None, 'actual': {'__meta': {'schema_version': 3, 'schema_name': 'FrameKeyV3', 'schema_type': 'Key<Frame>'}, 'name': 'automl_training_py_6_sid_8fd2', 'type': 'Key<Frame>', 'URL': '/3/Frames/automl_training_py_6_sid_8fd2'}}, 'validation_frame': {'default': None, 'actual': None}, 'nfolds': {'default': 0, 'actual': 5}, 'keep_cross_validation_models': {'default': True, 'actual': False}, 'keep_cross_validation_predictions': {'default': False, 'actual': True}, 'keep_cross_validation_fold_assignment': {'default': False, 'actual': False}, 'score_each_iteration': {'default': False, 'actual': False}, 'score_tree_interval': {'default': 0, 'actual': 5}, 'fold_assignment': {'default': 'AUTO', 'actual': 'Modulo'}, 'fold_column': {'default': None, 'actual': None}, 'response_column': {'default': None, 'actual': {'__meta': {'schema_version': 3, 'schema_name': 'ColSpecifierV3', 'schema_type': 'VecSpecifier'}, 'column_name': 'ACTION', 'is_member_of_frames': None}}, 'ignored_columns': {'default': None, 'actual': []}, 'ignore_const_cols': {'default': True, 'actual': True}, 'offset_column': {'default': None, 'actual': None}, 'weights_column': {'default': None, 'actual': None}, 'balance_classes': {'default': False, 'actual': False}, 'class_sampling_factors': {'default': None, 'actual': None}, 'max_after_balance_size': {'default': 5.0, 'actual': 5.0}, 'max_confusion_matrix_size': {'default': 20, 'actual': 20}, 'max_hit_ratio_k': {'default': 0, 'actual': 0}, 'ntrees': {'default': 50, 'actual': 55}, 'max_depth': {'default': 5, 'actual': 4}, 'min_rows': {'default': 10.0, 'actual': 5.0}, 'nbins': {'default': 20, 'actual': 20}, 'nbins_top_level': {'default': 1024, 'actual': 1024}, 'nbins_cats': {'default': 1024, 'actual': 1024}, 'r2_stopping': {'default': 1.7976931348623157e+308, 'actual': 1.7976931348623157e+308}, 'stopping_rounds': {'default': 0, 'actual': 0}, 'stopping_metric': {'default': 'AUTO', 'actual': 'logloss'}, 'stopping_tolerance': {'default': 0.001, 'actual': 0.005524187436252161}, 'max_runtime_secs': {'default': 0.0, 'actual': 0.0}, 'seed': {'default': -1, 'actual': -2399121629807477739}, 'build_tree_one_node': {'default': False, 'actual': False}, 'learn_rate': {'default': 0.1, 'actual': 0.5}, 'learn_rate_annealing': {'default': 1.0, 'actual': 1.0}, 'distribution': {'default': 'AUTO', 'actual': 'bernoulli'}, 'quantile_alpha': {'default': 0.5, 'actual': 0.5}, 'tweedie_power': {'default': 1.5, 'actual': 1.5}, 'huber_alpha': {'default': 0.9, 'actual': 0.9}, 'checkpoint': {'default': None, 'actual': None}, 'sample_rate': {'default': 1.0, 'actual': 0.7}, 'sample_rate_per_class': {'default': None, 'actual': None}, 'col_sample_rate': {'default': 1.0, 'actual': 1.0}, 'col_sample_rate_change_per_level': {'default': 1.0, 'actual': 1.0}, 'col_sample_rate_per_tree': {'default': 1.0, 'actual': 0.4}, 'min_split_improvement': {'default': 1e-05, 'actual': 0.0001}, 'histogram_type': {'default': 'AUTO', 'actual': 'AUTO'}, 'max_abs_leafnode_pred': {'default': 1.7976931348623157e+308, 'actual': 1.7976931348623157e+308}, 'pred_noise_bandwidth': {'default': 0.0, 'actual': 0.0}, 'categorical_encoding': {'default': 'AUTO', 'actual': 'AUTO'}, 'calibrate_model': {'default': False, 'actual': False}, 'calibration_frame': {'default': None, 'actual': None}, 'custom_metric_func': {'default': None, 'actual': None}, 'export_checkpoints_dir': {'default': None, 'actual': None}, 'monotone_constraints': {'default': None, 'actual': None}, 'check_constant_response': {'default': True, 'actual': True}}, {'model_id': {'default': None, 'actual': {'__meta': {'schema_version': 3, 'schema_name': 'ModelKeyV3', 'schema_type': 'Key<Model>'}, 'name': 'GBM_grid_1_AutoML_20190418_120619_model_12', 'type': 'Key<Model>', 'URL': '/3/Models/GBM_grid_1_AutoML_20190418_120619_model_12'}}, 'training_frame': {'default': None, 'actual': {'__meta': {'schema_version': 3, 'schema_name': 'FrameKeyV3', 'schema_type': 'Key<Frame>'}, 'name': 'automl_training_py_6_sid_8fd2', 'type': 'Key<Frame>', 'URL': '/3/Frames/automl_training_py_6_sid_8fd2'}}, 'validation_frame': {'default': None, 'actual': None}, 'nfolds': {'default': 0, 'actual': 5}, 'keep_cross_validation_models': {'default': True, 'actual': False}, 'keep_cross_validation_predictions': {'default': False, 'actual': True}, 'keep_cross_validation_fold_assignment': {'default': False, 'actual': False}, 'score_each_iteration': {'default': False, 'actual': False}, 'score_tree_interval': {'default': 0, 'actual': 5}, 'fold_assignment': {'default': 'AUTO', 'actual': 'Modulo'}, 'fold_column': {'default': None, 'actual': None}, 'response_column': {'default': None, 'actual': {'__meta': {'schema_version': 3, 'schema_name': 'ColSpecifierV3', 'schema_type': 'VecSpecifier'}, 'column_name': 'ACTION', 'is_member_of_frames': None}}, 'ignored_columns': {'default': None, 'actual': []}, 'ignore_const_cols': {'default': True, 'actual': True}, 'offset_column': {'default': None, 'actual': None}, 'weights_column': {'default': None, 'actual': None}, 'balance_classes': {'default': False, 'actual': False}, 'class_sampling_factors': {'default': None, 'actual': None}, 'max_after_balance_size': {'default': 5.0, 'actual': 5.0}, 'max_confusion_matrix_size': {'default': 20, 'actual': 20}, 'max_hit_ratio_k': {'default': 0, 'actual': 0}, 'ntrees': {'default': 50, 'actual': 45}, 'max_depth': {'default': 5, 'actual': 3}, 'min_rows': {'default': 10.0, 'actual': 5.0}, 'nbins': {'default': 20, 'actual': 20}, 'nbins_top_level': {'default': 1024, 'actual': 1024}, 'nbins_cats': {'default': 1024, 'actual': 1024}, 'r2_stopping': {'default': 1.7976931348623157e+308, 'actual': 1.7976931348623157e+308}, 'stopping_rounds': {'default': 0, 'actual': 0}, 'stopping_metric': {'default': 'AUTO', 'actual': 'logloss'}, 'stopping_tolerance': {'default': 0.001, 'actual': 0.005524187436252161}, 'max_runtime_secs': {'default': 0.0, 'actual': 0.0}, 'seed': {'default': -1, 'actual': -2556548713658682104}, 'build_tree_one_node': {'default': False, 'actual': False}, 'learn_rate': {'default': 0.1, 'actual': 0.8}, 'learn_rate_annealing': {'default': 1.0, 'actual': 1.0}, 'distribution': {'default': 'AUTO', 'actual': 'bernoulli'}, 'quantile_alpha': {'default': 0.5, 'actual': 0.5}, 'tweedie_power': {'default': 1.5, 'actual': 1.5}, 'huber_alpha': {'default': 0.9, 'actual': 0.9}, 'checkpoint': {'default': None, 'actual': None}, 'sample_rate': {'default': 1.0, 'actual': 0.5}, 'sample_rate_per_class': {'default': None, 'actual': None}, 'col_sample_rate': {'default': 1.0, 'actual': 0.7}, 'col_sample_rate_change_per_level': {'default': 1.0, 'actual': 1.0}, 'col_sample_rate_per_tree': {'default': 1.0, 'actual': 0.7}, 'min_split_improvement': {'default': 1e-05, 'actual': 0.0001}, 'histogram_type': {'default': 'AUTO', 'actual': 'AUTO'}, 'max_abs_leafnode_pred': {'default': 1.7976931348623157e+308, 'actual': 1.7976931348623157e+308}, 'pred_noise_bandwidth': {'default': 0.0, 'actual': 0.0}, 'categorical_encoding': {'default': 'AUTO', 'actual': 'AUTO'}, 'calibrate_model': {'default': False, 'actual': False}, 'calibration_frame': {'default': None, 'actual': None}, 'custom_metric_func': {'default': None, 'actual': None}, 'export_checkpoints_dir': {'default': None, 'actual': None}, 'monotone_constraints': {'default': None, 'actual': None}, 'check_constant_response': {'default': True, 'actual': True}}, {'model_id': {'default': None, 'actual': {'__meta': {'schema_version': 3, 'schema_name': 'ModelKeyV3', 'schema_type': 'Key<Model>'}, 'name': 'GBM_grid_1_AutoML_20190418_120619_model_4', 'type': 'Key<Model>', 'URL': '/3/Models/GBM_grid_1_AutoML_20190418_120619_model_4'}}, 'training_frame': {'default': None, 'actual': {'__meta': {'schema_version': 3, 'schema_name': 'FrameKeyV3', 'schema_type': 'Key<Frame>'}, 'name': 'automl_training_py_6_sid_8fd2', 'type': 'Key<Frame>', 'URL': '/3/Frames/automl_training_py_6_sid_8fd2'}}, 'validation_frame': {'default': None, 'actual': None}, 'nfolds': {'default': 0, 'actual': 5}, 'keep_cross_validation_models': {'default': True, 'actual': False}, 'keep_cross_validation_predictions': {'default': False, 'actual': True}, 'keep_cross_validation_fold_assignment': {'default': False, 'actual': False}, 'score_each_iteration': {'default': False, 'actual': False}, 'score_tree_interval': {'default': 0, 'actual': 5}, 'fold_assignment': {'default': 'AUTO', 'actual': 'Modulo'}, 'fold_column': {'default': None, 'actual': None}, 'response_column': {'default': None, 'actual': {'__meta': {'schema_version': 3, 'schema_name': 'ColSpecifierV3', 'schema_type': 'VecSpecifier'}, 'column_name': 'ACTION', 'is_member_of_frames': None}}, 'ignored_columns': {'default': None, 'actual': []}, 'ignore_const_cols': {'default': True, 'actual': True}, 'offset_column': {'default': None, 'actual': None}, 'weights_column': {'default': None, 'actual': None}, 'balance_classes': {'default': False, 'actual': False}, 'class_sampling_factors': {'default': None, 'actual': None}, 'max_after_balance_size': {'default': 5.0, 'actual': 5.0}, 'max_confusion_matrix_size': {'default': 20, 'actual': 20}, 'max_hit_ratio_k': {'default': 0, 'actual': 0}, 'ntrees': {'default': 50, 'actual': 30}, 'max_depth': {'default': 5, 'actual': 4}, 'min_rows': {'default': 10.0, 'actual': 15.0}, 'nbins': {'default': 20, 'actual': 20}, 'nbins_top_level': {'default': 1024, 'actual': 1024}, 'nbins_cats': {'default': 1024, 'actual': 1024}, 'r2_stopping': {'default': 1.7976931348623157e+308, 'actual': 1.7976931348623157e+308}, 'stopping_rounds': {'default': 0, 'actual': 0}, 'stopping_metric': {'default': 'AUTO', 'actual': 'logloss'}, 'stopping_tolerance': {'default': 0.001, 'actual': 0.005524187436252161}, 'max_runtime_secs': {'default': 0.0, 'actual': 0.0}, 'seed': {'default': -1, 'actual': 318088271953777492}, 'build_tree_one_node': {'default': False, 'actual': False}, 'learn_rate': {'default': 0.1, 'actual': 0.005}, 'learn_rate_annealing': {'default': 1.0, 'actual': 1.0}, 'distribution': {'default': 'AUTO', 'actual': 'bernoulli'}, 'quantile_alpha': {'default': 0.5, 'actual': 0.5}, 'tweedie_power': {'default': 1.5, 'actual': 1.5}, 'huber_alpha': {'default': 0.9, 'actual': 0.9}, 'checkpoint': {'default': None, 'actual': None}, 'sample_rate': {'default': 1.0, 'actual': 0.7}, 'sample_rate_per_class': {'default': None, 'actual': None}, 'col_sample_rate': {'default': 1.0, 'actual': 0.4}, 'col_sample_rate_change_per_level': {'default': 1.0, 'actual': 1.0}, 'col_sample_rate_per_tree': {'default': 1.0, 'actual': 0.4}, 'min_split_improvement': {'default': 1e-05, 'actual': 1e-05}, 'histogram_type': {'default': 'AUTO', 'actual': 'AUTO'}, 'max_abs_leafnode_pred': {'default': 1.7976931348623157e+308, 'actual': 1.7976931348623157e+308}, 'pred_noise_bandwidth': {'default': 0.0, 'actual': 0.0}, 'categorical_encoding': {'default': 'AUTO', 'actual': 'AUTO'}, 'calibrate_model': {'default': False, 'actual': False}, 'calibration_frame': {'default': None, 'actual': None}, 'custom_metric_func': {'default': None, 'actual': None}, 'export_checkpoints_dir': {'default': None, 'actual': None}, 'monotone_constraints': {'default': None, 'actual': None}, 'check_constant_response': {'default': True, 'actual': True}}, {'model_id': {'default': None, 'actual': {'__meta': {'schema_version': 3, 'schema_name': 'ModelKeyV3', 'schema_type': 'Key<Model>'}, 'name': 'GBM_grid_1_AutoML_20190418_120619_model_10', 'type': 'Key<Model>', 'URL': '/3/Models/GBM_grid_1_AutoML_20190418_120619_model_10'}}, 'training_frame': {'default': None, 'actual': {'__meta': {'schema_version': 3, 'schema_name': 'FrameKeyV3', 'schema_type': 'Key<Frame>'}, 'name': 'automl_training_py_6_sid_8fd2', 'type': 'Key<Frame>', 'URL': '/3/Frames/automl_training_py_6_sid_8fd2'}}, 'validation_frame': {'default': None, 'actual': None}, 'nfolds': {'default': 0, 'actual': 5}, 'keep_cross_validation_models': {'default': True, 'actual': False}, 'keep_cross_validation_predictions': {'default': False, 'actual': True}, 'keep_cross_validation_fold_assignment': {'default': False, 'actual': False}, 'score_each_iteration': {'default': False, 'actual': False}, 'score_tree_interval': {'default': 0, 'actual': 5}, 'fold_assignment': {'default': 'AUTO', 'actual': 'Modulo'}, 'fold_column': {'default': None, 'actual': None}, 'response_column': {'default': None, 'actual': {'__meta': {'schema_version': 3, 'schema_name': 'ColSpecifierV3', 'schema_type': 'VecSpecifier'}, 'column_name': 'ACTION', 'is_member_of_frames': None}}, 'ignored_columns': {'default': None, 'actual': []}, 'ignore_const_cols': {'default': True, 'actual': True}, 'offset_column': {'default': None, 'actual': None}, 'weights_column': {'default': None, 'actual': None}, 'balance_classes': {'default': False, 'actual': False}, 'class_sampling_factors': {'default': None, 'actual': None}, 'max_after_balance_size': {'default': 5.0, 'actual': 5.0}, 'max_confusion_matrix_size': {'default': 20, 'actual': 20}, 'max_hit_ratio_k': {'default': 0, 'actual': 0}, 'ntrees': {'default': 50, 'actual': 30}, 'max_depth': {'default': 5, 'actual': 3}, 'min_rows': {'default': 10.0, 'actual': 15.0}, 'nbins': {'default': 20, 'actual': 20}, 'nbins_top_level': {'default': 1024, 'actual': 1024}, 'nbins_cats': {'default': 1024, 'actual': 1024}, 'r2_stopping': {'default': 1.7976931348623157e+308, 'actual': 1.7976931348623157e+308}, 'stopping_rounds': {'default': 0, 'actual': 0}, 'stopping_metric': {'default': 'AUTO', 'actual': 'logloss'}, 'stopping_tolerance': {'default': 0.001, 'actual': 0.005524187436252161}, 'max_runtime_secs': {'default': 0.0, 'actual': 0.0}, 'seed': {'default': -1, 'actual': -1162035812857972769}, 'build_tree_one_node': {'default': False, 'actual': False}, 'learn_rate': {'default': 0.1, 'actual': 0.01}, 'learn_rate_annealing': {'default': 1.0, 'actual': 1.0}, 'distribution': {'default': 'AUTO', 'actual': 'bernoulli'}, 'quantile_alpha': {'default': 0.5, 'actual': 0.5}, 'tweedie_power': {'default': 1.5, 'actual': 1.5}, 'huber_alpha': {'default': 0.9, 'actual': 0.9}, 'checkpoint': {'default': None, 'actual': None}, 'sample_rate': {'default': 1.0, 'actual': 0.7}, 'sample_rate_per_class': {'default': None, 'actual': None}, 'col_sample_rate': {'default': 1.0, 'actual': 0.4}, 'col_sample_rate_change_per_level': {'default': 1.0, 'actual': 1.0}, 'col_sample_rate_per_tree': {'default': 1.0, 'actual': 1.0}, 'min_split_improvement': {'default': 1e-05, 'actual': 1e-05}, 'histogram_type': {'default': 'AUTO', 'actual': 'AUTO'}, 'max_abs_leafnode_pred': {'default': 1.7976931348623157e+308, 'actual': 1.7976931348623157e+308}, 'pred_noise_bandwidth': {'default': 0.0, 'actual': 0.0}, 'categorical_encoding': {'default': 'AUTO', 'actual': 'AUTO'}, 'calibrate_model': {'default': False, 'actual': False}, 'calibration_frame': {'default': None, 'actual': None}, 'custom_metric_func': {'default': None, 'actual': None}, 'export_checkpoints_dir': {'default': None, 'actual': None}, 'monotone_constraints': {'default': None, 'actual': None}, 'check_constant_response': {'default': True, 'actual': True}}, {'model_id': {'default': None, 'actual': {'__meta': {'schema_version': 3, 'schema_name': 'ModelKeyV3', 'schema_type': 'Key<Model>'}, 'name': 'GBM_grid_1_AutoML_20190418_120619_model_13', 'type': 'Key<Model>', 'URL': '/3/Models/GBM_grid_1_AutoML_20190418_120619_model_13'}}, 'training_frame': {'default': None, 'actual': {'__meta': {'schema_version': 3, 'schema_name': 'FrameKeyV3', 'schema_type': 'Key<Frame>'}, 'name': 'automl_training_py_6_sid_8fd2', 'type': 'Key<Frame>', 'URL': '/3/Frames/automl_training_py_6_sid_8fd2'}}, 'validation_frame': {'default': None, 'actual': None}, 'nfolds': {'default': 0, 'actual': 5}, 'keep_cross_validation_models': {'default': True, 'actual': False}, 'keep_cross_validation_predictions': {'default': False, 'actual': True}, 'keep_cross_validation_fold_assignment': {'default': False, 'actual': False}, 'score_each_iteration': {'default': False, 'actual': False}, 'score_tree_interval': {'default': 0, 'actual': 5}, 'fold_assignment': {'default': 'AUTO', 'actual': 'Modulo'}, 'fold_column': {'default': None, 'actual': None}, 'response_column': {'default': None, 'actual': {'__meta': {'schema_version': 3, 'schema_name': 'ColSpecifierV3', 'schema_type': 'VecSpecifier'}, 'column_name': 'ACTION', 'is_member_of_frames': None}}, 'ignored_columns': {'default': None, 'actual': []}, 'ignore_const_cols': {'default': True, 'actual': True}, 'offset_column': {'default': None, 'actual': None}, 'weights_column': {'default': None, 'actual': None}, 'balance_classes': {'default': False, 'actual': False}, 'class_sampling_factors': {'default': None, 'actual': None}, 'max_after_balance_size': {'default': 5.0, 'actual': 5.0}, 'max_confusion_matrix_size': {'default': 20, 'actual': 20}, 'max_hit_ratio_k': {'default': 0, 'actual': 0}, 'ntrees': {'default': 50, 'actual': 31}, 'max_depth': {'default': 5, 'actual': 4}, 'min_rows': {'default': 10.0, 'actual': 5.0}, 'nbins': {'default': 20, 'actual': 20}, 'nbins_top_level': {'default': 1024, 'actual': 1024}, 'nbins_cats': {'default': 1024, 'actual': 1024}, 'r2_stopping': {'default': 1.7976931348623157e+308, 'actual': 1.7976931348623157e+308}, 'stopping_rounds': {'default': 0, 'actual': 0}, 'stopping_metric': {'default': 'AUTO', 'actual': 'logloss'}, 'stopping_tolerance': {'default': 0.001, 'actual': 0.005524187436252161}, 'max_runtime_secs': {'default': 0.0, 'actual': 0.0}, 'seed': {'default': -1, 'actual': -6113637068797553110}, 'build_tree_one_node': {'default': False, 'actual': False}, 'learn_rate': {'default': 0.1, 'actual': 0.005}, 'learn_rate_annealing': {'default': 1.0, 'actual': 1.0}, 'distribution': {'default': 'AUTO', 'actual': 'bernoulli'}, 'quantile_alpha': {'default': 0.5, 'actual': 0.5}, 'tweedie_power': {'default': 1.5, 'actual': 1.5}, 'huber_alpha': {'default': 0.9, 'actual': 0.9}, 'checkpoint': {'default': None, 'actual': None}, 'sample_rate': {'default': 1.0, 'actual': 1.0}, 'sample_rate_per_class': {'default': None, 'actual': None}, 'col_sample_rate': {'default': 1.0, 'actual': 0.7}, 'col_sample_rate_change_per_level': {'default': 1.0, 'actual': 1.0}, 'col_sample_rate_per_tree': {'default': 1.0, 'actual': 1.0}, 'min_split_improvement': {'default': 1e-05, 'actual': 0.0001}, 'histogram_type': {'default': 'AUTO', 'actual': 'AUTO'}, 'max_abs_leafnode_pred': {'default': 1.7976931348623157e+308, 'actual': 1.7976931348623157e+308}, 'pred_noise_bandwidth': {'default': 0.0, 'actual': 0.0}, 'categorical_encoding': {'default': 'AUTO', 'actual': 'AUTO'}, 'calibrate_model': {'default': False, 'actual': False}, 'calibration_frame': {'default': None, 'actual': None}, 'custom_metric_func': {'default': None, 'actual': None}, 'export_checkpoints_dir': {'default': None, 'actual': None}, 'monotone_constraints': {'default': None, 'actual': None}, 'check_constant_response': {'default': True, 'actual': True}}, {'model_id': {'default': None, 'actual': {'__meta': {'schema_version': 3, 'schema_name': 'ModelKeyV3', 'schema_type': 'Key<Model>'}, 'name': 'DeepLearning_grid_1_AutoML_20190418_120619_model_2', 'type': 'Key<Model>', 'URL': '/3/Models/DeepLearning_grid_1_AutoML_20190418_120619_model_2'}}, 'training_frame': {'default': None, 'actual': {'__meta': {'schema_version': 3, 'schema_name': 'FrameKeyV3', 'schema_type': 'Key<Frame>'}, 'name': 'automl_training_py_6_sid_8fd2', 'type': 'Key<Frame>', 'URL': '/3/Frames/automl_training_py_6_sid_8fd2'}}, 'validation_frame': {'default': None, 'actual': None}, 'nfolds': {'default': 0, 'actual': 5}, 'keep_cross_validation_models': {'default': True, 'actual': False}, 'keep_cross_validation_predictions': {'default': False, 'actual': True}, 'keep_cross_validation_fold_assignment': {'default': False, 'actual': False}, 'fold_assignment': {'default': 'AUTO', 'actual': 'Modulo'}, 'fold_column': {'default': None, 'actual': None}, 'response_column': {'default': None, 'actual': {'__meta': {'schema_version': 3, 'schema_name': 'ColSpecifierV3', 'schema_type': 'VecSpecifier'}, 'column_name': 'ACTION', 'is_member_of_frames': None}}, 'ignored_columns': {'default': None, 'actual': []}, 'ignore_const_cols': {'default': True, 'actual': True}, 'score_each_iteration': {'default': False, 'actual': False}, 'weights_column': {'default': None, 'actual': None}, 'offset_column': {'default': None, 'actual': None}, 'balance_classes': {'default': False, 'actual': False}, 'class_sampling_factors': {'default': None, 'actual': None}, 'max_after_balance_size': {'default': 5.0, 'actual': 5.0}, 'max_confusion_matrix_size': {'default': 20, 'actual': 20}, 'max_hit_ratio_k': {'default': 0, 'actual': 0}, 'checkpoint': {'default': None, 'actual': None}, 'pretrained_autoencoder': {'default': None, 'actual': None}, 'overwrite_with_best_model': {'default': True, 'actual': False}, 'use_all_factor_levels': {'default': True, 'actual': True}, 'standardize': {'default': True, 'actual': True}, 'activation': {'default': 'Rectifier', 'actual': 'RectifierWithDropout'}, 'hidden': {'default': [200, 200], 'actual': [50, 50]}, 'epochs': {'default': 10.0, 'actual': 74.44795555152923}, 'train_samples_per_iteration': {'default': -2, 'actual': -2}, 'target_ratio_comm_to_comp': {'default': 0.05, 'actual': 0.05}, 'seed': {'default': -1, 'actual': -5301125778723133445}, 'adaptive_rate': {'default': True, 'actual': True}, 'rho': {'default': 0.99, 'actual': 0.95}, 'epsilon': {'default': 1e-08, 'actual': 1e-06}, 'rate': {'default': 0.005, 'actual': 0.005}, 'rate_annealing': {'default': 1e-06, 'actual': 1e-06}, 'rate_decay': {'default': 1.0, 'actual': 1.0}, 'momentum_start': {'default': 0.0, 'actual': 0.0}, 'momentum_ramp': {'default': 1000000.0, 'actual': 1000000.0}, 'momentum_stable': {'default': 0.0, 'actual': 0.0}, 'nesterov_accelerated_gradient': {'default': True, 'actual': True}, 'input_dropout_ratio': {'default': 0.0, 'actual': 0.15}, 'hidden_dropout_ratios': {'default': None, 'actual': [0.3, 0.3]}, 'l1': {'default': 0.0, 'actual': 0.0}, 'l2': {'default': 0.0, 'actual': 0.0}, 'max_w2': {'default': 3.4028235e+38, 'actual': 3.4028235e+38}, 'initial_weight_distribution': {'default': 'UniformAdaptive', 'actual': 'UniformAdaptive'}, 'initial_weight_scale': {'default': 1.0, 'actual': 1.0}, 'initial_weights': {'default': None, 'actual': None}, 'initial_biases': {'default': None, 'actual': None}, 'loss': {'default': 'Automatic', 'actual': 'Automatic'}, 'distribution': {'default': 'AUTO', 'actual': 'AUTO'}, 'quantile_alpha': {'default': 0.5, 'actual': 0.5}, 'tweedie_power': {'default': 1.5, 'actual': 1.5}, 'huber_alpha': {'default': 0.9, 'actual': 0.9}, 'score_interval': {'default': 5.0, 'actual': 5.0}, 'score_training_samples': {'default': 10000, 'actual': 10000}, 'score_validation_samples': {'default': 0, 'actual': 0}, 'score_duty_cycle': {'default': 0.1, 'actual': 0.1}, 'classification_stop': {'default': 0.0, 'actual': 0.0}, 'regression_stop': {'default': 1e-06, 'actual': 1e-06}, 'stopping_rounds': {'default': 5, 'actual': 0}, 'stopping_metric': {'default': 'AUTO', 'actual': 'logloss'}, 'stopping_tolerance': {'default': 0.0, 'actual': 0.005524187436252161}, 'max_runtime_secs': {'default': 0.0, 'actual': 0.0}, 'score_validation_sampling': {'default': 'Uniform', 'actual': 'Uniform'}, 'diagnostics': {'default': True, 'actual': True}, 'fast_mode': {'default': True, 'actual': True}, 'force_load_balance': {'default': True, 'actual': True}, 'variable_importances': {'default': True, 'actual': True}, 'replicate_training_data': {'default': True, 'actual': True}, 'single_node_mode': {'default': False, 'actual': False}, 'shuffle_training_data': {'default': False, 'actual': False}, 'missing_values_handling': {'default': 'MeanImputation', 'actual': 'MeanImputation'}, 'quiet_mode': {'default': False, 'actual': False}, 'autoencoder': {'default': False, 'actual': False}, 'sparse': {'default': False, 'actual': False}, 'col_major': {'default': False, 'actual': False}, 'average_activation': {'default': 0.0, 'actual': 0.0}, 'sparsity_beta': {'default': 0.0, 'actual': 0.0}, 'max_categorical_features': {'default': 2147483647, 'actual': 2147483647}, 'reproducible': {'default': False, 'actual': False}, 'export_weights_and_biases': {'default': False, 'actual': False}, 'mini_batch_size': {'default': 1, 'actual': 1}, 'categorical_encoding': {'default': 'AUTO', 'actual': 'AUTO'}, 'elastic_averaging': {'default': False, 'actual': False}, 'elastic_averaging_moving_rate': {'default': 0.9, 'actual': 0.9}, 'elastic_averaging_regularization': {'default': 0.001, 'actual': 0.001}, 'export_checkpoints_dir': {'default': None, 'actual': None}}, {'model_id': {'default': None, 'actual': {'__meta': {'schema_version': 3, 'schema_name': 'ModelKeyV3', 'schema_type': 'Key<Model>'}, 'name': 'DeepLearning_1_AutoML_20190418_120619', 'type': 'Key<Model>', 'URL': '/3/Models/DeepLearning_1_AutoML_20190418_120619'}}, 'training_frame': {'default': None, 'actual': {'__meta': {'schema_version': 3, 'schema_name': 'FrameKeyV3', 'schema_type': 'Key<Frame>'}, 'name': 'automl_training_py_6_sid_8fd2', 'type': 'Key<Frame>', 'URL': '/3/Frames/automl_training_py_6_sid_8fd2'}}, 'validation_frame': {'default': None, 'actual': None}, 'nfolds': {'default': 0, 'actual': 5}, 'keep_cross_validation_models': {'default': True, 'actual': False}, 'keep_cross_validation_predictions': {'default': False, 'actual': True}, 'keep_cross_validation_fold_assignment': {'default': False, 'actual': False}, 'fold_assignment': {'default': 'AUTO', 'actual': 'Modulo'}, 'fold_column': {'default': None, 'actual': None}, 'response_column': {'default': None, 'actual': {'__meta': {'schema_version': 3, 'schema_name': 'ColSpecifierV3', 'schema_type': 'VecSpecifier'}, 'column_name': 'ACTION', 'is_member_of_frames': None}}, 'ignored_columns': {'default': None, 'actual': []}, 'ignore_const_cols': {'default': True, 'actual': True}, 'score_each_iteration': {'default': False, 'actual': False}, 'weights_column': {'default': None, 'actual': None}, 'offset_column': {'default': None, 'actual': None}, 'balance_classes': {'default': False, 'actual': False}, 'class_sampling_factors': {'default': None, 'actual': None}, 'max_after_balance_size': {'default': 5.0, 'actual': 5.0}, 'max_confusion_matrix_size': {'default': 20, 'actual': 20}, 'max_hit_ratio_k': {'default': 0, 'actual': 0}, 'checkpoint': {'default': None, 'actual': None}, 'pretrained_autoencoder': {'default': None, 'actual': None}, 'overwrite_with_best_model': {'default': True, 'actual': False}, 'use_all_factor_levels': {'default': True, 'actual': True}, 'standardize': {'default': True, 'actual': True}, 'activation': {'default': 'Rectifier', 'actual': 'Rectifier'}, 'hidden': {'default': [200, 200], 'actual': [10, 10, 10]}, 'epochs': {'default': 10.0, 'actual': 10.403384314212111}, 'train_samples_per_iteration': {'default': -2, 'actual': -2}, 'target_ratio_comm_to_comp': {'default': 0.05, 'actual': 0.05}, 'seed': {'default': -1, 'actual': 6892032725832419461}, 'adaptive_rate': {'default': True, 'actual': True}, 'rho': {'default': 0.99, 'actual': 0.99}, 'epsilon': {'default': 1e-08, 'actual': 1e-08}, 'rate': {'default': 0.005, 'actual': 0.005}, 'rate_annealing': {'default': 1e-06, 'actual': 1e-06}, 'rate_decay': {'default': 1.0, 'actual': 1.0}, 'momentum_start': {'default': 0.0, 'actual': 0.0}, 'momentum_ramp': {'default': 1000000.0, 'actual': 1000000.0}, 'momentum_stable': {'default': 0.0, 'actual': 0.0}, 'nesterov_accelerated_gradient': {'default': True, 'actual': True}, 'input_dropout_ratio': {'default': 0.0, 'actual': 0.0}, 'hidden_dropout_ratios': {'default': None, 'actual': None}, 'l1': {'default': 0.0, 'actual': 0.0}, 'l2': {'default': 0.0, 'actual': 0.0}, 'max_w2': {'default': 3.4028235e+38, 'actual': 3.4028235e+38}, 'initial_weight_distribution': {'default': 'UniformAdaptive', 'actual': 'UniformAdaptive'}, 'initial_weight_scale': {'default': 1.0, 'actual': 1.0}, 'initial_weights': {'default': None, 'actual': None}, 'initial_biases': {'default': None, 'actual': None}, 'loss': {'default': 'Automatic', 'actual': 'Automatic'}, 'distribution': {'default': 'AUTO', 'actual': 'AUTO'}, 'quantile_alpha': {'default': 0.5, 'actual': 0.5}, 'tweedie_power': {'default': 1.5, 'actual': 1.5}, 'huber_alpha': {'default': 0.9, 'actual': 0.9}, 'score_interval': {'default': 5.0, 'actual': 5.0}, 'score_training_samples': {'default': 10000, 'actual': 10000}, 'score_validation_samples': {'default': 0, 'actual': 0}, 'score_duty_cycle': {'default': 0.1, 'actual': 0.1}, 'classification_stop': {'default': 0.0, 'actual': 0.0}, 'regression_stop': {'default': 1e-06, 'actual': 1e-06}, 'stopping_rounds': {'default': 5, 'actual': 0}, 'stopping_metric': {'default': 'AUTO', 'actual': 'logloss'}, 'stopping_tolerance': {'default': 0.0, 'actual': 0.005524187436252161}, 'max_runtime_secs': {'default': 0.0, 'actual': 0.0}, 'score_validation_sampling': {'default': 'Uniform', 'actual': 'Uniform'}, 'diagnostics': {'default': True, 'actual': True}, 'fast_mode': {'default': True, 'actual': True}, 'force_load_balance': {'default': True, 'actual': True}, 'variable_importances': {'default': True, 'actual': True}, 'replicate_training_data': {'default': True, 'actual': True}, 'single_node_mode': {'default': False, 'actual': False}, 'shuffle_training_data': {'default': False, 'actual': False}, 'missing_values_handling': {'default': 'MeanImputation', 'actual': 'MeanImputation'}, 'quiet_mode': {'default': False, 'actual': False}, 'autoencoder': {'default': False, 'actual': False}, 'sparse': {'default': False, 'actual': False}, 'col_major': {'default': False, 'actual': False}, 'average_activation': {'default': 0.0, 'actual': 0.0}, 'sparsity_beta': {'default': 0.0, 'actual': 0.0}, 'max_categorical_features': {'default': 2147483647, 'actual': 2147483647}, 'reproducible': {'default': False, 'actual': False}, 'export_weights_and_biases': {'default': False, 'actual': False}, 'mini_batch_size': {'default': 1, 'actual': 1}, 'categorical_encoding': {'default': 'AUTO', 'actual': 'AUTO'}, 'elastic_averaging': {'default': False, 'actual': False}, 'elastic_averaging_moving_rate': {'default': 0.9, 'actual': 0.9}, 'elastic_averaging_regularization': {'default': 0.001, 'actual': 0.001}, 'export_checkpoints_dir': {'default': None, 'actual': None}}, {'model_id': {'default': None, 'actual': {'__meta': {'schema_version': 3, 'schema_name': 'ModelKeyV3', 'schema_type': 'Key<Model>'}, 'name': 'DeepLearning_grid_1_AutoML_20190418_120619_model_1', 'type': 'Key<Model>', 'URL': '/3/Models/DeepLearning_grid_1_AutoML_20190418_120619_model_1'}}, 'training_frame': {'default': None, 'actual': {'__meta': {'schema_version': 3, 'schema_name': 'FrameKeyV3', 'schema_type': 'Key<Frame>'}, 'name': 'automl_training_py_6_sid_8fd2', 'type': 'Key<Frame>', 'URL': '/3/Frames/automl_training_py_6_sid_8fd2'}}, 'validation_frame': {'default': None, 'actual': None}, 'nfolds': {'default': 0, 'actual': 5}, 'keep_cross_validation_models': {'default': True, 'actual': False}, 'keep_cross_validation_predictions': {'default': False, 'actual': True}, 'keep_cross_validation_fold_assignment': {'default': False, 'actual': False}, 'fold_assignment': {'default': 'AUTO', 'actual': 'Modulo'}, 'fold_column': {'default': None, 'actual': None}, 'response_column': {'default': None, 'actual': {'__meta': {'schema_version': 3, 'schema_name': 'ColSpecifierV3', 'schema_type': 'VecSpecifier'}, 'column_name': 'ACTION', 'is_member_of_frames': None}}, 'ignored_columns': {'default': None, 'actual': []}, 'ignore_const_cols': {'default': True, 'actual': True}, 'score_each_iteration': {'default': False, 'actual': False}, 'weights_column': {'default': None, 'actual': None}, 'offset_column': {'default': None, 'actual': None}, 'balance_classes': {'default': False, 'actual': False}, 'class_sampling_factors': {'default': None, 'actual': None}, 'max_after_balance_size': {'default': 5.0, 'actual': 5.0}, 'max_confusion_matrix_size': {'default': 20, 'actual': 20}, 'max_hit_ratio_k': {'default': 0, 'actual': 0}, 'checkpoint': {'default': None, 'actual': None}, 'pretrained_autoencoder': {'default': None, 'actual': None}, 'overwrite_with_best_model': {'default': True, 'actual': False}, 'use_all_factor_levels': {'default': True, 'actual': True}, 'standardize': {'default': True, 'actual': True}, 'activation': {'default': 'Rectifier', 'actual': 'RectifierWithDropout'}, 'hidden': {'default': [200, 200], 'actual': [200]}, 'epochs': {'default': 10.0, 'actual': 28.697321835336083}, 'train_samples_per_iteration': {'default': -2, 'actual': -2}, 'target_ratio_comm_to_comp': {'default': 0.05, 'actual': 0.05}, 'seed': {'default': -1, 'actual': 4174627158364319073}, 'adaptive_rate': {'default': True, 'actual': True}, 'rho': {'default': 0.99, 'actual': 0.9}, 'epsilon': {'default': 1e-08, 'actual': 1e-08}, 'rate': {'default': 0.005, 'actual': 0.005}, 'rate_annealing': {'default': 1e-06, 'actual': 1e-06}, 'rate_decay': {'default': 1.0, 'actual': 1.0}, 'momentum_start': {'default': 0.0, 'actual': 0.0}, 'momentum_ramp': {'default': 1000000.0, 'actual': 1000000.0}, 'momentum_stable': {'default': 0.0, 'actual': 0.0}, 'nesterov_accelerated_gradient': {'default': True, 'actual': True}, 'input_dropout_ratio': {'default': 0.0, 'actual': 0.2}, 'hidden_dropout_ratios': {'default': None, 'actual': [0.3]}, 'l1': {'default': 0.0, 'actual': 0.0}, 'l2': {'default': 0.0, 'actual': 0.0}, 'max_w2': {'default': 3.4028235e+38, 'actual': 3.4028235e+38}, 'initial_weight_distribution': {'default': 'UniformAdaptive', 'actual': 'UniformAdaptive'}, 'initial_weight_scale': {'default': 1.0, 'actual': 1.0}, 'initial_weights': {'default': None, 'actual': None}, 'initial_biases': {'default': None, 'actual': None}, 'loss': {'default': 'Automatic', 'actual': 'Automatic'}, 'distribution': {'default': 'AUTO', 'actual': 'AUTO'}, 'quantile_alpha': {'default': 0.5, 'actual': 0.5}, 'tweedie_power': {'default': 1.5, 'actual': 1.5}, 'huber_alpha': {'default': 0.9, 'actual': 0.9}, 'score_interval': {'default': 5.0, 'actual': 5.0}, 'score_training_samples': {'default': 10000, 'actual': 10000}, 'score_validation_samples': {'default': 0, 'actual': 0}, 'score_duty_cycle': {'default': 0.1, 'actual': 0.1}, 'classification_stop': {'default': 0.0, 'actual': 0.0}, 'regression_stop': {'default': 1e-06, 'actual': 1e-06}, 'stopping_rounds': {'default': 5, 'actual': 0}, 'stopping_metric': {'default': 'AUTO', 'actual': 'logloss'}, 'stopping_tolerance': {'default': 0.0, 'actual': 0.005524187436252161}, 'max_runtime_secs': {'default': 0.0, 'actual': 0.0}, 'score_validation_sampling': {'default': 'Uniform', 'actual': 'Uniform'}, 'diagnostics': {'default': True, 'actual': True}, 'fast_mode': {'default': True, 'actual': True}, 'force_load_balance': {'default': True, 'actual': True}, 'variable_importances': {'default': True, 'actual': True}, 'replicate_training_data': {'default': True, 'actual': True}, 'single_node_mode': {'default': False, 'actual': False}, 'shuffle_training_data': {'default': False, 'actual': False}, 'missing_values_handling': {'default': 'MeanImputation', 'actual': 'MeanImputation'}, 'quiet_mode': {'default': False, 'actual': False}, 'autoencoder': {'default': False, 'actual': False}, 'sparse': {'default': False, 'actual': False}, 'col_major': {'default': False, 'actual': False}, 'average_activation': {'default': 0.0, 'actual': 0.0}, 'sparsity_beta': {'default': 0.0, 'actual': 0.0}, 'max_categorical_features': {'default': 2147483647, 'actual': 2147483647}, 'reproducible': {'default': False, 'actual': False}, 'export_weights_and_biases': {'default': False, 'actual': False}, 'mini_batch_size': {'default': 1, 'actual': 1}, 'categorical_encoding': {'default': 'AUTO', 'actual': 'AUTO'}, 'elastic_averaging': {'default': False, 'actual': False}, 'elastic_averaging_moving_rate': {'default': 0.9, 'actual': 0.9}, 'elastic_averaging_regularization': {'default': 0.001, 'actual': 0.001}, 'export_checkpoints_dir': {'default': None, 'actual': None}}, {'model_id': {'default': None, 'actual': {'__meta': {'schema_version': 3, 'schema_name': 'ModelKeyV3', 'schema_type': 'Key<Model>'}, 'name': 'GLM_grid_1_AutoML_20190418_120619_model_1', 'type': 'Key<Model>', 'URL': '/3/Models/GLM_grid_1_AutoML_20190418_120619_model_1'}}, 'training_frame': {'default': None, 'actual': {'__meta': {'schema_version': 3, 'schema_name': 'FrameKeyV3', 'schema_type': 'Key<Frame>'}, 'name': 'automl_training_py_6_sid_8fd2', 'type': 'Key<Frame>', 'URL': '/3/Frames/automl_training_py_6_sid_8fd2'}}, 'validation_frame': {'default': None, 'actual': None}, 'nfolds': {'default': 0, 'actual': 5}, 'seed': {'default': -1, 'actual': 6743050173023044500}, 'keep_cross_validation_models': {'default': True, 'actual': False}, 'keep_cross_validation_predictions': {'default': False, 'actual': True}, 'keep_cross_validation_fold_assignment': {'default': False, 'actual': False}, 'fold_assignment': {'default': 'AUTO', 'actual': 'Modulo'}, 'fold_column': {'default': None, 'actual': None}, 'response_column': {'default': None, 'actual': {'__meta': {'schema_version': 3, 'schema_name': 'ColSpecifierV3', 'schema_type': 'VecSpecifier'}, 'column_name': 'ACTION', 'is_member_of_frames': None}}, 'ignored_columns': {'default': None, 'actual': []}, 'ignore_const_cols': {'default': True, 'actual': True}, 'score_each_iteration': {'default': False, 'actual': False}, 'offset_column': {'default': None, 'actual': None}, 'weights_column': {'default': None, 'actual': None}, 'family': {'default': 'gaussian', 'actual': 'binomial'}, 'tweedie_variance_power': {'default': 0.0, 'actual': 0.0}, 'tweedie_link_power': {'default': 1.0, 'actual': 1.0}, 'theta': {'default': 1e-10, 'actual': 1e-10}, 'solver': {'default': 'AUTO', 'actual': 'COORDINATE_DESCENT'}, 'alpha': {'default': None, 'actual': [0.0, 0.2, 0.4, 0.6, 0.8, 1.0]}, 'lambda': {'default': None, 'actual': [0.40044436071981493, 0.24868273229194082, 0.15443618990917896, 0.09590749037478274, 0.05956017637704195, 0.036987878592192616, 0.022970099250379815, 0.014264820791416522, 0.008858695384516653, 0.005501399916841423, 0.003416462552479351, 0.0021216811264277652, 0.0013175999248032143]}, 'lambda_search': {'default': False, 'actual': True}, 'early_stopping': {'default': True, 'actual': True}, 'nlambdas': {'default': -1, 'actual': 30}, 'standardize': {'default': True, 'actual': True}, 'missing_values_handling': {'default': 'MeanImputation', 'actual': 'MeanImputation'}, 'compute_p_values': {'default': False, 'actual': False}, 'remove_collinear_columns': {'default': False, 'actual': False}, 'intercept': {'default': True, 'actual': True}, 'non_negative': {'default': False, 'actual': False}, 'max_iterations': {'default': -1, 'actual': 300}, 'objective_epsilon': {'default': -1.0, 'actual': 0.0001}, 'beta_epsilon': {'default': 0.0001, 'actual': 0.0001}, 'gradient_epsilon': {'default': -1.0, 'actual': 1.0000000000000002e-06}, 'link': {'default': 'family_default', 'actual': 'logit'}, 'prior': {'default': -1.0, 'actual': -1.0}, 'lambda_min_ratio': {'default': -1.0, 'actual': 1.0000000000000002e-06}, 'beta_constraints': {'default': None, 'actual': None}, 'max_active_predictors': {'default': -1, 'actual': 5000}, 'interactions': {'default': None, 'actual': None}, 'interaction_pairs': {'default': None, 'actual': None}, 'obj_reg': {'default': -1.0, 'actual': 3.0516646830846227e-05}, 'export_checkpoints_dir': {'default': None, 'actual': None}, 'balance_classes': {'default': False, 'actual': False}, 'class_sampling_factors': {'default': None, 'actual': None}, 'max_after_balance_size': {'default': 5.0, 'actual': 5.0}, 'max_confusion_matrix_size': {'default': 20, 'actual': 20}, 'max_hit_ratio_k': {'default': 0, 'actual': 0}, 'max_runtime_secs': {'default': 0.0, 'actual': 0.0}, 'custom_metric_func': {'default': None, 'actual': None}}]"
     ]
    }
   ],
   "source": [
    "print(jsonDicts)"
   ]
  },
  {
   "cell_type": "code",
   "execution_count": 48,
   "metadata": {},
   "outputs": [
    {
     "name": "stdout",
     "output_type": "stream",
     "text": [
      "\n"
     ]
    }
   ],
   "source": [
    "n=run_id+'EmpAccess_'+ str(run_time)+'_hy_parameter.json'\n",
    "dict_to_json(jsonDicts,n)"
   ]
  },
  {
   "cell_type": "code",
   "execution_count": 49,
   "metadata": {},
   "outputs": [],
   "source": [
    "jsonDictsActual = []\n",
    "for m in model_set.iteritems():\n",
    "    m,model_name = m\n",
    "    mod_best = h2o.get_model(model_name)\n",
    "    jsonDictsActual.append(mod_best.actual_params)"
   ]
  },
  {
   "cell_type": "code",
   "execution_count": 50,
   "metadata": {
    "scrolled": true
   },
   "outputs": [
    {
     "name": "stdout",
     "output_type": "stream",
     "text": [
      "[<property object at 0x000000AAB8FA54F8>, <property object at 0x000000AAB8FA54F8>, <property object at 0x000000AAB8FA54F8>, <property object at 0x000000AAB8FA54F8>, <property object at 0x000000AAB8FA54F8>, <property object at 0x000000AAB8FA54F8>, <property object at 0x000000AAB8FA54F8>, <property object at 0x000000AAB8FA54F8>, <property object at 0x000000AAB8FA54F8>, <property object at 0x000000AAB8FA54F8>, <property object at 0x000000AAB8FA54F8>, <property object at 0x000000AAB8FA54F8>, <property object at 0x000000AAB8FA54F8>, <property object at 0x000000AAB8FA54F8>, <property object at 0x000000AAB8FA54F8>, <property object at 0x000000AAB8FA54F8>, <property object at 0x000000AAB8FA54F8>, <property object at 0x000000AAB8FA54F8>, <property object at 0x000000AAB8FA54F8>, <property object at 0x000000AAB8FA54F8>, <property object at 0x000000AAB8FA54F8>, <property object at 0x000000AAB8FA54F8>, <property object at 0x000000AAB8FA54F8>, <property object at 0x000000AAB8FA54F8>, <property object at 0x000000AAB8FA54F8>, <property object at 0x000000AAB8FA54F8>, <property object at 0x000000AAB8FA54F8>, <property object at 0x000000AAB8FA54F8>, <property object at 0x000000AAB8FA54F8>]\n"
     ]
    }
   ],
   "source": [
    "print(jsonDictsActual)"
   ]
  },
  {
   "cell_type": "markdown",
   "metadata": {},
   "source": [
    "### Generating metadata and storing in JSON"
   ]
  },
  {
   "cell_type": "code",
   "execution_count": 51,
   "metadata": {},
   "outputs": [],
   "source": [
    "meta_data['end_time'] = time.time()"
   ]
  },
  {
   "cell_type": "code",
   "execution_count": 52,
   "metadata": {
    "scrolled": true
   },
   "outputs": [
    {
     "data": {
      "text/plain": [
       "{'project': 'kfOyShRCX_EmpAccess_1200',\n",
       " 'run_time': 1200,\n",
       " 'run_id': 'kfOyShRCX',\n",
       " 'start_time_sec': 1555603544.8401034,\n",
       " 'min_mem_size': 2,\n",
       " 'balance': False,\n",
       " 'balance_threshold': 0.2,\n",
       " 'max_models': None,\n",
       " 'scale': False,\n",
       " 'model_path': None,\n",
       " 'server_path': 'C:\\\\Users\\\\hp\\\\Desktop\\\\Data Science Hyperparameter Project',\n",
       " 'data_path': 'C:/Users/hp/Desktop/Data Science Hyperparameter Project/Employee_access_data.csv',\n",
       " 'run_path': 'C:\\\\Users\\\\hp\\\\Desktop\\\\Data Science Hyperparameter Project\\\\kfOyShRCX_EmpAccess_1200',\n",
       " 'nthreads': 1,\n",
       " 'analysis': 0,\n",
       " 'end_time_sec': 1555603544.8401034,\n",
       " 'Problem_type': 'Classification',\n",
       " 'Total Records': 327690,\n",
       " 'Target': 'ACTION',\n",
       " 'X': ['RESOURCE',\n",
       "  'MGR_ID',\n",
       "  'ROLE_ROLLUP_1',\n",
       "  'ROLE_ROLLUP_2',\n",
       "  'ROLE_DEPTNAME',\n",
       "  'ROLE_TITLE',\n",
       "  'ROLE_FAMILY_DESC',\n",
       "  'ROLE_FAMILY',\n",
       "  'ROLE_CODE'],\n",
       " 'levels': [['0', '1']],\n",
       " 'variables': {'ACTION': 'enum',\n",
       "  'RESOURCE': 'int',\n",
       "  'MGR_ID': 'int',\n",
       "  'ROLE_ROLLUP_1': 'int',\n",
       "  'ROLE_ROLLUP_2': 'int',\n",
       "  'ROLE_DEPTNAME': 'int',\n",
       "  'ROLE_TITLE': 'int',\n",
       "  'ROLE_FAMILY_DESC': 'int',\n",
       "  'ROLE_FAMILY': 'int',\n",
       "  'ROLE_CODE': 'int'},\n",
       " 'model_execution_time_sec': 2760.7395112514496,\n",
       " 'Models_generated': 28,\n",
       " 'end_time': 1555606347.4458632}"
      ]
     },
     "execution_count": 52,
     "metadata": {},
     "output_type": "execute_result"
    }
   ],
   "source": [
    "meta_data"
   ]
  },
  {
   "cell_type": "code",
   "execution_count": 53,
   "metadata": {
    "scrolled": true
   },
   "outputs": [],
   "source": [
    "n=run_id+'EmpAccess_' + str(run_time) + 'meta_data.json'\n",
    "dict_to_json(meta_data,n)"
   ]
  },
  {
   "cell_type": "markdown",
   "metadata": {},
   "source": [
    "#### Shutting down H2O"
   ]
  },
  {
   "cell_type": "code",
   "execution_count": 55,
   "metadata": {},
   "outputs": [],
   "source": [
    "# Clean up\n",
    "os.chdir(server_path)"
   ]
  },
  {
   "cell_type": "code",
   "execution_count": 56,
   "metadata": {},
   "outputs": [
    {
     "name": "stdout",
     "output_type": "stream",
     "text": [
      "H2O session _sid_8fd2 closed.\n"
     ]
    }
   ],
   "source": [
    "h2o.cluster().shutdown()"
   ]
  },
  {
   "cell_type": "markdown",
   "metadata": {},
   "source": [
    "#### Link of data set\n",
    "\n",
    "https://www.kaggle.com/c/amazon-employee-access-challenge/overview"
   ]
  },
  {
   "cell_type": "markdown",
   "metadata": {},
   "source": [
    "# Conclusion"
   ]
  },
  {
   "cell_type": "markdown",
   "metadata": {},
   "source": [
    "# Contribution"
   ]
  },
  {
   "cell_type": "markdown",
   "metadata": {},
   "source": [
    "percentage ratio - 80: 20\n",
    "\n",
    "Self - 80%\n",
    "\n",
    "External - 20%\n",
    "\n",
    "Urja - 40%\n",
    "\n",
    "Prakruthi - 40%"
   ]
  },
  {
   "cell_type": "markdown",
   "metadata": {},
   "source": [
    "# Citation\n",
    "\n",
    "https://github.com/prabhuSub/Hyperparamter-Samples\n",
    "\n",
    "https://github.com/nikbearbrown/CSYE_7245/tree/master/H2O\n",
    "\n"
   ]
  },
  {
   "cell_type": "markdown",
   "metadata": {},
   "source": [
    "# License\n",
    "\n",
    "Copyright (c) 2019 Urja Jain, Prakruthi Bagur Suryanarayanaprasad\n",
    "\n",
    "Permission is hereby granted, free of charge, to any person obtaining a copy of this software and associated documentation files (the \"Software\"), to deal in the Software without restriction, including without limitation the rights to use, copy, modify, merge, publish, distribute, sublicense, and/or sell copies of the Software, and to permit persons to whom the Software is furnished to do so, subject to the following conditions:\n",
    "\n",
    "The above copyright notice and this permission notice shall be included in all copies or substantial portions of the Software.\n",
    "\n",
    "THE SOFTWARE IS PROVIDED \"AS IS\", WITHOUT WARRANTY OF ANY KIND, EXPRESS OR IMPLIED, INCLUDING BUT NOT LIMITED TO THE WARRANTIES OF MERCHANTABILITY, FITNESS FOR A PARTICULAR PURPOSE AND NONINFRINGEMENT. IN NO EVENT SHALL THE AUTHORS OR COPYRIGHT HOLDERS BE LIABLE FOR ANY CLAIM, DAMAGES OR OTHER LIABILITY, WHETHER IN AN ACTION OF CONTRACT, TORT OR OTHERWISE, ARISING FROM, OUT OF OR IN CONNECTION WITH THE SOFTWARE OR THE USE OR OTHER DEALINGS IN THE SOFTWARE."
   ]
  }
 ],
 "metadata": {
  "kernelspec": {
   "display_name": "Python 3",
   "language": "python",
   "name": "python3"
  },
  "language_info": {
   "codemirror_mode": {
    "name": "ipython",
    "version": 3
   },
   "file_extension": ".py",
   "mimetype": "text/x-python",
   "name": "python",
   "nbconvert_exporter": "python",
   "pygments_lexer": "ipython3",
   "version": "3.7.1"
  }
 },
 "nbformat": 4,
 "nbformat_minor": 2
}
