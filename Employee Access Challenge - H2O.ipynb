{
 "cells": [
  {
   "cell_type": "markdown",
   "metadata": {},
   "source": [
    "# Abstract"
   ]
  },
  {
   "cell_type": "code",
   "execution_count": 57,
   "metadata": {},
   "outputs": [],
   "source": [
    "#importing libraries\n",
    "import h2o\n",
    "from h2o.automl import H2OAutoML\n",
    "import random, os, sys\n",
    "from datetime import datetime\n",
    "import pandas as pd\n",
    "import logging\n",
    "import csv\n",
    "import optparse\n",
    "import time\n",
    "import json\n",
    "from distutils.util import strtobool\n",
    "import psutil\n",
    "import pandas as pd\n",
    "import warnings\n",
    "warnings.filterwarnings('ignore')"
   ]
  },
  {
   "cell_type": "code",
   "execution_count": 58,
   "metadata": {},
   "outputs": [],
   "source": [
    "data_path=None\n",
    "all_variables=None\n",
    "test_path=None\n",
    "# target='search_term'\n",
    "target=None\n",
    "nthreads=1                        # Number of parallel threads used to run Algorithms\n",
    "min_mem_size=6 \n",
    "classification= True\n",
    "scale=False\n",
    "max_models=None    \n",
    "model_path=None\n",
    "balance_y=False \n",
    "balance_threshold=0.2             \n",
    "name=None \n",
    "server_path=None  \n",
    "analysis=0 "
   ]
  },
  {
   "cell_type": "markdown",
   "metadata": {},
   "source": [
    "When enabled, H2O will either undersample the majority classes or oversample the minority classes. Note that the resulting model will also correct the final probabilities (“undo the sampling”) using a monotonic transform, so the predicted probabilities of the first model will differ from a second model. However, because AUC only cares about ordering, it won’t be affected."
   ]
  },
  {
   "cell_type": "code",
   "execution_count": 59,
   "metadata": {},
   "outputs": [],
   "source": [
    "data_path='C:/Users/hp/Desktop/Data Science Hyperparameter Project/Employee_access_data.csv'"
   ]
  },
  {
   "cell_type": "markdown",
   "metadata": {},
   "source": [
    "### Data Cleaning"
   ]
  },
  {
   "cell_type": "code",
   "execution_count": 60,
   "metadata": {},
   "outputs": [],
   "source": [
    "import pandas as pd\n",
    "data= pd.read_csv(\"Employee_access_data.csv\", decimal = ',')"
   ]
  },
  {
   "cell_type": "code",
   "execution_count": 61,
   "metadata": {},
   "outputs": [
    {
     "data": {
      "text/plain": [
       "ACTION              int64\n",
       "RESOURCE            int64\n",
       "MGR_ID              int64\n",
       "ROLE_ROLLUP_1       int64\n",
       "ROLE_ROLLUP_2       int64\n",
       "ROLE_DEPTNAME       int64\n",
       "ROLE_TITLE          int64\n",
       "ROLE_FAMILY_DESC    int64\n",
       "ROLE_FAMILY         int64\n",
       "ROLE_CODE           int64\n",
       "dtype: object"
      ]
     },
     "execution_count": 61,
     "metadata": {},
     "output_type": "execute_result"
    }
   ],
   "source": [
    "data.dtypes"
   ]
  },
  {
   "cell_type": "markdown",
   "metadata": {},
   "source": [
    "**Checking for the Null values**"
   ]
  },
  {
   "cell_type": "code",
   "execution_count": 62,
   "metadata": {},
   "outputs": [
    {
     "data": {
      "text/html": [
       "<div>\n",
       "<style scoped>\n",
       "    .dataframe tbody tr th:only-of-type {\n",
       "        vertical-align: middle;\n",
       "    }\n",
       "\n",
       "    .dataframe tbody tr th {\n",
       "        vertical-align: top;\n",
       "    }\n",
       "\n",
       "    .dataframe thead th {\n",
       "        text-align: right;\n",
       "    }\n",
       "</style>\n",
       "<table border=\"1\" class=\"dataframe\">\n",
       "  <thead>\n",
       "    <tr style=\"text-align: right;\">\n",
       "      <th></th>\n",
       "      <th>total_missing</th>\n",
       "      <th>percent</th>\n",
       "    </tr>\n",
       "  </thead>\n",
       "  <tbody>\n",
       "  </tbody>\n",
       "</table>\n",
       "</div>"
      ],
      "text/plain": [
       "Empty DataFrame\n",
       "Columns: [total_missing, percent]\n",
       "Index: []"
      ]
     },
     "execution_count": 62,
     "metadata": {},
     "output_type": "execute_result"
    }
   ],
   "source": [
    "total = data.isnull().sum()[data.isnull().sum() != 0].sort_values(ascending = False)\n",
    "percent = pd.Series(round(total/len(data)*100,2))\n",
    "pd.concat([total, percent], axis=1, keys=['total_missing', 'percent'])"
   ]
  },
  {
   "cell_type": "markdown",
   "metadata": {},
   "source": [
    "No null values"
   ]
  },
  {
   "cell_type": "markdown",
   "metadata": {},
   "source": [
    "### RUNTIME"
   ]
  },
  {
   "cell_type": "markdown",
   "metadata": {},
   "source": [
    "300, 500, 700, 1000, 1200"
   ]
  },
  {
   "cell_type": "code",
   "execution_count": 63,
   "metadata": {},
   "outputs": [],
   "source": [
    "run_time= 700"
   ]
  },
  {
   "cell_type": "code",
   "execution_count": 64,
   "metadata": {},
   "outputs": [
    {
     "name": "stdout",
     "output_type": "stream",
     "text": [
      "2 GB\n"
     ]
    }
   ],
   "source": [
    "pct_memory=0.5\n",
    "virtual_memory=psutil.virtual_memory()\n",
    "min_mem_size=int(round(int(pct_memory*virtual_memory.available)/1073741824,0))\n",
    "print(min_mem_size, \"GB\")"
   ]
  },
  {
   "cell_type": "code",
   "execution_count": 65,
   "metadata": {},
   "outputs": [],
   "source": [
    "#Defining functions\n",
    "\n",
    "#generating random run_id\n",
    "def alphabet(n):\n",
    "  alpha='0123456789abcdefghijklmnopqrstuvwxyzABCDEFGHIJKLMNOPQRSTUVWXYZ'    \n",
    "  str=''\n",
    "  r=len(alpha)-1   \n",
    "  while len(str)<n:\n",
    "    i=random.randint(0,r)\n",
    "    str+=alpha[i]   \n",
    "  return str\n",
    "\n",
    "# storing in m_data dictionary  \n",
    "def set_meta_data(analysis,run_id,server,data,model_path,run_time,scale,model,balance,balance_threshold,name,path,nthreads,min_mem_size):\n",
    "  m_data={}\n",
    "  # m_data['target']=target\n",
    "  #m_data['classification']=classification\n",
    "  m_data['project'] =name\n",
    "  m_data['run_time']=run_time\n",
    "  m_data['run_id'] =run_id\n",
    "  m_data['start_time_sec'] = time.time()\n",
    "  m_data['min_mem_size'] = min_mem_size\n",
    "  m_data['balance']=balance\n",
    "  m_data['balance_threshold']=balance_threshold \n",
    "  m_data['max_models']=model\n",
    "  m_data['scale']=scale  \n",
    "  m_data['scale']=False\n",
    "  m_data['model_path']=model_path\n",
    "  m_data['server_path']=server\n",
    "  m_data['data_path']=data \n",
    "  m_data['run_path'] =path\n",
    "  m_data['nthreads'] = nthreads\n",
    "  \n",
    "  m_data['analysis'] = analysis\n",
    "  m_data['end_time_sec'] = time.time()  \n",
    "  return m_data\n",
    "\n",
    "#converting dictionary to json\n",
    "def dict_to_json(dct,n):\n",
    "  j = json.dumps(dct, indent=4)\n",
    "  f = open(n, 'w')\n",
    "  print(j, file=f)\n",
    "  f.close()\n",
    "    \n",
    "def get_all_variables_csv(i):\n",
    "    ivd={}\n",
    "    try:\n",
    "      iv = pd.read_csv(i,header=None)\n",
    "    except:\n",
    "      sys.exit(1)    \n",
    "    col=iv.values.tolist()[0]\n",
    "    dt=iv.values.tolist()[1]\n",
    "    i=0\n",
    "    for c in col:\n",
    "      ivd[c.strip()]=dt[i].strip()\n",
    "      i+=1        \n",
    "    return ivd\n",
    "    \n",
    "# Segregating in different lists of int, enum, reals and checking for missing values and then scaling(standardizing)    \n",
    "def impute_missing_values(df, x, scal=False):\n",
    "    # determine column types\n",
    "    ints, reals, enums = [], [], []\n",
    "    for key, val in df.types.items():\n",
    "        if key in x:\n",
    "            if val == 'enum':\n",
    "                enums.append(key)\n",
    "            elif val == 'int':\n",
    "                ints.append(key)            \n",
    "            else: \n",
    "                reals.append(key)    \n",
    "    _ = df[reals].impute(method='mean')\n",
    "    _ = df[ints].impute(method='median')\n",
    "    if scal:\n",
    "        df[reals] = df[reals].scale()\n",
    "        df[ints] = df[ints].scale()    \n",
    "    return\n",
    "\n",
    "# Determining Independent variables (X) from the dataset \n",
    "def get_independent_variables(df, targ):\n",
    "    C = [name for name in df.columns if name != targ]\n",
    "    # determine column types\n",
    "    ints, reals, enums = [], [], []\n",
    "    for key, val in df.types.items():\n",
    "        if key in C:\n",
    "            if val == 'enum':\n",
    "                enums.append(key)\n",
    "            elif val == 'int':\n",
    "                ints.append(key)            \n",
    "            else: \n",
    "                reals.append(key)    \n",
    "    x=ints+enums+reals\n",
    "    return x\n",
    "\n",
    "#Checkinh if X does not exist then remove\n",
    "def check_X(x,df):\n",
    "    for name in x:\n",
    "        if name not in df.columns:\n",
    "          x.remove(name)  \n",
    "    return x    \n",
    "    "
   ]
  },
  {
   "cell_type": "markdown",
   "metadata": {},
   "source": [
    "### RUN_ID"
   ]
  },
  {
   "cell_type": "code",
   "execution_count": 66,
   "metadata": {},
   "outputs": [
    {
     "name": "stdout",
     "output_type": "stream",
     "text": [
      "KYUjJqIuc\n"
     ]
    }
   ],
   "source": [
    "#randomly generating run_id through alphabet function\n",
    "run_id=alphabet(9)\n",
    "if server_path==None:\n",
    "    server_path=os.path.abspath(os.curdir)\n",
    "os.chdir(server_path) \n",
    "a = run_id + '_EmpAccess_' + str(run_time)\n",
    "run_dir = os.path.join(server_path,a)\n",
    "os.mkdir(run_dir)\n",
    "os.chdir(run_dir)    \n",
    "\n",
    "# run_id to std out\n",
    "print (run_id) "
   ]
  },
  {
   "cell_type": "code",
   "execution_count": 67,
   "metadata": {},
   "outputs": [],
   "source": [
    "# # Creating a log file\n",
    "# logfile=run_id+'_autoh2o_log.zip'\n",
    "# logs_path=os.path.join(run_dir,'logs')\n",
    "# print(logs_path,' ',logfile)"
   ]
  },
  {
   "cell_type": "code",
   "execution_count": 68,
   "metadata": {},
   "outputs": [
    {
     "data": {
      "text/plain": [
       "'KYUjJqIuc_EmpAccess_700'"
      ]
     },
     "execution_count": 68,
     "metadata": {},
     "output_type": "execute_result"
    }
   ],
   "source": [
    "name = run_id+'_EmpAccess_' + str(run_time)\n",
    "name"
   ]
  },
  {
   "cell_type": "code",
   "execution_count": 69,
   "metadata": {},
   "outputs": [
    {
     "name": "stdout",
     "output_type": "stream",
     "text": [
      "{'project': 'KYUjJqIuc_EmpAccess_700', 'run_time': 700, 'run_id': 'KYUjJqIuc', 'start_time_sec': 1555606780.2417612, 'min_mem_size': 2, 'balance': False, 'balance_threshold': 0.2, 'max_models': None, 'scale': False, 'model_path': None, 'server_path': 'C:\\\\Users\\\\hp\\\\Desktop\\\\Data Science Hyperparameter Project', 'data_path': 'C:/Users/hp/Desktop/Data Science Hyperparameter Project/Employee_access_data.csv', 'run_path': 'C:\\\\Users\\\\hp\\\\Desktop\\\\Data Science Hyperparameter Project\\\\KYUjJqIuc_EmpAccess_700', 'nthreads': 1, 'analysis': 0, 'end_time_sec': 1555606780.2417612}\n"
     ]
    }
   ],
   "source": [
    "# meta data\n",
    "meta_data = set_meta_data(analysis, run_id,server_path,data_path,model_path,run_time,scale,max_models,balance_y,balance_threshold,name,run_dir,nthreads,min_mem_size)\n",
    "print(meta_data)  "
   ]
  },
  {
   "cell_type": "code",
   "execution_count": 70,
   "metadata": {},
   "outputs": [
    {
     "name": "stdout",
     "output_type": "stream",
     "text": [
      "Problem Type:  Classification\n"
     ]
    }
   ],
   "source": [
    "if classification :\n",
    "    meta_data[\"Problem_type\"] = \"Classification\"\n",
    "    print(\"Problem Type:  Classification\")\n",
    "else:\n",
    "    meta_data[\"Problem_type\"] = \"Regression\"\n",
    "    print(\"Problem Type:  Regression\")"
   ]
  },
  {
   "cell_type": "code",
   "execution_count": 71,
   "metadata": {
    "scrolled": true
   },
   "outputs": [
    {
     "name": "stdout",
     "output_type": "stream",
     "text": [
      "Checking whether there is an H2O instance running at http://localhost:43243 ..... not found.\n",
      "Attempting to start a local H2O server...\n",
      "; Java HotSpot(TM) 64-Bit Server VM 18.9 (build 11.0.2+9-LTS, mixed mode)\n",
      "  Starting server from C:\\Users\\hp\\Anaconda3\\lib\\site-packages\\h2o\\backend\\bin\\h2o.jar\n",
      "  Ice root: C:\\Users\\hp\\AppData\\Local\\Temp\\tmp5dsqdm3b\n",
      "  JVM stdout: C:\\Users\\hp\\AppData\\Local\\Temp\\tmp5dsqdm3b\\h2o_hp_started_from_python.out\n",
      "  JVM stderr: C:\\Users\\hp\\AppData\\Local\\Temp\\tmp5dsqdm3b\\h2o_hp_started_from_python.err\n",
      "  Server is running at http://127.0.0.1:43243\n",
      "Connecting to H2O server at http://127.0.0.1:43243 ... successful.\n"
     ]
    },
    {
     "data": {
      "text/html": [
       "<div style=\"overflow:auto\"><table style=\"width:50%\"><tr><td>H2O cluster uptime:</td>\n",
       "<td>05 secs</td></tr>\n",
       "<tr><td>H2O cluster timezone:</td>\n",
       "<td>America/New_York</td></tr>\n",
       "<tr><td>H2O data parsing timezone:</td>\n",
       "<td>UTC</td></tr>\n",
       "<tr><td>H2O cluster version:</td>\n",
       "<td>3.24.0.1</td></tr>\n",
       "<tr><td>H2O cluster version age:</td>\n",
       "<td>17 days </td></tr>\n",
       "<tr><td>H2O cluster name:</td>\n",
       "<td>H2O_from_python_hp_668n1t</td></tr>\n",
       "<tr><td>H2O cluster total nodes:</td>\n",
       "<td>1</td></tr>\n",
       "<tr><td>H2O cluster free memory:</td>\n",
       "<td>2 Gb</td></tr>\n",
       "<tr><td>H2O cluster total cores:</td>\n",
       "<td>4</td></tr>\n",
       "<tr><td>H2O cluster allowed cores:</td>\n",
       "<td>4</td></tr>\n",
       "<tr><td>H2O cluster status:</td>\n",
       "<td>accepting new members, healthy</td></tr>\n",
       "<tr><td>H2O connection url:</td>\n",
       "<td>http://127.0.0.1:43243</td></tr>\n",
       "<tr><td>H2O connection proxy:</td>\n",
       "<td>None</td></tr>\n",
       "<tr><td>H2O internal security:</td>\n",
       "<td>False</td></tr>\n",
       "<tr><td>H2O API Extensions:</td>\n",
       "<td>Amazon S3, Algos, AutoML, Core V3, Core V4</td></tr>\n",
       "<tr><td>Python version:</td>\n",
       "<td>3.7.1 final</td></tr></table></div>"
      ],
      "text/plain": [
       "--------------------------  ------------------------------------------\n",
       "H2O cluster uptime:         05 secs\n",
       "H2O cluster timezone:       America/New_York\n",
       "H2O data parsing timezone:  UTC\n",
       "H2O cluster version:        3.24.0.1\n",
       "H2O cluster version age:    17 days\n",
       "H2O cluster name:           H2O_from_python_hp_668n1t\n",
       "H2O cluster total nodes:    1\n",
       "H2O cluster free memory:    2 Gb\n",
       "H2O cluster total cores:    4\n",
       "H2O cluster allowed cores:  4\n",
       "H2O cluster status:         accepting new members, healthy\n",
       "H2O connection url:         http://127.0.0.1:43243\n",
       "H2O connection proxy:\n",
       "H2O internal security:      False\n",
       "H2O API Extensions:         Amazon S3, Algos, AutoML, Core V3, Core V4\n",
       "Python version:             3.7.1 final\n",
       "--------------------------  ------------------------------------------"
      ]
     },
     "metadata": {},
     "output_type": "display_data"
    }
   ],
   "source": [
    "# 65535 Highest port no\n",
    "port_no=random.randint(5555,55555)\n",
    "\n",
    "#initializing H2O\n",
    "h2o.init(strict_version_check=False,min_mem_size_GB=min_mem_size,port=port_no)"
   ]
  },
  {
   "cell_type": "code",
   "execution_count": 72,
   "metadata": {},
   "outputs": [
    {
     "name": "stdout",
     "output_type": "stream",
     "text": [
      "C:/Users/hp/Desktop/Data Science Hyperparameter Project/Employee_access_data.csv\n"
     ]
    }
   ],
   "source": [
    "print(data_path)              #path of csv "
   ]
  },
  {
   "cell_type": "code",
   "execution_count": 73,
   "metadata": {},
   "outputs": [
    {
     "name": "stdout",
     "output_type": "stream",
     "text": [
      "Parse progress: |█████████████████████████████████████████████████████████| 100%\n"
     ]
    }
   ],
   "source": [
    "#importing data file on h2o server\n",
    "df = h2o.import_file(data_path)"
   ]
  },
  {
   "cell_type": "code",
   "execution_count": 74,
   "metadata": {},
   "outputs": [
    {
     "data": {
      "text/html": [
       "<table>\n",
       "<thead>\n",
       "<tr><th style=\"text-align: right;\">  ACTION</th><th style=\"text-align: right;\">  RESOURCE</th><th style=\"text-align: right;\">  MGR_ID</th><th style=\"text-align: right;\">  ROLE_ROLLUP_1</th><th style=\"text-align: right;\">  ROLE_ROLLUP_2</th><th style=\"text-align: right;\">  ROLE_DEPTNAME</th><th style=\"text-align: right;\">  ROLE_TITLE</th><th style=\"text-align: right;\">  ROLE_FAMILY_DESC</th><th style=\"text-align: right;\">  ROLE_FAMILY</th><th style=\"text-align: right;\">  ROLE_CODE</th></tr>\n",
       "</thead>\n",
       "<tbody>\n",
       "<tr><td style=\"text-align: right;\">       1</td><td style=\"text-align: right;\">     39353</td><td style=\"text-align: right;\">   85475</td><td style=\"text-align: right;\">         117961</td><td style=\"text-align: right;\">         118300</td><td style=\"text-align: right;\">         123472</td><td style=\"text-align: right;\">      117905</td><td style=\"text-align: right;\">            117906</td><td style=\"text-align: right;\">       290919</td><td style=\"text-align: right;\">     117908</td></tr>\n",
       "<tr><td style=\"text-align: right;\">       1</td><td style=\"text-align: right;\">     17183</td><td style=\"text-align: right;\">    1540</td><td style=\"text-align: right;\">         117961</td><td style=\"text-align: right;\">         118343</td><td style=\"text-align: right;\">         123125</td><td style=\"text-align: right;\">      118536</td><td style=\"text-align: right;\">            118536</td><td style=\"text-align: right;\">       308574</td><td style=\"text-align: right;\">     118539</td></tr>\n",
       "<tr><td style=\"text-align: right;\">       1</td><td style=\"text-align: right;\">     36724</td><td style=\"text-align: right;\">   14457</td><td style=\"text-align: right;\">         118219</td><td style=\"text-align: right;\">         118220</td><td style=\"text-align: right;\">         117884</td><td style=\"text-align: right;\">      117879</td><td style=\"text-align: right;\">            267952</td><td style=\"text-align: right;\">        19721</td><td style=\"text-align: right;\">     117880</td></tr>\n",
       "<tr><td style=\"text-align: right;\">       1</td><td style=\"text-align: right;\">     36135</td><td style=\"text-align: right;\">    5396</td><td style=\"text-align: right;\">         117961</td><td style=\"text-align: right;\">         118343</td><td style=\"text-align: right;\">         119993</td><td style=\"text-align: right;\">      118321</td><td style=\"text-align: right;\">            240983</td><td style=\"text-align: right;\">       290919</td><td style=\"text-align: right;\">     118322</td></tr>\n",
       "<tr><td style=\"text-align: right;\">       1</td><td style=\"text-align: right;\">     42680</td><td style=\"text-align: right;\">    5905</td><td style=\"text-align: right;\">         117929</td><td style=\"text-align: right;\">         117930</td><td style=\"text-align: right;\">         119569</td><td style=\"text-align: right;\">      119323</td><td style=\"text-align: right;\">            123932</td><td style=\"text-align: right;\">        19793</td><td style=\"text-align: right;\">     119325</td></tr>\n",
       "<tr><td style=\"text-align: right;\">       0</td><td style=\"text-align: right;\">     45333</td><td style=\"text-align: right;\">   14561</td><td style=\"text-align: right;\">         117951</td><td style=\"text-align: right;\">         117952</td><td style=\"text-align: right;\">         118008</td><td style=\"text-align: right;\">      118568</td><td style=\"text-align: right;\">            118568</td><td style=\"text-align: right;\">        19721</td><td style=\"text-align: right;\">     118570</td></tr>\n",
       "<tr><td style=\"text-align: right;\">       1</td><td style=\"text-align: right;\">     25993</td><td style=\"text-align: right;\">   17227</td><td style=\"text-align: right;\">         117961</td><td style=\"text-align: right;\">         118343</td><td style=\"text-align: right;\">         123476</td><td style=\"text-align: right;\">      118980</td><td style=\"text-align: right;\">            301534</td><td style=\"text-align: right;\">       118295</td><td style=\"text-align: right;\">     118982</td></tr>\n",
       "<tr><td style=\"text-align: right;\">       1</td><td style=\"text-align: right;\">     19666</td><td style=\"text-align: right;\">    4209</td><td style=\"text-align: right;\">         117961</td><td style=\"text-align: right;\">         117969</td><td style=\"text-align: right;\">         118910</td><td style=\"text-align: right;\">      126820</td><td style=\"text-align: right;\">            269034</td><td style=\"text-align: right;\">       118638</td><td style=\"text-align: right;\">     126822</td></tr>\n",
       "<tr><td style=\"text-align: right;\">       1</td><td style=\"text-align: right;\">     31246</td><td style=\"text-align: right;\">     783</td><td style=\"text-align: right;\">         117961</td><td style=\"text-align: right;\">         118413</td><td style=\"text-align: right;\">         120584</td><td style=\"text-align: right;\">      128230</td><td style=\"text-align: right;\">            302830</td><td style=\"text-align: right;\">         4673</td><td style=\"text-align: right;\">     128231</td></tr>\n",
       "<tr><td style=\"text-align: right;\">       1</td><td style=\"text-align: right;\">     78766</td><td style=\"text-align: right;\">   56683</td><td style=\"text-align: right;\">         118079</td><td style=\"text-align: right;\">         118080</td><td style=\"text-align: right;\">         117878</td><td style=\"text-align: right;\">      117879</td><td style=\"text-align: right;\">            304519</td><td style=\"text-align: right;\">        19721</td><td style=\"text-align: right;\">     117880</td></tr>\n",
       "</tbody>\n",
       "</table>"
      ]
     },
     "metadata": {},
     "output_type": "display_data"
    },
    {
     "data": {
      "text/plain": []
     },
     "execution_count": 74,
     "metadata": {},
     "output_type": "execute_result"
    }
   ],
   "source": [
    "df.head()"
   ]
  },
  {
   "cell_type": "code",
   "execution_count": 75,
   "metadata": {},
   "outputs": [
    {
     "name": "stdout",
     "output_type": "stream",
     "text": [
      "Total rows in the data set =  32769\n",
      "Total Columns in the data set =  10\n",
      "rows X columns =  (32769, 10)\n",
      "Total Records =  327690\n"
     ]
    }
   ],
   "source": [
    "rows = len(df)\n",
    "print(\"Total rows in the data set = \", rows)\n",
    "cols = len(df.columns)\n",
    "print(\"Total Columns in the data set = \", cols)\n",
    "\n",
    "rowscols = df.shape\n",
    "shape = rows * cols\n",
    "print(\"rows X columns = \", rowscols)\n",
    "print(\"Total Records = \", shape)\n",
    "\n",
    "meta_data['Total Records'] = shape"
   ]
  },
  {
   "cell_type": "code",
   "execution_count": 76,
   "metadata": {
    "scrolled": true
   },
   "outputs": [
    {
     "name": "stdout",
     "output_type": "stream",
     "text": [
      "Rows:32769\n",
      "Cols:10\n",
      "\n",
      "\n"
     ]
    },
    {
     "data": {
      "text/html": [
       "<table>\n",
       "<thead>\n",
       "<tr><th>       </th><th>ACTION             </th><th>RESOURCE          </th><th>MGR_ID            </th><th>ROLE_ROLLUP_1     </th><th>ROLE_ROLLUP_2     </th><th>ROLE_DEPTNAME     </th><th>ROLE_TITLE        </th><th>ROLE_FAMILY_DESC  </th><th>ROLE_FAMILY       </th><th>ROLE_CODE         </th></tr>\n",
       "</thead>\n",
       "<tbody>\n",
       "<tr><td>type   </td><td>int                </td><td>int               </td><td>int               </td><td>int               </td><td>int               </td><td>int               </td><td>int               </td><td>int               </td><td>int               </td><td>int               </td></tr>\n",
       "<tr><td>mins   </td><td>0.0                </td><td>0.0               </td><td>25.0              </td><td>4292.0            </td><td>23779.0           </td><td>4674.0            </td><td>117879.0          </td><td>4673.0            </td><td>3130.0            </td><td>117880.0          </td></tr>\n",
       "<tr><td>mean   </td><td>0.9421099209618847 </td><td>42923.916170771125</td><td>25988.957978577324</td><td>116952.62778845867</td><td>118301.82315603165</td><td>118912.77991394309</td><td>125916.15264426745</td><td>170178.36964814307</td><td>183703.40889255097</td><td>119789.43013213709</td></tr>\n",
       "<tr><td>maxs   </td><td>1.0                </td><td>312153.0          </td><td>311696.0          </td><td>311178.0          </td><td>286791.0          </td><td>286792.0          </td><td>311867.0          </td><td>311867.0          </td><td>308574.0          </td><td>270691.0          </td></tr>\n",
       "<tr><td>sigma  </td><td>0.23353903780676308</td><td>34173.892702138255</td><td>35928.03165014073 </td><td>10875.563591093745</td><td>4551.588572012568 </td><td>18961.32291708769 </td><td>31036.465824743256</td><td>69509.46213013002 </td><td>100488.40741337684</td><td>5784.275515531029 </td></tr>\n",
       "<tr><td>zeros  </td><td>1897               </td><td>13                </td><td>0                 </td><td>0                 </td><td>0                 </td><td>0                 </td><td>0                 </td><td>0                 </td><td>0                 </td><td>0                 </td></tr>\n",
       "<tr><td>missing</td><td>0                  </td><td>0                 </td><td>0                 </td><td>0                 </td><td>0                 </td><td>0                 </td><td>0                 </td><td>0                 </td><td>0                 </td><td>0                 </td></tr>\n",
       "<tr><td>0      </td><td>1.0                </td><td>39353.0           </td><td>85475.0           </td><td>117961.0          </td><td>118300.0          </td><td>123472.0          </td><td>117905.0          </td><td>117906.0          </td><td>290919.0          </td><td>117908.0          </td></tr>\n",
       "<tr><td>1      </td><td>1.0                </td><td>17183.0           </td><td>1540.0            </td><td>117961.0          </td><td>118343.0          </td><td>123125.0          </td><td>118536.0          </td><td>118536.0          </td><td>308574.0          </td><td>118539.0          </td></tr>\n",
       "<tr><td>2      </td><td>1.0                </td><td>36724.0           </td><td>14457.0           </td><td>118219.0          </td><td>118220.0          </td><td>117884.0          </td><td>117879.0          </td><td>267952.0          </td><td>19721.0           </td><td>117880.0          </td></tr>\n",
       "<tr><td>3      </td><td>1.0                </td><td>36135.0           </td><td>5396.0            </td><td>117961.0          </td><td>118343.0          </td><td>119993.0          </td><td>118321.0          </td><td>240983.0          </td><td>290919.0          </td><td>118322.0          </td></tr>\n",
       "<tr><td>4      </td><td>1.0                </td><td>42680.0           </td><td>5905.0            </td><td>117929.0          </td><td>117930.0          </td><td>119569.0          </td><td>119323.0          </td><td>123932.0          </td><td>19793.0           </td><td>119325.0          </td></tr>\n",
       "<tr><td>5      </td><td>0.0                </td><td>45333.0           </td><td>14561.0           </td><td>117951.0          </td><td>117952.0          </td><td>118008.0          </td><td>118568.0          </td><td>118568.0          </td><td>19721.0           </td><td>118570.0          </td></tr>\n",
       "<tr><td>6      </td><td>1.0                </td><td>25993.0           </td><td>17227.0           </td><td>117961.0          </td><td>118343.0          </td><td>123476.0          </td><td>118980.0          </td><td>301534.0          </td><td>118295.0          </td><td>118982.0          </td></tr>\n",
       "<tr><td>7      </td><td>1.0                </td><td>19666.0           </td><td>4209.0            </td><td>117961.0          </td><td>117969.0          </td><td>118910.0          </td><td>126820.0          </td><td>269034.0          </td><td>118638.0          </td><td>126822.0          </td></tr>\n",
       "<tr><td>8      </td><td>1.0                </td><td>31246.0           </td><td>783.0             </td><td>117961.0          </td><td>118413.0          </td><td>120584.0          </td><td>128230.0          </td><td>302830.0          </td><td>4673.0            </td><td>128231.0          </td></tr>\n",
       "<tr><td>9      </td><td>1.0                </td><td>78766.0           </td><td>56683.0           </td><td>118079.0          </td><td>118080.0          </td><td>117878.0          </td><td>117879.0          </td><td>304519.0          </td><td>19721.0           </td><td>117880.0          </td></tr>\n",
       "</tbody>\n",
       "</table>"
      ]
     },
     "metadata": {},
     "output_type": "display_data"
    }
   ],
   "source": [
    "df.describe()"
   ]
  },
  {
   "cell_type": "code",
   "execution_count": 77,
   "metadata": {},
   "outputs": [
    {
     "data": {
      "text/plain": [
       "\"\\nimport sys\\nsys.stdout = open('describe.txt', 'w')\\nprint ('test')\\n\""
      ]
     },
     "execution_count": 77,
     "metadata": {},
     "output_type": "execute_result"
    }
   ],
   "source": [
    "'''\n",
    "import sys\n",
    "sys.stdout = open('describe.txt', 'w')\n",
    "print ('test')\n",
    "'''"
   ]
  },
  {
   "cell_type": "markdown",
   "metadata": {},
   "source": [
    "### Depentdent Variable"
   ]
  },
  {
   "cell_type": "code",
   "execution_count": 78,
   "metadata": {},
   "outputs": [
    {
     "data": {
      "text/plain": [
       "'ACTION'"
      ]
     },
     "execution_count": 78,
     "metadata": {},
     "output_type": "execute_result"
    }
   ],
   "source": [
    "# dependent variable\n",
    "# assign target an d inputs for classification or regression\n",
    "if target==None:\n",
    "    target=\"ACTION\"   \n",
    "y = target\n",
    "meta_data['Target']=y\n",
    "y"
   ]
  },
  {
   "cell_type": "markdown",
   "metadata": {},
   "source": [
    "### Independent Variables"
   ]
  },
  {
   "cell_type": "code",
   "execution_count": 79,
   "metadata": {},
   "outputs": [],
   "source": [
    "if all_variables is not None:\n",
    "  ivd=get_all_variables_csv(all_variables)\n",
    "  print(ivd)    \n",
    "  X=check_all_variables(df,ivd,y)\n",
    "  print(X)"
   ]
  },
  {
   "cell_type": "code",
   "execution_count": 80,
   "metadata": {},
   "outputs": [
    {
     "name": "stdout",
     "output_type": "stream",
     "text": [
      "['RESOURCE', 'MGR_ID', 'ROLE_ROLLUP_1', 'ROLE_ROLLUP_2', 'ROLE_DEPTNAME', 'ROLE_TITLE', 'ROLE_FAMILY_DESC', 'ROLE_FAMILY', 'ROLE_CODE']\n"
     ]
    }
   ],
   "source": [
    "# independent variables\n",
    "# putting all independent variables in the list X \n",
    "\n",
    "X = []  \n",
    "if all_variables is None:\n",
    "  X=get_independent_variables(df, target)  \n",
    "  print(X)  \n",
    "else: \n",
    "  ivd=get_all_variables_csv(all_variables)    \n",
    "  X=check_all_variables(df, ivd)\n",
    "\n",
    "\n",
    "X=check_X(X,df)\n",
    "\n",
    "\n",
    "# Add independent variables to meta data\n",
    "\n",
    "meta_data['X']=X  \n",
    "\n",
    "\n",
    "# impute missing values\n",
    "\n",
    "_=impute_missing_values(df,X, scale)"
   ]
  },
  {
   "cell_type": "markdown",
   "metadata": {},
   "source": [
    "### Problem Type\n",
    "\n",
    "The dependent variable for this data set is of Binary/ classification type."
   ]
  },
  {
   "cell_type": "code",
   "execution_count": 81,
   "metadata": {},
   "outputs": [],
   "source": [
    "# Force target to be factors\n",
    "# Only 'int' or 'string' are allowed for asfactor(), got Target (Total orders):real \n",
    "\n",
    "if classification:\n",
    "    df[y] = df[y].asfactor()"
   ]
  },
  {
   "cell_type": "code",
   "execution_count": 82,
   "metadata": {
    "scrolled": true
   },
   "outputs": [
    {
     "data": {
      "text/html": [
       "<table>\n",
       "<thead>\n",
       "<tr><th style=\"text-align: right;\">  ACTION</th></tr>\n",
       "</thead>\n",
       "<tbody>\n",
       "<tr><td style=\"text-align: right;\">       1</td></tr>\n",
       "<tr><td style=\"text-align: right;\">       1</td></tr>\n",
       "<tr><td style=\"text-align: right;\">       1</td></tr>\n",
       "<tr><td style=\"text-align: right;\">       1</td></tr>\n",
       "<tr><td style=\"text-align: right;\">       1</td></tr>\n",
       "<tr><td style=\"text-align: right;\">       0</td></tr>\n",
       "<tr><td style=\"text-align: right;\">       1</td></tr>\n",
       "<tr><td style=\"text-align: right;\">       1</td></tr>\n",
       "<tr><td style=\"text-align: right;\">       1</td></tr>\n",
       "<tr><td style=\"text-align: right;\">       1</td></tr>\n",
       "</tbody>\n",
       "</table>"
      ]
     },
     "metadata": {},
     "output_type": "display_data"
    },
    {
     "data": {
      "text/plain": []
     },
     "execution_count": 82,
     "metadata": {},
     "output_type": "execute_result"
    }
   ],
   "source": [
    "df[y]"
   ]
  },
  {
   "cell_type": "markdown",
   "metadata": {},
   "source": [
    "**Checking the number of classes of dependent variable**"
   ]
  },
  {
   "cell_type": "code",
   "execution_count": 83,
   "metadata": {
    "scrolled": true
   },
   "outputs": [
    {
     "name": "stdout",
     "output_type": "stream",
     "text": [
      "[['0', '1']]\n"
     ]
    }
   ],
   "source": [
    "# Total categories in the target column\n",
    "lvl = df[y].levels()\n",
    "print(lvl)\n",
    "meta_data[\"levels\"] = lvl"
   ]
  },
  {
   "cell_type": "markdown",
   "metadata": {},
   "source": [
    "y has 2 levels or classes"
   ]
  },
  {
   "cell_type": "code",
   "execution_count": 84,
   "metadata": {},
   "outputs": [],
   "source": [
    "# checking value of target for real, int, enum\n",
    "def check_y(y,df):\n",
    "  ok=False\n",
    "  C = [name for name in df.columns if name == y]\n",
    "  for key, val in df.types.items():\n",
    "    if key in C:\n",
    "      if val in ['real','int','enum']:        \n",
    "        ok=True         \n",
    "  return ok   "
   ]
  },
  {
   "cell_type": "code",
   "execution_count": 85,
   "metadata": {},
   "outputs": [],
   "source": [
    "ok=check_y(y,df)\n",
    "if not ok:\n",
    "    print(ok)"
   ]
  },
  {
   "cell_type": "code",
   "execution_count": 86,
   "metadata": {},
   "outputs": [
    {
     "name": "stdout",
     "output_type": "stream",
     "text": [
      "True\n"
     ]
    }
   ],
   "source": [
    "# since y is enum type\n",
    "print(ok)"
   ]
  },
  {
   "cell_type": "code",
   "execution_count": 87,
   "metadata": {},
   "outputs": [],
   "source": [
    "def get_variables_types(df):\n",
    "    d={}\n",
    "    for key, val in df.types.items():\n",
    "        d[key]=val           \n",
    "    return d    \n",
    "    "
   ]
  },
  {
   "cell_type": "code",
   "execution_count": 88,
   "metadata": {
    "scrolled": true
   },
   "outputs": [
    {
     "data": {
      "text/plain": [
       "{'ACTION': 'enum',\n",
       " 'RESOURCE': 'int',\n",
       " 'MGR_ID': 'int',\n",
       " 'ROLE_ROLLUP_1': 'int',\n",
       " 'ROLE_ROLLUP_2': 'int',\n",
       " 'ROLE_DEPTNAME': 'int',\n",
       " 'ROLE_TITLE': 'int',\n",
       " 'ROLE_FAMILY_DESC': 'int',\n",
       " 'ROLE_FAMILY': 'int',\n",
       " 'ROLE_CODE': 'int'}"
      ]
     },
     "execution_count": 88,
     "metadata": {},
     "output_type": "execute_result"
    }
   ],
   "source": [
    "# getting the data types of all the variables in the dataset\n",
    "allV=get_variables_types(df)\n",
    "allV"
   ]
  },
  {
   "cell_type": "code",
   "execution_count": 89,
   "metadata": {},
   "outputs": [],
   "source": [
    "# Adding the data types to meta data \n",
    "meta_data['variables']=allV"
   ]
  },
  {
   "cell_type": "markdown",
   "metadata": {},
   "source": [
    "### Using H2OAutoML\n",
    "\n",
    "* Used for automatic training and tuning of the models"
   ]
  },
  {
   "cell_type": "code",
   "execution_count": 90,
   "metadata": {},
   "outputs": [],
   "source": [
    "# Set up AutoML\n",
    "\n",
    "aml = H2OAutoML(max_runtime_secs=run_time,project_name = name)"
   ]
  },
  {
   "cell_type": "code",
   "execution_count": 91,
   "metadata": {},
   "outputs": [],
   "source": [
    "model_start_time = time.time()"
   ]
  },
  {
   "cell_type": "code",
   "execution_count": 92,
   "metadata": {},
   "outputs": [
    {
     "name": "stdout",
     "output_type": "stream",
     "text": [
      "AutoML progress: |████████████████████████████████████████████████████████| 100%\n"
     ]
    }
   ],
   "source": [
    "aml.train(x=X,y=y,training_frame=df)"
   ]
  },
  {
   "cell_type": "code",
   "execution_count": 93,
   "metadata": {},
   "outputs": [
    {
     "name": "stdout",
     "output_type": "stream",
     "text": [
      "Execution time for  700 sec =   708.7163550853729\n"
     ]
    }
   ],
   "source": [
    "execution_time =  time.time() - model_start_time\n",
    "meta_data['model_execution_time_sec'] = execution_time\n",
    "print(\"Execution time for \", run_time,\"sec =  \",meta_data['model_execution_time_sec'])"
   ]
  },
  {
   "cell_type": "markdown",
   "metadata": {},
   "source": [
    "## LeaderBoard"
   ]
  },
  {
   "cell_type": "code",
   "execution_count": 94,
   "metadata": {},
   "outputs": [],
   "source": [
    "# get leaderboard\n",
    "aml_leaderboard_df=aml.leaderboard.as_data_frame()"
   ]
  },
  {
   "cell_type": "code",
   "execution_count": 95,
   "metadata": {
    "scrolled": true
   },
   "outputs": [
    {
     "data": {
      "text/html": [
       "<div>\n",
       "<style scoped>\n",
       "    .dataframe tbody tr th:only-of-type {\n",
       "        vertical-align: middle;\n",
       "    }\n",
       "\n",
       "    .dataframe tbody tr th {\n",
       "        vertical-align: top;\n",
       "    }\n",
       "\n",
       "    .dataframe thead th {\n",
       "        text-align: right;\n",
       "    }\n",
       "</style>\n",
       "<table border=\"1\" class=\"dataframe\">\n",
       "  <thead>\n",
       "    <tr style=\"text-align: right;\">\n",
       "      <th></th>\n",
       "      <th>model_id</th>\n",
       "      <th>auc</th>\n",
       "      <th>logloss</th>\n",
       "      <th>mean_per_class_error</th>\n",
       "      <th>rmse</th>\n",
       "      <th>mse</th>\n",
       "    </tr>\n",
       "  </thead>\n",
       "  <tbody>\n",
       "    <tr>\n",
       "      <th>0</th>\n",
       "      <td>GBM_grid_1_AutoML_20190418_130009_model_1</td>\n",
       "      <td>0.867092</td>\n",
       "      <td>0.152078</td>\n",
       "      <td>0.303534</td>\n",
       "      <td>0.200599</td>\n",
       "      <td>0.040240</td>\n",
       "    </tr>\n",
       "    <tr>\n",
       "      <th>1</th>\n",
       "      <td>StackedEnsemble_BestOfFamily_AutoML_20190418_1...</td>\n",
       "      <td>0.863712</td>\n",
       "      <td>0.154195</td>\n",
       "      <td>0.306007</td>\n",
       "      <td>0.198776</td>\n",
       "      <td>0.039512</td>\n",
       "    </tr>\n",
       "    <tr>\n",
       "      <th>2</th>\n",
       "      <td>StackedEnsemble_AllModels_AutoML_20190418_130009</td>\n",
       "      <td>0.862187</td>\n",
       "      <td>0.154182</td>\n",
       "      <td>0.306814</td>\n",
       "      <td>0.198965</td>\n",
       "      <td>0.039587</td>\n",
       "    </tr>\n",
       "    <tr>\n",
       "      <th>3</th>\n",
       "      <td>DRF_1_AutoML_20190418_130009</td>\n",
       "      <td>0.845773</td>\n",
       "      <td>0.177915</td>\n",
       "      <td>0.363560</td>\n",
       "      <td>0.201498</td>\n",
       "      <td>0.040602</td>\n",
       "    </tr>\n",
       "    <tr>\n",
       "      <th>4</th>\n",
       "      <td>GBM_4_AutoML_20190418_130009</td>\n",
       "      <td>0.841592</td>\n",
       "      <td>0.159551</td>\n",
       "      <td>0.364933</td>\n",
       "      <td>0.202601</td>\n",
       "      <td>0.041047</td>\n",
       "    </tr>\n",
       "    <tr>\n",
       "      <th>5</th>\n",
       "      <td>XRT_1_AutoML_20190418_130009</td>\n",
       "      <td>0.840561</td>\n",
       "      <td>0.188540</td>\n",
       "      <td>0.356365</td>\n",
       "      <td>0.202947</td>\n",
       "      <td>0.041188</td>\n",
       "    </tr>\n",
       "    <tr>\n",
       "      <th>6</th>\n",
       "      <td>GBM_3_AutoML_20190418_130009</td>\n",
       "      <td>0.839477</td>\n",
       "      <td>0.162258</td>\n",
       "      <td>0.385753</td>\n",
       "      <td>0.205124</td>\n",
       "      <td>0.042076</td>\n",
       "    </tr>\n",
       "    <tr>\n",
       "      <th>7</th>\n",
       "      <td>GBM_5_AutoML_20190418_130009</td>\n",
       "      <td>0.837055</td>\n",
       "      <td>0.165108</td>\n",
       "      <td>0.409014</td>\n",
       "      <td>0.207468</td>\n",
       "      <td>0.043043</td>\n",
       "    </tr>\n",
       "    <tr>\n",
       "      <th>8</th>\n",
       "      <td>GBM_2_AutoML_20190418_130009</td>\n",
       "      <td>0.834602</td>\n",
       "      <td>0.164862</td>\n",
       "      <td>0.405948</td>\n",
       "      <td>0.206954</td>\n",
       "      <td>0.042830</td>\n",
       "    </tr>\n",
       "    <tr>\n",
       "      <th>9</th>\n",
       "      <td>GBM_1_AutoML_20190418_130009</td>\n",
       "      <td>0.830971</td>\n",
       "      <td>0.166941</td>\n",
       "      <td>0.372203</td>\n",
       "      <td>0.208379</td>\n",
       "      <td>0.043422</td>\n",
       "    </tr>\n",
       "    <tr>\n",
       "      <th>10</th>\n",
       "      <td>GBM_grid_1_AutoML_20190418_130009_model_6</td>\n",
       "      <td>0.823648</td>\n",
       "      <td>0.173232</td>\n",
       "      <td>0.413137</td>\n",
       "      <td>0.212815</td>\n",
       "      <td>0.045290</td>\n",
       "    </tr>\n",
       "    <tr>\n",
       "      <th>11</th>\n",
       "      <td>GBM_grid_1_AutoML_20190418_130009_model_2</td>\n",
       "      <td>0.805430</td>\n",
       "      <td>0.192642</td>\n",
       "      <td>0.459545</td>\n",
       "      <td>0.217917</td>\n",
       "      <td>0.047488</td>\n",
       "    </tr>\n",
       "    <tr>\n",
       "      <th>12</th>\n",
       "      <td>GBM_grid_1_AutoML_20190418_130009_model_5</td>\n",
       "      <td>0.799801</td>\n",
       "      <td>0.183243</td>\n",
       "      <td>0.457716</td>\n",
       "      <td>0.216315</td>\n",
       "      <td>0.046792</td>\n",
       "    </tr>\n",
       "    <tr>\n",
       "      <th>13</th>\n",
       "      <td>GBM_grid_1_AutoML_20190418_130009_model_8</td>\n",
       "      <td>0.704518</td>\n",
       "      <td>0.211444</td>\n",
       "      <td>0.494116</td>\n",
       "      <td>0.230446</td>\n",
       "      <td>0.053105</td>\n",
       "    </tr>\n",
       "    <tr>\n",
       "      <th>14</th>\n",
       "      <td>GBM_grid_1_AutoML_20190418_130009_model_3</td>\n",
       "      <td>0.680228</td>\n",
       "      <td>0.215691</td>\n",
       "      <td>0.496407</td>\n",
       "      <td>0.232090</td>\n",
       "      <td>0.053866</td>\n",
       "    </tr>\n",
       "    <tr>\n",
       "      <th>15</th>\n",
       "      <td>GBM_grid_1_AutoML_20190418_130009_model_4</td>\n",
       "      <td>0.656247</td>\n",
       "      <td>0.219913</td>\n",
       "      <td>0.491630</td>\n",
       "      <td>0.233235</td>\n",
       "      <td>0.054398</td>\n",
       "    </tr>\n",
       "    <tr>\n",
       "      <th>16</th>\n",
       "      <td>GBM_grid_1_AutoML_20190418_130009_model_7</td>\n",
       "      <td>0.618302</td>\n",
       "      <td>0.220612</td>\n",
       "      <td>0.495665</td>\n",
       "      <td>0.233415</td>\n",
       "      <td>0.054482</td>\n",
       "    </tr>\n",
       "    <tr>\n",
       "      <th>17</th>\n",
       "      <td>DeepLearning_1_AutoML_20190418_130009</td>\n",
       "      <td>0.552901</td>\n",
       "      <td>0.224792</td>\n",
       "      <td>0.500000</td>\n",
       "      <td>0.234053</td>\n",
       "      <td>0.054781</td>\n",
       "    </tr>\n",
       "    <tr>\n",
       "      <th>18</th>\n",
       "      <td>DeepLearning_grid_1_AutoML_20190418_130009_mod...</td>\n",
       "      <td>0.525191</td>\n",
       "      <td>0.296297</td>\n",
       "      <td>0.500000</td>\n",
       "      <td>0.238005</td>\n",
       "      <td>0.056646</td>\n",
       "    </tr>\n",
       "    <tr>\n",
       "      <th>19</th>\n",
       "      <td>DeepLearning_grid_1_AutoML_20190418_130009_mod...</td>\n",
       "      <td>0.524260</td>\n",
       "      <td>0.225253</td>\n",
       "      <td>0.500000</td>\n",
       "      <td>0.234015</td>\n",
       "      <td>0.054763</td>\n",
       "    </tr>\n",
       "    <tr>\n",
       "      <th>20</th>\n",
       "      <td>GLM_grid_1_AutoML_20190418_130009_model_1</td>\n",
       "      <td>0.522591</td>\n",
       "      <td>0.220979</td>\n",
       "      <td>0.500000</td>\n",
       "      <td>0.233517</td>\n",
       "      <td>0.054530</td>\n",
       "    </tr>\n",
       "    <tr>\n",
       "      <th>21</th>\n",
       "      <td>DeepLearning_grid_1_AutoML_20190418_130009_mod...</td>\n",
       "      <td>0.508009</td>\n",
       "      <td>0.464825</td>\n",
       "      <td>0.500000</td>\n",
       "      <td>0.240407</td>\n",
       "      <td>0.057795</td>\n",
       "    </tr>\n",
       "  </tbody>\n",
       "</table>\n",
       "</div>"
      ],
      "text/plain": [
       "                                             model_id       auc   logloss  \\\n",
       "0           GBM_grid_1_AutoML_20190418_130009_model_1  0.867092  0.152078   \n",
       "1   StackedEnsemble_BestOfFamily_AutoML_20190418_1...  0.863712  0.154195   \n",
       "2    StackedEnsemble_AllModels_AutoML_20190418_130009  0.862187  0.154182   \n",
       "3                        DRF_1_AutoML_20190418_130009  0.845773  0.177915   \n",
       "4                        GBM_4_AutoML_20190418_130009  0.841592  0.159551   \n",
       "5                        XRT_1_AutoML_20190418_130009  0.840561  0.188540   \n",
       "6                        GBM_3_AutoML_20190418_130009  0.839477  0.162258   \n",
       "7                        GBM_5_AutoML_20190418_130009  0.837055  0.165108   \n",
       "8                        GBM_2_AutoML_20190418_130009  0.834602  0.164862   \n",
       "9                        GBM_1_AutoML_20190418_130009  0.830971  0.166941   \n",
       "10          GBM_grid_1_AutoML_20190418_130009_model_6  0.823648  0.173232   \n",
       "11          GBM_grid_1_AutoML_20190418_130009_model_2  0.805430  0.192642   \n",
       "12          GBM_grid_1_AutoML_20190418_130009_model_5  0.799801  0.183243   \n",
       "13          GBM_grid_1_AutoML_20190418_130009_model_8  0.704518  0.211444   \n",
       "14          GBM_grid_1_AutoML_20190418_130009_model_3  0.680228  0.215691   \n",
       "15          GBM_grid_1_AutoML_20190418_130009_model_4  0.656247  0.219913   \n",
       "16          GBM_grid_1_AutoML_20190418_130009_model_7  0.618302  0.220612   \n",
       "17              DeepLearning_1_AutoML_20190418_130009  0.552901  0.224792   \n",
       "18  DeepLearning_grid_1_AutoML_20190418_130009_mod...  0.525191  0.296297   \n",
       "19  DeepLearning_grid_1_AutoML_20190418_130009_mod...  0.524260  0.225253   \n",
       "20          GLM_grid_1_AutoML_20190418_130009_model_1  0.522591  0.220979   \n",
       "21  DeepLearning_grid_1_AutoML_20190418_130009_mod...  0.508009  0.464825   \n",
       "\n",
       "    mean_per_class_error      rmse       mse  \n",
       "0               0.303534  0.200599  0.040240  \n",
       "1               0.306007  0.198776  0.039512  \n",
       "2               0.306814  0.198965  0.039587  \n",
       "3               0.363560  0.201498  0.040602  \n",
       "4               0.364933  0.202601  0.041047  \n",
       "5               0.356365  0.202947  0.041188  \n",
       "6               0.385753  0.205124  0.042076  \n",
       "7               0.409014  0.207468  0.043043  \n",
       "8               0.405948  0.206954  0.042830  \n",
       "9               0.372203  0.208379  0.043422  \n",
       "10              0.413137  0.212815  0.045290  \n",
       "11              0.459545  0.217917  0.047488  \n",
       "12              0.457716  0.216315  0.046792  \n",
       "13              0.494116  0.230446  0.053105  \n",
       "14              0.496407  0.232090  0.053866  \n",
       "15              0.491630  0.233235  0.054398  \n",
       "16              0.495665  0.233415  0.054482  \n",
       "17              0.500000  0.234053  0.054781  \n",
       "18              0.500000  0.238005  0.056646  \n",
       "19              0.500000  0.234015  0.054763  \n",
       "20              0.500000  0.233517  0.054530  \n",
       "21              0.500000  0.240407  0.057795  "
      ]
     },
     "execution_count": 95,
     "metadata": {},
     "output_type": "execute_result"
    }
   ],
   "source": [
    "aml_leaderboard_df"
   ]
  },
  {
   "cell_type": "code",
   "execution_count": 96,
   "metadata": {},
   "outputs": [],
   "source": [
    "length = len(aml_leaderboard_df)- 1\n",
    "length\n",
    "meta_data[\"Models_generated\"] = length"
   ]
  },
  {
   "cell_type": "markdown",
   "metadata": {},
   "source": [
    "### Saving Leaderboard into csv"
   ]
  },
  {
   "cell_type": "code",
   "execution_count": 97,
   "metadata": {},
   "outputs": [],
   "source": [
    "# save leaderboard to csv\n",
    "# run_time = run_time.ascharacter()\n",
    "leaderboard_stats=run_id+'EmpAccess_'+ str(run_time) + '_leaderboard.csv'\n",
    "aml_leaderboard_df.to_csv(leaderboard_stats)"
   ]
  },
  {
   "cell_type": "markdown",
   "metadata": {},
   "source": [
    "### Generating hyperparameters for the best model on the leaderboard"
   ]
  },
  {
   "cell_type": "code",
   "execution_count": 98,
   "metadata": {},
   "outputs": [],
   "source": [
    "# STart best model as first model\n",
    "model_set=aml_leaderboard_df['model_id']\n",
    "mod_best=h2o.get_model(model_set[0])"
   ]
  },
  {
   "cell_type": "code",
   "execution_count": 99,
   "metadata": {
    "scrolled": true
   },
   "outputs": [
    {
     "data": {
      "text/plain": [
       "{'model_id': {'default': None,\n",
       "  'actual': {'__meta': {'schema_version': 3,\n",
       "    'schema_name': 'ModelKeyV3',\n",
       "    'schema_type': 'Key<Model>'},\n",
       "   'name': 'GBM_grid_1_AutoML_20190418_130009_model_1',\n",
       "   'type': 'Key<Model>',\n",
       "   'URL': '/3/Models/GBM_grid_1_AutoML_20190418_130009_model_1'}},\n",
       " 'training_frame': {'default': None,\n",
       "  'actual': {'__meta': {'schema_version': 3,\n",
       "    'schema_name': 'FrameKeyV3',\n",
       "    'schema_type': 'Key<Frame>'},\n",
       "   'name': 'automl_training_py_13_sid_a596',\n",
       "   'type': 'Key<Frame>',\n",
       "   'URL': '/3/Frames/automl_training_py_13_sid_a596'}},\n",
       " 'validation_frame': {'default': None, 'actual': None},\n",
       " 'nfolds': {'default': 0, 'actual': 5},\n",
       " 'keep_cross_validation_models': {'default': True, 'actual': False},\n",
       " 'keep_cross_validation_predictions': {'default': False, 'actual': True},\n",
       " 'keep_cross_validation_fold_assignment': {'default': False, 'actual': False},\n",
       " 'score_each_iteration': {'default': False, 'actual': False},\n",
       " 'score_tree_interval': {'default': 0, 'actual': 5},\n",
       " 'fold_assignment': {'default': 'AUTO', 'actual': 'Modulo'},\n",
       " 'fold_column': {'default': None, 'actual': None},\n",
       " 'response_column': {'default': None,\n",
       "  'actual': {'__meta': {'schema_version': 3,\n",
       "    'schema_name': 'ColSpecifierV3',\n",
       "    'schema_type': 'VecSpecifier'},\n",
       "   'column_name': 'ACTION',\n",
       "   'is_member_of_frames': None}},\n",
       " 'ignored_columns': {'default': None, 'actual': []},\n",
       " 'ignore_const_cols': {'default': True, 'actual': True},\n",
       " 'offset_column': {'default': None, 'actual': None},\n",
       " 'weights_column': {'default': None, 'actual': None},\n",
       " 'balance_classes': {'default': False, 'actual': False},\n",
       " 'class_sampling_factors': {'default': None, 'actual': None},\n",
       " 'max_after_balance_size': {'default': 5.0, 'actual': 5.0},\n",
       " 'max_confusion_matrix_size': {'default': 20, 'actual': 20},\n",
       " 'max_hit_ratio_k': {'default': 0, 'actual': 0},\n",
       " 'ntrees': {'default': 50, 'actual': 252},\n",
       " 'max_depth': {'default': 5, 'actual': 17},\n",
       " 'min_rows': {'default': 10.0, 'actual': 5.0},\n",
       " 'nbins': {'default': 20, 'actual': 20},\n",
       " 'nbins_top_level': {'default': 1024, 'actual': 1024},\n",
       " 'nbins_cats': {'default': 1024, 'actual': 1024},\n",
       " 'r2_stopping': {'default': 1.7976931348623157e+308,\n",
       "  'actual': 1.7976931348623157e+308},\n",
       " 'stopping_rounds': {'default': 0, 'actual': 0},\n",
       " 'stopping_metric': {'default': 'AUTO', 'actual': 'logloss'},\n",
       " 'stopping_tolerance': {'default': 0.001, 'actual': 0.005524187436252161},\n",
       " 'max_runtime_secs': {'default': 0.0, 'actual': 0.0},\n",
       " 'seed': {'default': -1, 'actual': 4762474614436848925},\n",
       " 'build_tree_one_node': {'default': False, 'actual': False},\n",
       " 'learn_rate': {'default': 0.1, 'actual': 0.01},\n",
       " 'learn_rate_annealing': {'default': 1.0, 'actual': 1.0},\n",
       " 'distribution': {'default': 'AUTO', 'actual': 'bernoulli'},\n",
       " 'quantile_alpha': {'default': 0.5, 'actual': 0.5},\n",
       " 'tweedie_power': {'default': 1.5, 'actual': 1.5},\n",
       " 'huber_alpha': {'default': 0.9, 'actual': 0.9},\n",
       " 'checkpoint': {'default': None, 'actual': None},\n",
       " 'sample_rate': {'default': 1.0, 'actual': 1.0},\n",
       " 'sample_rate_per_class': {'default': None, 'actual': None},\n",
       " 'col_sample_rate': {'default': 1.0, 'actual': 0.7},\n",
       " 'col_sample_rate_change_per_level': {'default': 1.0, 'actual': 1.0},\n",
       " 'col_sample_rate_per_tree': {'default': 1.0, 'actual': 0.4},\n",
       " 'min_split_improvement': {'default': 1e-05, 'actual': 1e-05},\n",
       " 'histogram_type': {'default': 'AUTO', 'actual': 'AUTO'},\n",
       " 'max_abs_leafnode_pred': {'default': 1.7976931348623157e+308,\n",
       "  'actual': 1.7976931348623157e+308},\n",
       " 'pred_noise_bandwidth': {'default': 0.0, 'actual': 0.0},\n",
       " 'categorical_encoding': {'default': 'AUTO', 'actual': 'AUTO'},\n",
       " 'calibrate_model': {'default': False, 'actual': False},\n",
       " 'calibration_frame': {'default': None, 'actual': None},\n",
       " 'custom_metric_func': {'default': None, 'actual': None},\n",
       " 'export_checkpoints_dir': {'default': None, 'actual': None},\n",
       " 'monotone_constraints': {'default': None, 'actual': None},\n",
       " 'check_constant_response': {'default': True, 'actual': True}}"
      ]
     },
     "execution_count": 99,
     "metadata": {},
     "output_type": "execute_result"
    }
   ],
   "source": [
    "mod_best.params"
   ]
  },
  {
   "cell_type": "code",
   "execution_count": 100,
   "metadata": {},
   "outputs": [
    {
     "name": "stdout",
     "output_type": "stream",
     "text": [
      "Model Details\n",
      "=============\n",
      "H2OGradientBoostingEstimator :  Gradient Boosting Machine\n",
      "Model Key:  GBM_grid_1_AutoML_20190418_130009_model_1\n",
      "\n",
      "\n",
      "ModelMetricsBinomial: gbm\n",
      "** Reported on train data. **\n",
      "\n",
      "MSE: 0.020898010897479797\n",
      "RMSE: 0.14456144332940163\n",
      "LogLoss: 0.08166822239808458\n",
      "Mean Per-Class Error: 0.026034879953249268\n",
      "AUC: 0.9959055521033129\n",
      "pr_auc: 0.9973188350179899\n",
      "Gini: 0.9918111042066258\n",
      "Confusion Matrix (Act/Pred) for max f1 @ threshold = 0.7195748209356244: \n"
     ]
    },
    {
     "data": {
      "text/html": [
       "<div style=\"overflow:auto\"><table style=\"width:50%\"><tr><td><b></b></td>\n",
       "<td><b>0</b></td>\n",
       "<td><b>1</b></td>\n",
       "<td><b>Error</b></td>\n",
       "<td><b>Rate</b></td></tr>\n",
       "<tr><td>0</td>\n",
       "<td>1565.0</td>\n",
       "<td>332.0</td>\n",
       "<td>0.175</td>\n",
       "<td> (332.0/1897.0)</td></tr>\n",
       "<tr><td>1</td>\n",
       "<td>204.0</td>\n",
       "<td>30668.0</td>\n",
       "<td>0.0066</td>\n",
       "<td> (204.0/30872.0)</td></tr>\n",
       "<tr><td>Total</td>\n",
       "<td>1769.0</td>\n",
       "<td>31000.0</td>\n",
       "<td>0.0164</td>\n",
       "<td> (536.0/32769.0)</td></tr></table></div>"
      ],
      "text/plain": [
       "       0     1      Error    Rate\n",
       "-----  ----  -----  -------  ---------------\n",
       "0      1565  332    0.175    (332.0/1897.0)\n",
       "1      204   30668  0.0066   (204.0/30872.0)\n",
       "Total  1769  31000  0.0164   (536.0/32769.0)"
      ]
     },
     "metadata": {},
     "output_type": "display_data"
    },
    {
     "name": "stdout",
     "output_type": "stream",
     "text": [
      "Maximum Metrics: Maximum metrics at their respective thresholds\n",
      "\n"
     ]
    },
    {
     "data": {
      "text/html": [
       "<div style=\"overflow:auto\"><table style=\"width:50%\"><tr><td><b>metric</b></td>\n",
       "<td><b>threshold</b></td>\n",
       "<td><b>value</b></td>\n",
       "<td><b>idx</b></td></tr>\n",
       "<tr><td>max f1</td>\n",
       "<td>0.7195748</td>\n",
       "<td>0.9913370</td>\n",
       "<td>223.0</td></tr>\n",
       "<tr><td>max f2</td>\n",
       "<td>0.6119304</td>\n",
       "<td>0.9945850</td>\n",
       "<td>263.0</td></tr>\n",
       "<tr><td>max f0point5</td>\n",
       "<td>0.8267385</td>\n",
       "<td>0.9935334</td>\n",
       "<td>180.0</td></tr>\n",
       "<tr><td>max accuracy</td>\n",
       "<td>0.7708024</td>\n",
       "<td>0.9836736</td>\n",
       "<td>205.0</td></tr>\n",
       "<tr><td>max precision</td>\n",
       "<td>0.9938092</td>\n",
       "<td>1.0</td>\n",
       "<td>0.0</td></tr>\n",
       "<tr><td>max recall</td>\n",
       "<td>0.3868958</td>\n",
       "<td>1.0</td>\n",
       "<td>339.0</td></tr>\n",
       "<tr><td>max specificity</td>\n",
       "<td>0.9938092</td>\n",
       "<td>1.0</td>\n",
       "<td>0.0</td></tr>\n",
       "<tr><td>max absolute_mcc</td>\n",
       "<td>0.7848756</td>\n",
       "<td>0.8576590</td>\n",
       "<td>199.0</td></tr>\n",
       "<tr><td>max min_per_class_accuracy</td>\n",
       "<td>0.8602532</td>\n",
       "<td>0.9720611</td>\n",
       "<td>164.0</td></tr>\n",
       "<tr><td>max mean_per_class_accuracy</td>\n",
       "<td>0.8778646</td>\n",
       "<td>0.9739651</td>\n",
       "<td>154.0</td></tr></table></div>"
      ],
      "text/plain": [
       "metric                       threshold    value     idx\n",
       "---------------------------  -----------  --------  -----\n",
       "max f1                       0.719575     0.991337  223\n",
       "max f2                       0.61193      0.994585  263\n",
       "max f0point5                 0.826738     0.993533  180\n",
       "max accuracy                 0.770802     0.983674  205\n",
       "max precision                0.993809     1         0\n",
       "max recall                   0.386896     1         339\n",
       "max specificity              0.993809     1         0\n",
       "max absolute_mcc             0.784876     0.857659  199\n",
       "max min_per_class_accuracy   0.860253     0.972061  164\n",
       "max mean_per_class_accuracy  0.877865     0.973965  154"
      ]
     },
     "metadata": {},
     "output_type": "display_data"
    },
    {
     "name": "stdout",
     "output_type": "stream",
     "text": [
      "Gains/Lift Table: Avg response rate: 94.21 %, avg score: 94.20 %\n",
      "\n"
     ]
    },
    {
     "data": {
      "text/html": [
       "<div style=\"overflow:auto\"><table style=\"width:50%\"><tr><td><b></b></td>\n",
       "<td><b>group</b></td>\n",
       "<td><b>cumulative_data_fraction</b></td>\n",
       "<td><b>lower_threshold</b></td>\n",
       "<td><b>lift</b></td>\n",
       "<td><b>cumulative_lift</b></td>\n",
       "<td><b>response_rate</b></td>\n",
       "<td><b>score</b></td>\n",
       "<td><b>cumulative_response_rate</b></td>\n",
       "<td><b>cumulative_score</b></td>\n",
       "<td><b>capture_rate</b></td>\n",
       "<td><b>cumulative_capture_rate</b></td>\n",
       "<td><b>gain</b></td>\n",
       "<td><b>cumulative_gain</b></td></tr>\n",
       "<tr><td></td>\n",
       "<td>1</td>\n",
       "<td>0.0100095</td>\n",
       "<td>0.9926974</td>\n",
       "<td>1.0614473</td>\n",
       "<td>1.0614473</td>\n",
       "<td>1.0</td>\n",
       "<td>0.9932195</td>\n",
       "<td>1.0</td>\n",
       "<td>0.9932195</td>\n",
       "<td>0.0106245</td>\n",
       "<td>0.0106245</td>\n",
       "<td>6.1447266</td>\n",
       "<td>6.1447266</td></tr>\n",
       "<tr><td></td>\n",
       "<td>2</td>\n",
       "<td>0.0200189</td>\n",
       "<td>0.9920929</td>\n",
       "<td>1.0614473</td>\n",
       "<td>1.0614473</td>\n",
       "<td>1.0</td>\n",
       "<td>0.9923646</td>\n",
       "<td>1.0</td>\n",
       "<td>0.9927920</td>\n",
       "<td>0.0106245</td>\n",
       "<td>0.0212490</td>\n",
       "<td>6.1447266</td>\n",
       "<td>6.1447266</td></tr>\n",
       "<tr><td></td>\n",
       "<td>3</td>\n",
       "<td>0.0300284</td>\n",
       "<td>0.9916816</td>\n",
       "<td>1.0614473</td>\n",
       "<td>1.0614473</td>\n",
       "<td>1.0</td>\n",
       "<td>0.9918772</td>\n",
       "<td>1.0</td>\n",
       "<td>0.9924871</td>\n",
       "<td>0.0106245</td>\n",
       "<td>0.0318735</td>\n",
       "<td>6.1447266</td>\n",
       "<td>6.1447266</td></tr>\n",
       "<tr><td></td>\n",
       "<td>4</td>\n",
       "<td>0.0400073</td>\n",
       "<td>0.9913143</td>\n",
       "<td>1.0614473</td>\n",
       "<td>1.0614473</td>\n",
       "<td>1.0</td>\n",
       "<td>0.9914985</td>\n",
       "<td>1.0</td>\n",
       "<td>0.9922405</td>\n",
       "<td>0.0105921</td>\n",
       "<td>0.0424657</td>\n",
       "<td>6.1447266</td>\n",
       "<td>6.1447266</td></tr>\n",
       "<tr><td></td>\n",
       "<td>5</td>\n",
       "<td>0.0500168</td>\n",
       "<td>0.9909696</td>\n",
       "<td>1.0614473</td>\n",
       "<td>1.0614473</td>\n",
       "<td>1.0</td>\n",
       "<td>0.9911345</td>\n",
       "<td>1.0</td>\n",
       "<td>0.9920192</td>\n",
       "<td>0.0106245</td>\n",
       "<td>0.0530902</td>\n",
       "<td>6.1447266</td>\n",
       "<td>6.1447266</td></tr>\n",
       "<tr><td></td>\n",
       "<td>6</td>\n",
       "<td>0.1000031</td>\n",
       "<td>0.9896208</td>\n",
       "<td>1.0614473</td>\n",
       "<td>1.0614473</td>\n",
       "<td>1.0</td>\n",
       "<td>0.9902772</td>\n",
       "<td>1.0</td>\n",
       "<td>0.9911484</td>\n",
       "<td>0.0530578</td>\n",
       "<td>0.1061480</td>\n",
       "<td>6.1447266</td>\n",
       "<td>6.1447266</td></tr>\n",
       "<tr><td></td>\n",
       "<td>7</td>\n",
       "<td>0.1500198</td>\n",
       "<td>0.9885615</td>\n",
       "<td>1.0614473</td>\n",
       "<td>1.0614473</td>\n",
       "<td>1.0</td>\n",
       "<td>0.9890854</td>\n",
       "<td>1.0</td>\n",
       "<td>0.9904606</td>\n",
       "<td>0.0530902</td>\n",
       "<td>0.1592381</td>\n",
       "<td>6.1447266</td>\n",
       "<td>6.1447266</td></tr>\n",
       "<tr><td></td>\n",
       "<td>8</td>\n",
       "<td>0.2000061</td>\n",
       "<td>0.9874660</td>\n",
       "<td>1.0614473</td>\n",
       "<td>1.0614473</td>\n",
       "<td>1.0</td>\n",
       "<td>0.9880092</td>\n",
       "<td>1.0</td>\n",
       "<td>0.9898480</td>\n",
       "<td>0.0530578</td>\n",
       "<td>0.2122959</td>\n",
       "<td>6.1447266</td>\n",
       "<td>6.1447266</td></tr>\n",
       "<tr><td></td>\n",
       "<td>9</td>\n",
       "<td>0.3000092</td>\n",
       "<td>0.9852118</td>\n",
       "<td>1.0614473</td>\n",
       "<td>1.0614473</td>\n",
       "<td>1.0</td>\n",
       "<td>0.9863699</td>\n",
       "<td>1.0</td>\n",
       "<td>0.9886886</td>\n",
       "<td>0.1061480</td>\n",
       "<td>0.3184439</td>\n",
       "<td>6.1447266</td>\n",
       "<td>6.1447266</td></tr>\n",
       "<tr><td></td>\n",
       "<td>10</td>\n",
       "<td>0.4000427</td>\n",
       "<td>0.9825369</td>\n",
       "<td>1.0614473</td>\n",
       "<td>1.0614473</td>\n",
       "<td>1.0</td>\n",
       "<td>0.9839293</td>\n",
       "<td>1.0</td>\n",
       "<td>0.9874985</td>\n",
       "<td>0.1061804</td>\n",
       "<td>0.4246243</td>\n",
       "<td>6.1447266</td>\n",
       "<td>6.1447266</td></tr>\n",
       "<tr><td></td>\n",
       "<td>11</td>\n",
       "<td>0.5000153</td>\n",
       "<td>0.9792559</td>\n",
       "<td>1.0614473</td>\n",
       "<td>1.0614473</td>\n",
       "<td>1.0</td>\n",
       "<td>0.9809685</td>\n",
       "<td>1.0</td>\n",
       "<td>0.9861929</td>\n",
       "<td>0.1061156</td>\n",
       "<td>0.5307398</td>\n",
       "<td>6.1447266</td>\n",
       "<td>6.1447266</td></tr>\n",
       "<tr><td></td>\n",
       "<td>12</td>\n",
       "<td>0.5999878</td>\n",
       "<td>0.9744800</td>\n",
       "<td>1.0614473</td>\n",
       "<td>1.0614473</td>\n",
       "<td>1.0</td>\n",
       "<td>0.9770358</td>\n",
       "<td>1.0</td>\n",
       "<td>0.9846671</td>\n",
       "<td>0.1061156</td>\n",
       "<td>0.6368554</td>\n",
       "<td>6.1447266</td>\n",
       "<td>6.1447266</td></tr>\n",
       "<tr><td></td>\n",
       "<td>13</td>\n",
       "<td>0.6999908</td>\n",
       "<td>0.9668205</td>\n",
       "<td>1.0614473</td>\n",
       "<td>1.0614473</td>\n",
       "<td>1.0</td>\n",
       "<td>0.9710257</td>\n",
       "<td>1.0</td>\n",
       "<td>0.9827183</td>\n",
       "<td>0.1061480</td>\n",
       "<td>0.7430034</td>\n",
       "<td>6.1447266</td>\n",
       "<td>6.1447266</td></tr>\n",
       "<tr><td></td>\n",
       "<td>14</td>\n",
       "<td>0.7999939</td>\n",
       "<td>0.9519083</td>\n",
       "<td>1.0614473</td>\n",
       "<td>1.0614473</td>\n",
       "<td>1.0</td>\n",
       "<td>0.9603286</td>\n",
       "<td>1.0</td>\n",
       "<td>0.9799194</td>\n",
       "<td>0.1061480</td>\n",
       "<td>0.8491513</td>\n",
       "<td>6.1447266</td>\n",
       "<td>6.1447266</td></tr>\n",
       "<tr><td></td>\n",
       "<td>15</td>\n",
       "<td>0.8999969</td>\n",
       "<td>0.8951039</td>\n",
       "<td>1.0536735</td>\n",
       "<td>1.0605835</td>\n",
       "<td>0.9926762</td>\n",
       "<td>0.9323451</td>\n",
       "<td>0.9991862</td>\n",
       "<td>0.9746332</td>\n",
       "<td>0.1053706</td>\n",
       "<td>0.9545219</td>\n",
       "<td>5.3673469</td>\n",
       "<td>6.0583482</td></tr>\n",
       "<tr><td></td>\n",
       "<td>16</td>\n",
       "<td>1.0</td>\n",
       "<td>0.1379507</td>\n",
       "<td>0.4547672</td>\n",
       "<td>1.0</td>\n",
       "<td>0.4284406</td>\n",
       "<td>0.6482576</td>\n",
       "<td>0.9421099</td>\n",
       "<td>0.9419947</td>\n",
       "<td>0.0454781</td>\n",
       "<td>1.0</td>\n",
       "<td>-54.5232847</td>\n",
       "<td>0.0</td></tr></table></div>"
      ],
      "text/plain": [
       "    group    cumulative_data_fraction    lower_threshold    lift      cumulative_lift    response_rate    score     cumulative_response_rate    cumulative_score    capture_rate    cumulative_capture_rate    gain      cumulative_gain\n",
       "--  -------  --------------------------  -----------------  --------  -----------------  ---------------  --------  --------------------------  ------------------  --------------  -------------------------  --------  -----------------\n",
       "    1        0.0100095                   0.992697           1.06145   1.06145            1                0.99322   1                           0.99322             0.0106245       0.0106245                  6.14473   6.14473\n",
       "    2        0.0200189                   0.992093           1.06145   1.06145            1                0.992365  1                           0.992792            0.0106245       0.021249                   6.14473   6.14473\n",
       "    3        0.0300284                   0.991682           1.06145   1.06145            1                0.991877  1                           0.992487            0.0106245       0.0318735                  6.14473   6.14473\n",
       "    4        0.0400073                   0.991314           1.06145   1.06145            1                0.991498  1                           0.992241            0.0105921       0.0424657                  6.14473   6.14473\n",
       "    5        0.0500168                   0.99097            1.06145   1.06145            1                0.991134  1                           0.992019            0.0106245       0.0530902                  6.14473   6.14473\n",
       "    6        0.100003                    0.989621           1.06145   1.06145            1                0.990277  1                           0.991148            0.0530578       0.106148                   6.14473   6.14473\n",
       "    7        0.15002                     0.988562           1.06145   1.06145            1                0.989085  1                           0.990461            0.0530902       0.159238                   6.14473   6.14473\n",
       "    8        0.200006                    0.987466           1.06145   1.06145            1                0.988009  1                           0.989848            0.0530578       0.212296                   6.14473   6.14473\n",
       "    9        0.300009                    0.985212           1.06145   1.06145            1                0.98637   1                           0.988689            0.106148        0.318444                   6.14473   6.14473\n",
       "    10       0.400043                    0.982537           1.06145   1.06145            1                0.983929  1                           0.987499            0.10618         0.424624                   6.14473   6.14473\n",
       "    11       0.500015                    0.979256           1.06145   1.06145            1                0.980969  1                           0.986193            0.106116        0.53074                    6.14473   6.14473\n",
       "    12       0.599988                    0.97448            1.06145   1.06145            1                0.977036  1                           0.984667            0.106116        0.636855                   6.14473   6.14473\n",
       "    13       0.699991                    0.966821           1.06145   1.06145            1                0.971026  1                           0.982718            0.106148        0.743003                   6.14473   6.14473\n",
       "    14       0.799994                    0.951908           1.06145   1.06145            1                0.960329  1                           0.979919            0.106148        0.849151                   6.14473   6.14473\n",
       "    15       0.899997                    0.895104           1.05367   1.06058            0.992676         0.932345  0.999186                    0.974633            0.105371        0.954522                   5.36735   6.05835\n",
       "    16       1                           0.137951           0.454767  1                  0.428441         0.648258  0.94211                     0.941995            0.0454781       1                          -54.5233  0"
      ]
     },
     "metadata": {},
     "output_type": "display_data"
    },
    {
     "name": "stdout",
     "output_type": "stream",
     "text": [
      "\n",
      "\n",
      "ModelMetricsBinomial: gbm\n",
      "** Reported on cross-validation data. **\n",
      "\n",
      "MSE: 0.04023996000178844\n",
      "RMSE: 0.20059900299300704\n",
      "LogLoss: 0.15207801002606788\n",
      "Mean Per-Class Error: 0.19403915881419942\n",
      "AUC: 0.8670921718981007\n",
      "pr_auc: 0.9843186935851994\n",
      "Gini: 0.7341843437962015\n",
      "Confusion Matrix (Act/Pred) for max f1 @ threshold = 0.7406871831370865: \n"
     ]
    },
    {
     "data": {
      "text/html": [
       "<div style=\"overflow:auto\"><table style=\"width:50%\"><tr><td><b></b></td>\n",
       "<td><b>0</b></td>\n",
       "<td><b>1</b></td>\n",
       "<td><b>Error</b></td>\n",
       "<td><b>Rate</b></td></tr>\n",
       "<tr><td>0</td>\n",
       "<td>772.0</td>\n",
       "<td>1125.0</td>\n",
       "<td>0.593</td>\n",
       "<td> (1125.0/1897.0)</td></tr>\n",
       "<tr><td>1</td>\n",
       "<td>433.0</td>\n",
       "<td>30439.0</td>\n",
       "<td>0.014</td>\n",
       "<td> (433.0/30872.0)</td></tr>\n",
       "<tr><td>Total</td>\n",
       "<td>1205.0</td>\n",
       "<td>31564.0</td>\n",
       "<td>0.0475</td>\n",
       "<td> (1558.0/32769.0)</td></tr></table></div>"
      ],
      "text/plain": [
       "       0     1      Error    Rate\n",
       "-----  ----  -----  -------  ----------------\n",
       "0      772   1125   0.593    (1125.0/1897.0)\n",
       "1      433   30439  0.014    (433.0/30872.0)\n",
       "Total  1205  31564  0.0475   (1558.0/32769.0)"
      ]
     },
     "metadata": {},
     "output_type": "display_data"
    },
    {
     "name": "stdout",
     "output_type": "stream",
     "text": [
      "Maximum Metrics: Maximum metrics at their respective thresholds\n",
      "\n"
     ]
    },
    {
     "data": {
      "text/html": [
       "<div style=\"overflow:auto\"><table style=\"width:50%\"><tr><td><b>metric</b></td>\n",
       "<td><b>threshold</b></td>\n",
       "<td><b>value</b></td>\n",
       "<td><b>idx</b></td></tr>\n",
       "<tr><td>max f1</td>\n",
       "<td>0.7406872</td>\n",
       "<td>0.9750464</td>\n",
       "<td>244.0</td></tr>\n",
       "<tr><td>max f2</td>\n",
       "<td>0.3681466</td>\n",
       "<td>0.9881398</td>\n",
       "<td>367.0</td></tr>\n",
       "<tr><td>max f0point5</td>\n",
       "<td>0.8234520</td>\n",
       "<td>0.9716755</td>\n",
       "<td>202.0</td></tr>\n",
       "<tr><td>max accuracy</td>\n",
       "<td>0.7406872</td>\n",
       "<td>0.9524551</td>\n",
       "<td>244.0</td></tr>\n",
       "<tr><td>max precision</td>\n",
       "<td>0.9940576</td>\n",
       "<td>1.0</td>\n",
       "<td>0.0</td></tr>\n",
       "<tr><td>max recall</td>\n",
       "<td>0.2049989</td>\n",
       "<td>1.0</td>\n",
       "<td>396.0</td></tr>\n",
       "<tr><td>max specificity</td>\n",
       "<td>0.9940576</td>\n",
       "<td>1.0</td>\n",
       "<td>0.0</td></tr>\n",
       "<tr><td>max absolute_mcc</td>\n",
       "<td>0.8234520</td>\n",
       "<td>0.5115912</td>\n",
       "<td>202.0</td></tr>\n",
       "<tr><td>max min_per_class_accuracy</td>\n",
       "<td>0.9570000</td>\n",
       "<td>0.7923036</td>\n",
       "<td>87.0</td></tr>\n",
       "<tr><td>max mean_per_class_accuracy</td>\n",
       "<td>0.9420968</td>\n",
       "<td>0.8059608</td>\n",
       "<td>108.0</td></tr></table></div>"
      ],
      "text/plain": [
       "metric                       threshold    value     idx\n",
       "---------------------------  -----------  --------  -----\n",
       "max f1                       0.740687     0.975046  244\n",
       "max f2                       0.368147     0.98814   367\n",
       "max f0point5                 0.823452     0.971676  202\n",
       "max accuracy                 0.740687     0.952455  244\n",
       "max precision                0.994058     1         0\n",
       "max recall                   0.204999     1         396\n",
       "max specificity              0.994058     1         0\n",
       "max absolute_mcc             0.823452     0.511591  202\n",
       "max min_per_class_accuracy   0.957        0.792304  87\n",
       "max mean_per_class_accuracy  0.942097     0.805961  108"
      ]
     },
     "metadata": {},
     "output_type": "display_data"
    },
    {
     "name": "stdout",
     "output_type": "stream",
     "text": [
      "Gains/Lift Table: Avg response rate: 94.21 %, avg score: 95.06 %\n",
      "\n"
     ]
    },
    {
     "data": {
      "text/html": [
       "<div style=\"overflow:auto\"><table style=\"width:50%\"><tr><td><b></b></td>\n",
       "<td><b>group</b></td>\n",
       "<td><b>cumulative_data_fraction</b></td>\n",
       "<td><b>lower_threshold</b></td>\n",
       "<td><b>lift</b></td>\n",
       "<td><b>cumulative_lift</b></td>\n",
       "<td><b>response_rate</b></td>\n",
       "<td><b>score</b></td>\n",
       "<td><b>cumulative_response_rate</b></td>\n",
       "<td><b>cumulative_score</b></td>\n",
       "<td><b>capture_rate</b></td>\n",
       "<td><b>cumulative_capture_rate</b></td>\n",
       "<td><b>gain</b></td>\n",
       "<td><b>cumulative_gain</b></td></tr>\n",
       "<tr><td></td>\n",
       "<td>1</td>\n",
       "<td>0.0100095</td>\n",
       "<td>0.9926754</td>\n",
       "<td>1.0549750</td>\n",
       "<td>1.0549750</td>\n",
       "<td>0.9939024</td>\n",
       "<td>0.9933397</td>\n",
       "<td>0.9939024</td>\n",
       "<td>0.9933397</td>\n",
       "<td>0.0105597</td>\n",
       "<td>0.0105597</td>\n",
       "<td>5.4975027</td>\n",
       "<td>5.4975027</td></tr>\n",
       "<tr><td></td>\n",
       "<td>2</td>\n",
       "<td>0.0200189</td>\n",
       "<td>0.9920076</td>\n",
       "<td>1.0582111</td>\n",
       "<td>1.0565931</td>\n",
       "<td>0.9969512</td>\n",
       "<td>0.9923157</td>\n",
       "<td>0.9954268</td>\n",
       "<td>0.9928277</td>\n",
       "<td>0.0105921</td>\n",
       "<td>0.0211519</td>\n",
       "<td>5.8211146</td>\n",
       "<td>5.6593087</td></tr>\n",
       "<tr><td></td>\n",
       "<td>3</td>\n",
       "<td>0.0300284</td>\n",
       "<td>0.9915036</td>\n",
       "<td>1.0517389</td>\n",
       "<td>1.0549750</td>\n",
       "<td>0.9908537</td>\n",
       "<td>0.9917372</td>\n",
       "<td>0.9939024</td>\n",
       "<td>0.9924642</td>\n",
       "<td>0.0105273</td>\n",
       "<td>0.0316792</td>\n",
       "<td>5.1738907</td>\n",
       "<td>5.4975027</td></tr>\n",
       "<tr><td></td>\n",
       "<td>4</td>\n",
       "<td>0.0400073</td>\n",
       "<td>0.9910992</td>\n",
       "<td>1.0549552</td>\n",
       "<td>1.0549701</td>\n",
       "<td>0.9938838</td>\n",
       "<td>0.9912951</td>\n",
       "<td>0.9938978</td>\n",
       "<td>0.9921726</td>\n",
       "<td>0.0105273</td>\n",
       "<td>0.0422065</td>\n",
       "<td>5.4955234</td>\n",
       "<td>5.4970090</td></tr>\n",
       "<tr><td></td>\n",
       "<td>5</td>\n",
       "<td>0.0500168</td>\n",
       "<td>0.9907497</td>\n",
       "<td>1.0549750</td>\n",
       "<td>1.0549711</td>\n",
       "<td>0.9939024</td>\n",
       "<td>0.9909167</td>\n",
       "<td>0.9938987</td>\n",
       "<td>0.9919213</td>\n",
       "<td>0.0105597</td>\n",
       "<td>0.0527663</td>\n",
       "<td>5.4975027</td>\n",
       "<td>5.4971078</td></tr>\n",
       "<tr><td></td>\n",
       "<td>6</td>\n",
       "<td>0.1000031</td>\n",
       "<td>0.9893156</td>\n",
       "<td>1.0523751</td>\n",
       "<td>1.0536735</td>\n",
       "<td>0.9914530</td>\n",
       "<td>0.9899890</td>\n",
       "<td>0.9926762</td>\n",
       "<td>0.9909554</td>\n",
       "<td>0.0526043</td>\n",
       "<td>0.1053706</td>\n",
       "<td>5.2375067</td>\n",
       "<td>5.3673469</td></tr>\n",
       "<tr><td></td>\n",
       "<td>7</td>\n",
       "<td>0.1500504</td>\n",
       "<td>0.9880928</td>\n",
       "<td>1.0465611</td>\n",
       "<td>1.0513012</td>\n",
       "<td>0.9859756</td>\n",
       "<td>0.9887002</td>\n",
       "<td>0.9904413</td>\n",
       "<td>0.9902032</td>\n",
       "<td>0.0523776</td>\n",
       "<td>0.1577481</td>\n",
       "<td>4.6561115</td>\n",
       "<td>5.1301238</td></tr>\n",
       "<tr><td></td>\n",
       "<td>8</td>\n",
       "<td>0.2000061</td>\n",
       "<td>0.9868939</td>\n",
       "<td>1.0517211</td>\n",
       "<td>1.0514061</td>\n",
       "<td>0.9908369</td>\n",
       "<td>0.9874942</td>\n",
       "<td>0.9905401</td>\n",
       "<td>0.9895266</td>\n",
       "<td>0.0525395</td>\n",
       "<td>0.2102876</td>\n",
       "<td>5.1721115</td>\n",
       "<td>5.1406111</td></tr>\n",
       "<tr><td></td>\n",
       "<td>9</td>\n",
       "<td>0.3000092</td>\n",
       "<td>0.9844305</td>\n",
       "<td>1.0501105</td>\n",
       "<td>1.0509742</td>\n",
       "<td>0.9893195</td>\n",
       "<td>0.9856778</td>\n",
       "<td>0.9901333</td>\n",
       "<td>0.9882437</td>\n",
       "<td>0.1050143</td>\n",
       "<td>0.3153019</td>\n",
       "<td>5.0110478</td>\n",
       "<td>5.0974233</td></tr>\n",
       "<tr><td></td>\n",
       "<td>10</td>\n",
       "<td>0.4000122</td>\n",
       "<td>0.9815808</td>\n",
       "<td>1.0458997</td>\n",
       "<td>1.0497056</td>\n",
       "<td>0.9853525</td>\n",
       "<td>0.9830536</td>\n",
       "<td>0.9889381</td>\n",
       "<td>0.9869462</td>\n",
       "<td>0.1045932</td>\n",
       "<td>0.4198951</td>\n",
       "<td>4.5899671</td>\n",
       "<td>4.9705593</td></tr>\n",
       "<tr><td></td>\n",
       "<td>11</td>\n",
       "<td>0.5000153</td>\n",
       "<td>0.9778731</td>\n",
       "<td>1.0462236</td>\n",
       "<td>1.0490092</td>\n",
       "<td>0.9856576</td>\n",
       "<td>0.9798151</td>\n",
       "<td>0.9882820</td>\n",
       "<td>0.9855199</td>\n",
       "<td>0.1046256</td>\n",
       "<td>0.5245206</td>\n",
       "<td>4.6223579</td>\n",
       "<td>4.9009190</td></tr>\n",
       "<tr><td></td>\n",
       "<td>12</td>\n",
       "<td>0.5999878</td>\n",
       "<td>0.9728029</td>\n",
       "<td>1.0413588</td>\n",
       "<td>1.0477345</td>\n",
       "<td>0.9810745</td>\n",
       "<td>0.9755245</td>\n",
       "<td>0.9870810</td>\n",
       "<td>0.9838545</td>\n",
       "<td>0.1041073</td>\n",
       "<td>0.6286279</td>\n",
       "<td>4.1358826</td>\n",
       "<td>4.7734454</td></tr>\n",
       "<tr><td></td>\n",
       "<td>13</td>\n",
       "<td>0.6999908</td>\n",
       "<td>0.9647235</td>\n",
       "<td>1.0374781</td>\n",
       "<td>1.0462692</td>\n",
       "<td>0.9774184</td>\n",
       "<td>0.9690247</td>\n",
       "<td>0.9857006</td>\n",
       "<td>0.9817358</td>\n",
       "<td>0.1037510</td>\n",
       "<td>0.7323789</td>\n",
       "<td>3.7478057</td>\n",
       "<td>4.6269190</td></tr>\n",
       "<tr><td></td>\n",
       "<td>14</td>\n",
       "<td>0.7999939</td>\n",
       "<td>0.9490984</td>\n",
       "<td>1.0264652</td>\n",
       "<td>1.0437936</td>\n",
       "<td>0.9670430</td>\n",
       "<td>0.9579183</td>\n",
       "<td>0.9833683</td>\n",
       "<td>0.9787585</td>\n",
       "<td>0.1026497</td>\n",
       "<td>0.8350285</td>\n",
       "<td>2.6465177</td>\n",
       "<td>4.3793594</td></tr>\n",
       "<tr><td></td>\n",
       "<td>15</td>\n",
       "<td>0.8999969</td>\n",
       "<td>0.9016073</td>\n",
       "<td>0.9888918</td>\n",
       "<td>1.0376932</td>\n",
       "<td>0.9316448</td>\n",
       "<td>0.9309279</td>\n",
       "<td>0.9776210</td>\n",
       "<td>0.9734438</td>\n",
       "<td>0.0988922</td>\n",
       "<td>0.9339207</td>\n",
       "<td>-1.1108177</td>\n",
       "<td>3.7693191</td></tr>\n",
       "<tr><td></td>\n",
       "<td>16</td>\n",
       "<td>1.0</td>\n",
       "<td>0.1798471</td>\n",
       "<td>0.6607728</td>\n",
       "<td>1.0</td>\n",
       "<td>0.6225206</td>\n",
       "<td>0.7450479</td>\n",
       "<td>0.9421099</td>\n",
       "<td>0.9506035</td>\n",
       "<td>0.0660793</td>\n",
       "<td>1.0</td>\n",
       "<td>-33.9227213</td>\n",
       "<td>0.0</td></tr></table></div>"
      ],
      "text/plain": [
       "    group    cumulative_data_fraction    lower_threshold    lift      cumulative_lift    response_rate    score     cumulative_response_rate    cumulative_score    capture_rate    cumulative_capture_rate    gain      cumulative_gain\n",
       "--  -------  --------------------------  -----------------  --------  -----------------  ---------------  --------  --------------------------  ------------------  --------------  -------------------------  --------  -----------------\n",
       "    1        0.0100095                   0.992675           1.05498   1.05498            0.993902         0.99334   0.993902                    0.99334             0.0105597       0.0105597                  5.4975    5.4975\n",
       "    2        0.0200189                   0.992008           1.05821   1.05659            0.996951         0.992316  0.995427                    0.992828            0.0105921       0.0211519                  5.82111   5.65931\n",
       "    3        0.0300284                   0.991504           1.05174   1.05498            0.990854         0.991737  0.993902                    0.992464            0.0105273       0.0316792                  5.17389   5.4975\n",
       "    4        0.0400073                   0.991099           1.05496   1.05497            0.993884         0.991295  0.993898                    0.992173            0.0105273       0.0422065                  5.49552   5.49701\n",
       "    5        0.0500168                   0.99075            1.05498   1.05497            0.993902         0.990917  0.993899                    0.991921            0.0105597       0.0527663                  5.4975    5.49711\n",
       "    6        0.100003                    0.989316           1.05238   1.05367            0.991453         0.989989  0.992676                    0.990955            0.0526043       0.105371                   5.23751   5.36735\n",
       "    7        0.15005                     0.988093           1.04656   1.0513             0.985976         0.9887    0.990441                    0.990203            0.0523776       0.157748                   4.65611   5.13012\n",
       "    8        0.200006                    0.986894           1.05172   1.05141            0.990837         0.987494  0.99054                     0.989527            0.0525395       0.210288                   5.17211   5.14061\n",
       "    9        0.300009                    0.98443            1.05011   1.05097            0.989319         0.985678  0.990133                    0.988244            0.105014        0.315302                   5.01105   5.09742\n",
       "    10       0.400012                    0.981581           1.0459    1.04971            0.985352         0.983054  0.988938                    0.986946            0.104593        0.419895                   4.58997   4.97056\n",
       "    11       0.500015                    0.977873           1.04622   1.04901            0.985658         0.979815  0.988282                    0.98552             0.104626        0.524521                   4.62236   4.90092\n",
       "    12       0.599988                    0.972803           1.04136   1.04773            0.981074         0.975524  0.987081                    0.983854            0.104107        0.628628                   4.13588   4.77345\n",
       "    13       0.699991                    0.964724           1.03748   1.04627            0.977418         0.969025  0.985701                    0.981736            0.103751        0.732379                   3.74781   4.62692\n",
       "    14       0.799994                    0.949098           1.02647   1.04379            0.967043         0.957918  0.983368                    0.978759            0.10265         0.835029                   2.64652   4.37936\n",
       "    15       0.899997                    0.901607           0.988892  1.03769            0.931645         0.930928  0.977621                    0.973444            0.0988922       0.933921                   -1.11082  3.76932\n",
       "    16       1                           0.179847           0.660773  1                  0.622521         0.745048  0.94211                     0.950604            0.0660793       1                          -33.9227  0"
      ]
     },
     "metadata": {},
     "output_type": "display_data"
    },
    {
     "name": "stdout",
     "output_type": "stream",
     "text": [
      "\n",
      "Cross-Validation Metrics Summary: \n"
     ]
    },
    {
     "data": {
      "text/html": [
       "<div style=\"overflow:auto\"><table style=\"width:50%\"><tr><td><b></b></td>\n",
       "<td><b>mean</b></td>\n",
       "<td><b>sd</b></td>\n",
       "<td><b>cv_1_valid</b></td>\n",
       "<td><b>cv_2_valid</b></td>\n",
       "<td><b>cv_3_valid</b></td>\n",
       "<td><b>cv_4_valid</b></td>\n",
       "<td><b>cv_5_valid</b></td></tr>\n",
       "<tr><td>accuracy</td>\n",
       "<td>0.9529738</td>\n",
       "<td>0.0015614</td>\n",
       "<td>0.9491913</td>\n",
       "<td>0.9542264</td>\n",
       "<td>0.9534636</td>\n",
       "<td>0.9557522</td>\n",
       "<td>0.9522356</td></tr>\n",
       "<tr><td>auc</td>\n",
       "<td>0.8675329</td>\n",
       "<td>0.0068944</td>\n",
       "<td>0.8667672</td>\n",
       "<td>0.863223</td>\n",
       "<td>0.8559936</td>\n",
       "<td>0.8854575</td>\n",
       "<td>0.8662230</td></tr>\n",
       "<tr><td>err</td>\n",
       "<td>0.0470262</td>\n",
       "<td>0.0015614</td>\n",
       "<td>0.0508087</td>\n",
       "<td>0.0457736</td>\n",
       "<td>0.0465365</td>\n",
       "<td>0.0442478</td>\n",
       "<td>0.0477644</td></tr>\n",
       "<tr><td>err_count</td>\n",
       "<td>308.2</td>\n",
       "<td>10.231324</td>\n",
       "<td>333.0</td>\n",
       "<td>300.0</td>\n",
       "<td>305.0</td>\n",
       "<td>290.0</td>\n",
       "<td>313.0</td></tr>\n",
       "<tr><td>f0point5</td>\n",
       "<td>0.9673842</td>\n",
       "<td>0.0012514</td>\n",
       "<td>0.9650996</td>\n",
       "<td>0.9684792</td>\n",
       "<td>0.9689664</td>\n",
       "<td>0.9690130</td>\n",
       "<td>0.9653629</td></tr>\n",
       "<tr><td>f1</td>\n",
       "<td>0.9753823</td>\n",
       "<td>0.0008715</td>\n",
       "<td>0.9732423</td>\n",
       "<td>0.9760077</td>\n",
       "<td>0.9756136</td>\n",
       "<td>0.9769585</td>\n",
       "<td>0.9750895</td></tr>\n",
       "<tr><td>f2</td>\n",
       "<td>0.983516</td>\n",
       "<td>0.0009948</td>\n",
       "<td>0.9815235</td>\n",
       "<td>0.9836541</td>\n",
       "<td>0.9823527</td>\n",
       "<td>0.9850354</td>\n",
       "<td>0.9850141</td></tr>\n",
       "<tr><td>lift_top_group</td>\n",
       "<td>1.0614623</td>\n",
       "<td>0.0028278</td>\n",
       "<td>1.0682967</td>\n",
       "<td>1.0620645</td>\n",
       "<td>1.0601747</td>\n",
       "<td>1.0559046</td>\n",
       "<td>1.060871</td></tr>\n",
       "<tr><td>logloss</td>\n",
       "<td>0.152078</td>\n",
       "<td>0.0066021</td>\n",
       "<td>0.1655453</td>\n",
       "<td>0.1537165</td>\n",
       "<td>0.1528813</td>\n",
       "<td>0.1362296</td>\n",
       "<td>0.1520174</td></tr>\n",
       "<tr><td>max_per_class_error</td>\n",
       "<td>0.6348007</td>\n",
       "<td>0.0277249</td>\n",
       "<td>0.6062052</td>\n",
       "<td>0.6031331</td>\n",
       "<td>0.6021506</td>\n",
       "<td>0.6657060</td>\n",
       "<td>0.6968085</td></tr>\n",
       "<tr><td>mcc</td>\n",
       "<td>0.4734282</td>\n",
       "<td>0.0173728</td>\n",
       "<td>0.4921936</td>\n",
       "<td>0.5011983</td>\n",
       "<td>0.4848005</td>\n",
       "<td>0.4511397</td>\n",
       "<td>0.4378090</td></tr>\n",
       "<tr><td>mean_per_class_accuracy</td>\n",
       "<td>0.6771074</td>\n",
       "<td>0.0132435</td>\n",
       "<td>0.6904589</td>\n",
       "<td>0.6928428</td>\n",
       "<td>0.6923734</td>\n",
       "<td>0.6623943</td>\n",
       "<td>0.6474676</td></tr>\n",
       "<tr><td>mean_per_class_error</td>\n",
       "<td>0.3228926</td>\n",
       "<td>0.0132435</td>\n",
       "<td>0.3095411</td>\n",
       "<td>0.3071572</td>\n",
       "<td>0.3076265</td>\n",
       "<td>0.3376057</td>\n",
       "<td>0.3525325</td></tr>\n",
       "<tr><td>mse</td>\n",
       "<td>0.0402400</td>\n",
       "<td>0.0019348</td>\n",
       "<td>0.0445859</td>\n",
       "<td>0.0405785</td>\n",
       "<td>0.0399687</td>\n",
       "<td>0.0359571</td>\n",
       "<td>0.0401096</td></tr>\n",
       "<tr><td>precision</td>\n",
       "<td>0.9621258</td>\n",
       "<td>0.0016213</td>\n",
       "<td>0.9597464</td>\n",
       "<td>0.9635244</td>\n",
       "<td>0.964585</td>\n",
       "<td>0.9637874</td>\n",
       "<td>0.9589856</td></tr>\n",
       "<tr><td>r2</td>\n",
       "<td>0.2624432</td>\n",
       "<td>0.0075585</td>\n",
       "<td>0.2549564</td>\n",
       "<td>0.2625127</td>\n",
       "<td>0.2534456</td>\n",
       "<td>0.2828893</td>\n",
       "<td>0.2584119</td></tr>\n",
       "<tr><td>recall</td>\n",
       "<td>0.9890155</td>\n",
       "<td>0.0013318</td>\n",
       "<td>0.9871231</td>\n",
       "<td>0.9888187</td>\n",
       "<td>0.9868975</td>\n",
       "<td>0.9904946</td>\n",
       "<td>0.9917436</td></tr>\n",
       "<tr><td>rmse</td>\n",
       "<td>0.2004828</td>\n",
       "<td>0.0048277</td>\n",
       "<td>0.2111537</td>\n",
       "<td>0.2014411</td>\n",
       "<td>0.1999219</td>\n",
       "<td>0.1896236</td>\n",
       "<td>0.2002737</td></tr>\n",
       "<tr><td>specificity</td>\n",
       "<td>0.3651993</td>\n",
       "<td>0.0277249</td>\n",
       "<td>0.3937948</td>\n",
       "<td>0.3968668</td>\n",
       "<td>0.3978495</td>\n",
       "<td>0.3342940</td>\n",
       "<td>0.3031915</td></tr></table></div>"
      ],
      "text/plain": [
       "                         mean       sd           cv_1_valid    cv_2_valid    cv_3_valid    cv_4_valid    cv_5_valid\n",
       "-----------------------  ---------  -----------  ------------  ------------  ------------  ------------  ------------\n",
       "accuracy                 0.952974   0.00156142   0.949191      0.954226      0.953464      0.955752      0.952236\n",
       "auc                      0.867533   0.00689436   0.866767      0.863223      0.855994      0.885457      0.866223\n",
       "err                      0.0470262  0.00156142   0.0508087     0.0457736     0.0465365     0.0442478     0.0477644\n",
       "err_count                308.2      10.2313      333           300           305           290           313\n",
       "f0point5                 0.967384   0.00125141   0.9651        0.968479      0.968966      0.969013      0.965363\n",
       "f1                       0.975382   0.000871468  0.973242      0.976008      0.975614      0.976958      0.97509\n",
       "f2                       0.983516   0.000994753  0.981523      0.983654      0.982353      0.985035      0.985014\n",
       "lift_top_group           1.06146    0.00282783   1.0683        1.06206       1.06017       1.0559        1.06087\n",
       "logloss                  0.152078   0.00660206   0.165545      0.153717      0.152881      0.13623       0.152017\n",
       "max_per_class_error      0.634801   0.0277249    0.606205      0.603133      0.602151      0.665706      0.696809\n",
       "mcc                      0.473428   0.0173728    0.492194      0.501198      0.484801      0.45114       0.437809\n",
       "mean_per_class_accuracy  0.677107   0.0132435    0.690459      0.692843      0.692373      0.662394      0.647468\n",
       "mean_per_class_error     0.322893   0.0132435    0.309541      0.307157      0.307627      0.337606      0.352532\n",
       "mse                      0.04024    0.00193482   0.0445859     0.0405785     0.0399687     0.0359571     0.0401096\n",
       "precision                0.962126   0.00162132   0.959746      0.963524      0.964585      0.963787      0.958986\n",
       "r2                       0.262443   0.0075585    0.254956      0.262513      0.253446      0.282889      0.258412\n",
       "recall                   0.989015   0.00133178   0.987123      0.988819      0.986897      0.990495      0.991744\n",
       "rmse                     0.200483   0.00482771   0.211154      0.201441      0.199922      0.189624      0.200274\n",
       "specificity              0.365199   0.0277249    0.393795      0.396867      0.397849      0.334294      0.303191"
      ]
     },
     "metadata": {},
     "output_type": "display_data"
    },
    {
     "name": "stdout",
     "output_type": "stream",
     "text": [
      "Scoring History: \n"
     ]
    },
    {
     "data": {
      "text/html": [
       "<div style=\"overflow:auto\"><table style=\"width:50%\"><tr><td><b></b></td>\n",
       "<td><b>timestamp</b></td>\n",
       "<td><b>duration</b></td>\n",
       "<td><b>number_of_trees</b></td>\n",
       "<td><b>training_rmse</b></td>\n",
       "<td><b>training_logloss</b></td>\n",
       "<td><b>training_auc</b></td>\n",
       "<td><b>training_pr_auc</b></td>\n",
       "<td><b>training_lift</b></td>\n",
       "<td><b>training_classification_error</b></td></tr>\n",
       "<tr><td></td>\n",
       "<td>2019-04-18 13:06:26</td>\n",
       "<td> 1 min 17.471 sec</td>\n",
       "<td>0.0</td>\n",
       "<td>0.2335355</td>\n",
       "<td>0.2211221</td>\n",
       "<td>0.5</td>\n",
       "<td>0.0</td>\n",
       "<td>1.0</td>\n",
       "<td>0.0578901</td></tr>\n",
       "<tr><td></td>\n",
       "<td>2019-04-18 13:06:26</td>\n",
       "<td> 1 min 17.706 sec</td>\n",
       "<td>5.0</td>\n",
       "<td>0.2307493</td>\n",
       "<td>0.2104724</td>\n",
       "<td>0.9624352</td>\n",
       "<td>0.9121880</td>\n",
       "<td>1.0614473</td>\n",
       "<td>0.0415026</td></tr>\n",
       "<tr><td></td>\n",
       "<td>2019-04-18 13:06:27</td>\n",
       "<td> 1 min 17.971 sec</td>\n",
       "<td>10.0</td>\n",
       "<td>0.2282909</td>\n",
       "<td>0.2025158</td>\n",
       "<td>0.9732929</td>\n",
       "<td>0.9826041</td>\n",
       "<td>1.0614473</td>\n",
       "<td>0.0381458</td></tr>\n",
       "<tr><td></td>\n",
       "<td>2019-04-18 13:06:27</td>\n",
       "<td> 1 min 18.190 sec</td>\n",
       "<td>15.0</td>\n",
       "<td>0.2262511</td>\n",
       "<td>0.1967308</td>\n",
       "<td>0.9708708</td>\n",
       "<td>0.9947359</td>\n",
       "<td>1.0614473</td>\n",
       "<td>0.0385120</td></tr>\n",
       "<tr><td></td>\n",
       "<td>2019-04-18 13:06:27</td>\n",
       "<td> 1 min 18.440 sec</td>\n",
       "<td>20.0</td>\n",
       "<td>0.2235849</td>\n",
       "<td>0.1898370</td>\n",
       "<td>0.9735035</td>\n",
       "<td>0.9964851</td>\n",
       "<td>1.0614473</td>\n",
       "<td>0.0376881</td></tr>\n",
       "<tr><td>---</td>\n",
       "<td>---</td>\n",
       "<td>---</td>\n",
       "<td>---</td>\n",
       "<td>---</td>\n",
       "<td>---</td>\n",
       "<td>---</td>\n",
       "<td>---</td>\n",
       "<td>---</td>\n",
       "<td>---</td></tr>\n",
       "<tr><td></td>\n",
       "<td>2019-04-18 13:06:38</td>\n",
       "<td> 1 min 29.337 sec</td>\n",
       "<td>235.0</td>\n",
       "<td>0.1482957</td>\n",
       "<td>0.0853040</td>\n",
       "<td>0.9956264</td>\n",
       "<td>0.9969129</td>\n",
       "<td>1.0614473</td>\n",
       "<td>0.0168147</td></tr>\n",
       "<tr><td></td>\n",
       "<td>2019-04-18 13:06:38</td>\n",
       "<td> 1 min 29.603 sec</td>\n",
       "<td>240.0</td>\n",
       "<td>0.1471853</td>\n",
       "<td>0.0842346</td>\n",
       "<td>0.9957301</td>\n",
       "<td>0.9982797</td>\n",
       "<td>1.0614473</td>\n",
       "<td>0.0164790</td></tr>\n",
       "<tr><td></td>\n",
       "<td>2019-04-18 13:06:39</td>\n",
       "<td> 1 min 29.875 sec</td>\n",
       "<td>245.0</td>\n",
       "<td>0.1460697</td>\n",
       "<td>0.0831650</td>\n",
       "<td>0.9958457</td>\n",
       "<td>0.9977362</td>\n",
       "<td>1.0614473</td>\n",
       "<td>0.0163569</td></tr>\n",
       "<tr><td></td>\n",
       "<td>2019-04-18 13:06:39</td>\n",
       "<td> 1 min 30.125 sec</td>\n",
       "<td>250.0</td>\n",
       "<td>0.1450561</td>\n",
       "<td>0.0821668</td>\n",
       "<td>0.9958806</td>\n",
       "<td>0.9975440</td>\n",
       "<td>1.0614473</td>\n",
       "<td>0.0162959</td></tr>\n",
       "<tr><td></td>\n",
       "<td>2019-04-18 13:06:39</td>\n",
       "<td> 1 min 30.250 sec</td>\n",
       "<td>252.0</td>\n",
       "<td>0.1445614</td>\n",
       "<td>0.0816682</td>\n",
       "<td>0.9959056</td>\n",
       "<td>0.9973188</td>\n",
       "<td>1.0614473</td>\n",
       "<td>0.0163569</td></tr></table></div>"
      ],
      "text/plain": [
       "     timestamp            duration          number_of_trees    training_rmse        training_logloss     training_auc        training_pr_auc     training_lift      training_classification_error\n",
       "---  -------------------  ----------------  -----------------  -------------------  -------------------  ------------------  ------------------  -----------------  -------------------------------\n",
       "     2019-04-18 13:06:26  1 min 17.471 sec  0.0                0.23353547436541006  0.22112209355473675  0.5                 0.0                 1.0                0.05789007903811529\n",
       "     2019-04-18 13:06:26  1 min 17.706 sec  5.0                0.23074929540939526  0.21047236016233817  0.9624352146697716  0.9121880203985198  1.061447266131122  0.04150263968995087\n",
       "     2019-04-18 13:06:27  1 min 17.971 sec  10.0               0.2282909323425574   0.20251579428924782  0.9732929344665675  0.9826041186786035  1.061447266131122  0.038145808538557785\n",
       "     2019-04-18 13:06:27  1 min 18.190 sec  15.0               0.22625111318527513  0.19673076635791403  0.9708707799975493  0.9947359450614146  1.061447266131122  0.038512008300527936\n",
       "     2019-04-18 13:06:27  1 min 18.440 sec  20.0               0.2235849195456021   0.18983704282989122  0.973503549541474   0.9964850658183074  1.061447266131122  0.03768805883609509\n",
       "---  ---                  ---               ---                ---                  ---                  ---                 ---                 ---                ---\n",
       "     2019-04-18 13:06:38  1 min 29.337 sec  235.0              0.14829569055269537  0.08530404775889543  0.995626413918787   0.9969129010439232  1.061447266131122  0.01681467240379627\n",
       "     2019-04-18 13:06:38  1 min 29.603 sec  240.0              0.14718534732947613  0.08423459056792945  0.9957300694226354  0.9982797399794895  1.061447266131122  0.016478989288656962\n",
       "     2019-04-18 13:06:39  1 min 29.875 sec  245.0              0.1460697358493253   0.08316500783478778  0.9958456520114752  0.997736204883329   1.061447266131122  0.016356922701333577\n",
       "     2019-04-18 13:06:39  1 min 30.125 sec  250.0              0.14505607580077923  0.08216676413778537  0.9958806307281597  0.997543983237488   1.061447266131122  0.016295889407671887\n",
       "     2019-04-18 13:06:39  1 min 30.250 sec  252.0              0.14456144332940163  0.08166822239808458  0.9959055521033129  0.9973188350179899  1.061447266131122  0.016356922701333577"
      ]
     },
     "metadata": {},
     "output_type": "display_data"
    },
    {
     "name": "stdout",
     "output_type": "stream",
     "text": [
      "\n",
      "See the whole table with table.as_data_frame()\n",
      "Variable Importances: \n"
     ]
    },
    {
     "data": {
      "text/html": [
       "<div style=\"overflow:auto\"><table style=\"width:50%\"><tr><td><b>variable</b></td>\n",
       "<td><b>relative_importance</b></td>\n",
       "<td><b>scaled_importance</b></td>\n",
       "<td><b>percentage</b></td></tr>\n",
       "<tr><td>MGR_ID</td>\n",
       "<td>9084.5351562</td>\n",
       "<td>1.0</td>\n",
       "<td>0.2468362</td></tr>\n",
       "<tr><td>RESOURCE</td>\n",
       "<td>6941.0834961</td>\n",
       "<td>0.7640549</td>\n",
       "<td>0.1885964</td></tr>\n",
       "<tr><td>ROLE_FAMILY_DESC</td>\n",
       "<td>5498.6826172</td>\n",
       "<td>0.6052795</td>\n",
       "<td>0.1494049</td></tr>\n",
       "<tr><td>ROLE_DEPTNAME</td>\n",
       "<td>4547.2573242</td>\n",
       "<td>0.5005493</td>\n",
       "<td>0.1235537</td></tr>\n",
       "<tr><td>ROLE_ROLLUP_2</td>\n",
       "<td>2876.4724121</td>\n",
       "<td>0.3166340</td>\n",
       "<td>0.0781567</td></tr>\n",
       "<tr><td>ROLE_TITLE</td>\n",
       "<td>2615.2917480</td>\n",
       "<td>0.2878839</td>\n",
       "<td>0.0710602</td></tr>\n",
       "<tr><td>ROLE_CODE</td>\n",
       "<td>2528.9309082</td>\n",
       "<td>0.2783776</td>\n",
       "<td>0.0687137</td></tr>\n",
       "<tr><td>ROLE_ROLLUP_1</td>\n",
       "<td>1393.8673096</td>\n",
       "<td>0.1534330</td>\n",
       "<td>0.0378728</td></tr>\n",
       "<tr><td>ROLE_FAMILY</td>\n",
       "<td>1317.7751465</td>\n",
       "<td>0.1450570</td>\n",
       "<td>0.0358053</td></tr></table></div>"
      ],
      "text/plain": [
       "variable          relative_importance    scaled_importance    percentage\n",
       "----------------  ---------------------  -------------------  ------------\n",
       "MGR_ID            9084.54                1                    0.246836\n",
       "RESOURCE          6941.08                0.764055             0.188596\n",
       "ROLE_FAMILY_DESC  5498.68                0.605279             0.149405\n",
       "ROLE_DEPTNAME     4547.26                0.500549             0.123554\n",
       "ROLE_ROLLUP_2     2876.47                0.316634             0.0781567\n",
       "ROLE_TITLE        2615.29                0.287884             0.0710602\n",
       "ROLE_CODE         2528.93                0.278378             0.0687137\n",
       "ROLE_ROLLUP_1     1393.87                0.153433             0.0378728\n",
       "ROLE_FAMILY       1317.78                0.145057             0.0358053"
      ]
     },
     "metadata": {},
     "output_type": "display_data"
    },
    {
     "name": "stdout",
     "output_type": "stream",
     "text": [
      "<bound method ModelBase.coef_norm of >\n"
     ]
    }
   ],
   "source": [
    "# generating normalized coeff.\n",
    "mods=mod_best.coef_norm\n",
    "print(mods)\n"
   ]
  },
  {
   "cell_type": "markdown",
   "metadata": {},
   "source": [
    "## Generating and storing Hyperparameters of each model into JSON"
   ]
  },
  {
   "cell_type": "code",
   "execution_count": 101,
   "metadata": {},
   "outputs": [
    {
     "data": {
      "text/plain": [
       "pandas.core.series.Series"
      ]
     },
     "execution_count": 101,
     "metadata": {},
     "output_type": "execute_result"
    }
   ],
   "source": [
    "model_set=aml_leaderboard_df['model_id']\n",
    "type(model_set)"
   ]
  },
  {
   "cell_type": "code",
   "execution_count": 102,
   "metadata": {},
   "outputs": [],
   "source": [
    "jsonDicts = []\n",
    "for m in model_set.iteritems():\n",
    "    m,model_name = m\n",
    "    mod_best = h2o.get_model(model_name)\n",
    "    jsonDicts.append(mod_best.params)"
   ]
  },
  {
   "cell_type": "code",
   "execution_count": 103,
   "metadata": {
    "scrolled": true
   },
   "outputs": [
    {
     "name": "stdout",
     "output_type": "stream",
     "text": [
      "[{'model_id': {'default': None, 'actual': {'__meta': {'schema_version': 3, 'schema_name': 'ModelKeyV3', 'schema_type': 'Key<Model>'}, 'name': 'GBM_grid_1_AutoML_20190418_130009_model_1', 'type': 'Key<Model>', 'URL': '/3/Models/GBM_grid_1_AutoML_20190418_130009_model_1'}}, 'training_frame': {'default': None, 'actual': {'__meta': {'schema_version': 3, 'schema_name': 'FrameKeyV3', 'schema_type': 'Key<Frame>'}, 'name': 'automl_training_py_13_sid_a596', 'type': 'Key<Frame>', 'URL': '/3/Frames/automl_training_py_13_sid_a596'}}, 'validation_frame': {'default': None, 'actual': None}, 'nfolds': {'default': 0, 'actual': 5}, 'keep_cross_validation_models': {'default': True, 'actual': False}, 'keep_cross_validation_predictions': {'default': False, 'actual': True}, 'keep_cross_validation_fold_assignment': {'default': False, 'actual': False}, 'score_each_iteration': {'default': False, 'actual': False}, 'score_tree_interval': {'default': 0, 'actual': 5}, 'fold_assignment': {'default': 'AUTO', 'actual': 'Modulo'}, 'fold_column': {'default': None, 'actual': None}, 'response_column': {'default': None, 'actual': {'__meta': {'schema_version': 3, 'schema_name': 'ColSpecifierV3', 'schema_type': 'VecSpecifier'}, 'column_name': 'ACTION', 'is_member_of_frames': None}}, 'ignored_columns': {'default': None, 'actual': []}, 'ignore_const_cols': {'default': True, 'actual': True}, 'offset_column': {'default': None, 'actual': None}, 'weights_column': {'default': None, 'actual': None}, 'balance_classes': {'default': False, 'actual': False}, 'class_sampling_factors': {'default': None, 'actual': None}, 'max_after_balance_size': {'default': 5.0, 'actual': 5.0}, 'max_confusion_matrix_size': {'default': 20, 'actual': 20}, 'max_hit_ratio_k': {'default': 0, 'actual': 0}, 'ntrees': {'default': 50, 'actual': 252}, 'max_depth': {'default': 5, 'actual': 17}, 'min_rows': {'default': 10.0, 'actual': 5.0}, 'nbins': {'default': 20, 'actual': 20}, 'nbins_top_level': {'default': 1024, 'actual': 1024}, 'nbins_cats': {'default': 1024, 'actual': 1024}, 'r2_stopping': {'default': 1.7976931348623157e+308, 'actual': 1.7976931348623157e+308}, 'stopping_rounds': {'default': 0, 'actual': 0}, 'stopping_metric': {'default': 'AUTO', 'actual': 'logloss'}, 'stopping_tolerance': {'default': 0.001, 'actual': 0.005524187436252161}, 'max_runtime_secs': {'default': 0.0, 'actual': 0.0}, 'seed': {'default': -1, 'actual': 4762474614436848925}, 'build_tree_one_node': {'default': False, 'actual': False}, 'learn_rate': {'default': 0.1, 'actual': 0.01}, 'learn_rate_annealing': {'default': 1.0, 'actual': 1.0}, 'distribution': {'default': 'AUTO', 'actual': 'bernoulli'}, 'quantile_alpha': {'default': 0.5, 'actual': 0.5}, 'tweedie_power': {'default': 1.5, 'actual': 1.5}, 'huber_alpha': {'default': 0.9, 'actual': 0.9}, 'checkpoint': {'default': None, 'actual': None}, 'sample_rate': {'default': 1.0, 'actual': 1.0}, 'sample_rate_per_class': {'default': None, 'actual': None}, 'col_sample_rate': {'default': 1.0, 'actual': 0.7}, 'col_sample_rate_change_per_level': {'default': 1.0, 'actual': 1.0}, 'col_sample_rate_per_tree': {'default': 1.0, 'actual': 0.4}, 'min_split_improvement': {'default': 1e-05, 'actual': 1e-05}, 'histogram_type': {'default': 'AUTO', 'actual': 'AUTO'}, 'max_abs_leafnode_pred': {'default': 1.7976931348623157e+308, 'actual': 1.7976931348623157e+308}, 'pred_noise_bandwidth': {'default': 0.0, 'actual': 0.0}, 'categorical_encoding': {'default': 'AUTO', 'actual': 'AUTO'}, 'calibrate_model': {'default': False, 'actual': False}, 'calibration_frame': {'default': None, 'actual': None}, 'custom_metric_func': {'default': None, 'actual': None}, 'export_checkpoints_dir': {'default': None, 'actual': None}, 'monotone_constraints': {'default': None, 'actual': None}, 'check_constant_response': {'default': True, 'actual': True}}, {'model_id': {'default': None, 'actual': {'__meta': {'schema_version': 3, 'schema_name': 'ModelKeyV3', 'schema_type': 'Key<Model>'}, 'name': 'StackedEnsemble_BestOfFamily_AutoML_20190418_130009', 'type': 'Key<Model>', 'URL': '/3/Models/StackedEnsemble_BestOfFamily_AutoML_20190418_130009'}}, 'training_frame': {'default': None, 'actual': {'__meta': {'schema_version': 3, 'schema_name': 'FrameKeyV3', 'schema_type': 'Key<Frame>'}, 'name': 'automl_training_py_13_sid_a596', 'type': 'Key<Frame>', 'URL': '/3/Frames/automl_training_py_13_sid_a596'}}, 'response_column': {'default': None, 'actual': {'__meta': {'schema_version': 3, 'schema_name': 'ColSpecifierV3', 'schema_type': 'VecSpecifier'}, 'column_name': 'ACTION', 'is_member_of_frames': None}}, 'validation_frame': {'default': None, 'actual': None}, 'blending_frame': {'default': None, 'actual': None}, 'base_models': {'default': [], 'actual': [{'__meta': {'schema_version': 3, 'schema_name': 'ModelKeyV3', 'schema_type': 'Key<Model>'}, 'name': 'GBM_grid_1_AutoML_20190418_130009_model_1', 'type': 'Key<Model>', 'URL': '/3/Models/GBM_grid_1_AutoML_20190418_130009_model_1'}, {'__meta': {'schema_version': 3, 'schema_name': 'ModelKeyV3', 'schema_type': 'Key<Model>'}, 'name': 'DRF_1_AutoML_20190418_130009', 'type': 'Key<Model>', 'URL': '/3/Models/DRF_1_AutoML_20190418_130009'}, {'__meta': {'schema_version': 3, 'schema_name': 'ModelKeyV3', 'schema_type': 'Key<Model>'}, 'name': 'XRT_1_AutoML_20190418_130009', 'type': 'Key<Model>', 'URL': '/3/Models/XRT_1_AutoML_20190418_130009'}, {'__meta': {'schema_version': 3, 'schema_name': 'ModelKeyV3', 'schema_type': 'Key<Model>'}, 'name': 'DeepLearning_1_AutoML_20190418_130009', 'type': 'Key<Model>', 'URL': '/3/Models/DeepLearning_1_AutoML_20190418_130009'}, {'__meta': {'schema_version': 3, 'schema_name': 'ModelKeyV3', 'schema_type': 'Key<Model>'}, 'name': 'GLM_grid_1_AutoML_20190418_130009_model_1', 'type': 'Key<Model>', 'URL': '/3/Models/GLM_grid_1_AutoML_20190418_130009_model_1'}]}, 'metalearner_algorithm': {'default': 'AUTO', 'actual': 'AUTO'}, 'metalearner_nfolds': {'default': 0, 'actual': 5}, 'metalearner_fold_assignment': {'default': None, 'actual': None}, 'metalearner_fold_column': {'default': None, 'actual': None}, 'metalearner_params': {'default': '', 'actual': ''}, 'seed': {'default': -1, 'actual': -1684646964921462189}, 'keep_levelone_frame': {'default': False, 'actual': True}, 'export_checkpoints_dir': {'default': None, 'actual': None}}, {'model_id': {'default': None, 'actual': {'__meta': {'schema_version': 3, 'schema_name': 'ModelKeyV3', 'schema_type': 'Key<Model>'}, 'name': 'StackedEnsemble_AllModels_AutoML_20190418_130009', 'type': 'Key<Model>', 'URL': '/3/Models/StackedEnsemble_AllModels_AutoML_20190418_130009'}}, 'training_frame': {'default': None, 'actual': {'__meta': {'schema_version': 3, 'schema_name': 'FrameKeyV3', 'schema_type': 'Key<Frame>'}, 'name': 'automl_training_py_13_sid_a596', 'type': 'Key<Frame>', 'URL': '/3/Frames/automl_training_py_13_sid_a596'}}, 'response_column': {'default': None, 'actual': {'__meta': {'schema_version': 3, 'schema_name': 'ColSpecifierV3', 'schema_type': 'VecSpecifier'}, 'column_name': 'ACTION', 'is_member_of_frames': None}}, 'validation_frame': {'default': None, 'actual': None}, 'blending_frame': {'default': None, 'actual': None}, 'base_models': {'default': [], 'actual': [{'__meta': {'schema_version': 3, 'schema_name': 'ModelKeyV3', 'schema_type': 'Key<Model>'}, 'name': 'GBM_grid_1_AutoML_20190418_130009_model_1', 'type': 'Key<Model>', 'URL': '/3/Models/GBM_grid_1_AutoML_20190418_130009_model_1'}, {'__meta': {'schema_version': 3, 'schema_name': 'ModelKeyV3', 'schema_type': 'Key<Model>'}, 'name': 'DRF_1_AutoML_20190418_130009', 'type': 'Key<Model>', 'URL': '/3/Models/DRF_1_AutoML_20190418_130009'}, {'__meta': {'schema_version': 3, 'schema_name': 'ModelKeyV3', 'schema_type': 'Key<Model>'}, 'name': 'GBM_4_AutoML_20190418_130009', 'type': 'Key<Model>', 'URL': '/3/Models/GBM_4_AutoML_20190418_130009'}, {'__meta': {'schema_version': 3, 'schema_name': 'ModelKeyV3', 'schema_type': 'Key<Model>'}, 'name': 'XRT_1_AutoML_20190418_130009', 'type': 'Key<Model>', 'URL': '/3/Models/XRT_1_AutoML_20190418_130009'}, {'__meta': {'schema_version': 3, 'schema_name': 'ModelKeyV3', 'schema_type': 'Key<Model>'}, 'name': 'GBM_3_AutoML_20190418_130009', 'type': 'Key<Model>', 'URL': '/3/Models/GBM_3_AutoML_20190418_130009'}, {'__meta': {'schema_version': 3, 'schema_name': 'ModelKeyV3', 'schema_type': 'Key<Model>'}, 'name': 'GBM_5_AutoML_20190418_130009', 'type': 'Key<Model>', 'URL': '/3/Models/GBM_5_AutoML_20190418_130009'}, {'__meta': {'schema_version': 3, 'schema_name': 'ModelKeyV3', 'schema_type': 'Key<Model>'}, 'name': 'GBM_2_AutoML_20190418_130009', 'type': 'Key<Model>', 'URL': '/3/Models/GBM_2_AutoML_20190418_130009'}, {'__meta': {'schema_version': 3, 'schema_name': 'ModelKeyV3', 'schema_type': 'Key<Model>'}, 'name': 'GBM_1_AutoML_20190418_130009', 'type': 'Key<Model>', 'URL': '/3/Models/GBM_1_AutoML_20190418_130009'}, {'__meta': {'schema_version': 3, 'schema_name': 'ModelKeyV3', 'schema_type': 'Key<Model>'}, 'name': 'GBM_grid_1_AutoML_20190418_130009_model_6', 'type': 'Key<Model>', 'URL': '/3/Models/GBM_grid_1_AutoML_20190418_130009_model_6'}, {'__meta': {'schema_version': 3, 'schema_name': 'ModelKeyV3', 'schema_type': 'Key<Model>'}, 'name': 'GBM_grid_1_AutoML_20190418_130009_model_2', 'type': 'Key<Model>', 'URL': '/3/Models/GBM_grid_1_AutoML_20190418_130009_model_2'}, {'__meta': {'schema_version': 3, 'schema_name': 'ModelKeyV3', 'schema_type': 'Key<Model>'}, 'name': 'GBM_grid_1_AutoML_20190418_130009_model_5', 'type': 'Key<Model>', 'URL': '/3/Models/GBM_grid_1_AutoML_20190418_130009_model_5'}, {'__meta': {'schema_version': 3, 'schema_name': 'ModelKeyV3', 'schema_type': 'Key<Model>'}, 'name': 'GBM_grid_1_AutoML_20190418_130009_model_8', 'type': 'Key<Model>', 'URL': '/3/Models/GBM_grid_1_AutoML_20190418_130009_model_8'}, {'__meta': {'schema_version': 3, 'schema_name': 'ModelKeyV3', 'schema_type': 'Key<Model>'}, 'name': 'GBM_grid_1_AutoML_20190418_130009_model_3', 'type': 'Key<Model>', 'URL': '/3/Models/GBM_grid_1_AutoML_20190418_130009_model_3'}, {'__meta': {'schema_version': 3, 'schema_name': 'ModelKeyV3', 'schema_type': 'Key<Model>'}, 'name': 'GBM_grid_1_AutoML_20190418_130009_model_4', 'type': 'Key<Model>', 'URL': '/3/Models/GBM_grid_1_AutoML_20190418_130009_model_4'}, {'__meta': {'schema_version': 3, 'schema_name': 'ModelKeyV3', 'schema_type': 'Key<Model>'}, 'name': 'GBM_grid_1_AutoML_20190418_130009_model_7', 'type': 'Key<Model>', 'URL': '/3/Models/GBM_grid_1_AutoML_20190418_130009_model_7'}, {'__meta': {'schema_version': 3, 'schema_name': 'ModelKeyV3', 'schema_type': 'Key<Model>'}, 'name': 'DeepLearning_1_AutoML_20190418_130009', 'type': 'Key<Model>', 'URL': '/3/Models/DeepLearning_1_AutoML_20190418_130009'}, {'__meta': {'schema_version': 3, 'schema_name': 'ModelKeyV3', 'schema_type': 'Key<Model>'}, 'name': 'DeepLearning_grid_1_AutoML_20190418_130009_model_1', 'type': 'Key<Model>', 'URL': '/3/Models/DeepLearning_grid_1_AutoML_20190418_130009_model_1'}, {'__meta': {'schema_version': 3, 'schema_name': 'ModelKeyV3', 'schema_type': 'Key<Model>'}, 'name': 'DeepLearning_grid_1_AutoML_20190418_130009_model_2', 'type': 'Key<Model>', 'URL': '/3/Models/DeepLearning_grid_1_AutoML_20190418_130009_model_2'}, {'__meta': {'schema_version': 3, 'schema_name': 'ModelKeyV3', 'schema_type': 'Key<Model>'}, 'name': 'GLM_grid_1_AutoML_20190418_130009_model_1', 'type': 'Key<Model>', 'URL': '/3/Models/GLM_grid_1_AutoML_20190418_130009_model_1'}, {'__meta': {'schema_version': 3, 'schema_name': 'ModelKeyV3', 'schema_type': 'Key<Model>'}, 'name': 'DeepLearning_grid_1_AutoML_20190418_130009_model_3', 'type': 'Key<Model>', 'URL': '/3/Models/DeepLearning_grid_1_AutoML_20190418_130009_model_3'}]}, 'metalearner_algorithm': {'default': 'AUTO', 'actual': 'AUTO'}, 'metalearner_nfolds': {'default': 0, 'actual': 5}, 'metalearner_fold_assignment': {'default': None, 'actual': None}, 'metalearner_fold_column': {'default': None, 'actual': None}, 'metalearner_params': {'default': '', 'actual': ''}, 'seed': {'default': -1, 'actual': -1946396462399171380}, 'keep_levelone_frame': {'default': False, 'actual': True}, 'export_checkpoints_dir': {'default': None, 'actual': None}}, {'model_id': {'default': None, 'actual': {'__meta': {'schema_version': 3, 'schema_name': 'ModelKeyV3', 'schema_type': 'Key<Model>'}, 'name': 'DRF_1_AutoML_20190418_130009', 'type': 'Key<Model>', 'URL': '/3/Models/DRF_1_AutoML_20190418_130009'}}, 'training_frame': {'default': None, 'actual': {'__meta': {'schema_version': 3, 'schema_name': 'FrameKeyV3', 'schema_type': 'Key<Frame>'}, 'name': 'automl_training_py_13_sid_a596', 'type': 'Key<Frame>', 'URL': '/3/Frames/automl_training_py_13_sid_a596'}}, 'validation_frame': {'default': None, 'actual': None}, 'nfolds': {'default': 0, 'actual': 5}, 'keep_cross_validation_models': {'default': True, 'actual': False}, 'keep_cross_validation_predictions': {'default': False, 'actual': True}, 'keep_cross_validation_fold_assignment': {'default': False, 'actual': False}, 'score_each_iteration': {'default': False, 'actual': False}, 'score_tree_interval': {'default': 0, 'actual': 0}, 'fold_assignment': {'default': 'AUTO', 'actual': 'Modulo'}, 'fold_column': {'default': None, 'actual': None}, 'response_column': {'default': None, 'actual': {'__meta': {'schema_version': 3, 'schema_name': 'ColSpecifierV3', 'schema_type': 'VecSpecifier'}, 'column_name': 'ACTION', 'is_member_of_frames': None}}, 'ignored_columns': {'default': None, 'actual': []}, 'ignore_const_cols': {'default': True, 'actual': True}, 'offset_column': {'default': None, 'actual': None}, 'weights_column': {'default': None, 'actual': None}, 'balance_classes': {'default': False, 'actual': False}, 'class_sampling_factors': {'default': None, 'actual': None}, 'max_after_balance_size': {'default': 5.0, 'actual': 5.0}, 'max_confusion_matrix_size': {'default': 20, 'actual': 20}, 'max_hit_ratio_k': {'default': 0, 'actual': 0}, 'ntrees': {'default': 50, 'actual': 50}, 'max_depth': {'default': 20, 'actual': 20}, 'min_rows': {'default': 1.0, 'actual': 1.0}, 'nbins': {'default': 20, 'actual': 20}, 'nbins_top_level': {'default': 1024, 'actual': 1024}, 'nbins_cats': {'default': 1024, 'actual': 1024}, 'r2_stopping': {'default': 1.7976931348623157e+308, 'actual': 1.7976931348623157e+308}, 'stopping_rounds': {'default': 0, 'actual': 0}, 'stopping_metric': {'default': 'AUTO', 'actual': 'logloss'}, 'stopping_tolerance': {'default': 0.001, 'actual': 0.005524187436252161}, 'max_runtime_secs': {'default': 0.0, 'actual': 0.0}, 'seed': {'default': -1, 'actual': -7401756704851110857}, 'build_tree_one_node': {'default': False, 'actual': False}, 'mtries': {'default': -1, 'actual': -1}, 'sample_rate': {'default': 0.6320000290870667, 'actual': 0.6320000290870667}, 'sample_rate_per_class': {'default': None, 'actual': None}, 'binomial_double_trees': {'default': False, 'actual': False}, 'checkpoint': {'default': None, 'actual': None}, 'col_sample_rate_change_per_level': {'default': 1.0, 'actual': 1.0}, 'col_sample_rate_per_tree': {'default': 1.0, 'actual': 1.0}, 'min_split_improvement': {'default': 1e-05, 'actual': 1e-05}, 'histogram_type': {'default': 'AUTO', 'actual': 'AUTO'}, 'categorical_encoding': {'default': 'AUTO', 'actual': 'AUTO'}, 'calibrate_model': {'default': False, 'actual': False}, 'calibration_frame': {'default': None, 'actual': None}, 'distribution': {'default': 'AUTO', 'actual': 'multinomial'}, 'custom_metric_func': {'default': None, 'actual': None}, 'export_checkpoints_dir': {'default': None, 'actual': None}, 'check_constant_response': {'default': True, 'actual': True}}, {'model_id': {'default': None, 'actual': {'__meta': {'schema_version': 3, 'schema_name': 'ModelKeyV3', 'schema_type': 'Key<Model>'}, 'name': 'GBM_4_AutoML_20190418_130009', 'type': 'Key<Model>', 'URL': '/3/Models/GBM_4_AutoML_20190418_130009'}}, 'training_frame': {'default': None, 'actual': {'__meta': {'schema_version': 3, 'schema_name': 'FrameKeyV3', 'schema_type': 'Key<Frame>'}, 'name': 'automl_training_py_13_sid_a596', 'type': 'Key<Frame>', 'URL': '/3/Frames/automl_training_py_13_sid_a596'}}, 'validation_frame': {'default': None, 'actual': None}, 'nfolds': {'default': 0, 'actual': 5}, 'keep_cross_validation_models': {'default': True, 'actual': False}, 'keep_cross_validation_predictions': {'default': False, 'actual': True}, 'keep_cross_validation_fold_assignment': {'default': False, 'actual': False}, 'score_each_iteration': {'default': False, 'actual': False}, 'score_tree_interval': {'default': 0, 'actual': 5}, 'fold_assignment': {'default': 'AUTO', 'actual': 'Modulo'}, 'fold_column': {'default': None, 'actual': None}, 'response_column': {'default': None, 'actual': {'__meta': {'schema_version': 3, 'schema_name': 'ColSpecifierV3', 'schema_type': 'VecSpecifier'}, 'column_name': 'ACTION', 'is_member_of_frames': None}}, 'ignored_columns': {'default': None, 'actual': []}, 'ignore_const_cols': {'default': True, 'actual': True}, 'offset_column': {'default': None, 'actual': None}, 'weights_column': {'default': None, 'actual': None}, 'balance_classes': {'default': False, 'actual': False}, 'class_sampling_factors': {'default': None, 'actual': None}, 'max_after_balance_size': {'default': 5.0, 'actual': 5.0}, 'max_confusion_matrix_size': {'default': 20, 'actual': 20}, 'max_hit_ratio_k': {'default': 0, 'actual': 0}, 'ntrees': {'default': 50, 'actual': 93}, 'max_depth': {'default': 5, 'actual': 15}, 'min_rows': {'default': 10.0, 'actual': 100.0}, 'nbins': {'default': 20, 'actual': 20}, 'nbins_top_level': {'default': 1024, 'actual': 1024}, 'nbins_cats': {'default': 1024, 'actual': 1024}, 'r2_stopping': {'default': 1.7976931348623157e+308, 'actual': 1.7976931348623157e+308}, 'stopping_rounds': {'default': 0, 'actual': 0}, 'stopping_metric': {'default': 'AUTO', 'actual': 'logloss'}, 'stopping_tolerance': {'default': 0.001, 'actual': 0.005524187436252161}, 'max_runtime_secs': {'default': 0.0, 'actual': 0.0}, 'seed': {'default': -1, 'actual': 459376782773234522}, 'build_tree_one_node': {'default': False, 'actual': False}, 'learn_rate': {'default': 0.1, 'actual': 0.1}, 'learn_rate_annealing': {'default': 1.0, 'actual': 1.0}, 'distribution': {'default': 'AUTO', 'actual': 'bernoulli'}, 'quantile_alpha': {'default': 0.5, 'actual': 0.5}, 'tweedie_power': {'default': 1.5, 'actual': 1.5}, 'huber_alpha': {'default': 0.9, 'actual': 0.9}, 'checkpoint': {'default': None, 'actual': None}, 'sample_rate': {'default': 1.0, 'actual': 0.8}, 'sample_rate_per_class': {'default': None, 'actual': None}, 'col_sample_rate': {'default': 1.0, 'actual': 0.8}, 'col_sample_rate_change_per_level': {'default': 1.0, 'actual': 1.0}, 'col_sample_rate_per_tree': {'default': 1.0, 'actual': 0.8}, 'min_split_improvement': {'default': 1e-05, 'actual': 1e-05}, 'histogram_type': {'default': 'AUTO', 'actual': 'AUTO'}, 'max_abs_leafnode_pred': {'default': 1.7976931348623157e+308, 'actual': 1.7976931348623157e+308}, 'pred_noise_bandwidth': {'default': 0.0, 'actual': 0.0}, 'categorical_encoding': {'default': 'AUTO', 'actual': 'AUTO'}, 'calibrate_model': {'default': False, 'actual': False}, 'calibration_frame': {'default': None, 'actual': None}, 'custom_metric_func': {'default': None, 'actual': None}, 'export_checkpoints_dir': {'default': None, 'actual': None}, 'monotone_constraints': {'default': None, 'actual': None}, 'check_constant_response': {'default': True, 'actual': True}}, {'model_id': {'default': None, 'actual': {'__meta': {'schema_version': 3, 'schema_name': 'ModelKeyV3', 'schema_type': 'Key<Model>'}, 'name': 'XRT_1_AutoML_20190418_130009', 'type': 'Key<Model>', 'URL': '/3/Models/XRT_1_AutoML_20190418_130009'}}, 'training_frame': {'default': None, 'actual': {'__meta': {'schema_version': 3, 'schema_name': 'FrameKeyV3', 'schema_type': 'Key<Frame>'}, 'name': 'automl_training_py_13_sid_a596', 'type': 'Key<Frame>', 'URL': '/3/Frames/automl_training_py_13_sid_a596'}}, 'validation_frame': {'default': None, 'actual': None}, 'nfolds': {'default': 0, 'actual': 5}, 'keep_cross_validation_models': {'default': True, 'actual': False}, 'keep_cross_validation_predictions': {'default': False, 'actual': True}, 'keep_cross_validation_fold_assignment': {'default': False, 'actual': False}, 'score_each_iteration': {'default': False, 'actual': False}, 'score_tree_interval': {'default': 0, 'actual': 0}, 'fold_assignment': {'default': 'AUTO', 'actual': 'Modulo'}, 'fold_column': {'default': None, 'actual': None}, 'response_column': {'default': None, 'actual': {'__meta': {'schema_version': 3, 'schema_name': 'ColSpecifierV3', 'schema_type': 'VecSpecifier'}, 'column_name': 'ACTION', 'is_member_of_frames': None}}, 'ignored_columns': {'default': None, 'actual': []}, 'ignore_const_cols': {'default': True, 'actual': True}, 'offset_column': {'default': None, 'actual': None}, 'weights_column': {'default': None, 'actual': None}, 'balance_classes': {'default': False, 'actual': False}, 'class_sampling_factors': {'default': None, 'actual': None}, 'max_after_balance_size': {'default': 5.0, 'actual': 5.0}, 'max_confusion_matrix_size': {'default': 20, 'actual': 20}, 'max_hit_ratio_k': {'default': 0, 'actual': 0}, 'ntrees': {'default': 50, 'actual': 43}, 'max_depth': {'default': 20, 'actual': 20}, 'min_rows': {'default': 1.0, 'actual': 1.0}, 'nbins': {'default': 20, 'actual': 20}, 'nbins_top_level': {'default': 1024, 'actual': 1024}, 'nbins_cats': {'default': 1024, 'actual': 1024}, 'r2_stopping': {'default': 1.7976931348623157e+308, 'actual': 1.7976931348623157e+308}, 'stopping_rounds': {'default': 0, 'actual': 0}, 'stopping_metric': {'default': 'AUTO', 'actual': 'logloss'}, 'stopping_tolerance': {'default': 0.001, 'actual': 0.005524187436252161}, 'max_runtime_secs': {'default': 0.0, 'actual': 0.0}, 'seed': {'default': -1, 'actual': 2522599331687940454}, 'build_tree_one_node': {'default': False, 'actual': False}, 'mtries': {'default': -1, 'actual': -1}, 'sample_rate': {'default': 0.6320000290870667, 'actual': 0.6320000290870667}, 'sample_rate_per_class': {'default': None, 'actual': None}, 'binomial_double_trees': {'default': False, 'actual': False}, 'checkpoint': {'default': None, 'actual': None}, 'col_sample_rate_change_per_level': {'default': 1.0, 'actual': 1.0}, 'col_sample_rate_per_tree': {'default': 1.0, 'actual': 1.0}, 'min_split_improvement': {'default': 1e-05, 'actual': 1e-05}, 'histogram_type': {'default': 'AUTO', 'actual': 'Random'}, 'categorical_encoding': {'default': 'AUTO', 'actual': 'AUTO'}, 'calibrate_model': {'default': False, 'actual': False}, 'calibration_frame': {'default': None, 'actual': None}, 'distribution': {'default': 'AUTO', 'actual': 'multinomial'}, 'custom_metric_func': {'default': None, 'actual': None}, 'export_checkpoints_dir': {'default': None, 'actual': None}, 'check_constant_response': {'default': True, 'actual': True}}, {'model_id': {'default': None, 'actual': {'__meta': {'schema_version': 3, 'schema_name': 'ModelKeyV3', 'schema_type': 'Key<Model>'}, 'name': 'GBM_3_AutoML_20190418_130009', 'type': 'Key<Model>', 'URL': '/3/Models/GBM_3_AutoML_20190418_130009'}}, 'training_frame': {'default': None, 'actual': {'__meta': {'schema_version': 3, 'schema_name': 'FrameKeyV3', 'schema_type': 'Key<Frame>'}, 'name': 'automl_training_py_13_sid_a596', 'type': 'Key<Frame>', 'URL': '/3/Frames/automl_training_py_13_sid_a596'}}, 'validation_frame': {'default': None, 'actual': None}, 'nfolds': {'default': 0, 'actual': 5}, 'keep_cross_validation_models': {'default': True, 'actual': False}, 'keep_cross_validation_predictions': {'default': False, 'actual': True}, 'keep_cross_validation_fold_assignment': {'default': False, 'actual': False}, 'score_each_iteration': {'default': False, 'actual': False}, 'score_tree_interval': {'default': 0, 'actual': 5}, 'fold_assignment': {'default': 'AUTO', 'actual': 'Modulo'}, 'fold_column': {'default': None, 'actual': None}, 'response_column': {'default': None, 'actual': {'__meta': {'schema_version': 3, 'schema_name': 'ColSpecifierV3', 'schema_type': 'VecSpecifier'}, 'column_name': 'ACTION', 'is_member_of_frames': None}}, 'ignored_columns': {'default': None, 'actual': []}, 'ignore_const_cols': {'default': True, 'actual': True}, 'offset_column': {'default': None, 'actual': None}, 'weights_column': {'default': None, 'actual': None}, 'balance_classes': {'default': False, 'actual': False}, 'class_sampling_factors': {'default': None, 'actual': None}, 'max_after_balance_size': {'default': 5.0, 'actual': 5.0}, 'max_confusion_matrix_size': {'default': 20, 'actual': 20}, 'max_hit_ratio_k': {'default': 0, 'actual': 0}, 'ntrees': {'default': 50, 'actual': 93}, 'max_depth': {'default': 5, 'actual': 15}, 'min_rows': {'default': 10.0, 'actual': 100.0}, 'nbins': {'default': 20, 'actual': 20}, 'nbins_top_level': {'default': 1024, 'actual': 1024}, 'nbins_cats': {'default': 1024, 'actual': 1024}, 'r2_stopping': {'default': 1.7976931348623157e+308, 'actual': 1.7976931348623157e+308}, 'stopping_rounds': {'default': 0, 'actual': 0}, 'stopping_metric': {'default': 'AUTO', 'actual': 'logloss'}, 'stopping_tolerance': {'default': 0.001, 'actual': 0.005524187436252161}, 'max_runtime_secs': {'default': 0.0, 'actual': 0.0}, 'seed': {'default': -1, 'actual': 459376782773234522}, 'build_tree_one_node': {'default': False, 'actual': False}, 'learn_rate': {'default': 0.1, 'actual': 0.1}, 'learn_rate_annealing': {'default': 1.0, 'actual': 1.0}, 'distribution': {'default': 'AUTO', 'actual': 'bernoulli'}, 'quantile_alpha': {'default': 0.5, 'actual': 0.5}, 'tweedie_power': {'default': 1.5, 'actual': 1.5}, 'huber_alpha': {'default': 0.9, 'actual': 0.9}, 'checkpoint': {'default': None, 'actual': None}, 'sample_rate': {'default': 1.0, 'actual': 0.8}, 'sample_rate_per_class': {'default': None, 'actual': None}, 'col_sample_rate': {'default': 1.0, 'actual': 0.8}, 'col_sample_rate_change_per_level': {'default': 1.0, 'actual': 1.0}, 'col_sample_rate_per_tree': {'default': 1.0, 'actual': 0.8}, 'min_split_improvement': {'default': 1e-05, 'actual': 1e-05}, 'histogram_type': {'default': 'AUTO', 'actual': 'AUTO'}, 'max_abs_leafnode_pred': {'default': 1.7976931348623157e+308, 'actual': 1.7976931348623157e+308}, 'pred_noise_bandwidth': {'default': 0.0, 'actual': 0.0}, 'categorical_encoding': {'default': 'AUTO', 'actual': 'AUTO'}, 'calibrate_model': {'default': False, 'actual': False}, 'calibration_frame': {'default': None, 'actual': None}, 'custom_metric_func': {'default': None, 'actual': None}, 'export_checkpoints_dir': {'default': None, 'actual': None}, 'monotone_constraints': {'default': None, 'actual': None}, 'check_constant_response': {'default': True, 'actual': True}}, {'model_id': {'default': None, 'actual': {'__meta': {'schema_version': 3, 'schema_name': 'ModelKeyV3', 'schema_type': 'Key<Model>'}, 'name': 'GBM_5_AutoML_20190418_130009', 'type': 'Key<Model>', 'URL': '/3/Models/GBM_5_AutoML_20190418_130009'}}, 'training_frame': {'default': None, 'actual': {'__meta': {'schema_version': 3, 'schema_name': 'FrameKeyV3', 'schema_type': 'Key<Frame>'}, 'name': 'automl_training_py_13_sid_a596', 'type': 'Key<Frame>', 'URL': '/3/Frames/automl_training_py_13_sid_a596'}}, 'validation_frame': {'default': None, 'actual': None}, 'nfolds': {'default': 0, 'actual': 5}, 'keep_cross_validation_models': {'default': True, 'actual': False}, 'keep_cross_validation_predictions': {'default': False, 'actual': True}, 'keep_cross_validation_fold_assignment': {'default': False, 'actual': False}, 'score_each_iteration': {'default': False, 'actual': False}, 'score_tree_interval': {'default': 0, 'actual': 5}, 'fold_assignment': {'default': 'AUTO', 'actual': 'Modulo'}, 'fold_column': {'default': None, 'actual': None}, 'response_column': {'default': None, 'actual': {'__meta': {'schema_version': 3, 'schema_name': 'ColSpecifierV3', 'schema_type': 'VecSpecifier'}, 'column_name': 'ACTION', 'is_member_of_frames': None}}, 'ignored_columns': {'default': None, 'actual': []}, 'ignore_const_cols': {'default': True, 'actual': True}, 'offset_column': {'default': None, 'actual': None}, 'weights_column': {'default': None, 'actual': None}, 'balance_classes': {'default': False, 'actual': False}, 'class_sampling_factors': {'default': None, 'actual': None}, 'max_after_balance_size': {'default': 5.0, 'actual': 5.0}, 'max_confusion_matrix_size': {'default': 20, 'actual': 20}, 'max_hit_ratio_k': {'default': 0, 'actual': 0}, 'ntrees': {'default': 50, 'actual': 93}, 'max_depth': {'default': 5, 'actual': 15}, 'min_rows': {'default': 10.0, 'actual': 100.0}, 'nbins': {'default': 20, 'actual': 20}, 'nbins_top_level': {'default': 1024, 'actual': 1024}, 'nbins_cats': {'default': 1024, 'actual': 1024}, 'r2_stopping': {'default': 1.7976931348623157e+308, 'actual': 1.7976931348623157e+308}, 'stopping_rounds': {'default': 0, 'actual': 0}, 'stopping_metric': {'default': 'AUTO', 'actual': 'logloss'}, 'stopping_tolerance': {'default': 0.001, 'actual': 0.005524187436252161}, 'max_runtime_secs': {'default': 0.0, 'actual': 0.0}, 'seed': {'default': -1, 'actual': 459376782773234522}, 'build_tree_one_node': {'default': False, 'actual': False}, 'learn_rate': {'default': 0.1, 'actual': 0.1}, 'learn_rate_annealing': {'default': 1.0, 'actual': 1.0}, 'distribution': {'default': 'AUTO', 'actual': 'bernoulli'}, 'quantile_alpha': {'default': 0.5, 'actual': 0.5}, 'tweedie_power': {'default': 1.5, 'actual': 1.5}, 'huber_alpha': {'default': 0.9, 'actual': 0.9}, 'checkpoint': {'default': None, 'actual': None}, 'sample_rate': {'default': 1.0, 'actual': 0.8}, 'sample_rate_per_class': {'default': None, 'actual': None}, 'col_sample_rate': {'default': 1.0, 'actual': 0.8}, 'col_sample_rate_change_per_level': {'default': 1.0, 'actual': 1.0}, 'col_sample_rate_per_tree': {'default': 1.0, 'actual': 0.8}, 'min_split_improvement': {'default': 1e-05, 'actual': 1e-05}, 'histogram_type': {'default': 'AUTO', 'actual': 'AUTO'}, 'max_abs_leafnode_pred': {'default': 1.7976931348623157e+308, 'actual': 1.7976931348623157e+308}, 'pred_noise_bandwidth': {'default': 0.0, 'actual': 0.0}, 'categorical_encoding': {'default': 'AUTO', 'actual': 'AUTO'}, 'calibrate_model': {'default': False, 'actual': False}, 'calibration_frame': {'default': None, 'actual': None}, 'custom_metric_func': {'default': None, 'actual': None}, 'export_checkpoints_dir': {'default': None, 'actual': None}, 'monotone_constraints': {'default': None, 'actual': None}, 'check_constant_response': {'default': True, 'actual': True}}, {'model_id': {'default': None, 'actual': {'__meta': {'schema_version': 3, 'schema_name': 'ModelKeyV3', 'schema_type': 'Key<Model>'}, 'name': 'GBM_2_AutoML_20190418_130009', 'type': 'Key<Model>', 'URL': '/3/Models/GBM_2_AutoML_20190418_130009'}}, 'training_frame': {'default': None, 'actual': {'__meta': {'schema_version': 3, 'schema_name': 'FrameKeyV3', 'schema_type': 'Key<Frame>'}, 'name': 'automl_training_py_13_sid_a596', 'type': 'Key<Frame>', 'URL': '/3/Frames/automl_training_py_13_sid_a596'}}, 'validation_frame': {'default': None, 'actual': None}, 'nfolds': {'default': 0, 'actual': 5}, 'keep_cross_validation_models': {'default': True, 'actual': False}, 'keep_cross_validation_predictions': {'default': False, 'actual': True}, 'keep_cross_validation_fold_assignment': {'default': False, 'actual': False}, 'score_each_iteration': {'default': False, 'actual': False}, 'score_tree_interval': {'default': 0, 'actual': 5}, 'fold_assignment': {'default': 'AUTO', 'actual': 'Modulo'}, 'fold_column': {'default': None, 'actual': None}, 'response_column': {'default': None, 'actual': {'__meta': {'schema_version': 3, 'schema_name': 'ColSpecifierV3', 'schema_type': 'VecSpecifier'}, 'column_name': 'ACTION', 'is_member_of_frames': None}}, 'ignored_columns': {'default': None, 'actual': []}, 'ignore_const_cols': {'default': True, 'actual': True}, 'offset_column': {'default': None, 'actual': None}, 'weights_column': {'default': None, 'actual': None}, 'balance_classes': {'default': False, 'actual': False}, 'class_sampling_factors': {'default': None, 'actual': None}, 'max_after_balance_size': {'default': 5.0, 'actual': 5.0}, 'max_confusion_matrix_size': {'default': 20, 'actual': 20}, 'max_hit_ratio_k': {'default': 0, 'actual': 0}, 'ntrees': {'default': 50, 'actual': 93}, 'max_depth': {'default': 5, 'actual': 15}, 'min_rows': {'default': 10.0, 'actual': 100.0}, 'nbins': {'default': 20, 'actual': 20}, 'nbins_top_level': {'default': 1024, 'actual': 1024}, 'nbins_cats': {'default': 1024, 'actual': 1024}, 'r2_stopping': {'default': 1.7976931348623157e+308, 'actual': 1.7976931348623157e+308}, 'stopping_rounds': {'default': 0, 'actual': 0}, 'stopping_metric': {'default': 'AUTO', 'actual': 'logloss'}, 'stopping_tolerance': {'default': 0.001, 'actual': 0.005524187436252161}, 'max_runtime_secs': {'default': 0.0, 'actual': 0.0}, 'seed': {'default': -1, 'actual': 459376782773234522}, 'build_tree_one_node': {'default': False, 'actual': False}, 'learn_rate': {'default': 0.1, 'actual': 0.1}, 'learn_rate_annealing': {'default': 1.0, 'actual': 1.0}, 'distribution': {'default': 'AUTO', 'actual': 'bernoulli'}, 'quantile_alpha': {'default': 0.5, 'actual': 0.5}, 'tweedie_power': {'default': 1.5, 'actual': 1.5}, 'huber_alpha': {'default': 0.9, 'actual': 0.9}, 'checkpoint': {'default': None, 'actual': None}, 'sample_rate': {'default': 1.0, 'actual': 0.8}, 'sample_rate_per_class': {'default': None, 'actual': None}, 'col_sample_rate': {'default': 1.0, 'actual': 0.8}, 'col_sample_rate_change_per_level': {'default': 1.0, 'actual': 1.0}, 'col_sample_rate_per_tree': {'default': 1.0, 'actual': 0.8}, 'min_split_improvement': {'default': 1e-05, 'actual': 1e-05}, 'histogram_type': {'default': 'AUTO', 'actual': 'AUTO'}, 'max_abs_leafnode_pred': {'default': 1.7976931348623157e+308, 'actual': 1.7976931348623157e+308}, 'pred_noise_bandwidth': {'default': 0.0, 'actual': 0.0}, 'categorical_encoding': {'default': 'AUTO', 'actual': 'AUTO'}, 'calibrate_model': {'default': False, 'actual': False}, 'calibration_frame': {'default': None, 'actual': None}, 'custom_metric_func': {'default': None, 'actual': None}, 'export_checkpoints_dir': {'default': None, 'actual': None}, 'monotone_constraints': {'default': None, 'actual': None}, 'check_constant_response': {'default': True, 'actual': True}}, {'model_id': {'default': None, 'actual': {'__meta': {'schema_version': 3, 'schema_name': 'ModelKeyV3', 'schema_type': 'Key<Model>'}, 'name': 'GBM_1_AutoML_20190418_130009', 'type': 'Key<Model>', 'URL': '/3/Models/GBM_1_AutoML_20190418_130009'}}, 'training_frame': {'default': None, 'actual': {'__meta': {'schema_version': 3, 'schema_name': 'FrameKeyV3', 'schema_type': 'Key<Frame>'}, 'name': 'automl_training_py_13_sid_a596', 'type': 'Key<Frame>', 'URL': '/3/Frames/automl_training_py_13_sid_a596'}}, 'validation_frame': {'default': None, 'actual': None}, 'nfolds': {'default': 0, 'actual': 5}, 'keep_cross_validation_models': {'default': True, 'actual': False}, 'keep_cross_validation_predictions': {'default': False, 'actual': True}, 'keep_cross_validation_fold_assignment': {'default': False, 'actual': False}, 'score_each_iteration': {'default': False, 'actual': False}, 'score_tree_interval': {'default': 0, 'actual': 5}, 'fold_assignment': {'default': 'AUTO', 'actual': 'Modulo'}, 'fold_column': {'default': None, 'actual': None}, 'response_column': {'default': None, 'actual': {'__meta': {'schema_version': 3, 'schema_name': 'ColSpecifierV3', 'schema_type': 'VecSpecifier'}, 'column_name': 'ACTION', 'is_member_of_frames': None}}, 'ignored_columns': {'default': None, 'actual': []}, 'ignore_const_cols': {'default': True, 'actual': True}, 'offset_column': {'default': None, 'actual': None}, 'weights_column': {'default': None, 'actual': None}, 'balance_classes': {'default': False, 'actual': False}, 'class_sampling_factors': {'default': None, 'actual': None}, 'max_after_balance_size': {'default': 5.0, 'actual': 5.0}, 'max_confusion_matrix_size': {'default': 20, 'actual': 20}, 'max_hit_ratio_k': {'default': 0, 'actual': 0}, 'ntrees': {'default': 50, 'actual': 93}, 'max_depth': {'default': 5, 'actual': 15}, 'min_rows': {'default': 10.0, 'actual': 100.0}, 'nbins': {'default': 20, 'actual': 20}, 'nbins_top_level': {'default': 1024, 'actual': 1024}, 'nbins_cats': {'default': 1024, 'actual': 1024}, 'r2_stopping': {'default': 1.7976931348623157e+308, 'actual': 1.7976931348623157e+308}, 'stopping_rounds': {'default': 0, 'actual': 0}, 'stopping_metric': {'default': 'AUTO', 'actual': 'logloss'}, 'stopping_tolerance': {'default': 0.001, 'actual': 0.005524187436252161}, 'max_runtime_secs': {'default': 0.0, 'actual': 0.0}, 'seed': {'default': -1, 'actual': 459376782773234522}, 'build_tree_one_node': {'default': False, 'actual': False}, 'learn_rate': {'default': 0.1, 'actual': 0.1}, 'learn_rate_annealing': {'default': 1.0, 'actual': 1.0}, 'distribution': {'default': 'AUTO', 'actual': 'bernoulli'}, 'quantile_alpha': {'default': 0.5, 'actual': 0.5}, 'tweedie_power': {'default': 1.5, 'actual': 1.5}, 'huber_alpha': {'default': 0.9, 'actual': 0.9}, 'checkpoint': {'default': None, 'actual': None}, 'sample_rate': {'default': 1.0, 'actual': 0.8}, 'sample_rate_per_class': {'default': None, 'actual': None}, 'col_sample_rate': {'default': 1.0, 'actual': 0.8}, 'col_sample_rate_change_per_level': {'default': 1.0, 'actual': 1.0}, 'col_sample_rate_per_tree': {'default': 1.0, 'actual': 0.8}, 'min_split_improvement': {'default': 1e-05, 'actual': 1e-05}, 'histogram_type': {'default': 'AUTO', 'actual': 'AUTO'}, 'max_abs_leafnode_pred': {'default': 1.7976931348623157e+308, 'actual': 1.7976931348623157e+308}, 'pred_noise_bandwidth': {'default': 0.0, 'actual': 0.0}, 'categorical_encoding': {'default': 'AUTO', 'actual': 'AUTO'}, 'calibrate_model': {'default': False, 'actual': False}, 'calibration_frame': {'default': None, 'actual': None}, 'custom_metric_func': {'default': None, 'actual': None}, 'export_checkpoints_dir': {'default': None, 'actual': None}, 'monotone_constraints': {'default': None, 'actual': None}, 'check_constant_response': {'default': True, 'actual': True}}, {'model_id': {'default': None, 'actual': {'__meta': {'schema_version': 3, 'schema_name': 'ModelKeyV3', 'schema_type': 'Key<Model>'}, 'name': 'GBM_grid_1_AutoML_20190418_130009_model_6', 'type': 'Key<Model>', 'URL': '/3/Models/GBM_grid_1_AutoML_20190418_130009_model_6'}}, 'training_frame': {'default': None, 'actual': {'__meta': {'schema_version': 3, 'schema_name': 'FrameKeyV3', 'schema_type': 'Key<Frame>'}, 'name': 'automl_training_py_13_sid_a596', 'type': 'Key<Frame>', 'URL': '/3/Frames/automl_training_py_13_sid_a596'}}, 'validation_frame': {'default': None, 'actual': None}, 'nfolds': {'default': 0, 'actual': 5}, 'keep_cross_validation_models': {'default': True, 'actual': False}, 'keep_cross_validation_predictions': {'default': False, 'actual': True}, 'keep_cross_validation_fold_assignment': {'default': False, 'actual': False}, 'score_each_iteration': {'default': False, 'actual': False}, 'score_tree_interval': {'default': 0, 'actual': 5}, 'fold_assignment': {'default': 'AUTO', 'actual': 'Modulo'}, 'fold_column': {'default': None, 'actual': None}, 'response_column': {'default': None, 'actual': {'__meta': {'schema_version': 3, 'schema_name': 'ColSpecifierV3', 'schema_type': 'VecSpecifier'}, 'column_name': 'ACTION', 'is_member_of_frames': None}}, 'ignored_columns': {'default': None, 'actual': []}, 'ignore_const_cols': {'default': True, 'actual': True}, 'offset_column': {'default': None, 'actual': None}, 'weights_column': {'default': None, 'actual': None}, 'balance_classes': {'default': False, 'actual': False}, 'class_sampling_factors': {'default': None, 'actual': None}, 'max_after_balance_size': {'default': 5.0, 'actual': 5.0}, 'max_confusion_matrix_size': {'default': 20, 'actual': 20}, 'max_hit_ratio_k': {'default': 0, 'actual': 0}, 'ntrees': {'default': 50, 'actual': 138}, 'max_depth': {'default': 5, 'actual': 8}, 'min_rows': {'default': 10.0, 'actual': 10.0}, 'nbins': {'default': 20, 'actual': 20}, 'nbins_top_level': {'default': 1024, 'actual': 1024}, 'nbins_cats': {'default': 1024, 'actual': 1024}, 'r2_stopping': {'default': 1.7976931348623157e+308, 'actual': 1.7976931348623157e+308}, 'stopping_rounds': {'default': 0, 'actual': 0}, 'stopping_metric': {'default': 'AUTO', 'actual': 'logloss'}, 'stopping_tolerance': {'default': 0.001, 'actual': 0.005524187436252161}, 'max_runtime_secs': {'default': 0.0, 'actual': 0.0}, 'seed': {'default': -1, 'actual': -5057743449703490825}, 'build_tree_one_node': {'default': False, 'actual': False}, 'learn_rate': {'default': 0.1, 'actual': 0.1}, 'learn_rate_annealing': {'default': 1.0, 'actual': 1.0}, 'distribution': {'default': 'AUTO', 'actual': 'bernoulli'}, 'quantile_alpha': {'default': 0.5, 'actual': 0.5}, 'tweedie_power': {'default': 1.5, 'actual': 1.5}, 'huber_alpha': {'default': 0.9, 'actual': 0.9}, 'checkpoint': {'default': None, 'actual': None}, 'sample_rate': {'default': 1.0, 'actual': 0.7}, 'sample_rate_per_class': {'default': None, 'actual': None}, 'col_sample_rate': {'default': 1.0, 'actual': 0.4}, 'col_sample_rate_change_per_level': {'default': 1.0, 'actual': 1.0}, 'col_sample_rate_per_tree': {'default': 1.0, 'actual': 0.4}, 'min_split_improvement': {'default': 1e-05, 'actual': 1e-05}, 'histogram_type': {'default': 'AUTO', 'actual': 'AUTO'}, 'max_abs_leafnode_pred': {'default': 1.7976931348623157e+308, 'actual': 1.7976931348623157e+308}, 'pred_noise_bandwidth': {'default': 0.0, 'actual': 0.0}, 'categorical_encoding': {'default': 'AUTO', 'actual': 'AUTO'}, 'calibrate_model': {'default': False, 'actual': False}, 'calibration_frame': {'default': None, 'actual': None}, 'custom_metric_func': {'default': None, 'actual': None}, 'export_checkpoints_dir': {'default': None, 'actual': None}, 'monotone_constraints': {'default': None, 'actual': None}, 'check_constant_response': {'default': True, 'actual': True}}, {'model_id': {'default': None, 'actual': {'__meta': {'schema_version': 3, 'schema_name': 'ModelKeyV3', 'schema_type': 'Key<Model>'}, 'name': 'GBM_grid_1_AutoML_20190418_130009_model_2', 'type': 'Key<Model>', 'URL': '/3/Models/GBM_grid_1_AutoML_20190418_130009_model_2'}}, 'training_frame': {'default': None, 'actual': {'__meta': {'schema_version': 3, 'schema_name': 'FrameKeyV3', 'schema_type': 'Key<Frame>'}, 'name': 'automl_training_py_13_sid_a596', 'type': 'Key<Frame>', 'URL': '/3/Frames/automl_training_py_13_sid_a596'}}, 'validation_frame': {'default': None, 'actual': None}, 'nfolds': {'default': 0, 'actual': 5}, 'keep_cross_validation_models': {'default': True, 'actual': False}, 'keep_cross_validation_predictions': {'default': False, 'actual': True}, 'keep_cross_validation_fold_assignment': {'default': False, 'actual': False}, 'score_each_iteration': {'default': False, 'actual': False}, 'score_tree_interval': {'default': 0, 'actual': 5}, 'fold_assignment': {'default': 'AUTO', 'actual': 'Modulo'}, 'fold_column': {'default': None, 'actual': None}, 'response_column': {'default': None, 'actual': {'__meta': {'schema_version': 3, 'schema_name': 'ColSpecifierV3', 'schema_type': 'VecSpecifier'}, 'column_name': 'ACTION', 'is_member_of_frames': None}}, 'ignored_columns': {'default': None, 'actual': []}, 'ignore_const_cols': {'default': True, 'actual': True}, 'offset_column': {'default': None, 'actual': None}, 'weights_column': {'default': None, 'actual': None}, 'balance_classes': {'default': False, 'actual': False}, 'class_sampling_factors': {'default': None, 'actual': None}, 'max_after_balance_size': {'default': 5.0, 'actual': 5.0}, 'max_confusion_matrix_size': {'default': 20, 'actual': 20}, 'max_hit_ratio_k': {'default': 0, 'actual': 0}, 'ntrees': {'default': 50, 'actual': 51}, 'max_depth': {'default': 5, 'actual': 6}, 'min_rows': {'default': 10.0, 'actual': 30.0}, 'nbins': {'default': 20, 'actual': 20}, 'nbins_top_level': {'default': 1024, 'actual': 1024}, 'nbins_cats': {'default': 1024, 'actual': 1024}, 'r2_stopping': {'default': 1.7976931348623157e+308, 'actual': 1.7976931348623157e+308}, 'stopping_rounds': {'default': 0, 'actual': 0}, 'stopping_metric': {'default': 'AUTO', 'actual': 'logloss'}, 'stopping_tolerance': {'default': 0.001, 'actual': 0.005524187436252161}, 'max_runtime_secs': {'default': 0.0, 'actual': 0.0}, 'seed': {'default': -1, 'actual': -849511483019584016}, 'build_tree_one_node': {'default': False, 'actual': False}, 'learn_rate': {'default': 0.1, 'actual': 0.8}, 'learn_rate_annealing': {'default': 1.0, 'actual': 1.0}, 'distribution': {'default': 'AUTO', 'actual': 'bernoulli'}, 'quantile_alpha': {'default': 0.5, 'actual': 0.5}, 'tweedie_power': {'default': 1.5, 'actual': 1.5}, 'huber_alpha': {'default': 0.9, 'actual': 0.9}, 'checkpoint': {'default': None, 'actual': None}, 'sample_rate': {'default': 1.0, 'actual': 0.9}, 'sample_rate_per_class': {'default': None, 'actual': None}, 'col_sample_rate': {'default': 1.0, 'actual': 0.7}, 'col_sample_rate_change_per_level': {'default': 1.0, 'actual': 1.0}, 'col_sample_rate_per_tree': {'default': 1.0, 'actual': 0.7}, 'min_split_improvement': {'default': 1e-05, 'actual': 1e-05}, 'histogram_type': {'default': 'AUTO', 'actual': 'AUTO'}, 'max_abs_leafnode_pred': {'default': 1.7976931348623157e+308, 'actual': 1.7976931348623157e+308}, 'pred_noise_bandwidth': {'default': 0.0, 'actual': 0.0}, 'categorical_encoding': {'default': 'AUTO', 'actual': 'AUTO'}, 'calibrate_model': {'default': False, 'actual': False}, 'calibration_frame': {'default': None, 'actual': None}, 'custom_metric_func': {'default': None, 'actual': None}, 'export_checkpoints_dir': {'default': None, 'actual': None}, 'monotone_constraints': {'default': None, 'actual': None}, 'check_constant_response': {'default': True, 'actual': True}}, {'model_id': {'default': None, 'actual': {'__meta': {'schema_version': 3, 'schema_name': 'ModelKeyV3', 'schema_type': 'Key<Model>'}, 'name': 'GBM_grid_1_AutoML_20190418_130009_model_5', 'type': 'Key<Model>', 'URL': '/3/Models/GBM_grid_1_AutoML_20190418_130009_model_5'}}, 'training_frame': {'default': None, 'actual': {'__meta': {'schema_version': 3, 'schema_name': 'FrameKeyV3', 'schema_type': 'Key<Frame>'}, 'name': 'automl_training_py_13_sid_a596', 'type': 'Key<Frame>', 'URL': '/3/Frames/automl_training_py_13_sid_a596'}}, 'validation_frame': {'default': None, 'actual': None}, 'nfolds': {'default': 0, 'actual': 5}, 'keep_cross_validation_models': {'default': True, 'actual': False}, 'keep_cross_validation_predictions': {'default': False, 'actual': True}, 'keep_cross_validation_fold_assignment': {'default': False, 'actual': False}, 'score_each_iteration': {'default': False, 'actual': False}, 'score_tree_interval': {'default': 0, 'actual': 5}, 'fold_assignment': {'default': 'AUTO', 'actual': 'Modulo'}, 'fold_column': {'default': None, 'actual': None}, 'response_column': {'default': None, 'actual': {'__meta': {'schema_version': 3, 'schema_name': 'ColSpecifierV3', 'schema_type': 'VecSpecifier'}, 'column_name': 'ACTION', 'is_member_of_frames': None}}, 'ignored_columns': {'default': None, 'actual': []}, 'ignore_const_cols': {'default': True, 'actual': True}, 'offset_column': {'default': None, 'actual': None}, 'weights_column': {'default': None, 'actual': None}, 'balance_classes': {'default': False, 'actual': False}, 'class_sampling_factors': {'default': None, 'actual': None}, 'max_after_balance_size': {'default': 5.0, 'actual': 5.0}, 'max_confusion_matrix_size': {'default': 20, 'actual': 20}, 'max_hit_ratio_k': {'default': 0, 'actual': 0}, 'ntrees': {'default': 50, 'actual': 92}, 'max_depth': {'default': 5, 'actual': 4}, 'min_rows': {'default': 10.0, 'actual': 5.0}, 'nbins': {'default': 20, 'actual': 20}, 'nbins_top_level': {'default': 1024, 'actual': 1024}, 'nbins_cats': {'default': 1024, 'actual': 1024}, 'r2_stopping': {'default': 1.7976931348623157e+308, 'actual': 1.7976931348623157e+308}, 'stopping_rounds': {'default': 0, 'actual': 0}, 'stopping_metric': {'default': 'AUTO', 'actual': 'logloss'}, 'stopping_tolerance': {'default': 0.001, 'actual': 0.005524187436252161}, 'max_runtime_secs': {'default': 0.0, 'actual': 0.0}, 'seed': {'default': -1, 'actual': 1212546225541595968}, 'build_tree_one_node': {'default': False, 'actual': False}, 'learn_rate': {'default': 0.1, 'actual': 0.5}, 'learn_rate_annealing': {'default': 1.0, 'actual': 1.0}, 'distribution': {'default': 'AUTO', 'actual': 'bernoulli'}, 'quantile_alpha': {'default': 0.5, 'actual': 0.5}, 'tweedie_power': {'default': 1.5, 'actual': 1.5}, 'huber_alpha': {'default': 0.9, 'actual': 0.9}, 'checkpoint': {'default': None, 'actual': None}, 'sample_rate': {'default': 1.0, 'actual': 1.0}, 'sample_rate_per_class': {'default': None, 'actual': None}, 'col_sample_rate': {'default': 1.0, 'actual': 1.0}, 'col_sample_rate_change_per_level': {'default': 1.0, 'actual': 1.0}, 'col_sample_rate_per_tree': {'default': 1.0, 'actual': 0.7}, 'min_split_improvement': {'default': 1e-05, 'actual': 1e-05}, 'histogram_type': {'default': 'AUTO', 'actual': 'AUTO'}, 'max_abs_leafnode_pred': {'default': 1.7976931348623157e+308, 'actual': 1.7976931348623157e+308}, 'pred_noise_bandwidth': {'default': 0.0, 'actual': 0.0}, 'categorical_encoding': {'default': 'AUTO', 'actual': 'AUTO'}, 'calibrate_model': {'default': False, 'actual': False}, 'calibration_frame': {'default': None, 'actual': None}, 'custom_metric_func': {'default': None, 'actual': None}, 'export_checkpoints_dir': {'default': None, 'actual': None}, 'monotone_constraints': {'default': None, 'actual': None}, 'check_constant_response': {'default': True, 'actual': True}}, {'model_id': {'default': None, 'actual': {'__meta': {'schema_version': 3, 'schema_name': 'ModelKeyV3', 'schema_type': 'Key<Model>'}, 'name': 'GBM_grid_1_AutoML_20190418_130009_model_8', 'type': 'Key<Model>', 'URL': '/3/Models/GBM_grid_1_AutoML_20190418_130009_model_8'}}, 'training_frame': {'default': None, 'actual': {'__meta': {'schema_version': 3, 'schema_name': 'FrameKeyV3', 'schema_type': 'Key<Frame>'}, 'name': 'automl_training_py_13_sid_a596', 'type': 'Key<Frame>', 'URL': '/3/Frames/automl_training_py_13_sid_a596'}}, 'validation_frame': {'default': None, 'actual': None}, 'nfolds': {'default': 0, 'actual': 5}, 'keep_cross_validation_models': {'default': True, 'actual': False}, 'keep_cross_validation_predictions': {'default': False, 'actual': True}, 'keep_cross_validation_fold_assignment': {'default': False, 'actual': False}, 'score_each_iteration': {'default': False, 'actual': False}, 'score_tree_interval': {'default': 0, 'actual': 5}, 'fold_assignment': {'default': 'AUTO', 'actual': 'Modulo'}, 'fold_column': {'default': None, 'actual': None}, 'response_column': {'default': None, 'actual': {'__meta': {'schema_version': 3, 'schema_name': 'ColSpecifierV3', 'schema_type': 'VecSpecifier'}, 'column_name': 'ACTION', 'is_member_of_frames': None}}, 'ignored_columns': {'default': None, 'actual': []}, 'ignore_const_cols': {'default': True, 'actual': True}, 'offset_column': {'default': None, 'actual': None}, 'weights_column': {'default': None, 'actual': None}, 'balance_classes': {'default': False, 'actual': False}, 'class_sampling_factors': {'default': None, 'actual': None}, 'max_after_balance_size': {'default': 5.0, 'actual': 5.0}, 'max_confusion_matrix_size': {'default': 20, 'actual': 20}, 'max_hit_ratio_k': {'default': 0, 'actual': 0}, 'ntrees': {'default': 50, 'actual': 3}, 'max_depth': {'default': 5, 'actual': 9}, 'min_rows': {'default': 10.0, 'actual': 10.0}, 'nbins': {'default': 20, 'actual': 20}, 'nbins_top_level': {'default': 1024, 'actual': 1024}, 'nbins_cats': {'default': 1024, 'actual': 1024}, 'r2_stopping': {'default': 1.7976931348623157e+308, 'actual': 1.7976931348623157e+308}, 'stopping_rounds': {'default': 0, 'actual': 0}, 'stopping_metric': {'default': 'AUTO', 'actual': 'logloss'}, 'stopping_tolerance': {'default': 0.001, 'actual': 0.005524187436252161}, 'max_runtime_secs': {'default': 0.0, 'actual': 0.0}, 'seed': {'default': -1, 'actual': 343787196379615449}, 'build_tree_one_node': {'default': False, 'actual': False}, 'learn_rate': {'default': 0.1, 'actual': 0.08}, 'learn_rate_annealing': {'default': 1.0, 'actual': 1.0}, 'distribution': {'default': 'AUTO', 'actual': 'bernoulli'}, 'quantile_alpha': {'default': 0.5, 'actual': 0.5}, 'tweedie_power': {'default': 1.5, 'actual': 1.5}, 'huber_alpha': {'default': 0.9, 'actual': 0.9}, 'checkpoint': {'default': None, 'actual': None}, 'sample_rate': {'default': 1.0, 'actual': 0.5}, 'sample_rate_per_class': {'default': None, 'actual': None}, 'col_sample_rate': {'default': 1.0, 'actual': 0.7}, 'col_sample_rate_change_per_level': {'default': 1.0, 'actual': 1.0}, 'col_sample_rate_per_tree': {'default': 1.0, 'actual': 1.0}, 'min_split_improvement': {'default': 1e-05, 'actual': 1e-05}, 'histogram_type': {'default': 'AUTO', 'actual': 'AUTO'}, 'max_abs_leafnode_pred': {'default': 1.7976931348623157e+308, 'actual': 1.7976931348623157e+308}, 'pred_noise_bandwidth': {'default': 0.0, 'actual': 0.0}, 'categorical_encoding': {'default': 'AUTO', 'actual': 'AUTO'}, 'calibrate_model': {'default': False, 'actual': False}, 'calibration_frame': {'default': None, 'actual': None}, 'custom_metric_func': {'default': None, 'actual': None}, 'export_checkpoints_dir': {'default': None, 'actual': None}, 'monotone_constraints': {'default': None, 'actual': None}, 'check_constant_response': {'default': True, 'actual': True}}, {'model_id': {'default': None, 'actual': {'__meta': {'schema_version': 3, 'schema_name': 'ModelKeyV3', 'schema_type': 'Key<Model>'}, 'name': 'GBM_grid_1_AutoML_20190418_130009_model_3', 'type': 'Key<Model>', 'URL': '/3/Models/GBM_grid_1_AutoML_20190418_130009_model_3'}}, 'training_frame': {'default': None, 'actual': {'__meta': {'schema_version': 3, 'schema_name': 'FrameKeyV3', 'schema_type': 'Key<Frame>'}, 'name': 'automl_training_py_13_sid_a596', 'type': 'Key<Frame>', 'URL': '/3/Frames/automl_training_py_13_sid_a596'}}, 'validation_frame': {'default': None, 'actual': None}, 'nfolds': {'default': 0, 'actual': 5}, 'keep_cross_validation_models': {'default': True, 'actual': False}, 'keep_cross_validation_predictions': {'default': False, 'actual': True}, 'keep_cross_validation_fold_assignment': {'default': False, 'actual': False}, 'score_each_iteration': {'default': False, 'actual': False}, 'score_tree_interval': {'default': 0, 'actual': 5}, 'fold_assignment': {'default': 'AUTO', 'actual': 'Modulo'}, 'fold_column': {'default': None, 'actual': None}, 'response_column': {'default': None, 'actual': {'__meta': {'schema_version': 3, 'schema_name': 'ColSpecifierV3', 'schema_type': 'VecSpecifier'}, 'column_name': 'ACTION', 'is_member_of_frames': None}}, 'ignored_columns': {'default': None, 'actual': []}, 'ignore_const_cols': {'default': True, 'actual': True}, 'offset_column': {'default': None, 'actual': None}, 'weights_column': {'default': None, 'actual': None}, 'balance_classes': {'default': False, 'actual': False}, 'class_sampling_factors': {'default': None, 'actual': None}, 'max_after_balance_size': {'default': 5.0, 'actual': 5.0}, 'max_confusion_matrix_size': {'default': 20, 'actual': 20}, 'max_hit_ratio_k': {'default': 0, 'actual': 0}, 'ntrees': {'default': 50, 'actual': 57}, 'max_depth': {'default': 5, 'actual': 4}, 'min_rows': {'default': 10.0, 'actual': 100.0}, 'nbins': {'default': 20, 'actual': 20}, 'nbins_top_level': {'default': 1024, 'actual': 1024}, 'nbins_cats': {'default': 1024, 'actual': 1024}, 'r2_stopping': {'default': 1.7976931348623157e+308, 'actual': 1.7976931348623157e+308}, 'stopping_rounds': {'default': 0, 'actual': 0}, 'stopping_metric': {'default': 'AUTO', 'actual': 'logloss'}, 'stopping_tolerance': {'default': 0.001, 'actual': 0.005524187436252161}, 'max_runtime_secs': {'default': 0.0, 'actual': 0.0}, 'seed': {'default': -1, 'actual': 8998269311801394772}, 'build_tree_one_node': {'default': False, 'actual': False}, 'learn_rate': {'default': 0.1, 'actual': 0.01}, 'learn_rate_annealing': {'default': 1.0, 'actual': 1.0}, 'distribution': {'default': 'AUTO', 'actual': 'bernoulli'}, 'quantile_alpha': {'default': 0.5, 'actual': 0.5}, 'tweedie_power': {'default': 1.5, 'actual': 1.5}, 'huber_alpha': {'default': 0.9, 'actual': 0.9}, 'checkpoint': {'default': None, 'actual': None}, 'sample_rate': {'default': 1.0, 'actual': 0.5}, 'sample_rate_per_class': {'default': None, 'actual': None}, 'col_sample_rate': {'default': 1.0, 'actual': 0.7}, 'col_sample_rate_change_per_level': {'default': 1.0, 'actual': 1.0}, 'col_sample_rate_per_tree': {'default': 1.0, 'actual': 0.7}, 'min_split_improvement': {'default': 1e-05, 'actual': 0.0001}, 'histogram_type': {'default': 'AUTO', 'actual': 'AUTO'}, 'max_abs_leafnode_pred': {'default': 1.7976931348623157e+308, 'actual': 1.7976931348623157e+308}, 'pred_noise_bandwidth': {'default': 0.0, 'actual': 0.0}, 'categorical_encoding': {'default': 'AUTO', 'actual': 'AUTO'}, 'calibrate_model': {'default': False, 'actual': False}, 'calibration_frame': {'default': None, 'actual': None}, 'custom_metric_func': {'default': None, 'actual': None}, 'export_checkpoints_dir': {'default': None, 'actual': None}, 'monotone_constraints': {'default': None, 'actual': None}, 'check_constant_response': {'default': True, 'actual': True}}, {'model_id': {'default': None, 'actual': {'__meta': {'schema_version': 3, 'schema_name': 'ModelKeyV3', 'schema_type': 'Key<Model>'}, 'name': 'GBM_grid_1_AutoML_20190418_130009_model_4', 'type': 'Key<Model>', 'URL': '/3/Models/GBM_grid_1_AutoML_20190418_130009_model_4'}}, 'training_frame': {'default': None, 'actual': {'__meta': {'schema_version': 3, 'schema_name': 'FrameKeyV3', 'schema_type': 'Key<Frame>'}, 'name': 'automl_training_py_13_sid_a596', 'type': 'Key<Frame>', 'URL': '/3/Frames/automl_training_py_13_sid_a596'}}, 'validation_frame': {'default': None, 'actual': None}, 'nfolds': {'default': 0, 'actual': 5}, 'keep_cross_validation_models': {'default': True, 'actual': False}, 'keep_cross_validation_predictions': {'default': False, 'actual': True}, 'keep_cross_validation_fold_assignment': {'default': False, 'actual': False}, 'score_each_iteration': {'default': False, 'actual': False}, 'score_tree_interval': {'default': 0, 'actual': 5}, 'fold_assignment': {'default': 'AUTO', 'actual': 'Modulo'}, 'fold_column': {'default': None, 'actual': None}, 'response_column': {'default': None, 'actual': {'__meta': {'schema_version': 3, 'schema_name': 'ColSpecifierV3', 'schema_type': 'VecSpecifier'}, 'column_name': 'ACTION', 'is_member_of_frames': None}}, 'ignored_columns': {'default': None, 'actual': []}, 'ignore_const_cols': {'default': True, 'actual': True}, 'offset_column': {'default': None, 'actual': None}, 'weights_column': {'default': None, 'actual': None}, 'balance_classes': {'default': False, 'actual': False}, 'class_sampling_factors': {'default': None, 'actual': None}, 'max_after_balance_size': {'default': 5.0, 'actual': 5.0}, 'max_confusion_matrix_size': {'default': 20, 'actual': 20}, 'max_hit_ratio_k': {'default': 0, 'actual': 0}, 'ntrees': {'default': 50, 'actual': 30}, 'max_depth': {'default': 5, 'actual': 7}, 'min_rows': {'default': 10.0, 'actual': 1.0}, 'nbins': {'default': 20, 'actual': 20}, 'nbins_top_level': {'default': 1024, 'actual': 1024}, 'nbins_cats': {'default': 1024, 'actual': 1024}, 'r2_stopping': {'default': 1.7976931348623157e+308, 'actual': 1.7976931348623157e+308}, 'stopping_rounds': {'default': 0, 'actual': 0}, 'stopping_metric': {'default': 'AUTO', 'actual': 'logloss'}, 'stopping_tolerance': {'default': 0.001, 'actual': 0.005524187436252161}, 'max_runtime_secs': {'default': 0.0, 'actual': 0.0}, 'seed': {'default': -1, 'actual': 5606842307812197380}, 'build_tree_one_node': {'default': False, 'actual': False}, 'learn_rate': {'default': 0.1, 'actual': 0.001}, 'learn_rate_annealing': {'default': 1.0, 'actual': 1.0}, 'distribution': {'default': 'AUTO', 'actual': 'bernoulli'}, 'quantile_alpha': {'default': 0.5, 'actual': 0.5}, 'tweedie_power': {'default': 1.5, 'actual': 1.5}, 'huber_alpha': {'default': 0.9, 'actual': 0.9}, 'checkpoint': {'default': None, 'actual': None}, 'sample_rate': {'default': 1.0, 'actual': 0.9}, 'sample_rate_per_class': {'default': None, 'actual': None}, 'col_sample_rate': {'default': 1.0, 'actual': 0.7}, 'col_sample_rate_change_per_level': {'default': 1.0, 'actual': 1.0}, 'col_sample_rate_per_tree': {'default': 1.0, 'actual': 1.0}, 'min_split_improvement': {'default': 1e-05, 'actual': 1e-05}, 'histogram_type': {'default': 'AUTO', 'actual': 'AUTO'}, 'max_abs_leafnode_pred': {'default': 1.7976931348623157e+308, 'actual': 1.7976931348623157e+308}, 'pred_noise_bandwidth': {'default': 0.0, 'actual': 0.0}, 'categorical_encoding': {'default': 'AUTO', 'actual': 'AUTO'}, 'calibrate_model': {'default': False, 'actual': False}, 'calibration_frame': {'default': None, 'actual': None}, 'custom_metric_func': {'default': None, 'actual': None}, 'export_checkpoints_dir': {'default': None, 'actual': None}, 'monotone_constraints': {'default': None, 'actual': None}, 'check_constant_response': {'default': True, 'actual': True}}, {'model_id': {'default': None, 'actual': {'__meta': {'schema_version': 3, 'schema_name': 'ModelKeyV3', 'schema_type': 'Key<Model>'}, 'name': 'GBM_grid_1_AutoML_20190418_130009_model_7', 'type': 'Key<Model>', 'URL': '/3/Models/GBM_grid_1_AutoML_20190418_130009_model_7'}}, 'training_frame': {'default': None, 'actual': {'__meta': {'schema_version': 3, 'schema_name': 'FrameKeyV3', 'schema_type': 'Key<Frame>'}, 'name': 'automl_training_py_13_sid_a596', 'type': 'Key<Frame>', 'URL': '/3/Frames/automl_training_py_13_sid_a596'}}, 'validation_frame': {'default': None, 'actual': None}, 'nfolds': {'default': 0, 'actual': 5}, 'keep_cross_validation_models': {'default': True, 'actual': False}, 'keep_cross_validation_predictions': {'default': False, 'actual': True}, 'keep_cross_validation_fold_assignment': {'default': False, 'actual': False}, 'score_each_iteration': {'default': False, 'actual': False}, 'score_tree_interval': {'default': 0, 'actual': 5}, 'fold_assignment': {'default': 'AUTO', 'actual': 'Modulo'}, 'fold_column': {'default': None, 'actual': None}, 'response_column': {'default': None, 'actual': {'__meta': {'schema_version': 3, 'schema_name': 'ColSpecifierV3', 'schema_type': 'VecSpecifier'}, 'column_name': 'ACTION', 'is_member_of_frames': None}}, 'ignored_columns': {'default': None, 'actual': []}, 'ignore_const_cols': {'default': True, 'actual': True}, 'offset_column': {'default': None, 'actual': None}, 'weights_column': {'default': None, 'actual': None}, 'balance_classes': {'default': False, 'actual': False}, 'class_sampling_factors': {'default': None, 'actual': None}, 'max_after_balance_size': {'default': 5.0, 'actual': 5.0}, 'max_confusion_matrix_size': {'default': 20, 'actual': 20}, 'max_hit_ratio_k': {'default': 0, 'actual': 0}, 'ntrees': {'default': 50, 'actual': 30}, 'max_depth': {'default': 5, 'actual': 6}, 'min_rows': {'default': 10.0, 'actual': 15.0}, 'nbins': {'default': 20, 'actual': 20}, 'nbins_top_level': {'default': 1024, 'actual': 1024}, 'nbins_cats': {'default': 1024, 'actual': 1024}, 'r2_stopping': {'default': 1.7976931348623157e+308, 'actual': 1.7976931348623157e+308}, 'stopping_rounds': {'default': 0, 'actual': 0}, 'stopping_metric': {'default': 'AUTO', 'actual': 'logloss'}, 'stopping_tolerance': {'default': 0.001, 'actual': 0.005524187436252161}, 'max_runtime_secs': {'default': 0.0, 'actual': 0.0}, 'seed': {'default': -1, 'actual': 5120800706462170407}, 'build_tree_one_node': {'default': False, 'actual': False}, 'learn_rate': {'default': 0.1, 'actual': 0.001}, 'learn_rate_annealing': {'default': 1.0, 'actual': 1.0}, 'distribution': {'default': 'AUTO', 'actual': 'bernoulli'}, 'quantile_alpha': {'default': 0.5, 'actual': 0.5}, 'tweedie_power': {'default': 1.5, 'actual': 1.5}, 'huber_alpha': {'default': 0.9, 'actual': 0.9}, 'checkpoint': {'default': None, 'actual': None}, 'sample_rate': {'default': 1.0, 'actual': 0.6}, 'sample_rate_per_class': {'default': None, 'actual': None}, 'col_sample_rate': {'default': 1.0, 'actual': 0.7}, 'col_sample_rate_change_per_level': {'default': 1.0, 'actual': 1.0}, 'col_sample_rate_per_tree': {'default': 1.0, 'actual': 0.4}, 'min_split_improvement': {'default': 1e-05, 'actual': 0.0001}, 'histogram_type': {'default': 'AUTO', 'actual': 'AUTO'}, 'max_abs_leafnode_pred': {'default': 1.7976931348623157e+308, 'actual': 1.7976931348623157e+308}, 'pred_noise_bandwidth': {'default': 0.0, 'actual': 0.0}, 'categorical_encoding': {'default': 'AUTO', 'actual': 'AUTO'}, 'calibrate_model': {'default': False, 'actual': False}, 'calibration_frame': {'default': None, 'actual': None}, 'custom_metric_func': {'default': None, 'actual': None}, 'export_checkpoints_dir': {'default': None, 'actual': None}, 'monotone_constraints': {'default': None, 'actual': None}, 'check_constant_response': {'default': True, 'actual': True}}, {'model_id': {'default': None, 'actual': {'__meta': {'schema_version': 3, 'schema_name': 'ModelKeyV3', 'schema_type': 'Key<Model>'}, 'name': 'DeepLearning_1_AutoML_20190418_130009', 'type': 'Key<Model>', 'URL': '/3/Models/DeepLearning_1_AutoML_20190418_130009'}}, 'training_frame': {'default': None, 'actual': {'__meta': {'schema_version': 3, 'schema_name': 'FrameKeyV3', 'schema_type': 'Key<Frame>'}, 'name': 'automl_training_py_13_sid_a596', 'type': 'Key<Frame>', 'URL': '/3/Frames/automl_training_py_13_sid_a596'}}, 'validation_frame': {'default': None, 'actual': None}, 'nfolds': {'default': 0, 'actual': 5}, 'keep_cross_validation_models': {'default': True, 'actual': False}, 'keep_cross_validation_predictions': {'default': False, 'actual': True}, 'keep_cross_validation_fold_assignment': {'default': False, 'actual': False}, 'fold_assignment': {'default': 'AUTO', 'actual': 'Modulo'}, 'fold_column': {'default': None, 'actual': None}, 'response_column': {'default': None, 'actual': {'__meta': {'schema_version': 3, 'schema_name': 'ColSpecifierV3', 'schema_type': 'VecSpecifier'}, 'column_name': 'ACTION', 'is_member_of_frames': None}}, 'ignored_columns': {'default': None, 'actual': []}, 'ignore_const_cols': {'default': True, 'actual': True}, 'score_each_iteration': {'default': False, 'actual': False}, 'weights_column': {'default': None, 'actual': None}, 'offset_column': {'default': None, 'actual': None}, 'balance_classes': {'default': False, 'actual': False}, 'class_sampling_factors': {'default': None, 'actual': None}, 'max_after_balance_size': {'default': 5.0, 'actual': 5.0}, 'max_confusion_matrix_size': {'default': 20, 'actual': 20}, 'max_hit_ratio_k': {'default': 0, 'actual': 0}, 'checkpoint': {'default': None, 'actual': None}, 'pretrained_autoencoder': {'default': None, 'actual': None}, 'overwrite_with_best_model': {'default': True, 'actual': False}, 'use_all_factor_levels': {'default': True, 'actual': True}, 'standardize': {'default': True, 'actual': True}, 'activation': {'default': 'Rectifier', 'actual': 'Rectifier'}, 'hidden': {'default': [200, 200], 'actual': [10, 10, 10]}, 'epochs': {'default': 10.0, 'actual': 10.396327416749514}, 'train_samples_per_iteration': {'default': -2, 'actual': -2}, 'target_ratio_comm_to_comp': {'default': 0.05, 'actual': 0.05}, 'seed': {'default': -1, 'actual': 3427597261857046783}, 'adaptive_rate': {'default': True, 'actual': True}, 'rho': {'default': 0.99, 'actual': 0.99}, 'epsilon': {'default': 1e-08, 'actual': 1e-08}, 'rate': {'default': 0.005, 'actual': 0.005}, 'rate_annealing': {'default': 1e-06, 'actual': 1e-06}, 'rate_decay': {'default': 1.0, 'actual': 1.0}, 'momentum_start': {'default': 0.0, 'actual': 0.0}, 'momentum_ramp': {'default': 1000000.0, 'actual': 1000000.0}, 'momentum_stable': {'default': 0.0, 'actual': 0.0}, 'nesterov_accelerated_gradient': {'default': True, 'actual': True}, 'input_dropout_ratio': {'default': 0.0, 'actual': 0.0}, 'hidden_dropout_ratios': {'default': None, 'actual': None}, 'l1': {'default': 0.0, 'actual': 0.0}, 'l2': {'default': 0.0, 'actual': 0.0}, 'max_w2': {'default': 3.4028235e+38, 'actual': 3.4028235e+38}, 'initial_weight_distribution': {'default': 'UniformAdaptive', 'actual': 'UniformAdaptive'}, 'initial_weight_scale': {'default': 1.0, 'actual': 1.0}, 'initial_weights': {'default': None, 'actual': None}, 'initial_biases': {'default': None, 'actual': None}, 'loss': {'default': 'Automatic', 'actual': 'Automatic'}, 'distribution': {'default': 'AUTO', 'actual': 'AUTO'}, 'quantile_alpha': {'default': 0.5, 'actual': 0.5}, 'tweedie_power': {'default': 1.5, 'actual': 1.5}, 'huber_alpha': {'default': 0.9, 'actual': 0.9}, 'score_interval': {'default': 5.0, 'actual': 5.0}, 'score_training_samples': {'default': 10000, 'actual': 10000}, 'score_validation_samples': {'default': 0, 'actual': 0}, 'score_duty_cycle': {'default': 0.1, 'actual': 0.1}, 'classification_stop': {'default': 0.0, 'actual': 0.0}, 'regression_stop': {'default': 1e-06, 'actual': 1e-06}, 'stopping_rounds': {'default': 5, 'actual': 0}, 'stopping_metric': {'default': 'AUTO', 'actual': 'logloss'}, 'stopping_tolerance': {'default': 0.0, 'actual': 0.005524187436252161}, 'max_runtime_secs': {'default': 0.0, 'actual': 0.0}, 'score_validation_sampling': {'default': 'Uniform', 'actual': 'Uniform'}, 'diagnostics': {'default': True, 'actual': True}, 'fast_mode': {'default': True, 'actual': True}, 'force_load_balance': {'default': True, 'actual': True}, 'variable_importances': {'default': True, 'actual': True}, 'replicate_training_data': {'default': True, 'actual': True}, 'single_node_mode': {'default': False, 'actual': False}, 'shuffle_training_data': {'default': False, 'actual': False}, 'missing_values_handling': {'default': 'MeanImputation', 'actual': 'MeanImputation'}, 'quiet_mode': {'default': False, 'actual': False}, 'autoencoder': {'default': False, 'actual': False}, 'sparse': {'default': False, 'actual': False}, 'col_major': {'default': False, 'actual': False}, 'average_activation': {'default': 0.0, 'actual': 0.0}, 'sparsity_beta': {'default': 0.0, 'actual': 0.0}, 'max_categorical_features': {'default': 2147483647, 'actual': 2147483647}, 'reproducible': {'default': False, 'actual': False}, 'export_weights_and_biases': {'default': False, 'actual': False}, 'mini_batch_size': {'default': 1, 'actual': 1}, 'categorical_encoding': {'default': 'AUTO', 'actual': 'AUTO'}, 'elastic_averaging': {'default': False, 'actual': False}, 'elastic_averaging_moving_rate': {'default': 0.9, 'actual': 0.9}, 'elastic_averaging_regularization': {'default': 0.001, 'actual': 0.001}, 'export_checkpoints_dir': {'default': None, 'actual': None}}, {'model_id': {'default': None, 'actual': {'__meta': {'schema_version': 3, 'schema_name': 'ModelKeyV3', 'schema_type': 'Key<Model>'}, 'name': 'DeepLearning_grid_1_AutoML_20190418_130009_model_1', 'type': 'Key<Model>', 'URL': '/3/Models/DeepLearning_grid_1_AutoML_20190418_130009_model_1'}}, 'training_frame': {'default': None, 'actual': {'__meta': {'schema_version': 3, 'schema_name': 'FrameKeyV3', 'schema_type': 'Key<Frame>'}, 'name': 'automl_training_py_13_sid_a596', 'type': 'Key<Frame>', 'URL': '/3/Frames/automl_training_py_13_sid_a596'}}, 'validation_frame': {'default': None, 'actual': None}, 'nfolds': {'default': 0, 'actual': 5}, 'keep_cross_validation_models': {'default': True, 'actual': False}, 'keep_cross_validation_predictions': {'default': False, 'actual': True}, 'keep_cross_validation_fold_assignment': {'default': False, 'actual': False}, 'fold_assignment': {'default': 'AUTO', 'actual': 'Modulo'}, 'fold_column': {'default': None, 'actual': None}, 'response_column': {'default': None, 'actual': {'__meta': {'schema_version': 3, 'schema_name': 'ColSpecifierV3', 'schema_type': 'VecSpecifier'}, 'column_name': 'ACTION', 'is_member_of_frames': None}}, 'ignored_columns': {'default': None, 'actual': []}, 'ignore_const_cols': {'default': True, 'actual': True}, 'score_each_iteration': {'default': False, 'actual': False}, 'weights_column': {'default': None, 'actual': None}, 'offset_column': {'default': None, 'actual': None}, 'balance_classes': {'default': False, 'actual': False}, 'class_sampling_factors': {'default': None, 'actual': None}, 'max_after_balance_size': {'default': 5.0, 'actual': 5.0}, 'max_confusion_matrix_size': {'default': 20, 'actual': 20}, 'max_hit_ratio_k': {'default': 0, 'actual': 0}, 'checkpoint': {'default': None, 'actual': None}, 'pretrained_autoencoder': {'default': None, 'actual': None}, 'overwrite_with_best_model': {'default': True, 'actual': False}, 'use_all_factor_levels': {'default': True, 'actual': True}, 'standardize': {'default': True, 'actual': True}, 'activation': {'default': 'Rectifier', 'actual': 'RectifierWithDropout'}, 'hidden': {'default': [200, 200], 'actual': [200]}, 'epochs': {'default': 10.0, 'actual': 10.373914054928637}, 'train_samples_per_iteration': {'default': -2, 'actual': -2}, 'target_ratio_comm_to_comp': {'default': 0.05, 'actual': 0.05}, 'seed': {'default': -1, 'actual': -6696059720846770332}, 'adaptive_rate': {'default': True, 'actual': True}, 'rho': {'default': 0.99, 'actual': 0.9}, 'epsilon': {'default': 1e-08, 'actual': 1e-09}, 'rate': {'default': 0.005, 'actual': 0.005}, 'rate_annealing': {'default': 1e-06, 'actual': 1e-06}, 'rate_decay': {'default': 1.0, 'actual': 1.0}, 'momentum_start': {'default': 0.0, 'actual': 0.0}, 'momentum_ramp': {'default': 1000000.0, 'actual': 1000000.0}, 'momentum_stable': {'default': 0.0, 'actual': 0.0}, 'nesterov_accelerated_gradient': {'default': True, 'actual': True}, 'input_dropout_ratio': {'default': 0.0, 'actual': 0.2}, 'hidden_dropout_ratios': {'default': None, 'actual': [0.2]}, 'l1': {'default': 0.0, 'actual': 0.0}, 'l2': {'default': 0.0, 'actual': 0.0}, 'max_w2': {'default': 3.4028235e+38, 'actual': 3.4028235e+38}, 'initial_weight_distribution': {'default': 'UniformAdaptive', 'actual': 'UniformAdaptive'}, 'initial_weight_scale': {'default': 1.0, 'actual': 1.0}, 'initial_weights': {'default': None, 'actual': None}, 'initial_biases': {'default': None, 'actual': None}, 'loss': {'default': 'Automatic', 'actual': 'Automatic'}, 'distribution': {'default': 'AUTO', 'actual': 'AUTO'}, 'quantile_alpha': {'default': 0.5, 'actual': 0.5}, 'tweedie_power': {'default': 1.5, 'actual': 1.5}, 'huber_alpha': {'default': 0.9, 'actual': 0.9}, 'score_interval': {'default': 5.0, 'actual': 5.0}, 'score_training_samples': {'default': 10000, 'actual': 10000}, 'score_validation_samples': {'default': 0, 'actual': 0}, 'score_duty_cycle': {'default': 0.1, 'actual': 0.1}, 'classification_stop': {'default': 0.0, 'actual': 0.0}, 'regression_stop': {'default': 1e-06, 'actual': 1e-06}, 'stopping_rounds': {'default': 5, 'actual': 0}, 'stopping_metric': {'default': 'AUTO', 'actual': 'logloss'}, 'stopping_tolerance': {'default': 0.0, 'actual': 0.005524187436252161}, 'max_runtime_secs': {'default': 0.0, 'actual': 0.0}, 'score_validation_sampling': {'default': 'Uniform', 'actual': 'Uniform'}, 'diagnostics': {'default': True, 'actual': True}, 'fast_mode': {'default': True, 'actual': True}, 'force_load_balance': {'default': True, 'actual': True}, 'variable_importances': {'default': True, 'actual': True}, 'replicate_training_data': {'default': True, 'actual': True}, 'single_node_mode': {'default': False, 'actual': False}, 'shuffle_training_data': {'default': False, 'actual': False}, 'missing_values_handling': {'default': 'MeanImputation', 'actual': 'MeanImputation'}, 'quiet_mode': {'default': False, 'actual': False}, 'autoencoder': {'default': False, 'actual': False}, 'sparse': {'default': False, 'actual': False}, 'col_major': {'default': False, 'actual': False}, 'average_activation': {'default': 0.0, 'actual': 0.0}, 'sparsity_beta': {'default': 0.0, 'actual': 0.0}, 'max_categorical_features': {'default': 2147483647, 'actual': 2147483647}, 'reproducible': {'default': False, 'actual': False}, 'export_weights_and_biases': {'default': False, 'actual': False}, 'mini_batch_size': {'default': 1, 'actual': 1}, 'categorical_encoding': {'default': 'AUTO', 'actual': 'AUTO'}, 'elastic_averaging': {'default': False, 'actual': False}, 'elastic_averaging_moving_rate': {'default': 0.9, 'actual': 0.9}, 'elastic_averaging_regularization': {'default': 0.001, 'actual': 0.001}, 'export_checkpoints_dir': {'default': None, 'actual': None}}, {'model_id': {'default': None, 'actual': {'__meta': {'schema_version': 3, 'schema_name': 'ModelKeyV3', 'schema_type': 'Key<Model>'}, 'name': 'DeepLearning_grid_1_AutoML_20190418_130009_model_2', 'type': 'Key<Model>', 'URL': '/3/Models/DeepLearning_grid_1_AutoML_20190418_130009_model_2'}}, 'training_frame': {'default': None, 'actual': {'__meta': {'schema_version': 3, 'schema_name': 'FrameKeyV3', 'schema_type': 'Key<Frame>'}, 'name': 'automl_training_py_13_sid_a596', 'type': 'Key<Frame>', 'URL': '/3/Frames/automl_training_py_13_sid_a596'}}, 'validation_frame': {'default': None, 'actual': None}, 'nfolds': {'default': 0, 'actual': 5}, 'keep_cross_validation_models': {'default': True, 'actual': False}, 'keep_cross_validation_predictions': {'default': False, 'actual': True}, 'keep_cross_validation_fold_assignment': {'default': False, 'actual': False}, 'fold_assignment': {'default': 'AUTO', 'actual': 'Modulo'}, 'fold_column': {'default': None, 'actual': None}, 'response_column': {'default': None, 'actual': {'__meta': {'schema_version': 3, 'schema_name': 'ColSpecifierV3', 'schema_type': 'VecSpecifier'}, 'column_name': 'ACTION', 'is_member_of_frames': None}}, 'ignored_columns': {'default': None, 'actual': []}, 'ignore_const_cols': {'default': True, 'actual': True}, 'score_each_iteration': {'default': False, 'actual': False}, 'weights_column': {'default': None, 'actual': None}, 'offset_column': {'default': None, 'actual': None}, 'balance_classes': {'default': False, 'actual': False}, 'class_sampling_factors': {'default': None, 'actual': None}, 'max_after_balance_size': {'default': 5.0, 'actual': 5.0}, 'max_confusion_matrix_size': {'default': 20, 'actual': 20}, 'max_hit_ratio_k': {'default': 0, 'actual': 0}, 'checkpoint': {'default': None, 'actual': None}, 'pretrained_autoencoder': {'default': None, 'actual': None}, 'overwrite_with_best_model': {'default': True, 'actual': False}, 'use_all_factor_levels': {'default': True, 'actual': True}, 'standardize': {'default': True, 'actual': True}, 'activation': {'default': 'Rectifier', 'actual': 'RectifierWithDropout'}, 'hidden': {'default': [200, 200], 'actual': [500, 500]}, 'epochs': {'default': 10.0, 'actual': 0.16836033321322222}, 'train_samples_per_iteration': {'default': -2, 'actual': -2}, 'target_ratio_comm_to_comp': {'default': 0.05, 'actual': 0.05}, 'seed': {'default': -1, 'actual': 3073198454111402423}, 'adaptive_rate': {'default': True, 'actual': True}, 'rho': {'default': 0.99, 'actual': 0.99}, 'epsilon': {'default': 1e-08, 'actual': 1e-07}, 'rate': {'default': 0.005, 'actual': 0.005}, 'rate_annealing': {'default': 1e-06, 'actual': 1e-06}, 'rate_decay': {'default': 1.0, 'actual': 1.0}, 'momentum_start': {'default': 0.0, 'actual': 0.0}, 'momentum_ramp': {'default': 1000000.0, 'actual': 1000000.0}, 'momentum_stable': {'default': 0.0, 'actual': 0.0}, 'nesterov_accelerated_gradient': {'default': True, 'actual': True}, 'input_dropout_ratio': {'default': 0.0, 'actual': 0.2}, 'hidden_dropout_ratios': {'default': None, 'actual': [0.3, 0.3]}, 'l1': {'default': 0.0, 'actual': 0.0}, 'l2': {'default': 0.0, 'actual': 0.0}, 'max_w2': {'default': 3.4028235e+38, 'actual': 3.4028235e+38}, 'initial_weight_distribution': {'default': 'UniformAdaptive', 'actual': 'UniformAdaptive'}, 'initial_weight_scale': {'default': 1.0, 'actual': 1.0}, 'initial_weights': {'default': None, 'actual': None}, 'initial_biases': {'default': None, 'actual': None}, 'loss': {'default': 'Automatic', 'actual': 'Automatic'}, 'distribution': {'default': 'AUTO', 'actual': 'AUTO'}, 'quantile_alpha': {'default': 0.5, 'actual': 0.5}, 'tweedie_power': {'default': 1.5, 'actual': 1.5}, 'huber_alpha': {'default': 0.9, 'actual': 0.9}, 'score_interval': {'default': 5.0, 'actual': 5.0}, 'score_training_samples': {'default': 10000, 'actual': 10000}, 'score_validation_samples': {'default': 0, 'actual': 0}, 'score_duty_cycle': {'default': 0.1, 'actual': 0.1}, 'classification_stop': {'default': 0.0, 'actual': 0.0}, 'regression_stop': {'default': 1e-06, 'actual': 1e-06}, 'stopping_rounds': {'default': 5, 'actual': 0}, 'stopping_metric': {'default': 'AUTO', 'actual': 'logloss'}, 'stopping_tolerance': {'default': 0.0, 'actual': 0.005524187436252161}, 'max_runtime_secs': {'default': 0.0, 'actual': 0.0}, 'score_validation_sampling': {'default': 'Uniform', 'actual': 'Uniform'}, 'diagnostics': {'default': True, 'actual': True}, 'fast_mode': {'default': True, 'actual': True}, 'force_load_balance': {'default': True, 'actual': True}, 'variable_importances': {'default': True, 'actual': True}, 'replicate_training_data': {'default': True, 'actual': True}, 'single_node_mode': {'default': False, 'actual': False}, 'shuffle_training_data': {'default': False, 'actual': False}, 'missing_values_handling': {'default': 'MeanImputation', 'actual': 'MeanImputation'}, 'quiet_mode': {'default': False, 'actual': False}, 'autoencoder': {'default': False, 'actual': False}, 'sparse': {'default': False, 'actual': False}, 'col_major': {'default': False, 'actual': False}, 'average_activation': {'default': 0.0, 'actual': 0.0}, 'sparsity_beta': {'default': 0.0, 'actual': 0.0}, 'max_categorical_features': {'default': 2147483647, 'actual': 2147483647}, 'reproducible': {'default': False, 'actual': False}, 'export_weights_and_biases': {'default': False, 'actual': False}, 'mini_batch_size': {'default': 1, 'actual': 1}, 'categorical_encoding': {'default': 'AUTO', 'actual': 'AUTO'}, 'elastic_averaging': {'default': False, 'actual': False}, 'elastic_averaging_moving_rate': {'default': 0.9, 'actual': 0.9}, 'elastic_averaging_regularization': {'default': 0.001, 'actual': 0.001}, 'export_checkpoints_dir': {'default': None, 'actual': None}}, {'model_id': {'default': None, 'actual': {'__meta': {'schema_version': 3, 'schema_name': 'ModelKeyV3', 'schema_type': 'Key<Model>'}, 'name': 'GLM_grid_1_AutoML_20190418_130009_model_1', 'type': 'Key<Model>', 'URL': '/3/Models/GLM_grid_1_AutoML_20190418_130009_model_1'}}, 'training_frame': {'default': None, 'actual': {'__meta': {'schema_version': 3, 'schema_name': 'FrameKeyV3', 'schema_type': 'Key<Frame>'}, 'name': 'automl_training_py_13_sid_a596', 'type': 'Key<Frame>', 'URL': '/3/Frames/automl_training_py_13_sid_a596'}}, 'validation_frame': {'default': None, 'actual': None}, 'nfolds': {'default': 0, 'actual': 5}, 'seed': {'default': -1, 'actual': 7150684335027209933}, 'keep_cross_validation_models': {'default': True, 'actual': False}, 'keep_cross_validation_predictions': {'default': False, 'actual': True}, 'keep_cross_validation_fold_assignment': {'default': False, 'actual': False}, 'fold_assignment': {'default': 'AUTO', 'actual': 'Modulo'}, 'fold_column': {'default': None, 'actual': None}, 'response_column': {'default': None, 'actual': {'__meta': {'schema_version': 3, 'schema_name': 'ColSpecifierV3', 'schema_type': 'VecSpecifier'}, 'column_name': 'ACTION', 'is_member_of_frames': None}}, 'ignored_columns': {'default': None, 'actual': []}, 'ignore_const_cols': {'default': True, 'actual': True}, 'score_each_iteration': {'default': False, 'actual': False}, 'offset_column': {'default': None, 'actual': None}, 'weights_column': {'default': None, 'actual': None}, 'family': {'default': 'gaussian', 'actual': 'binomial'}, 'tweedie_variance_power': {'default': 0.0, 'actual': 0.0}, 'tweedie_link_power': {'default': 1.0, 'actual': 1.0}, 'theta': {'default': 1e-10, 'actual': 1e-10}, 'solver': {'default': 'AUTO', 'actual': 'COORDINATE_DESCENT'}, 'alpha': {'default': None, 'actual': [0.0, 0.2, 0.4, 0.6, 0.8, 1.0]}, 'lambda': {'default': None, 'actual': [0.40044436071981493, 0.24868273229194082, 0.15443618990917896, 0.09590749037478274, 0.05956017637704195, 0.036987878592192616, 0.022970099250379815, 0.014264820791416522, 0.008858695384516653, 0.005501399916841423, 0.003416462552479351, 0.0021216811264277652, 0.0013175999248032143]}, 'lambda_search': {'default': False, 'actual': True}, 'early_stopping': {'default': True, 'actual': True}, 'nlambdas': {'default': -1, 'actual': 30}, 'standardize': {'default': True, 'actual': True}, 'missing_values_handling': {'default': 'MeanImputation', 'actual': 'MeanImputation'}, 'compute_p_values': {'default': False, 'actual': False}, 'remove_collinear_columns': {'default': False, 'actual': False}, 'intercept': {'default': True, 'actual': True}, 'non_negative': {'default': False, 'actual': False}, 'max_iterations': {'default': -1, 'actual': 300}, 'objective_epsilon': {'default': -1.0, 'actual': 0.0001}, 'beta_epsilon': {'default': 0.0001, 'actual': 0.0001}, 'gradient_epsilon': {'default': -1.0, 'actual': 1.0000000000000002e-06}, 'link': {'default': 'family_default', 'actual': 'logit'}, 'prior': {'default': -1.0, 'actual': -1.0}, 'lambda_min_ratio': {'default': -1.0, 'actual': 1.0000000000000002e-06}, 'beta_constraints': {'default': None, 'actual': None}, 'max_active_predictors': {'default': -1, 'actual': 5000}, 'interactions': {'default': None, 'actual': None}, 'interaction_pairs': {'default': None, 'actual': None}, 'obj_reg': {'default': -1.0, 'actual': 3.0516646830846227e-05}, 'export_checkpoints_dir': {'default': None, 'actual': None}, 'balance_classes': {'default': False, 'actual': False}, 'class_sampling_factors': {'default': None, 'actual': None}, 'max_after_balance_size': {'default': 5.0, 'actual': 5.0}, 'max_confusion_matrix_size': {'default': 20, 'actual': 20}, 'max_hit_ratio_k': {'default': 0, 'actual': 0}, 'max_runtime_secs': {'default': 0.0, 'actual': 0.0}, 'custom_metric_func': {'default': None, 'actual': None}}, {'model_id': {'default': None, 'actual': {'__meta': {'schema_version': 3, 'schema_name': 'ModelKeyV3', 'schema_type': 'Key<Model>'}, 'name': 'DeepLearning_grid_1_AutoML_20190418_130009_model_3', 'type': 'Key<Model>', 'URL': '/3/Models/DeepLearning_grid_1_AutoML_20190418_130009_model_3'}}, 'training_frame': {'default': None, 'actual': {'__meta': {'schema_version': 3, 'schema_name': 'FrameKeyV3', 'schema_type': 'Key<Frame>'}, 'name': 'automl_training_py_13_sid_a596', 'type': 'Key<Frame>', 'URL': '/3/Frames/automl_training_py_13_sid_a596'}}, 'validation_frame': {'default': None, 'actual': None}, 'nfolds': {'default': 0, 'actual': 5}, 'keep_cross_validation_models': {'default': True, 'actual': False}, 'keep_cross_validation_predictions': {'default': False, 'actual': True}, 'keep_cross_validation_fold_assignment': {'default': False, 'actual': False}, 'fold_assignment': {'default': 'AUTO', 'actual': 'Modulo'}, 'fold_column': {'default': None, 'actual': None}, 'response_column': {'default': None, 'actual': {'__meta': {'schema_version': 3, 'schema_name': 'ColSpecifierV3', 'schema_type': 'VecSpecifier'}, 'column_name': 'ACTION', 'is_member_of_frames': None}}, 'ignored_columns': {'default': None, 'actual': []}, 'ignore_const_cols': {'default': True, 'actual': True}, 'score_each_iteration': {'default': False, 'actual': False}, 'weights_column': {'default': None, 'actual': None}, 'offset_column': {'default': None, 'actual': None}, 'balance_classes': {'default': False, 'actual': False}, 'class_sampling_factors': {'default': None, 'actual': None}, 'max_after_balance_size': {'default': 5.0, 'actual': 5.0}, 'max_confusion_matrix_size': {'default': 20, 'actual': 20}, 'max_hit_ratio_k': {'default': 0, 'actual': 0}, 'checkpoint': {'default': None, 'actual': None}, 'pretrained_autoencoder': {'default': None, 'actual': None}, 'overwrite_with_best_model': {'default': True, 'actual': False}, 'use_all_factor_levels': {'default': True, 'actual': True}, 'standardize': {'default': True, 'actual': True}, 'activation': {'default': 'Rectifier', 'actual': 'RectifierWithDropout'}, 'hidden': {'default': [200, 200], 'actual': [500, 500, 500]}, 'epochs': {'default': 10.0, 'actual': 0.08501938297956424}, 'train_samples_per_iteration': {'default': -2, 'actual': -2}, 'target_ratio_comm_to_comp': {'default': 0.05, 'actual': 0.05}, 'seed': {'default': -1, 'actual': -49228163442947463}, 'adaptive_rate': {'default': True, 'actual': True}, 'rho': {'default': 0.99, 'actual': 0.95}, 'epsilon': {'default': 1e-08, 'actual': 1e-08}, 'rate': {'default': 0.005, 'actual': 0.005}, 'rate_annealing': {'default': 1e-06, 'actual': 1e-06}, 'rate_decay': {'default': 1.0, 'actual': 1.0}, 'momentum_start': {'default': 0.0, 'actual': 0.0}, 'momentum_ramp': {'default': 1000000.0, 'actual': 1000000.0}, 'momentum_stable': {'default': 0.0, 'actual': 0.0}, 'nesterov_accelerated_gradient': {'default': True, 'actual': True}, 'input_dropout_ratio': {'default': 0.0, 'actual': 0.2}, 'hidden_dropout_ratios': {'default': None, 'actual': [0.2, 0.2, 0.2]}, 'l1': {'default': 0.0, 'actual': 0.0}, 'l2': {'default': 0.0, 'actual': 0.0}, 'max_w2': {'default': 3.4028235e+38, 'actual': 3.4028235e+38}, 'initial_weight_distribution': {'default': 'UniformAdaptive', 'actual': 'UniformAdaptive'}, 'initial_weight_scale': {'default': 1.0, 'actual': 1.0}, 'initial_weights': {'default': None, 'actual': None}, 'initial_biases': {'default': None, 'actual': None}, 'loss': {'default': 'Automatic', 'actual': 'Automatic'}, 'distribution': {'default': 'AUTO', 'actual': 'AUTO'}, 'quantile_alpha': {'default': 0.5, 'actual': 0.5}, 'tweedie_power': {'default': 1.5, 'actual': 1.5}, 'huber_alpha': {'default': 0.9, 'actual': 0.9}, 'score_interval': {'default': 5.0, 'actual': 5.0}, 'score_training_samples': {'default': 10000, 'actual': 10000}, 'score_validation_samples': {'default': 0, 'actual': 0}, 'score_duty_cycle': {'default': 0.1, 'actual': 0.1}, 'classification_stop': {'default': 0.0, 'actual': 0.0}, 'regression_stop': {'default': 1e-06, 'actual': 1e-06}, 'stopping_rounds': {'default': 5, 'actual': 0}, 'stopping_metric': {'default': 'AUTO', 'actual': 'logloss'}, 'stopping_tolerance': {'default': 0.0, 'actual': 0.005524187436252161}, 'max_runtime_secs': {'default': 0.0, 'actual': 0.0}, 'score_validation_sampling': {'default': 'Uniform', 'actual': 'Uniform'}, 'diagnostics': {'default': True, 'actual': True}, 'fast_mode': {'default': True, 'actual': True}, 'force_load_balance': {'default': True, 'actual': True}, 'variable_importances': {'default': True, 'actual': True}, 'replicate_training_data': {'default': True, 'actual': True}, 'single_node_mode': {'default': False, 'actual': False}, 'shuffle_training_data': {'default': False, 'actual': False}, 'missing_values_handling': {'default': 'MeanImputation', 'actual': 'MeanImputation'}, 'quiet_mode': {'default': False, 'actual': False}, 'autoencoder': {'default': False, 'actual': False}, 'sparse': {'default': False, 'actual': False}, 'col_major': {'default': False, 'actual': False}, 'average_activation': {'default': 0.0, 'actual': 0.0}, 'sparsity_beta': {'default': 0.0, 'actual': 0.0}, 'max_categorical_features': {'default': 2147483647, 'actual': 2147483647}, 'reproducible': {'default': False, 'actual': False}, 'export_weights_and_biases': {'default': False, 'actual': False}, 'mini_batch_size': {'default': 1, 'actual': 1}, 'categorical_encoding': {'default': 'AUTO', 'actual': 'AUTO'}, 'elastic_averaging': {'default': False, 'actual': False}, 'elastic_averaging_moving_rate': {'default': 0.9, 'actual': 0.9}, 'elastic_averaging_regularization': {'default': 0.001, 'actual': 0.001}, 'export_checkpoints_dir': {'default': None, 'actual': None}}]"
     ]
    },
    {
     "name": "stdout",
     "output_type": "stream",
     "text": [
      "\n"
     ]
    }
   ],
   "source": [
    "print(jsonDicts)"
   ]
  },
  {
   "cell_type": "code",
   "execution_count": 104,
   "metadata": {},
   "outputs": [],
   "source": [
    "n=run_id+'EmpAccess_'+ str(run_time)+'_hy_parameter.json'\n",
    "dict_to_json(jsonDicts,n)"
   ]
  },
  {
   "cell_type": "code",
   "execution_count": 105,
   "metadata": {},
   "outputs": [],
   "source": [
    "jsonDictsActual = []\n",
    "for m in model_set.iteritems():\n",
    "    m,model_name = m\n",
    "    mod_best = h2o.get_model(model_name)\n",
    "    jsonDictsActual.append(mod_best.actual_params)"
   ]
  },
  {
   "cell_type": "code",
   "execution_count": 106,
   "metadata": {
    "scrolled": true
   },
   "outputs": [
    {
     "name": "stdout",
     "output_type": "stream",
     "text": [
      "[<property object at 0x000000AAB8FA54F8>, <property object at 0x000000AAB8FA54F8>, <property object at 0x000000AAB8FA54F8>, <property object at 0x000000AAB8FA54F8>, <property object at 0x000000AAB8FA54F8>, <property object at 0x000000AAB8FA54F8>, <property object at 0x000000AAB8FA54F8>, <property object at 0x000000AAB8FA54F8>, <property object at 0x000000AAB8FA54F8>, <property object at 0x000000AAB8FA54F8>, <property object at 0x000000AAB8FA54F8>, <property object at 0x000000AAB8FA54F8>, <property object at 0x000000AAB8FA54F8>, <property object at 0x000000AAB8FA54F8>, <property object at 0x000000AAB8FA54F8>, <property object at 0x000000AAB8FA54F8>, <property object at 0x000000AAB8FA54F8>, <property object at 0x000000AAB8FA54F8>, <property object at 0x000000AAB8FA54F8>, <property object at 0x000000AAB8FA54F8>, <property object at 0x000000AAB8FA54F8>, <property object at 0x000000AAB8FA54F8>]\n"
     ]
    }
   ],
   "source": [
    "print(jsonDictsActual)"
   ]
  },
  {
   "cell_type": "markdown",
   "metadata": {},
   "source": [
    "### Generating metadata and storing in JSON"
   ]
  },
  {
   "cell_type": "code",
   "execution_count": 107,
   "metadata": {},
   "outputs": [],
   "source": [
    "meta_data['end_time'] = time.time()"
   ]
  },
  {
   "cell_type": "code",
   "execution_count": 108,
   "metadata": {
    "scrolled": true
   },
   "outputs": [
    {
     "data": {
      "text/plain": [
       "{'project': 'KYUjJqIuc_EmpAccess_700',\n",
       " 'run_time': 700,\n",
       " 'run_id': 'KYUjJqIuc',\n",
       " 'start_time_sec': 1555606780.2417612,\n",
       " 'min_mem_size': 2,\n",
       " 'balance': False,\n",
       " 'balance_threshold': 0.2,\n",
       " 'max_models': None,\n",
       " 'scale': False,\n",
       " 'model_path': None,\n",
       " 'server_path': 'C:\\\\Users\\\\hp\\\\Desktop\\\\Data Science Hyperparameter Project',\n",
       " 'data_path': 'C:/Users/hp/Desktop/Data Science Hyperparameter Project/Employee_access_data.csv',\n",
       " 'run_path': 'C:\\\\Users\\\\hp\\\\Desktop\\\\Data Science Hyperparameter Project\\\\KYUjJqIuc_EmpAccess_700',\n",
       " 'nthreads': 1,\n",
       " 'analysis': 0,\n",
       " 'end_time_sec': 1555606780.2417612,\n",
       " 'Problem_type': 'Classification',\n",
       " 'Total Records': 327690,\n",
       " 'Target': 'ACTION',\n",
       " 'X': ['RESOURCE',\n",
       "  'MGR_ID',\n",
       "  'ROLE_ROLLUP_1',\n",
       "  'ROLE_ROLLUP_2',\n",
       "  'ROLE_DEPTNAME',\n",
       "  'ROLE_TITLE',\n",
       "  'ROLE_FAMILY_DESC',\n",
       "  'ROLE_FAMILY',\n",
       "  'ROLE_CODE'],\n",
       " 'levels': [['0', '1']],\n",
       " 'variables': {'ACTION': 'enum',\n",
       "  'RESOURCE': 'int',\n",
       "  'MGR_ID': 'int',\n",
       "  'ROLE_ROLLUP_1': 'int',\n",
       "  'ROLE_ROLLUP_2': 'int',\n",
       "  'ROLE_DEPTNAME': 'int',\n",
       "  'ROLE_TITLE': 'int',\n",
       "  'ROLE_FAMILY_DESC': 'int',\n",
       "  'ROLE_FAMILY': 'int',\n",
       "  'ROLE_CODE': 'int'},\n",
       " 'model_execution_time_sec': 708.7163550853729,\n",
       " 'Models_generated': 21,\n",
       " 'end_time': 1555607526.6153395}"
      ]
     },
     "execution_count": 108,
     "metadata": {},
     "output_type": "execute_result"
    }
   ],
   "source": [
    "meta_data"
   ]
  },
  {
   "cell_type": "code",
   "execution_count": 109,
   "metadata": {
    "scrolled": true
   },
   "outputs": [],
   "source": [
    "n=run_id+'EmpAccess_' + str(run_time) + 'meta_data.json'\n",
    "dict_to_json(meta_data,n)"
   ]
  },
  {
   "cell_type": "markdown",
   "metadata": {},
   "source": [
    "#### Shutting down H2O"
   ]
  },
  {
   "cell_type": "code",
   "execution_count": 110,
   "metadata": {},
   "outputs": [],
   "source": [
    "# Clean up\n",
    "os.chdir(server_path)"
   ]
  },
  {
   "cell_type": "code",
   "execution_count": 111,
   "metadata": {},
   "outputs": [
    {
     "name": "stdout",
     "output_type": "stream",
     "text": [
      "H2O session _sid_a596 closed.\n"
     ]
    }
   ],
   "source": [
    "h2o.cluster().shutdown()"
   ]
  },
  {
   "cell_type": "markdown",
   "metadata": {},
   "source": [
    "#### Link of data set\n",
    "\n",
    "https://www.kaggle.com/c/amazon-employee-access-challenge/overview"
   ]
  },
  {
   "cell_type": "markdown",
   "metadata": {},
   "source": [
    "# Conclusion"
   ]
  },
  {
   "cell_type": "markdown",
   "metadata": {},
   "source": [
    "# Contribution"
   ]
  },
  {
   "cell_type": "markdown",
   "metadata": {},
   "source": [
    "percentage ratio - 80: 20\n",
    "\n",
    "Self - 80%\n",
    "\n",
    "External - 20%\n",
    "\n",
    "Urja - 40%\n",
    "\n",
    "Prakruthi - 40%"
   ]
  },
  {
   "cell_type": "markdown",
   "metadata": {},
   "source": [
    "# Citation\n",
    "\n",
    "https://github.com/prabhuSub/Hyperparamter-Samples\n",
    "\n",
    "https://github.com/nikbearbrown/CSYE_7245/tree/master/H2O\n",
    "\n"
   ]
  },
  {
   "cell_type": "markdown",
   "metadata": {},
   "source": [
    "# License\n",
    "\n",
    "Copyright (c) 2019 Urja Jain, Prakruthi Bagur Suryanarayanaprasad\n",
    "\n",
    "Permission is hereby granted, free of charge, to any person obtaining a copy of this software and associated documentation files (the \"Software\"), to deal in the Software without restriction, including without limitation the rights to use, copy, modify, merge, publish, distribute, sublicense, and/or sell copies of the Software, and to permit persons to whom the Software is furnished to do so, subject to the following conditions:\n",
    "\n",
    "The above copyright notice and this permission notice shall be included in all copies or substantial portions of the Software.\n",
    "\n",
    "THE SOFTWARE IS PROVIDED \"AS IS\", WITHOUT WARRANTY OF ANY KIND, EXPRESS OR IMPLIED, INCLUDING BUT NOT LIMITED TO THE WARRANTIES OF MERCHANTABILITY, FITNESS FOR A PARTICULAR PURPOSE AND NONINFRINGEMENT. IN NO EVENT SHALL THE AUTHORS OR COPYRIGHT HOLDERS BE LIABLE FOR ANY CLAIM, DAMAGES OR OTHER LIABILITY, WHETHER IN AN ACTION OF CONTRACT, TORT OR OTHERWISE, ARISING FROM, OUT OF OR IN CONNECTION WITH THE SOFTWARE OR THE USE OR OTHER DEALINGS IN THE SOFTWARE."
   ]
  }
 ],
 "metadata": {
  "kernelspec": {
   "display_name": "Python 3",
   "language": "python",
   "name": "python3"
  },
  "language_info": {
   "codemirror_mode": {
    "name": "ipython",
    "version": 3
   },
   "file_extension": ".py",
   "mimetype": "text/x-python",
   "name": "python",
   "nbconvert_exporter": "python",
   "pygments_lexer": "ipython3",
   "version": "3.7.1"
  }
 },
 "nbformat": 4,
 "nbformat_minor": 2
}
