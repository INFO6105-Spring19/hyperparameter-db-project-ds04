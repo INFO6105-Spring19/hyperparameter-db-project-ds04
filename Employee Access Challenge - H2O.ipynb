{
 "cells": [
  {
   "cell_type": "markdown",
   "metadata": {},
   "source": [
    "# Abstract"
   ]
  },
  {
   "cell_type": "code",
   "execution_count": 54,
   "metadata": {},
   "outputs": [],
   "source": [
    "#importing libraries\n",
    "import h2o\n",
    "from h2o.automl import H2OAutoML\n",
    "import random, os, sys\n",
    "from datetime import datetime\n",
    "import pandas as pd\n",
    "import logging\n",
    "import csv\n",
    "import optparse\n",
    "import time\n",
    "import json\n",
    "from distutils.util import strtobool\n",
    "import psutil\n",
    "import pandas as pd\n",
    "import warnings\n",
    "warnings.filterwarnings('ignore')"
   ]
  },
  {
   "cell_type": "code",
   "execution_count": 55,
   "metadata": {},
   "outputs": [],
   "source": [
    "data_path=None\n",
    "all_variables=None\n",
    "test_path=None\n",
    "# target='search_term'\n",
    "target=None\n",
    "nthreads=1                        # Number of parallel threads used to run Algorithms\n",
    "min_mem_size=6 \n",
    "classification= True\n",
    "scale=False\n",
    "max_models=None    \n",
    "model_path=None\n",
    "balance_y=False \n",
    "balance_threshold=0.2             \n",
    "name=None \n",
    "server_path=None  \n",
    "analysis=0 "
   ]
  },
  {
   "cell_type": "markdown",
   "metadata": {},
   "source": [
    "When enabled, H2O will either undersample the majority classes or oversample the minority classes. Note that the resulting model will also correct the final probabilities (“undo the sampling”) using a monotonic transform, so the predicted probabilities of the first model will differ from a second model. However, because AUC only cares about ordering, it won’t be affected."
   ]
  },
  {
   "cell_type": "code",
   "execution_count": 56,
   "metadata": {},
   "outputs": [],
   "source": [
    "data_path='C:/Users/hp/Desktop/Data Science Hyperparameter Project/Employee_access_data.csv'"
   ]
  },
  {
   "cell_type": "markdown",
   "metadata": {},
   "source": [
    "### Data Cleaning"
   ]
  },
  {
   "cell_type": "code",
   "execution_count": 57,
   "metadata": {},
   "outputs": [],
   "source": [
    "data=pd.read_csv(\"Employee_access_data.csv\", decimal = ',')"
   ]
  },
  {
   "cell_type": "code",
   "execution_count": 58,
   "metadata": {},
   "outputs": [
    {
     "data": {
      "text/plain": [
       "ACTION              int64\n",
       "RESOURCE            int64\n",
       "MGR_ID              int64\n",
       "ROLE_ROLLUP_1       int64\n",
       "ROLE_ROLLUP_2       int64\n",
       "ROLE_DEPTNAME       int64\n",
       "ROLE_TITLE          int64\n",
       "ROLE_FAMILY_DESC    int64\n",
       "ROLE_FAMILY         int64\n",
       "ROLE_CODE           int64\n",
       "dtype: object"
      ]
     },
     "execution_count": 58,
     "metadata": {},
     "output_type": "execute_result"
    }
   ],
   "source": [
    "data.dtypes"
   ]
  },
  {
   "cell_type": "markdown",
   "metadata": {},
   "source": [
    "**Checking for the Null values**"
   ]
  },
  {
   "cell_type": "code",
   "execution_count": 59,
   "metadata": {},
   "outputs": [
    {
     "data": {
      "text/html": [
       "<div>\n",
       "<style scoped>\n",
       "    .dataframe tbody tr th:only-of-type {\n",
       "        vertical-align: middle;\n",
       "    }\n",
       "\n",
       "    .dataframe tbody tr th {\n",
       "        vertical-align: top;\n",
       "    }\n",
       "\n",
       "    .dataframe thead th {\n",
       "        text-align: right;\n",
       "    }\n",
       "</style>\n",
       "<table border=\"1\" class=\"dataframe\">\n",
       "  <thead>\n",
       "    <tr style=\"text-align: right;\">\n",
       "      <th></th>\n",
       "      <th>total_missing</th>\n",
       "      <th>percent</th>\n",
       "    </tr>\n",
       "  </thead>\n",
       "  <tbody>\n",
       "  </tbody>\n",
       "</table>\n",
       "</div>"
      ],
      "text/plain": [
       "Empty DataFrame\n",
       "Columns: [total_missing, percent]\n",
       "Index: []"
      ]
     },
     "execution_count": 59,
     "metadata": {},
     "output_type": "execute_result"
    }
   ],
   "source": [
    "total = data.isnull().sum()[data.isnull().sum() != 0].sort_values(ascending = False)\n",
    "percent = pd.Series(round(total/len(data)*100,2))\n",
    "pd.concat([total, percent], axis=1, keys=['total_missing', 'percent'])"
   ]
  },
  {
   "cell_type": "markdown",
   "metadata": {},
   "source": [
    "No null values"
   ]
  },
  {
   "cell_type": "markdown",
   "metadata": {},
   "source": [
    "### RUNTIME"
   ]
  },
  {
   "cell_type": "code",
   "execution_count": 60,
   "metadata": {},
   "outputs": [],
   "source": [
    "run_time=500"
   ]
  },
  {
   "cell_type": "code",
   "execution_count": 61,
   "metadata": {},
   "outputs": [
    {
     "name": "stdout",
     "output_type": "stream",
     "text": [
      "2 GB\n"
     ]
    }
   ],
   "source": [
    "pct_memory=0.5\n",
    "virtual_memory=psutil.virtual_memory()\n",
    "min_mem_size=int(round(int(pct_memory*virtual_memory.available)/1073741824,0))\n",
    "print(min_mem_size, \"GB\")"
   ]
  },
  {
   "cell_type": "code",
   "execution_count": 62,
   "metadata": {},
   "outputs": [],
   "source": [
    "#Defining functions\n",
    "\n",
    "#generating random run_id\n",
    "def alphabet(n):\n",
    "  alpha='0123456789abcdefghijklmnopqrstuvwxyzABCDEFGHIJKLMNOPQRSTUVWXYZ'    \n",
    "  str=''\n",
    "  r=len(alpha)-1   \n",
    "  while len(str)<n:\n",
    "    i=random.randint(0,r)\n",
    "    str+=alpha[i]   \n",
    "  return str\n",
    "\n",
    "# storing in m_data dictionary  \n",
    "def set_meta_data(analysis,run_id,server,data,test,model_path,target,run_time,classification,scale,model,balance,balance_threshold,name,path,nthreads,min_mem_size):\n",
    "  m_data={}\n",
    "  m_data['target']=target\n",
    "  m_data['classification']=classification\n",
    "  m_data['run_time']=run_time\n",
    "  m_data['run_id'] =run_id\n",
    "  m_data['max_models']=model\n",
    "#   m_data['Shape_Rows*Cols'] = shape\n",
    "  m_data['start_time'] = time.time()\n",
    "#   m_data['model_execution_time'] = execution\n",
    "  m_data['server_path']=server\n",
    "  m_data['data_path']=data \n",
    "  m_data['test_path']=test\n",
    "  m_data['max_models']=model \n",
    "  m_data['scale']=scale  \n",
    "  m_data['scale']=False\n",
    "  m_data['model_path']=model_path\n",
    "  m_data['balance']=balance\n",
    "  m_data['balance_threshold']=balance_threshold\n",
    "  m_data['project'] =name\n",
    "  m_data['end_time'] = time.time()  \n",
    "  m_data['run_path'] =path\n",
    "  m_data['nthreads'] = nthreads\n",
    "  m_data['min_mem_size'] = min_mem_size\n",
    "  m_data['analysis'] = analysis\n",
    "  return m_data\n",
    "\n",
    "#converting dictionary to json\n",
    "def dict_to_json(dct,n):\n",
    "  j = json.dumps(dct, indent=4)\n",
    "  f = open(n, 'w')\n",
    "  print(j, file=f)\n",
    "  f.close()\n",
    "    \n",
    "def get_all_variables_csv(i):\n",
    "    ivd={}\n",
    "    try:\n",
    "      iv = pd.read_csv(i,header=None)\n",
    "    except:\n",
    "      sys.exit(1)    \n",
    "    col=iv.values.tolist()[0]\n",
    "    dt=iv.values.tolist()[1]\n",
    "    i=0\n",
    "    for c in col:\n",
    "      ivd[c.strip()]=dt[i].strip()\n",
    "      i+=1        \n",
    "    return ivd\n",
    "    \n",
    "# Segregating in different lists of int, enum, reals and checking for missing values and then scaling(standardizing)    \n",
    "def impute_missing_values(df, x, scal=False):\n",
    "    # determine column types\n",
    "    ints, reals, enums = [], [], []\n",
    "    for key, val in df.types.items():\n",
    "        if key in x:\n",
    "            if val == 'enum':\n",
    "                enums.append(key)\n",
    "            elif val == 'int':\n",
    "                ints.append(key)            \n",
    "            else: \n",
    "                reals.append(key)    \n",
    "    _ = df[reals].impute(method='mean')\n",
    "    _ = df[ints].impute(method='median')\n",
    "    if scal:\n",
    "        df[reals] = df[reals].scale()\n",
    "        df[ints] = df[ints].scale()    \n",
    "    return\n",
    "\n",
    "# Determining Independent variables (X) from the dataset \n",
    "def get_independent_variables(df, targ):\n",
    "    C = [name for name in df.columns if name != targ]\n",
    "    # determine column types\n",
    "    ints, reals, enums = [], [], []\n",
    "    for key, val in df.types.items():\n",
    "        if key in C:\n",
    "            if val == 'enum':\n",
    "                enums.append(key)\n",
    "            elif val == 'int':\n",
    "                ints.append(key)            \n",
    "            else: \n",
    "                reals.append(key)    \n",
    "    x=ints+enums+reals\n",
    "    return x\n",
    "\n",
    "#Checkinh if X does not exist then remove\n",
    "def check_X(x,df):\n",
    "    for name in x:\n",
    "        if name not in df.columns:\n",
    "          x.remove(name)  \n",
    "    return x    \n",
    "    "
   ]
  },
  {
   "cell_type": "markdown",
   "metadata": {},
   "source": [
    "### RUN_ID"
   ]
  },
  {
   "cell_type": "code",
   "execution_count": 63,
   "metadata": {},
   "outputs": [
    {
     "name": "stdout",
     "output_type": "stream",
     "text": [
      "y2l466LD5\n"
     ]
    }
   ],
   "source": [
    "#randomly generating run_id through alphabet function\n",
    "run_id=alphabet(9)\n",
    "if server_path==None:\n",
    "    server_path=os.path.abspath(os.curdir)\n",
    "os.chdir(server_path) \n",
    "run_dir = os.path.join(server_path,run_id)\n",
    "os.mkdir(run_dir)\n",
    "os.chdir(run_dir)    \n",
    "\n",
    "# run_id to std out\n",
    "print (run_id) "
   ]
  },
  {
   "cell_type": "code",
   "execution_count": 64,
   "metadata": {},
   "outputs": [],
   "source": [
    "# # Creating a log file\n",
    "# logfile=run_id+'_autoh2o_log.zip'\n",
    "# logs_path=os.path.join(run_dir,'logs')\n",
    "# print(logs_path,' ',logfile)"
   ]
  },
  {
   "cell_type": "code",
   "execution_count": 65,
   "metadata": {
    "scrolled": true
   },
   "outputs": [
    {
     "name": "stdout",
     "output_type": "stream",
     "text": [
      "Checking whether there is an H2O instance running at http://localhost:20617 ..... not found.\n",
      "Attempting to start a local H2O server...\n",
      "; Java HotSpot(TM) 64-Bit Server VM 18.9 (build 11.0.2+9-LTS, mixed mode)\n",
      "  Starting server from C:\\Users\\hp\\Anaconda3\\lib\\site-packages\\h2o\\backend\\bin\\h2o.jar\n",
      "  Ice root: C:\\Users\\hp\\AppData\\Local\\Temp\\tmpk_sgf0fg\n",
      "  JVM stdout: C:\\Users\\hp\\AppData\\Local\\Temp\\tmpk_sgf0fg\\h2o_hp_started_from_python.out\n",
      "  JVM stderr: C:\\Users\\hp\\AppData\\Local\\Temp\\tmpk_sgf0fg\\h2o_hp_started_from_python.err\n",
      "  Server is running at http://127.0.0.1:20617\n",
      "Connecting to H2O server at http://127.0.0.1:20617 ... successful.\n"
     ]
    },
    {
     "data": {
      "text/html": [
       "<div style=\"overflow:auto\"><table style=\"width:50%\"><tr><td>H2O cluster uptime:</td>\n",
       "<td>07 secs</td></tr>\n",
       "<tr><td>H2O cluster timezone:</td>\n",
       "<td>America/New_York</td></tr>\n",
       "<tr><td>H2O data parsing timezone:</td>\n",
       "<td>UTC</td></tr>\n",
       "<tr><td>H2O cluster version:</td>\n",
       "<td>3.24.0.1</td></tr>\n",
       "<tr><td>H2O cluster version age:</td>\n",
       "<td>15 days </td></tr>\n",
       "<tr><td>H2O cluster name:</td>\n",
       "<td>H2O_from_python_hp_3sxpog</td></tr>\n",
       "<tr><td>H2O cluster total nodes:</td>\n",
       "<td>1</td></tr>\n",
       "<tr><td>H2O cluster free memory:</td>\n",
       "<td>2 Gb</td></tr>\n",
       "<tr><td>H2O cluster total cores:</td>\n",
       "<td>4</td></tr>\n",
       "<tr><td>H2O cluster allowed cores:</td>\n",
       "<td>4</td></tr>\n",
       "<tr><td>H2O cluster status:</td>\n",
       "<td>accepting new members, healthy</td></tr>\n",
       "<tr><td>H2O connection url:</td>\n",
       "<td>http://127.0.0.1:20617</td></tr>\n",
       "<tr><td>H2O connection proxy:</td>\n",
       "<td>None</td></tr>\n",
       "<tr><td>H2O internal security:</td>\n",
       "<td>False</td></tr>\n",
       "<tr><td>H2O API Extensions:</td>\n",
       "<td>Amazon S3, Algos, AutoML, Core V3, Core V4</td></tr>\n",
       "<tr><td>Python version:</td>\n",
       "<td>3.7.1 final</td></tr></table></div>"
      ],
      "text/plain": [
       "--------------------------  ------------------------------------------\n",
       "H2O cluster uptime:         07 secs\n",
       "H2O cluster timezone:       America/New_York\n",
       "H2O data parsing timezone:  UTC\n",
       "H2O cluster version:        3.24.0.1\n",
       "H2O cluster version age:    15 days\n",
       "H2O cluster name:           H2O_from_python_hp_3sxpog\n",
       "H2O cluster total nodes:    1\n",
       "H2O cluster free memory:    2 Gb\n",
       "H2O cluster total cores:    4\n",
       "H2O cluster allowed cores:  4\n",
       "H2O cluster status:         accepting new members, healthy\n",
       "H2O connection url:         http://127.0.0.1:20617\n",
       "H2O connection proxy:\n",
       "H2O internal security:      False\n",
       "H2O API Extensions:         Amazon S3, Algos, AutoML, Core V3, Core V4\n",
       "Python version:             3.7.1 final\n",
       "--------------------------  ------------------------------------------"
      ]
     },
     "metadata": {},
     "output_type": "display_data"
    }
   ],
   "source": [
    "# 65535 Highest port no\n",
    "port_no=random.randint(5555,55555)\n",
    "\n",
    "#initializing H2O\n",
    "h2o.init(strict_version_check=False,min_mem_size_GB=min_mem_size,port=port_no)"
   ]
  },
  {
   "cell_type": "code",
   "execution_count": 66,
   "metadata": {},
   "outputs": [
    {
     "name": "stdout",
     "output_type": "stream",
     "text": [
      "C:/Users/hp/Desktop/Data Science Hyperparameter Project/Employee_access_data.csv\n"
     ]
    }
   ],
   "source": [
    "print(data_path)              #path of csv "
   ]
  },
  {
   "cell_type": "code",
   "execution_count": 67,
   "metadata": {},
   "outputs": [
    {
     "name": "stdout",
     "output_type": "stream",
     "text": [
      "{'target': None, 'classification': True, 'run_time': 500, 'run_id': 'y2l466LD5', 'max_models': None, 'start_time': 1555387074.0489674, 'server_path': 'C:\\\\Users\\\\hp\\\\Desktop\\\\Data Science Hyperparameter Project', 'data_path': 'C:/Users/hp/Desktop/Data Science Hyperparameter Project/Employee_access_data.csv', 'test_path': None, 'scale': False, 'model_path': None, 'balance': False, 'balance_threshold': 0.2, 'project': None, 'end_time': 1555387074.0489674, 'run_path': 'C:\\\\Users\\\\hp\\\\Desktop\\\\Data Science Hyperparameter Project\\\\y2l466LD5', 'nthreads': 1, 'min_mem_size': 2, 'analysis': 0}\n"
     ]
    }
   ],
   "source": [
    "# meta data\n",
    "meta_data = set_meta_data(analysis, run_id,server_path,data_path,test_path,model_path,target,run_time,classification,scale,max_models,balance_y,balance_threshold,name,run_dir,nthreads,min_mem_size)\n",
    "print(meta_data)  "
   ]
  },
  {
   "cell_type": "code",
   "execution_count": 68,
   "metadata": {},
   "outputs": [
    {
     "name": "stdout",
     "output_type": "stream",
     "text": [
      "Parse progress: |█████████████████████████████████████████████████████████| 100%\n"
     ]
    }
   ],
   "source": [
    "#importing data file on h2o server\n",
    "df = h2o.import_file(data_path)"
   ]
  },
  {
   "cell_type": "code",
   "execution_count": 69,
   "metadata": {},
   "outputs": [
    {
     "data": {
      "text/html": [
       "<table>\n",
       "<thead>\n",
       "<tr><th style=\"text-align: right;\">  ACTION</th><th style=\"text-align: right;\">  RESOURCE</th><th style=\"text-align: right;\">  MGR_ID</th><th style=\"text-align: right;\">  ROLE_ROLLUP_1</th><th style=\"text-align: right;\">  ROLE_ROLLUP_2</th><th style=\"text-align: right;\">  ROLE_DEPTNAME</th><th style=\"text-align: right;\">  ROLE_TITLE</th><th style=\"text-align: right;\">  ROLE_FAMILY_DESC</th><th style=\"text-align: right;\">  ROLE_FAMILY</th><th style=\"text-align: right;\">  ROLE_CODE</th></tr>\n",
       "</thead>\n",
       "<tbody>\n",
       "<tr><td style=\"text-align: right;\">       1</td><td style=\"text-align: right;\">     39353</td><td style=\"text-align: right;\">   85475</td><td style=\"text-align: right;\">         117961</td><td style=\"text-align: right;\">         118300</td><td style=\"text-align: right;\">         123472</td><td style=\"text-align: right;\">      117905</td><td style=\"text-align: right;\">            117906</td><td style=\"text-align: right;\">       290919</td><td style=\"text-align: right;\">     117908</td></tr>\n",
       "<tr><td style=\"text-align: right;\">       1</td><td style=\"text-align: right;\">     17183</td><td style=\"text-align: right;\">    1540</td><td style=\"text-align: right;\">         117961</td><td style=\"text-align: right;\">         118343</td><td style=\"text-align: right;\">         123125</td><td style=\"text-align: right;\">      118536</td><td style=\"text-align: right;\">            118536</td><td style=\"text-align: right;\">       308574</td><td style=\"text-align: right;\">     118539</td></tr>\n",
       "<tr><td style=\"text-align: right;\">       1</td><td style=\"text-align: right;\">     36724</td><td style=\"text-align: right;\">   14457</td><td style=\"text-align: right;\">         118219</td><td style=\"text-align: right;\">         118220</td><td style=\"text-align: right;\">         117884</td><td style=\"text-align: right;\">      117879</td><td style=\"text-align: right;\">            267952</td><td style=\"text-align: right;\">        19721</td><td style=\"text-align: right;\">     117880</td></tr>\n",
       "<tr><td style=\"text-align: right;\">       1</td><td style=\"text-align: right;\">     36135</td><td style=\"text-align: right;\">    5396</td><td style=\"text-align: right;\">         117961</td><td style=\"text-align: right;\">         118343</td><td style=\"text-align: right;\">         119993</td><td style=\"text-align: right;\">      118321</td><td style=\"text-align: right;\">            240983</td><td style=\"text-align: right;\">       290919</td><td style=\"text-align: right;\">     118322</td></tr>\n",
       "<tr><td style=\"text-align: right;\">       1</td><td style=\"text-align: right;\">     42680</td><td style=\"text-align: right;\">    5905</td><td style=\"text-align: right;\">         117929</td><td style=\"text-align: right;\">         117930</td><td style=\"text-align: right;\">         119569</td><td style=\"text-align: right;\">      119323</td><td style=\"text-align: right;\">            123932</td><td style=\"text-align: right;\">        19793</td><td style=\"text-align: right;\">     119325</td></tr>\n",
       "<tr><td style=\"text-align: right;\">       0</td><td style=\"text-align: right;\">     45333</td><td style=\"text-align: right;\">   14561</td><td style=\"text-align: right;\">         117951</td><td style=\"text-align: right;\">         117952</td><td style=\"text-align: right;\">         118008</td><td style=\"text-align: right;\">      118568</td><td style=\"text-align: right;\">            118568</td><td style=\"text-align: right;\">        19721</td><td style=\"text-align: right;\">     118570</td></tr>\n",
       "<tr><td style=\"text-align: right;\">       1</td><td style=\"text-align: right;\">     25993</td><td style=\"text-align: right;\">   17227</td><td style=\"text-align: right;\">         117961</td><td style=\"text-align: right;\">         118343</td><td style=\"text-align: right;\">         123476</td><td style=\"text-align: right;\">      118980</td><td style=\"text-align: right;\">            301534</td><td style=\"text-align: right;\">       118295</td><td style=\"text-align: right;\">     118982</td></tr>\n",
       "<tr><td style=\"text-align: right;\">       1</td><td style=\"text-align: right;\">     19666</td><td style=\"text-align: right;\">    4209</td><td style=\"text-align: right;\">         117961</td><td style=\"text-align: right;\">         117969</td><td style=\"text-align: right;\">         118910</td><td style=\"text-align: right;\">      126820</td><td style=\"text-align: right;\">            269034</td><td style=\"text-align: right;\">       118638</td><td style=\"text-align: right;\">     126822</td></tr>\n",
       "<tr><td style=\"text-align: right;\">       1</td><td style=\"text-align: right;\">     31246</td><td style=\"text-align: right;\">     783</td><td style=\"text-align: right;\">         117961</td><td style=\"text-align: right;\">         118413</td><td style=\"text-align: right;\">         120584</td><td style=\"text-align: right;\">      128230</td><td style=\"text-align: right;\">            302830</td><td style=\"text-align: right;\">         4673</td><td style=\"text-align: right;\">     128231</td></tr>\n",
       "<tr><td style=\"text-align: right;\">       1</td><td style=\"text-align: right;\">     78766</td><td style=\"text-align: right;\">   56683</td><td style=\"text-align: right;\">         118079</td><td style=\"text-align: right;\">         118080</td><td style=\"text-align: right;\">         117878</td><td style=\"text-align: right;\">      117879</td><td style=\"text-align: right;\">            304519</td><td style=\"text-align: right;\">        19721</td><td style=\"text-align: right;\">     117880</td></tr>\n",
       "</tbody>\n",
       "</table>"
      ]
     },
     "metadata": {},
     "output_type": "display_data"
    },
    {
     "data": {
      "text/plain": []
     },
     "execution_count": 69,
     "metadata": {},
     "output_type": "execute_result"
    }
   ],
   "source": [
    "df.head()"
   ]
  },
  {
   "cell_type": "code",
   "execution_count": 70,
   "metadata": {},
   "outputs": [
    {
     "name": "stdout",
     "output_type": "stream",
     "text": [
      "Total rows in the data set =  32769\n",
      "Total Columns in the data set =  10\n",
      "rows X columns =  (32769, 10)\n"
     ]
    }
   ],
   "source": [
    "rows = len(df)\n",
    "print(\"Total rows in the data set = \", rows)\n",
    "cols = len(df.columns)\n",
    "print(\"Total Columns in the data set = \", cols)\n",
    "\n",
    "shape = df.shape\n",
    "print(\"rows X columns = \", shape)\n",
    "\n",
    "meta_data['Shape_Rows*Cols'] = shape"
   ]
  },
  {
   "cell_type": "code",
   "execution_count": 71,
   "metadata": {
    "scrolled": true
   },
   "outputs": [
    {
     "name": "stdout",
     "output_type": "stream",
     "text": [
      "Rows:32769\n",
      "Cols:10\n",
      "\n",
      "\n"
     ]
    },
    {
     "data": {
      "text/html": [
       "<table>\n",
       "<thead>\n",
       "<tr><th>       </th><th>ACTION             </th><th>RESOURCE          </th><th>MGR_ID            </th><th>ROLE_ROLLUP_1     </th><th>ROLE_ROLLUP_2     </th><th>ROLE_DEPTNAME     </th><th>ROLE_TITLE        </th><th>ROLE_FAMILY_DESC  </th><th>ROLE_FAMILY       </th><th>ROLE_CODE         </th></tr>\n",
       "</thead>\n",
       "<tbody>\n",
       "<tr><td>type   </td><td>int                </td><td>int               </td><td>int               </td><td>int               </td><td>int               </td><td>int               </td><td>int               </td><td>int               </td><td>int               </td><td>int               </td></tr>\n",
       "<tr><td>mins   </td><td>0.0                </td><td>0.0               </td><td>25.0              </td><td>4292.0            </td><td>23779.0           </td><td>4674.0            </td><td>117879.0          </td><td>4673.0            </td><td>3130.0            </td><td>117880.0          </td></tr>\n",
       "<tr><td>mean   </td><td>0.9421099209618847 </td><td>42923.916170771125</td><td>25988.957978577324</td><td>116952.62778845867</td><td>118301.82315603165</td><td>118912.77991394309</td><td>125916.15264426745</td><td>170178.36964814307</td><td>183703.40889255097</td><td>119789.43013213709</td></tr>\n",
       "<tr><td>maxs   </td><td>1.0                </td><td>312153.0          </td><td>311696.0          </td><td>311178.0          </td><td>286791.0          </td><td>286792.0          </td><td>311867.0          </td><td>311867.0          </td><td>308574.0          </td><td>270691.0          </td></tr>\n",
       "<tr><td>sigma  </td><td>0.23353903780676308</td><td>34173.892702138255</td><td>35928.03165014073 </td><td>10875.563591093745</td><td>4551.588572012568 </td><td>18961.32291708769 </td><td>31036.465824743256</td><td>69509.46213013002 </td><td>100488.40741337684</td><td>5784.275515531029 </td></tr>\n",
       "<tr><td>zeros  </td><td>1897               </td><td>13                </td><td>0                 </td><td>0                 </td><td>0                 </td><td>0                 </td><td>0                 </td><td>0                 </td><td>0                 </td><td>0                 </td></tr>\n",
       "<tr><td>missing</td><td>0                  </td><td>0                 </td><td>0                 </td><td>0                 </td><td>0                 </td><td>0                 </td><td>0                 </td><td>0                 </td><td>0                 </td><td>0                 </td></tr>\n",
       "<tr><td>0      </td><td>1.0                </td><td>39353.0           </td><td>85475.0           </td><td>117961.0          </td><td>118300.0          </td><td>123472.0          </td><td>117905.0          </td><td>117906.0          </td><td>290919.0          </td><td>117908.0          </td></tr>\n",
       "<tr><td>1      </td><td>1.0                </td><td>17183.0           </td><td>1540.0            </td><td>117961.0          </td><td>118343.0          </td><td>123125.0          </td><td>118536.0          </td><td>118536.0          </td><td>308574.0          </td><td>118539.0          </td></tr>\n",
       "<tr><td>2      </td><td>1.0                </td><td>36724.0           </td><td>14457.0           </td><td>118219.0          </td><td>118220.0          </td><td>117884.0          </td><td>117879.0          </td><td>267952.0          </td><td>19721.0           </td><td>117880.0          </td></tr>\n",
       "<tr><td>3      </td><td>1.0                </td><td>36135.0           </td><td>5396.0            </td><td>117961.0          </td><td>118343.0          </td><td>119993.0          </td><td>118321.0          </td><td>240983.0          </td><td>290919.0          </td><td>118322.0          </td></tr>\n",
       "<tr><td>4      </td><td>1.0                </td><td>42680.0           </td><td>5905.0            </td><td>117929.0          </td><td>117930.0          </td><td>119569.0          </td><td>119323.0          </td><td>123932.0          </td><td>19793.0           </td><td>119325.0          </td></tr>\n",
       "<tr><td>5      </td><td>0.0                </td><td>45333.0           </td><td>14561.0           </td><td>117951.0          </td><td>117952.0          </td><td>118008.0          </td><td>118568.0          </td><td>118568.0          </td><td>19721.0           </td><td>118570.0          </td></tr>\n",
       "<tr><td>6      </td><td>1.0                </td><td>25993.0           </td><td>17227.0           </td><td>117961.0          </td><td>118343.0          </td><td>123476.0          </td><td>118980.0          </td><td>301534.0          </td><td>118295.0          </td><td>118982.0          </td></tr>\n",
       "<tr><td>7      </td><td>1.0                </td><td>19666.0           </td><td>4209.0            </td><td>117961.0          </td><td>117969.0          </td><td>118910.0          </td><td>126820.0          </td><td>269034.0          </td><td>118638.0          </td><td>126822.0          </td></tr>\n",
       "<tr><td>8      </td><td>1.0                </td><td>31246.0           </td><td>783.0             </td><td>117961.0          </td><td>118413.0          </td><td>120584.0          </td><td>128230.0          </td><td>302830.0          </td><td>4673.0            </td><td>128231.0          </td></tr>\n",
       "<tr><td>9      </td><td>1.0                </td><td>78766.0           </td><td>56683.0           </td><td>118079.0          </td><td>118080.0          </td><td>117878.0          </td><td>117879.0          </td><td>304519.0          </td><td>19721.0           </td><td>117880.0          </td></tr>\n",
       "</tbody>\n",
       "</table>"
      ]
     },
     "metadata": {},
     "output_type": "display_data"
    }
   ],
   "source": [
    "df.describe()"
   ]
  },
  {
   "cell_type": "code",
   "execution_count": 72,
   "metadata": {},
   "outputs": [
    {
     "data": {
      "text/plain": [
       "\"\\nimport sys\\nsys.stdout = open('describe.txt', 'w')\\nprint ('test')\\n\""
      ]
     },
     "execution_count": 72,
     "metadata": {},
     "output_type": "execute_result"
    }
   ],
   "source": [
    "'''\n",
    "import sys\n",
    "sys.stdout = open('describe.txt', 'w')\n",
    "print ('test')\n",
    "'''"
   ]
  },
  {
   "cell_type": "markdown",
   "metadata": {},
   "source": [
    "### Depentdent Variable"
   ]
  },
  {
   "cell_type": "code",
   "execution_count": 73,
   "metadata": {},
   "outputs": [
    {
     "data": {
      "text/plain": [
       "'ACTION'"
      ]
     },
     "execution_count": 73,
     "metadata": {},
     "output_type": "execute_result"
    }
   ],
   "source": [
    "# dependent variable\n",
    "# assign target an d inputs for classification or regression\n",
    "if target==None:\n",
    "  target=\"ACTION\"   \n",
    "y = target\n",
    "y"
   ]
  },
  {
   "cell_type": "markdown",
   "metadata": {},
   "source": [
    "### Independent Variables"
   ]
  },
  {
   "cell_type": "code",
   "execution_count": 74,
   "metadata": {},
   "outputs": [],
   "source": [
    "if all_variables is not None:\n",
    "  ivd=get_all_variables_csv(all_variables)\n",
    "  print(ivd)    \n",
    "  X=check_all_variables(df,ivd,y)\n",
    "  print(X)"
   ]
  },
  {
   "cell_type": "code",
   "execution_count": 75,
   "metadata": {},
   "outputs": [
    {
     "name": "stdout",
     "output_type": "stream",
     "text": [
      "['RESOURCE', 'MGR_ID', 'ROLE_ROLLUP_1', 'ROLE_ROLLUP_2', 'ROLE_DEPTNAME', 'ROLE_TITLE', 'ROLE_FAMILY_DESC', 'ROLE_FAMILY', 'ROLE_CODE']\n"
     ]
    }
   ],
   "source": [
    "# independent variables\n",
    "# putting all independent variables in the list X \n",
    "\n",
    "X = []  \n",
    "if all_variables is None:\n",
    "  X=get_independent_variables(df, target)  \n",
    "  print(X)  \n",
    "else: \n",
    "  ivd=get_all_variables_csv(all_variables)    \n",
    "  X=check_all_variables(df, ivd)\n",
    "\n",
    "\n",
    "X=check_X(X,df)\n",
    "\n",
    "\n",
    "# Add independent variables to meta data\n",
    "\n",
    "meta_data['X']=X  \n",
    "\n",
    "\n",
    "# impute missing values\n",
    "\n",
    "_=impute_missing_values(df,X, scale)"
   ]
  },
  {
   "cell_type": "markdown",
   "metadata": {},
   "source": [
    "### Problem Type\n",
    "\n",
    "The dependent variable for this data set is of Binary/ classification type."
   ]
  },
  {
   "cell_type": "code",
   "execution_count": 76,
   "metadata": {},
   "outputs": [],
   "source": [
    "# Force target to be factors\n",
    "# Only 'int' or 'string' are allowed for asfactor(), got Target (Total orders):real \n",
    "\n",
    "if classification:\n",
    "    df[y] = df[y].asfactor()"
   ]
  },
  {
   "cell_type": "code",
   "execution_count": 77,
   "metadata": {
    "scrolled": true
   },
   "outputs": [
    {
     "data": {
      "text/html": [
       "<table>\n",
       "<thead>\n",
       "<tr><th style=\"text-align: right;\">  ACTION</th></tr>\n",
       "</thead>\n",
       "<tbody>\n",
       "<tr><td style=\"text-align: right;\">       1</td></tr>\n",
       "<tr><td style=\"text-align: right;\">       1</td></tr>\n",
       "<tr><td style=\"text-align: right;\">       1</td></tr>\n",
       "<tr><td style=\"text-align: right;\">       1</td></tr>\n",
       "<tr><td style=\"text-align: right;\">       1</td></tr>\n",
       "<tr><td style=\"text-align: right;\">       0</td></tr>\n",
       "<tr><td style=\"text-align: right;\">       1</td></tr>\n",
       "<tr><td style=\"text-align: right;\">       1</td></tr>\n",
       "<tr><td style=\"text-align: right;\">       1</td></tr>\n",
       "<tr><td style=\"text-align: right;\">       1</td></tr>\n",
       "</tbody>\n",
       "</table>"
      ]
     },
     "metadata": {},
     "output_type": "display_data"
    },
    {
     "data": {
      "text/plain": []
     },
     "execution_count": 77,
     "metadata": {},
     "output_type": "execute_result"
    }
   ],
   "source": [
    "df[y]"
   ]
  },
  {
   "cell_type": "markdown",
   "metadata": {},
   "source": [
    "**Checking the number of classes of dependent variable**"
   ]
  },
  {
   "cell_type": "code",
   "execution_count": 78,
   "metadata": {
    "scrolled": true
   },
   "outputs": [
    {
     "name": "stdout",
     "output_type": "stream",
     "text": [
      "[['0', '1']]\n"
     ]
    }
   ],
   "source": [
    "# Total categories in the target column\n",
    "lvl = df[y].levels()\n",
    "print(lvl)\n",
    "meta_data[\"levels\"] = lvl"
   ]
  },
  {
   "cell_type": "markdown",
   "metadata": {},
   "source": [
    "y has 2 levels or classes"
   ]
  },
  {
   "cell_type": "code",
   "execution_count": 79,
   "metadata": {},
   "outputs": [],
   "source": [
    "# checking value of target for real, int, enum\n",
    "def check_y(y,df):\n",
    "  ok=False\n",
    "  C = [name for name in df.columns if name == y]\n",
    "  for key, val in df.types.items():\n",
    "    if key in C:\n",
    "      if val in ['real','int','enum']:        \n",
    "        ok=True         \n",
    "  return ok   "
   ]
  },
  {
   "cell_type": "code",
   "execution_count": 80,
   "metadata": {},
   "outputs": [],
   "source": [
    "ok=check_y(y,df)\n",
    "if not ok:\n",
    "    print(ok)"
   ]
  },
  {
   "cell_type": "code",
   "execution_count": 81,
   "metadata": {},
   "outputs": [
    {
     "name": "stdout",
     "output_type": "stream",
     "text": [
      "True\n"
     ]
    }
   ],
   "source": [
    "# since y is enum type\n",
    "print(ok)"
   ]
  },
  {
   "cell_type": "code",
   "execution_count": 82,
   "metadata": {},
   "outputs": [],
   "source": [
    "def get_variables_types(df):\n",
    "    d={}\n",
    "    for key, val in df.types.items():\n",
    "        d[key]=val           \n",
    "    return d    \n",
    "    "
   ]
  },
  {
   "cell_type": "code",
   "execution_count": 83,
   "metadata": {
    "scrolled": true
   },
   "outputs": [
    {
     "data": {
      "text/plain": [
       "{'ACTION': 'enum',\n",
       " 'RESOURCE': 'int',\n",
       " 'MGR_ID': 'int',\n",
       " 'ROLE_ROLLUP_1': 'int',\n",
       " 'ROLE_ROLLUP_2': 'int',\n",
       " 'ROLE_DEPTNAME': 'int',\n",
       " 'ROLE_TITLE': 'int',\n",
       " 'ROLE_FAMILY_DESC': 'int',\n",
       " 'ROLE_FAMILY': 'int',\n",
       " 'ROLE_CODE': 'int'}"
      ]
     },
     "execution_count": 83,
     "metadata": {},
     "output_type": "execute_result"
    }
   ],
   "source": [
    "# getting the data types of all the variables in the dataset\n",
    "allV=get_variables_types(df)\n",
    "allV"
   ]
  },
  {
   "cell_type": "code",
   "execution_count": 84,
   "metadata": {},
   "outputs": [],
   "source": [
    "# Adding the data types to meta data \n",
    "meta_data['variables']=allV"
   ]
  },
  {
   "cell_type": "markdown",
   "metadata": {},
   "source": [
    "### Using H2OAutoML\n",
    "\n",
    "* Used for automatic training and tuning of the models"
   ]
  },
  {
   "cell_type": "code",
   "execution_count": 85,
   "metadata": {},
   "outputs": [],
   "source": [
    "# Set up AutoML\n",
    "\n",
    "aml = H2OAutoML(max_runtime_secs=run_time,project_name = name)"
   ]
  },
  {
   "cell_type": "code",
   "execution_count": 86,
   "metadata": {},
   "outputs": [],
   "source": [
    "model_start_time = time.time()"
   ]
  },
  {
   "cell_type": "code",
   "execution_count": 87,
   "metadata": {},
   "outputs": [
    {
     "name": "stdout",
     "output_type": "stream",
     "text": [
      "AutoML progress: |████████████████████████████████████████████████████████| 100%\n"
     ]
    }
   ],
   "source": [
    "aml.train(x=X,y=y,training_frame=df)"
   ]
  },
  {
   "cell_type": "code",
   "execution_count": 88,
   "metadata": {},
   "outputs": [
    {
     "name": "stdout",
     "output_type": "stream",
     "text": [
      "Execution time for  500 sec =   528.6322100162506\n"
     ]
    }
   ],
   "source": [
    "execution_time =  time.time() - model_start_time\n",
    "meta_data['model_execution_time_sec'] = execution_time\n",
    "print(\"Execution time for \", run_time,\"sec =  \",meta_data['model_execution_time_sec'])"
   ]
  },
  {
   "cell_type": "markdown",
   "metadata": {},
   "source": [
    "## LeaderBoard"
   ]
  },
  {
   "cell_type": "code",
   "execution_count": 89,
   "metadata": {},
   "outputs": [],
   "source": [
    "# get leaderboard\n",
    "aml_leaderboard_df=aml.leaderboard.as_data_frame()"
   ]
  },
  {
   "cell_type": "code",
   "execution_count": 90,
   "metadata": {
    "scrolled": true
   },
   "outputs": [
    {
     "data": {
      "text/html": [
       "<div>\n",
       "<style scoped>\n",
       "    .dataframe tbody tr th:only-of-type {\n",
       "        vertical-align: middle;\n",
       "    }\n",
       "\n",
       "    .dataframe tbody tr th {\n",
       "        vertical-align: top;\n",
       "    }\n",
       "\n",
       "    .dataframe thead th {\n",
       "        text-align: right;\n",
       "    }\n",
       "</style>\n",
       "<table border=\"1\" class=\"dataframe\">\n",
       "  <thead>\n",
       "    <tr style=\"text-align: right;\">\n",
       "      <th></th>\n",
       "      <th>model_id</th>\n",
       "      <th>auc</th>\n",
       "      <th>logloss</th>\n",
       "      <th>mean_per_class_error</th>\n",
       "      <th>rmse</th>\n",
       "      <th>mse</th>\n",
       "    </tr>\n",
       "  </thead>\n",
       "  <tbody>\n",
       "    <tr>\n",
       "      <th>0</th>\n",
       "      <td>StackedEnsemble_BestOfFamily_AutoML_20190415_2...</td>\n",
       "      <td>0.861552</td>\n",
       "      <td>0.156262</td>\n",
       "      <td>0.335448</td>\n",
       "      <td>0.200608</td>\n",
       "      <td>0.040244</td>\n",
       "    </tr>\n",
       "    <tr>\n",
       "      <th>1</th>\n",
       "      <td>StackedEnsemble_AllModels_AutoML_20190415_235801</td>\n",
       "      <td>0.860448</td>\n",
       "      <td>0.156327</td>\n",
       "      <td>0.329694</td>\n",
       "      <td>0.200633</td>\n",
       "      <td>0.040254</td>\n",
       "    </tr>\n",
       "    <tr>\n",
       "      <th>2</th>\n",
       "      <td>GBM_grid_1_AutoML_20190415_235801_model_1</td>\n",
       "      <td>0.860402</td>\n",
       "      <td>0.170265</td>\n",
       "      <td>0.336112</td>\n",
       "      <td>0.212300</td>\n",
       "      <td>0.045071</td>\n",
       "    </tr>\n",
       "    <tr>\n",
       "      <th>3</th>\n",
       "      <td>XRT_1_AutoML_20190415_235801</td>\n",
       "      <td>0.848309</td>\n",
       "      <td>0.170001</td>\n",
       "      <td>0.360640</td>\n",
       "      <td>0.202310</td>\n",
       "      <td>0.040929</td>\n",
       "    </tr>\n",
       "    <tr>\n",
       "      <th>4</th>\n",
       "      <td>DRF_1_AutoML_20190415_235801</td>\n",
       "      <td>0.847216</td>\n",
       "      <td>0.176933</td>\n",
       "      <td>0.350980</td>\n",
       "      <td>0.201532</td>\n",
       "      <td>0.040615</td>\n",
       "    </tr>\n",
       "    <tr>\n",
       "      <th>5</th>\n",
       "      <td>GBM_4_AutoML_20190415_235801</td>\n",
       "      <td>0.843034</td>\n",
       "      <td>0.159992</td>\n",
       "      <td>0.383300</td>\n",
       "      <td>0.203426</td>\n",
       "      <td>0.041382</td>\n",
       "    </tr>\n",
       "    <tr>\n",
       "      <th>6</th>\n",
       "      <td>GBM_3_AutoML_20190415_235801</td>\n",
       "      <td>0.839973</td>\n",
       "      <td>0.163117</td>\n",
       "      <td>0.390055</td>\n",
       "      <td>0.206017</td>\n",
       "      <td>0.042443</td>\n",
       "    </tr>\n",
       "    <tr>\n",
       "      <th>7</th>\n",
       "      <td>GBM_5_AutoML_20190415_235801</td>\n",
       "      <td>0.836560</td>\n",
       "      <td>0.164695</td>\n",
       "      <td>0.410981</td>\n",
       "      <td>0.206961</td>\n",
       "      <td>0.042833</td>\n",
       "    </tr>\n",
       "    <tr>\n",
       "      <th>8</th>\n",
       "      <td>GBM_2_AutoML_20190415_235801</td>\n",
       "      <td>0.834621</td>\n",
       "      <td>0.165739</td>\n",
       "      <td>0.420936</td>\n",
       "      <td>0.207791</td>\n",
       "      <td>0.043177</td>\n",
       "    </tr>\n",
       "    <tr>\n",
       "      <th>9</th>\n",
       "      <td>GBM_1_AutoML_20190415_235801</td>\n",
       "      <td>0.825490</td>\n",
       "      <td>0.169833</td>\n",
       "      <td>0.424946</td>\n",
       "      <td>0.210397</td>\n",
       "      <td>0.044267</td>\n",
       "    </tr>\n",
       "    <tr>\n",
       "      <th>10</th>\n",
       "      <td>GBM_grid_1_AutoML_20190415_235801_model_2</td>\n",
       "      <td>0.685419</td>\n",
       "      <td>0.219852</td>\n",
       "      <td>0.481423</td>\n",
       "      <td>0.233227</td>\n",
       "      <td>0.054395</td>\n",
       "    </tr>\n",
       "    <tr>\n",
       "      <th>11</th>\n",
       "      <td>DeepLearning_1_AutoML_20190415_235801</td>\n",
       "      <td>0.567064</td>\n",
       "      <td>0.223093</td>\n",
       "      <td>0.500000</td>\n",
       "      <td>0.233744</td>\n",
       "      <td>0.054636</td>\n",
       "    </tr>\n",
       "    <tr>\n",
       "      <th>12</th>\n",
       "      <td>GLM_grid_1_AutoML_20190415_235801_model_1</td>\n",
       "      <td>0.522591</td>\n",
       "      <td>0.220979</td>\n",
       "      <td>0.500000</td>\n",
       "      <td>0.233517</td>\n",
       "      <td>0.054530</td>\n",
       "    </tr>\n",
       "    <tr>\n",
       "      <th>13</th>\n",
       "      <td>GBM_grid_1_AutoML_20190415_235801_model_3</td>\n",
       "      <td>0.521820</td>\n",
       "      <td>0.221146</td>\n",
       "      <td>0.500000</td>\n",
       "      <td>0.233541</td>\n",
       "      <td>0.054541</td>\n",
       "    </tr>\n",
       "    <tr>\n",
       "      <th>14</th>\n",
       "      <td>DeepLearning_grid_1_AutoML_20190415_235801_mod...</td>\n",
       "      <td>0.507928</td>\n",
       "      <td>0.237229</td>\n",
       "      <td>0.500000</td>\n",
       "      <td>0.236235</td>\n",
       "      <td>0.055807</td>\n",
       "    </tr>\n",
       "    <tr>\n",
       "      <th>15</th>\n",
       "      <td>DeepLearning_grid_1_AutoML_20190415_235801_mod...</td>\n",
       "      <td>0.504735</td>\n",
       "      <td>0.237562</td>\n",
       "      <td>0.500000</td>\n",
       "      <td>0.235092</td>\n",
       "      <td>0.055268</td>\n",
       "    </tr>\n",
       "  </tbody>\n",
       "</table>\n",
       "</div>"
      ],
      "text/plain": [
       "                                             model_id       auc   logloss  \\\n",
       "0   StackedEnsemble_BestOfFamily_AutoML_20190415_2...  0.861552  0.156262   \n",
       "1    StackedEnsemble_AllModels_AutoML_20190415_235801  0.860448  0.156327   \n",
       "2           GBM_grid_1_AutoML_20190415_235801_model_1  0.860402  0.170265   \n",
       "3                        XRT_1_AutoML_20190415_235801  0.848309  0.170001   \n",
       "4                        DRF_1_AutoML_20190415_235801  0.847216  0.176933   \n",
       "5                        GBM_4_AutoML_20190415_235801  0.843034  0.159992   \n",
       "6                        GBM_3_AutoML_20190415_235801  0.839973  0.163117   \n",
       "7                        GBM_5_AutoML_20190415_235801  0.836560  0.164695   \n",
       "8                        GBM_2_AutoML_20190415_235801  0.834621  0.165739   \n",
       "9                        GBM_1_AutoML_20190415_235801  0.825490  0.169833   \n",
       "10          GBM_grid_1_AutoML_20190415_235801_model_2  0.685419  0.219852   \n",
       "11              DeepLearning_1_AutoML_20190415_235801  0.567064  0.223093   \n",
       "12          GLM_grid_1_AutoML_20190415_235801_model_1  0.522591  0.220979   \n",
       "13          GBM_grid_1_AutoML_20190415_235801_model_3  0.521820  0.221146   \n",
       "14  DeepLearning_grid_1_AutoML_20190415_235801_mod...  0.507928  0.237229   \n",
       "15  DeepLearning_grid_1_AutoML_20190415_235801_mod...  0.504735  0.237562   \n",
       "\n",
       "    mean_per_class_error      rmse       mse  \n",
       "0               0.335448  0.200608  0.040244  \n",
       "1               0.329694  0.200633  0.040254  \n",
       "2               0.336112  0.212300  0.045071  \n",
       "3               0.360640  0.202310  0.040929  \n",
       "4               0.350980  0.201532  0.040615  \n",
       "5               0.383300  0.203426  0.041382  \n",
       "6               0.390055  0.206017  0.042443  \n",
       "7               0.410981  0.206961  0.042833  \n",
       "8               0.420936  0.207791  0.043177  \n",
       "9               0.424946  0.210397  0.044267  \n",
       "10              0.481423  0.233227  0.054395  \n",
       "11              0.500000  0.233744  0.054636  \n",
       "12              0.500000  0.233517  0.054530  \n",
       "13              0.500000  0.233541  0.054541  \n",
       "14              0.500000  0.236235  0.055807  \n",
       "15              0.500000  0.235092  0.055268  "
      ]
     },
     "execution_count": 90,
     "metadata": {},
     "output_type": "execute_result"
    }
   ],
   "source": [
    "aml_leaderboard_df"
   ]
  },
  {
   "cell_type": "code",
   "execution_count": 91,
   "metadata": {},
   "outputs": [],
   "source": [
    "length = len(aml_leaderboard_df)- 1\n",
    "length\n",
    "meta_data[\"Models_generated\"] = length"
   ]
  },
  {
   "cell_type": "markdown",
   "metadata": {},
   "source": [
    "### Saving Leaderboard into csv"
   ]
  },
  {
   "cell_type": "code",
   "execution_count": 92,
   "metadata": {},
   "outputs": [],
   "source": [
    "# save leaderboard to csv\n",
    "# run_time = run_time.ascharacter()\n",
    "leaderboard_stats=run_id+'EmpAccess_500' + '_leaderboard.csv'\n",
    "aml_leaderboard_df.to_csv(leaderboard_stats)"
   ]
  },
  {
   "cell_type": "markdown",
   "metadata": {},
   "source": [
    "### Generating hyperparameters for the best model on the leaderboard"
   ]
  },
  {
   "cell_type": "code",
   "execution_count": 93,
   "metadata": {},
   "outputs": [],
   "source": [
    "# STart best model as first model\n",
    "model_set=aml_leaderboard_df['model_id']\n",
    "mod_best=h2o.get_model(model_set[0])"
   ]
  },
  {
   "cell_type": "code",
   "execution_count": 94,
   "metadata": {
    "scrolled": true
   },
   "outputs": [
    {
     "data": {
      "text/plain": [
       "{'model_id': {'default': None,\n",
       "  'actual': {'__meta': {'schema_version': 3,\n",
       "    'schema_name': 'ModelKeyV3',\n",
       "    'schema_type': 'Key<Model>'},\n",
       "   'name': 'StackedEnsemble_BestOfFamily_AutoML_20190415_235801',\n",
       "   'type': 'Key<Model>',\n",
       "   'URL': '/3/Models/StackedEnsemble_BestOfFamily_AutoML_20190415_235801'}},\n",
       " 'training_frame': {'default': None,\n",
       "  'actual': {'__meta': {'schema_version': 3,\n",
       "    'schema_name': 'FrameKeyV3',\n",
       "    'schema_type': 'Key<Frame>'},\n",
       "   'name': 'automl_training_py_13_sid_870a',\n",
       "   'type': 'Key<Frame>',\n",
       "   'URL': '/3/Frames/automl_training_py_13_sid_870a'}},\n",
       " 'response_column': {'default': None,\n",
       "  'actual': {'__meta': {'schema_version': 3,\n",
       "    'schema_name': 'ColSpecifierV3',\n",
       "    'schema_type': 'VecSpecifier'},\n",
       "   'column_name': 'ACTION',\n",
       "   'is_member_of_frames': None}},\n",
       " 'validation_frame': {'default': None, 'actual': None},\n",
       " 'blending_frame': {'default': None, 'actual': None},\n",
       " 'base_models': {'default': [],\n",
       "  'actual': [{'__meta': {'schema_version': 3,\n",
       "     'schema_name': 'ModelKeyV3',\n",
       "     'schema_type': 'Key<Model>'},\n",
       "    'name': 'GBM_grid_1_AutoML_20190415_235801_model_1',\n",
       "    'type': 'Key<Model>',\n",
       "    'URL': '/3/Models/GBM_grid_1_AutoML_20190415_235801_model_1'},\n",
       "   {'__meta': {'schema_version': 3,\n",
       "     'schema_name': 'ModelKeyV3',\n",
       "     'schema_type': 'Key<Model>'},\n",
       "    'name': 'XRT_1_AutoML_20190415_235801',\n",
       "    'type': 'Key<Model>',\n",
       "    'URL': '/3/Models/XRT_1_AutoML_20190415_235801'},\n",
       "   {'__meta': {'schema_version': 3,\n",
       "     'schema_name': 'ModelKeyV3',\n",
       "     'schema_type': 'Key<Model>'},\n",
       "    'name': 'DRF_1_AutoML_20190415_235801',\n",
       "    'type': 'Key<Model>',\n",
       "    'URL': '/3/Models/DRF_1_AutoML_20190415_235801'},\n",
       "   {'__meta': {'schema_version': 3,\n",
       "     'schema_name': 'ModelKeyV3',\n",
       "     'schema_type': 'Key<Model>'},\n",
       "    'name': 'DeepLearning_1_AutoML_20190415_235801',\n",
       "    'type': 'Key<Model>',\n",
       "    'URL': '/3/Models/DeepLearning_1_AutoML_20190415_235801'},\n",
       "   {'__meta': {'schema_version': 3,\n",
       "     'schema_name': 'ModelKeyV3',\n",
       "     'schema_type': 'Key<Model>'},\n",
       "    'name': 'GLM_grid_1_AutoML_20190415_235801_model_1',\n",
       "    'type': 'Key<Model>',\n",
       "    'URL': '/3/Models/GLM_grid_1_AutoML_20190415_235801_model_1'}]},\n",
       " 'metalearner_algorithm': {'default': 'AUTO', 'actual': 'AUTO'},\n",
       " 'metalearner_nfolds': {'default': 0, 'actual': 5},\n",
       " 'metalearner_fold_assignment': {'default': None, 'actual': None},\n",
       " 'metalearner_fold_column': {'default': None, 'actual': None},\n",
       " 'metalearner_params': {'default': '', 'actual': ''},\n",
       " 'seed': {'default': -1, 'actual': 6559802127372464096},\n",
       " 'keep_levelone_frame': {'default': False, 'actual': True},\n",
       " 'export_checkpoints_dir': {'default': None, 'actual': None}}"
      ]
     },
     "execution_count": 94,
     "metadata": {},
     "output_type": "execute_result"
    }
   ],
   "source": [
    "mod_best.params"
   ]
  },
  {
   "cell_type": "code",
   "execution_count": 95,
   "metadata": {},
   "outputs": [
    {
     "name": "stdout",
     "output_type": "stream",
     "text": [
      "Model Details\n",
      "=============\n",
      "H2OStackedEnsembleEstimator :  Stacked Ensemble\n",
      "Model Key:  StackedEnsemble_BestOfFamily_AutoML_20190415_235801\n",
      "No model summary for this model\n",
      "\n",
      "\n",
      "ModelMetricsBinomialGLM: stackedensemble\n",
      "** Reported on train data. **\n",
      "\n",
      "MSE: 0.02011199327953417\n",
      "RMSE: 0.141816759515701\n",
      "LogLoss: 0.08107665014737735\n",
      "Null degrees of freedom: 32768\n",
      "Residual degrees of freedom: 32764\n",
      "Null deviance: 14491.899767390338\n",
      "Residual deviance: 5313.601497358816\n",
      "AIC: 5323.601497358816\n",
      "AUC: 0.9922240528443118\n",
      "pr_auc: 0.9956375728848502\n",
      "Gini: 0.9844481056886236\n",
      "Confusion Matrix (Act/Pred) for max f1 @ threshold = 0.7513047464307223: \n"
     ]
    },
    {
     "data": {
      "text/html": [
       "<div style=\"overflow:auto\"><table style=\"width:50%\"><tr><td><b></b></td>\n",
       "<td><b>0</b></td>\n",
       "<td><b>1</b></td>\n",
       "<td><b>Error</b></td>\n",
       "<td><b>Rate</b></td></tr>\n",
       "<tr><td>0</td>\n",
       "<td>1477.0</td>\n",
       "<td>420.0</td>\n",
       "<td>0.2214</td>\n",
       "<td> (420.0/1897.0)</td></tr>\n",
       "<tr><td>1</td>\n",
       "<td>316.0</td>\n",
       "<td>30556.0</td>\n",
       "<td>0.0102</td>\n",
       "<td> (316.0/30872.0)</td></tr>\n",
       "<tr><td>Total</td>\n",
       "<td>1793.0</td>\n",
       "<td>30976.0</td>\n",
       "<td>0.0225</td>\n",
       "<td> (736.0/32769.0)</td></tr></table></div>"
      ],
      "text/plain": [
       "       0     1      Error    Rate\n",
       "-----  ----  -----  -------  ---------------\n",
       "0      1477  420    0.2214   (420.0/1897.0)\n",
       "1      316   30556  0.0102   (316.0/30872.0)\n",
       "Total  1793  30976  0.0225   (736.0/32769.0)"
      ]
     },
     "metadata": {},
     "output_type": "display_data"
    },
    {
     "name": "stdout",
     "output_type": "stream",
     "text": [
      "Maximum Metrics: Maximum metrics at their respective thresholds\n",
      "\n"
     ]
    },
    {
     "data": {
      "text/html": [
       "<div style=\"overflow:auto\"><table style=\"width:50%\"><tr><td><b>metric</b></td>\n",
       "<td><b>threshold</b></td>\n",
       "<td><b>value</b></td>\n",
       "<td><b>idx</b></td></tr>\n",
       "<tr><td>max f1</td>\n",
       "<td>0.7513047</td>\n",
       "<td>0.9880999</td>\n",
       "<td>176.0</td></tr>\n",
       "<tr><td>max f2</td>\n",
       "<td>0.2649637</td>\n",
       "<td>0.9913921</td>\n",
       "<td>313.0</td></tr>\n",
       "<tr><td>max f0point5</td>\n",
       "<td>0.8862056</td>\n",
       "<td>0.9913736</td>\n",
       "<td>122.0</td></tr>\n",
       "<tr><td>max accuracy</td>\n",
       "<td>0.7513047</td>\n",
       "<td>0.9775397</td>\n",
       "<td>176.0</td></tr>\n",
       "<tr><td>max precision</td>\n",
       "<td>0.9828978</td>\n",
       "<td>1.0</td>\n",
       "<td>0.0</td></tr>\n",
       "<tr><td>max recall</td>\n",
       "<td>0.0291408</td>\n",
       "<td>1.0</td>\n",
       "<td>386.0</td></tr>\n",
       "<tr><td>max specificity</td>\n",
       "<td>0.9828978</td>\n",
       "<td>1.0</td>\n",
       "<td>0.0</td></tr>\n",
       "<tr><td>max absolute_mcc</td>\n",
       "<td>0.8497435</td>\n",
       "<td>0.7994737</td>\n",
       "<td>138.0</td></tr>\n",
       "<tr><td>max min_per_class_accuracy</td>\n",
       "<td>0.9237428</td>\n",
       "<td>0.9634296</td>\n",
       "<td>99.0</td></tr>\n",
       "<tr><td>max mean_per_class_accuracy</td>\n",
       "<td>0.9393746</td>\n",
       "<td>0.9654607</td>\n",
       "<td>86.0</td></tr></table></div>"
      ],
      "text/plain": [
       "metric                       threshold    value     idx\n",
       "---------------------------  -----------  --------  -----\n",
       "max f1                       0.751305     0.9881    176\n",
       "max f2                       0.264964     0.991392  313\n",
       "max f0point5                 0.886206     0.991374  122\n",
       "max accuracy                 0.751305     0.97754   176\n",
       "max precision                0.982898     1         0\n",
       "max recall                   0.0291408    1         386\n",
       "max specificity              0.982898     1         0\n",
       "max absolute_mcc             0.849743     0.799474  138\n",
       "max min_per_class_accuracy   0.923743     0.96343   99\n",
       "max mean_per_class_accuracy  0.939375     0.965461  86"
      ]
     },
     "metadata": {},
     "output_type": "display_data"
    },
    {
     "name": "stdout",
     "output_type": "stream",
     "text": [
      "Gains/Lift Table: Avg response rate: 94.21 %, avg score: 93.46 %\n",
      "\n"
     ]
    },
    {
     "data": {
      "text/html": [
       "<div style=\"overflow:auto\"><table style=\"width:50%\"><tr><td><b></b></td>\n",
       "<td><b>group</b></td>\n",
       "<td><b>cumulative_data_fraction</b></td>\n",
       "<td><b>lower_threshold</b></td>\n",
       "<td><b>lift</b></td>\n",
       "<td><b>cumulative_lift</b></td>\n",
       "<td><b>response_rate</b></td>\n",
       "<td><b>score</b></td>\n",
       "<td><b>cumulative_response_rate</b></td>\n",
       "<td><b>cumulative_score</b></td>\n",
       "<td><b>capture_rate</b></td>\n",
       "<td><b>cumulative_capture_rate</b></td>\n",
       "<td><b>gain</b></td>\n",
       "<td><b>cumulative_gain</b></td></tr>\n",
       "<tr><td></td>\n",
       "<td>1</td>\n",
       "<td>0.0100095</td>\n",
       "<td>0.9822443</td>\n",
       "<td>1.0614473</td>\n",
       "<td>1.0614473</td>\n",
       "<td>1.0</td>\n",
       "<td>0.9826263</td>\n",
       "<td>1.0</td>\n",
       "<td>0.9826263</td>\n",
       "<td>0.0106245</td>\n",
       "<td>0.0106245</td>\n",
       "<td>6.1447266</td>\n",
       "<td>6.1447266</td></tr>\n",
       "<tr><td></td>\n",
       "<td>2</td>\n",
       "<td>0.0200189</td>\n",
       "<td>0.9818427</td>\n",
       "<td>1.0614473</td>\n",
       "<td>1.0614473</td>\n",
       "<td>1.0</td>\n",
       "<td>0.9820136</td>\n",
       "<td>1.0</td>\n",
       "<td>0.9823200</td>\n",
       "<td>0.0106245</td>\n",
       "<td>0.0212490</td>\n",
       "<td>6.1447266</td>\n",
       "<td>6.1447266</td></tr>\n",
       "<tr><td></td>\n",
       "<td>3</td>\n",
       "<td>0.0300284</td>\n",
       "<td>0.9815676</td>\n",
       "<td>1.0614473</td>\n",
       "<td>1.0614473</td>\n",
       "<td>1.0</td>\n",
       "<td>0.9816907</td>\n",
       "<td>1.0</td>\n",
       "<td>0.9821102</td>\n",
       "<td>0.0106245</td>\n",
       "<td>0.0318735</td>\n",
       "<td>6.1447266</td>\n",
       "<td>6.1447266</td></tr>\n",
       "<tr><td></td>\n",
       "<td>4</td>\n",
       "<td>0.0400073</td>\n",
       "<td>0.9813888</td>\n",
       "<td>1.0614473</td>\n",
       "<td>1.0614473</td>\n",
       "<td>1.0</td>\n",
       "<td>0.9814762</td>\n",
       "<td>1.0</td>\n",
       "<td>0.9819521</td>\n",
       "<td>0.0105921</td>\n",
       "<td>0.0424657</td>\n",
       "<td>6.1447266</td>\n",
       "<td>6.1447266</td></tr>\n",
       "<tr><td></td>\n",
       "<td>5</td>\n",
       "<td>0.0500168</td>\n",
       "<td>0.9812405</td>\n",
       "<td>1.0614473</td>\n",
       "<td>1.0614473</td>\n",
       "<td>1.0</td>\n",
       "<td>0.9813114</td>\n",
       "<td>1.0</td>\n",
       "<td>0.9818239</td>\n",
       "<td>0.0106245</td>\n",
       "<td>0.0530902</td>\n",
       "<td>6.1447266</td>\n",
       "<td>6.1447266</td></tr>\n",
       "<tr><td></td>\n",
       "<td>6</td>\n",
       "<td>0.1000031</td>\n",
       "<td>0.9806806</td>\n",
       "<td>1.0614473</td>\n",
       "<td>1.0614473</td>\n",
       "<td>1.0</td>\n",
       "<td>0.9809437</td>\n",
       "<td>1.0</td>\n",
       "<td>0.9813839</td>\n",
       "<td>0.0530578</td>\n",
       "<td>0.1061480</td>\n",
       "<td>6.1447266</td>\n",
       "<td>6.1447266</td></tr>\n",
       "<tr><td></td>\n",
       "<td>7</td>\n",
       "<td>0.1500198</td>\n",
       "<td>0.9802225</td>\n",
       "<td>1.0614473</td>\n",
       "<td>1.0614473</td>\n",
       "<td>1.0</td>\n",
       "<td>0.9804428</td>\n",
       "<td>1.0</td>\n",
       "<td>0.9810701</td>\n",
       "<td>0.0530902</td>\n",
       "<td>0.1592381</td>\n",
       "<td>6.1447266</td>\n",
       "<td>6.1447266</td></tr>\n",
       "<tr><td></td>\n",
       "<td>8</td>\n",
       "<td>0.2000061</td>\n",
       "<td>0.9797985</td>\n",
       "<td>1.0614473</td>\n",
       "<td>1.0614473</td>\n",
       "<td>1.0</td>\n",
       "<td>0.9800100</td>\n",
       "<td>1.0</td>\n",
       "<td>0.9808052</td>\n",
       "<td>0.0530578</td>\n",
       "<td>0.2122959</td>\n",
       "<td>6.1447266</td>\n",
       "<td>6.1447266</td></tr>\n",
       "<tr><td></td>\n",
       "<td>9</td>\n",
       "<td>0.3000092</td>\n",
       "<td>0.9789186</td>\n",
       "<td>1.0614473</td>\n",
       "<td>1.0614473</td>\n",
       "<td>1.0</td>\n",
       "<td>0.9793674</td>\n",
       "<td>1.0</td>\n",
       "<td>0.9803259</td>\n",
       "<td>0.1061480</td>\n",
       "<td>0.3184439</td>\n",
       "<td>6.1447266</td>\n",
       "<td>6.1447266</td></tr>\n",
       "<tr><td></td>\n",
       "<td>10</td>\n",
       "<td>0.4000122</td>\n",
       "<td>0.9779296</td>\n",
       "<td>1.0614473</td>\n",
       "<td>1.0614473</td>\n",
       "<td>1.0</td>\n",
       "<td>0.9784432</td>\n",
       "<td>1.0</td>\n",
       "<td>0.9798552</td>\n",
       "<td>0.1061480</td>\n",
       "<td>0.4245919</td>\n",
       "<td>6.1447266</td>\n",
       "<td>6.1447266</td></tr>\n",
       "<tr><td></td>\n",
       "<td>11</td>\n",
       "<td>0.5000153</td>\n",
       "<td>0.9766154</td>\n",
       "<td>1.0614473</td>\n",
       "<td>1.0614473</td>\n",
       "<td>1.0</td>\n",
       "<td>0.9773165</td>\n",
       "<td>1.0</td>\n",
       "<td>0.9793475</td>\n",
       "<td>0.1061480</td>\n",
       "<td>0.5307398</td>\n",
       "<td>6.1447266</td>\n",
       "<td>6.1447266</td></tr>\n",
       "<tr><td></td>\n",
       "<td>12</td>\n",
       "<td>0.5999878</td>\n",
       "<td>0.9745984</td>\n",
       "<td>1.0614473</td>\n",
       "<td>1.0614473</td>\n",
       "<td>1.0</td>\n",
       "<td>0.9756858</td>\n",
       "<td>1.0</td>\n",
       "<td>0.9787374</td>\n",
       "<td>0.1061156</td>\n",
       "<td>0.6368554</td>\n",
       "<td>6.1447266</td>\n",
       "<td>6.1447266</td></tr>\n",
       "<tr><td></td>\n",
       "<td>13</td>\n",
       "<td>0.6999908</td>\n",
       "<td>0.9714692</td>\n",
       "<td>1.0614473</td>\n",
       "<td>1.0614473</td>\n",
       "<td>1.0</td>\n",
       "<td>0.9731435</td>\n",
       "<td>1.0</td>\n",
       "<td>0.9779382</td>\n",
       "<td>0.1061480</td>\n",
       "<td>0.7430034</td>\n",
       "<td>6.1447266</td>\n",
       "<td>6.1447266</td></tr>\n",
       "<tr><td></td>\n",
       "<td>14</td>\n",
       "<td>0.7999939</td>\n",
       "<td>0.9650810</td>\n",
       "<td>1.0611234</td>\n",
       "<td>1.0614068</td>\n",
       "<td>0.9996948</td>\n",
       "<td>0.9686532</td>\n",
       "<td>0.9999619</td>\n",
       "<td>0.9767775</td>\n",
       "<td>0.1061156</td>\n",
       "<td>0.8491189</td>\n",
       "<td>6.1123358</td>\n",
       "<td>6.1406776</td></tr>\n",
       "<tr><td></td>\n",
       "<td>15</td>\n",
       "<td>0.8999969</td>\n",
       "<td>0.9346513</td>\n",
       "<td>1.0458997</td>\n",
       "<td>1.0596837</td>\n",
       "<td>0.9853525</td>\n",
       "<td>0.9555768</td>\n",
       "<td>0.9983385</td>\n",
       "<td>0.9744218</td>\n",
       "<td>0.1045932</td>\n",
       "<td>0.9537121</td>\n",
       "<td>4.5899671</td>\n",
       "<td>5.9683706</td></tr>\n",
       "<tr><td></td>\n",
       "<td>16</td>\n",
       "<td>1.0</td>\n",
       "<td>0.0020516</td>\n",
       "<td>0.4628649</td>\n",
       "<td>1.0</td>\n",
       "<td>0.4360696</td>\n",
       "<td>0.5761896</td>\n",
       "<td>0.9421099</td>\n",
       "<td>0.9345974</td>\n",
       "<td>0.0462879</td>\n",
       "<td>1.0</td>\n",
       "<td>-53.7135141</td>\n",
       "<td>0.0</td></tr></table></div>"
      ],
      "text/plain": [
       "    group    cumulative_data_fraction    lower_threshold    lift      cumulative_lift    response_rate    score     cumulative_response_rate    cumulative_score    capture_rate    cumulative_capture_rate    gain      cumulative_gain\n",
       "--  -------  --------------------------  -----------------  --------  -----------------  ---------------  --------  --------------------------  ------------------  --------------  -------------------------  --------  -----------------\n",
       "    1        0.0100095                   0.982244           1.06145   1.06145            1                0.982626  1                           0.982626            0.0106245       0.0106245                  6.14473   6.14473\n",
       "    2        0.0200189                   0.981843           1.06145   1.06145            1                0.982014  1                           0.98232             0.0106245       0.021249                   6.14473   6.14473\n",
       "    3        0.0300284                   0.981568           1.06145   1.06145            1                0.981691  1                           0.98211             0.0106245       0.0318735                  6.14473   6.14473\n",
       "    4        0.0400073                   0.981389           1.06145   1.06145            1                0.981476  1                           0.981952            0.0105921       0.0424657                  6.14473   6.14473\n",
       "    5        0.0500168                   0.981241           1.06145   1.06145            1                0.981311  1                           0.981824            0.0106245       0.0530902                  6.14473   6.14473\n",
       "    6        0.100003                    0.980681           1.06145   1.06145            1                0.980944  1                           0.981384            0.0530578       0.106148                   6.14473   6.14473\n",
       "    7        0.15002                     0.980223           1.06145   1.06145            1                0.980443  1                           0.98107             0.0530902       0.159238                   6.14473   6.14473\n",
       "    8        0.200006                    0.979799           1.06145   1.06145            1                0.98001   1                           0.980805            0.0530578       0.212296                   6.14473   6.14473\n",
       "    9        0.300009                    0.978919           1.06145   1.06145            1                0.979367  1                           0.980326            0.106148        0.318444                   6.14473   6.14473\n",
       "    10       0.400012                    0.97793            1.06145   1.06145            1                0.978443  1                           0.979855            0.106148        0.424592                   6.14473   6.14473\n",
       "    11       0.500015                    0.976615           1.06145   1.06145            1                0.977317  1                           0.979348            0.106148        0.53074                    6.14473   6.14473\n",
       "    12       0.599988                    0.974598           1.06145   1.06145            1                0.975686  1                           0.978737            0.106116        0.636855                   6.14473   6.14473\n",
       "    13       0.699991                    0.971469           1.06145   1.06145            1                0.973143  1                           0.977938            0.106148        0.743003                   6.14473   6.14473\n",
       "    14       0.799994                    0.965081           1.06112   1.06141            0.999695         0.968653  0.999962                    0.976778            0.106116        0.849119                   6.11234   6.14068\n",
       "    15       0.899997                    0.934651           1.0459    1.05968            0.985352         0.955577  0.998339                    0.974422            0.104593        0.953712                   4.58997   5.96837\n",
       "    16       1                           0.0020516          0.462865  1                  0.43607          0.57619   0.94211                     0.934597            0.0462879       1                          -53.7135  0"
      ]
     },
     "metadata": {},
     "output_type": "display_data"
    },
    {
     "name": "stdout",
     "output_type": "stream",
     "text": [
      "\n",
      "\n",
      "ModelMetricsBinomialGLM: stackedensemble\n",
      "** Reported on cross-validation data. **\n",
      "\n",
      "MSE: 0.040243605539043666\n",
      "RMSE: 0.20060808941576525\n",
      "LogLoss: 0.1562618752179024\n",
      "Null degrees of freedom: 32768\n",
      "Residual degrees of freedom: 32764\n",
      "Null deviance: 14492.371329898797\n",
      "Residual deviance: 10241.090778030888\n",
      "AIC: 10251.090778030888\n",
      "AUC: 0.8615520878767815\n",
      "pr_auc: 0.983736132180451\n",
      "Gini: 0.723104175753563\n",
      "Confusion Matrix (Act/Pred) for max f1 @ threshold = 0.6067619283931481: \n"
     ]
    },
    {
     "data": {
      "text/html": [
       "<div style=\"overflow:auto\"><table style=\"width:50%\"><tr><td><b></b></td>\n",
       "<td><b>0</b></td>\n",
       "<td><b>1</b></td>\n",
       "<td><b>Error</b></td>\n",
       "<td><b>Rate</b></td></tr>\n",
       "<tr><td>0</td>\n",
       "<td>646.0</td>\n",
       "<td>1251.0</td>\n",
       "<td>0.6595</td>\n",
       "<td> (1251.0/1897.0)</td></tr>\n",
       "<tr><td>1</td>\n",
       "<td>353.0</td>\n",
       "<td>30519.0</td>\n",
       "<td>0.0114</td>\n",
       "<td> (353.0/30872.0)</td></tr>\n",
       "<tr><td>Total</td>\n",
       "<td>999.0</td>\n",
       "<td>31770.0</td>\n",
       "<td>0.0489</td>\n",
       "<td> (1604.0/32769.0)</td></tr></table></div>"
      ],
      "text/plain": [
       "       0    1      Error    Rate\n",
       "-----  ---  -----  -------  ----------------\n",
       "0      646  1251   0.6595   (1251.0/1897.0)\n",
       "1      353  30519  0.0114   (353.0/30872.0)\n",
       "Total  999  31770  0.0489   (1604.0/32769.0)"
      ]
     },
     "metadata": {},
     "output_type": "display_data"
    },
    {
     "name": "stdout",
     "output_type": "stream",
     "text": [
      "Maximum Metrics: Maximum metrics at their respective thresholds\n",
      "\n"
     ]
    },
    {
     "data": {
      "text/html": [
       "<div style=\"overflow:auto\"><table style=\"width:50%\"><tr><td><b>metric</b></td>\n",
       "<td><b>threshold</b></td>\n",
       "<td><b>value</b></td>\n",
       "<td><b>idx</b></td></tr>\n",
       "<tr><td>max f1</td>\n",
       "<td>0.6067619</td>\n",
       "<td>0.9743942</td>\n",
       "<td>240.0</td></tr>\n",
       "<tr><td>max f2</td>\n",
       "<td>0.0430560</td>\n",
       "<td>0.9880303</td>\n",
       "<td>386.0</td></tr>\n",
       "<tr><td>max f0point5</td>\n",
       "<td>0.8549880</td>\n",
       "<td>0.9706867</td>\n",
       "<td>150.0</td></tr>\n",
       "<tr><td>max accuracy</td>\n",
       "<td>0.6527983</td>\n",
       "<td>0.9511123</td>\n",
       "<td>228.0</td></tr>\n",
       "<tr><td>max precision</td>\n",
       "<td>0.9830328</td>\n",
       "<td>0.9950739</td>\n",
       "<td>1.0</td></tr>\n",
       "<tr><td>max recall</td>\n",
       "<td>0.0060613</td>\n",
       "<td>1.0</td>\n",
       "<td>398.0</td></tr>\n",
       "<tr><td>max specificity</td>\n",
       "<td>0.9838748</td>\n",
       "<td>0.9994729</td>\n",
       "<td>0.0</td></tr>\n",
       "<tr><td>max absolute_mcc</td>\n",
       "<td>0.8549880</td>\n",
       "<td>0.4920161</td>\n",
       "<td>150.0</td></tr>\n",
       "<tr><td>max min_per_class_accuracy</td>\n",
       "<td>0.9650919</td>\n",
       "<td>0.7904898</td>\n",
       "<td>54.0</td></tr>\n",
       "<tr><td>max mean_per_class_accuracy</td>\n",
       "<td>0.9548999</td>\n",
       "<td>0.7990502</td>\n",
       "<td>72.0</td></tr></table></div>"
      ],
      "text/plain": [
       "metric                       threshold    value     idx\n",
       "---------------------------  -----------  --------  -----\n",
       "max f1                       0.606762     0.974394  240\n",
       "max f2                       0.043056     0.98803   386\n",
       "max f0point5                 0.854988     0.970687  150\n",
       "max accuracy                 0.652798     0.951112  228\n",
       "max precision                0.983033     0.995074  1\n",
       "max recall                   0.00606126   1         398\n",
       "max specificity              0.983875     0.999473  0\n",
       "max absolute_mcc             0.854988     0.492016  150\n",
       "max min_per_class_accuracy   0.965092     0.79049   54\n",
       "max mean_per_class_accuracy  0.9549       0.79905   72"
      ]
     },
     "metadata": {},
     "output_type": "display_data"
    },
    {
     "name": "stdout",
     "output_type": "stream",
     "text": [
      "Gains/Lift Table: Avg response rate: 94.21 %, avg score: 94.21 %\n",
      "\n"
     ]
    },
    {
     "data": {
      "text/html": [
       "<div style=\"overflow:auto\"><table style=\"width:50%\"><tr><td><b></b></td>\n",
       "<td><b>group</b></td>\n",
       "<td><b>cumulative_data_fraction</b></td>\n",
       "<td><b>lower_threshold</b></td>\n",
       "<td><b>lift</b></td>\n",
       "<td><b>cumulative_lift</b></td>\n",
       "<td><b>response_rate</b></td>\n",
       "<td><b>score</b></td>\n",
       "<td><b>cumulative_response_rate</b></td>\n",
       "<td><b>cumulative_score</b></td>\n",
       "<td><b>capture_rate</b></td>\n",
       "<td><b>cumulative_capture_rate</b></td>\n",
       "<td><b>gain</b></td>\n",
       "<td><b>cumulative_gain</b></td></tr>\n",
       "<tr><td></td>\n",
       "<td>1</td>\n",
       "<td>0.0100095</td>\n",
       "<td>0.9824838</td>\n",
       "<td>1.0517389</td>\n",
       "<td>1.0517389</td>\n",
       "<td>0.9908537</td>\n",
       "<td>0.9830700</td>\n",
       "<td>0.9908537</td>\n",
       "<td>0.9830700</td>\n",
       "<td>0.0105273</td>\n",
       "<td>0.0105273</td>\n",
       "<td>5.1738907</td>\n",
       "<td>5.1738907</td></tr>\n",
       "<tr><td></td>\n",
       "<td>2</td>\n",
       "<td>0.0200189</td>\n",
       "<td>0.9819769</td>\n",
       "<td>1.0582111</td>\n",
       "<td>1.0549750</td>\n",
       "<td>0.9969512</td>\n",
       "<td>0.9822170</td>\n",
       "<td>0.9939024</td>\n",
       "<td>0.9826435</td>\n",
       "<td>0.0105921</td>\n",
       "<td>0.0211195</td>\n",
       "<td>5.8211146</td>\n",
       "<td>5.4975027</td></tr>\n",
       "<tr><td></td>\n",
       "<td>3</td>\n",
       "<td>0.0300284</td>\n",
       "<td>0.9815917</td>\n",
       "<td>1.0452667</td>\n",
       "<td>1.0517389</td>\n",
       "<td>0.9847561</td>\n",
       "<td>0.9817793</td>\n",
       "<td>0.9908537</td>\n",
       "<td>0.9823554</td>\n",
       "<td>0.0104626</td>\n",
       "<td>0.0315820</td>\n",
       "<td>4.5266668</td>\n",
       "<td>5.1738907</td></tr>\n",
       "<tr><td></td>\n",
       "<td>4</td>\n",
       "<td>0.0400073</td>\n",
       "<td>0.9813120</td>\n",
       "<td>1.0419712</td>\n",
       "<td>1.0493026</td>\n",
       "<td>0.9816514</td>\n",
       "<td>0.9814461</td>\n",
       "<td>0.9885584</td>\n",
       "<td>0.9821286</td>\n",
       "<td>0.0103978</td>\n",
       "<td>0.0419798</td>\n",
       "<td>4.1971170</td>\n",
       "<td>4.9302561</td></tr>\n",
       "<tr><td></td>\n",
       "<td>5</td>\n",
       "<td>0.0500168</td>\n",
       "<td>0.9810742</td>\n",
       "<td>1.0485028</td>\n",
       "<td>1.0491425</td>\n",
       "<td>0.9878049</td>\n",
       "<td>0.9811950</td>\n",
       "<td>0.9884076</td>\n",
       "<td>0.9819418</td>\n",
       "<td>0.0104949</td>\n",
       "<td>0.0524747</td>\n",
       "<td>4.8502787</td>\n",
       "<td>4.9142508</td></tr>\n",
       "<tr><td></td>\n",
       "<td>6</td>\n",
       "<td>0.1000031</td>\n",
       "<td>0.9802381</td>\n",
       "<td>1.0523751</td>\n",
       "<td>1.0507583</td>\n",
       "<td>0.9914530</td>\n",
       "<td>0.9806237</td>\n",
       "<td>0.9899298</td>\n",
       "<td>0.9812829</td>\n",
       "<td>0.0526043</td>\n",
       "<td>0.1050790</td>\n",
       "<td>5.2375067</td>\n",
       "<td>5.0758295</td></tr>\n",
       "<tr><td></td>\n",
       "<td>7</td>\n",
       "<td>0.1500198</td>\n",
       "<td>0.9795893</td>\n",
       "<td>1.0484949</td>\n",
       "<td>1.0500037</td>\n",
       "<td>0.9877974</td>\n",
       "<td>0.9799023</td>\n",
       "<td>0.9892189</td>\n",
       "<td>0.9808226</td>\n",
       "<td>0.0524423</td>\n",
       "<td>0.1575214</td>\n",
       "<td>4.8494889</td>\n",
       "<td>5.0003673</td></tr>\n",
       "<tr><td></td>\n",
       "<td>8</td>\n",
       "<td>0.2000061</td>\n",
       "<td>0.9790074</td>\n",
       "<td>1.0484870</td>\n",
       "<td>1.0496246</td>\n",
       "<td>0.9877900</td>\n",
       "<td>0.9792890</td>\n",
       "<td>0.9888618</td>\n",
       "<td>0.9804394</td>\n",
       "<td>0.0524100</td>\n",
       "<td>0.2099313</td>\n",
       "<td>4.8486982</td>\n",
       "<td>4.9624616</td></tr>\n",
       "<tr><td></td>\n",
       "<td>9</td>\n",
       "<td>0.3000092</td>\n",
       "<td>0.9778528</td>\n",
       "<td>1.0507583</td>\n",
       "<td>1.0500025</td>\n",
       "<td>0.9899298</td>\n",
       "<td>0.9784389</td>\n",
       "<td>0.9892178</td>\n",
       "<td>0.9797726</td>\n",
       "<td>0.1050790</td>\n",
       "<td>0.3150104</td>\n",
       "<td>5.0758295</td>\n",
       "<td>5.0002509</td></tr>\n",
       "<tr><td></td>\n",
       "<td>10</td>\n",
       "<td>0.4000122</td>\n",
       "<td>0.9765554</td>\n",
       "<td>1.0481670</td>\n",
       "<td>1.0495436</td>\n",
       "<td>0.9874886</td>\n",
       "<td>0.9772147</td>\n",
       "<td>0.9887855</td>\n",
       "<td>0.9791331</td>\n",
       "<td>0.1048199</td>\n",
       "<td>0.4198303</td>\n",
       "<td>4.8167029</td>\n",
       "<td>4.9543639</td></tr>\n",
       "<tr><td></td>\n",
       "<td>11</td>\n",
       "<td>0.5000153</td>\n",
       "<td>0.9748188</td>\n",
       "<td>1.0455758</td>\n",
       "<td>1.0487501</td>\n",
       "<td>0.9850473</td>\n",
       "<td>0.9757451</td>\n",
       "<td>0.9880378</td>\n",
       "<td>0.9784555</td>\n",
       "<td>0.1045608</td>\n",
       "<td>0.5243910</td>\n",
       "<td>4.5575763</td>\n",
       "<td>4.8750064</td></tr>\n",
       "<tr><td></td>\n",
       "<td>12</td>\n",
       "<td>0.5999878</td>\n",
       "<td>0.9723421</td>\n",
       "<td>1.0413588</td>\n",
       "<td>1.0475185</td>\n",
       "<td>0.9810745</td>\n",
       "<td>0.9736761</td>\n",
       "<td>0.9868776</td>\n",
       "<td>0.9776591</td>\n",
       "<td>0.1041073</td>\n",
       "<td>0.6284983</td>\n",
       "<td>4.1358826</td>\n",
       "<td>4.7518504</td></tr>\n",
       "<tr><td></td>\n",
       "<td>13</td>\n",
       "<td>0.6999908</td>\n",
       "<td>0.9684055</td>\n",
       "<td>1.0365063</td>\n",
       "<td>1.0459453</td>\n",
       "<td>0.9765029</td>\n",
       "<td>0.9705639</td>\n",
       "<td>0.9853954</td>\n",
       "<td>0.9766455</td>\n",
       "<td>0.1036538</td>\n",
       "<td>0.7321521</td>\n",
       "<td>3.6506333</td>\n",
       "<td>4.5945268</td></tr>\n",
       "<tr><td></td>\n",
       "<td>14</td>\n",
       "<td>0.7999939</td>\n",
       "<td>0.9602986</td>\n",
       "<td>1.0219305</td>\n",
       "<td>1.0429433</td>\n",
       "<td>0.9627708</td>\n",
       "<td>0.9650124</td>\n",
       "<td>0.9825672</td>\n",
       "<td>0.9751913</td>\n",
       "<td>0.1021962</td>\n",
       "<td>0.8343483</td>\n",
       "<td>2.1930462</td>\n",
       "<td>4.2943303</td></tr>\n",
       "<tr><td></td>\n",
       "<td>15</td>\n",
       "<td>0.8999969</td>\n",
       "<td>0.9295378</td>\n",
       "<td>0.9846810</td>\n",
       "<td>1.0364695</td>\n",
       "<td>0.9276778</td>\n",
       "<td>0.9493431</td>\n",
       "<td>0.9764682</td>\n",
       "<td>0.9723192</td>\n",
       "<td>0.0984711</td>\n",
       "<td>0.9328194</td>\n",
       "<td>-1.5318984</td>\n",
       "<td>3.6469496</td></tr>\n",
       "<tr><td></td>\n",
       "<td>16</td>\n",
       "<td>1.0</td>\n",
       "<td>0.0015810</td>\n",
       "<td>0.6717857</td>\n",
       "<td>1.0</td>\n",
       "<td>0.6328959</td>\n",
       "<td>0.6699998</td>\n",
       "<td>0.9421099</td>\n",
       "<td>0.9420863</td>\n",
       "<td>0.0671806</td>\n",
       "<td>1.0</td>\n",
       "<td>-32.8214333</td>\n",
       "<td>0.0</td></tr></table></div>"
      ],
      "text/plain": [
       "    group    cumulative_data_fraction    lower_threshold    lift      cumulative_lift    response_rate    score     cumulative_response_rate    cumulative_score    capture_rate    cumulative_capture_rate    gain      cumulative_gain\n",
       "--  -------  --------------------------  -----------------  --------  -----------------  ---------------  --------  --------------------------  ------------------  --------------  -------------------------  --------  -----------------\n",
       "    1        0.0100095                   0.982484           1.05174   1.05174            0.990854         0.98307   0.990854                    0.98307             0.0105273       0.0105273                  5.17389   5.17389\n",
       "    2        0.0200189                   0.981977           1.05821   1.05498            0.996951         0.982217  0.993902                    0.982643            0.0105921       0.0211195                  5.82111   5.4975\n",
       "    3        0.0300284                   0.981592           1.04527   1.05174            0.984756         0.981779  0.990854                    0.982355            0.0104626       0.031582                   4.52667   5.17389\n",
       "    4        0.0400073                   0.981312           1.04197   1.0493             0.981651         0.981446  0.988558                    0.982129            0.0103978       0.0419798                  4.19712   4.93026\n",
       "    5        0.0500168                   0.981074           1.0485    1.04914            0.987805         0.981195  0.988408                    0.981942            0.0104949       0.0524747                  4.85028   4.91425\n",
       "    6        0.100003                    0.980238           1.05238   1.05076            0.991453         0.980624  0.98993                     0.981283            0.0526043       0.105079                   5.23751   5.07583\n",
       "    7        0.15002                     0.979589           1.04849   1.05               0.987797         0.979902  0.989219                    0.980823            0.0524423       0.157521                   4.84949   5.00037\n",
       "    8        0.200006                    0.979007           1.04849   1.04962            0.98779          0.979289  0.988862                    0.980439            0.05241         0.209931                   4.8487    4.96246\n",
       "    9        0.300009                    0.977853           1.05076   1.05               0.98993          0.978439  0.989218                    0.979773            0.105079        0.31501                    5.07583   5.00025\n",
       "    10       0.400012                    0.976555           1.04817   1.04954            0.987489         0.977215  0.988785                    0.979133            0.10482         0.41983                    4.8167    4.95436\n",
       "    11       0.500015                    0.974819           1.04558   1.04875            0.985047         0.975745  0.988038                    0.978455            0.104561        0.524391                   4.55758   4.87501\n",
       "    12       0.599988                    0.972342           1.04136   1.04752            0.981074         0.973676  0.986878                    0.977659            0.104107        0.628498                   4.13588   4.75185\n",
       "    13       0.699991                    0.968406           1.03651   1.04595            0.976503         0.970564  0.985395                    0.976645            0.103654        0.732152                   3.65063   4.59453\n",
       "    14       0.799994                    0.960299           1.02193   1.04294            0.962771         0.965012  0.982567                    0.975191            0.102196        0.834348                   2.19305   4.29433\n",
       "    15       0.899997                    0.929538           0.984681  1.03647            0.927678         0.949343  0.976468                    0.972319            0.0984711       0.932819                   -1.5319   3.64695\n",
       "    16       1                           0.001581           0.671786  1                  0.632896         0.67      0.94211                     0.942086            0.0671806       1                          -32.8214  0"
      ]
     },
     "metadata": {},
     "output_type": "display_data"
    },
    {
     "name": "stdout",
     "output_type": "stream",
     "text": [
      "\n",
      "<bound method ModelBase.coef_norm of >\n"
     ]
    }
   ],
   "source": [
    "# generating normalized coeff.\n",
    "mods=mod_best.coef_norm\n",
    "print(mods)\n"
   ]
  },
  {
   "cell_type": "markdown",
   "metadata": {},
   "source": [
    "## Generating and storing Hyperparameters of each model into JSON"
   ]
  },
  {
   "cell_type": "code",
   "execution_count": 96,
   "metadata": {},
   "outputs": [
    {
     "data": {
      "text/plain": [
       "pandas.core.series.Series"
      ]
     },
     "execution_count": 96,
     "metadata": {},
     "output_type": "execute_result"
    }
   ],
   "source": [
    "model_set=aml_leaderboard_df['model_id']\n",
    "type(model_set)"
   ]
  },
  {
   "cell_type": "code",
   "execution_count": 97,
   "metadata": {},
   "outputs": [],
   "source": [
    "jsonDicts = []\n",
    "for m in model_set.iteritems():\n",
    "    m,model_name = m\n",
    "    mod_best = h2o.get_model(model_name)\n",
    "    jsonDicts.append(mod_best.params)"
   ]
  },
  {
   "cell_type": "code",
   "execution_count": 98,
   "metadata": {
    "scrolled": true
   },
   "outputs": [
    {
     "name": "stdout",
     "output_type": "stream",
     "text": [
      "[{'model_id': {'default': None, 'actual': {'__meta': {'schema_version': 3, 'schema_name': 'ModelKeyV3', 'schema_type': 'Key<Model>'}, 'name': 'StackedEnsemble_BestOfFamily_AutoML_20190415_235801', 'type': 'Key<Model>', 'URL': '/3/Models/StackedEnsemble_BestOfFamily_AutoML_20190415_235801'}}, 'training_frame': {'default': None, 'actual': {'__meta': {'schema_version': 3, 'schema_name': 'FrameKeyV3', 'schema_type': 'Key<Frame>'}, 'name': 'automl_training_py_13_sid_870a', 'type': 'Key<Frame>', 'URL': '/3/Frames/automl_training_py_13_sid_870a'}}, 'response_column': {'default': None, 'actual': {'__meta': {'schema_version': 3, 'schema_name': 'ColSpecifierV3', 'schema_type': 'VecSpecifier'}, 'column_name': 'ACTION', 'is_member_of_frames': None}}, 'validation_frame': {'default': None, 'actual': None}, 'blending_frame': {'default': None, 'actual': None}, 'base_models': {'default': [], 'actual': [{'__meta': {'schema_version': 3, 'schema_name': 'ModelKeyV3', 'schema_type': 'Key<Model>'}, 'name': 'GBM_grid_1_AutoML_20190415_235801_model_1', 'type': 'Key<Model>', 'URL': '/3/Models/GBM_grid_1_AutoML_20190415_235801_model_1'}, {'__meta': {'schema_version': 3, 'schema_name': 'ModelKeyV3', 'schema_type': 'Key<Model>'}, 'name': 'XRT_1_AutoML_20190415_235801', 'type': 'Key<Model>', 'URL': '/3/Models/XRT_1_AutoML_20190415_235801'}, {'__meta': {'schema_version': 3, 'schema_name': 'ModelKeyV3', 'schema_type': 'Key<Model>'}, 'name': 'DRF_1_AutoML_20190415_235801', 'type': 'Key<Model>', 'URL': '/3/Models/DRF_1_AutoML_20190415_235801'}, {'__meta': {'schema_version': 3, 'schema_name': 'ModelKeyV3', 'schema_type': 'Key<Model>'}, 'name': 'DeepLearning_1_AutoML_20190415_235801', 'type': 'Key<Model>', 'URL': '/3/Models/DeepLearning_1_AutoML_20190415_235801'}, {'__meta': {'schema_version': 3, 'schema_name': 'ModelKeyV3', 'schema_type': 'Key<Model>'}, 'name': 'GLM_grid_1_AutoML_20190415_235801_model_1', 'type': 'Key<Model>', 'URL': '/3/Models/GLM_grid_1_AutoML_20190415_235801_model_1'}]}, 'metalearner_algorithm': {'default': 'AUTO', 'actual': 'AUTO'}, 'metalearner_nfolds': {'default': 0, 'actual': 5}, 'metalearner_fold_assignment': {'default': None, 'actual': None}, 'metalearner_fold_column': {'default': None, 'actual': None}, 'metalearner_params': {'default': '', 'actual': ''}, 'seed': {'default': -1, 'actual': 6559802127372464096}, 'keep_levelone_frame': {'default': False, 'actual': True}, 'export_checkpoints_dir': {'default': None, 'actual': None}}, {'model_id': {'default': None, 'actual': {'__meta': {'schema_version': 3, 'schema_name': 'ModelKeyV3', 'schema_type': 'Key<Model>'}, 'name': 'StackedEnsemble_AllModels_AutoML_20190415_235801', 'type': 'Key<Model>', 'URL': '/3/Models/StackedEnsemble_AllModels_AutoML_20190415_235801'}}, 'training_frame': {'default': None, 'actual': {'__meta': {'schema_version': 3, 'schema_name': 'FrameKeyV3', 'schema_type': 'Key<Frame>'}, 'name': 'automl_training_py_13_sid_870a', 'type': 'Key<Frame>', 'URL': '/3/Frames/automl_training_py_13_sid_870a'}}, 'response_column': {'default': None, 'actual': {'__meta': {'schema_version': 3, 'schema_name': 'ColSpecifierV3', 'schema_type': 'VecSpecifier'}, 'column_name': 'ACTION', 'is_member_of_frames': None}}, 'validation_frame': {'default': None, 'actual': None}, 'blending_frame': {'default': None, 'actual': None}, 'base_models': {'default': [], 'actual': [{'__meta': {'schema_version': 3, 'schema_name': 'ModelKeyV3', 'schema_type': 'Key<Model>'}, 'name': 'GBM_grid_1_AutoML_20190415_235801_model_1', 'type': 'Key<Model>', 'URL': '/3/Models/GBM_grid_1_AutoML_20190415_235801_model_1'}, {'__meta': {'schema_version': 3, 'schema_name': 'ModelKeyV3', 'schema_type': 'Key<Model>'}, 'name': 'XRT_1_AutoML_20190415_235801', 'type': 'Key<Model>', 'URL': '/3/Models/XRT_1_AutoML_20190415_235801'}, {'__meta': {'schema_version': 3, 'schema_name': 'ModelKeyV3', 'schema_type': 'Key<Model>'}, 'name': 'DRF_1_AutoML_20190415_235801', 'type': 'Key<Model>', 'URL': '/3/Models/DRF_1_AutoML_20190415_235801'}, {'__meta': {'schema_version': 3, 'schema_name': 'ModelKeyV3', 'schema_type': 'Key<Model>'}, 'name': 'GBM_4_AutoML_20190415_235801', 'type': 'Key<Model>', 'URL': '/3/Models/GBM_4_AutoML_20190415_235801'}, {'__meta': {'schema_version': 3, 'schema_name': 'ModelKeyV3', 'schema_type': 'Key<Model>'}, 'name': 'GBM_3_AutoML_20190415_235801', 'type': 'Key<Model>', 'URL': '/3/Models/GBM_3_AutoML_20190415_235801'}, {'__meta': {'schema_version': 3, 'schema_name': 'ModelKeyV3', 'schema_type': 'Key<Model>'}, 'name': 'GBM_5_AutoML_20190415_235801', 'type': 'Key<Model>', 'URL': '/3/Models/GBM_5_AutoML_20190415_235801'}, {'__meta': {'schema_version': 3, 'schema_name': 'ModelKeyV3', 'schema_type': 'Key<Model>'}, 'name': 'GBM_2_AutoML_20190415_235801', 'type': 'Key<Model>', 'URL': '/3/Models/GBM_2_AutoML_20190415_235801'}, {'__meta': {'schema_version': 3, 'schema_name': 'ModelKeyV3', 'schema_type': 'Key<Model>'}, 'name': 'GBM_1_AutoML_20190415_235801', 'type': 'Key<Model>', 'URL': '/3/Models/GBM_1_AutoML_20190415_235801'}, {'__meta': {'schema_version': 3, 'schema_name': 'ModelKeyV3', 'schema_type': 'Key<Model>'}, 'name': 'GBM_grid_1_AutoML_20190415_235801_model_2', 'type': 'Key<Model>', 'URL': '/3/Models/GBM_grid_1_AutoML_20190415_235801_model_2'}, {'__meta': {'schema_version': 3, 'schema_name': 'ModelKeyV3', 'schema_type': 'Key<Model>'}, 'name': 'DeepLearning_1_AutoML_20190415_235801', 'type': 'Key<Model>', 'URL': '/3/Models/DeepLearning_1_AutoML_20190415_235801'}, {'__meta': {'schema_version': 3, 'schema_name': 'ModelKeyV3', 'schema_type': 'Key<Model>'}, 'name': 'GLM_grid_1_AutoML_20190415_235801_model_1', 'type': 'Key<Model>', 'URL': '/3/Models/GLM_grid_1_AutoML_20190415_235801_model_1'}, {'__meta': {'schema_version': 3, 'schema_name': 'ModelKeyV3', 'schema_type': 'Key<Model>'}, 'name': 'GBM_grid_1_AutoML_20190415_235801_model_3', 'type': 'Key<Model>', 'URL': '/3/Models/GBM_grid_1_AutoML_20190415_235801_model_3'}, {'__meta': {'schema_version': 3, 'schema_name': 'ModelKeyV3', 'schema_type': 'Key<Model>'}, 'name': 'DeepLearning_grid_1_AutoML_20190415_235801_model_2', 'type': 'Key<Model>', 'URL': '/3/Models/DeepLearning_grid_1_AutoML_20190415_235801_model_2'}, {'__meta': {'schema_version': 3, 'schema_name': 'ModelKeyV3', 'schema_type': 'Key<Model>'}, 'name': 'DeepLearning_grid_1_AutoML_20190415_235801_model_1', 'type': 'Key<Model>', 'URL': '/3/Models/DeepLearning_grid_1_AutoML_20190415_235801_model_1'}]}, 'metalearner_algorithm': {'default': 'AUTO', 'actual': 'AUTO'}, 'metalearner_nfolds': {'default': 0, 'actual': 5}, 'metalearner_fold_assignment': {'default': None, 'actual': None}, 'metalearner_fold_column': {'default': None, 'actual': None}, 'metalearner_params': {'default': '', 'actual': ''}, 'seed': {'default': -1, 'actual': -6636837512241880219}, 'keep_levelone_frame': {'default': False, 'actual': True}, 'export_checkpoints_dir': {'default': None, 'actual': None}}, {'model_id': {'default': None, 'actual': {'__meta': {'schema_version': 3, 'schema_name': 'ModelKeyV3', 'schema_type': 'Key<Model>'}, 'name': 'GBM_grid_1_AutoML_20190415_235801_model_1', 'type': 'Key<Model>', 'URL': '/3/Models/GBM_grid_1_AutoML_20190415_235801_model_1'}}, 'training_frame': {'default': None, 'actual': {'__meta': {'schema_version': 3, 'schema_name': 'FrameKeyV3', 'schema_type': 'Key<Frame>'}, 'name': 'automl_training_py_13_sid_870a', 'type': 'Key<Frame>', 'URL': '/3/Frames/automl_training_py_13_sid_870a'}}, 'validation_frame': {'default': None, 'actual': None}, 'nfolds': {'default': 0, 'actual': 5}, 'keep_cross_validation_models': {'default': True, 'actual': False}, 'keep_cross_validation_predictions': {'default': False, 'actual': True}, 'keep_cross_validation_fold_assignment': {'default': False, 'actual': False}, 'score_each_iteration': {'default': False, 'actual': False}, 'score_tree_interval': {'default': 0, 'actual': 5}, 'fold_assignment': {'default': 'AUTO', 'actual': 'Modulo'}, 'fold_column': {'default': None, 'actual': None}, 'response_column': {'default': None, 'actual': {'__meta': {'schema_version': 3, 'schema_name': 'ColSpecifierV3', 'schema_type': 'VecSpecifier'}, 'column_name': 'ACTION', 'is_member_of_frames': None}}, 'ignored_columns': {'default': None, 'actual': []}, 'ignore_const_cols': {'default': True, 'actual': True}, 'offset_column': {'default': None, 'actual': None}, 'weights_column': {'default': None, 'actual': None}, 'balance_classes': {'default': False, 'actual': False}, 'class_sampling_factors': {'default': None, 'actual': None}, 'max_after_balance_size': {'default': 5.0, 'actual': 5.0}, 'max_confusion_matrix_size': {'default': 20, 'actual': 20}, 'max_hit_ratio_k': {'default': 0, 'actual': 0}, 'ntrees': {'default': 50, 'actual': 244}, 'max_depth': {'default': 5, 'actual': 16}, 'min_rows': {'default': 10.0, 'actual': 5.0}, 'nbins': {'default': 20, 'actual': 20}, 'nbins_top_level': {'default': 1024, 'actual': 1024}, 'nbins_cats': {'default': 1024, 'actual': 1024}, 'r2_stopping': {'default': 1.7976931348623157e+308, 'actual': 1.7976931348623157e+308}, 'stopping_rounds': {'default': 0, 'actual': 0}, 'stopping_metric': {'default': 'AUTO', 'actual': 'logloss'}, 'stopping_tolerance': {'default': 0.001, 'actual': 0.005524187436252161}, 'max_runtime_secs': {'default': 0.0, 'actual': 0.0}, 'seed': {'default': -1, 'actual': 7021588201962850643}, 'build_tree_one_node': {'default': False, 'actual': False}, 'learn_rate': {'default': 0.1, 'actual': 0.005}, 'learn_rate_annealing': {'default': 1.0, 'actual': 1.0}, 'distribution': {'default': 'AUTO', 'actual': 'bernoulli'}, 'quantile_alpha': {'default': 0.5, 'actual': 0.5}, 'tweedie_power': {'default': 1.5, 'actual': 1.5}, 'huber_alpha': {'default': 0.9, 'actual': 0.9}, 'checkpoint': {'default': None, 'actual': None}, 'sample_rate': {'default': 1.0, 'actual': 0.6}, 'sample_rate_per_class': {'default': None, 'actual': None}, 'col_sample_rate': {'default': 1.0, 'actual': 0.7}, 'col_sample_rate_change_per_level': {'default': 1.0, 'actual': 1.0}, 'col_sample_rate_per_tree': {'default': 1.0, 'actual': 0.4}, 'min_split_improvement': {'default': 1e-05, 'actual': 1e-05}, 'histogram_type': {'default': 'AUTO', 'actual': 'AUTO'}, 'max_abs_leafnode_pred': {'default': 1.7976931348623157e+308, 'actual': 1.7976931348623157e+308}, 'pred_noise_bandwidth': {'default': 0.0, 'actual': 0.0}, 'categorical_encoding': {'default': 'AUTO', 'actual': 'AUTO'}, 'calibrate_model': {'default': False, 'actual': False}, 'calibration_frame': {'default': None, 'actual': None}, 'custom_metric_func': {'default': None, 'actual': None}, 'export_checkpoints_dir': {'default': None, 'actual': None}, 'monotone_constraints': {'default': None, 'actual': None}, 'check_constant_response': {'default': True, 'actual': True}}, {'model_id': {'default': None, 'actual': {'__meta': {'schema_version': 3, 'schema_name': 'ModelKeyV3', 'schema_type': 'Key<Model>'}, 'name': 'XRT_1_AutoML_20190415_235801', 'type': 'Key<Model>', 'URL': '/3/Models/XRT_1_AutoML_20190415_235801'}}, 'training_frame': {'default': None, 'actual': {'__meta': {'schema_version': 3, 'schema_name': 'FrameKeyV3', 'schema_type': 'Key<Frame>'}, 'name': 'automl_training_py_13_sid_870a', 'type': 'Key<Frame>', 'URL': '/3/Frames/automl_training_py_13_sid_870a'}}, 'validation_frame': {'default': None, 'actual': None}, 'nfolds': {'default': 0, 'actual': 5}, 'keep_cross_validation_models': {'default': True, 'actual': False}, 'keep_cross_validation_predictions': {'default': False, 'actual': True}, 'keep_cross_validation_fold_assignment': {'default': False, 'actual': False}, 'score_each_iteration': {'default': False, 'actual': False}, 'score_tree_interval': {'default': 0, 'actual': 0}, 'fold_assignment': {'default': 'AUTO', 'actual': 'Modulo'}, 'fold_column': {'default': None, 'actual': None}, 'response_column': {'default': None, 'actual': {'__meta': {'schema_version': 3, 'schema_name': 'ColSpecifierV3', 'schema_type': 'VecSpecifier'}, 'column_name': 'ACTION', 'is_member_of_frames': None}}, 'ignored_columns': {'default': None, 'actual': []}, 'ignore_const_cols': {'default': True, 'actual': True}, 'offset_column': {'default': None, 'actual': None}, 'weights_column': {'default': None, 'actual': None}, 'balance_classes': {'default': False, 'actual': False}, 'class_sampling_factors': {'default': None, 'actual': None}, 'max_after_balance_size': {'default': 5.0, 'actual': 5.0}, 'max_confusion_matrix_size': {'default': 20, 'actual': 20}, 'max_hit_ratio_k': {'default': 0, 'actual': 0}, 'ntrees': {'default': 50, 'actual': 50}, 'max_depth': {'default': 20, 'actual': 20}, 'min_rows': {'default': 1.0, 'actual': 1.0}, 'nbins': {'default': 20, 'actual': 20}, 'nbins_top_level': {'default': 1024, 'actual': 1024}, 'nbins_cats': {'default': 1024, 'actual': 1024}, 'r2_stopping': {'default': 1.7976931348623157e+308, 'actual': 1.7976931348623157e+308}, 'stopping_rounds': {'default': 0, 'actual': 0}, 'stopping_metric': {'default': 'AUTO', 'actual': 'logloss'}, 'stopping_tolerance': {'default': 0.001, 'actual': 0.005524187436252161}, 'max_runtime_secs': {'default': 0.0, 'actual': 0.0}, 'seed': {'default': -1, 'actual': 6586495380702676292}, 'build_tree_one_node': {'default': False, 'actual': False}, 'mtries': {'default': -1, 'actual': -1}, 'sample_rate': {'default': 0.6320000290870667, 'actual': 0.6320000290870667}, 'sample_rate_per_class': {'default': None, 'actual': None}, 'binomial_double_trees': {'default': False, 'actual': False}, 'checkpoint': {'default': None, 'actual': None}, 'col_sample_rate_change_per_level': {'default': 1.0, 'actual': 1.0}, 'col_sample_rate_per_tree': {'default': 1.0, 'actual': 1.0}, 'min_split_improvement': {'default': 1e-05, 'actual': 1e-05}, 'histogram_type': {'default': 'AUTO', 'actual': 'Random'}, 'categorical_encoding': {'default': 'AUTO', 'actual': 'AUTO'}, 'calibrate_model': {'default': False, 'actual': False}, 'calibration_frame': {'default': None, 'actual': None}, 'distribution': {'default': 'AUTO', 'actual': 'multinomial'}, 'custom_metric_func': {'default': None, 'actual': None}, 'export_checkpoints_dir': {'default': None, 'actual': None}, 'check_constant_response': {'default': True, 'actual': True}}, {'model_id': {'default': None, 'actual': {'__meta': {'schema_version': 3, 'schema_name': 'ModelKeyV3', 'schema_type': 'Key<Model>'}, 'name': 'DRF_1_AutoML_20190415_235801', 'type': 'Key<Model>', 'URL': '/3/Models/DRF_1_AutoML_20190415_235801'}}, 'training_frame': {'default': None, 'actual': {'__meta': {'schema_version': 3, 'schema_name': 'FrameKeyV3', 'schema_type': 'Key<Frame>'}, 'name': 'automl_training_py_13_sid_870a', 'type': 'Key<Frame>', 'URL': '/3/Frames/automl_training_py_13_sid_870a'}}, 'validation_frame': {'default': None, 'actual': None}, 'nfolds': {'default': 0, 'actual': 5}, 'keep_cross_validation_models': {'default': True, 'actual': False}, 'keep_cross_validation_predictions': {'default': False, 'actual': True}, 'keep_cross_validation_fold_assignment': {'default': False, 'actual': False}, 'score_each_iteration': {'default': False, 'actual': False}, 'score_tree_interval': {'default': 0, 'actual': 0}, 'fold_assignment': {'default': 'AUTO', 'actual': 'Modulo'}, 'fold_column': {'default': None, 'actual': None}, 'response_column': {'default': None, 'actual': {'__meta': {'schema_version': 3, 'schema_name': 'ColSpecifierV3', 'schema_type': 'VecSpecifier'}, 'column_name': 'ACTION', 'is_member_of_frames': None}}, 'ignored_columns': {'default': None, 'actual': []}, 'ignore_const_cols': {'default': True, 'actual': True}, 'offset_column': {'default': None, 'actual': None}, 'weights_column': {'default': None, 'actual': None}, 'balance_classes': {'default': False, 'actual': False}, 'class_sampling_factors': {'default': None, 'actual': None}, 'max_after_balance_size': {'default': 5.0, 'actual': 5.0}, 'max_confusion_matrix_size': {'default': 20, 'actual': 20}, 'max_hit_ratio_k': {'default': 0, 'actual': 0}, 'ntrees': {'default': 50, 'actual': 50}, 'max_depth': {'default': 20, 'actual': 20}, 'min_rows': {'default': 1.0, 'actual': 1.0}, 'nbins': {'default': 20, 'actual': 20}, 'nbins_top_level': {'default': 1024, 'actual': 1024}, 'nbins_cats': {'default': 1024, 'actual': 1024}, 'r2_stopping': {'default': 1.7976931348623157e+308, 'actual': 1.7976931348623157e+308}, 'stopping_rounds': {'default': 0, 'actual': 0}, 'stopping_metric': {'default': 'AUTO', 'actual': 'logloss'}, 'stopping_tolerance': {'default': 0.001, 'actual': 0.005524187436252161}, 'max_runtime_secs': {'default': 0.0, 'actual': 0.0}, 'seed': {'default': -1, 'actual': -3719159243555601210}, 'build_tree_one_node': {'default': False, 'actual': False}, 'mtries': {'default': -1, 'actual': -1}, 'sample_rate': {'default': 0.6320000290870667, 'actual': 0.6320000290870667}, 'sample_rate_per_class': {'default': None, 'actual': None}, 'binomial_double_trees': {'default': False, 'actual': False}, 'checkpoint': {'default': None, 'actual': None}, 'col_sample_rate_change_per_level': {'default': 1.0, 'actual': 1.0}, 'col_sample_rate_per_tree': {'default': 1.0, 'actual': 1.0}, 'min_split_improvement': {'default': 1e-05, 'actual': 1e-05}, 'histogram_type': {'default': 'AUTO', 'actual': 'AUTO'}, 'categorical_encoding': {'default': 'AUTO', 'actual': 'AUTO'}, 'calibrate_model': {'default': False, 'actual': False}, 'calibration_frame': {'default': None, 'actual': None}, 'distribution': {'default': 'AUTO', 'actual': 'multinomial'}, 'custom_metric_func': {'default': None, 'actual': None}, 'export_checkpoints_dir': {'default': None, 'actual': None}, 'check_constant_response': {'default': True, 'actual': True}}, {'model_id': {'default': None, 'actual': {'__meta': {'schema_version': 3, 'schema_name': 'ModelKeyV3', 'schema_type': 'Key<Model>'}, 'name': 'GBM_4_AutoML_20190415_235801', 'type': 'Key<Model>', 'URL': '/3/Models/GBM_4_AutoML_20190415_235801'}}, 'training_frame': {'default': None, 'actual': {'__meta': {'schema_version': 3, 'schema_name': 'FrameKeyV3', 'schema_type': 'Key<Frame>'}, 'name': 'automl_training_py_13_sid_870a', 'type': 'Key<Frame>', 'URL': '/3/Frames/automl_training_py_13_sid_870a'}}, 'validation_frame': {'default': None, 'actual': None}, 'nfolds': {'default': 0, 'actual': 5}, 'keep_cross_validation_models': {'default': True, 'actual': False}, 'keep_cross_validation_predictions': {'default': False, 'actual': True}, 'keep_cross_validation_fold_assignment': {'default': False, 'actual': False}, 'score_each_iteration': {'default': False, 'actual': False}, 'score_tree_interval': {'default': 0, 'actual': 5}, 'fold_assignment': {'default': 'AUTO', 'actual': 'Modulo'}, 'fold_column': {'default': None, 'actual': None}, 'response_column': {'default': None, 'actual': {'__meta': {'schema_version': 3, 'schema_name': 'ColSpecifierV3', 'schema_type': 'VecSpecifier'}, 'column_name': 'ACTION', 'is_member_of_frames': None}}, 'ignored_columns': {'default': None, 'actual': []}, 'ignore_const_cols': {'default': True, 'actual': True}, 'offset_column': {'default': None, 'actual': None}, 'weights_column': {'default': None, 'actual': None}, 'balance_classes': {'default': False, 'actual': False}, 'class_sampling_factors': {'default': None, 'actual': None}, 'max_after_balance_size': {'default': 5.0, 'actual': 5.0}, 'max_confusion_matrix_size': {'default': 20, 'actual': 20}, 'max_hit_ratio_k': {'default': 0, 'actual': 0}, 'ntrees': {'default': 50, 'actual': 89}, 'max_depth': {'default': 5, 'actual': 15}, 'min_rows': {'default': 10.0, 'actual': 100.0}, 'nbins': {'default': 20, 'actual': 20}, 'nbins_top_level': {'default': 1024, 'actual': 1024}, 'nbins_cats': {'default': 1024, 'actual': 1024}, 'r2_stopping': {'default': 1.7976931348623157e+308, 'actual': 1.7976931348623157e+308}, 'stopping_rounds': {'default': 0, 'actual': 0}, 'stopping_metric': {'default': 'AUTO', 'actual': 'logloss'}, 'stopping_tolerance': {'default': 0.001, 'actual': 0.005524187436252161}, 'max_runtime_secs': {'default': 0.0, 'actual': 0.0}, 'seed': {'default': -1, 'actual': -4976508607335541870}, 'build_tree_one_node': {'default': False, 'actual': False}, 'learn_rate': {'default': 0.1, 'actual': 0.1}, 'learn_rate_annealing': {'default': 1.0, 'actual': 1.0}, 'distribution': {'default': 'AUTO', 'actual': 'bernoulli'}, 'quantile_alpha': {'default': 0.5, 'actual': 0.5}, 'tweedie_power': {'default': 1.5, 'actual': 1.5}, 'huber_alpha': {'default': 0.9, 'actual': 0.9}, 'checkpoint': {'default': None, 'actual': None}, 'sample_rate': {'default': 1.0, 'actual': 0.8}, 'sample_rate_per_class': {'default': None, 'actual': None}, 'col_sample_rate': {'default': 1.0, 'actual': 0.8}, 'col_sample_rate_change_per_level': {'default': 1.0, 'actual': 1.0}, 'col_sample_rate_per_tree': {'default': 1.0, 'actual': 0.8}, 'min_split_improvement': {'default': 1e-05, 'actual': 1e-05}, 'histogram_type': {'default': 'AUTO', 'actual': 'AUTO'}, 'max_abs_leafnode_pred': {'default': 1.7976931348623157e+308, 'actual': 1.7976931348623157e+308}, 'pred_noise_bandwidth': {'default': 0.0, 'actual': 0.0}, 'categorical_encoding': {'default': 'AUTO', 'actual': 'AUTO'}, 'calibrate_model': {'default': False, 'actual': False}, 'calibration_frame': {'default': None, 'actual': None}, 'custom_metric_func': {'default': None, 'actual': None}, 'export_checkpoints_dir': {'default': None, 'actual': None}, 'monotone_constraints': {'default': None, 'actual': None}, 'check_constant_response': {'default': True, 'actual': True}}, {'model_id': {'default': None, 'actual': {'__meta': {'schema_version': 3, 'schema_name': 'ModelKeyV3', 'schema_type': 'Key<Model>'}, 'name': 'GBM_3_AutoML_20190415_235801', 'type': 'Key<Model>', 'URL': '/3/Models/GBM_3_AutoML_20190415_235801'}}, 'training_frame': {'default': None, 'actual': {'__meta': {'schema_version': 3, 'schema_name': 'FrameKeyV3', 'schema_type': 'Key<Frame>'}, 'name': 'automl_training_py_13_sid_870a', 'type': 'Key<Frame>', 'URL': '/3/Frames/automl_training_py_13_sid_870a'}}, 'validation_frame': {'default': None, 'actual': None}, 'nfolds': {'default': 0, 'actual': 5}, 'keep_cross_validation_models': {'default': True, 'actual': False}, 'keep_cross_validation_predictions': {'default': False, 'actual': True}, 'keep_cross_validation_fold_assignment': {'default': False, 'actual': False}, 'score_each_iteration': {'default': False, 'actual': False}, 'score_tree_interval': {'default': 0, 'actual': 5}, 'fold_assignment': {'default': 'AUTO', 'actual': 'Modulo'}, 'fold_column': {'default': None, 'actual': None}, 'response_column': {'default': None, 'actual': {'__meta': {'schema_version': 3, 'schema_name': 'ColSpecifierV3', 'schema_type': 'VecSpecifier'}, 'column_name': 'ACTION', 'is_member_of_frames': None}}, 'ignored_columns': {'default': None, 'actual': []}, 'ignore_const_cols': {'default': True, 'actual': True}, 'offset_column': {'default': None, 'actual': None}, 'weights_column': {'default': None, 'actual': None}, 'balance_classes': {'default': False, 'actual': False}, 'class_sampling_factors': {'default': None, 'actual': None}, 'max_after_balance_size': {'default': 5.0, 'actual': 5.0}, 'max_confusion_matrix_size': {'default': 20, 'actual': 20}, 'max_hit_ratio_k': {'default': 0, 'actual': 0}, 'ntrees': {'default': 50, 'actual': 89}, 'max_depth': {'default': 5, 'actual': 15}, 'min_rows': {'default': 10.0, 'actual': 100.0}, 'nbins': {'default': 20, 'actual': 20}, 'nbins_top_level': {'default': 1024, 'actual': 1024}, 'nbins_cats': {'default': 1024, 'actual': 1024}, 'r2_stopping': {'default': 1.7976931348623157e+308, 'actual': 1.7976931348623157e+308}, 'stopping_rounds': {'default': 0, 'actual': 0}, 'stopping_metric': {'default': 'AUTO', 'actual': 'logloss'}, 'stopping_tolerance': {'default': 0.001, 'actual': 0.005524187436252161}, 'max_runtime_secs': {'default': 0.0, 'actual': 0.0}, 'seed': {'default': -1, 'actual': -4976508607335541870}, 'build_tree_one_node': {'default': False, 'actual': False}, 'learn_rate': {'default': 0.1, 'actual': 0.1}, 'learn_rate_annealing': {'default': 1.0, 'actual': 1.0}, 'distribution': {'default': 'AUTO', 'actual': 'bernoulli'}, 'quantile_alpha': {'default': 0.5, 'actual': 0.5}, 'tweedie_power': {'default': 1.5, 'actual': 1.5}, 'huber_alpha': {'default': 0.9, 'actual': 0.9}, 'checkpoint': {'default': None, 'actual': None}, 'sample_rate': {'default': 1.0, 'actual': 0.8}, 'sample_rate_per_class': {'default': None, 'actual': None}, 'col_sample_rate': {'default': 1.0, 'actual': 0.8}, 'col_sample_rate_change_per_level': {'default': 1.0, 'actual': 1.0}, 'col_sample_rate_per_tree': {'default': 1.0, 'actual': 0.8}, 'min_split_improvement': {'default': 1e-05, 'actual': 1e-05}, 'histogram_type': {'default': 'AUTO', 'actual': 'AUTO'}, 'max_abs_leafnode_pred': {'default': 1.7976931348623157e+308, 'actual': 1.7976931348623157e+308}, 'pred_noise_bandwidth': {'default': 0.0, 'actual': 0.0}, 'categorical_encoding': {'default': 'AUTO', 'actual': 'AUTO'}, 'calibrate_model': {'default': False, 'actual': False}, 'calibration_frame': {'default': None, 'actual': None}, 'custom_metric_func': {'default': None, 'actual': None}, 'export_checkpoints_dir': {'default': None, 'actual': None}, 'monotone_constraints': {'default': None, 'actual': None}, 'check_constant_response': {'default': True, 'actual': True}}, {'model_id': {'default': None, 'actual': {'__meta': {'schema_version': 3, 'schema_name': 'ModelKeyV3', 'schema_type': 'Key<Model>'}, 'name': 'GBM_5_AutoML_20190415_235801', 'type': 'Key<Model>', 'URL': '/3/Models/GBM_5_AutoML_20190415_235801'}}, 'training_frame': {'default': None, 'actual': {'__meta': {'schema_version': 3, 'schema_name': 'FrameKeyV3', 'schema_type': 'Key<Frame>'}, 'name': 'automl_training_py_13_sid_870a', 'type': 'Key<Frame>', 'URL': '/3/Frames/automl_training_py_13_sid_870a'}}, 'validation_frame': {'default': None, 'actual': None}, 'nfolds': {'default': 0, 'actual': 5}, 'keep_cross_validation_models': {'default': True, 'actual': False}, 'keep_cross_validation_predictions': {'default': False, 'actual': True}, 'keep_cross_validation_fold_assignment': {'default': False, 'actual': False}, 'score_each_iteration': {'default': False, 'actual': False}, 'score_tree_interval': {'default': 0, 'actual': 5}, 'fold_assignment': {'default': 'AUTO', 'actual': 'Modulo'}, 'fold_column': {'default': None, 'actual': None}, 'response_column': {'default': None, 'actual': {'__meta': {'schema_version': 3, 'schema_name': 'ColSpecifierV3', 'schema_type': 'VecSpecifier'}, 'column_name': 'ACTION', 'is_member_of_frames': None}}, 'ignored_columns': {'default': None, 'actual': []}, 'ignore_const_cols': {'default': True, 'actual': True}, 'offset_column': {'default': None, 'actual': None}, 'weights_column': {'default': None, 'actual': None}, 'balance_classes': {'default': False, 'actual': False}, 'class_sampling_factors': {'default': None, 'actual': None}, 'max_after_balance_size': {'default': 5.0, 'actual': 5.0}, 'max_confusion_matrix_size': {'default': 20, 'actual': 20}, 'max_hit_ratio_k': {'default': 0, 'actual': 0}, 'ntrees': {'default': 50, 'actual': 89}, 'max_depth': {'default': 5, 'actual': 15}, 'min_rows': {'default': 10.0, 'actual': 100.0}, 'nbins': {'default': 20, 'actual': 20}, 'nbins_top_level': {'default': 1024, 'actual': 1024}, 'nbins_cats': {'default': 1024, 'actual': 1024}, 'r2_stopping': {'default': 1.7976931348623157e+308, 'actual': 1.7976931348623157e+308}, 'stopping_rounds': {'default': 0, 'actual': 0}, 'stopping_metric': {'default': 'AUTO', 'actual': 'logloss'}, 'stopping_tolerance': {'default': 0.001, 'actual': 0.005524187436252161}, 'max_runtime_secs': {'default': 0.0, 'actual': 0.0}, 'seed': {'default': -1, 'actual': -4976508607335541870}, 'build_tree_one_node': {'default': False, 'actual': False}, 'learn_rate': {'default': 0.1, 'actual': 0.1}, 'learn_rate_annealing': {'default': 1.0, 'actual': 1.0}, 'distribution': {'default': 'AUTO', 'actual': 'bernoulli'}, 'quantile_alpha': {'default': 0.5, 'actual': 0.5}, 'tweedie_power': {'default': 1.5, 'actual': 1.5}, 'huber_alpha': {'default': 0.9, 'actual': 0.9}, 'checkpoint': {'default': None, 'actual': None}, 'sample_rate': {'default': 1.0, 'actual': 0.8}, 'sample_rate_per_class': {'default': None, 'actual': None}, 'col_sample_rate': {'default': 1.0, 'actual': 0.8}, 'col_sample_rate_change_per_level': {'default': 1.0, 'actual': 1.0}, 'col_sample_rate_per_tree': {'default': 1.0, 'actual': 0.8}, 'min_split_improvement': {'default': 1e-05, 'actual': 1e-05}, 'histogram_type': {'default': 'AUTO', 'actual': 'AUTO'}, 'max_abs_leafnode_pred': {'default': 1.7976931348623157e+308, 'actual': 1.7976931348623157e+308}, 'pred_noise_bandwidth': {'default': 0.0, 'actual': 0.0}, 'categorical_encoding': {'default': 'AUTO', 'actual': 'AUTO'}, 'calibrate_model': {'default': False, 'actual': False}, 'calibration_frame': {'default': None, 'actual': None}, 'custom_metric_func': {'default': None, 'actual': None}, 'export_checkpoints_dir': {'default': None, 'actual': None}, 'monotone_constraints': {'default': None, 'actual': None}, 'check_constant_response': {'default': True, 'actual': True}}, {'model_id': {'default': None, 'actual': {'__meta': {'schema_version': 3, 'schema_name': 'ModelKeyV3', 'schema_type': 'Key<Model>'}, 'name': 'GBM_2_AutoML_20190415_235801', 'type': 'Key<Model>', 'URL': '/3/Models/GBM_2_AutoML_20190415_235801'}}, 'training_frame': {'default': None, 'actual': {'__meta': {'schema_version': 3, 'schema_name': 'FrameKeyV3', 'schema_type': 'Key<Frame>'}, 'name': 'automl_training_py_13_sid_870a', 'type': 'Key<Frame>', 'URL': '/3/Frames/automl_training_py_13_sid_870a'}}, 'validation_frame': {'default': None, 'actual': None}, 'nfolds': {'default': 0, 'actual': 5}, 'keep_cross_validation_models': {'default': True, 'actual': False}, 'keep_cross_validation_predictions': {'default': False, 'actual': True}, 'keep_cross_validation_fold_assignment': {'default': False, 'actual': False}, 'score_each_iteration': {'default': False, 'actual': False}, 'score_tree_interval': {'default': 0, 'actual': 5}, 'fold_assignment': {'default': 'AUTO', 'actual': 'Modulo'}, 'fold_column': {'default': None, 'actual': None}, 'response_column': {'default': None, 'actual': {'__meta': {'schema_version': 3, 'schema_name': 'ColSpecifierV3', 'schema_type': 'VecSpecifier'}, 'column_name': 'ACTION', 'is_member_of_frames': None}}, 'ignored_columns': {'default': None, 'actual': []}, 'ignore_const_cols': {'default': True, 'actual': True}, 'offset_column': {'default': None, 'actual': None}, 'weights_column': {'default': None, 'actual': None}, 'balance_classes': {'default': False, 'actual': False}, 'class_sampling_factors': {'default': None, 'actual': None}, 'max_after_balance_size': {'default': 5.0, 'actual': 5.0}, 'max_confusion_matrix_size': {'default': 20, 'actual': 20}, 'max_hit_ratio_k': {'default': 0, 'actual': 0}, 'ntrees': {'default': 50, 'actual': 89}, 'max_depth': {'default': 5, 'actual': 15}, 'min_rows': {'default': 10.0, 'actual': 100.0}, 'nbins': {'default': 20, 'actual': 20}, 'nbins_top_level': {'default': 1024, 'actual': 1024}, 'nbins_cats': {'default': 1024, 'actual': 1024}, 'r2_stopping': {'default': 1.7976931348623157e+308, 'actual': 1.7976931348623157e+308}, 'stopping_rounds': {'default': 0, 'actual': 0}, 'stopping_metric': {'default': 'AUTO', 'actual': 'logloss'}, 'stopping_tolerance': {'default': 0.001, 'actual': 0.005524187436252161}, 'max_runtime_secs': {'default': 0.0, 'actual': 0.0}, 'seed': {'default': -1, 'actual': -4976508607335541870}, 'build_tree_one_node': {'default': False, 'actual': False}, 'learn_rate': {'default': 0.1, 'actual': 0.1}, 'learn_rate_annealing': {'default': 1.0, 'actual': 1.0}, 'distribution': {'default': 'AUTO', 'actual': 'bernoulli'}, 'quantile_alpha': {'default': 0.5, 'actual': 0.5}, 'tweedie_power': {'default': 1.5, 'actual': 1.5}, 'huber_alpha': {'default': 0.9, 'actual': 0.9}, 'checkpoint': {'default': None, 'actual': None}, 'sample_rate': {'default': 1.0, 'actual': 0.8}, 'sample_rate_per_class': {'default': None, 'actual': None}, 'col_sample_rate': {'default': 1.0, 'actual': 0.8}, 'col_sample_rate_change_per_level': {'default': 1.0, 'actual': 1.0}, 'col_sample_rate_per_tree': {'default': 1.0, 'actual': 0.8}, 'min_split_improvement': {'default': 1e-05, 'actual': 1e-05}, 'histogram_type': {'default': 'AUTO', 'actual': 'AUTO'}, 'max_abs_leafnode_pred': {'default': 1.7976931348623157e+308, 'actual': 1.7976931348623157e+308}, 'pred_noise_bandwidth': {'default': 0.0, 'actual': 0.0}, 'categorical_encoding': {'default': 'AUTO', 'actual': 'AUTO'}, 'calibrate_model': {'default': False, 'actual': False}, 'calibration_frame': {'default': None, 'actual': None}, 'custom_metric_func': {'default': None, 'actual': None}, 'export_checkpoints_dir': {'default': None, 'actual': None}, 'monotone_constraints': {'default': None, 'actual': None}, 'check_constant_response': {'default': True, 'actual': True}}, {'model_id': {'default': None, 'actual': {'__meta': {'schema_version': 3, 'schema_name': 'ModelKeyV3', 'schema_type': 'Key<Model>'}, 'name': 'GBM_1_AutoML_20190415_235801', 'type': 'Key<Model>', 'URL': '/3/Models/GBM_1_AutoML_20190415_235801'}}, 'training_frame': {'default': None, 'actual': {'__meta': {'schema_version': 3, 'schema_name': 'FrameKeyV3', 'schema_type': 'Key<Frame>'}, 'name': 'automl_training_py_13_sid_870a', 'type': 'Key<Frame>', 'URL': '/3/Frames/automl_training_py_13_sid_870a'}}, 'validation_frame': {'default': None, 'actual': None}, 'nfolds': {'default': 0, 'actual': 5}, 'keep_cross_validation_models': {'default': True, 'actual': False}, 'keep_cross_validation_predictions': {'default': False, 'actual': True}, 'keep_cross_validation_fold_assignment': {'default': False, 'actual': False}, 'score_each_iteration': {'default': False, 'actual': False}, 'score_tree_interval': {'default': 0, 'actual': 5}, 'fold_assignment': {'default': 'AUTO', 'actual': 'Modulo'}, 'fold_column': {'default': None, 'actual': None}, 'response_column': {'default': None, 'actual': {'__meta': {'schema_version': 3, 'schema_name': 'ColSpecifierV3', 'schema_type': 'VecSpecifier'}, 'column_name': 'ACTION', 'is_member_of_frames': None}}, 'ignored_columns': {'default': None, 'actual': []}, 'ignore_const_cols': {'default': True, 'actual': True}, 'offset_column': {'default': None, 'actual': None}, 'weights_column': {'default': None, 'actual': None}, 'balance_classes': {'default': False, 'actual': False}, 'class_sampling_factors': {'default': None, 'actual': None}, 'max_after_balance_size': {'default': 5.0, 'actual': 5.0}, 'max_confusion_matrix_size': {'default': 20, 'actual': 20}, 'max_hit_ratio_k': {'default': 0, 'actual': 0}, 'ntrees': {'default': 50, 'actual': 89}, 'max_depth': {'default': 5, 'actual': 15}, 'min_rows': {'default': 10.0, 'actual': 100.0}, 'nbins': {'default': 20, 'actual': 20}, 'nbins_top_level': {'default': 1024, 'actual': 1024}, 'nbins_cats': {'default': 1024, 'actual': 1024}, 'r2_stopping': {'default': 1.7976931348623157e+308, 'actual': 1.7976931348623157e+308}, 'stopping_rounds': {'default': 0, 'actual': 0}, 'stopping_metric': {'default': 'AUTO', 'actual': 'logloss'}, 'stopping_tolerance': {'default': 0.001, 'actual': 0.005524187436252161}, 'max_runtime_secs': {'default': 0.0, 'actual': 0.0}, 'seed': {'default': -1, 'actual': -4976508607335541870}, 'build_tree_one_node': {'default': False, 'actual': False}, 'learn_rate': {'default': 0.1, 'actual': 0.1}, 'learn_rate_annealing': {'default': 1.0, 'actual': 1.0}, 'distribution': {'default': 'AUTO', 'actual': 'bernoulli'}, 'quantile_alpha': {'default': 0.5, 'actual': 0.5}, 'tweedie_power': {'default': 1.5, 'actual': 1.5}, 'huber_alpha': {'default': 0.9, 'actual': 0.9}, 'checkpoint': {'default': None, 'actual': None}, 'sample_rate': {'default': 1.0, 'actual': 0.8}, 'sample_rate_per_class': {'default': None, 'actual': None}, 'col_sample_rate': {'default': 1.0, 'actual': 0.8}, 'col_sample_rate_change_per_level': {'default': 1.0, 'actual': 1.0}, 'col_sample_rate_per_tree': {'default': 1.0, 'actual': 0.8}, 'min_split_improvement': {'default': 1e-05, 'actual': 1e-05}, 'histogram_type': {'default': 'AUTO', 'actual': 'AUTO'}, 'max_abs_leafnode_pred': {'default': 1.7976931348623157e+308, 'actual': 1.7976931348623157e+308}, 'pred_noise_bandwidth': {'default': 0.0, 'actual': 0.0}, 'categorical_encoding': {'default': 'AUTO', 'actual': 'AUTO'}, 'calibrate_model': {'default': False, 'actual': False}, 'calibration_frame': {'default': None, 'actual': None}, 'custom_metric_func': {'default': None, 'actual': None}, 'export_checkpoints_dir': {'default': None, 'actual': None}, 'monotone_constraints': {'default': None, 'actual': None}, 'check_constant_response': {'default': True, 'actual': True}}, {'model_id': {'default': None, 'actual': {'__meta': {'schema_version': 3, 'schema_name': 'ModelKeyV3', 'schema_type': 'Key<Model>'}, 'name': 'GBM_grid_1_AutoML_20190415_235801_model_2', 'type': 'Key<Model>', 'URL': '/3/Models/GBM_grid_1_AutoML_20190415_235801_model_2'}}, 'training_frame': {'default': None, 'actual': {'__meta': {'schema_version': 3, 'schema_name': 'FrameKeyV3', 'schema_type': 'Key<Frame>'}, 'name': 'automl_training_py_13_sid_870a', 'type': 'Key<Frame>', 'URL': '/3/Frames/automl_training_py_13_sid_870a'}}, 'validation_frame': {'default': None, 'actual': None}, 'nfolds': {'default': 0, 'actual': 5}, 'keep_cross_validation_models': {'default': True, 'actual': False}, 'keep_cross_validation_predictions': {'default': False, 'actual': True}, 'keep_cross_validation_fold_assignment': {'default': False, 'actual': False}, 'score_each_iteration': {'default': False, 'actual': False}, 'score_tree_interval': {'default': 0, 'actual': 5}, 'fold_assignment': {'default': 'AUTO', 'actual': 'Modulo'}, 'fold_column': {'default': None, 'actual': None}, 'response_column': {'default': None, 'actual': {'__meta': {'schema_version': 3, 'schema_name': 'ColSpecifierV3', 'schema_type': 'VecSpecifier'}, 'column_name': 'ACTION', 'is_member_of_frames': None}}, 'ignored_columns': {'default': None, 'actual': []}, 'ignore_const_cols': {'default': True, 'actual': True}, 'offset_column': {'default': None, 'actual': None}, 'weights_column': {'default': None, 'actual': None}, 'balance_classes': {'default': False, 'actual': False}, 'class_sampling_factors': {'default': None, 'actual': None}, 'max_after_balance_size': {'default': 5.0, 'actual': 5.0}, 'max_confusion_matrix_size': {'default': 20, 'actual': 20}, 'max_hit_ratio_k': {'default': 0, 'actual': 0}, 'ntrees': {'default': 50, 'actual': 26}, 'max_depth': {'default': 5, 'actual': 9}, 'min_rows': {'default': 10.0, 'actual': 5.0}, 'nbins': {'default': 20, 'actual': 20}, 'nbins_top_level': {'default': 1024, 'actual': 1024}, 'nbins_cats': {'default': 1024, 'actual': 1024}, 'r2_stopping': {'default': 1.7976931348623157e+308, 'actual': 1.7976931348623157e+308}, 'stopping_rounds': {'default': 0, 'actual': 0}, 'stopping_metric': {'default': 'AUTO', 'actual': 'logloss'}, 'stopping_tolerance': {'default': 0.001, 'actual': 0.005524187436252161}, 'max_runtime_secs': {'default': 0.0, 'actual': 0.0}, 'seed': {'default': -1, 'actual': 4352759899810546872}, 'build_tree_one_node': {'default': False, 'actual': False}, 'learn_rate': {'default': 0.1, 'actual': 0.001}, 'learn_rate_annealing': {'default': 1.0, 'actual': 1.0}, 'distribution': {'default': 'AUTO', 'actual': 'bernoulli'}, 'quantile_alpha': {'default': 0.5, 'actual': 0.5}, 'tweedie_power': {'default': 1.5, 'actual': 1.5}, 'huber_alpha': {'default': 0.9, 'actual': 0.9}, 'checkpoint': {'default': None, 'actual': None}, 'sample_rate': {'default': 1.0, 'actual': 0.8}, 'sample_rate_per_class': {'default': None, 'actual': None}, 'col_sample_rate': {'default': 1.0, 'actual': 0.4}, 'col_sample_rate_change_per_level': {'default': 1.0, 'actual': 1.0}, 'col_sample_rate_per_tree': {'default': 1.0, 'actual': 1.0}, 'min_split_improvement': {'default': 1e-05, 'actual': 1e-05}, 'histogram_type': {'default': 'AUTO', 'actual': 'AUTO'}, 'max_abs_leafnode_pred': {'default': 1.7976931348623157e+308, 'actual': 1.7976931348623157e+308}, 'pred_noise_bandwidth': {'default': 0.0, 'actual': 0.0}, 'categorical_encoding': {'default': 'AUTO', 'actual': 'AUTO'}, 'calibrate_model': {'default': False, 'actual': False}, 'calibration_frame': {'default': None, 'actual': None}, 'custom_metric_func': {'default': None, 'actual': None}, 'export_checkpoints_dir': {'default': None, 'actual': None}, 'monotone_constraints': {'default': None, 'actual': None}, 'check_constant_response': {'default': True, 'actual': True}}, {'model_id': {'default': None, 'actual': {'__meta': {'schema_version': 3, 'schema_name': 'ModelKeyV3', 'schema_type': 'Key<Model>'}, 'name': 'DeepLearning_1_AutoML_20190415_235801', 'type': 'Key<Model>', 'URL': '/3/Models/DeepLearning_1_AutoML_20190415_235801'}}, 'training_frame': {'default': None, 'actual': {'__meta': {'schema_version': 3, 'schema_name': 'FrameKeyV3', 'schema_type': 'Key<Frame>'}, 'name': 'automl_training_py_13_sid_870a', 'type': 'Key<Frame>', 'URL': '/3/Frames/automl_training_py_13_sid_870a'}}, 'validation_frame': {'default': None, 'actual': None}, 'nfolds': {'default': 0, 'actual': 5}, 'keep_cross_validation_models': {'default': True, 'actual': False}, 'keep_cross_validation_predictions': {'default': False, 'actual': True}, 'keep_cross_validation_fold_assignment': {'default': False, 'actual': False}, 'fold_assignment': {'default': 'AUTO', 'actual': 'Modulo'}, 'fold_column': {'default': None, 'actual': None}, 'response_column': {'default': None, 'actual': {'__meta': {'schema_version': 3, 'schema_name': 'ColSpecifierV3', 'schema_type': 'VecSpecifier'}, 'column_name': 'ACTION', 'is_member_of_frames': None}}, 'ignored_columns': {'default': None, 'actual': []}, 'ignore_const_cols': {'default': True, 'actual': True}, 'score_each_iteration': {'default': False, 'actual': False}, 'weights_column': {'default': None, 'actual': None}, 'offset_column': {'default': None, 'actual': None}, 'balance_classes': {'default': False, 'actual': False}, 'class_sampling_factors': {'default': None, 'actual': None}, 'max_after_balance_size': {'default': 5.0, 'actual': 5.0}, 'max_confusion_matrix_size': {'default': 20, 'actual': 20}, 'max_hit_ratio_k': {'default': 0, 'actual': 0}, 'checkpoint': {'default': None, 'actual': None}, 'pretrained_autoencoder': {'default': None, 'actual': None}, 'overwrite_with_best_model': {'default': True, 'actual': False}, 'use_all_factor_levels': {'default': True, 'actual': True}, 'standardize': {'default': True, 'actual': True}, 'activation': {'default': 'Rectifier', 'actual': 'Rectifier'}, 'hidden': {'default': [200, 200], 'actual': [10, 10, 10]}, 'epochs': {'default': 10.0, 'actual': 10.39499224273398}, 'train_samples_per_iteration': {'default': -2, 'actual': -2}, 'target_ratio_comm_to_comp': {'default': 0.05, 'actual': 0.05}, 'seed': {'default': -1, 'actual': -5373377679193551851}, 'adaptive_rate': {'default': True, 'actual': True}, 'rho': {'default': 0.99, 'actual': 0.99}, 'epsilon': {'default': 1e-08, 'actual': 1e-08}, 'rate': {'default': 0.005, 'actual': 0.005}, 'rate_annealing': {'default': 1e-06, 'actual': 1e-06}, 'rate_decay': {'default': 1.0, 'actual': 1.0}, 'momentum_start': {'default': 0.0, 'actual': 0.0}, 'momentum_ramp': {'default': 1000000.0, 'actual': 1000000.0}, 'momentum_stable': {'default': 0.0, 'actual': 0.0}, 'nesterov_accelerated_gradient': {'default': True, 'actual': True}, 'input_dropout_ratio': {'default': 0.0, 'actual': 0.0}, 'hidden_dropout_ratios': {'default': None, 'actual': None}, 'l1': {'default': 0.0, 'actual': 0.0}, 'l2': {'default': 0.0, 'actual': 0.0}, 'max_w2': {'default': 3.4028235e+38, 'actual': 3.4028235e+38}, 'initial_weight_distribution': {'default': 'UniformAdaptive', 'actual': 'UniformAdaptive'}, 'initial_weight_scale': {'default': 1.0, 'actual': 1.0}, 'initial_weights': {'default': None, 'actual': None}, 'initial_biases': {'default': None, 'actual': None}, 'loss': {'default': 'Automatic', 'actual': 'Automatic'}, 'distribution': {'default': 'AUTO', 'actual': 'AUTO'}, 'quantile_alpha': {'default': 0.5, 'actual': 0.5}, 'tweedie_power': {'default': 1.5, 'actual': 1.5}, 'huber_alpha': {'default': 0.9, 'actual': 0.9}, 'score_interval': {'default': 5.0, 'actual': 5.0}, 'score_training_samples': {'default': 10000, 'actual': 10000}, 'score_validation_samples': {'default': 0, 'actual': 0}, 'score_duty_cycle': {'default': 0.1, 'actual': 0.1}, 'classification_stop': {'default': 0.0, 'actual': 0.0}, 'regression_stop': {'default': 1e-06, 'actual': 1e-06}, 'stopping_rounds': {'default': 5, 'actual': 0}, 'stopping_metric': {'default': 'AUTO', 'actual': 'logloss'}, 'stopping_tolerance': {'default': 0.0, 'actual': 0.005524187436252161}, 'max_runtime_secs': {'default': 0.0, 'actual': 0.0}, 'score_validation_sampling': {'default': 'Uniform', 'actual': 'Uniform'}, 'diagnostics': {'default': True, 'actual': True}, 'fast_mode': {'default': True, 'actual': True}, 'force_load_balance': {'default': True, 'actual': True}, 'variable_importances': {'default': True, 'actual': True}, 'replicate_training_data': {'default': True, 'actual': True}, 'single_node_mode': {'default': False, 'actual': False}, 'shuffle_training_data': {'default': False, 'actual': False}, 'missing_values_handling': {'default': 'MeanImputation', 'actual': 'MeanImputation'}, 'quiet_mode': {'default': False, 'actual': False}, 'autoencoder': {'default': False, 'actual': False}, 'sparse': {'default': False, 'actual': False}, 'col_major': {'default': False, 'actual': False}, 'average_activation': {'default': 0.0, 'actual': 0.0}, 'sparsity_beta': {'default': 0.0, 'actual': 0.0}, 'max_categorical_features': {'default': 2147483647, 'actual': 2147483647}, 'reproducible': {'default': False, 'actual': False}, 'export_weights_and_biases': {'default': False, 'actual': False}, 'mini_batch_size': {'default': 1, 'actual': 1}, 'categorical_encoding': {'default': 'AUTO', 'actual': 'AUTO'}, 'elastic_averaging': {'default': False, 'actual': False}, 'elastic_averaging_moving_rate': {'default': 0.9, 'actual': 0.9}, 'elastic_averaging_regularization': {'default': 0.001, 'actual': 0.001}, 'export_checkpoints_dir': {'default': None, 'actual': None}}, {'model_id': {'default': None, 'actual': {'__meta': {'schema_version': 3, 'schema_name': 'ModelKeyV3', 'schema_type': 'Key<Model>'}, 'name': 'GLM_grid_1_AutoML_20190415_235801_model_1', 'type': 'Key<Model>', 'URL': '/3/Models/GLM_grid_1_AutoML_20190415_235801_model_1'}}, 'training_frame': {'default': None, 'actual': {'__meta': {'schema_version': 3, 'schema_name': 'FrameKeyV3', 'schema_type': 'Key<Frame>'}, 'name': 'automl_training_py_13_sid_870a', 'type': 'Key<Frame>', 'URL': '/3/Frames/automl_training_py_13_sid_870a'}}, 'validation_frame': {'default': None, 'actual': None}, 'nfolds': {'default': 0, 'actual': 5}, 'seed': {'default': -1, 'actual': -398687762112096262}, 'keep_cross_validation_models': {'default': True, 'actual': False}, 'keep_cross_validation_predictions': {'default': False, 'actual': True}, 'keep_cross_validation_fold_assignment': {'default': False, 'actual': False}, 'fold_assignment': {'default': 'AUTO', 'actual': 'Modulo'}, 'fold_column': {'default': None, 'actual': None}, 'response_column': {'default': None, 'actual': {'__meta': {'schema_version': 3, 'schema_name': 'ColSpecifierV3', 'schema_type': 'VecSpecifier'}, 'column_name': 'ACTION', 'is_member_of_frames': None}}, 'ignored_columns': {'default': None, 'actual': []}, 'ignore_const_cols': {'default': True, 'actual': True}, 'score_each_iteration': {'default': False, 'actual': False}, 'offset_column': {'default': None, 'actual': None}, 'weights_column': {'default': None, 'actual': None}, 'family': {'default': 'gaussian', 'actual': 'binomial'}, 'tweedie_variance_power': {'default': 0.0, 'actual': 0.0}, 'tweedie_link_power': {'default': 1.0, 'actual': 1.0}, 'theta': {'default': 1e-10, 'actual': 1e-10}, 'solver': {'default': 'AUTO', 'actual': 'COORDINATE_DESCENT'}, 'alpha': {'default': None, 'actual': [0.0, 0.2, 0.4, 0.6, 0.8, 1.0]}, 'lambda': {'default': None, 'actual': [0.40044436071981493, 0.24868273229194082, 0.15443618990917896, 0.09590749037478274, 0.05956017637704195, 0.036987878592192616, 0.022970099250379815, 0.014264820791416522, 0.008858695384516653, 0.005501399916841423, 0.003416462552479351, 0.0021216811264277652, 0.0013175999248032143]}, 'lambda_search': {'default': False, 'actual': True}, 'early_stopping': {'default': True, 'actual': True}, 'nlambdas': {'default': -1, 'actual': 30}, 'standardize': {'default': True, 'actual': True}, 'missing_values_handling': {'default': 'MeanImputation', 'actual': 'MeanImputation'}, 'compute_p_values': {'default': False, 'actual': False}, 'remove_collinear_columns': {'default': False, 'actual': False}, 'intercept': {'default': True, 'actual': True}, 'non_negative': {'default': False, 'actual': False}, 'max_iterations': {'default': -1, 'actual': 300}, 'objective_epsilon': {'default': -1.0, 'actual': 0.0001}, 'beta_epsilon': {'default': 0.0001, 'actual': 0.0001}, 'gradient_epsilon': {'default': -1.0, 'actual': 1.0000000000000002e-06}, 'link': {'default': 'family_default', 'actual': 'logit'}, 'prior': {'default': -1.0, 'actual': -1.0}, 'lambda_min_ratio': {'default': -1.0, 'actual': 1.0000000000000002e-06}, 'beta_constraints': {'default': None, 'actual': None}, 'max_active_predictors': {'default': -1, 'actual': 5000}, 'interactions': {'default': None, 'actual': None}, 'interaction_pairs': {'default': None, 'actual': None}, 'obj_reg': {'default': -1.0, 'actual': 3.0516646830846227e-05}, 'export_checkpoints_dir': {'default': None, 'actual': None}, 'balance_classes': {'default': False, 'actual': False}, 'class_sampling_factors': {'default': None, 'actual': None}, 'max_after_balance_size': {'default': 5.0, 'actual': 5.0}, 'max_confusion_matrix_size': {'default': 20, 'actual': 20}, 'max_hit_ratio_k': {'default': 0, 'actual': 0}, 'max_runtime_secs': {'default': 0.0, 'actual': 0.0}, 'custom_metric_func': {'default': None, 'actual': None}}, {'model_id': {'default': None, 'actual': {'__meta': {'schema_version': 3, 'schema_name': 'ModelKeyV3', 'schema_type': 'Key<Model>'}, 'name': 'GBM_grid_1_AutoML_20190415_235801_model_3', 'type': 'Key<Model>', 'URL': '/3/Models/GBM_grid_1_AutoML_20190415_235801_model_3'}}, 'training_frame': {'default': None, 'actual': {'__meta': {'schema_version': 3, 'schema_name': 'FrameKeyV3', 'schema_type': 'Key<Frame>'}, 'name': 'automl_training_py_13_sid_870a', 'type': 'Key<Frame>', 'URL': '/3/Frames/automl_training_py_13_sid_870a'}}, 'validation_frame': {'default': None, 'actual': None}, 'nfolds': {'default': 0, 'actual': 5}, 'keep_cross_validation_models': {'default': True, 'actual': False}, 'keep_cross_validation_predictions': {'default': False, 'actual': True}, 'keep_cross_validation_fold_assignment': {'default': False, 'actual': False}, 'score_each_iteration': {'default': False, 'actual': False}, 'score_tree_interval': {'default': 0, 'actual': 5}, 'fold_assignment': {'default': 'AUTO', 'actual': 'Modulo'}, 'fold_column': {'default': None, 'actual': None}, 'response_column': {'default': None, 'actual': {'__meta': {'schema_version': 3, 'schema_name': 'ColSpecifierV3', 'schema_type': 'VecSpecifier'}, 'column_name': 'ACTION', 'is_member_of_frames': None}}, 'ignored_columns': {'default': None, 'actual': []}, 'ignore_const_cols': {'default': True, 'actual': True}, 'offset_column': {'default': None, 'actual': None}, 'weights_column': {'default': None, 'actual': None}, 'balance_classes': {'default': False, 'actual': False}, 'class_sampling_factors': {'default': None, 'actual': None}, 'max_after_balance_size': {'default': 5.0, 'actual': 5.0}, 'max_confusion_matrix_size': {'default': 20, 'actual': 20}, 'max_hit_ratio_k': {'default': 0, 'actual': 0}, 'ntrees': {'default': 50, 'actual': 2}, 'max_depth': {'default': 5, 'actual': 7}, 'min_rows': {'default': 10.0, 'actual': 100.0}, 'nbins': {'default': 20, 'actual': 20}, 'nbins_top_level': {'default': 1024, 'actual': 1024}, 'nbins_cats': {'default': 1024, 'actual': 1024}, 'r2_stopping': {'default': 1.7976931348623157e+308, 'actual': 1.7976931348623157e+308}, 'stopping_rounds': {'default': 0, 'actual': 0}, 'stopping_metric': {'default': 'AUTO', 'actual': 'logloss'}, 'stopping_tolerance': {'default': 0.001, 'actual': 0.005524187436252161}, 'max_runtime_secs': {'default': 0.0, 'actual': 0.0}, 'seed': {'default': -1, 'actual': 5211176854645358056}, 'build_tree_one_node': {'default': False, 'actual': False}, 'learn_rate': {'default': 0.1, 'actual': 0.001}, 'learn_rate_annealing': {'default': 1.0, 'actual': 1.0}, 'distribution': {'default': 'AUTO', 'actual': 'bernoulli'}, 'quantile_alpha': {'default': 0.5, 'actual': 0.5}, 'tweedie_power': {'default': 1.5, 'actual': 1.5}, 'huber_alpha': {'default': 0.9, 'actual': 0.9}, 'checkpoint': {'default': None, 'actual': None}, 'sample_rate': {'default': 1.0, 'actual': 0.5}, 'sample_rate_per_class': {'default': None, 'actual': None}, 'col_sample_rate': {'default': 1.0, 'actual': 0.7}, 'col_sample_rate_change_per_level': {'default': 1.0, 'actual': 1.0}, 'col_sample_rate_per_tree': {'default': 1.0, 'actual': 0.4}, 'min_split_improvement': {'default': 1e-05, 'actual': 0.0001}, 'histogram_type': {'default': 'AUTO', 'actual': 'AUTO'}, 'max_abs_leafnode_pred': {'default': 1.7976931348623157e+308, 'actual': 1.7976931348623157e+308}, 'pred_noise_bandwidth': {'default': 0.0, 'actual': 0.0}, 'categorical_encoding': {'default': 'AUTO', 'actual': 'AUTO'}, 'calibrate_model': {'default': False, 'actual': False}, 'calibration_frame': {'default': None, 'actual': None}, 'custom_metric_func': {'default': None, 'actual': None}, 'export_checkpoints_dir': {'default': None, 'actual': None}, 'monotone_constraints': {'default': None, 'actual': None}, 'check_constant_response': {'default': True, 'actual': True}}, {'model_id': {'default': None, 'actual': {'__meta': {'schema_version': 3, 'schema_name': 'ModelKeyV3', 'schema_type': 'Key<Model>'}, 'name': 'DeepLearning_grid_1_AutoML_20190415_235801_model_2', 'type': 'Key<Model>', 'URL': '/3/Models/DeepLearning_grid_1_AutoML_20190415_235801_model_2'}}, 'training_frame': {'default': None, 'actual': {'__meta': {'schema_version': 3, 'schema_name': 'FrameKeyV3', 'schema_type': 'Key<Frame>'}, 'name': 'automl_training_py_13_sid_870a', 'type': 'Key<Frame>', 'URL': '/3/Frames/automl_training_py_13_sid_870a'}}, 'validation_frame': {'default': None, 'actual': None}, 'nfolds': {'default': 0, 'actual': 5}, 'keep_cross_validation_models': {'default': True, 'actual': False}, 'keep_cross_validation_predictions': {'default': False, 'actual': True}, 'keep_cross_validation_fold_assignment': {'default': False, 'actual': False}, 'fold_assignment': {'default': 'AUTO', 'actual': 'Modulo'}, 'fold_column': {'default': None, 'actual': None}, 'response_column': {'default': None, 'actual': {'__meta': {'schema_version': 3, 'schema_name': 'ColSpecifierV3', 'schema_type': 'VecSpecifier'}, 'column_name': 'ACTION', 'is_member_of_frames': None}}, 'ignored_columns': {'default': None, 'actual': []}, 'ignore_const_cols': {'default': True, 'actual': True}, 'score_each_iteration': {'default': False, 'actual': False}, 'weights_column': {'default': None, 'actual': None}, 'offset_column': {'default': None, 'actual': None}, 'balance_classes': {'default': False, 'actual': False}, 'class_sampling_factors': {'default': None, 'actual': None}, 'max_after_balance_size': {'default': 5.0, 'actual': 5.0}, 'max_confusion_matrix_size': {'default': 20, 'actual': 20}, 'max_hit_ratio_k': {'default': 0, 'actual': 0}, 'checkpoint': {'default': None, 'actual': None}, 'pretrained_autoencoder': {'default': None, 'actual': None}, 'overwrite_with_best_model': {'default': True, 'actual': False}, 'use_all_factor_levels': {'default': True, 'actual': True}, 'standardize': {'default': True, 'actual': True}, 'activation': {'default': 'Rectifier', 'actual': 'RectifierWithDropout'}, 'hidden': {'default': [200, 200], 'actual': [500, 500]}, 'epochs': {'default': 10.0, 'actual': 0.29250206809014745}, 'train_samples_per_iteration': {'default': -2, 'actual': -2}, 'target_ratio_comm_to_comp': {'default': 0.05, 'actual': 0.05}, 'seed': {'default': -1, 'actual': -4923680577857392084}, 'adaptive_rate': {'default': True, 'actual': True}, 'rho': {'default': 0.99, 'actual': 0.99}, 'epsilon': {'default': 1e-08, 'actual': 1e-08}, 'rate': {'default': 0.005, 'actual': 0.005}, 'rate_annealing': {'default': 1e-06, 'actual': 1e-06}, 'rate_decay': {'default': 1.0, 'actual': 1.0}, 'momentum_start': {'default': 0.0, 'actual': 0.0}, 'momentum_ramp': {'default': 1000000.0, 'actual': 1000000.0}, 'momentum_stable': {'default': 0.0, 'actual': 0.0}, 'nesterov_accelerated_gradient': {'default': True, 'actual': True}, 'input_dropout_ratio': {'default': 0.0, 'actual': 0.2}, 'hidden_dropout_ratios': {'default': None, 'actual': [0.1, 0.1]}, 'l1': {'default': 0.0, 'actual': 0.0}, 'l2': {'default': 0.0, 'actual': 0.0}, 'max_w2': {'default': 3.4028235e+38, 'actual': 3.4028235e+38}, 'initial_weight_distribution': {'default': 'UniformAdaptive', 'actual': 'UniformAdaptive'}, 'initial_weight_scale': {'default': 1.0, 'actual': 1.0}, 'initial_weights': {'default': None, 'actual': None}, 'initial_biases': {'default': None, 'actual': None}, 'loss': {'default': 'Automatic', 'actual': 'Automatic'}, 'distribution': {'default': 'AUTO', 'actual': 'AUTO'}, 'quantile_alpha': {'default': 0.5, 'actual': 0.5}, 'tweedie_power': {'default': 1.5, 'actual': 1.5}, 'huber_alpha': {'default': 0.9, 'actual': 0.9}, 'score_interval': {'default': 5.0, 'actual': 5.0}, 'score_training_samples': {'default': 10000, 'actual': 10000}, 'score_validation_samples': {'default': 0, 'actual': 0}, 'score_duty_cycle': {'default': 0.1, 'actual': 0.1}, 'classification_stop': {'default': 0.0, 'actual': 0.0}, 'regression_stop': {'default': 1e-06, 'actual': 1e-06}, 'stopping_rounds': {'default': 5, 'actual': 0}, 'stopping_metric': {'default': 'AUTO', 'actual': 'logloss'}, 'stopping_tolerance': {'default': 0.0, 'actual': 0.005524187436252161}, 'max_runtime_secs': {'default': 0.0, 'actual': 0.0}, 'score_validation_sampling': {'default': 'Uniform', 'actual': 'Uniform'}, 'diagnostics': {'default': True, 'actual': True}, 'fast_mode': {'default': True, 'actual': True}, 'force_load_balance': {'default': True, 'actual': True}, 'variable_importances': {'default': True, 'actual': True}, 'replicate_training_data': {'default': True, 'actual': True}, 'single_node_mode': {'default': False, 'actual': False}, 'shuffle_training_data': {'default': False, 'actual': False}, 'missing_values_handling': {'default': 'MeanImputation', 'actual': 'MeanImputation'}, 'quiet_mode': {'default': False, 'actual': False}, 'autoencoder': {'default': False, 'actual': False}, 'sparse': {'default': False, 'actual': False}, 'col_major': {'default': False, 'actual': False}, 'average_activation': {'default': 0.0, 'actual': 0.0}, 'sparsity_beta': {'default': 0.0, 'actual': 0.0}, 'max_categorical_features': {'default': 2147483647, 'actual': 2147483647}, 'reproducible': {'default': False, 'actual': False}, 'export_weights_and_biases': {'default': False, 'actual': False}, 'mini_batch_size': {'default': 1, 'actual': 1}, 'categorical_encoding': {'default': 'AUTO', 'actual': 'AUTO'}, 'elastic_averaging': {'default': False, 'actual': False}, 'elastic_averaging_moving_rate': {'default': 0.9, 'actual': 0.9}, 'elastic_averaging_regularization': {'default': 0.001, 'actual': 0.001}, 'export_checkpoints_dir': {'default': None, 'actual': None}}, {'model_id': {'default': None, 'actual': {'__meta': {'schema_version': 3, 'schema_name': 'ModelKeyV3', 'schema_type': 'Key<Model>'}, 'name': 'DeepLearning_grid_1_AutoML_20190415_235801_model_1', 'type': 'Key<Model>', 'URL': '/3/Models/DeepLearning_grid_1_AutoML_20190415_235801_model_1'}}, 'training_frame': {'default': None, 'actual': {'__meta': {'schema_version': 3, 'schema_name': 'FrameKeyV3', 'schema_type': 'Key<Frame>'}, 'name': 'automl_training_py_13_sid_870a', 'type': 'Key<Frame>', 'URL': '/3/Frames/automl_training_py_13_sid_870a'}}, 'validation_frame': {'default': None, 'actual': None}, 'nfolds': {'default': 0, 'actual': 5}, 'keep_cross_validation_models': {'default': True, 'actual': False}, 'keep_cross_validation_predictions': {'default': False, 'actual': True}, 'keep_cross_validation_fold_assignment': {'default': False, 'actual': False}, 'fold_assignment': {'default': 'AUTO', 'actual': 'Modulo'}, 'fold_column': {'default': None, 'actual': None}, 'response_column': {'default': None, 'actual': {'__meta': {'schema_version': 3, 'schema_name': 'ColSpecifierV3', 'schema_type': 'VecSpecifier'}, 'column_name': 'ACTION', 'is_member_of_frames': None}}, 'ignored_columns': {'default': None, 'actual': []}, 'ignore_const_cols': {'default': True, 'actual': True}, 'score_each_iteration': {'default': False, 'actual': False}, 'weights_column': {'default': None, 'actual': None}, 'offset_column': {'default': None, 'actual': None}, 'balance_classes': {'default': False, 'actual': False}, 'class_sampling_factors': {'default': None, 'actual': None}, 'max_after_balance_size': {'default': 5.0, 'actual': 5.0}, 'max_confusion_matrix_size': {'default': 20, 'actual': 20}, 'max_hit_ratio_k': {'default': 0, 'actual': 0}, 'checkpoint': {'default': None, 'actual': None}, 'pretrained_autoencoder': {'default': None, 'actual': None}, 'overwrite_with_best_model': {'default': True, 'actual': False}, 'use_all_factor_levels': {'default': True, 'actual': True}, 'standardize': {'default': True, 'actual': True}, 'activation': {'default': 'Rectifier', 'actual': 'RectifierWithDropout'}, 'hidden': {'default': [200, 200], 'actual': [500]}, 'epochs': {'default': 10.0, 'actual': 3.6656871946500473}, 'train_samples_per_iteration': {'default': -2, 'actual': -2}, 'target_ratio_comm_to_comp': {'default': 0.05, 'actual': 0.05}, 'seed': {'default': -1, 'actual': 8294869185588579510}, 'adaptive_rate': {'default': True, 'actual': True}, 'rho': {'default': 0.99, 'actual': 0.99}, 'epsilon': {'default': 1e-08, 'actual': 1e-09}, 'rate': {'default': 0.005, 'actual': 0.005}, 'rate_annealing': {'default': 1e-06, 'actual': 1e-06}, 'rate_decay': {'default': 1.0, 'actual': 1.0}, 'momentum_start': {'default': 0.0, 'actual': 0.0}, 'momentum_ramp': {'default': 1000000.0, 'actual': 1000000.0}, 'momentum_stable': {'default': 0.0, 'actual': 0.0}, 'nesterov_accelerated_gradient': {'default': True, 'actual': True}, 'input_dropout_ratio': {'default': 0.0, 'actual': 0.0}, 'hidden_dropout_ratios': {'default': None, 'actual': [0.5]}, 'l1': {'default': 0.0, 'actual': 0.0}, 'l2': {'default': 0.0, 'actual': 0.0}, 'max_w2': {'default': 3.4028235e+38, 'actual': 3.4028235e+38}, 'initial_weight_distribution': {'default': 'UniformAdaptive', 'actual': 'UniformAdaptive'}, 'initial_weight_scale': {'default': 1.0, 'actual': 1.0}, 'initial_weights': {'default': None, 'actual': None}, 'initial_biases': {'default': None, 'actual': None}, 'loss': {'default': 'Automatic', 'actual': 'Automatic'}, 'distribution': {'default': 'AUTO', 'actual': 'AUTO'}, 'quantile_alpha': {'default': 0.5, 'actual': 0.5}, 'tweedie_power': {'default': 1.5, 'actual': 1.5}, 'huber_alpha': {'default': 0.9, 'actual': 0.9}, 'score_interval': {'default': 5.0, 'actual': 5.0}, 'score_training_samples': {'default': 10000, 'actual': 10000}, 'score_validation_samples': {'default': 0, 'actual': 0}, 'score_duty_cycle': {'default': 0.1, 'actual': 0.1}, 'classification_stop': {'default': 0.0, 'actual': 0.0}, 'regression_stop': {'default': 1e-06, 'actual': 1e-06}, 'stopping_rounds': {'default': 5, 'actual': 0}, 'stopping_metric': {'default': 'AUTO', 'actual': 'logloss'}, 'stopping_tolerance': {'default': 0.0, 'actual': 0.005524187436252161}, 'max_runtime_secs': {'default': 0.0, 'actual': 0.0}, 'score_validation_sampling': {'default': 'Uniform', 'actual': 'Uniform'}, 'diagnostics': {'default': True, 'actual': True}, 'fast_mode': {'default': True, 'actual': True}, 'force_load_balance': {'default': True, 'actual': True}, 'variable_importances': {'default': True, 'actual': True}, 'replicate_training_data': {'default': True, 'actual': True}, 'single_node_mode': {'default': False, 'actual': False}, 'shuffle_training_data': {'default': False, 'actual': False}, 'missing_values_handling': {'default': 'MeanImputation', 'actual': 'MeanImputation'}, 'quiet_mode': {'default': False, 'actual': False}, 'autoencoder': {'default': False, 'actual': False}, 'sparse': {'default': False, 'actual': False}, 'col_major': {'default': False, 'actual': False}, 'average_activation': {'default': 0.0, 'actual': 0.0}, 'sparsity_beta': {'default': 0.0, 'actual': 0.0}, 'max_categorical_features': {'default': 2147483647, 'actual': 2147483647}, 'reproducible': {'default': False, 'actual': False}, 'export_weights_and_biases': {'default': False, 'actual': False}, 'mini_batch_size': {'default': 1, 'actual': 1}, 'categorical_encoding': {'default': 'AUTO', 'actual': 'AUTO'}, 'elastic_averaging': {'default': False, 'actual': False}, 'elastic_averaging_moving_rate': {'default': 0.9, 'actual': 0.9}, 'elastic_averaging_regularization': {'default': 0.001, 'actual': 0.001}, 'export_checkpoints_dir': {'default': None, 'actual': None}}]"
     ]
    },
    {
     "name": "stdout",
     "output_type": "stream",
     "text": [
      "\n"
     ]
    }
   ],
   "source": [
    "print(jsonDicts)"
   ]
  },
  {
   "cell_type": "code",
   "execution_count": 99,
   "metadata": {},
   "outputs": [],
   "source": [
    "# def hyperparameter_json(jsonDicts,name):\n",
    "#     i = json.dumps(jsonDicts,indent = 4)\n",
    "#     f = open(run_id + name,'w')\n",
    "#     print(i,file = f)\n",
    "#     f.close()\n",
    "n=run_id+'EmpAccess_500_hy_parameter.json'\n",
    "dict_to_json(jsonDicts,n)"
   ]
  },
  {
   "cell_type": "markdown",
   "metadata": {},
   "source": [
    "### Generating metadata and storing in JSON"
   ]
  },
  {
   "cell_type": "code",
   "execution_count": 100,
   "metadata": {},
   "outputs": [],
   "source": [
    "meta_data['end_time'] = time.time()"
   ]
  },
  {
   "cell_type": "code",
   "execution_count": 101,
   "metadata": {
    "scrolled": true
   },
   "outputs": [
    {
     "data": {
      "text/plain": [
       "{'target': None,\n",
       " 'classification': True,\n",
       " 'run_time': 500,\n",
       " 'run_id': 'y2l466LD5',\n",
       " 'max_models': None,\n",
       " 'start_time': 1555387074.0489674,\n",
       " 'server_path': 'C:\\\\Users\\\\hp\\\\Desktop\\\\Data Science Hyperparameter Project',\n",
       " 'data_path': 'C:/Users/hp/Desktop/Data Science Hyperparameter Project/Employee_access_data.csv',\n",
       " 'test_path': None,\n",
       " 'scale': False,\n",
       " 'model_path': None,\n",
       " 'balance': False,\n",
       " 'balance_threshold': 0.2,\n",
       " 'project': None,\n",
       " 'end_time': 1555387614.5127614,\n",
       " 'run_path': 'C:\\\\Users\\\\hp\\\\Desktop\\\\Data Science Hyperparameter Project\\\\y2l466LD5',\n",
       " 'nthreads': 1,\n",
       " 'min_mem_size': 2,\n",
       " 'analysis': 0,\n",
       " 'Shape_Rows*Cols': (32769, 10),\n",
       " 'X': ['RESOURCE',\n",
       "  'MGR_ID',\n",
       "  'ROLE_ROLLUP_1',\n",
       "  'ROLE_ROLLUP_2',\n",
       "  'ROLE_DEPTNAME',\n",
       "  'ROLE_TITLE',\n",
       "  'ROLE_FAMILY_DESC',\n",
       "  'ROLE_FAMILY',\n",
       "  'ROLE_CODE'],\n",
       " 'levels': [['0', '1']],\n",
       " 'variables': {'ACTION': 'enum',\n",
       "  'RESOURCE': 'int',\n",
       "  'MGR_ID': 'int',\n",
       "  'ROLE_ROLLUP_1': 'int',\n",
       "  'ROLE_ROLLUP_2': 'int',\n",
       "  'ROLE_DEPTNAME': 'int',\n",
       "  'ROLE_TITLE': 'int',\n",
       "  'ROLE_FAMILY_DESC': 'int',\n",
       "  'ROLE_FAMILY': 'int',\n",
       "  'ROLE_CODE': 'int'},\n",
       " 'model_execution_time_sec': 528.6322100162506,\n",
       " 'Models_generated': 15}"
      ]
     },
     "execution_count": 101,
     "metadata": {},
     "output_type": "execute_result"
    }
   ],
   "source": [
    "meta_data"
   ]
  },
  {
   "cell_type": "code",
   "execution_count": 102,
   "metadata": {
    "scrolled": true
   },
   "outputs": [],
   "source": [
    "n=run_id+'EmpAccess_500_meta_data.json'\n",
    "dict_to_json(meta_data,n)"
   ]
  },
  {
   "cell_type": "markdown",
   "metadata": {},
   "source": [
    "#### Shutting down H2O"
   ]
  },
  {
   "cell_type": "code",
   "execution_count": 103,
   "metadata": {},
   "outputs": [],
   "source": [
    "# Clean up\n",
    "os.chdir(server_path)"
   ]
  },
  {
   "cell_type": "code",
   "execution_count": 104,
   "metadata": {},
   "outputs": [
    {
     "name": "stdout",
     "output_type": "stream",
     "text": [
      "H2O session _sid_870a closed.\n"
     ]
    }
   ],
   "source": [
    "h2o.cluster().shutdown()"
   ]
  },
  {
   "cell_type": "markdown",
   "metadata": {},
   "source": [
    "#### Link of data set\n",
    "\n",
    "https://www.kaggle.com/c/amazon-employee-access-challenge/overview"
   ]
  },
  {
   "cell_type": "markdown",
   "metadata": {},
   "source": [
    "# Conclusion"
   ]
  },
  {
   "cell_type": "markdown",
   "metadata": {},
   "source": [
    "# Contribution"
   ]
  },
  {
   "cell_type": "markdown",
   "metadata": {},
   "source": [
    "# Citation\n",
    "\n",
    "https://github.com/prabhuSub/Hyperparamter-Samples\n",
    "\n",
    "https://github.com/nikbearbrown/CSYE_7245/tree/master/H2O\n",
    "\n"
   ]
  },
  {
   "cell_type": "markdown",
   "metadata": {},
   "source": [
    "# License\n",
    "\n",
    "Copyright (c) 2019 Urja Jain, Prakruthi Bagur Suryanarayanaprasad\n",
    "\n",
    "Permission is hereby granted, free of charge, to any person obtaining a copy of this software and associated documentation files (the \"Software\"), to deal in the Software without restriction, including without limitation the rights to use, copy, modify, merge, publish, distribute, sublicense, and/or sell copies of the Software, and to permit persons to whom the Software is furnished to do so, subject to the following conditions:\n",
    "\n",
    "The above copyright notice and this permission notice shall be included in all copies or substantial portions of the Software.\n",
    "\n",
    "THE SOFTWARE IS PROVIDED \"AS IS\", WITHOUT WARRANTY OF ANY KIND, EXPRESS OR IMPLIED, INCLUDING BUT NOT LIMITED TO THE WARRANTIES OF MERCHANTABILITY, FITNESS FOR A PARTICULAR PURPOSE AND NONINFRINGEMENT. IN NO EVENT SHALL THE AUTHORS OR COPYRIGHT HOLDERS BE LIABLE FOR ANY CLAIM, DAMAGES OR OTHER LIABILITY, WHETHER IN AN ACTION OF CONTRACT, TORT OR OTHERWISE, ARISING FROM, OUT OF OR IN CONNECTION WITH THE SOFTWARE OR THE USE OR OTHER DEALINGS IN THE SOFTWARE."
   ]
  }
 ],
 "metadata": {
  "kernelspec": {
   "display_name": "Python 3",
   "language": "python",
   "name": "python3"
  },
  "language_info": {
   "codemirror_mode": {
    "name": "ipython",
    "version": 3
   },
   "file_extension": ".py",
   "mimetype": "text/x-python",
   "name": "python",
   "nbconvert_exporter": "python",
   "pygments_lexer": "ipython3",
   "version": "3.7.1"
  }
 },
 "nbformat": 4,
 "nbformat_minor": 2
}
