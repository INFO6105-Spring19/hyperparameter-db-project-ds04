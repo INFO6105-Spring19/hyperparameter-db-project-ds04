{
 "cells": [
  {
   "cell_type": "markdown",
   "metadata": {},
   "source": [
    "## Hyperparameter AI Skunkworks"
   ]
  },
  {
   "cell_type": "markdown",
   "metadata": {},
   "source": [
    "Since determining hyperparameters that optimize model performance can be a tedious and difficult task. Thus, This research project focuses on developing a hyperparameter database that allows users to visualize and understand how to choose hyperparameters that maximize the predictive power of their models. The database is created by running millions of hyperparameter values, over thousands of public datasets and calculating the individual conditional expectation of every hyperparameter to the quality of a model. As a Data Science fellow we will be finding the Hyperparameters. \n",
    "\n",
    "By this research project in the end we will be able to achieve hyperparameters. \n",
    "\n",
    "### What are Hyperparameters?\n",
    "\n",
    "Hyperparameter are the parameters which are defined before running any machine learning algorithms. That means Hyperparameters are model-specific properties that are 'fixed' before you even train and test your model on data. \n",
    "\n",
    "Basically Hyperparameters are specified for tuning purpose.\n",
    "\n",
    "### Why Hyperparameter is important?\n",
    "\n",
    "Hyperparameters are important because they directly control the behaviour of the training algorithm and have a significant impact on the performance of the model that is being trained."
   ]
  },
  {
   "cell_type": "markdown",
   "metadata": {},
   "source": [
    "### DataSet Over view"
   ]
  },
  {
   "cell_type": "markdown",
   "metadata": {},
   "source": [
    "We have taken a kaggle data set \"Amazon.com - Employee Access Challange\".\n",
    "\n",
    "**What is Employee Access Challange??**\n",
    "\n",
    "The dataset is about the access given to the employees to read/manipulate resources through various applications or web portals. Employees are manually allowed or denied access to resources over time. \n",
    "\n",
    "**What we are predicting??**\n",
    "\n",
    "**Target** variable is **Action** which is **Binary** as 1 and 0.\n",
    "\n",
    "    1 if the resource was approved.\n",
    "    0 if the resource was not approved."
   ]
  },
  {
   "cell_type": "markdown",
   "metadata": {},
   "source": [
    "### Library used for this research\n",
    "\n",
    "We are using the H2O library of python\n",
    "\n",
    "We will be using H20 because it gives the flexibility to run algorithms at different run times. Also it will automatically run and give the best Models."
   ]
  },
  {
   "cell_type": "markdown",
   "metadata": {},
   "source": [
    "## H20\n",
    "\n",
    "### What is H2O? \n",
    "\n",
    "H2O is a Java-based software for data modeling and general computing. The H2O software is many things, but the primary purpose of H2O is as a distributed (many machines), parallel (many CPUs), in memory (several hundred GBs Xmx) processing engine.\n",
    "The goal of H2O is to allow simple horizontal scaling to a given problem in order to produce a solution faster. The conceptual paradigm MapReduce (AKA “divide and conquer and combine”), along with a good concurrent application structure, (c.f. jsr166y and NonBlockingHashMap) enable this type of scaling in H2O.\n",
    "\n",
    "\n"
   ]
  },
  {
   "cell_type": "markdown",
   "metadata": {},
   "source": [
    "### What has been till now?\n",
    "\n",
    "* Our first task was to select the data set\n",
    "    * we selected a dataset from kaggle which has Target variable as Binary\n",
    "* We did data cleaning by finding the null values and if any we tried to fix it, we scaled our data set.\n",
    "* Used H20 as it gives flexibility and Ran for __ runtime.\n"
   ]
  },
  {
   "cell_type": "markdown",
   "metadata": {},
   "source": [
    "### The process how it is done"
   ]
  },
  {
   "cell_type": "markdown",
   "metadata": {},
   "source": [
    "## Things left to do!!"
   ]
  }
 ],
 "metadata": {
  "kernelspec": {
   "display_name": "Python 3",
   "language": "python",
   "name": "python3"
  },
  "language_info": {
   "codemirror_mode": {
    "name": "ipython",
    "version": 3
   },
   "file_extension": ".py",
   "mimetype": "text/x-python",
   "name": "python",
   "nbconvert_exporter": "python",
   "pygments_lexer": "ipython3",
   "version": "3.7.1"
  }
 },
 "nbformat": 4,
 "nbformat_minor": 2
}
