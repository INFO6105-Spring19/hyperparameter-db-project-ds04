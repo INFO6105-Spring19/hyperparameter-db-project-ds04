{
 "cells": [
  {
   "cell_type": "markdown",
   "metadata": {},
   "source": [
    "# Abstract"
   ]
  },
  {
   "cell_type": "code",
   "execution_count": 110,
   "metadata": {},
   "outputs": [],
   "source": [
    "#importing libraries\n",
    "import h2o\n",
    "from h2o.automl import H2OAutoML\n",
    "import random, os, sys\n",
    "from datetime import datetime\n",
    "import pandas as pd\n",
    "import logging\n",
    "import csv\n",
    "import optparse\n",
    "import time\n",
    "import json\n",
    "from distutils.util import strtobool\n",
    "import psutil\n",
    "import pandas as pd\n",
    "import warnings\n",
    "warnings.filterwarnings('ignore')"
   ]
  },
  {
   "cell_type": "code",
   "execution_count": 111,
   "metadata": {},
   "outputs": [],
   "source": [
    "data_path=None\n",
    "all_variables=None\n",
    "test_path=None\n",
    "# target='search_term'\n",
    "target=None\n",
    "nthreads=1                        # Number of parallel threads used to run Algorithms\n",
    "min_mem_size=6 \n",
    "classification= True\n",
    "scale=False\n",
    "max_models=None    \n",
    "model_path=None\n",
    "balance_y=False \n",
    "balance_threshold=0.2             \n",
    "name=None \n",
    "server_path=None  \n",
    "analysis=0 "
   ]
  },
  {
   "cell_type": "markdown",
   "metadata": {},
   "source": [
    "When enabled, H2O will either undersample the majority classes or oversample the minority classes. Note that the resulting model will also correct the final probabilities (“undo the sampling”) using a monotonic transform, so the predicted probabilities of the first model will differ from a second model. However, because AUC only cares about ordering, it won’t be affected."
   ]
  },
  {
   "cell_type": "code",
   "execution_count": 112,
   "metadata": {},
   "outputs": [],
   "source": [
    "data_path='C:/Users/hp/Desktop/Data Science Hyperparameter Project/Employee_access_data.csv'"
   ]
  },
  {
   "cell_type": "markdown",
   "metadata": {},
   "source": [
    "### Data Cleaning"
   ]
  },
  {
   "cell_type": "code",
   "execution_count": 113,
   "metadata": {},
   "outputs": [],
   "source": [
    "data=pd.read_csv(\"Employee_access_data.csv\", decimal = ',')"
   ]
  },
  {
   "cell_type": "code",
   "execution_count": 114,
   "metadata": {},
   "outputs": [
    {
     "data": {
      "text/plain": [
       "ACTION              int64\n",
       "RESOURCE            int64\n",
       "MGR_ID              int64\n",
       "ROLE_ROLLUP_1       int64\n",
       "ROLE_ROLLUP_2       int64\n",
       "ROLE_DEPTNAME       int64\n",
       "ROLE_TITLE          int64\n",
       "ROLE_FAMILY_DESC    int64\n",
       "ROLE_FAMILY         int64\n",
       "ROLE_CODE           int64\n",
       "dtype: object"
      ]
     },
     "execution_count": 114,
     "metadata": {},
     "output_type": "execute_result"
    }
   ],
   "source": [
    "data.dtypes"
   ]
  },
  {
   "cell_type": "markdown",
   "metadata": {},
   "source": [
    "**Checking for the Null values**"
   ]
  },
  {
   "cell_type": "code",
   "execution_count": 115,
   "metadata": {},
   "outputs": [
    {
     "data": {
      "text/html": [
       "<div>\n",
       "<style scoped>\n",
       "    .dataframe tbody tr th:only-of-type {\n",
       "        vertical-align: middle;\n",
       "    }\n",
       "\n",
       "    .dataframe tbody tr th {\n",
       "        vertical-align: top;\n",
       "    }\n",
       "\n",
       "    .dataframe thead th {\n",
       "        text-align: right;\n",
       "    }\n",
       "</style>\n",
       "<table border=\"1\" class=\"dataframe\">\n",
       "  <thead>\n",
       "    <tr style=\"text-align: right;\">\n",
       "      <th></th>\n",
       "      <th>total_missing</th>\n",
       "      <th>percent</th>\n",
       "    </tr>\n",
       "  </thead>\n",
       "  <tbody>\n",
       "  </tbody>\n",
       "</table>\n",
       "</div>"
      ],
      "text/plain": [
       "Empty DataFrame\n",
       "Columns: [total_missing, percent]\n",
       "Index: []"
      ]
     },
     "execution_count": 115,
     "metadata": {},
     "output_type": "execute_result"
    }
   ],
   "source": [
    "total = data.isnull().sum()[data.isnull().sum() != 0].sort_values(ascending = False)\n",
    "percent = pd.Series(round(total/len(data)*100,2))\n",
    "pd.concat([total, percent], axis=1, keys=['total_missing', 'percent'])"
   ]
  },
  {
   "cell_type": "markdown",
   "metadata": {},
   "source": [
    "No null values"
   ]
  },
  {
   "cell_type": "markdown",
   "metadata": {},
   "source": [
    "### RUNTIME"
   ]
  },
  {
   "cell_type": "markdown",
   "metadata": {},
   "source": [
    "300, 500, 700, 1000, 1200"
   ]
  },
  {
   "cell_type": "code",
   "execution_count": 116,
   "metadata": {},
   "outputs": [],
   "source": [
    "run_time= 500"
   ]
  },
  {
   "cell_type": "code",
   "execution_count": 117,
   "metadata": {},
   "outputs": [
    {
     "name": "stdout",
     "output_type": "stream",
     "text": [
      "2 GB\n"
     ]
    }
   ],
   "source": [
    "pct_memory=0.5\n",
    "virtual_memory=psutil.virtual_memory()\n",
    "min_mem_size=int(round(int(pct_memory*virtual_memory.available)/1073741824,0))\n",
    "print(min_mem_size, \"GB\")"
   ]
  },
  {
   "cell_type": "code",
   "execution_count": 186,
   "metadata": {},
   "outputs": [],
   "source": [
    "#Defining functions\n",
    "\n",
    "#generating random run_id\n",
    "def alphabet(n):\n",
    "  alpha='0123456789abcdefghijklmnopqrstuvwxyzABCDEFGHIJKLMNOPQRSTUVWXYZ'    \n",
    "  str=''\n",
    "  r=len(alpha)-1   \n",
    "  while len(str)<n:\n",
    "    i=random.randint(0,r)\n",
    "    str+=alpha[i]   \n",
    "  return str\n",
    "\n",
    "# storing in m_data dictionary  \n",
    "def set_meta_data(analysis,run_id,server,data,model_path,run_time,scale,model,balance,balance_threshold,name,path,nthreads,min_mem_size):\n",
    "  m_data={}\n",
    "  # m_data['target']=target\n",
    "  #m_data['classification']=classification\n",
    "  m_data['run_time']=run_time\n",
    "  m_data['run_id'] =run_id\n",
    "  m_data['max_models']=model\n",
    "#   m_data['Shape_Rows*Cols'] = shape\n",
    "  m_data['start_time'] = time.time()\n",
    "#   m_data['model_execution_time'] = execution\n",
    "  m_data['server_path']=server\n",
    "  m_data['data_path']=data \n",
    "#  m_data['test_path']=test\n",
    "  m_data['max_models']=model \n",
    "  m_data['scale']=scale  \n",
    "  m_data['scale']=False\n",
    "  m_data['model_path']=model_path\n",
    "  m_data['balance']=balance\n",
    "  m_data['balance_threshold']=balance_threshold\n",
    "  m_data['project'] =name\n",
    "  m_data['end_time'] = time.time()  \n",
    "  m_data['run_path'] =path\n",
    "  m_data['nthreads'] = nthreads\n",
    "  m_data['min_mem_size'] = min_mem_size\n",
    "  m_data['analysis'] = analysis\n",
    "  return m_data\n",
    "\n",
    "#converting dictionary to json\n",
    "def dict_to_json(dct,n):\n",
    "  j = json.dumps(dct, indent=4)\n",
    "  f = open(n, 'w')\n",
    "  print(j, file=f)\n",
    "  f.close()\n",
    "    \n",
    "def get_all_variables_csv(i):\n",
    "    ivd={}\n",
    "    try:\n",
    "      iv = pd.read_csv(i,header=None)\n",
    "    except:\n",
    "      sys.exit(1)    \n",
    "    col=iv.values.tolist()[0]\n",
    "    dt=iv.values.tolist()[1]\n",
    "    i=0\n",
    "    for c in col:\n",
    "      ivd[c.strip()]=dt[i].strip()\n",
    "      i+=1        \n",
    "    return ivd\n",
    "    \n",
    "# Segregating in different lists of int, enum, reals and checking for missing values and then scaling(standardizing)    \n",
    "def impute_missing_values(df, x, scal=False):\n",
    "    # determine column types\n",
    "    ints, reals, enums = [], [], []\n",
    "    for key, val in df.types.items():\n",
    "        if key in x:\n",
    "            if val == 'enum':\n",
    "                enums.append(key)\n",
    "            elif val == 'int':\n",
    "                ints.append(key)            \n",
    "            else: \n",
    "                reals.append(key)    \n",
    "    _ = df[reals].impute(method='mean')\n",
    "    _ = df[ints].impute(method='median')\n",
    "    if scal:\n",
    "        df[reals] = df[reals].scale()\n",
    "        df[ints] = df[ints].scale()    \n",
    "    return\n",
    "\n",
    "# Determining Independent variables (X) from the dataset \n",
    "def get_independent_variables(df, targ):\n",
    "    C = [name for name in df.columns if name != targ]\n",
    "    # determine column types\n",
    "    ints, reals, enums = [], [], []\n",
    "    for key, val in df.types.items():\n",
    "        if key in C:\n",
    "            if val == 'enum':\n",
    "                enums.append(key)\n",
    "            elif val == 'int':\n",
    "                ints.append(key)            \n",
    "            else: \n",
    "                reals.append(key)    \n",
    "    x=ints+enums+reals\n",
    "    return x\n",
    "\n",
    "#Checkinh if X does not exist then remove\n",
    "def check_X(x,df):\n",
    "    for name in x:\n",
    "        if name not in df.columns:\n",
    "          x.remove(name)  \n",
    "    return x    \n",
    "    "
   ]
  },
  {
   "cell_type": "markdown",
   "metadata": {},
   "source": [
    "**Checking the number of classes of dependent variable**"
   ]
  },
  {
   "cell_type": "code",
   "execution_count": 134,
   "metadata": {
    "scrolled": true
   },
   "outputs": [
    {
     "name": "stdout",
     "output_type": "stream",
     "text": [
      "[['0', '1']]\n"
     ]
    }
   ],
   "source": [
    "# Total categories in the target column\n",
    "lvl = df[y].levels()\n",
    "print(lvl)\n",
    "meta_data[\"levels\"] = lvl"
   ]
  },
  {
   "cell_type": "code",
   "execution_count": 162,
   "metadata": {},
   "outputs": [],
   "source": [
    "if classification :\n",
    "    meta_data[\"Problem_type\"] = \"Classification\"\n",
    "else:\n",
    "    meta_data[\"Problem_type\"] = \"Regression\"    "
   ]
  },
  {
   "cell_type": "markdown",
   "metadata": {},
   "source": [
    "### RUN_ID"
   ]
  },
  {
   "cell_type": "code",
   "execution_count": 119,
   "metadata": {},
   "outputs": [
    {
     "name": "stdout",
     "output_type": "stream",
     "text": [
      "bFTt3zVrD\n"
     ]
    }
   ],
   "source": [
    "#randomly generating run_id through alphabet function\n",
    "run_id=alphabet(9)\n",
    "if server_path==None:\n",
    "    server_path=os.path.abspath(os.curdir)\n",
    "os.chdir(server_path) \n",
    "run_dir = os.path.join(server_path,run_id)\n",
    "os.mkdir(run_dir)\n",
    "os.chdir(run_dir)    \n",
    "\n",
    "# run_id to std out\n",
    "print (run_id) "
   ]
  },
  {
   "cell_type": "code",
   "execution_count": 120,
   "metadata": {},
   "outputs": [],
   "source": [
    "# # Creating a log file\n",
    "# logfile=run_id+'_autoh2o_log.zip'\n",
    "# logs_path=os.path.join(run_dir,'logs')\n",
    "# print(logs_path,' ',logfile)"
   ]
  },
  {
   "cell_type": "code",
   "execution_count": 190,
   "metadata": {},
   "outputs": [
    {
     "data": {
      "text/plain": [
       "'bFTt3zVrD_EmpAccess_300'"
      ]
     },
     "execution_count": 190,
     "metadata": {},
     "output_type": "execute_result"
    }
   ],
   "source": [
    "name = run_id+'_EmpAccess_500'\n",
    "name"
   ]
  },
  {
   "cell_type": "code",
   "execution_count": 121,
   "metadata": {
    "scrolled": true
   },
   "outputs": [
    {
     "name": "stdout",
     "output_type": "stream",
     "text": [
      "Checking whether there is an H2O instance running at http://localhost:30646 ..... not found.\n",
      "Attempting to start a local H2O server...\n",
      "; Java HotSpot(TM) 64-Bit Server VM 18.9 (build 11.0.2+9-LTS, mixed mode)\n",
      "  Starting server from C:\\Users\\hp\\Anaconda3\\lib\\site-packages\\h2o\\backend\\bin\\h2o.jar\n",
      "  Ice root: C:\\Users\\hp\\AppData\\Local\\Temp\\tmpplfhj8f6\n",
      "  JVM stdout: C:\\Users\\hp\\AppData\\Local\\Temp\\tmpplfhj8f6\\h2o_hp_started_from_python.out\n",
      "  JVM stderr: C:\\Users\\hp\\AppData\\Local\\Temp\\tmpplfhj8f6\\h2o_hp_started_from_python.err\n",
      "  Server is running at http://127.0.0.1:30646\n",
      "Connecting to H2O server at http://127.0.0.1:30646 ... successful.\n"
     ]
    },
    {
     "data": {
      "text/html": [
       "<div style=\"overflow:auto\"><table style=\"width:50%\"><tr><td>H2O cluster uptime:</td>\n",
       "<td>06 secs</td></tr>\n",
       "<tr><td>H2O cluster timezone:</td>\n",
       "<td>America/New_York</td></tr>\n",
       "<tr><td>H2O data parsing timezone:</td>\n",
       "<td>UTC</td></tr>\n",
       "<tr><td>H2O cluster version:</td>\n",
       "<td>3.24.0.1</td></tr>\n",
       "<tr><td>H2O cluster version age:</td>\n",
       "<td>15 days </td></tr>\n",
       "<tr><td>H2O cluster name:</td>\n",
       "<td>H2O_from_python_hp_193ll2</td></tr>\n",
       "<tr><td>H2O cluster total nodes:</td>\n",
       "<td>1</td></tr>\n",
       "<tr><td>H2O cluster free memory:</td>\n",
       "<td>2 Gb</td></tr>\n",
       "<tr><td>H2O cluster total cores:</td>\n",
       "<td>4</td></tr>\n",
       "<tr><td>H2O cluster allowed cores:</td>\n",
       "<td>4</td></tr>\n",
       "<tr><td>H2O cluster status:</td>\n",
       "<td>accepting new members, healthy</td></tr>\n",
       "<tr><td>H2O connection url:</td>\n",
       "<td>http://127.0.0.1:30646</td></tr>\n",
       "<tr><td>H2O connection proxy:</td>\n",
       "<td>None</td></tr>\n",
       "<tr><td>H2O internal security:</td>\n",
       "<td>False</td></tr>\n",
       "<tr><td>H2O API Extensions:</td>\n",
       "<td>Amazon S3, Algos, AutoML, Core V3, Core V4</td></tr>\n",
       "<tr><td>Python version:</td>\n",
       "<td>3.7.1 final</td></tr></table></div>"
      ],
      "text/plain": [
       "--------------------------  ------------------------------------------\n",
       "H2O cluster uptime:         06 secs\n",
       "H2O cluster timezone:       America/New_York\n",
       "H2O data parsing timezone:  UTC\n",
       "H2O cluster version:        3.24.0.1\n",
       "H2O cluster version age:    15 days\n",
       "H2O cluster name:           H2O_from_python_hp_193ll2\n",
       "H2O cluster total nodes:    1\n",
       "H2O cluster free memory:    2 Gb\n",
       "H2O cluster total cores:    4\n",
       "H2O cluster allowed cores:  4\n",
       "H2O cluster status:         accepting new members, healthy\n",
       "H2O connection url:         http://127.0.0.1:30646\n",
       "H2O connection proxy:\n",
       "H2O internal security:      False\n",
       "H2O API Extensions:         Amazon S3, Algos, AutoML, Core V3, Core V4\n",
       "Python version:             3.7.1 final\n",
       "--------------------------  ------------------------------------------"
      ]
     },
     "metadata": {},
     "output_type": "display_data"
    }
   ],
   "source": [
    "# 65535 Highest port no\n",
    "port_no=random.randint(5555,55555)\n",
    "\n",
    "#initializing H2O\n",
    "h2o.init(strict_version_check=False,min_mem_size_GB=min_mem_size,port=port_no)"
   ]
  },
  {
   "cell_type": "code",
   "execution_count": 122,
   "metadata": {},
   "outputs": [
    {
     "name": "stdout",
     "output_type": "stream",
     "text": [
      "C:/Users/hp/Desktop/Data Science Hyperparameter Project/Employee_access_data.csv\n"
     ]
    }
   ],
   "source": [
    "print(data_path)              #path of csv "
   ]
  },
  {
   "cell_type": "code",
   "execution_count": 187,
   "metadata": {},
   "outputs": [
    {
     "name": "stdout",
     "output_type": "stream",
     "text": [
      "{'run_time': 500, 'run_id': 'bFTt3zVrD', 'max_models': None, 'start_time': 1555438316.3416955, 'server_path': 'C:\\\\Users\\\\hp\\\\Desktop\\\\Data Science Hyperparameter Project', 'data_path': 'C:/Users/hp/Desktop/Data Science Hyperparameter Project/Employee_access_data.csv', 'test_path': None, 'scale': False, 'model_path': None, 'balance': False, 'balance_threshold': 0.2, 'project': 'bFTt3zVrD_EmpAccess_500', 'end_time': 1555438316.3416955, 'run_path': 'C:\\\\Users\\\\hp\\\\Desktop\\\\Data Science Hyperparameter Project\\\\bFTt3zVrD', 'nthreads': 1, 'min_mem_size': 2, 'analysis': 0}\n"
     ]
    }
   ],
   "source": [
    "# meta data\n",
    "meta_data = set_meta_data(analysis, run_id,server_path,data_path,model_path,run_time,scale,max_models,balance_y,balance_threshold,name,run_dir,nthreads,min_mem_size)\n",
    "print(meta_data)  "
   ]
  },
  {
   "cell_type": "code",
   "execution_count": 124,
   "metadata": {},
   "outputs": [
    {
     "name": "stdout",
     "output_type": "stream",
     "text": [
      "Parse progress: |█████████████████████████████████████████████████████████| 100%\n"
     ]
    }
   ],
   "source": [
    "#importing data file on h2o server\n",
    "df = h2o.import_file(data_path)"
   ]
  },
  {
   "cell_type": "code",
   "execution_count": 125,
   "metadata": {},
   "outputs": [
    {
     "data": {
      "text/html": [
       "<table>\n",
       "<thead>\n",
       "<tr><th style=\"text-align: right;\">  ACTION</th><th style=\"text-align: right;\">  RESOURCE</th><th style=\"text-align: right;\">  MGR_ID</th><th style=\"text-align: right;\">  ROLE_ROLLUP_1</th><th style=\"text-align: right;\">  ROLE_ROLLUP_2</th><th style=\"text-align: right;\">  ROLE_DEPTNAME</th><th style=\"text-align: right;\">  ROLE_TITLE</th><th style=\"text-align: right;\">  ROLE_FAMILY_DESC</th><th style=\"text-align: right;\">  ROLE_FAMILY</th><th style=\"text-align: right;\">  ROLE_CODE</th></tr>\n",
       "</thead>\n",
       "<tbody>\n",
       "<tr><td style=\"text-align: right;\">       1</td><td style=\"text-align: right;\">     39353</td><td style=\"text-align: right;\">   85475</td><td style=\"text-align: right;\">         117961</td><td style=\"text-align: right;\">         118300</td><td style=\"text-align: right;\">         123472</td><td style=\"text-align: right;\">      117905</td><td style=\"text-align: right;\">            117906</td><td style=\"text-align: right;\">       290919</td><td style=\"text-align: right;\">     117908</td></tr>\n",
       "<tr><td style=\"text-align: right;\">       1</td><td style=\"text-align: right;\">     17183</td><td style=\"text-align: right;\">    1540</td><td style=\"text-align: right;\">         117961</td><td style=\"text-align: right;\">         118343</td><td style=\"text-align: right;\">         123125</td><td style=\"text-align: right;\">      118536</td><td style=\"text-align: right;\">            118536</td><td style=\"text-align: right;\">       308574</td><td style=\"text-align: right;\">     118539</td></tr>\n",
       "<tr><td style=\"text-align: right;\">       1</td><td style=\"text-align: right;\">     36724</td><td style=\"text-align: right;\">   14457</td><td style=\"text-align: right;\">         118219</td><td style=\"text-align: right;\">         118220</td><td style=\"text-align: right;\">         117884</td><td style=\"text-align: right;\">      117879</td><td style=\"text-align: right;\">            267952</td><td style=\"text-align: right;\">        19721</td><td style=\"text-align: right;\">     117880</td></tr>\n",
       "<tr><td style=\"text-align: right;\">       1</td><td style=\"text-align: right;\">     36135</td><td style=\"text-align: right;\">    5396</td><td style=\"text-align: right;\">         117961</td><td style=\"text-align: right;\">         118343</td><td style=\"text-align: right;\">         119993</td><td style=\"text-align: right;\">      118321</td><td style=\"text-align: right;\">            240983</td><td style=\"text-align: right;\">       290919</td><td style=\"text-align: right;\">     118322</td></tr>\n",
       "<tr><td style=\"text-align: right;\">       1</td><td style=\"text-align: right;\">     42680</td><td style=\"text-align: right;\">    5905</td><td style=\"text-align: right;\">         117929</td><td style=\"text-align: right;\">         117930</td><td style=\"text-align: right;\">         119569</td><td style=\"text-align: right;\">      119323</td><td style=\"text-align: right;\">            123932</td><td style=\"text-align: right;\">        19793</td><td style=\"text-align: right;\">     119325</td></tr>\n",
       "<tr><td style=\"text-align: right;\">       0</td><td style=\"text-align: right;\">     45333</td><td style=\"text-align: right;\">   14561</td><td style=\"text-align: right;\">         117951</td><td style=\"text-align: right;\">         117952</td><td style=\"text-align: right;\">         118008</td><td style=\"text-align: right;\">      118568</td><td style=\"text-align: right;\">            118568</td><td style=\"text-align: right;\">        19721</td><td style=\"text-align: right;\">     118570</td></tr>\n",
       "<tr><td style=\"text-align: right;\">       1</td><td style=\"text-align: right;\">     25993</td><td style=\"text-align: right;\">   17227</td><td style=\"text-align: right;\">         117961</td><td style=\"text-align: right;\">         118343</td><td style=\"text-align: right;\">         123476</td><td style=\"text-align: right;\">      118980</td><td style=\"text-align: right;\">            301534</td><td style=\"text-align: right;\">       118295</td><td style=\"text-align: right;\">     118982</td></tr>\n",
       "<tr><td style=\"text-align: right;\">       1</td><td style=\"text-align: right;\">     19666</td><td style=\"text-align: right;\">    4209</td><td style=\"text-align: right;\">         117961</td><td style=\"text-align: right;\">         117969</td><td style=\"text-align: right;\">         118910</td><td style=\"text-align: right;\">      126820</td><td style=\"text-align: right;\">            269034</td><td style=\"text-align: right;\">       118638</td><td style=\"text-align: right;\">     126822</td></tr>\n",
       "<tr><td style=\"text-align: right;\">       1</td><td style=\"text-align: right;\">     31246</td><td style=\"text-align: right;\">     783</td><td style=\"text-align: right;\">         117961</td><td style=\"text-align: right;\">         118413</td><td style=\"text-align: right;\">         120584</td><td style=\"text-align: right;\">      128230</td><td style=\"text-align: right;\">            302830</td><td style=\"text-align: right;\">         4673</td><td style=\"text-align: right;\">     128231</td></tr>\n",
       "<tr><td style=\"text-align: right;\">       1</td><td style=\"text-align: right;\">     78766</td><td style=\"text-align: right;\">   56683</td><td style=\"text-align: right;\">         118079</td><td style=\"text-align: right;\">         118080</td><td style=\"text-align: right;\">         117878</td><td style=\"text-align: right;\">      117879</td><td style=\"text-align: right;\">            304519</td><td style=\"text-align: right;\">        19721</td><td style=\"text-align: right;\">     117880</td></tr>\n",
       "</tbody>\n",
       "</table>"
      ]
     },
     "metadata": {},
     "output_type": "display_data"
    },
    {
     "data": {
      "text/plain": []
     },
     "execution_count": 125,
     "metadata": {},
     "output_type": "execute_result"
    }
   ],
   "source": [
    "df.head()"
   ]
  },
  {
   "cell_type": "code",
   "execution_count": 169,
   "metadata": {},
   "outputs": [
    {
     "name": "stdout",
     "output_type": "stream",
     "text": [
      "Total rows in the data set =  32769\n",
      "Total Columns in the data set =  10\n",
      "rows X columns =  (32769, 10)\n",
      "Total Records =  327690\n"
     ]
    }
   ],
   "source": [
    "rows = len(df)\n",
    "print(\"Total rows in the data set = \", rows)\n",
    "cols = len(df.columns)\n",
    "print(\"Total Columns in the data set = \", cols)\n",
    "\n",
    "rowscols = df.shape\n",
    "shape = rows * cols\n",
    "print(\"rows X columns = \", rowscols)\n",
    "print(\"Total Records = \", shape)\n",
    "\n",
    "meta_data['Total Records'] = shape"
   ]
  },
  {
   "cell_type": "code",
   "execution_count": 127,
   "metadata": {
    "scrolled": true
   },
   "outputs": [
    {
     "name": "stdout",
     "output_type": "stream",
     "text": [
      "Rows:32769\n",
      "Cols:10\n",
      "\n",
      "\n"
     ]
    },
    {
     "data": {
      "text/html": [
       "<table>\n",
       "<thead>\n",
       "<tr><th>       </th><th>ACTION             </th><th>RESOURCE          </th><th>MGR_ID            </th><th>ROLE_ROLLUP_1     </th><th>ROLE_ROLLUP_2     </th><th>ROLE_DEPTNAME     </th><th>ROLE_TITLE        </th><th>ROLE_FAMILY_DESC  </th><th>ROLE_FAMILY       </th><th>ROLE_CODE         </th></tr>\n",
       "</thead>\n",
       "<tbody>\n",
       "<tr><td>type   </td><td>int                </td><td>int               </td><td>int               </td><td>int               </td><td>int               </td><td>int               </td><td>int               </td><td>int               </td><td>int               </td><td>int               </td></tr>\n",
       "<tr><td>mins   </td><td>0.0                </td><td>0.0               </td><td>25.0              </td><td>4292.0            </td><td>23779.0           </td><td>4674.0            </td><td>117879.0          </td><td>4673.0            </td><td>3130.0            </td><td>117880.0          </td></tr>\n",
       "<tr><td>mean   </td><td>0.9421099209618847 </td><td>42923.916170771125</td><td>25988.957978577324</td><td>116952.62778845867</td><td>118301.82315603165</td><td>118912.77991394309</td><td>125916.15264426745</td><td>170178.36964814307</td><td>183703.40889255097</td><td>119789.43013213709</td></tr>\n",
       "<tr><td>maxs   </td><td>1.0                </td><td>312153.0          </td><td>311696.0          </td><td>311178.0          </td><td>286791.0          </td><td>286792.0          </td><td>311867.0          </td><td>311867.0          </td><td>308574.0          </td><td>270691.0          </td></tr>\n",
       "<tr><td>sigma  </td><td>0.23353903780676308</td><td>34173.892702138255</td><td>35928.03165014073 </td><td>10875.563591093745</td><td>4551.588572012568 </td><td>18961.32291708769 </td><td>31036.465824743256</td><td>69509.46213013002 </td><td>100488.40741337684</td><td>5784.275515531029 </td></tr>\n",
       "<tr><td>zeros  </td><td>1897               </td><td>13                </td><td>0                 </td><td>0                 </td><td>0                 </td><td>0                 </td><td>0                 </td><td>0                 </td><td>0                 </td><td>0                 </td></tr>\n",
       "<tr><td>missing</td><td>0                  </td><td>0                 </td><td>0                 </td><td>0                 </td><td>0                 </td><td>0                 </td><td>0                 </td><td>0                 </td><td>0                 </td><td>0                 </td></tr>\n",
       "<tr><td>0      </td><td>1.0                </td><td>39353.0           </td><td>85475.0           </td><td>117961.0          </td><td>118300.0          </td><td>123472.0          </td><td>117905.0          </td><td>117906.0          </td><td>290919.0          </td><td>117908.0          </td></tr>\n",
       "<tr><td>1      </td><td>1.0                </td><td>17183.0           </td><td>1540.0            </td><td>117961.0          </td><td>118343.0          </td><td>123125.0          </td><td>118536.0          </td><td>118536.0          </td><td>308574.0          </td><td>118539.0          </td></tr>\n",
       "<tr><td>2      </td><td>1.0                </td><td>36724.0           </td><td>14457.0           </td><td>118219.0          </td><td>118220.0          </td><td>117884.0          </td><td>117879.0          </td><td>267952.0          </td><td>19721.0           </td><td>117880.0          </td></tr>\n",
       "<tr><td>3      </td><td>1.0                </td><td>36135.0           </td><td>5396.0            </td><td>117961.0          </td><td>118343.0          </td><td>119993.0          </td><td>118321.0          </td><td>240983.0          </td><td>290919.0          </td><td>118322.0          </td></tr>\n",
       "<tr><td>4      </td><td>1.0                </td><td>42680.0           </td><td>5905.0            </td><td>117929.0          </td><td>117930.0          </td><td>119569.0          </td><td>119323.0          </td><td>123932.0          </td><td>19793.0           </td><td>119325.0          </td></tr>\n",
       "<tr><td>5      </td><td>0.0                </td><td>45333.0           </td><td>14561.0           </td><td>117951.0          </td><td>117952.0          </td><td>118008.0          </td><td>118568.0          </td><td>118568.0          </td><td>19721.0           </td><td>118570.0          </td></tr>\n",
       "<tr><td>6      </td><td>1.0                </td><td>25993.0           </td><td>17227.0           </td><td>117961.0          </td><td>118343.0          </td><td>123476.0          </td><td>118980.0          </td><td>301534.0          </td><td>118295.0          </td><td>118982.0          </td></tr>\n",
       "<tr><td>7      </td><td>1.0                </td><td>19666.0           </td><td>4209.0            </td><td>117961.0          </td><td>117969.0          </td><td>118910.0          </td><td>126820.0          </td><td>269034.0          </td><td>118638.0          </td><td>126822.0          </td></tr>\n",
       "<tr><td>8      </td><td>1.0                </td><td>31246.0           </td><td>783.0             </td><td>117961.0          </td><td>118413.0          </td><td>120584.0          </td><td>128230.0          </td><td>302830.0          </td><td>4673.0            </td><td>128231.0          </td></tr>\n",
       "<tr><td>9      </td><td>1.0                </td><td>78766.0           </td><td>56683.0           </td><td>118079.0          </td><td>118080.0          </td><td>117878.0          </td><td>117879.0          </td><td>304519.0          </td><td>19721.0           </td><td>117880.0          </td></tr>\n",
       "</tbody>\n",
       "</table>"
      ]
     },
     "metadata": {},
     "output_type": "display_data"
    }
   ],
   "source": [
    "df.describe()"
   ]
  },
  {
   "cell_type": "code",
   "execution_count": 128,
   "metadata": {},
   "outputs": [
    {
     "data": {
      "text/plain": [
       "\"\\nimport sys\\nsys.stdout = open('describe.txt', 'w')\\nprint ('test')\\n\""
      ]
     },
     "execution_count": 128,
     "metadata": {},
     "output_type": "execute_result"
    }
   ],
   "source": [
    "'''\n",
    "import sys\n",
    "sys.stdout = open('describe.txt', 'w')\n",
    "print ('test')\n",
    "'''"
   ]
  },
  {
   "cell_type": "markdown",
   "metadata": {},
   "source": [
    "### Depentdent Variable"
   ]
  },
  {
   "cell_type": "code",
   "execution_count": 129,
   "metadata": {},
   "outputs": [
    {
     "data": {
      "text/plain": [
       "'ACTION'"
      ]
     },
     "execution_count": 129,
     "metadata": {},
     "output_type": "execute_result"
    }
   ],
   "source": [
    "# dependent variable\n",
    "# assign target an d inputs for classification or regression\n",
    "if target==None:\n",
    "    target=\"ACTION\"   \n",
    "y = target\n",
    "meta_data['Target']=y\n",
    "y"
   ]
  },
  {
   "cell_type": "markdown",
   "metadata": {},
   "source": [
    "### Independent Variables"
   ]
  },
  {
   "cell_type": "code",
   "execution_count": 130,
   "metadata": {},
   "outputs": [],
   "source": [
    "if all_variables is not None:\n",
    "  ivd=get_all_variables_csv(all_variables)\n",
    "  print(ivd)    \n",
    "  X=check_all_variables(df,ivd,y)\n",
    "  print(X)"
   ]
  },
  {
   "cell_type": "code",
   "execution_count": 131,
   "metadata": {},
   "outputs": [
    {
     "name": "stdout",
     "output_type": "stream",
     "text": [
      "['RESOURCE', 'MGR_ID', 'ROLE_ROLLUP_1', 'ROLE_ROLLUP_2', 'ROLE_DEPTNAME', 'ROLE_TITLE', 'ROLE_FAMILY_DESC', 'ROLE_FAMILY', 'ROLE_CODE']\n"
     ]
    }
   ],
   "source": [
    "# independent variables\n",
    "# putting all independent variables in the list X \n",
    "\n",
    "X = []  \n",
    "if all_variables is None:\n",
    "  X=get_independent_variables(df, target)  \n",
    "  print(X)  \n",
    "else: \n",
    "  ivd=get_all_variables_csv(all_variables)    \n",
    "  X=check_all_variables(df, ivd)\n",
    "\n",
    "\n",
    "X=check_X(X,df)\n",
    "\n",
    "\n",
    "# Add independent variables to meta data\n",
    "\n",
    "meta_data['X']=X  \n",
    "\n",
    "\n",
    "# impute missing values\n",
    "\n",
    "_=impute_missing_values(df,X, scale)"
   ]
  },
  {
   "cell_type": "markdown",
   "metadata": {},
   "source": [
    "### Problem Type\n",
    "\n",
    "The dependent variable for this data set is of Binary/ classification type."
   ]
  },
  {
   "cell_type": "code",
   "execution_count": 132,
   "metadata": {},
   "outputs": [],
   "source": [
    "# Force target to be factors\n",
    "# Only 'int' or 'string' are allowed for asfactor(), got Target (Total orders):real \n",
    "\n",
    "if classification:\n",
    "    df[y] = df[y].asfactor()"
   ]
  },
  {
   "cell_type": "code",
   "execution_count": 133,
   "metadata": {
    "scrolled": true
   },
   "outputs": [
    {
     "data": {
      "text/html": [
       "<table>\n",
       "<thead>\n",
       "<tr><th style=\"text-align: right;\">  ACTION</th></tr>\n",
       "</thead>\n",
       "<tbody>\n",
       "<tr><td style=\"text-align: right;\">       1</td></tr>\n",
       "<tr><td style=\"text-align: right;\">       1</td></tr>\n",
       "<tr><td style=\"text-align: right;\">       1</td></tr>\n",
       "<tr><td style=\"text-align: right;\">       1</td></tr>\n",
       "<tr><td style=\"text-align: right;\">       1</td></tr>\n",
       "<tr><td style=\"text-align: right;\">       0</td></tr>\n",
       "<tr><td style=\"text-align: right;\">       1</td></tr>\n",
       "<tr><td style=\"text-align: right;\">       1</td></tr>\n",
       "<tr><td style=\"text-align: right;\">       1</td></tr>\n",
       "<tr><td style=\"text-align: right;\">       1</td></tr>\n",
       "</tbody>\n",
       "</table>"
      ]
     },
     "metadata": {},
     "output_type": "display_data"
    },
    {
     "data": {
      "text/plain": []
     },
     "execution_count": 133,
     "metadata": {},
     "output_type": "execute_result"
    }
   ],
   "source": [
    "df[y]"
   ]
  },
  {
   "cell_type": "markdown",
   "metadata": {},
   "source": [
    "y has 2 levels or classes"
   ]
  },
  {
   "cell_type": "code",
   "execution_count": 135,
   "metadata": {},
   "outputs": [],
   "source": [
    "# checking value of target for real, int, enum\n",
    "def check_y(y,df):\n",
    "  ok=False\n",
    "  C = [name for name in df.columns if name == y]\n",
    "  for key, val in df.types.items():\n",
    "    if key in C:\n",
    "      if val in ['real','int','enum']:        \n",
    "        ok=True         \n",
    "  return ok   "
   ]
  },
  {
   "cell_type": "code",
   "execution_count": 136,
   "metadata": {},
   "outputs": [],
   "source": [
    "ok=check_y(y,df)\n",
    "if not ok:\n",
    "    print(ok)"
   ]
  },
  {
   "cell_type": "code",
   "execution_count": 137,
   "metadata": {},
   "outputs": [
    {
     "name": "stdout",
     "output_type": "stream",
     "text": [
      "True\n"
     ]
    }
   ],
   "source": [
    "# since y is enum type\n",
    "print(ok)"
   ]
  },
  {
   "cell_type": "code",
   "execution_count": 138,
   "metadata": {},
   "outputs": [],
   "source": [
    "def get_variables_types(df):\n",
    "    d={}\n",
    "    for key, val in df.types.items():\n",
    "        d[key]=val           \n",
    "    return d    \n",
    "    "
   ]
  },
  {
   "cell_type": "code",
   "execution_count": 139,
   "metadata": {
    "scrolled": true
   },
   "outputs": [
    {
     "data": {
      "text/plain": [
       "{'ACTION': 'enum',\n",
       " 'RESOURCE': 'int',\n",
       " 'MGR_ID': 'int',\n",
       " 'ROLE_ROLLUP_1': 'int',\n",
       " 'ROLE_ROLLUP_2': 'int',\n",
       " 'ROLE_DEPTNAME': 'int',\n",
       " 'ROLE_TITLE': 'int',\n",
       " 'ROLE_FAMILY_DESC': 'int',\n",
       " 'ROLE_FAMILY': 'int',\n",
       " 'ROLE_CODE': 'int'}"
      ]
     },
     "execution_count": 139,
     "metadata": {},
     "output_type": "execute_result"
    }
   ],
   "source": [
    "# getting the data types of all the variables in the dataset\n",
    "allV=get_variables_types(df)\n",
    "allV"
   ]
  },
  {
   "cell_type": "code",
   "execution_count": 140,
   "metadata": {},
   "outputs": [],
   "source": [
    "# Adding the data types to meta data \n",
    "meta_data['variables']=allV"
   ]
  },
  {
   "cell_type": "markdown",
   "metadata": {},
   "source": [
    "### Using H2OAutoML\n",
    "\n",
    "* Used for automatic training and tuning of the models"
   ]
  },
  {
   "cell_type": "code",
   "execution_count": 141,
   "metadata": {},
   "outputs": [],
   "source": [
    "# Set up AutoML\n",
    "\n",
    "aml = H2OAutoML(max_runtime_secs=run_time,project_name = name)"
   ]
  },
  {
   "cell_type": "code",
   "execution_count": 142,
   "metadata": {},
   "outputs": [],
   "source": [
    "model_start_time = time.time()"
   ]
  },
  {
   "cell_type": "code",
   "execution_count": 143,
   "metadata": {},
   "outputs": [
    {
     "name": "stdout",
     "output_type": "stream",
     "text": [
      "AutoML progress: |████████████████████████████████████████████████████████| 100%\n"
     ]
    }
   ],
   "source": [
    "aml.train(x=X,y=y,training_frame=df)"
   ]
  },
  {
   "cell_type": "code",
   "execution_count": 144,
   "metadata": {},
   "outputs": [
    {
     "name": "stdout",
     "output_type": "stream",
     "text": [
      "Execution time for  500 sec =   532.6334166526794\n"
     ]
    }
   ],
   "source": [
    "execution_time =  time.time() - model_start_time\n",
    "meta_data['model_execution_time_sec'] = execution_time\n",
    "print(\"Execution time for \", run_time,\"sec =  \",meta_data['model_execution_time_sec'])"
   ]
  },
  {
   "cell_type": "markdown",
   "metadata": {},
   "source": [
    "## LeaderBoard"
   ]
  },
  {
   "cell_type": "code",
   "execution_count": 145,
   "metadata": {},
   "outputs": [],
   "source": [
    "# get leaderboard\n",
    "aml_leaderboard_df=aml.leaderboard.as_data_frame()"
   ]
  },
  {
   "cell_type": "code",
   "execution_count": 146,
   "metadata": {
    "scrolled": true
   },
   "outputs": [
    {
     "data": {
      "text/html": [
       "<div>\n",
       "<style scoped>\n",
       "    .dataframe tbody tr th:only-of-type {\n",
       "        vertical-align: middle;\n",
       "    }\n",
       "\n",
       "    .dataframe tbody tr th {\n",
       "        vertical-align: top;\n",
       "    }\n",
       "\n",
       "    .dataframe thead th {\n",
       "        text-align: right;\n",
       "    }\n",
       "</style>\n",
       "<table border=\"1\" class=\"dataframe\">\n",
       "  <thead>\n",
       "    <tr style=\"text-align: right;\">\n",
       "      <th></th>\n",
       "      <th>model_id</th>\n",
       "      <th>auc</th>\n",
       "      <th>logloss</th>\n",
       "      <th>mean_per_class_error</th>\n",
       "      <th>rmse</th>\n",
       "      <th>mse</th>\n",
       "    </tr>\n",
       "  </thead>\n",
       "  <tbody>\n",
       "    <tr>\n",
       "      <th>0</th>\n",
       "      <td>StackedEnsemble_BestOfFamily_AutoML_20190416_1...</td>\n",
       "      <td>0.857933</td>\n",
       "      <td>0.157863</td>\n",
       "      <td>0.340939</td>\n",
       "      <td>0.201706</td>\n",
       "      <td>0.040686</td>\n",
       "    </tr>\n",
       "    <tr>\n",
       "      <th>1</th>\n",
       "      <td>StackedEnsemble_AllModels_AutoML_20190416_132510</td>\n",
       "      <td>0.857927</td>\n",
       "      <td>0.157745</td>\n",
       "      <td>0.340838</td>\n",
       "      <td>0.201668</td>\n",
       "      <td>0.040670</td>\n",
       "    </tr>\n",
       "    <tr>\n",
       "      <th>2</th>\n",
       "      <td>GBM_grid_1_AutoML_20190416_132510_model_3</td>\n",
       "      <td>0.849261</td>\n",
       "      <td>0.209407</td>\n",
       "      <td>0.386114</td>\n",
       "      <td>0.230290</td>\n",
       "      <td>0.053034</td>\n",
       "    </tr>\n",
       "    <tr>\n",
       "      <th>3</th>\n",
       "      <td>DRF_1_AutoML_20190416_132510</td>\n",
       "      <td>0.847679</td>\n",
       "      <td>0.176802</td>\n",
       "      <td>0.345781</td>\n",
       "      <td>0.201609</td>\n",
       "      <td>0.040646</td>\n",
       "    </tr>\n",
       "    <tr>\n",
       "      <th>4</th>\n",
       "      <td>GBM_4_AutoML_20190416_132510</td>\n",
       "      <td>0.845762</td>\n",
       "      <td>0.159277</td>\n",
       "      <td>0.348274</td>\n",
       "      <td>0.203033</td>\n",
       "      <td>0.041222</td>\n",
       "    </tr>\n",
       "    <tr>\n",
       "      <th>5</th>\n",
       "      <td>XRT_1_AutoML_20190416_132510</td>\n",
       "      <td>0.842155</td>\n",
       "      <td>0.173702</td>\n",
       "      <td>0.362383</td>\n",
       "      <td>0.202602</td>\n",
       "      <td>0.041048</td>\n",
       "    </tr>\n",
       "    <tr>\n",
       "      <th>6</th>\n",
       "      <td>GBM_3_AutoML_20190416_132510</td>\n",
       "      <td>0.836109</td>\n",
       "      <td>0.162990</td>\n",
       "      <td>0.369410</td>\n",
       "      <td>0.205216</td>\n",
       "      <td>0.042114</td>\n",
       "    </tr>\n",
       "    <tr>\n",
       "      <th>7</th>\n",
       "      <td>GBM_5_AutoML_20190416_132510</td>\n",
       "      <td>0.835680</td>\n",
       "      <td>0.165005</td>\n",
       "      <td>0.382204</td>\n",
       "      <td>0.207122</td>\n",
       "      <td>0.042899</td>\n",
       "    </tr>\n",
       "    <tr>\n",
       "      <th>8</th>\n",
       "      <td>GBM_2_AutoML_20190416_132510</td>\n",
       "      <td>0.835264</td>\n",
       "      <td>0.165458</td>\n",
       "      <td>0.408369</td>\n",
       "      <td>0.207772</td>\n",
       "      <td>0.043169</td>\n",
       "    </tr>\n",
       "    <tr>\n",
       "      <th>9</th>\n",
       "      <td>GBM_1_AutoML_20190416_132510</td>\n",
       "      <td>0.824781</td>\n",
       "      <td>0.169747</td>\n",
       "      <td>0.430790</td>\n",
       "      <td>0.210186</td>\n",
       "      <td>0.044178</td>\n",
       "    </tr>\n",
       "    <tr>\n",
       "      <th>10</th>\n",
       "      <td>GBM_grid_1_AutoML_20190416_132510_model_4</td>\n",
       "      <td>0.809296</td>\n",
       "      <td>0.190739</td>\n",
       "      <td>0.440737</td>\n",
       "      <td>0.221947</td>\n",
       "      <td>0.049261</td>\n",
       "    </tr>\n",
       "    <tr>\n",
       "      <th>11</th>\n",
       "      <td>GBM_grid_1_AutoML_20190416_132510_model_1</td>\n",
       "      <td>0.740600</td>\n",
       "      <td>0.225248</td>\n",
       "      <td>0.500000</td>\n",
       "      <td>0.231098</td>\n",
       "      <td>0.053406</td>\n",
       "    </tr>\n",
       "    <tr>\n",
       "      <th>12</th>\n",
       "      <td>GBM_grid_1_AutoML_20190416_132510_model_2</td>\n",
       "      <td>0.731581</td>\n",
       "      <td>0.200128</td>\n",
       "      <td>0.488313</td>\n",
       "      <td>0.226561</td>\n",
       "      <td>0.051330</td>\n",
       "    </tr>\n",
       "    <tr>\n",
       "      <th>13</th>\n",
       "      <td>GBM_grid_1_AutoML_20190416_132510_model_5</td>\n",
       "      <td>0.705977</td>\n",
       "      <td>0.207970</td>\n",
       "      <td>0.489355</td>\n",
       "      <td>0.228941</td>\n",
       "      <td>0.052414</td>\n",
       "    </tr>\n",
       "    <tr>\n",
       "      <th>14</th>\n",
       "      <td>DeepLearning_1_AutoML_20190416_132510</td>\n",
       "      <td>0.578706</td>\n",
       "      <td>0.221937</td>\n",
       "      <td>0.500000</td>\n",
       "      <td>0.233268</td>\n",
       "      <td>0.054414</td>\n",
       "    </tr>\n",
       "    <tr>\n",
       "      <th>15</th>\n",
       "      <td>DeepLearning_grid_1_AutoML_20190416_132510_mod...</td>\n",
       "      <td>0.548704</td>\n",
       "      <td>0.258386</td>\n",
       "      <td>0.500000</td>\n",
       "      <td>0.235439</td>\n",
       "      <td>0.055431</td>\n",
       "    </tr>\n",
       "    <tr>\n",
       "      <th>16</th>\n",
       "      <td>GLM_grid_1_AutoML_20190416_132510_model_1</td>\n",
       "      <td>0.522591</td>\n",
       "      <td>0.220979</td>\n",
       "      <td>0.500000</td>\n",
       "      <td>0.233517</td>\n",
       "      <td>0.054530</td>\n",
       "    </tr>\n",
       "    <tr>\n",
       "      <th>17</th>\n",
       "      <td>DeepLearning_grid_1_AutoML_20190416_132510_mod...</td>\n",
       "      <td>0.521744</td>\n",
       "      <td>0.261269</td>\n",
       "      <td>0.500000</td>\n",
       "      <td>0.238407</td>\n",
       "      <td>0.056838</td>\n",
       "    </tr>\n",
       "    <tr>\n",
       "      <th>18</th>\n",
       "      <td>DeepLearning_grid_1_AutoML_20190416_132510_mod...</td>\n",
       "      <td>0.518573</td>\n",
       "      <td>0.321037</td>\n",
       "      <td>0.500000</td>\n",
       "      <td>0.238881</td>\n",
       "      <td>0.057064</td>\n",
       "    </tr>\n",
       "  </tbody>\n",
       "</table>\n",
       "</div>"
      ],
      "text/plain": [
       "                                             model_id       auc   logloss  \\\n",
       "0   StackedEnsemble_BestOfFamily_AutoML_20190416_1...  0.857933  0.157863   \n",
       "1    StackedEnsemble_AllModels_AutoML_20190416_132510  0.857927  0.157745   \n",
       "2           GBM_grid_1_AutoML_20190416_132510_model_3  0.849261  0.209407   \n",
       "3                        DRF_1_AutoML_20190416_132510  0.847679  0.176802   \n",
       "4                        GBM_4_AutoML_20190416_132510  0.845762  0.159277   \n",
       "5                        XRT_1_AutoML_20190416_132510  0.842155  0.173702   \n",
       "6                        GBM_3_AutoML_20190416_132510  0.836109  0.162990   \n",
       "7                        GBM_5_AutoML_20190416_132510  0.835680  0.165005   \n",
       "8                        GBM_2_AutoML_20190416_132510  0.835264  0.165458   \n",
       "9                        GBM_1_AutoML_20190416_132510  0.824781  0.169747   \n",
       "10          GBM_grid_1_AutoML_20190416_132510_model_4  0.809296  0.190739   \n",
       "11          GBM_grid_1_AutoML_20190416_132510_model_1  0.740600  0.225248   \n",
       "12          GBM_grid_1_AutoML_20190416_132510_model_2  0.731581  0.200128   \n",
       "13          GBM_grid_1_AutoML_20190416_132510_model_5  0.705977  0.207970   \n",
       "14              DeepLearning_1_AutoML_20190416_132510  0.578706  0.221937   \n",
       "15  DeepLearning_grid_1_AutoML_20190416_132510_mod...  0.548704  0.258386   \n",
       "16          GLM_grid_1_AutoML_20190416_132510_model_1  0.522591  0.220979   \n",
       "17  DeepLearning_grid_1_AutoML_20190416_132510_mod...  0.521744  0.261269   \n",
       "18  DeepLearning_grid_1_AutoML_20190416_132510_mod...  0.518573  0.321037   \n",
       "\n",
       "    mean_per_class_error      rmse       mse  \n",
       "0               0.340939  0.201706  0.040686  \n",
       "1               0.340838  0.201668  0.040670  \n",
       "2               0.386114  0.230290  0.053034  \n",
       "3               0.345781  0.201609  0.040646  \n",
       "4               0.348274  0.203033  0.041222  \n",
       "5               0.362383  0.202602  0.041048  \n",
       "6               0.369410  0.205216  0.042114  \n",
       "7               0.382204  0.207122  0.042899  \n",
       "8               0.408369  0.207772  0.043169  \n",
       "9               0.430790  0.210186  0.044178  \n",
       "10              0.440737  0.221947  0.049261  \n",
       "11              0.500000  0.231098  0.053406  \n",
       "12              0.488313  0.226561  0.051330  \n",
       "13              0.489355  0.228941  0.052414  \n",
       "14              0.500000  0.233268  0.054414  \n",
       "15              0.500000  0.235439  0.055431  \n",
       "16              0.500000  0.233517  0.054530  \n",
       "17              0.500000  0.238407  0.056838  \n",
       "18              0.500000  0.238881  0.057064  "
      ]
     },
     "execution_count": 146,
     "metadata": {},
     "output_type": "execute_result"
    }
   ],
   "source": [
    "aml_leaderboard_df"
   ]
  },
  {
   "cell_type": "code",
   "execution_count": 147,
   "metadata": {},
   "outputs": [],
   "source": [
    "length = len(aml_leaderboard_df)- 1\n",
    "length\n",
    "meta_data[\"Models_generated\"] = length"
   ]
  },
  {
   "cell_type": "markdown",
   "metadata": {},
   "source": [
    "### Saving Leaderboard into csv"
   ]
  },
  {
   "cell_type": "code",
   "execution_count": 148,
   "metadata": {},
   "outputs": [],
   "source": [
    "# save leaderboard to csv\n",
    "# run_time = run_time.ascharacter()\n",
    "leaderboard_stats=run_id+'EmpAccess_500' + '_leaderboard.csv'\n",
    "aml_leaderboard_df.to_csv(leaderboard_stats)"
   ]
  },
  {
   "cell_type": "markdown",
   "metadata": {},
   "source": [
    "### Generating hyperparameters for the best model on the leaderboard"
   ]
  },
  {
   "cell_type": "code",
   "execution_count": 149,
   "metadata": {},
   "outputs": [],
   "source": [
    "# STart best model as first model\n",
    "model_set=aml_leaderboard_df['model_id']\n",
    "mod_best=h2o.get_model(model_set[0])"
   ]
  },
  {
   "cell_type": "code",
   "execution_count": 150,
   "metadata": {
    "scrolled": true
   },
   "outputs": [
    {
     "data": {
      "text/plain": [
       "{'model_id': {'default': None,\n",
       "  'actual': {'__meta': {'schema_version': 3,\n",
       "    'schema_name': 'ModelKeyV3',\n",
       "    'schema_type': 'Key<Model>'},\n",
       "   'name': 'StackedEnsemble_BestOfFamily_AutoML_20190416_132510',\n",
       "   'type': 'Key<Model>',\n",
       "   'URL': '/3/Models/StackedEnsemble_BestOfFamily_AutoML_20190416_132510'}},\n",
       " 'training_frame': {'default': None,\n",
       "  'actual': {'__meta': {'schema_version': 3,\n",
       "    'schema_name': 'FrameKeyV3',\n",
       "    'schema_type': 'Key<Frame>'},\n",
       "   'name': 'automl_training_py_20_sid_ba58',\n",
       "   'type': 'Key<Frame>',\n",
       "   'URL': '/3/Frames/automl_training_py_20_sid_ba58'}},\n",
       " 'response_column': {'default': None,\n",
       "  'actual': {'__meta': {'schema_version': 3,\n",
       "    'schema_name': 'ColSpecifierV3',\n",
       "    'schema_type': 'VecSpecifier'},\n",
       "   'column_name': 'ACTION',\n",
       "   'is_member_of_frames': None}},\n",
       " 'validation_frame': {'default': None, 'actual': None},\n",
       " 'blending_frame': {'default': None, 'actual': None},\n",
       " 'base_models': {'default': [],\n",
       "  'actual': [{'__meta': {'schema_version': 3,\n",
       "     'schema_name': 'ModelKeyV3',\n",
       "     'schema_type': 'Key<Model>'},\n",
       "    'name': 'GBM_grid_1_AutoML_20190416_132510_model_3',\n",
       "    'type': 'Key<Model>',\n",
       "    'URL': '/3/Models/GBM_grid_1_AutoML_20190416_132510_model_3'},\n",
       "   {'__meta': {'schema_version': 3,\n",
       "     'schema_name': 'ModelKeyV3',\n",
       "     'schema_type': 'Key<Model>'},\n",
       "    'name': 'DRF_1_AutoML_20190416_132510',\n",
       "    'type': 'Key<Model>',\n",
       "    'URL': '/3/Models/DRF_1_AutoML_20190416_132510'},\n",
       "   {'__meta': {'schema_version': 3,\n",
       "     'schema_name': 'ModelKeyV3',\n",
       "     'schema_type': 'Key<Model>'},\n",
       "    'name': 'XRT_1_AutoML_20190416_132510',\n",
       "    'type': 'Key<Model>',\n",
       "    'URL': '/3/Models/XRT_1_AutoML_20190416_132510'},\n",
       "   {'__meta': {'schema_version': 3,\n",
       "     'schema_name': 'ModelKeyV3',\n",
       "     'schema_type': 'Key<Model>'},\n",
       "    'name': 'DeepLearning_1_AutoML_20190416_132510',\n",
       "    'type': 'Key<Model>',\n",
       "    'URL': '/3/Models/DeepLearning_1_AutoML_20190416_132510'},\n",
       "   {'__meta': {'schema_version': 3,\n",
       "     'schema_name': 'ModelKeyV3',\n",
       "     'schema_type': 'Key<Model>'},\n",
       "    'name': 'GLM_grid_1_AutoML_20190416_132510_model_1',\n",
       "    'type': 'Key<Model>',\n",
       "    'URL': '/3/Models/GLM_grid_1_AutoML_20190416_132510_model_1'}]},\n",
       " 'metalearner_algorithm': {'default': 'AUTO', 'actual': 'AUTO'},\n",
       " 'metalearner_nfolds': {'default': 0, 'actual': 5},\n",
       " 'metalearner_fold_assignment': {'default': None, 'actual': None},\n",
       " 'metalearner_fold_column': {'default': None, 'actual': None},\n",
       " 'metalearner_params': {'default': '', 'actual': ''},\n",
       " 'seed': {'default': -1, 'actual': 8678985583095720599},\n",
       " 'keep_levelone_frame': {'default': False, 'actual': True},\n",
       " 'export_checkpoints_dir': {'default': None, 'actual': None}}"
      ]
     },
     "execution_count": 150,
     "metadata": {},
     "output_type": "execute_result"
    }
   ],
   "source": [
    "mod_best.params"
   ]
  },
  {
   "cell_type": "code",
   "execution_count": 151,
   "metadata": {},
   "outputs": [
    {
     "name": "stdout",
     "output_type": "stream",
     "text": [
      "Model Details\n",
      "=============\n",
      "H2OStackedEnsembleEstimator :  Stacked Ensemble\n",
      "Model Key:  StackedEnsemble_BestOfFamily_AutoML_20190416_132510\n",
      "No model summary for this model\n",
      "\n",
      "\n",
      "ModelMetricsBinomialGLM: stackedensemble\n",
      "** Reported on train data. **\n",
      "\n",
      "MSE: 0.01998253876884185\n",
      "RMSE: 0.1413596079820606\n",
      "LogLoss: 0.0809741128754092\n",
      "Null degrees of freedom: 32768\n",
      "Residual degrees of freedom: 32764\n",
      "Null deviance: 14491.899767390338\n",
      "Residual deviance: 5306.881409628569\n",
      "AIC: 5316.881409628569\n",
      "AUC: 0.9924393123961225\n",
      "pr_auc: 0.995942410147763\n",
      "Gini: 0.984878624792245\n",
      "Confusion Matrix (Act/Pred) for max f1 @ threshold = 0.7958409568441608: \n"
     ]
    },
    {
     "data": {
      "text/html": [
       "<div style=\"overflow:auto\"><table style=\"width:50%\"><tr><td><b></b></td>\n",
       "<td><b>0</b></td>\n",
       "<td><b>1</b></td>\n",
       "<td><b>Error</b></td>\n",
       "<td><b>Rate</b></td></tr>\n",
       "<tr><td>0</td>\n",
       "<td>1588.0</td>\n",
       "<td>309.0</td>\n",
       "<td>0.1629</td>\n",
       "<td> (309.0/1897.0)</td></tr>\n",
       "<tr><td>1</td>\n",
       "<td>386.0</td>\n",
       "<td>30486.0</td>\n",
       "<td>0.0125</td>\n",
       "<td> (386.0/30872.0)</td></tr>\n",
       "<tr><td>Total</td>\n",
       "<td>1974.0</td>\n",
       "<td>30795.0</td>\n",
       "<td>0.0212</td>\n",
       "<td> (695.0/32769.0)</td></tr></table></div>"
      ],
      "text/plain": [
       "       0     1      Error    Rate\n",
       "-----  ----  -----  -------  ---------------\n",
       "0      1588  309    0.1629   (309.0/1897.0)\n",
       "1      386   30486  0.0125   (386.0/30872.0)\n",
       "Total  1974  30795  0.0212   (695.0/32769.0)"
      ]
     },
     "metadata": {},
     "output_type": "display_data"
    },
    {
     "name": "stdout",
     "output_type": "stream",
     "text": [
      "Maximum Metrics: Maximum metrics at their respective thresholds\n",
      "\n"
     ]
    },
    {
     "data": {
      "text/html": [
       "<div style=\"overflow:auto\"><table style=\"width:50%\"><tr><td><b>metric</b></td>\n",
       "<td><b>threshold</b></td>\n",
       "<td><b>value</b></td>\n",
       "<td><b>idx</b></td></tr>\n",
       "<tr><td>max f1</td>\n",
       "<td>0.7958410</td>\n",
       "<td>0.9887298</td>\n",
       "<td>161.0</td></tr>\n",
       "<tr><td>max f2</td>\n",
       "<td>0.5642779</td>\n",
       "<td>0.9913888</td>\n",
       "<td>234.0</td></tr>\n",
       "<tr><td>max f0point5</td>\n",
       "<td>0.8868642</td>\n",
       "<td>0.9916254</td>\n",
       "<td>123.0</td></tr>\n",
       "<tr><td>max accuracy</td>\n",
       "<td>0.7958410</td>\n",
       "<td>0.9787909</td>\n",
       "<td>161.0</td></tr>\n",
       "<tr><td>max precision</td>\n",
       "<td>0.9828967</td>\n",
       "<td>1.0</td>\n",
       "<td>0.0</td></tr>\n",
       "<tr><td>max recall</td>\n",
       "<td>0.0123056</td>\n",
       "<td>1.0</td>\n",
       "<td>395.0</td></tr>\n",
       "<tr><td>max specificity</td>\n",
       "<td>0.9828967</td>\n",
       "<td>1.0</td>\n",
       "<td>0.0</td></tr>\n",
       "<tr><td>max absolute_mcc</td>\n",
       "<td>0.8158580</td>\n",
       "<td>0.8119456</td>\n",
       "<td>154.0</td></tr>\n",
       "<tr><td>max min_per_class_accuracy</td>\n",
       "<td>0.9241463</td>\n",
       "<td>0.9614537</td>\n",
       "<td>100.0</td></tr>\n",
       "<tr><td>max mean_per_class_accuracy</td>\n",
       "<td>0.9397549</td>\n",
       "<td>0.9651088</td>\n",
       "<td>88.0</td></tr></table></div>"
      ],
      "text/plain": [
       "metric                       threshold    value     idx\n",
       "---------------------------  -----------  --------  -----\n",
       "max f1                       0.795841     0.98873   161\n",
       "max f2                       0.564278     0.991389  234\n",
       "max f0point5                 0.886864     0.991625  123\n",
       "max accuracy                 0.795841     0.978791  161\n",
       "max precision                0.982897     1         0\n",
       "max recall                   0.0123056    1         395\n",
       "max specificity              0.982897     1         0\n",
       "max absolute_mcc             0.815858     0.811946  154\n",
       "max min_per_class_accuracy   0.924146     0.961454  100\n",
       "max mean_per_class_accuracy  0.939755     0.965109  88"
      ]
     },
     "metadata": {},
     "output_type": "display_data"
    },
    {
     "name": "stdout",
     "output_type": "stream",
     "text": [
      "Gains/Lift Table: Avg response rate: 94.21 %, avg score: 93.51 %\n",
      "\n"
     ]
    },
    {
     "data": {
      "text/html": [
       "<div style=\"overflow:auto\"><table style=\"width:50%\"><tr><td><b></b></td>\n",
       "<td><b>group</b></td>\n",
       "<td><b>cumulative_data_fraction</b></td>\n",
       "<td><b>lower_threshold</b></td>\n",
       "<td><b>lift</b></td>\n",
       "<td><b>cumulative_lift</b></td>\n",
       "<td><b>response_rate</b></td>\n",
       "<td><b>score</b></td>\n",
       "<td><b>cumulative_response_rate</b></td>\n",
       "<td><b>cumulative_score</b></td>\n",
       "<td><b>capture_rate</b></td>\n",
       "<td><b>cumulative_capture_rate</b></td>\n",
       "<td><b>gain</b></td>\n",
       "<td><b>cumulative_gain</b></td></tr>\n",
       "<tr><td></td>\n",
       "<td>1</td>\n",
       "<td>0.0100095</td>\n",
       "<td>0.9823533</td>\n",
       "<td>1.0614473</td>\n",
       "<td>1.0614473</td>\n",
       "<td>1.0</td>\n",
       "<td>0.9826327</td>\n",
       "<td>1.0</td>\n",
       "<td>0.9826327</td>\n",
       "<td>0.0106245</td>\n",
       "<td>0.0106245</td>\n",
       "<td>6.1447266</td>\n",
       "<td>6.1447266</td></tr>\n",
       "<tr><td></td>\n",
       "<td>2</td>\n",
       "<td>0.0200189</td>\n",
       "<td>0.9820263</td>\n",
       "<td>1.0614473</td>\n",
       "<td>1.0614473</td>\n",
       "<td>1.0</td>\n",
       "<td>0.9821780</td>\n",
       "<td>1.0</td>\n",
       "<td>0.9824053</td>\n",
       "<td>0.0106245</td>\n",
       "<td>0.0212490</td>\n",
       "<td>6.1447266</td>\n",
       "<td>6.1447266</td></tr>\n",
       "<tr><td></td>\n",
       "<td>3</td>\n",
       "<td>0.0300284</td>\n",
       "<td>0.9817794</td>\n",
       "<td>1.0614473</td>\n",
       "<td>1.0614473</td>\n",
       "<td>1.0</td>\n",
       "<td>0.9818916</td>\n",
       "<td>1.0</td>\n",
       "<td>0.9822341</td>\n",
       "<td>0.0106245</td>\n",
       "<td>0.0318735</td>\n",
       "<td>6.1447266</td>\n",
       "<td>6.1447266</td></tr>\n",
       "<tr><td></td>\n",
       "<td>4</td>\n",
       "<td>0.0400073</td>\n",
       "<td>0.9816058</td>\n",
       "<td>1.0614473</td>\n",
       "<td>1.0614473</td>\n",
       "<td>1.0</td>\n",
       "<td>0.9816883</td>\n",
       "<td>1.0</td>\n",
       "<td>0.9820980</td>\n",
       "<td>0.0105921</td>\n",
       "<td>0.0424657</td>\n",
       "<td>6.1447266</td>\n",
       "<td>6.1447266</td></tr>\n",
       "<tr><td></td>\n",
       "<td>5</td>\n",
       "<td>0.0500168</td>\n",
       "<td>0.9814601</td>\n",
       "<td>1.0614473</td>\n",
       "<td>1.0614473</td>\n",
       "<td>1.0</td>\n",
       "<td>0.9815249</td>\n",
       "<td>1.0</td>\n",
       "<td>0.9819833</td>\n",
       "<td>0.0106245</td>\n",
       "<td>0.0530902</td>\n",
       "<td>6.1447266</td>\n",
       "<td>6.1447266</td></tr>\n",
       "<tr><td></td>\n",
       "<td>6</td>\n",
       "<td>0.1000031</td>\n",
       "<td>0.9808369</td>\n",
       "<td>1.0614473</td>\n",
       "<td>1.0614473</td>\n",
       "<td>1.0</td>\n",
       "<td>0.9811282</td>\n",
       "<td>1.0</td>\n",
       "<td>0.9815559</td>\n",
       "<td>0.0530578</td>\n",
       "<td>0.1061480</td>\n",
       "<td>6.1447266</td>\n",
       "<td>6.1447266</td></tr>\n",
       "<tr><td></td>\n",
       "<td>7</td>\n",
       "<td>0.1500198</td>\n",
       "<td>0.9802883</td>\n",
       "<td>1.0614473</td>\n",
       "<td>1.0614473</td>\n",
       "<td>1.0</td>\n",
       "<td>0.9805499</td>\n",
       "<td>1.0</td>\n",
       "<td>0.9812205</td>\n",
       "<td>0.0530902</td>\n",
       "<td>0.1592381</td>\n",
       "<td>6.1447266</td>\n",
       "<td>6.1447266</td></tr>\n",
       "<tr><td></td>\n",
       "<td>8</td>\n",
       "<td>0.2000061</td>\n",
       "<td>0.9798119</td>\n",
       "<td>1.0614473</td>\n",
       "<td>1.0614473</td>\n",
       "<td>1.0</td>\n",
       "<td>0.9800487</td>\n",
       "<td>1.0</td>\n",
       "<td>0.9809276</td>\n",
       "<td>0.0530578</td>\n",
       "<td>0.2122959</td>\n",
       "<td>6.1447266</td>\n",
       "<td>6.1447266</td></tr>\n",
       "<tr><td></td>\n",
       "<td>9</td>\n",
       "<td>0.3000092</td>\n",
       "<td>0.9788313</td>\n",
       "<td>1.0614473</td>\n",
       "<td>1.0614473</td>\n",
       "<td>1.0</td>\n",
       "<td>0.9793241</td>\n",
       "<td>1.0</td>\n",
       "<td>0.9803931</td>\n",
       "<td>0.1061480</td>\n",
       "<td>0.3184439</td>\n",
       "<td>6.1447266</td>\n",
       "<td>6.1447266</td></tr>\n",
       "<tr><td></td>\n",
       "<td>10</td>\n",
       "<td>0.4000122</td>\n",
       "<td>0.9777112</td>\n",
       "<td>1.0614473</td>\n",
       "<td>1.0614473</td>\n",
       "<td>1.0</td>\n",
       "<td>0.9782795</td>\n",
       "<td>1.0</td>\n",
       "<td>0.9798647</td>\n",
       "<td>0.1061480</td>\n",
       "<td>0.4245919</td>\n",
       "<td>6.1447266</td>\n",
       "<td>6.1447266</td></tr>\n",
       "<tr><td></td>\n",
       "<td>11</td>\n",
       "<td>0.5000153</td>\n",
       "<td>0.9762894</td>\n",
       "<td>1.0614473</td>\n",
       "<td>1.0614473</td>\n",
       "<td>1.0</td>\n",
       "<td>0.9770427</td>\n",
       "<td>1.0</td>\n",
       "<td>0.9793003</td>\n",
       "<td>0.1061480</td>\n",
       "<td>0.5307398</td>\n",
       "<td>6.1447266</td>\n",
       "<td>6.1447266</td></tr>\n",
       "<tr><td></td>\n",
       "<td>12</td>\n",
       "<td>0.5999878</td>\n",
       "<td>0.9742790</td>\n",
       "<td>1.0614473</td>\n",
       "<td>1.0614473</td>\n",
       "<td>1.0</td>\n",
       "<td>0.9753598</td>\n",
       "<td>1.0</td>\n",
       "<td>0.9786437</td>\n",
       "<td>0.1061156</td>\n",
       "<td>0.6368554</td>\n",
       "<td>6.1447266</td>\n",
       "<td>6.1447266</td></tr>\n",
       "<tr><td></td>\n",
       "<td>13</td>\n",
       "<td>0.6999908</td>\n",
       "<td>0.9710393</td>\n",
       "<td>1.0614473</td>\n",
       "<td>1.0614473</td>\n",
       "<td>1.0</td>\n",
       "<td>0.9727688</td>\n",
       "<td>1.0</td>\n",
       "<td>0.9778044</td>\n",
       "<td>0.1061480</td>\n",
       "<td>0.7430034</td>\n",
       "<td>6.1447266</td>\n",
       "<td>6.1447266</td></tr>\n",
       "<tr><td></td>\n",
       "<td>14</td>\n",
       "<td>0.7999939</td>\n",
       "<td>0.9646752</td>\n",
       "<td>1.0614473</td>\n",
       "<td>1.0614473</td>\n",
       "<td>1.0</td>\n",
       "<td>0.9682371</td>\n",
       "<td>1.0</td>\n",
       "<td>0.9766084</td>\n",
       "<td>0.1061480</td>\n",
       "<td>0.8491513</td>\n",
       "<td>6.1447266</td>\n",
       "<td>6.1447266</td></tr>\n",
       "<tr><td></td>\n",
       "<td>15</td>\n",
       "<td>0.8999969</td>\n",
       "<td>0.9336957</td>\n",
       "<td>1.0455758</td>\n",
       "<td>1.0596837</td>\n",
       "<td>0.9850473</td>\n",
       "<td>0.9545666</td>\n",
       "<td>0.9983385</td>\n",
       "<td>0.9741593</td>\n",
       "<td>0.1045608</td>\n",
       "<td>0.9537121</td>\n",
       "<td>4.5575763</td>\n",
       "<td>5.9683706</td></tr>\n",
       "<tr><td></td>\n",
       "<td>16</td>\n",
       "<td>1.0</td>\n",
       "<td>0.0030432</td>\n",
       "<td>0.4628649</td>\n",
       "<td>1.0</td>\n",
       "<td>0.4360696</td>\n",
       "<td>0.5831173</td>\n",
       "<td>0.9421099</td>\n",
       "<td>0.9350539</td>\n",
       "<td>0.0462879</td>\n",
       "<td>1.0</td>\n",
       "<td>-53.7135141</td>\n",
       "<td>0.0</td></tr></table></div>"
      ],
      "text/plain": [
       "    group    cumulative_data_fraction    lower_threshold    lift      cumulative_lift    response_rate    score     cumulative_response_rate    cumulative_score    capture_rate    cumulative_capture_rate    gain      cumulative_gain\n",
       "--  -------  --------------------------  -----------------  --------  -----------------  ---------------  --------  --------------------------  ------------------  --------------  -------------------------  --------  -----------------\n",
       "    1        0.0100095                   0.982353           1.06145   1.06145            1                0.982633  1                           0.982633            0.0106245       0.0106245                  6.14473   6.14473\n",
       "    2        0.0200189                   0.982026           1.06145   1.06145            1                0.982178  1                           0.982405            0.0106245       0.021249                   6.14473   6.14473\n",
       "    3        0.0300284                   0.981779           1.06145   1.06145            1                0.981892  1                           0.982234            0.0106245       0.0318735                  6.14473   6.14473\n",
       "    4        0.0400073                   0.981606           1.06145   1.06145            1                0.981688  1                           0.982098            0.0105921       0.0424657                  6.14473   6.14473\n",
       "    5        0.0500168                   0.98146            1.06145   1.06145            1                0.981525  1                           0.981983            0.0106245       0.0530902                  6.14473   6.14473\n",
       "    6        0.100003                    0.980837           1.06145   1.06145            1                0.981128  1                           0.981556            0.0530578       0.106148                   6.14473   6.14473\n",
       "    7        0.15002                     0.980288           1.06145   1.06145            1                0.98055   1                           0.98122             0.0530902       0.159238                   6.14473   6.14473\n",
       "    8        0.200006                    0.979812           1.06145   1.06145            1                0.980049  1                           0.980928            0.0530578       0.212296                   6.14473   6.14473\n",
       "    9        0.300009                    0.978831           1.06145   1.06145            1                0.979324  1                           0.980393            0.106148        0.318444                   6.14473   6.14473\n",
       "    10       0.400012                    0.977711           1.06145   1.06145            1                0.978279  1                           0.979865            0.106148        0.424592                   6.14473   6.14473\n",
       "    11       0.500015                    0.976289           1.06145   1.06145            1                0.977043  1                           0.9793              0.106148        0.53074                    6.14473   6.14473\n",
       "    12       0.599988                    0.974279           1.06145   1.06145            1                0.97536   1                           0.978644            0.106116        0.636855                   6.14473   6.14473\n",
       "    13       0.699991                    0.971039           1.06145   1.06145            1                0.972769  1                           0.977804            0.106148        0.743003                   6.14473   6.14473\n",
       "    14       0.799994                    0.964675           1.06145   1.06145            1                0.968237  1                           0.976608            0.106148        0.849151                   6.14473   6.14473\n",
       "    15       0.899997                    0.933696           1.04558   1.05968            0.985047         0.954567  0.998339                    0.974159            0.104561        0.953712                   4.55758   5.96837\n",
       "    16       1                           0.00304321         0.462865  1                  0.43607          0.583117  0.94211                     0.935054            0.0462879       1                          -53.7135  0"
      ]
     },
     "metadata": {},
     "output_type": "display_data"
    },
    {
     "name": "stdout",
     "output_type": "stream",
     "text": [
      "\n",
      "\n",
      "ModelMetricsBinomialGLM: stackedensemble\n",
      "** Reported on cross-validation data. **\n",
      "\n",
      "MSE: 0.040685507228173316\n",
      "RMSE: 0.20170648781874448\n",
      "LogLoss: 0.15786316105289047\n",
      "Null degrees of freedom: 32768\n",
      "Residual degrees of freedom: 32764\n",
      "Null deviance: 14492.371329898797\n",
      "Residual deviance: 10346.035849084337\n",
      "AIC: 10356.035849084337\n",
      "AUC: 0.8579333573571177\n",
      "pr_auc: 0.9839704592813943\n",
      "Gini: 0.7158667147142355\n",
      "Confusion Matrix (Act/Pred) for max f1 @ threshold = 0.5911176953585303: \n"
     ]
    },
    {
     "data": {
      "text/html": [
       "<div style=\"overflow:auto\"><table style=\"width:50%\"><tr><td><b></b></td>\n",
       "<td><b>0</b></td>\n",
       "<td><b>1</b></td>\n",
       "<td><b>Error</b></td>\n",
       "<td><b>Rate</b></td></tr>\n",
       "<tr><td>0</td>\n",
       "<td>624.0</td>\n",
       "<td>1273.0</td>\n",
       "<td>0.6711</td>\n",
       "<td> (1273.0/1897.0)</td></tr>\n",
       "<tr><td>1</td>\n",
       "<td>334.0</td>\n",
       "<td>30538.0</td>\n",
       "<td>0.0108</td>\n",
       "<td> (334.0/30872.0)</td></tr>\n",
       "<tr><td>Total</td>\n",
       "<td>958.0</td>\n",
       "<td>31811.0</td>\n",
       "<td>0.049</td>\n",
       "<td> (1607.0/32769.0)</td></tr></table></div>"
      ],
      "text/plain": [
       "       0    1      Error    Rate\n",
       "-----  ---  -----  -------  ----------------\n",
       "0      624  1273   0.6711   (1273.0/1897.0)\n",
       "1      334  30538  0.0108   (334.0/30872.0)\n",
       "Total  958  31811  0.049    (1607.0/32769.0)"
      ]
     },
     "metadata": {},
     "output_type": "display_data"
    },
    {
     "name": "stdout",
     "output_type": "stream",
     "text": [
      "Maximum Metrics: Maximum metrics at their respective thresholds\n",
      "\n"
     ]
    },
    {
     "data": {
      "text/html": [
       "<div style=\"overflow:auto\"><table style=\"width:50%\"><tr><td><b>metric</b></td>\n",
       "<td><b>threshold</b></td>\n",
       "<td><b>value</b></td>\n",
       "<td><b>idx</b></td></tr>\n",
       "<tr><td>max f1</td>\n",
       "<td>0.5911177</td>\n",
       "<td>0.9743631</td>\n",
       "<td>253.0</td></tr>\n",
       "<tr><td>max f2</td>\n",
       "<td>0.0173800</td>\n",
       "<td>0.9879858</td>\n",
       "<td>395.0</td></tr>\n",
       "<tr><td>max f0point5</td>\n",
       "<td>0.8547291</td>\n",
       "<td>0.9700223</td>\n",
       "<td>155.0</td></tr>\n",
       "<tr><td>max accuracy</td>\n",
       "<td>0.5991167</td>\n",
       "<td>0.9509597</td>\n",
       "<td>250.0</td></tr>\n",
       "<tr><td>max precision</td>\n",
       "<td>0.9847532</td>\n",
       "<td>1.0</td>\n",
       "<td>0.0</td></tr>\n",
       "<tr><td>max recall</td>\n",
       "<td>0.0049271</td>\n",
       "<td>1.0</td>\n",
       "<td>399.0</td></tr>\n",
       "<tr><td>max specificity</td>\n",
       "<td>0.9847532</td>\n",
       "<td>1.0</td>\n",
       "<td>0.0</td></tr>\n",
       "<tr><td>max absolute_mcc</td>\n",
       "<td>0.8547291</td>\n",
       "<td>0.4802566</td>\n",
       "<td>155.0</td></tr>\n",
       "<tr><td>max min_per_class_accuracy</td>\n",
       "<td>0.9643075</td>\n",
       "<td>0.7801792</td>\n",
       "<td>59.0</td></tr>\n",
       "<tr><td>max mean_per_class_accuracy</td>\n",
       "<td>0.9581408</td>\n",
       "<td>0.7941995</td>\n",
       "<td>69.0</td></tr></table></div>"
      ],
      "text/plain": [
       "metric                       threshold    value     idx\n",
       "---------------------------  -----------  --------  -----\n",
       "max f1                       0.591118     0.974363  253\n",
       "max f2                       0.01738      0.987986  395\n",
       "max f0point5                 0.854729     0.970022  155\n",
       "max accuracy                 0.599117     0.95096   250\n",
       "max precision                0.984753     1         0\n",
       "max recall                   0.00492707   1         399\n",
       "max specificity              0.984753     1         0\n",
       "max absolute_mcc             0.854729     0.480257  155\n",
       "max min_per_class_accuracy   0.964308     0.780179  59\n",
       "max mean_per_class_accuracy  0.958141     0.794199  69"
      ]
     },
     "metadata": {},
     "output_type": "display_data"
    },
    {
     "name": "stdout",
     "output_type": "stream",
     "text": [
      "Gains/Lift Table: Avg response rate: 94.21 %, avg score: 94.21 %\n",
      "\n"
     ]
    },
    {
     "data": {
      "text/html": [
       "<div style=\"overflow:auto\"><table style=\"width:50%\"><tr><td><b></b></td>\n",
       "<td><b>group</b></td>\n",
       "<td><b>cumulative_data_fraction</b></td>\n",
       "<td><b>lower_threshold</b></td>\n",
       "<td><b>lift</b></td>\n",
       "<td><b>cumulative_lift</b></td>\n",
       "<td><b>response_rate</b></td>\n",
       "<td><b>score</b></td>\n",
       "<td><b>cumulative_response_rate</b></td>\n",
       "<td><b>cumulative_score</b></td>\n",
       "<td><b>capture_rate</b></td>\n",
       "<td><b>cumulative_capture_rate</b></td>\n",
       "<td><b>gain</b></td>\n",
       "<td><b>cumulative_gain</b></td></tr>\n",
       "<tr><td></td>\n",
       "<td>1</td>\n",
       "<td>0.0100095</td>\n",
       "<td>0.9834363</td>\n",
       "<td>1.0582111</td>\n",
       "<td>1.0582111</td>\n",
       "<td>0.9969512</td>\n",
       "<td>0.9840335</td>\n",
       "<td>0.9969512</td>\n",
       "<td>0.9840335</td>\n",
       "<td>0.0105921</td>\n",
       "<td>0.0105921</td>\n",
       "<td>5.8211146</td>\n",
       "<td>5.8211146</td></tr>\n",
       "<tr><td></td>\n",
       "<td>2</td>\n",
       "<td>0.0200189</td>\n",
       "<td>0.9828669</td>\n",
       "<td>1.0452667</td>\n",
       "<td>1.0517389</td>\n",
       "<td>0.9847561</td>\n",
       "<td>0.9831230</td>\n",
       "<td>0.9908537</td>\n",
       "<td>0.9835782</td>\n",
       "<td>0.0104626</td>\n",
       "<td>0.0210547</td>\n",
       "<td>4.5266668</td>\n",
       "<td>5.1738907</td></tr>\n",
       "<tr><td></td>\n",
       "<td>3</td>\n",
       "<td>0.0300284</td>\n",
       "<td>0.9824657</td>\n",
       "<td>1.0549750</td>\n",
       "<td>1.0528176</td>\n",
       "<td>0.9939024</td>\n",
       "<td>0.9826588</td>\n",
       "<td>0.9918699</td>\n",
       "<td>0.9832718</td>\n",
       "<td>0.0105597</td>\n",
       "<td>0.0316144</td>\n",
       "<td>5.4975027</td>\n",
       "<td>5.2817614</td></tr>\n",
       "<tr><td></td>\n",
       "<td>4</td>\n",
       "<td>0.0400073</td>\n",
       "<td>0.9821462</td>\n",
       "<td>1.0549552</td>\n",
       "<td>1.0533508</td>\n",
       "<td>0.9938838</td>\n",
       "<td>0.9823080</td>\n",
       "<td>0.9923722</td>\n",
       "<td>0.9830314</td>\n",
       "<td>0.0105273</td>\n",
       "<td>0.0421417</td>\n",
       "<td>5.4955234</td>\n",
       "<td>5.3350796</td></tr>\n",
       "<tr><td></td>\n",
       "<td>5</td>\n",
       "<td>0.0500168</td>\n",
       "<td>0.9818991</td>\n",
       "<td>1.0517389</td>\n",
       "<td>1.0530282</td>\n",
       "<td>0.9908537</td>\n",
       "<td>0.9820166</td>\n",
       "<td>0.9920683</td>\n",
       "<td>0.9828283</td>\n",
       "<td>0.0105273</td>\n",
       "<td>0.0526691</td>\n",
       "<td>5.1738907</td>\n",
       "<td>5.3028221</td></tr>\n",
       "<tr><td></td>\n",
       "<td>6</td>\n",
       "<td>0.1000031</td>\n",
       "<td>0.9808388</td>\n",
       "<td>1.0530231</td>\n",
       "<td>1.0530257</td>\n",
       "<td>0.9920635</td>\n",
       "<td>0.9813346</td>\n",
       "<td>0.9920659</td>\n",
       "<td>0.9820817</td>\n",
       "<td>0.0526367</td>\n",
       "<td>0.1053058</td>\n",
       "<td>5.3023081</td>\n",
       "<td>5.3025652</td></tr>\n",
       "<tr><td></td>\n",
       "<td>7</td>\n",
       "<td>0.1500198</td>\n",
       "<td>0.9800209</td>\n",
       "<td>1.0491425</td>\n",
       "<td>1.0517310</td>\n",
       "<td>0.9884076</td>\n",
       "<td>0.9804138</td>\n",
       "<td>0.9908462</td>\n",
       "<td>0.9815256</td>\n",
       "<td>0.0524747</td>\n",
       "<td>0.1577805</td>\n",
       "<td>4.9142508</td>\n",
       "<td>5.1731008</td></tr>\n",
       "<tr><td></td>\n",
       "<td>8</td>\n",
       "<td>0.2000061</td>\n",
       "<td>0.9792578</td>\n",
       "<td>1.0478390</td>\n",
       "<td>1.0507583</td>\n",
       "<td>0.9871795</td>\n",
       "<td>0.9796179</td>\n",
       "<td>0.9899298</td>\n",
       "<td>0.9810488</td>\n",
       "<td>0.0523776</td>\n",
       "<td>0.2101581</td>\n",
       "<td>4.7838968</td>\n",
       "<td>5.0758295</td></tr>\n",
       "<tr><td></td>\n",
       "<td>9</td>\n",
       "<td>0.3000092</td>\n",
       "<td>0.9778845</td>\n",
       "<td>1.0475192</td>\n",
       "<td>1.0496786</td>\n",
       "<td>0.9868782</td>\n",
       "<td>0.9785681</td>\n",
       "<td>0.9889126</td>\n",
       "<td>0.9802219</td>\n",
       "<td>0.1047551</td>\n",
       "<td>0.3149132</td>\n",
       "<td>4.7519212</td>\n",
       "<td>4.9678600</td></tr>\n",
       "<tr><td></td>\n",
       "<td>10</td>\n",
       "<td>0.4000122</td>\n",
       "<td>0.9763795</td>\n",
       "<td>1.0462236</td>\n",
       "<td>1.0488148</td>\n",
       "<td>0.9856576</td>\n",
       "<td>0.9771543</td>\n",
       "<td>0.9880989</td>\n",
       "<td>0.9794550</td>\n",
       "<td>0.1046256</td>\n",
       "<td>0.4195387</td>\n",
       "<td>4.6223579</td>\n",
       "<td>4.8814845</td></tr>\n",
       "<tr><td></td>\n",
       "<td>11</td>\n",
       "<td>0.5000153</td>\n",
       "<td>0.9744908</td>\n",
       "<td>1.0458997</td>\n",
       "<td>1.0482318</td>\n",
       "<td>0.9853525</td>\n",
       "<td>0.9754768</td>\n",
       "<td>0.9875496</td>\n",
       "<td>0.9786594</td>\n",
       "<td>0.1045932</td>\n",
       "<td>0.5241319</td>\n",
       "<td>4.5899671</td>\n",
       "<td>4.8231810</td></tr>\n",
       "<tr><td></td>\n",
       "<td>12</td>\n",
       "<td>0.5999878</td>\n",
       "<td>0.9718250</td>\n",
       "<td>1.0433029</td>\n",
       "<td>1.0474105</td>\n",
       "<td>0.9829060</td>\n",
       "<td>0.9732467</td>\n",
       "<td>0.9867759</td>\n",
       "<td>0.9777575</td>\n",
       "<td>0.1043016</td>\n",
       "<td>0.6284335</td>\n",
       "<td>4.3302868</td>\n",
       "<td>4.7410529</td></tr>\n",
       "<tr><td></td>\n",
       "<td>13</td>\n",
       "<td>0.6999908</td>\n",
       "<td>0.9676810</td>\n",
       "<td>1.0322955</td>\n",
       "<td>1.0452511</td>\n",
       "<td>0.9725359</td>\n",
       "<td>0.9699362</td>\n",
       "<td>0.9847415</td>\n",
       "<td>0.9766401</td>\n",
       "<td>0.1032327</td>\n",
       "<td>0.7316662</td>\n",
       "<td>3.2295526</td>\n",
       "<td>4.5251149</td></tr>\n",
       "<tr><td></td>\n",
       "<td>14</td>\n",
       "<td>0.7999939</td>\n",
       "<td>0.9592314</td>\n",
       "<td>1.0216066</td>\n",
       "<td>1.0422955</td>\n",
       "<td>0.9624657</td>\n",
       "<td>0.9640848</td>\n",
       "<td>0.9819569</td>\n",
       "<td>0.9750706</td>\n",
       "<td>0.1021638</td>\n",
       "<td>0.8338300</td>\n",
       "<td>2.1606554</td>\n",
       "<td>4.2295462</td></tr>\n",
       "<tr><td></td>\n",
       "<td>15</td>\n",
       "<td>0.8999969</td>\n",
       "<td>0.9250922</td>\n",
       "<td>0.9863006</td>\n",
       "<td>1.0360736</td>\n",
       "<td>0.9292035</td>\n",
       "<td>0.9475721</td>\n",
       "<td>0.9760952</td>\n",
       "<td>0.9720152</td>\n",
       "<td>0.0986331</td>\n",
       "<td>0.9324631</td>\n",
       "<td>-1.3699443</td>\n",
       "<td>3.6073595</td></tr>\n",
       "<tr><td></td>\n",
       "<td>16</td>\n",
       "<td>1.0</td>\n",
       "<td>0.0020257</td>\n",
       "<td>0.6753487</td>\n",
       "<td>1.0</td>\n",
       "<td>0.6362527</td>\n",
       "<td>0.6728535</td>\n",
       "<td>0.9421099</td>\n",
       "<td>0.9420981</td>\n",
       "<td>0.0675369</td>\n",
       "<td>1.0</td>\n",
       "<td>-32.4651343</td>\n",
       "<td>0.0</td></tr></table></div>"
      ],
      "text/plain": [
       "    group    cumulative_data_fraction    lower_threshold    lift      cumulative_lift    response_rate    score     cumulative_response_rate    cumulative_score    capture_rate    cumulative_capture_rate    gain      cumulative_gain\n",
       "--  -------  --------------------------  -----------------  --------  -----------------  ---------------  --------  --------------------------  ------------------  --------------  -------------------------  --------  -----------------\n",
       "    1        0.0100095                   0.983436           1.05821   1.05821            0.996951         0.984033  0.996951                    0.984033            0.0105921       0.0105921                  5.82111   5.82111\n",
       "    2        0.0200189                   0.982867           1.04527   1.05174            0.984756         0.983123  0.990854                    0.983578            0.0104626       0.0210547                  4.52667   5.17389\n",
       "    3        0.0300284                   0.982466           1.05498   1.05282            0.993902         0.982659  0.99187                     0.983272            0.0105597       0.0316144                  5.4975    5.28176\n",
       "    4        0.0400073                   0.982146           1.05496   1.05335            0.993884         0.982308  0.992372                    0.983031            0.0105273       0.0421417                  5.49552   5.33508\n",
       "    5        0.0500168                   0.981899           1.05174   1.05303            0.990854         0.982017  0.992068                    0.982828            0.0105273       0.0526691                  5.17389   5.30282\n",
       "    6        0.100003                    0.980839           1.05302   1.05303            0.992063         0.981335  0.992066                    0.982082            0.0526367       0.105306                   5.30231   5.30257\n",
       "    7        0.15002                     0.980021           1.04914   1.05173            0.988408         0.980414  0.990846                    0.981526            0.0524747       0.157781                   4.91425   5.1731\n",
       "    8        0.200006                    0.979258           1.04784   1.05076            0.987179         0.979618  0.98993                     0.981049            0.0523776       0.210158                   4.7839    5.07583\n",
       "    9        0.300009                    0.977885           1.04752   1.04968            0.986878         0.978568  0.988913                    0.980222            0.104755        0.314913                   4.75192   4.96786\n",
       "    10       0.400012                    0.97638            1.04622   1.04881            0.985658         0.977154  0.988099                    0.979455            0.104626        0.419539                   4.62236   4.88148\n",
       "    11       0.500015                    0.974491           1.0459    1.04823            0.985352         0.975477  0.98755                     0.978659            0.104593        0.524132                   4.58997   4.82318\n",
       "    12       0.599988                    0.971825           1.0433    1.04741            0.982906         0.973247  0.986776                    0.977758            0.104302        0.628434                   4.33029   4.74105\n",
       "    13       0.699991                    0.967681           1.0323    1.04525            0.972536         0.969936  0.984741                    0.97664             0.103233        0.731666                   3.22955   4.52511\n",
       "    14       0.799994                    0.959231           1.02161   1.0423             0.962466         0.964085  0.981957                    0.975071            0.102164        0.83383                    2.16066   4.22955\n",
       "    15       0.899997                    0.925092           0.986301  1.03607            0.929204         0.947572  0.976095                    0.972015            0.0986331       0.932463                   -1.36994  3.60736\n",
       "    16       1                           0.00202566         0.675349  1                  0.636253         0.672854  0.94211                     0.942098            0.0675369       1                          -32.4651  0"
      ]
     },
     "metadata": {},
     "output_type": "display_data"
    },
    {
     "name": "stdout",
     "output_type": "stream",
     "text": [
      "\n",
      "<bound method ModelBase.coef_norm of >\n"
     ]
    }
   ],
   "source": [
    "# generating normalized coeff.\n",
    "mods=mod_best.coef_norm\n",
    "print(mods)\n"
   ]
  },
  {
   "cell_type": "markdown",
   "metadata": {},
   "source": [
    "## Generating and storing Hyperparameters of each model into JSON"
   ]
  },
  {
   "cell_type": "code",
   "execution_count": 152,
   "metadata": {},
   "outputs": [
    {
     "data": {
      "text/plain": [
       "pandas.core.series.Series"
      ]
     },
     "execution_count": 152,
     "metadata": {},
     "output_type": "execute_result"
    }
   ],
   "source": [
    "model_set=aml_leaderboard_df['model_id']\n",
    "type(model_set)"
   ]
  },
  {
   "cell_type": "code",
   "execution_count": 153,
   "metadata": {},
   "outputs": [],
   "source": [
    "jsonDicts = []\n",
    "for m in model_set.iteritems():\n",
    "    m,model_name = m\n",
    "    mod_best = h2o.get_model(model_name)\n",
    "    jsonDicts.append(mod_best.params)"
   ]
  },
  {
   "cell_type": "code",
   "execution_count": 154,
   "metadata": {
    "scrolled": true
   },
   "outputs": [
    {
     "name": "stdout",
     "output_type": "stream",
     "text": [
      "[{'model_id': {'default': None, 'actual': {'__meta': {'schema_version': 3, 'schema_name': 'ModelKeyV3', 'schema_type': 'Key<Model>'}, 'name': 'StackedEnsemble_BestOfFamily_AutoML_20190416_132510', 'type': 'Key<Model>', 'URL': '/3/Models/StackedEnsemble_BestOfFamily_AutoML_20190416_132510'}}, 'training_frame': {'default': None, 'actual': {'__meta': {'schema_version': 3, 'schema_name': 'FrameKeyV3', 'schema_type': 'Key<Frame>'}, 'name': 'automl_training_py_20_sid_ba58', 'type': 'Key<Frame>', 'URL': '/3/Frames/automl_training_py_20_sid_ba58'}}, 'response_column': {'default': None, 'actual': {'__meta': {'schema_version': 3, 'schema_name': 'ColSpecifierV3', 'schema_type': 'VecSpecifier'}, 'column_name': 'ACTION', 'is_member_of_frames': None}}, 'validation_frame': {'default': None, 'actual': None}, 'blending_frame': {'default': None, 'actual': None}, 'base_models': {'default': [], 'actual': [{'__meta': {'schema_version': 3, 'schema_name': 'ModelKeyV3', 'schema_type': 'Key<Model>'}, 'name': 'GBM_grid_1_AutoML_20190416_132510_model_3', 'type': 'Key<Model>', 'URL': '/3/Models/GBM_grid_1_AutoML_20190416_132510_model_3'}, {'__meta': {'schema_version': 3, 'schema_name': 'ModelKeyV3', 'schema_type': 'Key<Model>'}, 'name': 'DRF_1_AutoML_20190416_132510', 'type': 'Key<Model>', 'URL': '/3/Models/DRF_1_AutoML_20190416_132510'}, {'__meta': {'schema_version': 3, 'schema_name': 'ModelKeyV3', 'schema_type': 'Key<Model>'}, 'name': 'XRT_1_AutoML_20190416_132510', 'type': 'Key<Model>', 'URL': '/3/Models/XRT_1_AutoML_20190416_132510'}, {'__meta': {'schema_version': 3, 'schema_name': 'ModelKeyV3', 'schema_type': 'Key<Model>'}, 'name': 'DeepLearning_1_AutoML_20190416_132510', 'type': 'Key<Model>', 'URL': '/3/Models/DeepLearning_1_AutoML_20190416_132510'}, {'__meta': {'schema_version': 3, 'schema_name': 'ModelKeyV3', 'schema_type': 'Key<Model>'}, 'name': 'GLM_grid_1_AutoML_20190416_132510_model_1', 'type': 'Key<Model>', 'URL': '/3/Models/GLM_grid_1_AutoML_20190416_132510_model_1'}]}, 'metalearner_algorithm': {'default': 'AUTO', 'actual': 'AUTO'}, 'metalearner_nfolds': {'default': 0, 'actual': 5}, 'metalearner_fold_assignment': {'default': None, 'actual': None}, 'metalearner_fold_column': {'default': None, 'actual': None}, 'metalearner_params': {'default': '', 'actual': ''}, 'seed': {'default': -1, 'actual': 8678985583095720599}, 'keep_levelone_frame': {'default': False, 'actual': True}, 'export_checkpoints_dir': {'default': None, 'actual': None}}, {'model_id': {'default': None, 'actual': {'__meta': {'schema_version': 3, 'schema_name': 'ModelKeyV3', 'schema_type': 'Key<Model>'}, 'name': 'StackedEnsemble_AllModels_AutoML_20190416_132510', 'type': 'Key<Model>', 'URL': '/3/Models/StackedEnsemble_AllModels_AutoML_20190416_132510'}}, 'training_frame': {'default': None, 'actual': {'__meta': {'schema_version': 3, 'schema_name': 'FrameKeyV3', 'schema_type': 'Key<Frame>'}, 'name': 'automl_training_py_20_sid_ba58', 'type': 'Key<Frame>', 'URL': '/3/Frames/automl_training_py_20_sid_ba58'}}, 'response_column': {'default': None, 'actual': {'__meta': {'schema_version': 3, 'schema_name': 'ColSpecifierV3', 'schema_type': 'VecSpecifier'}, 'column_name': 'ACTION', 'is_member_of_frames': None}}, 'validation_frame': {'default': None, 'actual': None}, 'blending_frame': {'default': None, 'actual': None}, 'base_models': {'default': [], 'actual': [{'__meta': {'schema_version': 3, 'schema_name': 'ModelKeyV3', 'schema_type': 'Key<Model>'}, 'name': 'GBM_grid_1_AutoML_20190416_132510_model_3', 'type': 'Key<Model>', 'URL': '/3/Models/GBM_grid_1_AutoML_20190416_132510_model_3'}, {'__meta': {'schema_version': 3, 'schema_name': 'ModelKeyV3', 'schema_type': 'Key<Model>'}, 'name': 'DRF_1_AutoML_20190416_132510', 'type': 'Key<Model>', 'URL': '/3/Models/DRF_1_AutoML_20190416_132510'}, {'__meta': {'schema_version': 3, 'schema_name': 'ModelKeyV3', 'schema_type': 'Key<Model>'}, 'name': 'GBM_4_AutoML_20190416_132510', 'type': 'Key<Model>', 'URL': '/3/Models/GBM_4_AutoML_20190416_132510'}, {'__meta': {'schema_version': 3, 'schema_name': 'ModelKeyV3', 'schema_type': 'Key<Model>'}, 'name': 'XRT_1_AutoML_20190416_132510', 'type': 'Key<Model>', 'URL': '/3/Models/XRT_1_AutoML_20190416_132510'}, {'__meta': {'schema_version': 3, 'schema_name': 'ModelKeyV3', 'schema_type': 'Key<Model>'}, 'name': 'GBM_3_AutoML_20190416_132510', 'type': 'Key<Model>', 'URL': '/3/Models/GBM_3_AutoML_20190416_132510'}, {'__meta': {'schema_version': 3, 'schema_name': 'ModelKeyV3', 'schema_type': 'Key<Model>'}, 'name': 'GBM_5_AutoML_20190416_132510', 'type': 'Key<Model>', 'URL': '/3/Models/GBM_5_AutoML_20190416_132510'}, {'__meta': {'schema_version': 3, 'schema_name': 'ModelKeyV3', 'schema_type': 'Key<Model>'}, 'name': 'GBM_2_AutoML_20190416_132510', 'type': 'Key<Model>', 'URL': '/3/Models/GBM_2_AutoML_20190416_132510'}, {'__meta': {'schema_version': 3, 'schema_name': 'ModelKeyV3', 'schema_type': 'Key<Model>'}, 'name': 'GBM_1_AutoML_20190416_132510', 'type': 'Key<Model>', 'URL': '/3/Models/GBM_1_AutoML_20190416_132510'}, {'__meta': {'schema_version': 3, 'schema_name': 'ModelKeyV3', 'schema_type': 'Key<Model>'}, 'name': 'GBM_grid_1_AutoML_20190416_132510_model_4', 'type': 'Key<Model>', 'URL': '/3/Models/GBM_grid_1_AutoML_20190416_132510_model_4'}, {'__meta': {'schema_version': 3, 'schema_name': 'ModelKeyV3', 'schema_type': 'Key<Model>'}, 'name': 'GBM_grid_1_AutoML_20190416_132510_model_1', 'type': 'Key<Model>', 'URL': '/3/Models/GBM_grid_1_AutoML_20190416_132510_model_1'}, {'__meta': {'schema_version': 3, 'schema_name': 'ModelKeyV3', 'schema_type': 'Key<Model>'}, 'name': 'GBM_grid_1_AutoML_20190416_132510_model_2', 'type': 'Key<Model>', 'URL': '/3/Models/GBM_grid_1_AutoML_20190416_132510_model_2'}, {'__meta': {'schema_version': 3, 'schema_name': 'ModelKeyV3', 'schema_type': 'Key<Model>'}, 'name': 'GBM_grid_1_AutoML_20190416_132510_model_5', 'type': 'Key<Model>', 'URL': '/3/Models/GBM_grid_1_AutoML_20190416_132510_model_5'}, {'__meta': {'schema_version': 3, 'schema_name': 'ModelKeyV3', 'schema_type': 'Key<Model>'}, 'name': 'DeepLearning_1_AutoML_20190416_132510', 'type': 'Key<Model>', 'URL': '/3/Models/DeepLearning_1_AutoML_20190416_132510'}, {'__meta': {'schema_version': 3, 'schema_name': 'ModelKeyV3', 'schema_type': 'Key<Model>'}, 'name': 'DeepLearning_grid_1_AutoML_20190416_132510_model_2', 'type': 'Key<Model>', 'URL': '/3/Models/DeepLearning_grid_1_AutoML_20190416_132510_model_2'}, {'__meta': {'schema_version': 3, 'schema_name': 'ModelKeyV3', 'schema_type': 'Key<Model>'}, 'name': 'GLM_grid_1_AutoML_20190416_132510_model_1', 'type': 'Key<Model>', 'URL': '/3/Models/GLM_grid_1_AutoML_20190416_132510_model_1'}, {'__meta': {'schema_version': 3, 'schema_name': 'ModelKeyV3', 'schema_type': 'Key<Model>'}, 'name': 'DeepLearning_grid_1_AutoML_20190416_132510_model_1', 'type': 'Key<Model>', 'URL': '/3/Models/DeepLearning_grid_1_AutoML_20190416_132510_model_1'}, {'__meta': {'schema_version': 3, 'schema_name': 'ModelKeyV3', 'schema_type': 'Key<Model>'}, 'name': 'DeepLearning_grid_1_AutoML_20190416_132510_model_3', 'type': 'Key<Model>', 'URL': '/3/Models/DeepLearning_grid_1_AutoML_20190416_132510_model_3'}]}, 'metalearner_algorithm': {'default': 'AUTO', 'actual': 'AUTO'}, 'metalearner_nfolds': {'default': 0, 'actual': 5}, 'metalearner_fold_assignment': {'default': None, 'actual': None}, 'metalearner_fold_column': {'default': None, 'actual': None}, 'metalearner_params': {'default': '', 'actual': ''}, 'seed': {'default': -1, 'actual': 3702642327589249914}, 'keep_levelone_frame': {'default': False, 'actual': True}, 'export_checkpoints_dir': {'default': None, 'actual': None}}, {'model_id': {'default': None, 'actual': {'__meta': {'schema_version': 3, 'schema_name': 'ModelKeyV3', 'schema_type': 'Key<Model>'}, 'name': 'GBM_grid_1_AutoML_20190416_132510_model_3', 'type': 'Key<Model>', 'URL': '/3/Models/GBM_grid_1_AutoML_20190416_132510_model_3'}}, 'training_frame': {'default': None, 'actual': {'__meta': {'schema_version': 3, 'schema_name': 'FrameKeyV3', 'schema_type': 'Key<Frame>'}, 'name': 'automl_training_py_20_sid_ba58', 'type': 'Key<Frame>', 'URL': '/3/Frames/automl_training_py_20_sid_ba58'}}, 'validation_frame': {'default': None, 'actual': None}, 'nfolds': {'default': 0, 'actual': 5}, 'keep_cross_validation_models': {'default': True, 'actual': False}, 'keep_cross_validation_predictions': {'default': False, 'actual': True}, 'keep_cross_validation_fold_assignment': {'default': False, 'actual': False}, 'score_each_iteration': {'default': False, 'actual': False}, 'score_tree_interval': {'default': 0, 'actual': 5}, 'fold_assignment': {'default': 'AUTO', 'actual': 'Modulo'}, 'fold_column': {'default': None, 'actual': None}, 'response_column': {'default': None, 'actual': {'__meta': {'schema_version': 3, 'schema_name': 'ColSpecifierV3', 'schema_type': 'VecSpecifier'}, 'column_name': 'ACTION', 'is_member_of_frames': None}}, 'ignored_columns': {'default': None, 'actual': []}, 'ignore_const_cols': {'default': True, 'actual': True}, 'offset_column': {'default': None, 'actual': None}, 'weights_column': {'default': None, 'actual': None}, 'balance_classes': {'default': False, 'actual': False}, 'class_sampling_factors': {'default': None, 'actual': None}, 'max_after_balance_size': {'default': 5.0, 'actual': 5.0}, 'max_confusion_matrix_size': {'default': 20, 'actual': 20}, 'max_hit_ratio_k': {'default': 0, 'actual': 0}, 'ntrees': {'default': 50, 'actual': 135}, 'max_depth': {'default': 5, 'actual': 14}, 'min_rows': {'default': 10.0, 'actual': 5.0}, 'nbins': {'default': 20, 'actual': 20}, 'nbins_top_level': {'default': 1024, 'actual': 1024}, 'nbins_cats': {'default': 1024, 'actual': 1024}, 'r2_stopping': {'default': 1.7976931348623157e+308, 'actual': 1.7976931348623157e+308}, 'stopping_rounds': {'default': 0, 'actual': 0}, 'stopping_metric': {'default': 'AUTO', 'actual': 'logloss'}, 'stopping_tolerance': {'default': 0.001, 'actual': 0.005524187436252161}, 'max_runtime_secs': {'default': 0.0, 'actual': 0.0}, 'seed': {'default': -1, 'actual': -4416061323647928229}, 'build_tree_one_node': {'default': False, 'actual': False}, 'learn_rate': {'default': 0.1, 'actual': 0.001}, 'learn_rate_annealing': {'default': 1.0, 'actual': 1.0}, 'distribution': {'default': 'AUTO', 'actual': 'bernoulli'}, 'quantile_alpha': {'default': 0.5, 'actual': 0.5}, 'tweedie_power': {'default': 1.5, 'actual': 1.5}, 'huber_alpha': {'default': 0.9, 'actual': 0.9}, 'checkpoint': {'default': None, 'actual': None}, 'sample_rate': {'default': 1.0, 'actual': 0.8}, 'sample_rate_per_class': {'default': None, 'actual': None}, 'col_sample_rate': {'default': 1.0, 'actual': 0.7}, 'col_sample_rate_change_per_level': {'default': 1.0, 'actual': 1.0}, 'col_sample_rate_per_tree': {'default': 1.0, 'actual': 0.4}, 'min_split_improvement': {'default': 1e-05, 'actual': 1e-05}, 'histogram_type': {'default': 'AUTO', 'actual': 'AUTO'}, 'max_abs_leafnode_pred': {'default': 1.7976931348623157e+308, 'actual': 1.7976931348623157e+308}, 'pred_noise_bandwidth': {'default': 0.0, 'actual': 0.0}, 'categorical_encoding': {'default': 'AUTO', 'actual': 'AUTO'}, 'calibrate_model': {'default': False, 'actual': False}, 'calibration_frame': {'default': None, 'actual': None}, 'custom_metric_func': {'default': None, 'actual': None}, 'export_checkpoints_dir': {'default': None, 'actual': None}, 'monotone_constraints': {'default': None, 'actual': None}, 'check_constant_response': {'default': True, 'actual': True}}, {'model_id': {'default': None, 'actual': {'__meta': {'schema_version': 3, 'schema_name': 'ModelKeyV3', 'schema_type': 'Key<Model>'}, 'name': 'DRF_1_AutoML_20190416_132510', 'type': 'Key<Model>', 'URL': '/3/Models/DRF_1_AutoML_20190416_132510'}}, 'training_frame': {'default': None, 'actual': {'__meta': {'schema_version': 3, 'schema_name': 'FrameKeyV3', 'schema_type': 'Key<Frame>'}, 'name': 'automl_training_py_20_sid_ba58', 'type': 'Key<Frame>', 'URL': '/3/Frames/automl_training_py_20_sid_ba58'}}, 'validation_frame': {'default': None, 'actual': None}, 'nfolds': {'default': 0, 'actual': 5}, 'keep_cross_validation_models': {'default': True, 'actual': False}, 'keep_cross_validation_predictions': {'default': False, 'actual': True}, 'keep_cross_validation_fold_assignment': {'default': False, 'actual': False}, 'score_each_iteration': {'default': False, 'actual': False}, 'score_tree_interval': {'default': 0, 'actual': 0}, 'fold_assignment': {'default': 'AUTO', 'actual': 'Modulo'}, 'fold_column': {'default': None, 'actual': None}, 'response_column': {'default': None, 'actual': {'__meta': {'schema_version': 3, 'schema_name': 'ColSpecifierV3', 'schema_type': 'VecSpecifier'}, 'column_name': 'ACTION', 'is_member_of_frames': None}}, 'ignored_columns': {'default': None, 'actual': []}, 'ignore_const_cols': {'default': True, 'actual': True}, 'offset_column': {'default': None, 'actual': None}, 'weights_column': {'default': None, 'actual': None}, 'balance_classes': {'default': False, 'actual': False}, 'class_sampling_factors': {'default': None, 'actual': None}, 'max_after_balance_size': {'default': 5.0, 'actual': 5.0}, 'max_confusion_matrix_size': {'default': 20, 'actual': 20}, 'max_hit_ratio_k': {'default': 0, 'actual': 0}, 'ntrees': {'default': 50, 'actual': 50}, 'max_depth': {'default': 20, 'actual': 20}, 'min_rows': {'default': 1.0, 'actual': 1.0}, 'nbins': {'default': 20, 'actual': 20}, 'nbins_top_level': {'default': 1024, 'actual': 1024}, 'nbins_cats': {'default': 1024, 'actual': 1024}, 'r2_stopping': {'default': 1.7976931348623157e+308, 'actual': 1.7976931348623157e+308}, 'stopping_rounds': {'default': 0, 'actual': 0}, 'stopping_metric': {'default': 'AUTO', 'actual': 'logloss'}, 'stopping_tolerance': {'default': 0.001, 'actual': 0.005524187436252161}, 'max_runtime_secs': {'default': 0.0, 'actual': 0.0}, 'seed': {'default': -1, 'actual': -6444524955554277796}, 'build_tree_one_node': {'default': False, 'actual': False}, 'mtries': {'default': -1, 'actual': -1}, 'sample_rate': {'default': 0.6320000290870667, 'actual': 0.6320000290870667}, 'sample_rate_per_class': {'default': None, 'actual': None}, 'binomial_double_trees': {'default': False, 'actual': False}, 'checkpoint': {'default': None, 'actual': None}, 'col_sample_rate_change_per_level': {'default': 1.0, 'actual': 1.0}, 'col_sample_rate_per_tree': {'default': 1.0, 'actual': 1.0}, 'min_split_improvement': {'default': 1e-05, 'actual': 1e-05}, 'histogram_type': {'default': 'AUTO', 'actual': 'AUTO'}, 'categorical_encoding': {'default': 'AUTO', 'actual': 'AUTO'}, 'calibrate_model': {'default': False, 'actual': False}, 'calibration_frame': {'default': None, 'actual': None}, 'distribution': {'default': 'AUTO', 'actual': 'multinomial'}, 'custom_metric_func': {'default': None, 'actual': None}, 'export_checkpoints_dir': {'default': None, 'actual': None}, 'check_constant_response': {'default': True, 'actual': True}}, {'model_id': {'default': None, 'actual': {'__meta': {'schema_version': 3, 'schema_name': 'ModelKeyV3', 'schema_type': 'Key<Model>'}, 'name': 'GBM_4_AutoML_20190416_132510', 'type': 'Key<Model>', 'URL': '/3/Models/GBM_4_AutoML_20190416_132510'}}, 'training_frame': {'default': None, 'actual': {'__meta': {'schema_version': 3, 'schema_name': 'FrameKeyV3', 'schema_type': 'Key<Frame>'}, 'name': 'automl_training_py_20_sid_ba58', 'type': 'Key<Frame>', 'URL': '/3/Frames/automl_training_py_20_sid_ba58'}}, 'validation_frame': {'default': None, 'actual': None}, 'nfolds': {'default': 0, 'actual': 5}, 'keep_cross_validation_models': {'default': True, 'actual': False}, 'keep_cross_validation_predictions': {'default': False, 'actual': True}, 'keep_cross_validation_fold_assignment': {'default': False, 'actual': False}, 'score_each_iteration': {'default': False, 'actual': False}, 'score_tree_interval': {'default': 0, 'actual': 5}, 'fold_assignment': {'default': 'AUTO', 'actual': 'Modulo'}, 'fold_column': {'default': None, 'actual': None}, 'response_column': {'default': None, 'actual': {'__meta': {'schema_version': 3, 'schema_name': 'ColSpecifierV3', 'schema_type': 'VecSpecifier'}, 'column_name': 'ACTION', 'is_member_of_frames': None}}, 'ignored_columns': {'default': None, 'actual': []}, 'ignore_const_cols': {'default': True, 'actual': True}, 'offset_column': {'default': None, 'actual': None}, 'weights_column': {'default': None, 'actual': None}, 'balance_classes': {'default': False, 'actual': False}, 'class_sampling_factors': {'default': None, 'actual': None}, 'max_after_balance_size': {'default': 5.0, 'actual': 5.0}, 'max_confusion_matrix_size': {'default': 20, 'actual': 20}, 'max_hit_ratio_k': {'default': 0, 'actual': 0}, 'ntrees': {'default': 50, 'actual': 94}, 'max_depth': {'default': 5, 'actual': 15}, 'min_rows': {'default': 10.0, 'actual': 100.0}, 'nbins': {'default': 20, 'actual': 20}, 'nbins_top_level': {'default': 1024, 'actual': 1024}, 'nbins_cats': {'default': 1024, 'actual': 1024}, 'r2_stopping': {'default': 1.7976931348623157e+308, 'actual': 1.7976931348623157e+308}, 'stopping_rounds': {'default': 0, 'actual': 0}, 'stopping_metric': {'default': 'AUTO', 'actual': 'logloss'}, 'stopping_tolerance': {'default': 0.001, 'actual': 0.005524187436252161}, 'max_runtime_secs': {'default': 0.0, 'actual': 0.0}, 'seed': {'default': -1, 'actual': 8327308615182554355}, 'build_tree_one_node': {'default': False, 'actual': False}, 'learn_rate': {'default': 0.1, 'actual': 0.1}, 'learn_rate_annealing': {'default': 1.0, 'actual': 1.0}, 'distribution': {'default': 'AUTO', 'actual': 'bernoulli'}, 'quantile_alpha': {'default': 0.5, 'actual': 0.5}, 'tweedie_power': {'default': 1.5, 'actual': 1.5}, 'huber_alpha': {'default': 0.9, 'actual': 0.9}, 'checkpoint': {'default': None, 'actual': None}, 'sample_rate': {'default': 1.0, 'actual': 0.8}, 'sample_rate_per_class': {'default': None, 'actual': None}, 'col_sample_rate': {'default': 1.0, 'actual': 0.8}, 'col_sample_rate_change_per_level': {'default': 1.0, 'actual': 1.0}, 'col_sample_rate_per_tree': {'default': 1.0, 'actual': 0.8}, 'min_split_improvement': {'default': 1e-05, 'actual': 1e-05}, 'histogram_type': {'default': 'AUTO', 'actual': 'AUTO'}, 'max_abs_leafnode_pred': {'default': 1.7976931348623157e+308, 'actual': 1.7976931348623157e+308}, 'pred_noise_bandwidth': {'default': 0.0, 'actual': 0.0}, 'categorical_encoding': {'default': 'AUTO', 'actual': 'AUTO'}, 'calibrate_model': {'default': False, 'actual': False}, 'calibration_frame': {'default': None, 'actual': None}, 'custom_metric_func': {'default': None, 'actual': None}, 'export_checkpoints_dir': {'default': None, 'actual': None}, 'monotone_constraints': {'default': None, 'actual': None}, 'check_constant_response': {'default': True, 'actual': True}}, {'model_id': {'default': None, 'actual': {'__meta': {'schema_version': 3, 'schema_name': 'ModelKeyV3', 'schema_type': 'Key<Model>'}, 'name': 'XRT_1_AutoML_20190416_132510', 'type': 'Key<Model>', 'URL': '/3/Models/XRT_1_AutoML_20190416_132510'}}, 'training_frame': {'default': None, 'actual': {'__meta': {'schema_version': 3, 'schema_name': 'FrameKeyV3', 'schema_type': 'Key<Frame>'}, 'name': 'automl_training_py_20_sid_ba58', 'type': 'Key<Frame>', 'URL': '/3/Frames/automl_training_py_20_sid_ba58'}}, 'validation_frame': {'default': None, 'actual': None}, 'nfolds': {'default': 0, 'actual': 5}, 'keep_cross_validation_models': {'default': True, 'actual': False}, 'keep_cross_validation_predictions': {'default': False, 'actual': True}, 'keep_cross_validation_fold_assignment': {'default': False, 'actual': False}, 'score_each_iteration': {'default': False, 'actual': False}, 'score_tree_interval': {'default': 0, 'actual': 0}, 'fold_assignment': {'default': 'AUTO', 'actual': 'Modulo'}, 'fold_column': {'default': None, 'actual': None}, 'response_column': {'default': None, 'actual': {'__meta': {'schema_version': 3, 'schema_name': 'ColSpecifierV3', 'schema_type': 'VecSpecifier'}, 'column_name': 'ACTION', 'is_member_of_frames': None}}, 'ignored_columns': {'default': None, 'actual': []}, 'ignore_const_cols': {'default': True, 'actual': True}, 'offset_column': {'default': None, 'actual': None}, 'weights_column': {'default': None, 'actual': None}, 'balance_classes': {'default': False, 'actual': False}, 'class_sampling_factors': {'default': None, 'actual': None}, 'max_after_balance_size': {'default': 5.0, 'actual': 5.0}, 'max_confusion_matrix_size': {'default': 20, 'actual': 20}, 'max_hit_ratio_k': {'default': 0, 'actual': 0}, 'ntrees': {'default': 50, 'actual': 50}, 'max_depth': {'default': 20, 'actual': 20}, 'min_rows': {'default': 1.0, 'actual': 1.0}, 'nbins': {'default': 20, 'actual': 20}, 'nbins_top_level': {'default': 1024, 'actual': 1024}, 'nbins_cats': {'default': 1024, 'actual': 1024}, 'r2_stopping': {'default': 1.7976931348623157e+308, 'actual': 1.7976931348623157e+308}, 'stopping_rounds': {'default': 0, 'actual': 0}, 'stopping_metric': {'default': 'AUTO', 'actual': 'logloss'}, 'stopping_tolerance': {'default': 0.001, 'actual': 0.005524187436252161}, 'max_runtime_secs': {'default': 0.0, 'actual': 0.0}, 'seed': {'default': -1, 'actual': 6876192475493927082}, 'build_tree_one_node': {'default': False, 'actual': False}, 'mtries': {'default': -1, 'actual': -1}, 'sample_rate': {'default': 0.6320000290870667, 'actual': 0.6320000290870667}, 'sample_rate_per_class': {'default': None, 'actual': None}, 'binomial_double_trees': {'default': False, 'actual': False}, 'checkpoint': {'default': None, 'actual': None}, 'col_sample_rate_change_per_level': {'default': 1.0, 'actual': 1.0}, 'col_sample_rate_per_tree': {'default': 1.0, 'actual': 1.0}, 'min_split_improvement': {'default': 1e-05, 'actual': 1e-05}, 'histogram_type': {'default': 'AUTO', 'actual': 'Random'}, 'categorical_encoding': {'default': 'AUTO', 'actual': 'AUTO'}, 'calibrate_model': {'default': False, 'actual': False}, 'calibration_frame': {'default': None, 'actual': None}, 'distribution': {'default': 'AUTO', 'actual': 'multinomial'}, 'custom_metric_func': {'default': None, 'actual': None}, 'export_checkpoints_dir': {'default': None, 'actual': None}, 'check_constant_response': {'default': True, 'actual': True}}, {'model_id': {'default': None, 'actual': {'__meta': {'schema_version': 3, 'schema_name': 'ModelKeyV3', 'schema_type': 'Key<Model>'}, 'name': 'GBM_3_AutoML_20190416_132510', 'type': 'Key<Model>', 'URL': '/3/Models/GBM_3_AutoML_20190416_132510'}}, 'training_frame': {'default': None, 'actual': {'__meta': {'schema_version': 3, 'schema_name': 'FrameKeyV3', 'schema_type': 'Key<Frame>'}, 'name': 'automl_training_py_20_sid_ba58', 'type': 'Key<Frame>', 'URL': '/3/Frames/automl_training_py_20_sid_ba58'}}, 'validation_frame': {'default': None, 'actual': None}, 'nfolds': {'default': 0, 'actual': 5}, 'keep_cross_validation_models': {'default': True, 'actual': False}, 'keep_cross_validation_predictions': {'default': False, 'actual': True}, 'keep_cross_validation_fold_assignment': {'default': False, 'actual': False}, 'score_each_iteration': {'default': False, 'actual': False}, 'score_tree_interval': {'default': 0, 'actual': 5}, 'fold_assignment': {'default': 'AUTO', 'actual': 'Modulo'}, 'fold_column': {'default': None, 'actual': None}, 'response_column': {'default': None, 'actual': {'__meta': {'schema_version': 3, 'schema_name': 'ColSpecifierV3', 'schema_type': 'VecSpecifier'}, 'column_name': 'ACTION', 'is_member_of_frames': None}}, 'ignored_columns': {'default': None, 'actual': []}, 'ignore_const_cols': {'default': True, 'actual': True}, 'offset_column': {'default': None, 'actual': None}, 'weights_column': {'default': None, 'actual': None}, 'balance_classes': {'default': False, 'actual': False}, 'class_sampling_factors': {'default': None, 'actual': None}, 'max_after_balance_size': {'default': 5.0, 'actual': 5.0}, 'max_confusion_matrix_size': {'default': 20, 'actual': 20}, 'max_hit_ratio_k': {'default': 0, 'actual': 0}, 'ntrees': {'default': 50, 'actual': 94}, 'max_depth': {'default': 5, 'actual': 15}, 'min_rows': {'default': 10.0, 'actual': 100.0}, 'nbins': {'default': 20, 'actual': 20}, 'nbins_top_level': {'default': 1024, 'actual': 1024}, 'nbins_cats': {'default': 1024, 'actual': 1024}, 'r2_stopping': {'default': 1.7976931348623157e+308, 'actual': 1.7976931348623157e+308}, 'stopping_rounds': {'default': 0, 'actual': 0}, 'stopping_metric': {'default': 'AUTO', 'actual': 'logloss'}, 'stopping_tolerance': {'default': 0.001, 'actual': 0.005524187436252161}, 'max_runtime_secs': {'default': 0.0, 'actual': 0.0}, 'seed': {'default': -1, 'actual': 8327308615182554355}, 'build_tree_one_node': {'default': False, 'actual': False}, 'learn_rate': {'default': 0.1, 'actual': 0.1}, 'learn_rate_annealing': {'default': 1.0, 'actual': 1.0}, 'distribution': {'default': 'AUTO', 'actual': 'bernoulli'}, 'quantile_alpha': {'default': 0.5, 'actual': 0.5}, 'tweedie_power': {'default': 1.5, 'actual': 1.5}, 'huber_alpha': {'default': 0.9, 'actual': 0.9}, 'checkpoint': {'default': None, 'actual': None}, 'sample_rate': {'default': 1.0, 'actual': 0.8}, 'sample_rate_per_class': {'default': None, 'actual': None}, 'col_sample_rate': {'default': 1.0, 'actual': 0.8}, 'col_sample_rate_change_per_level': {'default': 1.0, 'actual': 1.0}, 'col_sample_rate_per_tree': {'default': 1.0, 'actual': 0.8}, 'min_split_improvement': {'default': 1e-05, 'actual': 1e-05}, 'histogram_type': {'default': 'AUTO', 'actual': 'AUTO'}, 'max_abs_leafnode_pred': {'default': 1.7976931348623157e+308, 'actual': 1.7976931348623157e+308}, 'pred_noise_bandwidth': {'default': 0.0, 'actual': 0.0}, 'categorical_encoding': {'default': 'AUTO', 'actual': 'AUTO'}, 'calibrate_model': {'default': False, 'actual': False}, 'calibration_frame': {'default': None, 'actual': None}, 'custom_metric_func': {'default': None, 'actual': None}, 'export_checkpoints_dir': {'default': None, 'actual': None}, 'monotone_constraints': {'default': None, 'actual': None}, 'check_constant_response': {'default': True, 'actual': True}}, {'model_id': {'default': None, 'actual': {'__meta': {'schema_version': 3, 'schema_name': 'ModelKeyV3', 'schema_type': 'Key<Model>'}, 'name': 'GBM_5_AutoML_20190416_132510', 'type': 'Key<Model>', 'URL': '/3/Models/GBM_5_AutoML_20190416_132510'}}, 'training_frame': {'default': None, 'actual': {'__meta': {'schema_version': 3, 'schema_name': 'FrameKeyV3', 'schema_type': 'Key<Frame>'}, 'name': 'automl_training_py_20_sid_ba58', 'type': 'Key<Frame>', 'URL': '/3/Frames/automl_training_py_20_sid_ba58'}}, 'validation_frame': {'default': None, 'actual': None}, 'nfolds': {'default': 0, 'actual': 5}, 'keep_cross_validation_models': {'default': True, 'actual': False}, 'keep_cross_validation_predictions': {'default': False, 'actual': True}, 'keep_cross_validation_fold_assignment': {'default': False, 'actual': False}, 'score_each_iteration': {'default': False, 'actual': False}, 'score_tree_interval': {'default': 0, 'actual': 5}, 'fold_assignment': {'default': 'AUTO', 'actual': 'Modulo'}, 'fold_column': {'default': None, 'actual': None}, 'response_column': {'default': None, 'actual': {'__meta': {'schema_version': 3, 'schema_name': 'ColSpecifierV3', 'schema_type': 'VecSpecifier'}, 'column_name': 'ACTION', 'is_member_of_frames': None}}, 'ignored_columns': {'default': None, 'actual': []}, 'ignore_const_cols': {'default': True, 'actual': True}, 'offset_column': {'default': None, 'actual': None}, 'weights_column': {'default': None, 'actual': None}, 'balance_classes': {'default': False, 'actual': False}, 'class_sampling_factors': {'default': None, 'actual': None}, 'max_after_balance_size': {'default': 5.0, 'actual': 5.0}, 'max_confusion_matrix_size': {'default': 20, 'actual': 20}, 'max_hit_ratio_k': {'default': 0, 'actual': 0}, 'ntrees': {'default': 50, 'actual': 94}, 'max_depth': {'default': 5, 'actual': 15}, 'min_rows': {'default': 10.0, 'actual': 100.0}, 'nbins': {'default': 20, 'actual': 20}, 'nbins_top_level': {'default': 1024, 'actual': 1024}, 'nbins_cats': {'default': 1024, 'actual': 1024}, 'r2_stopping': {'default': 1.7976931348623157e+308, 'actual': 1.7976931348623157e+308}, 'stopping_rounds': {'default': 0, 'actual': 0}, 'stopping_metric': {'default': 'AUTO', 'actual': 'logloss'}, 'stopping_tolerance': {'default': 0.001, 'actual': 0.005524187436252161}, 'max_runtime_secs': {'default': 0.0, 'actual': 0.0}, 'seed': {'default': -1, 'actual': 8327308615182554355}, 'build_tree_one_node': {'default': False, 'actual': False}, 'learn_rate': {'default': 0.1, 'actual': 0.1}, 'learn_rate_annealing': {'default': 1.0, 'actual': 1.0}, 'distribution': {'default': 'AUTO', 'actual': 'bernoulli'}, 'quantile_alpha': {'default': 0.5, 'actual': 0.5}, 'tweedie_power': {'default': 1.5, 'actual': 1.5}, 'huber_alpha': {'default': 0.9, 'actual': 0.9}, 'checkpoint': {'default': None, 'actual': None}, 'sample_rate': {'default': 1.0, 'actual': 0.8}, 'sample_rate_per_class': {'default': None, 'actual': None}, 'col_sample_rate': {'default': 1.0, 'actual': 0.8}, 'col_sample_rate_change_per_level': {'default': 1.0, 'actual': 1.0}, 'col_sample_rate_per_tree': {'default': 1.0, 'actual': 0.8}, 'min_split_improvement': {'default': 1e-05, 'actual': 1e-05}, 'histogram_type': {'default': 'AUTO', 'actual': 'AUTO'}, 'max_abs_leafnode_pred': {'default': 1.7976931348623157e+308, 'actual': 1.7976931348623157e+308}, 'pred_noise_bandwidth': {'default': 0.0, 'actual': 0.0}, 'categorical_encoding': {'default': 'AUTO', 'actual': 'AUTO'}, 'calibrate_model': {'default': False, 'actual': False}, 'calibration_frame': {'default': None, 'actual': None}, 'custom_metric_func': {'default': None, 'actual': None}, 'export_checkpoints_dir': {'default': None, 'actual': None}, 'monotone_constraints': {'default': None, 'actual': None}, 'check_constant_response': {'default': True, 'actual': True}}, {'model_id': {'default': None, 'actual': {'__meta': {'schema_version': 3, 'schema_name': 'ModelKeyV3', 'schema_type': 'Key<Model>'}, 'name': 'GBM_2_AutoML_20190416_132510', 'type': 'Key<Model>', 'URL': '/3/Models/GBM_2_AutoML_20190416_132510'}}, 'training_frame': {'default': None, 'actual': {'__meta': {'schema_version': 3, 'schema_name': 'FrameKeyV3', 'schema_type': 'Key<Frame>'}, 'name': 'automl_training_py_20_sid_ba58', 'type': 'Key<Frame>', 'URL': '/3/Frames/automl_training_py_20_sid_ba58'}}, 'validation_frame': {'default': None, 'actual': None}, 'nfolds': {'default': 0, 'actual': 5}, 'keep_cross_validation_models': {'default': True, 'actual': False}, 'keep_cross_validation_predictions': {'default': False, 'actual': True}, 'keep_cross_validation_fold_assignment': {'default': False, 'actual': False}, 'score_each_iteration': {'default': False, 'actual': False}, 'score_tree_interval': {'default': 0, 'actual': 5}, 'fold_assignment': {'default': 'AUTO', 'actual': 'Modulo'}, 'fold_column': {'default': None, 'actual': None}, 'response_column': {'default': None, 'actual': {'__meta': {'schema_version': 3, 'schema_name': 'ColSpecifierV3', 'schema_type': 'VecSpecifier'}, 'column_name': 'ACTION', 'is_member_of_frames': None}}, 'ignored_columns': {'default': None, 'actual': []}, 'ignore_const_cols': {'default': True, 'actual': True}, 'offset_column': {'default': None, 'actual': None}, 'weights_column': {'default': None, 'actual': None}, 'balance_classes': {'default': False, 'actual': False}, 'class_sampling_factors': {'default': None, 'actual': None}, 'max_after_balance_size': {'default': 5.0, 'actual': 5.0}, 'max_confusion_matrix_size': {'default': 20, 'actual': 20}, 'max_hit_ratio_k': {'default': 0, 'actual': 0}, 'ntrees': {'default': 50, 'actual': 94}, 'max_depth': {'default': 5, 'actual': 15}, 'min_rows': {'default': 10.0, 'actual': 100.0}, 'nbins': {'default': 20, 'actual': 20}, 'nbins_top_level': {'default': 1024, 'actual': 1024}, 'nbins_cats': {'default': 1024, 'actual': 1024}, 'r2_stopping': {'default': 1.7976931348623157e+308, 'actual': 1.7976931348623157e+308}, 'stopping_rounds': {'default': 0, 'actual': 0}, 'stopping_metric': {'default': 'AUTO', 'actual': 'logloss'}, 'stopping_tolerance': {'default': 0.001, 'actual': 0.005524187436252161}, 'max_runtime_secs': {'default': 0.0, 'actual': 0.0}, 'seed': {'default': -1, 'actual': 8327308615182554355}, 'build_tree_one_node': {'default': False, 'actual': False}, 'learn_rate': {'default': 0.1, 'actual': 0.1}, 'learn_rate_annealing': {'default': 1.0, 'actual': 1.0}, 'distribution': {'default': 'AUTO', 'actual': 'bernoulli'}, 'quantile_alpha': {'default': 0.5, 'actual': 0.5}, 'tweedie_power': {'default': 1.5, 'actual': 1.5}, 'huber_alpha': {'default': 0.9, 'actual': 0.9}, 'checkpoint': {'default': None, 'actual': None}, 'sample_rate': {'default': 1.0, 'actual': 0.8}, 'sample_rate_per_class': {'default': None, 'actual': None}, 'col_sample_rate': {'default': 1.0, 'actual': 0.8}, 'col_sample_rate_change_per_level': {'default': 1.0, 'actual': 1.0}, 'col_sample_rate_per_tree': {'default': 1.0, 'actual': 0.8}, 'min_split_improvement': {'default': 1e-05, 'actual': 1e-05}, 'histogram_type': {'default': 'AUTO', 'actual': 'AUTO'}, 'max_abs_leafnode_pred': {'default': 1.7976931348623157e+308, 'actual': 1.7976931348623157e+308}, 'pred_noise_bandwidth': {'default': 0.0, 'actual': 0.0}, 'categorical_encoding': {'default': 'AUTO', 'actual': 'AUTO'}, 'calibrate_model': {'default': False, 'actual': False}, 'calibration_frame': {'default': None, 'actual': None}, 'custom_metric_func': {'default': None, 'actual': None}, 'export_checkpoints_dir': {'default': None, 'actual': None}, 'monotone_constraints': {'default': None, 'actual': None}, 'check_constant_response': {'default': True, 'actual': True}}, {'model_id': {'default': None, 'actual': {'__meta': {'schema_version': 3, 'schema_name': 'ModelKeyV3', 'schema_type': 'Key<Model>'}, 'name': 'GBM_1_AutoML_20190416_132510', 'type': 'Key<Model>', 'URL': '/3/Models/GBM_1_AutoML_20190416_132510'}}, 'training_frame': {'default': None, 'actual': {'__meta': {'schema_version': 3, 'schema_name': 'FrameKeyV3', 'schema_type': 'Key<Frame>'}, 'name': 'automl_training_py_20_sid_ba58', 'type': 'Key<Frame>', 'URL': '/3/Frames/automl_training_py_20_sid_ba58'}}, 'validation_frame': {'default': None, 'actual': None}, 'nfolds': {'default': 0, 'actual': 5}, 'keep_cross_validation_models': {'default': True, 'actual': False}, 'keep_cross_validation_predictions': {'default': False, 'actual': True}, 'keep_cross_validation_fold_assignment': {'default': False, 'actual': False}, 'score_each_iteration': {'default': False, 'actual': False}, 'score_tree_interval': {'default': 0, 'actual': 5}, 'fold_assignment': {'default': 'AUTO', 'actual': 'Modulo'}, 'fold_column': {'default': None, 'actual': None}, 'response_column': {'default': None, 'actual': {'__meta': {'schema_version': 3, 'schema_name': 'ColSpecifierV3', 'schema_type': 'VecSpecifier'}, 'column_name': 'ACTION', 'is_member_of_frames': None}}, 'ignored_columns': {'default': None, 'actual': []}, 'ignore_const_cols': {'default': True, 'actual': True}, 'offset_column': {'default': None, 'actual': None}, 'weights_column': {'default': None, 'actual': None}, 'balance_classes': {'default': False, 'actual': False}, 'class_sampling_factors': {'default': None, 'actual': None}, 'max_after_balance_size': {'default': 5.0, 'actual': 5.0}, 'max_confusion_matrix_size': {'default': 20, 'actual': 20}, 'max_hit_ratio_k': {'default': 0, 'actual': 0}, 'ntrees': {'default': 50, 'actual': 94}, 'max_depth': {'default': 5, 'actual': 15}, 'min_rows': {'default': 10.0, 'actual': 100.0}, 'nbins': {'default': 20, 'actual': 20}, 'nbins_top_level': {'default': 1024, 'actual': 1024}, 'nbins_cats': {'default': 1024, 'actual': 1024}, 'r2_stopping': {'default': 1.7976931348623157e+308, 'actual': 1.7976931348623157e+308}, 'stopping_rounds': {'default': 0, 'actual': 0}, 'stopping_metric': {'default': 'AUTO', 'actual': 'logloss'}, 'stopping_tolerance': {'default': 0.001, 'actual': 0.005524187436252161}, 'max_runtime_secs': {'default': 0.0, 'actual': 0.0}, 'seed': {'default': -1, 'actual': 8327308615182554355}, 'build_tree_one_node': {'default': False, 'actual': False}, 'learn_rate': {'default': 0.1, 'actual': 0.1}, 'learn_rate_annealing': {'default': 1.0, 'actual': 1.0}, 'distribution': {'default': 'AUTO', 'actual': 'bernoulli'}, 'quantile_alpha': {'default': 0.5, 'actual': 0.5}, 'tweedie_power': {'default': 1.5, 'actual': 1.5}, 'huber_alpha': {'default': 0.9, 'actual': 0.9}, 'checkpoint': {'default': None, 'actual': None}, 'sample_rate': {'default': 1.0, 'actual': 0.8}, 'sample_rate_per_class': {'default': None, 'actual': None}, 'col_sample_rate': {'default': 1.0, 'actual': 0.8}, 'col_sample_rate_change_per_level': {'default': 1.0, 'actual': 1.0}, 'col_sample_rate_per_tree': {'default': 1.0, 'actual': 0.8}, 'min_split_improvement': {'default': 1e-05, 'actual': 1e-05}, 'histogram_type': {'default': 'AUTO', 'actual': 'AUTO'}, 'max_abs_leafnode_pred': {'default': 1.7976931348623157e+308, 'actual': 1.7976931348623157e+308}, 'pred_noise_bandwidth': {'default': 0.0, 'actual': 0.0}, 'categorical_encoding': {'default': 'AUTO', 'actual': 'AUTO'}, 'calibrate_model': {'default': False, 'actual': False}, 'calibration_frame': {'default': None, 'actual': None}, 'custom_metric_func': {'default': None, 'actual': None}, 'export_checkpoints_dir': {'default': None, 'actual': None}, 'monotone_constraints': {'default': None, 'actual': None}, 'check_constant_response': {'default': True, 'actual': True}}, {'model_id': {'default': None, 'actual': {'__meta': {'schema_version': 3, 'schema_name': 'ModelKeyV3', 'schema_type': 'Key<Model>'}, 'name': 'GBM_grid_1_AutoML_20190416_132510_model_4', 'type': 'Key<Model>', 'URL': '/3/Models/GBM_grid_1_AutoML_20190416_132510_model_4'}}, 'training_frame': {'default': None, 'actual': {'__meta': {'schema_version': 3, 'schema_name': 'FrameKeyV3', 'schema_type': 'Key<Frame>'}, 'name': 'automl_training_py_20_sid_ba58', 'type': 'Key<Frame>', 'URL': '/3/Frames/automl_training_py_20_sid_ba58'}}, 'validation_frame': {'default': None, 'actual': None}, 'nfolds': {'default': 0, 'actual': 5}, 'keep_cross_validation_models': {'default': True, 'actual': False}, 'keep_cross_validation_predictions': {'default': False, 'actual': True}, 'keep_cross_validation_fold_assignment': {'default': False, 'actual': False}, 'score_each_iteration': {'default': False, 'actual': False}, 'score_tree_interval': {'default': 0, 'actual': 5}, 'fold_assignment': {'default': 'AUTO', 'actual': 'Modulo'}, 'fold_column': {'default': None, 'actual': None}, 'response_column': {'default': None, 'actual': {'__meta': {'schema_version': 3, 'schema_name': 'ColSpecifierV3', 'schema_type': 'VecSpecifier'}, 'column_name': 'ACTION', 'is_member_of_frames': None}}, 'ignored_columns': {'default': None, 'actual': []}, 'ignore_const_cols': {'default': True, 'actual': True}, 'offset_column': {'default': None, 'actual': None}, 'weights_column': {'default': None, 'actual': None}, 'balance_classes': {'default': False, 'actual': False}, 'class_sampling_factors': {'default': None, 'actual': None}, 'max_after_balance_size': {'default': 5.0, 'actual': 5.0}, 'max_confusion_matrix_size': {'default': 20, 'actual': 20}, 'max_hit_ratio_k': {'default': 0, 'actual': 0}, 'ntrees': {'default': 50, 'actual': 129}, 'max_depth': {'default': 5, 'actual': 9}, 'min_rows': {'default': 10.0, 'actual': 5.0}, 'nbins': {'default': 20, 'actual': 20}, 'nbins_top_level': {'default': 1024, 'actual': 1024}, 'nbins_cats': {'default': 1024, 'actual': 1024}, 'r2_stopping': {'default': 1.7976931348623157e+308, 'actual': 1.7976931348623157e+308}, 'stopping_rounds': {'default': 0, 'actual': 0}, 'stopping_metric': {'default': 'AUTO', 'actual': 'logloss'}, 'stopping_tolerance': {'default': 0.001, 'actual': 0.005524187436252161}, 'max_runtime_secs': {'default': 0.0, 'actual': 0.0}, 'seed': {'default': -1, 'actual': -2729637548571010887}, 'build_tree_one_node': {'default': False, 'actual': False}, 'learn_rate': {'default': 0.1, 'actual': 0.008}, 'learn_rate_annealing': {'default': 1.0, 'actual': 1.0}, 'distribution': {'default': 'AUTO', 'actual': 'bernoulli'}, 'quantile_alpha': {'default': 0.5, 'actual': 0.5}, 'tweedie_power': {'default': 1.5, 'actual': 1.5}, 'huber_alpha': {'default': 0.9, 'actual': 0.9}, 'checkpoint': {'default': None, 'actual': None}, 'sample_rate': {'default': 1.0, 'actual': 0.6}, 'sample_rate_per_class': {'default': None, 'actual': None}, 'col_sample_rate': {'default': 1.0, 'actual': 0.7}, 'col_sample_rate_change_per_level': {'default': 1.0, 'actual': 1.0}, 'col_sample_rate_per_tree': {'default': 1.0, 'actual': 1.0}, 'min_split_improvement': {'default': 1e-05, 'actual': 1e-05}, 'histogram_type': {'default': 'AUTO', 'actual': 'AUTO'}, 'max_abs_leafnode_pred': {'default': 1.7976931348623157e+308, 'actual': 1.7976931348623157e+308}, 'pred_noise_bandwidth': {'default': 0.0, 'actual': 0.0}, 'categorical_encoding': {'default': 'AUTO', 'actual': 'AUTO'}, 'calibrate_model': {'default': False, 'actual': False}, 'calibration_frame': {'default': None, 'actual': None}, 'custom_metric_func': {'default': None, 'actual': None}, 'export_checkpoints_dir': {'default': None, 'actual': None}, 'monotone_constraints': {'default': None, 'actual': None}, 'check_constant_response': {'default': True, 'actual': True}}, {'model_id': {'default': None, 'actual': {'__meta': {'schema_version': 3, 'schema_name': 'ModelKeyV3', 'schema_type': 'Key<Model>'}, 'name': 'GBM_grid_1_AutoML_20190416_132510_model_1', 'type': 'Key<Model>', 'URL': '/3/Models/GBM_grid_1_AutoML_20190416_132510_model_1'}}, 'training_frame': {'default': None, 'actual': {'__meta': {'schema_version': 3, 'schema_name': 'FrameKeyV3', 'schema_type': 'Key<Frame>'}, 'name': 'automl_training_py_20_sid_ba58', 'type': 'Key<Frame>', 'URL': '/3/Frames/automl_training_py_20_sid_ba58'}}, 'validation_frame': {'default': None, 'actual': None}, 'nfolds': {'default': 0, 'actual': 5}, 'keep_cross_validation_models': {'default': True, 'actual': False}, 'keep_cross_validation_predictions': {'default': False, 'actual': True}, 'keep_cross_validation_fold_assignment': {'default': False, 'actual': False}, 'score_each_iteration': {'default': False, 'actual': False}, 'score_tree_interval': {'default': 0, 'actual': 5}, 'fold_assignment': {'default': 'AUTO', 'actual': 'Modulo'}, 'fold_column': {'default': None, 'actual': None}, 'response_column': {'default': None, 'actual': {'__meta': {'schema_version': 3, 'schema_name': 'ColSpecifierV3', 'schema_type': 'VecSpecifier'}, 'column_name': 'ACTION', 'is_member_of_frames': None}}, 'ignored_columns': {'default': None, 'actual': []}, 'ignore_const_cols': {'default': True, 'actual': True}, 'offset_column': {'default': None, 'actual': None}, 'weights_column': {'default': None, 'actual': None}, 'balance_classes': {'default': False, 'actual': False}, 'class_sampling_factors': {'default': None, 'actual': None}, 'max_after_balance_size': {'default': 5.0, 'actual': 5.0}, 'max_confusion_matrix_size': {'default': 20, 'actual': 20}, 'max_hit_ratio_k': {'default': 0, 'actual': 0}, 'ntrees': {'default': 50, 'actual': 31}, 'max_depth': {'default': 5, 'actual': 5}, 'min_rows': {'default': 10.0, 'actual': 1.0}, 'nbins': {'default': 20, 'actual': 20}, 'nbins_top_level': {'default': 1024, 'actual': 1024}, 'nbins_cats': {'default': 1024, 'actual': 1024}, 'r2_stopping': {'default': 1.7976931348623157e+308, 'actual': 1.7976931348623157e+308}, 'stopping_rounds': {'default': 0, 'actual': 0}, 'stopping_metric': {'default': 'AUTO', 'actual': 'logloss'}, 'stopping_tolerance': {'default': 0.001, 'actual': 0.005524187436252161}, 'max_runtime_secs': {'default': 0.0, 'actual': 0.0}, 'seed': {'default': -1, 'actual': -7035359691257142069}, 'build_tree_one_node': {'default': False, 'actual': False}, 'learn_rate': {'default': 0.1, 'actual': 0.5}, 'learn_rate_annealing': {'default': 1.0, 'actual': 1.0}, 'distribution': {'default': 'AUTO', 'actual': 'bernoulli'}, 'quantile_alpha': {'default': 0.5, 'actual': 0.5}, 'tweedie_power': {'default': 1.5, 'actual': 1.5}, 'huber_alpha': {'default': 0.9, 'actual': 0.9}, 'checkpoint': {'default': None, 'actual': None}, 'sample_rate': {'default': 1.0, 'actual': 0.5}, 'sample_rate_per_class': {'default': None, 'actual': None}, 'col_sample_rate': {'default': 1.0, 'actual': 0.4}, 'col_sample_rate_change_per_level': {'default': 1.0, 'actual': 1.0}, 'col_sample_rate_per_tree': {'default': 1.0, 'actual': 1.0}, 'min_split_improvement': {'default': 1e-05, 'actual': 1e-05}, 'histogram_type': {'default': 'AUTO', 'actual': 'AUTO'}, 'max_abs_leafnode_pred': {'default': 1.7976931348623157e+308, 'actual': 1.7976931348623157e+308}, 'pred_noise_bandwidth': {'default': 0.0, 'actual': 0.0}, 'categorical_encoding': {'default': 'AUTO', 'actual': 'AUTO'}, 'calibrate_model': {'default': False, 'actual': False}, 'calibration_frame': {'default': None, 'actual': None}, 'custom_metric_func': {'default': None, 'actual': None}, 'export_checkpoints_dir': {'default': None, 'actual': None}, 'monotone_constraints': {'default': None, 'actual': None}, 'check_constant_response': {'default': True, 'actual': True}}, {'model_id': {'default': None, 'actual': {'__meta': {'schema_version': 3, 'schema_name': 'ModelKeyV3', 'schema_type': 'Key<Model>'}, 'name': 'GBM_grid_1_AutoML_20190416_132510_model_2', 'type': 'Key<Model>', 'URL': '/3/Models/GBM_grid_1_AutoML_20190416_132510_model_2'}}, 'training_frame': {'default': None, 'actual': {'__meta': {'schema_version': 3, 'schema_name': 'FrameKeyV3', 'schema_type': 'Key<Frame>'}, 'name': 'automl_training_py_20_sid_ba58', 'type': 'Key<Frame>', 'URL': '/3/Frames/automl_training_py_20_sid_ba58'}}, 'validation_frame': {'default': None, 'actual': None}, 'nfolds': {'default': 0, 'actual': 5}, 'keep_cross_validation_models': {'default': True, 'actual': False}, 'keep_cross_validation_predictions': {'default': False, 'actual': True}, 'keep_cross_validation_fold_assignment': {'default': False, 'actual': False}, 'score_each_iteration': {'default': False, 'actual': False}, 'score_tree_interval': {'default': 0, 'actual': 5}, 'fold_assignment': {'default': 'AUTO', 'actual': 'Modulo'}, 'fold_column': {'default': None, 'actual': None}, 'response_column': {'default': None, 'actual': {'__meta': {'schema_version': 3, 'schema_name': 'ColSpecifierV3', 'schema_type': 'VecSpecifier'}, 'column_name': 'ACTION', 'is_member_of_frames': None}}, 'ignored_columns': {'default': None, 'actual': []}, 'ignore_const_cols': {'default': True, 'actual': True}, 'offset_column': {'default': None, 'actual': None}, 'weights_column': {'default': None, 'actual': None}, 'balance_classes': {'default': False, 'actual': False}, 'class_sampling_factors': {'default': None, 'actual': None}, 'max_after_balance_size': {'default': 5.0, 'actual': 5.0}, 'max_confusion_matrix_size': {'default': 20, 'actual': 20}, 'max_hit_ratio_k': {'default': 0, 'actual': 0}, 'ntrees': {'default': 50, 'actual': 61}, 'max_depth': {'default': 5, 'actual': 3}, 'min_rows': {'default': 10.0, 'actual': 100.0}, 'nbins': {'default': 20, 'actual': 20}, 'nbins_top_level': {'default': 1024, 'actual': 1024}, 'nbins_cats': {'default': 1024, 'actual': 1024}, 'r2_stopping': {'default': 1.7976931348623157e+308, 'actual': 1.7976931348623157e+308}, 'stopping_rounds': {'default': 0, 'actual': 0}, 'stopping_metric': {'default': 'AUTO', 'actual': 'logloss'}, 'stopping_tolerance': {'default': 0.001, 'actual': 0.005524187436252161}, 'max_runtime_secs': {'default': 0.0, 'actual': 0.0}, 'seed': {'default': -1, 'actual': 2682454637472563222}, 'build_tree_one_node': {'default': False, 'actual': False}, 'learn_rate': {'default': 0.1, 'actual': 0.5}, 'learn_rate_annealing': {'default': 1.0, 'actual': 1.0}, 'distribution': {'default': 'AUTO', 'actual': 'bernoulli'}, 'quantile_alpha': {'default': 0.5, 'actual': 0.5}, 'tweedie_power': {'default': 1.5, 'actual': 1.5}, 'huber_alpha': {'default': 0.9, 'actual': 0.9}, 'checkpoint': {'default': None, 'actual': None}, 'sample_rate': {'default': 1.0, 'actual': 0.6}, 'sample_rate_per_class': {'default': None, 'actual': None}, 'col_sample_rate': {'default': 1.0, 'actual': 0.7}, 'col_sample_rate_change_per_level': {'default': 1.0, 'actual': 1.0}, 'col_sample_rate_per_tree': {'default': 1.0, 'actual': 0.4}, 'min_split_improvement': {'default': 1e-05, 'actual': 0.0001}, 'histogram_type': {'default': 'AUTO', 'actual': 'AUTO'}, 'max_abs_leafnode_pred': {'default': 1.7976931348623157e+308, 'actual': 1.7976931348623157e+308}, 'pred_noise_bandwidth': {'default': 0.0, 'actual': 0.0}, 'categorical_encoding': {'default': 'AUTO', 'actual': 'AUTO'}, 'calibrate_model': {'default': False, 'actual': False}, 'calibration_frame': {'default': None, 'actual': None}, 'custom_metric_func': {'default': None, 'actual': None}, 'export_checkpoints_dir': {'default': None, 'actual': None}, 'monotone_constraints': {'default': None, 'actual': None}, 'check_constant_response': {'default': True, 'actual': True}}, {'model_id': {'default': None, 'actual': {'__meta': {'schema_version': 3, 'schema_name': 'ModelKeyV3', 'schema_type': 'Key<Model>'}, 'name': 'GBM_grid_1_AutoML_20190416_132510_model_5', 'type': 'Key<Model>', 'URL': '/3/Models/GBM_grid_1_AutoML_20190416_132510_model_5'}}, 'training_frame': {'default': None, 'actual': {'__meta': {'schema_version': 3, 'schema_name': 'FrameKeyV3', 'schema_type': 'Key<Frame>'}, 'name': 'automl_training_py_20_sid_ba58', 'type': 'Key<Frame>', 'URL': '/3/Frames/automl_training_py_20_sid_ba58'}}, 'validation_frame': {'default': None, 'actual': None}, 'nfolds': {'default': 0, 'actual': 5}, 'keep_cross_validation_models': {'default': True, 'actual': False}, 'keep_cross_validation_predictions': {'default': False, 'actual': True}, 'keep_cross_validation_fold_assignment': {'default': False, 'actual': False}, 'score_each_iteration': {'default': False, 'actual': False}, 'score_tree_interval': {'default': 0, 'actual': 5}, 'fold_assignment': {'default': 'AUTO', 'actual': 'Modulo'}, 'fold_column': {'default': None, 'actual': None}, 'response_column': {'default': None, 'actual': {'__meta': {'schema_version': 3, 'schema_name': 'ColSpecifierV3', 'schema_type': 'VecSpecifier'}, 'column_name': 'ACTION', 'is_member_of_frames': None}}, 'ignored_columns': {'default': None, 'actual': []}, 'ignore_const_cols': {'default': True, 'actual': True}, 'offset_column': {'default': None, 'actual': None}, 'weights_column': {'default': None, 'actual': None}, 'balance_classes': {'default': False, 'actual': False}, 'class_sampling_factors': {'default': None, 'actual': None}, 'max_after_balance_size': {'default': 5.0, 'actual': 5.0}, 'max_confusion_matrix_size': {'default': 20, 'actual': 20}, 'max_hit_ratio_k': {'default': 0, 'actual': 0}, 'ntrees': {'default': 50, 'actual': 17}, 'max_depth': {'default': 5, 'actual': 5}, 'min_rows': {'default': 10.0, 'actual': 1.0}, 'nbins': {'default': 20, 'actual': 20}, 'nbins_top_level': {'default': 1024, 'actual': 1024}, 'nbins_cats': {'default': 1024, 'actual': 1024}, 'r2_stopping': {'default': 1.7976931348623157e+308, 'actual': 1.7976931348623157e+308}, 'stopping_rounds': {'default': 0, 'actual': 0}, 'stopping_metric': {'default': 'AUTO', 'actual': 'logloss'}, 'stopping_tolerance': {'default': 0.001, 'actual': 0.005524187436252161}, 'max_runtime_secs': {'default': 0.0, 'actual': 0.0}, 'seed': {'default': -1, 'actual': 928150013705117734}, 'build_tree_one_node': {'default': False, 'actual': False}, 'learn_rate': {'default': 0.1, 'actual': 0.08}, 'learn_rate_annealing': {'default': 1.0, 'actual': 1.0}, 'distribution': {'default': 'AUTO', 'actual': 'bernoulli'}, 'quantile_alpha': {'default': 0.5, 'actual': 0.5}, 'tweedie_power': {'default': 1.5, 'actual': 1.5}, 'huber_alpha': {'default': 0.9, 'actual': 0.9}, 'checkpoint': {'default': None, 'actual': None}, 'sample_rate': {'default': 1.0, 'actual': 1.0}, 'sample_rate_per_class': {'default': None, 'actual': None}, 'col_sample_rate': {'default': 1.0, 'actual': 0.4}, 'col_sample_rate_change_per_level': {'default': 1.0, 'actual': 1.0}, 'col_sample_rate_per_tree': {'default': 1.0, 'actual': 1.0}, 'min_split_improvement': {'default': 1e-05, 'actual': 0.0001}, 'histogram_type': {'default': 'AUTO', 'actual': 'AUTO'}, 'max_abs_leafnode_pred': {'default': 1.7976931348623157e+308, 'actual': 1.7976931348623157e+308}, 'pred_noise_bandwidth': {'default': 0.0, 'actual': 0.0}, 'categorical_encoding': {'default': 'AUTO', 'actual': 'AUTO'}, 'calibrate_model': {'default': False, 'actual': False}, 'calibration_frame': {'default': None, 'actual': None}, 'custom_metric_func': {'default': None, 'actual': None}, 'export_checkpoints_dir': {'default': None, 'actual': None}, 'monotone_constraints': {'default': None, 'actual': None}, 'check_constant_response': {'default': True, 'actual': True}}, {'model_id': {'default': None, 'actual': {'__meta': {'schema_version': 3, 'schema_name': 'ModelKeyV3', 'schema_type': 'Key<Model>'}, 'name': 'DeepLearning_1_AutoML_20190416_132510', 'type': 'Key<Model>', 'URL': '/3/Models/DeepLearning_1_AutoML_20190416_132510'}}, 'training_frame': {'default': None, 'actual': {'__meta': {'schema_version': 3, 'schema_name': 'FrameKeyV3', 'schema_type': 'Key<Frame>'}, 'name': 'automl_training_py_20_sid_ba58', 'type': 'Key<Frame>', 'URL': '/3/Frames/automl_training_py_20_sid_ba58'}}, 'validation_frame': {'default': None, 'actual': None}, 'nfolds': {'default': 0, 'actual': 5}, 'keep_cross_validation_models': {'default': True, 'actual': False}, 'keep_cross_validation_predictions': {'default': False, 'actual': True}, 'keep_cross_validation_fold_assignment': {'default': False, 'actual': False}, 'fold_assignment': {'default': 'AUTO', 'actual': 'Modulo'}, 'fold_column': {'default': None, 'actual': None}, 'response_column': {'default': None, 'actual': {'__meta': {'schema_version': 3, 'schema_name': 'ColSpecifierV3', 'schema_type': 'VecSpecifier'}, 'column_name': 'ACTION', 'is_member_of_frames': None}}, 'ignored_columns': {'default': None, 'actual': []}, 'ignore_const_cols': {'default': True, 'actual': True}, 'score_each_iteration': {'default': False, 'actual': False}, 'weights_column': {'default': None, 'actual': None}, 'offset_column': {'default': None, 'actual': None}, 'balance_classes': {'default': False, 'actual': False}, 'class_sampling_factors': {'default': None, 'actual': None}, 'max_after_balance_size': {'default': 5.0, 'actual': 5.0}, 'max_confusion_matrix_size': {'default': 20, 'actual': 20}, 'max_hit_ratio_k': {'default': 0, 'actual': 0}, 'checkpoint': {'default': None, 'actual': None}, 'pretrained_autoencoder': {'default': None, 'actual': None}, 'overwrite_with_best_model': {'default': True, 'actual': False}, 'use_all_factor_levels': {'default': True, 'actual': True}, 'standardize': {'default': True, 'actual': True}, 'activation': {'default': 'Rectifier', 'actual': 'Rectifier'}, 'hidden': {'default': [200, 200], 'actual': [10, 10, 10]}, 'epochs': {'default': 10.0, 'actual': 10.404055528416894}, 'train_samples_per_iteration': {'default': -2, 'actual': -2}, 'target_ratio_comm_to_comp': {'default': 0.05, 'actual': 0.05}, 'seed': {'default': -1, 'actual': -1990736701440310430}, 'adaptive_rate': {'default': True, 'actual': True}, 'rho': {'default': 0.99, 'actual': 0.99}, 'epsilon': {'default': 1e-08, 'actual': 1e-08}, 'rate': {'default': 0.005, 'actual': 0.005}, 'rate_annealing': {'default': 1e-06, 'actual': 1e-06}, 'rate_decay': {'default': 1.0, 'actual': 1.0}, 'momentum_start': {'default': 0.0, 'actual': 0.0}, 'momentum_ramp': {'default': 1000000.0, 'actual': 1000000.0}, 'momentum_stable': {'default': 0.0, 'actual': 0.0}, 'nesterov_accelerated_gradient': {'default': True, 'actual': True}, 'input_dropout_ratio': {'default': 0.0, 'actual': 0.0}, 'hidden_dropout_ratios': {'default': None, 'actual': None}, 'l1': {'default': 0.0, 'actual': 0.0}, 'l2': {'default': 0.0, 'actual': 0.0}, 'max_w2': {'default': 3.4028235e+38, 'actual': 3.4028235e+38}, 'initial_weight_distribution': {'default': 'UniformAdaptive', 'actual': 'UniformAdaptive'}, 'initial_weight_scale': {'default': 1.0, 'actual': 1.0}, 'initial_weights': {'default': None, 'actual': None}, 'initial_biases': {'default': None, 'actual': None}, 'loss': {'default': 'Automatic', 'actual': 'Automatic'}, 'distribution': {'default': 'AUTO', 'actual': 'AUTO'}, 'quantile_alpha': {'default': 0.5, 'actual': 0.5}, 'tweedie_power': {'default': 1.5, 'actual': 1.5}, 'huber_alpha': {'default': 0.9, 'actual': 0.9}, 'score_interval': {'default': 5.0, 'actual': 5.0}, 'score_training_samples': {'default': 10000, 'actual': 10000}, 'score_validation_samples': {'default': 0, 'actual': 0}, 'score_duty_cycle': {'default': 0.1, 'actual': 0.1}, 'classification_stop': {'default': 0.0, 'actual': 0.0}, 'regression_stop': {'default': 1e-06, 'actual': 1e-06}, 'stopping_rounds': {'default': 5, 'actual': 0}, 'stopping_metric': {'default': 'AUTO', 'actual': 'logloss'}, 'stopping_tolerance': {'default': 0.0, 'actual': 0.005524187436252161}, 'max_runtime_secs': {'default': 0.0, 'actual': 0.0}, 'score_validation_sampling': {'default': 'Uniform', 'actual': 'Uniform'}, 'diagnostics': {'default': True, 'actual': True}, 'fast_mode': {'default': True, 'actual': True}, 'force_load_balance': {'default': True, 'actual': True}, 'variable_importances': {'default': True, 'actual': True}, 'replicate_training_data': {'default': True, 'actual': True}, 'single_node_mode': {'default': False, 'actual': False}, 'shuffle_training_data': {'default': False, 'actual': False}, 'missing_values_handling': {'default': 'MeanImputation', 'actual': 'MeanImputation'}, 'quiet_mode': {'default': False, 'actual': False}, 'autoencoder': {'default': False, 'actual': False}, 'sparse': {'default': False, 'actual': False}, 'col_major': {'default': False, 'actual': False}, 'average_activation': {'default': 0.0, 'actual': 0.0}, 'sparsity_beta': {'default': 0.0, 'actual': 0.0}, 'max_categorical_features': {'default': 2147483647, 'actual': 2147483647}, 'reproducible': {'default': False, 'actual': False}, 'export_weights_and_biases': {'default': False, 'actual': False}, 'mini_batch_size': {'default': 1, 'actual': 1}, 'categorical_encoding': {'default': 'AUTO', 'actual': 'AUTO'}, 'elastic_averaging': {'default': False, 'actual': False}, 'elastic_averaging_moving_rate': {'default': 0.9, 'actual': 0.9}, 'elastic_averaging_regularization': {'default': 0.001, 'actual': 0.001}, 'export_checkpoints_dir': {'default': None, 'actual': None}}, {'model_id': {'default': None, 'actual': {'__meta': {'schema_version': 3, 'schema_name': 'ModelKeyV3', 'schema_type': 'Key<Model>'}, 'name': 'DeepLearning_grid_1_AutoML_20190416_132510_model_2', 'type': 'Key<Model>', 'URL': '/3/Models/DeepLearning_grid_1_AutoML_20190416_132510_model_2'}}, 'training_frame': {'default': None, 'actual': {'__meta': {'schema_version': 3, 'schema_name': 'FrameKeyV3', 'schema_type': 'Key<Frame>'}, 'name': 'automl_training_py_20_sid_ba58', 'type': 'Key<Frame>', 'URL': '/3/Frames/automl_training_py_20_sid_ba58'}}, 'validation_frame': {'default': None, 'actual': None}, 'nfolds': {'default': 0, 'actual': 5}, 'keep_cross_validation_models': {'default': True, 'actual': False}, 'keep_cross_validation_predictions': {'default': False, 'actual': True}, 'keep_cross_validation_fold_assignment': {'default': False, 'actual': False}, 'fold_assignment': {'default': 'AUTO', 'actual': 'Modulo'}, 'fold_column': {'default': None, 'actual': None}, 'response_column': {'default': None, 'actual': {'__meta': {'schema_version': 3, 'schema_name': 'ColSpecifierV3', 'schema_type': 'VecSpecifier'}, 'column_name': 'ACTION', 'is_member_of_frames': None}}, 'ignored_columns': {'default': None, 'actual': []}, 'ignore_const_cols': {'default': True, 'actual': True}, 'score_each_iteration': {'default': False, 'actual': False}, 'weights_column': {'default': None, 'actual': None}, 'offset_column': {'default': None, 'actual': None}, 'balance_classes': {'default': False, 'actual': False}, 'class_sampling_factors': {'default': None, 'actual': None}, 'max_after_balance_size': {'default': 5.0, 'actual': 5.0}, 'max_confusion_matrix_size': {'default': 20, 'actual': 20}, 'max_hit_ratio_k': {'default': 0, 'actual': 0}, 'checkpoint': {'default': None, 'actual': None}, 'pretrained_autoencoder': {'default': None, 'actual': None}, 'overwrite_with_best_model': {'default': True, 'actual': False}, 'use_all_factor_levels': {'default': True, 'actual': True}, 'standardize': {'default': True, 'actual': True}, 'activation': {'default': 'Rectifier', 'actual': 'RectifierWithDropout'}, 'hidden': {'default': [200, 200], 'actual': [50, 50]}, 'epochs': {'default': 10.0, 'actual': 3.057859539647469}, 'train_samples_per_iteration': {'default': -2, 'actual': -2}, 'target_ratio_comm_to_comp': {'default': 0.05, 'actual': 0.05}, 'seed': {'default': -1, 'actual': -947154806626414072}, 'adaptive_rate': {'default': True, 'actual': True}, 'rho': {'default': 0.99, 'actual': 0.9}, 'epsilon': {'default': 1e-08, 'actual': 1e-06}, 'rate': {'default': 0.005, 'actual': 0.005}, 'rate_annealing': {'default': 1e-06, 'actual': 1e-06}, 'rate_decay': {'default': 1.0, 'actual': 1.0}, 'momentum_start': {'default': 0.0, 'actual': 0.0}, 'momentum_ramp': {'default': 1000000.0, 'actual': 1000000.0}, 'momentum_stable': {'default': 0.0, 'actual': 0.0}, 'nesterov_accelerated_gradient': {'default': True, 'actual': True}, 'input_dropout_ratio': {'default': 0.0, 'actual': 0.05}, 'hidden_dropout_ratios': {'default': None, 'actual': [0.1, 0.1]}, 'l1': {'default': 0.0, 'actual': 0.0}, 'l2': {'default': 0.0, 'actual': 0.0}, 'max_w2': {'default': 3.4028235e+38, 'actual': 3.4028235e+38}, 'initial_weight_distribution': {'default': 'UniformAdaptive', 'actual': 'UniformAdaptive'}, 'initial_weight_scale': {'default': 1.0, 'actual': 1.0}, 'initial_weights': {'default': None, 'actual': None}, 'initial_biases': {'default': None, 'actual': None}, 'loss': {'default': 'Automatic', 'actual': 'Automatic'}, 'distribution': {'default': 'AUTO', 'actual': 'AUTO'}, 'quantile_alpha': {'default': 0.5, 'actual': 0.5}, 'tweedie_power': {'default': 1.5, 'actual': 1.5}, 'huber_alpha': {'default': 0.9, 'actual': 0.9}, 'score_interval': {'default': 5.0, 'actual': 5.0}, 'score_training_samples': {'default': 10000, 'actual': 10000}, 'score_validation_samples': {'default': 0, 'actual': 0}, 'score_duty_cycle': {'default': 0.1, 'actual': 0.1}, 'classification_stop': {'default': 0.0, 'actual': 0.0}, 'regression_stop': {'default': 1e-06, 'actual': 1e-06}, 'stopping_rounds': {'default': 5, 'actual': 0}, 'stopping_metric': {'default': 'AUTO', 'actual': 'logloss'}, 'stopping_tolerance': {'default': 0.0, 'actual': 0.005524187436252161}, 'max_runtime_secs': {'default': 0.0, 'actual': 0.0}, 'score_validation_sampling': {'default': 'Uniform', 'actual': 'Uniform'}, 'diagnostics': {'default': True, 'actual': True}, 'fast_mode': {'default': True, 'actual': True}, 'force_load_balance': {'default': True, 'actual': True}, 'variable_importances': {'default': True, 'actual': True}, 'replicate_training_data': {'default': True, 'actual': True}, 'single_node_mode': {'default': False, 'actual': False}, 'shuffle_training_data': {'default': False, 'actual': False}, 'missing_values_handling': {'default': 'MeanImputation', 'actual': 'MeanImputation'}, 'quiet_mode': {'default': False, 'actual': False}, 'autoencoder': {'default': False, 'actual': False}, 'sparse': {'default': False, 'actual': False}, 'col_major': {'default': False, 'actual': False}, 'average_activation': {'default': 0.0, 'actual': 0.0}, 'sparsity_beta': {'default': 0.0, 'actual': 0.0}, 'max_categorical_features': {'default': 2147483647, 'actual': 2147483647}, 'reproducible': {'default': False, 'actual': False}, 'export_weights_and_biases': {'default': False, 'actual': False}, 'mini_batch_size': {'default': 1, 'actual': 1}, 'categorical_encoding': {'default': 'AUTO', 'actual': 'AUTO'}, 'elastic_averaging': {'default': False, 'actual': False}, 'elastic_averaging_moving_rate': {'default': 0.9, 'actual': 0.9}, 'elastic_averaging_regularization': {'default': 0.001, 'actual': 0.001}, 'export_checkpoints_dir': {'default': None, 'actual': None}}, {'model_id': {'default': None, 'actual': {'__meta': {'schema_version': 3, 'schema_name': 'ModelKeyV3', 'schema_type': 'Key<Model>'}, 'name': 'GLM_grid_1_AutoML_20190416_132510_model_1', 'type': 'Key<Model>', 'URL': '/3/Models/GLM_grid_1_AutoML_20190416_132510_model_1'}}, 'training_frame': {'default': None, 'actual': {'__meta': {'schema_version': 3, 'schema_name': 'FrameKeyV3', 'schema_type': 'Key<Frame>'}, 'name': 'automl_training_py_20_sid_ba58', 'type': 'Key<Frame>', 'URL': '/3/Frames/automl_training_py_20_sid_ba58'}}, 'validation_frame': {'default': None, 'actual': None}, 'nfolds': {'default': 0, 'actual': 5}, 'seed': {'default': -1, 'actual': 17660145729587861}, 'keep_cross_validation_models': {'default': True, 'actual': False}, 'keep_cross_validation_predictions': {'default': False, 'actual': True}, 'keep_cross_validation_fold_assignment': {'default': False, 'actual': False}, 'fold_assignment': {'default': 'AUTO', 'actual': 'Modulo'}, 'fold_column': {'default': None, 'actual': None}, 'response_column': {'default': None, 'actual': {'__meta': {'schema_version': 3, 'schema_name': 'ColSpecifierV3', 'schema_type': 'VecSpecifier'}, 'column_name': 'ACTION', 'is_member_of_frames': None}}, 'ignored_columns': {'default': None, 'actual': []}, 'ignore_const_cols': {'default': True, 'actual': True}, 'score_each_iteration': {'default': False, 'actual': False}, 'offset_column': {'default': None, 'actual': None}, 'weights_column': {'default': None, 'actual': None}, 'family': {'default': 'gaussian', 'actual': 'binomial'}, 'tweedie_variance_power': {'default': 0.0, 'actual': 0.0}, 'tweedie_link_power': {'default': 1.0, 'actual': 1.0}, 'theta': {'default': 1e-10, 'actual': 1e-10}, 'solver': {'default': 'AUTO', 'actual': 'COORDINATE_DESCENT'}, 'alpha': {'default': None, 'actual': [0.0, 0.2, 0.4, 0.6, 0.8, 1.0]}, 'lambda': {'default': None, 'actual': [0.40044436071981493, 0.24868273229194082, 0.15443618990917896, 0.09590749037478274, 0.05956017637704195, 0.036987878592192616, 0.022970099250379815, 0.014264820791416522, 0.008858695384516653, 0.005501399916841423, 0.003416462552479351, 0.0021216811264277652, 0.0013175999248032143]}, 'lambda_search': {'default': False, 'actual': True}, 'early_stopping': {'default': True, 'actual': True}, 'nlambdas': {'default': -1, 'actual': 30}, 'standardize': {'default': True, 'actual': True}, 'missing_values_handling': {'default': 'MeanImputation', 'actual': 'MeanImputation'}, 'compute_p_values': {'default': False, 'actual': False}, 'remove_collinear_columns': {'default': False, 'actual': False}, 'intercept': {'default': True, 'actual': True}, 'non_negative': {'default': False, 'actual': False}, 'max_iterations': {'default': -1, 'actual': 300}, 'objective_epsilon': {'default': -1.0, 'actual': 0.0001}, 'beta_epsilon': {'default': 0.0001, 'actual': 0.0001}, 'gradient_epsilon': {'default': -1.0, 'actual': 1.0000000000000002e-06}, 'link': {'default': 'family_default', 'actual': 'logit'}, 'prior': {'default': -1.0, 'actual': -1.0}, 'lambda_min_ratio': {'default': -1.0, 'actual': 1.0000000000000002e-06}, 'beta_constraints': {'default': None, 'actual': None}, 'max_active_predictors': {'default': -1, 'actual': 5000}, 'interactions': {'default': None, 'actual': None}, 'interaction_pairs': {'default': None, 'actual': None}, 'obj_reg': {'default': -1.0, 'actual': 3.0516646830846227e-05}, 'export_checkpoints_dir': {'default': None, 'actual': None}, 'balance_classes': {'default': False, 'actual': False}, 'class_sampling_factors': {'default': None, 'actual': None}, 'max_after_balance_size': {'default': 5.0, 'actual': 5.0}, 'max_confusion_matrix_size': {'default': 20, 'actual': 20}, 'max_hit_ratio_k': {'default': 0, 'actual': 0}, 'max_runtime_secs': {'default': 0.0, 'actual': 0.0}, 'custom_metric_func': {'default': None, 'actual': None}}, {'model_id': {'default': None, 'actual': {'__meta': {'schema_version': 3, 'schema_name': 'ModelKeyV3', 'schema_type': 'Key<Model>'}, 'name': 'DeepLearning_grid_1_AutoML_20190416_132510_model_1', 'type': 'Key<Model>', 'URL': '/3/Models/DeepLearning_grid_1_AutoML_20190416_132510_model_1'}}, 'training_frame': {'default': None, 'actual': {'__meta': {'schema_version': 3, 'schema_name': 'FrameKeyV3', 'schema_type': 'Key<Frame>'}, 'name': 'automl_training_py_20_sid_ba58', 'type': 'Key<Frame>', 'URL': '/3/Frames/automl_training_py_20_sid_ba58'}}, 'validation_frame': {'default': None, 'actual': None}, 'nfolds': {'default': 0, 'actual': 5}, 'keep_cross_validation_models': {'default': True, 'actual': False}, 'keep_cross_validation_predictions': {'default': False, 'actual': True}, 'keep_cross_validation_fold_assignment': {'default': False, 'actual': False}, 'fold_assignment': {'default': 'AUTO', 'actual': 'Modulo'}, 'fold_column': {'default': None, 'actual': None}, 'response_column': {'default': None, 'actual': {'__meta': {'schema_version': 3, 'schema_name': 'ColSpecifierV3', 'schema_type': 'VecSpecifier'}, 'column_name': 'ACTION', 'is_member_of_frames': None}}, 'ignored_columns': {'default': None, 'actual': []}, 'ignore_const_cols': {'default': True, 'actual': True}, 'score_each_iteration': {'default': False, 'actual': False}, 'weights_column': {'default': None, 'actual': None}, 'offset_column': {'default': None, 'actual': None}, 'balance_classes': {'default': False, 'actual': False}, 'class_sampling_factors': {'default': None, 'actual': None}, 'max_after_balance_size': {'default': 5.0, 'actual': 5.0}, 'max_confusion_matrix_size': {'default': 20, 'actual': 20}, 'max_hit_ratio_k': {'default': 0, 'actual': 0}, 'checkpoint': {'default': None, 'actual': None}, 'pretrained_autoencoder': {'default': None, 'actual': None}, 'overwrite_with_best_model': {'default': True, 'actual': False}, 'use_all_factor_levels': {'default': True, 'actual': True}, 'standardize': {'default': True, 'actual': True}, 'activation': {'default': 'Rectifier', 'actual': 'RectifierWithDropout'}, 'hidden': {'default': [200, 200], 'actual': [500]}, 'epochs': {'default': 10.0, 'actual': 3.053190510607718}, 'train_samples_per_iteration': {'default': -2, 'actual': -2}, 'target_ratio_comm_to_comp': {'default': 0.05, 'actual': 0.05}, 'seed': {'default': -1, 'actual': -6876011148096732352}, 'adaptive_rate': {'default': True, 'actual': True}, 'rho': {'default': 0.99, 'actual': 0.95}, 'epsilon': {'default': 1e-08, 'actual': 1e-08}, 'rate': {'default': 0.005, 'actual': 0.005}, 'rate_annealing': {'default': 1e-06, 'actual': 1e-06}, 'rate_decay': {'default': 1.0, 'actual': 1.0}, 'momentum_start': {'default': 0.0, 'actual': 0.0}, 'momentum_ramp': {'default': 1000000.0, 'actual': 1000000.0}, 'momentum_stable': {'default': 0.0, 'actual': 0.0}, 'nesterov_accelerated_gradient': {'default': True, 'actual': True}, 'input_dropout_ratio': {'default': 0.0, 'actual': 0.05}, 'hidden_dropout_ratios': {'default': None, 'actual': [0.4]}, 'l1': {'default': 0.0, 'actual': 0.0}, 'l2': {'default': 0.0, 'actual': 0.0}, 'max_w2': {'default': 3.4028235e+38, 'actual': 3.4028235e+38}, 'initial_weight_distribution': {'default': 'UniformAdaptive', 'actual': 'UniformAdaptive'}, 'initial_weight_scale': {'default': 1.0, 'actual': 1.0}, 'initial_weights': {'default': None, 'actual': None}, 'initial_biases': {'default': None, 'actual': None}, 'loss': {'default': 'Automatic', 'actual': 'Automatic'}, 'distribution': {'default': 'AUTO', 'actual': 'AUTO'}, 'quantile_alpha': {'default': 0.5, 'actual': 0.5}, 'tweedie_power': {'default': 1.5, 'actual': 1.5}, 'huber_alpha': {'default': 0.9, 'actual': 0.9}, 'score_interval': {'default': 5.0, 'actual': 5.0}, 'score_training_samples': {'default': 10000, 'actual': 10000}, 'score_validation_samples': {'default': 0, 'actual': 0}, 'score_duty_cycle': {'default': 0.1, 'actual': 0.1}, 'classification_stop': {'default': 0.0, 'actual': 0.0}, 'regression_stop': {'default': 1e-06, 'actual': 1e-06}, 'stopping_rounds': {'default': 5, 'actual': 0}, 'stopping_metric': {'default': 'AUTO', 'actual': 'logloss'}, 'stopping_tolerance': {'default': 0.0, 'actual': 0.005524187436252161}, 'max_runtime_secs': {'default': 0.0, 'actual': 0.0}, 'score_validation_sampling': {'default': 'Uniform', 'actual': 'Uniform'}, 'diagnostics': {'default': True, 'actual': True}, 'fast_mode': {'default': True, 'actual': True}, 'force_load_balance': {'default': True, 'actual': True}, 'variable_importances': {'default': True, 'actual': True}, 'replicate_training_data': {'default': True, 'actual': True}, 'single_node_mode': {'default': False, 'actual': False}, 'shuffle_training_data': {'default': False, 'actual': False}, 'missing_values_handling': {'default': 'MeanImputation', 'actual': 'MeanImputation'}, 'quiet_mode': {'default': False, 'actual': False}, 'autoencoder': {'default': False, 'actual': False}, 'sparse': {'default': False, 'actual': False}, 'col_major': {'default': False, 'actual': False}, 'average_activation': {'default': 0.0, 'actual': 0.0}, 'sparsity_beta': {'default': 0.0, 'actual': 0.0}, 'max_categorical_features': {'default': 2147483647, 'actual': 2147483647}, 'reproducible': {'default': False, 'actual': False}, 'export_weights_and_biases': {'default': False, 'actual': False}, 'mini_batch_size': {'default': 1, 'actual': 1}, 'categorical_encoding': {'default': 'AUTO', 'actual': 'AUTO'}, 'elastic_averaging': {'default': False, 'actual': False}, 'elastic_averaging_moving_rate': {'default': 0.9, 'actual': 0.9}, 'elastic_averaging_regularization': {'default': 0.001, 'actual': 0.001}, 'export_checkpoints_dir': {'default': None, 'actual': None}}, {'model_id': {'default': None, 'actual': {'__meta': {'schema_version': 3, 'schema_name': 'ModelKeyV3', 'schema_type': 'Key<Model>'}, 'name': 'DeepLearning_grid_1_AutoML_20190416_132510_model_3', 'type': 'Key<Model>', 'URL': '/3/Models/DeepLearning_grid_1_AutoML_20190416_132510_model_3'}}, 'training_frame': {'default': None, 'actual': {'__meta': {'schema_version': 3, 'schema_name': 'FrameKeyV3', 'schema_type': 'Key<Frame>'}, 'name': 'automl_training_py_20_sid_ba58', 'type': 'Key<Frame>', 'URL': '/3/Frames/automl_training_py_20_sid_ba58'}}, 'validation_frame': {'default': None, 'actual': None}, 'nfolds': {'default': 0, 'actual': 5}, 'keep_cross_validation_models': {'default': True, 'actual': False}, 'keep_cross_validation_predictions': {'default': False, 'actual': True}, 'keep_cross_validation_fold_assignment': {'default': False, 'actual': False}, 'fold_assignment': {'default': 'AUTO', 'actual': 'Modulo'}, 'fold_column': {'default': None, 'actual': None}, 'response_column': {'default': None, 'actual': {'__meta': {'schema_version': 3, 'schema_name': 'ColSpecifierV3', 'schema_type': 'VecSpecifier'}, 'column_name': 'ACTION', 'is_member_of_frames': None}}, 'ignored_columns': {'default': None, 'actual': []}, 'ignore_const_cols': {'default': True, 'actual': True}, 'score_each_iteration': {'default': False, 'actual': False}, 'weights_column': {'default': None, 'actual': None}, 'offset_column': {'default': None, 'actual': None}, 'balance_classes': {'default': False, 'actual': False}, 'class_sampling_factors': {'default': None, 'actual': None}, 'max_after_balance_size': {'default': 5.0, 'actual': 5.0}, 'max_confusion_matrix_size': {'default': 20, 'actual': 20}, 'max_hit_ratio_k': {'default': 0, 'actual': 0}, 'checkpoint': {'default': None, 'actual': None}, 'pretrained_autoencoder': {'default': None, 'actual': None}, 'overwrite_with_best_model': {'default': True, 'actual': False}, 'use_all_factor_levels': {'default': True, 'actual': True}, 'standardize': {'default': True, 'actual': True}, 'activation': {'default': 'Rectifier', 'actual': 'RectifierWithDropout'}, 'hidden': {'default': [200, 200], 'actual': [500, 500]}, 'epochs': {'default': 10.0, 'actual': 0.3044951124509649}, 'train_samples_per_iteration': {'default': -2, 'actual': -2}, 'target_ratio_comm_to_comp': {'default': 0.05, 'actual': 0.05}, 'seed': {'default': -1, 'actual': 1065095492538388327}, 'adaptive_rate': {'default': True, 'actual': True}, 'rho': {'default': 0.99, 'actual': 0.9}, 'epsilon': {'default': 1e-08, 'actual': 1e-07}, 'rate': {'default': 0.005, 'actual': 0.005}, 'rate_annealing': {'default': 1e-06, 'actual': 1e-06}, 'rate_decay': {'default': 1.0, 'actual': 1.0}, 'momentum_start': {'default': 0.0, 'actual': 0.0}, 'momentum_ramp': {'default': 1000000.0, 'actual': 1000000.0}, 'momentum_stable': {'default': 0.0, 'actual': 0.0}, 'nesterov_accelerated_gradient': {'default': True, 'actual': True}, 'input_dropout_ratio': {'default': 0.0, 'actual': 0.15}, 'hidden_dropout_ratios': {'default': None, 'actual': [0.5, 0.5]}, 'l1': {'default': 0.0, 'actual': 0.0}, 'l2': {'default': 0.0, 'actual': 0.0}, 'max_w2': {'default': 3.4028235e+38, 'actual': 3.4028235e+38}, 'initial_weight_distribution': {'default': 'UniformAdaptive', 'actual': 'UniformAdaptive'}, 'initial_weight_scale': {'default': 1.0, 'actual': 1.0}, 'initial_weights': {'default': None, 'actual': None}, 'initial_biases': {'default': None, 'actual': None}, 'loss': {'default': 'Automatic', 'actual': 'Automatic'}, 'distribution': {'default': 'AUTO', 'actual': 'AUTO'}, 'quantile_alpha': {'default': 0.5, 'actual': 0.5}, 'tweedie_power': {'default': 1.5, 'actual': 1.5}, 'huber_alpha': {'default': 0.9, 'actual': 0.9}, 'score_interval': {'default': 5.0, 'actual': 5.0}, 'score_training_samples': {'default': 10000, 'actual': 10000}, 'score_validation_samples': {'default': 0, 'actual': 0}, 'score_duty_cycle': {'default': 0.1, 'actual': 0.1}, 'classification_stop': {'default': 0.0, 'actual': 0.0}, 'regression_stop': {'default': 1e-06, 'actual': 1e-06}, 'stopping_rounds': {'default': 5, 'actual': 0}, 'stopping_metric': {'default': 'AUTO', 'actual': 'logloss'}, 'stopping_tolerance': {'default': 0.0, 'actual': 0.005524187436252161}, 'max_runtime_secs': {'default': 0.0, 'actual': 0.0}, 'score_validation_sampling': {'default': 'Uniform', 'actual': 'Uniform'}, 'diagnostics': {'default': True, 'actual': True}, 'fast_mode': {'default': True, 'actual': True}, 'force_load_balance': {'default': True, 'actual': True}, 'variable_importances': {'default': True, 'actual': True}, 'replicate_training_data': {'default': True, 'actual': True}, 'single_node_mode': {'default': False, 'actual': False}, 'shuffle_training_data': {'default': False, 'actual': False}, 'missing_values_handling': {'default': 'MeanImputation', 'actual': 'MeanImputation'}, 'quiet_mode': {'default': False, 'actual': False}, 'autoencoder': {'default': False, 'actual': False}, 'sparse': {'default': False, 'actual': False}, 'col_major': {'default': False, 'actual': False}, 'average_activation': {'default': 0.0, 'actual': 0.0}, 'sparsity_beta': {'default': 0.0, 'actual': 0.0}, 'max_categorical_features': {'default': 2147483647, 'actual': 2147483647}, 'reproducible': {'default': False, 'actual': False}, 'export_weights_and_biases': {'default': False, 'actual': False}, 'mini_batch_size': {'default': 1, 'actual': 1}, 'categorical_encoding': {'default': 'AUTO', 'actual': 'AUTO'}, 'elastic_averaging': {'default': False, 'actual': False}, 'elastic_averaging_moving_rate': {'default': 0.9, 'actual': 0.9}, 'elastic_averaging_regularization': {'default': 0.001, 'actual': 0.001}, 'export_checkpoints_dir': {'default': None, 'actual': None}}]"
     ]
    },
    {
     "name": "stdout",
     "output_type": "stream",
     "text": [
      "\n"
     ]
    }
   ],
   "source": [
    "print(jsonDicts)"
   ]
  },
  {
   "cell_type": "code",
   "execution_count": 155,
   "metadata": {},
   "outputs": [],
   "source": [
    "# def hyperparameter_json(jsonDicts,name):\n",
    "#     i = json.dumps(jsonDicts,indent = 4)\n",
    "#     f = open(run_id + name,'w')\n",
    "#     print(i,file = f)\n",
    "#     f.close()\n",
    "n=run_id+'EmpAccess_500_hy_parameter.json'\n",
    "dict_to_json(jsonDicts,n)"
   ]
  },
  {
   "cell_type": "markdown",
   "metadata": {},
   "source": [
    "### Generating metadata and storing in JSON"
   ]
  },
  {
   "cell_type": "code",
   "execution_count": 156,
   "metadata": {},
   "outputs": [],
   "source": [
    "meta_data['end_time'] = time.time()"
   ]
  },
  {
   "cell_type": "code",
   "execution_count": 189,
   "metadata": {
    "scrolled": true
   },
   "outputs": [
    {
     "data": {
      "text/plain": [
       "{'run_time': 500,\n",
       " 'run_id': 'bFTt3zVrD',\n",
       " 'max_models': None,\n",
       " 'start_time': 1555438316.3416955,\n",
       " 'server_path': 'C:\\\\Users\\\\hp\\\\Desktop\\\\Data Science Hyperparameter Project',\n",
       " 'data_path': 'C:/Users/hp/Desktop/Data Science Hyperparameter Project/Employee_access_data.csv',\n",
       " 'test_path': None,\n",
       " 'scale': False,\n",
       " 'model_path': None,\n",
       " 'balance': False,\n",
       " 'balance_threshold': 0.2,\n",
       " 'project': 'bFTt3zVrD_EmpAccess_500',\n",
       " 'end_time': 1555438316.3416955,\n",
       " 'run_path': 'C:\\\\Users\\\\hp\\\\Desktop\\\\Data Science Hyperparameter Project\\\\bFTt3zVrD',\n",
       " 'nthreads': 1,\n",
       " 'min_mem_size': 2,\n",
       " 'analysis': 0}"
      ]
     },
     "execution_count": 189,
     "metadata": {},
     "output_type": "execute_result"
    }
   ],
   "source": [
    "meta_data"
   ]
  },
  {
   "cell_type": "code",
   "execution_count": 158,
   "metadata": {
    "scrolled": true
   },
   "outputs": [],
   "source": [
    "n=run_id+'EmpAccess_500_meta_data.json'\n",
    "dict_to_json(meta_data,n)"
   ]
  },
  {
   "cell_type": "markdown",
   "metadata": {},
   "source": [
    "#### Shutting down H2O"
   ]
  },
  {
   "cell_type": "code",
   "execution_count": 159,
   "metadata": {},
   "outputs": [],
   "source": [
    "Clean up\n",
    "os.chdir(server_path)"
   ]
  },
  {
   "cell_type": "code",
   "execution_count": 160,
   "metadata": {},
   "outputs": [],
   "source": [
    "h2o.cluster().shutdown()"
   ]
  },
  {
   "cell_type": "markdown",
   "metadata": {},
   "source": [
    "#### Link of data set\n",
    "\n",
    "https://www.kaggle.com/c/amazon-employee-access-challenge/overview"
   ]
  },
  {
   "cell_type": "markdown",
   "metadata": {},
   "source": [
    "# Conclusion"
   ]
  },
  {
   "cell_type": "markdown",
   "metadata": {},
   "source": [
    "# Contribution"
   ]
  },
  {
   "cell_type": "markdown",
   "metadata": {},
   "source": [
    "80: 20\n",
    "\n",
    "Self - 80\n",
    "\n",
    "External - 20\n",
    "\n",
    "Urja - 40\n",
    "\n",
    "Prakruthi - 40"
   ]
  },
  {
   "cell_type": "markdown",
   "metadata": {},
   "source": [
    "# Citation\n",
    "\n",
    "https://github.com/prabhuSub/Hyperparamter-Samples\n",
    "\n",
    "https://github.com/nikbearbrown/CSYE_7245/tree/master/H2O\n",
    "\n"
   ]
  },
  {
   "cell_type": "markdown",
   "metadata": {},
   "source": [
    "# License\n",
    "\n",
    "Copyright (c) 2019 Urja Jain, Prakruthi Bagur Suryanarayanaprasad\n",
    "\n",
    "Permission is hereby granted, free of charge, to any person obtaining a copy of this software and associated documentation files (the \"Software\"), to deal in the Software without restriction, including without limitation the rights to use, copy, modify, merge, publish, distribute, sublicense, and/or sell copies of the Software, and to permit persons to whom the Software is furnished to do so, subject to the following conditions:\n",
    "\n",
    "The above copyright notice and this permission notice shall be included in all copies or substantial portions of the Software.\n",
    "\n",
    "THE SOFTWARE IS PROVIDED \"AS IS\", WITHOUT WARRANTY OF ANY KIND, EXPRESS OR IMPLIED, INCLUDING BUT NOT LIMITED TO THE WARRANTIES OF MERCHANTABILITY, FITNESS FOR A PARTICULAR PURPOSE AND NONINFRINGEMENT. IN NO EVENT SHALL THE AUTHORS OR COPYRIGHT HOLDERS BE LIABLE FOR ANY CLAIM, DAMAGES OR OTHER LIABILITY, WHETHER IN AN ACTION OF CONTRACT, TORT OR OTHERWISE, ARISING FROM, OUT OF OR IN CONNECTION WITH THE SOFTWARE OR THE USE OR OTHER DEALINGS IN THE SOFTWARE."
   ]
  }
 ],
 "metadata": {
  "kernelspec": {
   "display_name": "Python 3",
   "language": "python",
   "name": "python3"
  },
  "language_info": {
   "codemirror_mode": {
    "name": "ipython",
    "version": 3
   },
   "file_extension": ".py",
   "mimetype": "text/x-python",
   "name": "python",
   "nbconvert_exporter": "python",
   "pygments_lexer": "ipython3",
   "version": "3.7.1"
  }
 },
 "nbformat": 4,
 "nbformat_minor": 2
}
